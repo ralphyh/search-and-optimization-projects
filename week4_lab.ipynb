{
 "cells": [
  {
   "cell_type": "code",
   "execution_count": 251,
   "id": "12d95d03-52af-49c3-9d28-e309d8986d7f",
   "metadata": {},
   "outputs": [],
   "source": [
    "import numpy as np\n",
    "from scipy.optimize import bisect, newton, minimize\n",
    "import matplotlib.pyplot as plt\n",
    "import sympy as sp\n",
    "import math"
   ]
  },
  {
   "cell_type": "markdown",
   "id": "60385e7e-348c-4103-b877-5f4f765034d7",
   "metadata": {},
   "source": [
    "### Question 1"
   ]
  },
  {
   "cell_type": "code",
   "execution_count": 253,
   "id": "f5211f69-00b0-4a56-8000-78ec164cbe6b",
   "metadata": {},
   "outputs": [],
   "source": [
    "x = np.linspace(0, 2 , 50)"
   ]
  },
  {
   "cell_type": "code",
   "execution_count": 254,
   "id": "46b5fcad-dbf4-44f8-9cde-4f083a9050fe",
   "metadata": {},
   "outputs": [],
   "source": [
    "def cost_func(x_val):\n",
    "    return x_val**4 + x_val**3 - x_val**2 - 5"
   ]
  },
  {
   "cell_type": "code",
   "execution_count": 255,
   "id": "36ae8377-4b97-45a0-94dd-3cda0ee6aa66",
   "metadata": {},
   "outputs": [
    {
     "data": {
      "image/png": "[encoded data removed]",
      "text/plain": [
       "<Figure size 640x480 with 1 Axes>"
      ]
     },
     "metadata": {},
     "output_type": "display_data"
    }
   ],
   "source": [
    "plt.plot(x, cost_func(x))\n",
    "plt.xlabel(\"x\")\n",
    "plt.ylabel(\"f(x)\")\n",
    "plt.title(\"$f(x)= x^4 + x^3 - x^2 - 5$\")\n",
    "plt.grid()\n",
    "plt.show()"
   ]
  },
  {
   "cell_type": "markdown",
   "id": "fee3acd3-83ad-44cc-9176-4d3bd1097a41",
   "metadata": {},
   "source": [
    "### Using the Bisection algorithm"
   ]
  },
  {
   "cell_type": "code",
   "execution_count": 257,
   "id": "8db9754e-780a-4cc6-b4a9-45742d2cb507",
   "metadata": {},
   "outputs": [
    {
     "data": {
      "text/plain": [
       "1.4259134167095908"
      ]
     },
     "execution_count": 257,
     "metadata": {},
     "output_type": "execute_result"
    }
   ],
   "source": [
    "bisect(cost_func, 0, 2)"
   ]
  },
  {
   "cell_type": "markdown",
   "id": "564b20fd-ea44-48d0-b4da-f9796233ab93",
   "metadata": {},
   "source": [
    "### Using the Newton algorithm"
   ]
  },
  {
   "cell_type": "code",
   "execution_count": 259,
   "id": "d465f568-92cf-499d-abbd-e904677734fc",
   "metadata": {},
   "outputs": [
    {
     "data": {
      "text/plain": [
       "1.4259134167081748"
      ]
     },
     "execution_count": 259,
     "metadata": {},
     "output_type": "execute_result"
    }
   ],
   "source": [
    "newton(cost_func, 2)"
   ]
  },
  {
   "cell_type": "markdown",
   "id": "b7e3ab74-50cd-4db2-be42-929b6a1f1ec6",
   "metadata": {},
   "source": [
    "### Question 2"
   ]
  },
  {
   "cell_type": "markdown",
   "id": "d85b6f5d-4f3c-4a11-ac49-7586ca9eb9dd",
   "metadata": {},
   "source": [
    "### Bisection Algorithm from Scratch"
   ]
  },
  {
   "cell_type": "code",
   "execution_count": 262,
   "id": "b6e389d4-9233-4ffd-8832-8181c9405136",
   "metadata": {},
   "outputs": [],
   "source": [
    "def bisec_opt(a, b):\n",
    "    minimum = 0.0001\n",
    "    while b - a > minimum:\n",
    "        alpha = (a + b) / 2\n",
    "        y_alpha = cost_func(alpha)\n",
    "        if y_alpha > 0:\n",
    "            b = alpha\n",
    "        elif y_alpha < 0:\n",
    "            a = alpha\n",
    "        else:\n",
    "            return alpha\n",
    "    # Return the mean of the two\n",
    "    return (a + b) / 2"
   ]
  },
  {
   "cell_type": "code",
   "execution_count": 263,
   "id": "2071fb5d-78d3-414c-9273-4031096dd3c0",
   "metadata": {},
   "outputs": [
    {
     "data": {
      "text/plain": [
       "1.4259185791015625"
      ]
     },
     "execution_count": 263,
     "metadata": {},
     "output_type": "execute_result"
    }
   ],
   "source": [
    "bound_a = -1\n",
    "bound_b = 2\n",
    "bisec_opt(bound_a, bound_b)"
   ]
  },
  {
   "cell_type": "markdown",
   "id": "3975732f-28c6-4ad0-9aa9-12f0fb6aa44b",
   "metadata": {},
   "source": [
    "### Question 3"
   ]
  },
  {
   "cell_type": "markdown",
   "id": "5125a939-2705-4167-9ada-85a6a3f3b045",
   "metadata": {},
   "source": [
    "### Newton-Raphson algorithm from Scratch"
   ]
  },
  {
   "cell_type": "code",
   "execution_count": 266,
   "id": "f093fc4d-a5f3-4fa4-aa8f-d15cb6384fb8",
   "metadata": {},
   "outputs": [],
   "source": [
    "def get_value(function, x):\n",
    "    return function(x)\n",
    "\n",
    "def newton_raphson(function, i):\n",
    "    minimum = 0.0001\n",
    "    f_prime = sp.diff(function, x)\n",
    "    i_next = 0\n",
    "    while True:\n",
    "        y_val = get_value(lambda x_val: function.subs(x, x_val), i)\n",
    "        f_prime_val = get_value(lambda x_val: f_prime.subs(x, x_val), i)\n",
    "        i_next = i - (y_val / f_prime_val)\n",
    "        if abs(i - i_next) < minimum:\n",
    "            break\n",
    "        else:\n",
    "            i = i_next\n",
    "    \n",
    "    return float(i_next)"
   ]
  },
  {
   "cell_type": "code",
   "execution_count": 267,
   "id": "a88ce7da-55bb-4dae-92f7-f72f747654e8",
   "metadata": {},
   "outputs": [
    {
     "data": {
      "text/plain": [
       "1.425913416709838"
      ]
     },
     "execution_count": 267,
     "metadata": {},
     "output_type": "execute_result"
    }
   ],
   "source": [
    "x = sp.symbols('x')\n",
    "# cost_function = -x ** 3 + 4 * x ** 2 - 3 * x + 5 Struggles with complex function like this\n",
    "cost_function = x**4 + x**3 + - x**2 - 5\n",
    "guess_point = 2\n",
    "newton_raphson(cost_function, guess_point)"
   ]
  },
  {
   "cell_type": "markdown",
   "id": "3d6b451f-0961-4edf-9639-2cce9b1d5d9f",
   "metadata": {},
   "source": [
    "### Question 4"
   ]
  },
  {
   "cell_type": "code",
   "execution_count": 269,
   "id": "cea320ff-395a-43a3-8b99-fe16ce2b86bd",
   "metadata": {},
   "outputs": [],
   "source": [
    "x = np.linspace(-2, 2 , 50)\n",
    "\n",
    "def cost_func(x_val):\n",
    "    return -x_val**3 + 4*x_val**2 - 3*x_val + 5"
   ]
  },
  {
   "cell_type": "code",
   "execution_count": 270,
   "id": "434777f3-609b-451c-bca4-5e65c86ea524",
   "metadata": {},
   "outputs": [
    {
     "data": {
      "image/png": "[encoded data removed]",
      "text/plain": [
       "<Figure size 640x480 with 1 Axes>"
      ]
     },
     "metadata": {},
     "output_type": "display_data"
    }
   ],
   "source": [
    "plt.plot(x, cost_func(x))\n",
    "plt.xlabel(\"x\")\n",
    "plt.ylabel(\"f(x)\")\n",
    "plt.title(\"$f(x)= -x^3 + 4x^2 - 3x + 5$\")\n",
    "plt.grid()\n",
    "plt.show()"
   ]
  },
  {
   "cell_type": "markdown",
   "id": "32ca55d2-fcea-47b7-85de-f8463630eeba",
   "metadata": {},
   "source": [
    "### Using Scipy Optimize function 'minimize'"
   ]
  },
  {
   "cell_type": "code",
   "execution_count": 288,
   "id": "d522ba82-8b80-4cff-866b-234246757b3a",
   "metadata": {},
   "outputs": [
    {
     "data": {
      "text/plain": [
       "0.4514172516938504"
      ]
     },
     "execution_count": 288,
     "metadata": {},
     "output_type": "execute_result"
    }
   ],
   "source": [
    "minimize(cost_func, 2).x[0]"
   ]
  },
  {
   "cell_type": "markdown",
   "id": "0d72a9fa-e33a-45b5-9236-553606940c0b",
   "metadata": {},
   "source": [
    "### Golden Section algorithm from Scratch"
   ]
  },
  {
   "cell_type": "code",
   "execution_count": 284,
   "id": "bcfbb456-3b8a-489a-9e7a-9bba43934e5c",
   "metadata": {},
   "outputs": [],
   "source": [
    "def golden_section(a, b):\n",
    "    minimum = 0.0001\n",
    "    # Calculate the golden ratio\n",
    "    golden_ratio = (math.sqrt(5) - 1) / 2\n",
    "    while b - a > minimum:\n",
    "        c = golden_ratio * (b - a)\n",
    "        x1 = a + c\n",
    "        x2 = b - c\n",
    "        if cost_func(x1) > cost_func(x2):\n",
    "            b = x1\n",
    "        elif cost_func(x1) < cost_func(x2):\n",
    "            a = x2\n",
    "        else:\n",
    "            return x1\n",
    "    # Return the mean of the two\n",
    "    return (a + b) / 2"
   ]
  },
  {
   "cell_type": "code",
   "execution_count": 286,
   "id": "c59017ee-6a8a-46a0-8ba9-a428de3d2cc7",
   "metadata": {},
   "outputs": [
    {
     "data": {
      "text/plain": [
       "0.45143801695435315"
      ]
     },
     "execution_count": 286,
     "metadata": {},
     "output_type": "execute_result"
    }
   ],
   "source": [
    "bound_a = -1\n",
    "bound_b = 2\n",
    "golden_section(bound_a, bound_b)"
   ]
  },
  {
   "cell_type": "markdown",
   "id": "c68b77a0-5538-485e-83bf-a3039d3528ab",
   "metadata": {},
   "source": [
    "### Bisection Algorithm"
   ]
  },
  {
   "cell_type": "code",
   "execution_count": 299,
   "id": "a2337968-064c-41fe-9505-ebce1f335101",
   "metadata": {},
   "outputs": [],
   "source": [
    "def bisec_opt(a, b):\n",
    "    minimum = 0.0001\n",
    "    delta = 0.01\n",
    "    while b - a > minimum:\n",
    "        print(f\"current a: {a}------- current b: {b}\")\n",
    "        alpha = (a + b) / 2\n",
    "        alpha_gradient = (cost_func(alpha + delta) - cost_func(alpha - delta)) / 2 * delta\n",
    "        a_gradient = (cost_func(a + delta) - cost_func(a - delta)) / 2 * delta\n",
    "        print(f\"alpha_gradient: {alpha_gradient}------- a_gradient: {a_gradient}\")\n",
    "        if alpha_gradient * a_gradient < 0:\n",
    "            b = alpha\n",
    "        elif alpha_gradient * a_gradient > 0:\n",
    "            a = alpha\n",
    "        else:\n",
    "            return alpha\n",
    "    # Return the mean of the two\n",
    "    return (a + b) / 2"
   ]
  },
  {
   "cell_type": "code",
   "execution_count": 301,
   "id": "95447284-4d0b-4fd1-8450-de92776dcfa7",
   "metadata": {},
   "outputs": [
    {
     "name": "stdout",
     "output_type": "stream",
     "text": [
      "current a: -1------- current b: 2\n",
      "alpha_gradient: 2.498999999999807e-05------- a_gradient: -0.0014000099999999982\n",
      "current a: -1------- current b: 0.5\n",
      "alpha_gradient: -0.0005187600000000004------- a_gradient: -0.0014000099999999982\n",
      "current a: -0.25------- current b: 0.5\n",
      "alpha_gradient: -0.00020469749999999732------- a_gradient: -0.0005187600000000004\n",
      "current a: 0.125------- current b: 0.5\n",
      "alpha_gradient: -7.93068749999959e-05------- a_gradient: -0.00020469749999999732\n",
      "current a: 0.3125------- current b: 0.5\n",
      "alpha_gradient: -2.4521718749999088e-05------- a_gradient: -7.93068749999959e-05\n",
      "current a: 0.40625------- current b: 0.5\n",
      "alpha_gradient: 8.933203125005562e-07------- a_gradient: -2.4521718749999088e-05\n",
      "current a: 0.40625------- current b: 0.453125\n",
      "alpha_gradient: -1.164940429687622e-05------- a_gradient: -2.4521718749999088e-05\n",
      "current a: 0.4296875------- current b: 0.453125\n",
      "alpha_gradient: -5.336843261720681e-06------- a_gradient: -1.164940429687622e-05\n",
      "current a: 0.44140625------- current b: 0.453125\n",
      "alpha_gradient: -2.2114617919921643e-06------- a_gradient: -5.336843261720681e-06\n",
      "current a: 0.447265625------- current b: 0.453125\n",
      "alpha_gradient: -6.564958190891091e-07------- a_gradient: -2.2114617919921643e-06\n",
      "current a: 0.4501953125------- current b: 0.453125\n",
      "alpha_gradient: 1.19055976868232e-07------- a_gradient: -6.564958190891091e-07\n",
      "current a: 0.4501953125------- current b: 0.45166015625\n",
      "alpha_gradient: -2.685589885720319e-07------- a_gradient: -6.564958190891091e-07\n",
      "current a: 0.450927734375------- current b: 0.45166015625\n",
      "alpha_gradient: -7.471127271507782e-08------- a_gradient: -2.685589885720319e-07\n",
      "current a: 0.4512939453125------- current b: 0.45166015625\n",
      "alpha_gradient: 2.2182410361892836e-08------- a_gradient: -7.471127271507782e-08\n",
      "current a: 0.4512939453125------- current b: 0.45147705078125\n",
      "alpha_gradient: -2.626191661025956e-08------- a_gradient: -7.471127271507782e-08\n"
     ]
    },
    {
     "data": {
      "text/plain": [
       "0.4514312744140625"
      ]
     },
     "execution_count": 301,
     "metadata": {},
     "output_type": "execute_result"
    }
   ],
   "source": [
    "bound_a = -1\n",
    "bound_b = 2\n",
    "bisec_opt(bound_a, bound_b)"
   ]
  },
  {
   "cell_type": "markdown",
   "id": "a2fd9618-9869-44ce-b541-c8294f21be68",
   "metadata": {},
   "source": [
    "### Newton-Raphson algorithm"
   ]
  },
  {
   "cell_type": "code",
   "execution_count": 303,
   "id": "036370c2-d823-4909-9e9e-77030752acc3",
   "metadata": {},
   "outputs": [
    {
     "ename": "KeyboardInterrupt",
     "evalue": "",
     "output_type": "error",
     "traceback": [
      "\u001b[0;31m---------------------------------------------------------------------------\u001b[0m",
      "\u001b[0;31mKeyboardInterrupt\u001b[0m                         Traceback (most recent call last)",
      "\u001b[0;32m/var/folders/3m/7yx097tn2wz5t7h3fbj4dj_00000gn/T/ipykernel_91483/2935050387.py\u001b[0m in \u001b[0;36m<module>\u001b[0;34m\u001b[0m\n\u001b[1;32m      3\u001b[0m \u001b[0mcost_function\u001b[0m \u001b[0;34m=\u001b[0m \u001b[0;34m-\u001b[0m\u001b[0mx\u001b[0m\u001b[0;34m**\u001b[0m\u001b[0;36m3\u001b[0m \u001b[0;34m+\u001b[0m \u001b[0;36m4\u001b[0m\u001b[0;34m*\u001b[0m\u001b[0mx\u001b[0m\u001b[0;34m**\u001b[0m\u001b[0;36m2\u001b[0m \u001b[0;34m-\u001b[0m \u001b[0;36m3\u001b[0m\u001b[0;34m*\u001b[0m\u001b[0mx\u001b[0m \u001b[0;34m+\u001b[0m \u001b[0;36m5\u001b[0m\u001b[0;34m\u001b[0m\u001b[0;34m\u001b[0m\u001b[0m\n\u001b[1;32m      4\u001b[0m \u001b[0mguess_point\u001b[0m \u001b[0;34m=\u001b[0m \u001b[0;36m2\u001b[0m\u001b[0;34m\u001b[0m\u001b[0;34m\u001b[0m\u001b[0m\n\u001b[0;32m----> 5\u001b[0;31m \u001b[0mnewton_raphson\u001b[0m\u001b[0;34m(\u001b[0m\u001b[0mcost_function\u001b[0m\u001b[0;34m,\u001b[0m \u001b[0mguess_point\u001b[0m\u001b[0;34m)\u001b[0m\u001b[0;34m\u001b[0m\u001b[0;34m\u001b[0m\u001b[0m\n\u001b[0m",
      "\u001b[0;32m/var/folders/3m/7yx097tn2wz5t7h3fbj4dj_00000gn/T/ipykernel_91483/3191294736.py\u001b[0m in \u001b[0;36mnewton_raphson\u001b[0;34m(function, i)\u001b[0m\n\u001b[1;32m      9\u001b[0m         \u001b[0my_val\u001b[0m \u001b[0;34m=\u001b[0m \u001b[0mget_value\u001b[0m\u001b[0;34m(\u001b[0m\u001b[0;32mlambda\u001b[0m \u001b[0mx_val\u001b[0m\u001b[0;34m:\u001b[0m \u001b[0mfunction\u001b[0m\u001b[0;34m.\u001b[0m\u001b[0msubs\u001b[0m\u001b[0;34m(\u001b[0m\u001b[0mx\u001b[0m\u001b[0;34m,\u001b[0m \u001b[0mx_val\u001b[0m\u001b[0;34m)\u001b[0m\u001b[0;34m,\u001b[0m \u001b[0mi\u001b[0m\u001b[0;34m)\u001b[0m\u001b[0;34m\u001b[0m\u001b[0;34m\u001b[0m\u001b[0m\n\u001b[1;32m     10\u001b[0m         \u001b[0mf_prime_val\u001b[0m \u001b[0;34m=\u001b[0m \u001b[0mget_value\u001b[0m\u001b[0;34m(\u001b[0m\u001b[0;32mlambda\u001b[0m \u001b[0mx_val\u001b[0m\u001b[0;34m:\u001b[0m \u001b[0mf_prime\u001b[0m\u001b[0;34m.\u001b[0m\u001b[0msubs\u001b[0m\u001b[0;34m(\u001b[0m\u001b[0mx\u001b[0m\u001b[0;34m,\u001b[0m \u001b[0mx_val\u001b[0m\u001b[0;34m)\u001b[0m\u001b[0;34m,\u001b[0m \u001b[0mi\u001b[0m\u001b[0;34m)\u001b[0m\u001b[0;34m\u001b[0m\u001b[0;34m\u001b[0m\u001b[0m\n\u001b[0;32m---> 11\u001b[0;31m         \u001b[0mi_next\u001b[0m \u001b[0;34m=\u001b[0m \u001b[0mi\u001b[0m \u001b[0;34m-\u001b[0m \u001b[0;34m(\u001b[0m\u001b[0my_val\u001b[0m \u001b[0;34m/\u001b[0m \u001b[0mf_prime_val\u001b[0m\u001b[0;34m)\u001b[0m\u001b[0;34m\u001b[0m\u001b[0;34m\u001b[0m\u001b[0m\n\u001b[0m\u001b[1;32m     12\u001b[0m         \u001b[0;32mif\u001b[0m \u001b[0mabs\u001b[0m\u001b[0;34m(\u001b[0m\u001b[0mi\u001b[0m \u001b[0;34m-\u001b[0m \u001b[0mi_next\u001b[0m\u001b[0;34m)\u001b[0m \u001b[0;34m<\u001b[0m \u001b[0mminimum\u001b[0m\u001b[0;34m:\u001b[0m\u001b[0;34m\u001b[0m\u001b[0;34m\u001b[0m\u001b[0m\n\u001b[1;32m     13\u001b[0m             \u001b[0;32mbreak\u001b[0m\u001b[0;34m\u001b[0m\u001b[0;34m\u001b[0m\u001b[0m\n",
      "\u001b[0;32m~/opt/anaconda3/lib/python3.9/site-packages/sympy/core/decorators.py\u001b[0m in \u001b[0;36m__sympifyit_wrapper\u001b[0;34m(a, b)\u001b[0m\n\u001b[1;32m     63\u001b[0m                 \u001b[0;32mif\u001b[0m \u001b[0;32mnot\u001b[0m \u001b[0mhasattr\u001b[0m\u001b[0;34m(\u001b[0m\u001b[0mb\u001b[0m\u001b[0;34m,\u001b[0m \u001b[0;34m'_op_priority'\u001b[0m\u001b[0;34m)\u001b[0m\u001b[0;34m:\u001b[0m\u001b[0;34m\u001b[0m\u001b[0;34m\u001b[0m\u001b[0m\n\u001b[1;32m     64\u001b[0m                     \u001b[0mb\u001b[0m \u001b[0;34m=\u001b[0m \u001b[0msympify\u001b[0m\u001b[0;34m(\u001b[0m\u001b[0mb\u001b[0m\u001b[0;34m,\u001b[0m \u001b[0mstrict\u001b[0m\u001b[0;34m=\u001b[0m\u001b[0;32mTrue\u001b[0m\u001b[0;34m)\u001b[0m\u001b[0;34m\u001b[0m\u001b[0;34m\u001b[0m\u001b[0m\n\u001b[0;32m---> 65\u001b[0;31m                 \u001b[0;32mreturn\u001b[0m \u001b[0mfunc\u001b[0m\u001b[0;34m(\u001b[0m\u001b[0ma\u001b[0m\u001b[0;34m,\u001b[0m \u001b[0mb\u001b[0m\u001b[0;34m)\u001b[0m\u001b[0;34m\u001b[0m\u001b[0;34m\u001b[0m\u001b[0m\n\u001b[0m\u001b[1;32m     66\u001b[0m             \u001b[0;32mexcept\u001b[0m \u001b[0mSympifyError\u001b[0m\u001b[0;34m:\u001b[0m\u001b[0;34m\u001b[0m\u001b[0;34m\u001b[0m\u001b[0m\n\u001b[1;32m     67\u001b[0m                 \u001b[0;32mreturn\u001b[0m \u001b[0mretval\u001b[0m\u001b[0;34m\u001b[0m\u001b[0;34m\u001b[0m\u001b[0m\n",
      "\u001b[0;32m~/opt/anaconda3/lib/python3.9/site-packages/sympy/core/numbers.py\u001b[0m in \u001b[0;36m__truediv__\u001b[0;34m(self, other)\u001b[0m\n\u001b[1;32m   1479\u001b[0m                     \u001b[0;32mreturn\u001b[0m \u001b[0mRational\u001b[0m\u001b[0;34m(\u001b[0m\u001b[0mself\u001b[0m\u001b[0;34m.\u001b[0m\u001b[0mp\u001b[0m\u001b[0;34m,\u001b[0m \u001b[0mself\u001b[0m\u001b[0;34m.\u001b[0m\u001b[0mq\u001b[0m\u001b[0;34m*\u001b[0m\u001b[0mother\u001b[0m\u001b[0;34m.\u001b[0m\u001b[0mp\u001b[0m\u001b[0;34m,\u001b[0m \u001b[0migcd\u001b[0m\u001b[0;34m(\u001b[0m\u001b[0mself\u001b[0m\u001b[0;34m.\u001b[0m\u001b[0mp\u001b[0m\u001b[0;34m,\u001b[0m \u001b[0mother\u001b[0m\u001b[0;34m.\u001b[0m\u001b[0mp\u001b[0m\u001b[0;34m)\u001b[0m\u001b[0;34m)\u001b[0m\u001b[0;34m\u001b[0m\u001b[0;34m\u001b[0m\u001b[0m\n\u001b[1;32m   1480\u001b[0m             \u001b[0;32melif\u001b[0m \u001b[0misinstance\u001b[0m\u001b[0;34m(\u001b[0m\u001b[0mother\u001b[0m\u001b[0;34m,\u001b[0m \u001b[0mRational\u001b[0m\u001b[0;34m)\u001b[0m\u001b[0;34m:\u001b[0m\u001b[0;34m\u001b[0m\u001b[0;34m\u001b[0m\u001b[0m\n\u001b[0;32m-> 1481\u001b[0;31m                 \u001b[0;32mreturn\u001b[0m \u001b[0mRational\u001b[0m\u001b[0;34m(\u001b[0m\u001b[0mself\u001b[0m\u001b[0;34m.\u001b[0m\u001b[0mp\u001b[0m\u001b[0;34m*\u001b[0m\u001b[0mother\u001b[0m\u001b[0;34m.\u001b[0m\u001b[0mq\u001b[0m\u001b[0;34m,\u001b[0m \u001b[0mself\u001b[0m\u001b[0;34m.\u001b[0m\u001b[0mq\u001b[0m\u001b[0;34m*\u001b[0m\u001b[0mother\u001b[0m\u001b[0;34m.\u001b[0m\u001b[0mp\u001b[0m\u001b[0;34m,\u001b[0m \u001b[0migcd\u001b[0m\u001b[0;34m(\u001b[0m\u001b[0mself\u001b[0m\u001b[0;34m.\u001b[0m\u001b[0mp\u001b[0m\u001b[0;34m,\u001b[0m \u001b[0mother\u001b[0m\u001b[0;34m.\u001b[0m\u001b[0mp\u001b[0m\u001b[0;34m)\u001b[0m\u001b[0;34m*\u001b[0m\u001b[0migcd\u001b[0m\u001b[0;34m(\u001b[0m\u001b[0mself\u001b[0m\u001b[0;34m.\u001b[0m\u001b[0mq\u001b[0m\u001b[0;34m,\u001b[0m \u001b[0mother\u001b[0m\u001b[0;34m.\u001b[0m\u001b[0mq\u001b[0m\u001b[0;34m)\u001b[0m\u001b[0;34m)\u001b[0m\u001b[0;34m\u001b[0m\u001b[0;34m\u001b[0m\u001b[0m\n\u001b[0m\u001b[1;32m   1482\u001b[0m             \u001b[0;32melif\u001b[0m \u001b[0misinstance\u001b[0m\u001b[0;34m(\u001b[0m\u001b[0mother\u001b[0m\u001b[0;34m,\u001b[0m \u001b[0mFloat\u001b[0m\u001b[0;34m)\u001b[0m\u001b[0;34m:\u001b[0m\u001b[0;34m\u001b[0m\u001b[0;34m\u001b[0m\u001b[0m\n\u001b[1;32m   1483\u001b[0m                 \u001b[0;32mreturn\u001b[0m \u001b[0mself\u001b[0m\u001b[0;34m*\u001b[0m\u001b[0;34m(\u001b[0m\u001b[0;36m1\u001b[0m\u001b[0;34m/\u001b[0m\u001b[0mother\u001b[0m\u001b[0;34m)\u001b[0m\u001b[0;34m\u001b[0m\u001b[0;34m\u001b[0m\u001b[0m\n",
      "\u001b[0;32m~/opt/anaconda3/lib/python3.9/site-packages/sympy/core/cache.py\u001b[0m in \u001b[0;36mwrapper\u001b[0;34m(*args, **kwargs)\u001b[0m\n\u001b[1;32m     70\u001b[0m         \u001b[0;32mdef\u001b[0m \u001b[0mwrapper\u001b[0m\u001b[0;34m(\u001b[0m\u001b[0;34m*\u001b[0m\u001b[0margs\u001b[0m\u001b[0;34m,\u001b[0m \u001b[0;34m**\u001b[0m\u001b[0mkwargs\u001b[0m\u001b[0;34m)\u001b[0m\u001b[0;34m:\u001b[0m\u001b[0;34m\u001b[0m\u001b[0;34m\u001b[0m\u001b[0m\n\u001b[1;32m     71\u001b[0m             \u001b[0;32mtry\u001b[0m\u001b[0;34m:\u001b[0m\u001b[0;34m\u001b[0m\u001b[0;34m\u001b[0m\u001b[0m\n\u001b[0;32m---> 72\u001b[0;31m                 \u001b[0mretval\u001b[0m \u001b[0;34m=\u001b[0m \u001b[0mcfunc\u001b[0m\u001b[0;34m(\u001b[0m\u001b[0;34m*\u001b[0m\u001b[0margs\u001b[0m\u001b[0;34m,\u001b[0m \u001b[0;34m**\u001b[0m\u001b[0mkwargs\u001b[0m\u001b[0;34m)\u001b[0m\u001b[0;34m\u001b[0m\u001b[0;34m\u001b[0m\u001b[0m\n\u001b[0m\u001b[1;32m     73\u001b[0m             \u001b[0;32mexcept\u001b[0m \u001b[0mTypeError\u001b[0m \u001b[0;32mas\u001b[0m \u001b[0me\u001b[0m\u001b[0;34m:\u001b[0m\u001b[0;34m\u001b[0m\u001b[0;34m\u001b[0m\u001b[0m\n\u001b[1;32m     74\u001b[0m                 \u001b[0;32mif\u001b[0m \u001b[0;32mnot\u001b[0m \u001b[0me\u001b[0m\u001b[0;34m.\u001b[0m\u001b[0margs\u001b[0m \u001b[0;32mor\u001b[0m \u001b[0;32mnot\u001b[0m \u001b[0me\u001b[0m\u001b[0;34m.\u001b[0m\u001b[0margs\u001b[0m\u001b[0;34m[\u001b[0m\u001b[0;36m0\u001b[0m\u001b[0;34m]\u001b[0m\u001b[0;34m.\u001b[0m\u001b[0mstartswith\u001b[0m\u001b[0;34m(\u001b[0m\u001b[0;34m'unhashable type:'\u001b[0m\u001b[0;34m)\u001b[0m\u001b[0;34m:\u001b[0m\u001b[0;34m\u001b[0m\u001b[0;34m\u001b[0m\u001b[0m\n",
      "\u001b[0;32m~/opt/anaconda3/lib/python3.9/site-packages/sympy/core/numbers.py\u001b[0m in \u001b[0;36m__new__\u001b[0;34m(cls, p, q, gcd)\u001b[0m\n\u001b[1;32m   1375\u001b[0m             \u001b[0mgcd\u001b[0m \u001b[0;34m=\u001b[0m \u001b[0migcd\u001b[0m\u001b[0;34m(\u001b[0m\u001b[0mabs\u001b[0m\u001b[0;34m(\u001b[0m\u001b[0mp\u001b[0m\u001b[0;34m)\u001b[0m\u001b[0;34m,\u001b[0m \u001b[0mq\u001b[0m\u001b[0;34m)\u001b[0m\u001b[0;34m\u001b[0m\u001b[0;34m\u001b[0m\u001b[0m\n\u001b[1;32m   1376\u001b[0m         \u001b[0;32mif\u001b[0m \u001b[0mgcd\u001b[0m \u001b[0;34m>\u001b[0m \u001b[0;36m1\u001b[0m\u001b[0;34m:\u001b[0m\u001b[0;34m\u001b[0m\u001b[0;34m\u001b[0m\u001b[0m\n\u001b[0;32m-> 1377\u001b[0;31m             \u001b[0mp\u001b[0m \u001b[0;34m//=\u001b[0m \u001b[0mgcd\u001b[0m\u001b[0;34m\u001b[0m\u001b[0;34m\u001b[0m\u001b[0m\n\u001b[0m\u001b[1;32m   1378\u001b[0m             \u001b[0mq\u001b[0m \u001b[0;34m//=\u001b[0m \u001b[0mgcd\u001b[0m\u001b[0;34m\u001b[0m\u001b[0;34m\u001b[0m\u001b[0m\n\u001b[1;32m   1379\u001b[0m         \u001b[0;32mif\u001b[0m \u001b[0mq\u001b[0m \u001b[0;34m==\u001b[0m \u001b[0;36m1\u001b[0m\u001b[0;34m:\u001b[0m\u001b[0;34m\u001b[0m\u001b[0;34m\u001b[0m\u001b[0m\n",
      "\u001b[0;31mKeyboardInterrupt\u001b[0m: "
     ]
    }
   ],
   "source": [
    "x = sp.symbols('x')\n",
    "cost_function = -x**3 + 4*x**2 - 3*x + 5\n",
    "guess_point = 2\n",
    "newton_raphson(cost_function, guess_point)"
   ]
  },
  {
   "cell_type": "code",
   "execution_count": null,
   "id": "a8eed488-7b73-4884-ade0-e272e5ef6638",
   "metadata": {},
   "outputs": [],
   "source": []
  }
 ],
 "metadata": {
  "kernelspec": {
   "display_name": "base",
   "language": "python",
   "name": "base"
  },
  "language_info": {
   "codemirror_mode": {
    "name": "ipython",
    "version": 3
   },
   "file_extension": ".py",
   "mimetype": "text/x-python",
   "name": "python",
   "nbconvert_exporter": "python",
   "pygments_lexer": "ipython3",
   "version": "3.9.12"
  }
 },
 "nbformat": 4,
 "nbformat_minor": 5
}
