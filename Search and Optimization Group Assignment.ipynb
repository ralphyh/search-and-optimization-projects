{
 "cells": [
  {
   "cell_type": "code",
   "execution_count": null,
   "id": "aadec59c-3a79-4375-8f10-40c682042740",
   "metadata": {},
   "outputs": [],
   "source": []
  }
 ],
 "metadata": {
  "kernelspec": {
   "display_name": "",
   "name": ""
  },
  "language_info": {
   "name": ""
  }
 },
 "nbformat": 4,
 "nbformat_minor": 5
}
