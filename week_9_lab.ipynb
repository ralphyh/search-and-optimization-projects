{
 "cells": [
  {
   "cell_type": "code",
   "execution_count": 126,
   "id": "34427461-3cf7-4b3d-bd31-1debbb1064d0",
   "metadata": {},
   "outputs": [],
   "source": [
    "import numpy as np"
   ]
  },
  {
   "cell_type": "code",
   "execution_count": 127,
   "id": "8dba649a-9fef-44a6-ba6a-a2ebf3e1548f",
   "metadata": {},
   "outputs": [],
   "source": [
    "search_space = {\n",
    "    'bournemouth': {'bath': 46, 'southampton': 31},\n",
    "    'southampton': {'bournemouth': 31, 'bath': 13, 'oxford': 59,'reading': 28},\n",
    "    'bath': {'bournemouth': 46, 'southampton': 13, 'reading': 21, 'oxford': 36},\n",
    "    'reading': {'bath': 21, 'oxford': 9, 'london': 25, 'southampton': 28},\n",
    "    'oxford': {'bath': 36, 'southampton': 59, 'reading': 9, 'london': 33},\n",
    "    'london': {'oxford': 33, 'reading': 25}\n",
    "}"
   ]
  },
  {
   "cell_type": "code",
   "execution_count": 128,
   "id": "f1311161-5894-46cb-97a9-67dc63d38411",
   "metadata": {},
   "outputs": [],
   "source": [
    "known_costs = {}"
   ]
  },
  {
   "cell_type": "code",
   "execution_count": 129,
   "id": "60c0a5d5-1626-4bf8-8b81-0d84ffeb8918",
   "metadata": {},
   "outputs": [],
   "source": [
    "routes = {car: [] for car in search_space.keys()}"
   ]
  },
  {
   "cell_type": "code",
   "execution_count": 130,
   "id": "0cbf1cc1-96a9-46de-89d8-a50b25322fe2",
   "metadata": {},
   "outputs": [],
   "source": [
    "def init_known_costs(init_node):\n",
    "    for car, bandwidth in search_space.items():\n",
    "        if car != init_node:\n",
    "            known_costs[car] = np.inf\n",
    "        else:\n",
    "            known_costs[car] = 0\n",
    "            routes[init_node] = [car]"
   ]
  },
  {
   "cell_type": "code",
   "execution_count": 131,
   "id": "8b0e7bfb-074e-47bd-9c9d-50f07fdcadc8",
   "metadata": {},
   "outputs": [],
   "source": [
    "unvisited_nodes = list(search_space.keys())"
   ]
  },
  {
   "cell_type": "code",
   "execution_count": 132,
   "id": "5b2a9c18-0a6a-455b-b3fe-c7b04bd311b1",
   "metadata": {},
   "outputs": [],
   "source": [
    "visited_nodes = []"
   ]
  },
  {
   "cell_type": "code",
   "execution_count": 133,
   "id": "0e9ba65e-2e13-4a38-ac3c-667ae3be682d",
   "metadata": {},
   "outputs": [],
   "source": [
    "def select_min_path(node):\n",
    "    # get the maximum value in a node and set it as the min value\n",
    "    min_val = max(search_space[node].values())\n",
    "    # get the corresponding nodes (for the bandwidth set above)\n",
    "    next_nodes = []\n",
    "    \n",
    "    for car, bandwidth in search_space[node].items():\n",
    "        if bandwidth < min_val and car not in visited_nodes:\n",
    "            min_val = bandwidth\n",
    "            next_nodes = [car for car, bandwidth in search_space[node].items() if bandwidth == min_val and car not in visited_nodes]\n",
    "        # Calculate the cummulative distance to reach this neighbor\n",
    "        new_cost = known_costs[node] + bandwidth\n",
    "\n",
    "        if new_cost < known_costs[car]: ## there is a problem here\n",
    "            routes[car] = routes[node] + [car]\n",
    "            known_costs[car] = new_cost\n",
    "    if len(next_nodes) == 0 and len(unvisited_nodes) > 0: ## review this part\n",
    "        print(\"starting search from root again\")       \n",
    "        next_nodes.append(unvisited_nodes[0])\n",
    "\n",
    "    visited_nodes.append(next_nodes[0])\n",
    "    unvisited_nodes.remove(next_nodes[0])\n",
    "    # select the value in the array. If they are 2, select the first. But it honestly doesnt matter which you pick\n",
    "    return next_nodes[0]"
   ]
  },
  {
   "cell_type": "code",
   "execution_count": 134,
   "id": "809e4afb-b6df-44e8-81e9-1eb4003172f9",
   "metadata": {},
   "outputs": [],
   "source": [
    "def dijkstra_algorithm(init_node):\n",
    "    init_known_costs(init_node)\n",
    "    current_node = init_node\n",
    "    i = 1\n",
    "    while unvisited_nodes:\n",
    "        print(\"********************************************************Iter \"+str(i)+\"***********************************************************\")\n",
    "        next_node = select_min_path(current_node)\n",
    "        print(\"Unvisited Nodes:\"+ str(unvisited_nodes))\n",
    "        print(\"Visited Nodes:\"+ str(visited_nodes))\n",
    "        print(\"Known Shortest Routes:\"+ str(routes))\n",
    "        print(\"Known Least Costs:\"+ str(known_costs))\n",
    "        current_node = next_node\n",
    "        i += 1"
   ]
  },
  {
   "cell_type": "code",
   "execution_count": 135,
   "id": "dd177794-2ffd-40a9-87a5-c94f317306ca",
   "metadata": {},
   "outputs": [
    {
     "name": "stdout",
     "output_type": "stream",
     "text": [
      "********************************************************Iter 1***********************************************************\n",
      "Unvisited Nodes:['bournemouth', 'bath', 'reading', 'oxford', 'london']\n",
      "Visited Nodes:['southampton']\n",
      "Known Shortest Routes:{'bournemouth': ['bournemouth'], 'southampton': ['bournemouth', 'southampton'], 'bath': ['bournemouth', 'bath'], 'reading': [], 'oxford': [], 'london': []}\n",
      "Known Least Costs:{'bournemouth': 0, 'southampton': 31, 'bath': 46, 'reading': inf, 'oxford': inf, 'london': inf}\n",
      "********************************************************Iter 2***********************************************************\n",
      "Unvisited Nodes:['bournemouth', 'reading', 'oxford', 'london']\n",
      "Visited Nodes:['southampton', 'bath']\n",
      "Known Shortest Routes:{'bournemouth': ['bournemouth'], 'southampton': ['bournemouth', 'southampton'], 'bath': ['bournemouth', 'southampton', 'bath'], 'reading': ['bournemouth', 'southampton', 'reading'], 'oxford': ['bournemouth', 'southampton', 'oxford'], 'london': []}\n",
      "Known Least Costs:{'bournemouth': 0, 'southampton': 31, 'bath': 44, 'reading': 59, 'oxford': 90, 'london': inf}\n",
      "********************************************************Iter 3***********************************************************\n",
      "Unvisited Nodes:['bournemouth', 'oxford', 'london']\n",
      "Visited Nodes:['southampton', 'bath', 'reading']\n",
      "Known Shortest Routes:{'bournemouth': ['bournemouth'], 'southampton': ['bournemouth', 'southampton'], 'bath': ['bournemouth', 'southampton', 'bath'], 'reading': ['bournemouth', 'southampton', 'reading'], 'oxford': ['bournemouth', 'southampton', 'bath', 'oxford'], 'london': []}\n",
      "Known Least Costs:{'bournemouth': 0, 'southampton': 31, 'bath': 44, 'reading': 59, 'oxford': 80, 'london': inf}\n",
      "********************************************************Iter 4***********************************************************\n",
      "Unvisited Nodes:['bournemouth', 'london']\n",
      "Visited Nodes:['southampton', 'bath', 'reading', 'oxford']\n",
      "Known Shortest Routes:{'bournemouth': ['bournemouth'], 'southampton': ['bournemouth', 'southampton'], 'bath': ['bournemouth', 'southampton', 'bath'], 'reading': ['bournemouth', 'southampton', 'reading'], 'oxford': ['bournemouth', 'southampton', 'reading', 'oxford'], 'london': ['bournemouth', 'southampton', 'reading', 'london']}\n",
      "Known Least Costs:{'bournemouth': 0, 'southampton': 31, 'bath': 44, 'reading': 59, 'oxford': 68, 'london': 84}\n",
      "********************************************************Iter 5***********************************************************\n",
      "Unvisited Nodes:['bournemouth']\n",
      "Visited Nodes:['southampton', 'bath', 'reading', 'oxford', 'london']\n",
      "Known Shortest Routes:{'bournemouth': ['bournemouth'], 'southampton': ['bournemouth', 'southampton'], 'bath': ['bournemouth', 'southampton', 'bath'], 'reading': ['bournemouth', 'southampton', 'reading'], 'oxford': ['bournemouth', 'southampton', 'reading', 'oxford'], 'london': ['bournemouth', 'southampton', 'reading', 'london']}\n",
      "Known Least Costs:{'bournemouth': 0, 'southampton': 31, 'bath': 44, 'reading': 59, 'oxford': 68, 'london': 84}\n",
      "********************************************************Iter 6***********************************************************\n",
      "starting search from root again\n",
      "Unvisited Nodes:[]\n",
      "Visited Nodes:['southampton', 'bath', 'reading', 'oxford', 'london', 'bournemouth']\n",
      "Known Shortest Routes:{'bournemouth': ['bournemouth'], 'southampton': ['bournemouth', 'southampton'], 'bath': ['bournemouth', 'southampton', 'bath'], 'reading': ['bournemouth', 'southampton', 'reading'], 'oxford': ['bournemouth', 'southampton', 'reading', 'oxford'], 'london': ['bournemouth', 'southampton', 'reading', 'london']}\n",
      "Known Least Costs:{'bournemouth': 0, 'southampton': 31, 'bath': 44, 'reading': 59, 'oxford': 68, 'london': 84}\n"
     ]
    }
   ],
   "source": [
    "dijkstra_algorithm('bournemouth')"
   ]
  },
  {
   "cell_type": "code",
   "execution_count": 136,
   "id": "cdb44a0f-a7bb-4696-9ebb-b4f44b7fe294",
   "metadata": {},
   "outputs": [],
   "source": [
    "def get_optimal_route(destination):\n",
    "    optimal_route = ''\n",
    "    for idx, path in enumerate(routes[destination]):\n",
    "        if path != destination:\n",
    "            optimal_route += path + \" -> \"\n",
    "        else:\n",
    "            optimal_route += path\n",
    "    print(\"Optimal route to \"+destination+\": \"+optimal_route)\n",
    "    print(\"Time taken: \"+str(known_costs[destination])+\" Minutes\")"
   ]
  },
  {
   "cell_type": "code",
   "execution_count": 137,
   "id": "c66cf721-04fc-4936-90ce-aeed2df5ff3a",
   "metadata": {},
   "outputs": [
    {
     "name": "stdout",
     "output_type": "stream",
     "text": [
      "Optimal route to london: bournemouth -> southampton -> reading -> london\n",
      "Time taken: 84 Minutes\n"
     ]
    }
   ],
   "source": [
    "get_optimal_route('london')"
   ]
  }
 ],
 "metadata": {
  "kernelspec": {
   "display_name": "base",
   "language": "python",
   "name": "base"
  },
  "language_info": {
   "codemirror_mode": {
    "name": "ipython",
    "version": 3
   },
   "file_extension": ".py",
   "mimetype": "text/x-python",
   "name": "python",
   "nbconvert_exporter": "python",
   "pygments_lexer": "ipython3",
   "version": "3.9.12"
  }
 },
 "nbformat": 4,
 "nbformat_minor": 5
}
