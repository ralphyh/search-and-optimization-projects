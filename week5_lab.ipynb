{
 "cells": [
  {
   "cell_type": "code",
   "execution_count": 120,
   "id": "73020491-f1d0-4f90-8190-72a144fc70eb",
   "metadata": {},
   "outputs": [],
   "source": [
    "import numpy as np\n",
    "from random import randint"
   ]
  },
  {
   "cell_type": "code",
   "execution_count": 98,
   "id": "4a93b1cf-4620-4d78-8779-452a05caa04c",
   "metadata": {},
   "outputs": [],
   "source": [
    "population_size = 10\n",
    "chromosome_length = 20\n",
    "# Generate random values between 0 and 1. Generate 10 x 20 values\n",
    "initial_uniform_values = np.random.uniform(0, 1, (population_size, chromosome_length))\n",
    "initial_binary_population_boolean = initial_uniform_values >= 0.5\n",
    "initial_binary_population = initial_binary_population_boolean.astype(int)"
   ]
  },
  {
   "cell_type": "code",
   "execution_count": 99,
   "id": "4a91279f-86df-4134-bc69-7897bfe444c6",
   "metadata": {},
   "outputs": [],
   "source": [
    "def bin_to_dec(bin_list):\n",
    "    \"\"\"\n",
    "    bin_to_dec(bin_list): function that takes in a 2D list of \n",
    "    binary values and converts each list to decimal (base 2 format)\n",
    "    The function treats each item in the list as if they were a \n",
    "    continuous binary number by joining them together and does the \n",
    "    conversion to decimal format\n",
    "    bin_list: the 2D list\n",
    "    Returns: a list of the converted base 2 numbers\n",
    "    \"\"\"\n",
    "    #empty list that will contain the phenotyoes(base 2 values of the binary numbers)\n",
    "    phenotypes = []\n",
    "\n",
    "    # iteratively loop through the list and stringify the binary values then convert to base 2 int\n",
    "    for i in bin_list:\n",
    "        bin_str = ''\n",
    "        for j in i:\n",
    "            bin_str += str(j)\n",
    "        phenotypes.append(int(bin_str, 2))\n",
    "\n",
    "    return phenotypes"
   ]
  },
  {
   "cell_type": "code",
   "execution_count": 100,
   "id": "d9152e88-eb96-46a6-9ed4-f56d8feb39cf",
   "metadata": {},
   "outputs": [],
   "source": [
    "def solar_energy_fitness_calc(bin_list, min, max):\n",
    "    \"\"\"\n",
    "    solar_energy_fitness_calc(bin_list, min, max): function that  \n",
    "    calculates the fitness values of each binary number being \n",
    "    evaluated in the genetic algorithm. The binary number list \n",
    "    is passed in as a 2D array whose values are lists of binary values\n",
    "    The function treats each item in the list as if they were a \n",
    "    continuous binary number by joining them together and does the \n",
    "    conversion to decimal format before calculating the fitness value\n",
    "    bin_list: the 2D list\n",
    "    min: the lower bound of the solar energy test problem\n",
    "    max: the upper bound of the solar energy test problem\n",
    "    Returns: a list of the fitness values of the binary values\n",
    "    \"\"\"\n",
    "    # empty list that will store the fitness values of the binary values\n",
    "    fitness_vals = []\n",
    "\n",
    "    # iteratively convert the binary values to base 2 which you pass to the fitness function\n",
    "    for index, i in enumerate(bin_to_dec(bin_list)):\n",
    "        fitness_vals.append(min + (((max - min) * i) / 2**len(bin_list[index]) - 1))\n",
    "\n",
    "    return fitness_vals"
   ]
  },
  {
   "cell_type": "code",
   "execution_count": 101,
   "id": "8ef42a8b-a03b-46fe-96d4-795babfb2680",
   "metadata": {},
   "outputs": [
    {
     "data": {
      "text/plain": [
       "[74.6144905090332,\n",
       " 44.94773292541504,\n",
       " 55.884517669677734,\n",
       " 86.62296676635742,\n",
       " 69.74417114257812,\n",
       " 42.12342643737793,\n",
       " 47.85496139526367,\n",
       " 75.54718399047852,\n",
       " 72.34236145019531,\n",
       " 62.75187873840332]"
      ]
     },
     "execution_count": 101,
     "metadata": {},
     "output_type": "execute_result"
    }
   ],
   "source": [
    "solar_energy_fitness_calc(initial_binary_population, 40, 90)"
   ]
  },
  {
   "cell_type": "code",
   "execution_count": 180,
   "id": "813a145b-6f48-45e0-a30d-2cadf9d588b8",
   "metadata": {},
   "outputs": [],
   "source": [
    "def crossover(bin_parents_list, type='single-point'):\n",
    "    bin_children_list = []\n",
    "    \n",
    "    if type == 'single-point':\n",
    "        crossover_point = randint(1, len(bin_parents_list[0])-2)\n",
    "        bin_children_list.append([*bin_parents_list[0][:crossover_point], *bin_parents_list[1][crossover_point:]])\n",
    "        bin_children_list.append([*bin_parents_list[1][:crossover_point], *bin_parents_list[0][crossover_point:]])\n",
    "\n",
    "    return np.array(bin_children_list)"
   ]
  },
  {
   "cell_type": "code",
   "execution_count": 182,
   "id": "aec17b69-0166-43fc-b35f-4d13f6ec3963",
   "metadata": {},
   "outputs": [
    {
     "name": "stdout",
     "output_type": "stream",
     "text": [
      "[[1 0 1 1 0 1 1 0 0 1 0 1 1 0 0 0 1 0 1 0]\n",
      " [0 0 0 1 1 1 1 0 0 1 1 1 0 0 1 1 1 1 0 1]]\n",
      "[[1 0 1 1 0 1 1 0 0 1 0 1 1 0 0 0 1 1 0 1]\n",
      " [0 0 0 1 1 1 1 0 0 1 1 1 0 0 1 1 1 0 1 0]]\n"
     ]
    }
   ],
   "source": [
    "print(initial_binary_population[0:2])\n",
    "print(crossover(initial_binary_population[0:2]))"
   ]
  },
  {
   "cell_type": "code",
   "execution_count": null,
   "id": "631107f3-7b9c-49c2-bbc2-5737c38bbab5",
   "metadata": {},
   "outputs": [],
   "source": []
  }
 ],
 "metadata": {
  "kernelspec": {
   "display_name": "base",
   "language": "python",
   "name": "base"
  },
  "language_info": {
   "codemirror_mode": {
    "name": "ipython",
    "version": 3
   },
   "file_extension": ".py",
   "mimetype": "text/x-python",
   "name": "python",
   "nbconvert_exporter": "python",
   "pygments_lexer": "ipython3",
   "version": "3.9.12"
  }
 },
 "nbformat": 4,
 "nbformat_minor": 5
}
