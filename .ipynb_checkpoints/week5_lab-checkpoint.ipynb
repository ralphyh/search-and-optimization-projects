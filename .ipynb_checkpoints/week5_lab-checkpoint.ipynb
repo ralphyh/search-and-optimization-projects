{
 "cells": [
  {
   "cell_type": "code",
   "execution_count": 380,
   "id": "73020491-f1d0-4f90-8190-72a144fc70eb",
   "metadata": {},
   "outputs": [],
   "source": [
    "import numpy as np\n",
    "from numpy.random import randint, choice"
   ]
  },
  {
   "cell_type": "code",
   "execution_count": 98,
   "id": "4a93b1cf-4620-4d78-8779-452a05caa04c",
   "metadata": {},
   "outputs": [],
   "source": [
    "population_size = 10\n",
    "chromosome_length = 20\n",
    "# Generate random values between 0 and 1. Generate 10 x 20 values\n",
    "initial_uniform_values = np.random.uniform(0, 1, (population_size, chromosome_length))\n",
    "initial_binary_population_boolean = initial_uniform_values >= 0.5\n",
    "initial_binary_population = initial_binary_population_boolean.astype(int)"
   ]
  },
  {
   "cell_type": "code",
   "execution_count": 99,
   "id": "4a91279f-86df-4134-bc69-7897bfe444c6",
   "metadata": {},
   "outputs": [],
   "source": [
    "def bin_to_dec(bin_list):\n",
    "    \"\"\"\n",
    "    bin_to_dec(bin_list)\n",
    "    function that takes in a 2D list of binary values and converts \n",
    "    each list to decimal (base 2 format). The function treats each \n",
    "    item in the list as if they were a continuous binary number by \n",
    "    joining them together and does the conversion to decimal format\n",
    "    bin_list: the 2D list\n",
    "    Returns: a list of the converted base 2 numbers\n",
    "    \"\"\"\n",
    "    #empty list that will contain the phenotyoes(base 2 values of the binary numbers)\n",
    "    phenotypes = []\n",
    "\n",
    "    # iteratively loop through the list and stringify the binary values then convert to base 2 int\n",
    "    for i in bin_list:\n",
    "        bin_str = ''\n",
    "        for j in i:\n",
    "            bin_str += str(j)\n",
    "        phenotypes.append(int(bin_str, 2))\n",
    "\n",
    "    return phenotypes"
   ]
  },
  {
   "cell_type": "code",
   "execution_count": 100,
   "id": "d9152e88-eb96-46a6-9ed4-f56d8feb39cf",
   "metadata": {},
   "outputs": [],
   "source": [
    "def solar_energy_fitness_calc(bin_list, min, max):\n",
    "    \"\"\"\n",
    "    solar_energy_fitness_calc(bin_list, min, max)\n",
    "    function that calculates the fitness values of each binary \n",
    "    number being evaluated in the genetic algorithm. The binary \n",
    "    number list is passed in as a 2D array whose values are lists \n",
    "    of binary values. The function treats each item in the list \n",
    "    as if they were a continuous binary number by joining them \n",
    "    together and does the conversion to decimal format before \n",
    "    calculating the fitness value\n",
    "    bin_list: the 2D list\n",
    "    min: the lower bound of the solar energy test problem\n",
    "    max: the upper bound of the solar energy test problem\n",
    "    Returns: a list of the fitness values of the binary values\n",
    "    \"\"\"\n",
    "    # empty list that will store the fitness values of the binary values\n",
    "    fitness_vals = []\n",
    "\n",
    "    # iteratively convert the binary values to base 2 which you pass to the fitness function\n",
    "    for index, i in enumerate(bin_to_dec(bin_list)):\n",
    "        fitness_vals.append(min + (((max - min) * i) / 2**len(bin_list[index]) - 1))\n",
    "\n",
    "    return fitness_vals"
   ]
  },
  {
   "cell_type": "code",
   "execution_count": 101,
   "id": "8ef42a8b-a03b-46fe-96d4-795babfb2680",
   "metadata": {},
   "outputs": [
    {
     "data": {
      "text/plain": [
       "[74.6144905090332,\n",
       " 44.94773292541504,\n",
       " 55.884517669677734,\n",
       " 86.62296676635742,\n",
       " 69.74417114257812,\n",
       " 42.12342643737793,\n",
       " 47.85496139526367,\n",
       " 75.54718399047852,\n",
       " 72.34236145019531,\n",
       " 62.75187873840332]"
      ]
     },
     "execution_count": 101,
     "metadata": {},
     "output_type": "execute_result"
    }
   ],
   "source": [
    "solar_energy_fitness_calc(initial_binary_population, 40, 90)"
   ]
  },
  {
   "cell_type": "code",
   "execution_count": 292,
   "id": "813a145b-6f48-45e0-a30d-2cadf9d588b8",
   "metadata": {},
   "outputs": [],
   "source": [
    "def crossover(bin_parents_list, type='single-point'):\n",
    "    \"\"\"\n",
    "    crossover(bin_parents_list, type='single-point')\n",
    "    function that performs a crossover of 2 parents in the population\n",
    "    and returns 2 children\n",
    "    The type of crossover is dependent on the argument passed in as an\n",
    "    argument. Crossover is done by breaking down the chromosome at randomly\n",
    "    selected points and concatenating with the other parents genes from that\n",
    "    position. This is done without changing the genes of the parents since new\n",
    "    children chromosomes are created\n",
    "    bin_parents_list: a list of 2 parents that need a crossover done on them\n",
    "    type(optional): the type of crossover desired to be done. The default type \n",
    "    is single point\n",
    "    returns: a list of 2 children that result from the crossover\n",
    "    \"\"\"\n",
    "    bin_children_list = []\n",
    "\n",
    "    if type == 'single-point':\n",
    "        # if the type is set to single-point, perform a single-point crossover\n",
    "        crossover_point = randint(1, len(bin_parents_list[0])-1)\n",
    "        '''\n",
    "        slice the list from beginning to randomly selected index,\n",
    "        append slice of second list from that point to the end to the first.\n",
    "        perform the inverse on the second parent\n",
    "        '''\n",
    "        bin_children_list.append([*bin_parents_list[0][:crossover_point],\\\n",
    "                                  *bin_parents_list[1][crossover_point:]])\n",
    "        bin_children_list.append([*bin_parents_list[1][:crossover_point],\\\n",
    "                                  *bin_parents_list[0][crossover_point:]])\n",
    "    elif type == 'two-point':\n",
    "        # if the type is set to two-point, perform a two-point crossover\n",
    "        crossover_point = randint(low=1, high=len(bin_parents_list[0])-1, size=2)\n",
    "        '''\n",
    "        slice the list from beginning to the first randomly selected index, insert \n",
    "        part of the second part from that index up until the second randomly selected \n",
    "        index and add the last part of the forst index from that point to the end\n",
    "        perform the inverse on the second parent\n",
    "        '''\n",
    "        bin_children_list.append([*bin_parents_list[0][:crossover_point[0]],\\\n",
    "                                  *bin_parents_list[1][crossover_point[0]:crossover_point[1]],\\\n",
    "                                  *bin_parents_list[0][crossover_point[1]:]])\n",
    "        bin_children_list.append([*bin_parents_list[1][:crossover_point[0]],\\\n",
    "                                  *bin_parents_list[0][crossover_point[0]:crossover_point[1]],\\\n",
    "                                  *bin_parents_list[1][crossover_point[1]:]])\n",
    "    elif type == 'uniform':\n",
    "        # if the type is set to uniform, perform uniform crossover\n",
    "        child1 = []\n",
    "        child2 = []\n",
    "        # randomly and uniformly swap bits between the two parents\n",
    "        for i in range(len(bin_parents_list[0])):\n",
    "            crossover_point = randint(0, 2)\n",
    "            if crossover_point == 1:\n",
    "                child1.append(bin_parents_list[1][i])\n",
    "                child2.append(bin_parents_list[0][i])\n",
    "            else:\n",
    "                child1.append(bin_parents_list[0][i])\n",
    "                child2.append(bin_parents_list[1][i])\n",
    "        bin_children_list.append(child1)\n",
    "        bin_children_list.append(child2)\n",
    "                \n",
    "    return np.array(bin_children_list)"
   ]
  },
  {
   "cell_type": "code",
   "execution_count": 248,
   "id": "aec17b69-0166-43fc-b35f-4d13f6ec3963",
   "metadata": {},
   "outputs": [
    {
     "name": "stdout",
     "output_type": "stream",
     "text": [
      "[[1 0 1 1 0 1 1 0 0 1 0 1 1 0 0 0 1 0 1 0]\n",
      " [0 0 0 1 1 1 1 0 0 1 1 1 0 0 1 1 1 1 0 1]]\n",
      "[[1 0 1 1 0 1 1 0 0 1 0 1 1 0 1 1 1 1 0 1]\n",
      " [0 0 0 1 1 1 1 0 0 1 1 1 0 0 0 0 1 0 1 0]]\n"
     ]
    }
   ],
   "source": [
    "print(initial_binary_population[0:2])\n",
    "print(crossover(initial_binary_population[0:2]))"
   ]
  },
  {
   "cell_type": "code",
   "execution_count": 250,
   "id": "631107f3-7b9c-49c2-bbc2-5737c38bbab5",
   "metadata": {},
   "outputs": [
    {
     "name": "stdout",
     "output_type": "stream",
     "text": [
      "[[1 0 1 1 0 1 1 0 0 1 0 1 1 0 0 0 1 0 1 0]\n",
      " [0 0 0 1 1 1 1 0 0 1 1 1 0 0 1 1 1 1 0 1]]\n",
      "[[1 0 1 1 1 1 1 0 0 1 0 1 1 0 0 0 1 0 1 0]\n",
      " [0 0 0 1 0 1 1 0 0 1 1 1 0 0 1 1 1 1 0 1]]\n"
     ]
    }
   ],
   "source": [
    "print(initial_binary_population[0:2])\n",
    "print(crossover(initial_binary_population[0:2], type='two-point'))"
   ]
  },
  {
   "cell_type": "code",
   "execution_count": 294,
   "id": "955f1b33-06d1-401d-a53f-b8424fda39f5",
   "metadata": {},
   "outputs": [
    {
     "name": "stdout",
     "output_type": "stream",
     "text": [
      "[[1 0 1 1 0 1 1 0 0 1 0 1 1 0 0 0 1 0 1 0]\n",
      " [0 0 0 1 1 1 1 0 0 1 1 1 0 0 1 1 1 1 0 1]]\n",
      "[[1 0 0 1 0 1 1 0 0 1 1 1 0 0 1 0 1 0 1 1]\n",
      " [0 0 1 1 1 1 1 0 0 1 0 1 1 0 0 1 1 1 0 0]]\n"
     ]
    }
   ],
   "source": [
    "print(initial_binary_population[0:2])\n",
    "print(crossover(initial_binary_population[0:2], type='uniform'))"
   ]
  },
  {
   "cell_type": "code",
   "execution_count": 436,
   "id": "fbdd15a4-3256-4b34-b356-af10e20fe588",
   "metadata": {},
   "outputs": [],
   "source": [
    "def mutate(bin_list, mutation_rate=0.1, mutation_ratio=0.1):\n",
    "    \"\"\"\n",
    "    mutate(bin_list, mutation_rate=0.1, mutation_ratio=0.1)\n",
    "    function that performs mutation of random individuals in\n",
    "    a binary population. The number of individuals on which mutation\n",
    "    will take place and the number of bits in an individual affected by\n",
    "    the mutation are determined by the mutation rate and mutation ratio\n",
    "    respectively\n",
    "    bin_list: the binary population on in which mutation will is performed\n",
    "    mutation_rate(optional): The percentage of the populations being mutated\n",
    "    mutation_ratio(optional): The percentage of bits in the population being mutated\n",
    "    returns: the population that has been mutated based in the parameters provided\n",
    "    \"\"\"\n",
    "    '''\n",
    "    randomly obtain the indices of the individuals being mutated. \n",
    "    The number of indices will approximately be based on the percentage \n",
    "    provided as the mutation_rate parameter\n",
    "    '''\n",
    "    mutation_chromosome_indices = choice(np.array(range(len(bin_list))),\\\n",
    "                                         int(len(bin_list) * mutation_rate),\\\n",
    "                                         replace=False)\n",
    "    print(\"Mutation Chromosome indices:\"+str(mutation_chromosome_indices))\n",
    "    # loop through each individual in the population\n",
    "    for i in mutation_chromosome_indices:\n",
    "        '''\n",
    "        randomly obtain the indices of the bits being mutated. \n",
    "        The number of indices will approximately be based on the percentage \n",
    "        provided as the mutation_ratio parameter\n",
    "        '''\n",
    "        mutation_gene_indices = choice(np.array(range(len(bin_list[i]))),\\\n",
    "                                         int(len(bin_list[i]) * mutation_ratio),\\\n",
    "                                         replace=False)\n",
    "        # flip the bit\n",
    "        for j in mutation_gene_indices:\n",
    "            bin_list[i][j] = abs(bin_list[i][j] - 1)\n",
    "        \n",
    "    return np.array(bin_list)"
   ]
  },
  {
   "cell_type": "code",
   "execution_count": 438,
   "id": "229c0f8a-190a-4a3a-adc7-8b0ca53262c3",
   "metadata": {},
   "outputs": [
    {
     "name": "stdout",
     "output_type": "stream",
     "text": [
      "Population before mutation:\n",
      "[[1 0 1 1 0 1 1 0 0 1 0 1 1 0 0 0 1 0 1 0]\n",
      " [0 0 0 1 1 1 1 0 0 1 1 1 0 0 1 1 0 1 0 0]\n",
      " [0 1 0 1 0 1 1 0 0 1 1 1 0 0 1 0 1 1 1 0]\n",
      " [1 1 1 1 0 1 1 1 1 0 0 1 0 1 0 0 0 1 1 0]\n",
      " [1 0 0 1 1 1 0 1 0 1 1 0 1 0 0 1 0 0 0 0]\n",
      " [1 0 0 0 1 1 1 1 1 1 1 0 1 1 0 1 1 1 1 1]\n",
      " [1 0 0 0 1 1 0 1 1 1 0 1 1 1 1 0 0 1 1 0]\n",
      " [0 1 0 1 0 0 1 1 0 1 0 0 1 1 1 1 0 0 1 0]\n",
      " [1 0 1 0 1 0 1 0 1 0 1 1 0 1 1 0 1 0 0 0]\n",
      " [0 1 1 1 1 0 0 1 1 0 0 1 1 1 0 0 0 0 0 1]]\n",
      "------------------------------------------\n",
      "Mutation Chromosome indices:[1]\n",
      "Population after mutation:\n",
      "[[1 0 1 1 0 1 1 0 0 1 0 1 1 0 0 0 1 0 1 0]\n",
      " [0 0 0 1 1 1 0 0 0 1 1 1 0 0 1 1 0 1 1 0]\n",
      " [0 1 0 1 0 1 1 0 0 1 1 1 0 0 1 0 1 1 1 0]\n",
      " [1 1 1 1 0 1 1 1 1 0 0 1 0 1 0 0 0 1 1 0]\n",
      " [1 0 0 1 1 1 0 1 0 1 1 0 1 0 0 1 0 0 0 0]\n",
      " [1 0 0 0 1 1 1 1 1 1 1 0 1 1 0 1 1 1 1 1]\n",
      " [1 0 0 0 1 1 0 1 1 1 0 1 1 1 1 0 0 1 1 0]\n",
      " [0 1 0 1 0 0 1 1 0 1 0 0 1 1 1 1 0 0 1 0]\n",
      " [1 0 1 0 1 0 1 0 1 0 1 1 0 1 1 0 1 0 0 0]\n",
      " [0 1 1 1 1 0 0 1 1 0 0 1 1 1 0 0 0 0 0 1]]\n"
     ]
    }
   ],
   "source": [
    "print(\"Population before mutation:\\n\"+str(initial_binary_population))\n",
    "print(\"------------------------------------------\")\n",
    "print(\"Population after mutation:\\n\"+str(mutate(initial_binary_population)))"
   ]
  },
  {
   "cell_type": "code",
   "execution_count": 418,
   "id": "68fcb8c7-88b6-498d-8d62-b53a2378a1d2",
   "metadata": {},
   "outputs": [
    {
     "data": {
      "text/plain": [
       "0"
      ]
     },
     "execution_count": 418,
     "metadata": {},
     "output_type": "execute_result"
    }
   ],
   "source": []
  },
  {
   "cell_type": "code",
   "execution_count": null,
   "id": "d1dad30d-308d-4152-8a21-7d52e5c64a86",
   "metadata": {},
   "outputs": [],
   "source": []
  }
 ],
 "metadata": {
  "kernelspec": {
   "display_name": "base",
   "language": "python",
   "name": "base"
  },
  "language_info": {
   "codemirror_mode": {
    "name": "ipython",
    "version": 3
   },
   "file_extension": ".py",
   "mimetype": "text/x-python",
   "name": "python",
   "nbconvert_exporter": "python",
   "pygments_lexer": "ipython3",
   "version": "3.9.12"
  }
 },
 "nbformat": 4,
 "nbformat_minor": 5
}
