{
 "cells": [
  {
   "cell_type": "code",
   "execution_count": 2323,
   "id": "73020491-f1d0-4f90-8190-72a144fc70eb",
   "metadata": {},
   "outputs": [],
   "source": [
    "import numpy as np\n",
    "import math\n",
    "from numpy.random import randint, choice"
   ]
  },
  {
   "cell_type": "code",
   "execution_count": 2324,
   "id": "4a93b1cf-4620-4d78-8779-452a05caa04c",
   "metadata": {},
   "outputs": [],
   "source": [
    "def init_population(pop_size, chromosome_length):\n",
    "    \"\"\"\n",
    "    init_population(pop_size, chromosome_length)\n",
    "    function that initializes a binary population to be used in a discrete\n",
    "    genetic algorithm. The function creates 'pop_size' random binary bits (genes) \n",
    "    of the chromosome of length 'chromosome_length'\n",
    "    po_size: the size of the binary population being created\n",
    "    chromosome_length: the number of bits per individual/chromosome\n",
    "    returns: the binary population\n",
    "    \"\"\"\n",
    "    # Generate random values between 0 and 1. Generate 10 x 20 values\n",
    "    initial_uniform_values = np.random.uniform(0, 1, (pop_size, chromosome_length))\n",
    "    # round off to either 0 or 1\n",
    "    initial_binary_population_boolean = initial_uniform_values >= 0.5\n",
    "    initial_binary_population = initial_binary_population_boolean.astype(int)\n",
    "\n",
    "    return initial_binary_population"
   ]
  },
  {
   "cell_type": "code",
   "execution_count": 2325,
   "id": "4a91279f-86df-4134-bc69-7897bfe444c6",
   "metadata": {},
   "outputs": [],
   "source": [
    "def bin_to_dec(bin_list):\n",
    "    \"\"\"\n",
    "    bin_to_dec(bin_list)\n",
    "    function that takes in a 2D list of binary values and converts \n",
    "    each list to decimal (base 2 format). The function treats each \n",
    "    item in the list as if they were a continuous binary number by \n",
    "    joining them together and does the conversion to decimal format\n",
    "    bin_list: the 2D list\n",
    "    Returns: a list of the converted base 2 numbers\n",
    "    \"\"\"\n",
    "    #empty list that will contain the phenotyoes(base 2 values of the binary numbers)\n",
    "    phenotypes = []\n",
    "\n",
    "    # iteratively loop through the list and stringify the binary values then convert to base 2 int\n",
    "    for i in bin_list:\n",
    "        bin_str = ''\n",
    "        for j in i:\n",
    "            bin_str += str(j)\n",
    "        phenotypes.append(int(bin_str, 2))\n",
    "\n",
    "    return phenotypes"
   ]
  },
  {
   "cell_type": "code",
   "execution_count": 2326,
   "id": "d9152e88-eb96-46a6-9ed4-f56d8feb39cf",
   "metadata": {},
   "outputs": [],
   "source": [
    "def solar_energy_fitness_calc(bin_list, min, max):\n",
    "    \"\"\"\n",
    "    solar_energy_fitness_calc(bin_list, min, max)\n",
    "    function that calculates the fitness values of each binary \n",
    "    number being evaluated in the genetic algorithm. The binary \n",
    "    number list is passed in as a 2D array whose values are lists \n",
    "    of binary values. The function treats each item in the list \n",
    "    as if they were a continuous binary number by joining them \n",
    "    together and does the conversion to decimal format before \n",
    "    calculating the fitness value\n",
    "    bin_list: the 2D list\n",
    "    min: the lower bound of the solar energy test problem\n",
    "    max: the upper bound of the solar energy test problem\n",
    "    Returns: a list of the fitness values of the binary values\n",
    "    \"\"\"\n",
    "    # empty list that will store the fitness values of the binary values\n",
    "    fitness_vals = []\n",
    "\n",
    "    # iteratively convert the binary values to base 2 which you pass to the fitness function\n",
    "    for index, i in enumerate(bin_to_dec(bin_list)):\n",
    "        fitness_vals.append(min + (((max - min) * i) / 2**len(bin_list[index]) - 1))\n",
    "\n",
    "    return fitness_vals"
   ]
  },
  {
   "cell_type": "code",
   "execution_count": 2327,
   "id": "813a145b-6f48-45e0-a30d-2cadf9d588b8",
   "metadata": {},
   "outputs": [],
   "source": [
    "def crossover(bin_parents_list, type='single-point'):\n",
    "    \"\"\"\n",
    "    crossover(bin_parents_list, type='single-point')\n",
    "    function that performs a crossover of 2 parents in the population\n",
    "    and returns 2 children\n",
    "    The type of crossover is dependent on the argument passed in as an\n",
    "    argument. Crossover is done by breaking down the chromosome at randomly\n",
    "    selected points and concatenating with the other parents genes from that\n",
    "    position. This is done without changing the genes of the parents since new\n",
    "    children chromosomes are created.\n",
    "    bin_parents_list: a list of 2 parents that need a crossover done on them\n",
    "    type(optional): the type of crossover desired to be done. The default type \n",
    "    is single point\n",
    "    returns: a list of 2 children that result from the crossover\n",
    "    \"\"\"\n",
    "    bin_children_list = []\n",
    "\n",
    "    if type == 'single-point':\n",
    "        # if the type is set to single-point, perform a single-point crossover\n",
    "        crossover_point = randint(1, len(bin_parents_list[0])-1)\n",
    "        '''\n",
    "        slice the list from beginning to randomly selected index,\n",
    "        append slice of second list from that point to the end to the first.\n",
    "        perform the inverse on the second parent\n",
    "        '''\n",
    "        bin_children_list.append([*bin_parents_list[0][:crossover_point],\\\n",
    "                                  *bin_parents_list[1][crossover_point:]])\n",
    "        bin_children_list.append([*bin_parents_list[1][:crossover_point],\\\n",
    "                                  *bin_parents_list[0][crossover_point:]])\n",
    "    elif type == 'two-point':\n",
    "        # if the type is set to two-point, perform a two-point crossover\n",
    "        crossover_point = randint(low=1, high=len(bin_parents_list[0])-1, size=2)\n",
    "        '''\n",
    "        slice the list from beginning to the first randomly selected index, insert \n",
    "        part of the second part from that index up until the second randomly selected \n",
    "        index and add the last part of the forst index from that point to the end\n",
    "        perform the inverse on the second parent\n",
    "        '''\n",
    "        bin_children_list.append([*bin_parents_list[0][:crossover_point[0]],\\\n",
    "                                  *bin_parents_list[1][crossover_point[0]:crossover_point[1]],\\\n",
    "                                  *bin_parents_list[0][crossover_point[1]:]])\n",
    "        bin_children_list.append([*bin_parents_list[1][:crossover_point[0]],\\\n",
    "                                  *bin_parents_list[0][crossover_point[0]:crossover_point[1]],\\\n",
    "                                  *bin_parents_list[1][crossover_point[1]:]])\n",
    "    elif type == 'uniform':\n",
    "        # if the type is set to uniform, perform uniform crossover\n",
    "        child1 = []\n",
    "        child2 = []\n",
    "        # randomly and uniformly swap bits between the two parents\n",
    "        for i in range(len(bin_parents_list[0])):\n",
    "            crossover_point = randint(0, 2)\n",
    "            if crossover_point == 1:\n",
    "                child1.append(bin_parents_list[1][i])\n",
    "                child2.append(bin_parents_list[0][i])\n",
    "            else:\n",
    "                child1.append(bin_parents_list[0][i])\n",
    "                child2.append(bin_parents_list[1][i])\n",
    "        bin_children_list.append(child1)\n",
    "        bin_children_list.append(child2)\n",
    "                \n",
    "    return np.array(bin_children_list)"
   ]
  },
  {
   "cell_type": "code",
   "execution_count": 2328,
   "id": "aec17b69-0166-43fc-b35f-4d13f6ec3963",
   "metadata": {},
   "outputs": [
    {
     "name": "stdout",
     "output_type": "stream",
     "text": [
      "[[1 1 0 1 1 1 1 0 0 1 0 0 1 1 0 1 1 0 0 1]\n",
      " [1 0 1 1 0 1 0 0 1 0 1 0 0 1 0 1 1 1 1 1]]\n",
      "[[1 1 0 1 1 1 1 0 0 1 0 0 1 1 0 1 1 1 1 1]\n",
      " [1 0 1 1 0 1 0 0 1 0 1 0 0 1 0 1 1 0 0 1]]\n"
     ]
    }
   ],
   "source": [
    "print(initial_binary_population[0:2])\n",
    "print(crossover(initial_binary_population[0:2]))"
   ]
  },
  {
   "cell_type": "code",
   "execution_count": 2329,
   "id": "631107f3-7b9c-49c2-bbc2-5737c38bbab5",
   "metadata": {},
   "outputs": [
    {
     "name": "stdout",
     "output_type": "stream",
     "text": [
      "[[1 1 0 1 1 1 1 0 0 1 0 0 1 1 0 1 1 0 0 1]\n",
      " [1 0 1 1 0 1 0 0 1 0 1 0 0 1 0 1 1 1 1 1]]\n",
      "[[1 1 0 1 1 1 0 0 1 0 1 0 0 1 0 1 1 0 0 1]\n",
      " [1 0 1 1 0 1 1 0 0 1 0 0 1 1 0 1 1 1 1 1]]\n"
     ]
    }
   ],
   "source": [
    "print(initial_binary_population[0:2])\n",
    "print(crossover(initial_binary_population[0:2], type='two-point'))"
   ]
  },
  {
   "cell_type": "code",
   "execution_count": 2330,
   "id": "955f1b33-06d1-401d-a53f-b8424fda39f5",
   "metadata": {},
   "outputs": [
    {
     "name": "stdout",
     "output_type": "stream",
     "text": [
      "[[1 1 0 1 1 1 1 0 0 1 0 0 1 1 0 1 1 0 0 1]\n",
      " [1 0 1 1 0 1 0 0 1 0 1 0 0 1 0 1 1 1 1 1]]\n",
      "[[1 1 0 1 1 1 1 0 1 1 0 0 1 1 0 1 1 0 1 1]\n",
      " [1 0 1 1 0 1 0 0 0 0 1 0 0 1 0 1 1 1 0 1]]\n"
     ]
    }
   ],
   "source": [
    "print(initial_binary_population[0:2])\n",
    "print(crossover(initial_binary_population[0:2], type='uniform'))"
   ]
  },
  {
   "cell_type": "code",
   "execution_count": 2331,
   "id": "fbdd15a4-3256-4b34-b356-af10e20fe588",
   "metadata": {},
   "outputs": [],
   "source": [
    "def mutate(bin_list, mutation_rate=0.1, mutation_ratio=0.1):\n",
    "    \"\"\"\n",
    "    mutate(bin_list, mutation_rate=0.1, mutation_ratio=0.1)\n",
    "    function that performs mutation of random individuals in\n",
    "    a binary population. The number of individuals on which mutation\n",
    "    will take place and the number of bits in an individual affected by\n",
    "    the mutation are determined by the mutation rate and mutation ratio\n",
    "    respectively\n",
    "    bin_list: the binary population on in which mutation will is performed\n",
    "    mutation_rate(optional): The percentage of the populations being mutated\n",
    "    mutation_ratio(optional): The percentage of bits in the population being mutated\n",
    "    returns: the population that has been mutated based in the parameters provided\n",
    "    \"\"\"\n",
    "    '''\n",
    "    randomly obtain the indices of the individuals being mutated. \n",
    "    The number of indices will approximately be based on the percentage \n",
    "    provided as the mutation_rate parameter\n",
    "    '''\n",
    "    mutation_chromosome_indices = choice(np.array(range(len(bin_list))),\\\n",
    "                                         math.ceil(len(bin_list) * mutation_rate),\\\n",
    "                                         replace=False)\n",
    "\n",
    "    print(\"Mutation Chromosome indices:\"+str(mutation_chromosome_indices))\n",
    "    # loop through each individual in the population\n",
    "    for i in mutation_chromosome_indices:\n",
    "        '''\n",
    "        randomly obtain the indices of the bits being mutated. \n",
    "        The number of indices will approximately be based on the percentage \n",
    "        provided as the mutation_ratio parameter\n",
    "        '''\n",
    "        mutation_gene_indices = choice(np.array(range(len(bin_list[i]))),\\\n",
    "                                         int(len(bin_list[i]) * mutation_ratio),\\\n",
    "                                         replace=False)\n",
    "        # flip the bit\n",
    "        for j in mutation_gene_indices:\n",
    "            bin_list[i][j] = abs(bin_list[i][j] - 1)\n",
    "        \n",
    "    return np.array(bin_list)"
   ]
  },
  {
   "cell_type": "code",
   "execution_count": 2332,
   "id": "229c0f8a-190a-4a3a-adc7-8b0ca53262c3",
   "metadata": {},
   "outputs": [
    {
     "name": "stdout",
     "output_type": "stream",
     "text": [
      "Population before mutation:\n",
      "[[1 1 0 1 1 1 1 0 0 1 0 0 1 1 0 1 1 0 0 1]\n",
      " [1 0 1 1 0 1 0 0 1 0 1 0 0 1 0 1 1 1 1 1]\n",
      " [0 0 1 1 0 1 1 1 0 1 0 1 1 0 1 1 0 1 1 1]\n",
      " [1 1 0 0 1 0 0 1 1 1 1 0 0 1 0 0 1 1 0 0]\n",
      " [1 0 1 0 0 1 0 0 0 0 0 1 0 1 0 0 0 0 1 1]\n",
      " [0 0 1 0 0 0 1 1 1 1 0 0 0 0 1 1 0 0 0 1]\n",
      " [1 1 0 0 0 1 0 0 0 0 0 0 0 0 1 0 1 1 1 1]\n",
      " [1 1 0 1 1 1 1 1 0 0 0 0 1 1 0 0 0 0 1 0]\n",
      " [1 1 1 1 0 0 1 0 0 1 1 0 1 1 1 0 0 1 1 0]\n",
      " [0 1 1 1 0 1 1 1 0 0 0 0 1 1 0 1 0 1 0 1]\n",
      " [0 0 1 0 1 1 1 1 1 0 0 1 1 1 0 0 0 0 0 1]\n",
      " [0 1 1 0 1 0 1 1 1 0 1 1 0 1 1 0 0 0 0 0]\n",
      " [1 1 0 1 0 1 1 0 1 0 0 0 1 0 1 0 0 0 0 1]\n",
      " [0 1 1 0 1 1 0 1 0 0 0 1 0 0 1 0 0 1 0 1]\n",
      " [1 0 1 0 0 1 0 0 1 0 0 1 0 0 0 0 0 0 0 1]\n",
      " [0 0 1 0 0 1 0 1 1 1 1 0 0 0 0 0 0 1 1 0]\n",
      " [1 0 1 0 1 1 1 1 0 0 1 0 0 0 0 0 1 0 0 0]\n",
      " [0 0 1 0 1 1 1 0 1 1 1 0 0 1 0 1 0 1 1 0]\n",
      " [1 0 1 0 0 1 0 0 1 0 0 0 0 0 1 0 1 1 0 1]\n",
      " [0 1 0 0 0 0 1 1 0 0 1 0 1 0 0 1 0 1 0 0]\n",
      " [0 0 0 1 0 1 0 0 0 1 0 0 0 0 1 1 1 1 1 0]\n",
      " [1 1 1 1 0 0 1 1 1 0 1 1 1 1 0 1 1 0 1 1]\n",
      " [1 0 1 0 0 1 1 1 1 1 1 1 1 0 0 0 0 0 0 1]\n",
      " [0 1 0 1 0 0 0 0 1 1 1 0 0 1 0 0 1 0 1 0]\n",
      " [1 0 1 0 0 0 0 1 1 1 1 0 1 1 1 0 1 0 1 1]\n",
      " [1 0 1 0 0 1 0 0 0 0 1 1 1 1 1 0 1 1 1 1]\n",
      " [0 0 1 0 1 0 1 0 0 1 1 1 0 0 1 1 1 1 1 1]\n",
      " [1 1 1 1 0 0 0 0 0 1 0 1 0 1 1 1 1 1 1 1]\n",
      " [1 1 1 1 0 1 1 1 1 1 1 0 0 1 1 1 1 1 0 0]\n",
      " [0 1 1 1 1 1 1 0 0 0 0 0 1 0 1 1 0 0 0 0]\n",
      " [1 1 0 0 0 1 1 1 1 0 1 1 1 0 1 0 1 1 0 1]\n",
      " [0 0 0 0 1 1 1 1 0 1 1 1 0 0 0 1 0 1 0 0]\n",
      " [0 1 0 0 1 1 0 0 0 0 1 0 1 1 0 1 1 0 0 1]\n",
      " [0 0 1 0 1 0 1 1 0 0 0 1 1 1 1 1 0 1 0 0]\n",
      " [1 0 1 0 1 1 0 0 1 1 1 1 1 0 0 1 1 0 1 1]\n",
      " [1 1 0 1 1 0 0 0 0 1 0 1 0 0 0 0 0 1 1 0]\n",
      " [0 1 1 1 0 0 0 1 1 1 1 1 0 0 1 1 0 0 1 0]\n",
      " [0 1 1 1 1 1 0 1 0 1 0 0 0 0 1 0 0 1 0 1]\n",
      " [0 1 1 0 0 1 1 0 1 1 1 1 1 1 0 1 1 0 1 0]\n",
      " [1 1 1 1 0 0 1 0 0 1 1 1 0 0 0 1 0 1 0 0]\n",
      " [1 0 0 1 1 0 1 0 0 1 0 0 0 0 0 1 0 0 0 1]\n",
      " [0 0 1 0 1 0 1 1 0 1 0 0 0 0 1 1 0 0 1 0]\n",
      " [0 1 1 0 0 0 1 1 0 0 0 1 0 1 1 0 0 1 0 1]\n",
      " [0 1 1 1 1 0 1 0 0 1 1 0 1 0 0 0 1 0 0 0]\n",
      " [1 0 0 1 1 1 0 1 0 1 1 0 1 1 0 1 0 1 1 0]\n",
      " [0 1 0 0 0 1 0 0 1 0 0 1 0 1 1 0 0 1 0 0]\n",
      " [0 1 0 0 0 1 1 0 0 1 0 1 1 1 1 1 0 0 1 1]\n",
      " [1 0 1 1 1 1 0 1 1 0 1 0 1 1 0 0 1 0 1 1]\n",
      " [1 1 1 0 1 1 1 0 1 0 0 0 0 0 1 0 0 1 1 1]\n",
      " [1 0 0 1 0 1 0 1 0 0 1 1 1 0 0 1 0 0 1 0]]\n",
      "------------------------------------------\n",
      "Mutation Chromosome indices:[14  0  2 20 38]\n",
      "Population after mutation:\n",
      "[[1 1 0 1 1 1 1 0 1 1 0 0 1 1 0 1 1 0 1 1]\n",
      " [1 0 1 1 0 1 0 0 1 0 1 0 0 1 0 1 1 1 1 1]\n",
      " [0 0 1 1 0 0 1 1 0 1 0 0 1 0 1 1 0 1 1 1]\n",
      " [1 1 0 0 1 0 0 1 1 1 1 0 0 1 0 0 1 1 0 0]\n",
      " [1 0 1 0 0 1 0 0 0 0 0 1 0 1 0 0 0 0 1 1]\n",
      " [0 0 1 0 0 0 1 1 1 1 0 0 0 0 1 1 0 0 0 1]\n",
      " [1 1 0 0 0 1 0 0 0 0 0 0 0 0 1 0 1 1 1 1]\n",
      " [1 1 0 1 1 1 1 1 0 0 0 0 1 1 0 0 0 0 1 0]\n",
      " [1 1 1 1 0 0 1 0 0 1 1 0 1 1 1 0 0 1 1 0]\n",
      " [0 1 1 1 0 1 1 1 0 0 0 0 1 1 0 1 0 1 0 1]\n",
      " [0 0 1 0 1 1 1 1 1 0 0 1 1 1 0 0 0 0 0 1]\n",
      " [0 1 1 0 1 0 1 1 1 0 1 1 0 1 1 0 0 0 0 0]\n",
      " [1 1 0 1 0 1 1 0 1 0 0 0 1 0 1 0 0 0 0 1]\n",
      " [0 1 1 0 1 1 0 1 0 0 0 1 0 0 1 0 0 1 0 1]\n",
      " [1 0 1 1 0 0 0 0 1 0 0 1 0 0 0 0 0 0 0 1]\n",
      " [0 0 1 0 0 1 0 1 1 1 1 0 0 0 0 0 0 1 1 0]\n",
      " [1 0 1 0 1 1 1 1 0 0 1 0 0 0 0 0 1 0 0 0]\n",
      " [0 0 1 0 1 1 1 0 1 1 1 0 0 1 0 1 0 1 1 0]\n",
      " [1 0 1 0 0 1 0 0 1 0 0 0 0 0 1 0 1 1 0 1]\n",
      " [0 1 0 0 0 0 1 1 0 0 1 0 1 0 0 1 0 1 0 0]\n",
      " [0 1 0 1 0 1 1 0 0 1 0 0 0 0 1 1 1 1 1 0]\n",
      " [1 1 1 1 0 0 1 1 1 0 1 1 1 1 0 1 1 0 1 1]\n",
      " [1 0 1 0 0 1 1 1 1 1 1 1 1 0 0 0 0 0 0 1]\n",
      " [0 1 0 1 0 0 0 0 1 1 1 0 0 1 0 0 1 0 1 0]\n",
      " [1 0 1 0 0 0 0 1 1 1 1 0 1 1 1 0 1 0 1 1]\n",
      " [1 0 1 0 0 1 0 0 0 0 1 1 1 1 1 0 1 1 1 1]\n",
      " [0 0 1 0 1 0 1 0 0 1 1 1 0 0 1 1 1 1 1 1]\n",
      " [1 1 1 1 0 0 0 0 0 1 0 1 0 1 1 1 1 1 1 1]\n",
      " [1 1 1 1 0 1 1 1 1 1 1 0 0 1 1 1 1 1 0 0]\n",
      " [0 1 1 1 1 1 1 0 0 0 0 0 1 0 1 1 0 0 0 0]\n",
      " [1 1 0 0 0 1 1 1 1 0 1 1 1 0 1 0 1 1 0 1]\n",
      " [0 0 0 0 1 1 1 1 0 1 1 1 0 0 0 1 0 1 0 0]\n",
      " [0 1 0 0 1 1 0 0 0 0 1 0 1 1 0 1 1 0 0 1]\n",
      " [0 0 1 0 1 0 1 1 0 0 0 1 1 1 1 1 0 1 0 0]\n",
      " [1 0 1 0 1 1 0 0 1 1 1 1 1 0 0 1 1 0 1 1]\n",
      " [1 1 0 1 1 0 0 0 0 1 0 1 0 0 0 0 0 1 1 0]\n",
      " [0 1 1 1 0 0 0 1 1 1 1 1 0 0 1 1 0 0 1 0]\n",
      " [0 1 1 1 1 1 0 1 0 1 0 0 0 0 1 0 0 1 0 1]\n",
      " [0 1 1 0 1 1 0 0 1 1 1 1 1 1 0 1 1 0 1 0]\n",
      " [1 1 1 1 0 0 1 0 0 1 1 1 0 0 0 1 0 1 0 0]\n",
      " [1 0 0 1 1 0 1 0 0 1 0 0 0 0 0 1 0 0 0 1]\n",
      " [0 0 1 0 1 0 1 1 0 1 0 0 0 0 1 1 0 0 1 0]\n",
      " [0 1 1 0 0 0 1 1 0 0 0 1 0 1 1 0 0 1 0 1]\n",
      " [0 1 1 1 1 0 1 0 0 1 1 0 1 0 0 0 1 0 0 0]\n",
      " [1 0 0 1 1 1 0 1 0 1 1 0 1 1 0 1 0 1 1 0]\n",
      " [0 1 0 0 0 1 0 0 1 0 0 1 0 1 1 0 0 1 0 0]\n",
      " [0 1 0 0 0 1 1 0 0 1 0 1 1 1 1 1 0 0 1 1]\n",
      " [1 0 1 1 1 1 0 1 1 0 1 0 1 1 0 0 1 0 1 1]\n",
      " [1 1 1 0 1 1 1 0 1 0 0 0 0 0 1 0 0 1 1 1]\n",
      " [1 0 0 1 0 1 0 1 0 0 1 1 1 0 0 1 0 0 1 0]]\n"
     ]
    }
   ],
   "source": [
    "print(\"Population before mutation:\\n\"+str(initial_binary_population))\n",
    "print(\"------------------------------------------\")\n",
    "print(\"Population after mutation:\\n\"+str(mutate(initial_binary_population)))"
   ]
  },
  {
   "cell_type": "code",
   "execution_count": 2333,
   "id": "d1dad30d-308d-4152-8a21-7d52e5c64a86",
   "metadata": {},
   "outputs": [],
   "source": [
    "def solar_energy_cost_function(bin_list, min, max):\n",
    "    \"\"\"\n",
    "    solar_energy_cost_function(bin_list, min, max)\n",
    "    function that takes in a binary population and calclulates their\n",
    "    fitness values. This is first done by decoding the value which is\n",
    "    fed into the cost function. The fitness values are appended to an array of\n",
    "    fitness values which are then paired with their corresponsing individuals\n",
    "    and the result is returned by the function\n",
    "    bin_list: the list containing the binary population\n",
    "    min: the lower bound value of the cost function\n",
    "    max: the upper bound value of the cost function\n",
    "    returns: list of tuples of binary population with corresponding fitness values\n",
    "    \"\"\"\n",
    "    # create empty numpy array that will hold the calculated fitness values\n",
    "    fitness_vals = []\n",
    "    \n",
    "    # decode the binary into values that are values for the fitness function\n",
    "    decoded_vals = solar_energy_fitness_calc(bin_list, min, max)\n",
    "    # lop through each decoded value and pass through the cost function to obtain the cost/fitness values\n",
    "    for i in decoded_vals:\n",
    "        val = [(204165.5 / (330 - 2 * i)) + (10400 / (i - 20))]\n",
    "        fitness_vals = np.append(fitness_vals, val)\n",
    "\n",
    "    pop_fitness_data = pop_fitness_combine(bin_list, fitness_vals)\n",
    "    \n",
    "    return pop_fitness_data"
   ]
  },
  {
   "cell_type": "code",
   "execution_count": 2334,
   "id": "7071d583-c2b9-46ef-9589-1e9028dfeeee",
   "metadata": {},
   "outputs": [],
   "source": [
    "def tournament_fitness_selection(pop_fitness_data, selection_limit=4):\n",
    "    comparison_pairs = []\n",
    "    selected_winners = []\n",
    "    for i in range(len(pop_fitness_data)):\n",
    "        possible_pair_indices = [j for j in range(len(pop_fitness_data)) if j != i]\n",
    "        comparison_pairs.append((i, choice(possible_pair_indices)))\n",
    "    for j in comparison_pairs:\n",
    "        if pop_fitness_data[j[0]][1] < pop_fitness_data[j[1]][1]:\n",
    "            selected_winners.append(pop_fitness_data[j[0]][0])\n",
    "    if len(selected_winners) > selection_limit:\n",
    "        selected_winners = selected_winners[:selection_limit]\n",
    "\n",
    "    return selected_winners"
   ]
  },
  {
   "cell_type": "code",
   "execution_count": 2335,
   "id": "0f984d4e-b44c-4b24-8bd7-cd83ce72f6c9",
   "metadata": {},
   "outputs": [],
   "source": [
    "def pop_fitness_combine(bin_pop, fitness_vals):\n",
    "    pop_fitness_data = []\n",
    "\n",
    "    print(\"********************************************Performance**********************************\")\n",
    "    for i in range(len(bin_pop)):\n",
    "        print(f\"Chromosome: {bin_pop[i]}--------Score: {fitness_vals[i]}\")\n",
    "        pop_fitness_data.append((bin_pop[i], fitness_vals[i]))\n",
    "    print(\"*****************************************************************************************\")\n",
    "    return pop_fitness_data"
   ]
  },
  {
   "cell_type": "code",
   "execution_count": 2336,
   "id": "2690c70c-0b29-4f50-9db3-b52ee639b1cc",
   "metadata": {},
   "outputs": [],
   "source": [
    "def crossover_parent_pairing(selection_winners):\n",
    "    return [selection_winners[i:i+2] for i in range(0, len(selection_winners), 2)]"
   ]
  },
  {
   "cell_type": "code",
   "execution_count": 2337,
   "id": "43de4dae-a478-4cca-9b1e-c385602cc7cd",
   "metadata": {},
   "outputs": [],
   "source": [
    "def discrete_genetic_algorithm(init_bin_population, min_bound, max_bound, generations=10):\n",
    "    population = init_bin_population\n",
    "    for i in range(generations):\n",
    "        print(f\"**********************************Generation {i + 1}**********************************\")\n",
    "        pop_fitness_data = solar_energy_cost_function(population, min_bound, max_bound)\n",
    "        selection_winners = tournament_fitness_selection(pop_fitness_data)\n",
    "        parents = crossover_parent_pairing(selection_winners)\n",
    "        children = []\n",
    "        for i in parents:\n",
    "            if len(i) == 2:\n",
    "                crossover_result = crossover(i)\n",
    "                for j in crossover_result:\n",
    "                    children.append(j)\n",
    "        parent_children = np.array(selection_winners + children)\n",
    "        population = mutate(parent_children)"
   ]
  },
  {
   "cell_type": "markdown",
   "id": "d6bfeba9-3ff0-4667-a4f9-80b0c7ae6f5d",
   "metadata": {},
   "source": [
    "# Implementation"
   ]
  },
  {
   "cell_type": "markdown",
   "id": "9b7e9152-7732-4afa-9b95-26c02a776fd9",
   "metadata": {},
   "source": [
    "### Testing the algorithm flow"
   ]
  },
  {
   "cell_type": "code",
   "execution_count": 2340,
   "id": "c88808bc-6b55-468a-a4f7-3895ff6b32ab",
   "metadata": {},
   "outputs": [
    {
     "name": "stdout",
     "output_type": "stream",
     "text": [
      "[[1 1 1 1 0 1 0 1 0 0 0 1 1 1 1 0 1 1 0 1]\n",
      " [1 1 1 0 1 0 0 0 0 0 0 1 1 0 1 0 0 0 1 0]\n",
      " [0 1 1 0 1 0 1 0 1 0 0 1 1 1 0 1 0 1 1 1]\n",
      " [0 1 0 0 1 0 1 1 0 0 1 1 0 0 0 1 0 1 0 0]\n",
      " [1 0 1 0 0 1 1 1 0 1 1 0 1 0 1 1 0 0 1 0]\n",
      " [1 0 0 1 0 0 0 0 0 0 1 1 0 1 0 1 0 1 0 0]\n",
      " [0 1 0 1 1 1 0 0 1 1 1 1 1 0 1 0 0 1 0 0]\n",
      " [0 1 1 0 1 1 1 1 0 1 0 0 0 1 1 1 0 0 1 0]\n",
      " [1 1 0 0 0 0 0 1 1 0 1 0 1 1 0 1 1 1 0 1]\n",
      " [0 0 1 0 1 0 1 0 0 0 1 1 0 1 1 1 1 0 1 0]]\n"
     ]
    }
   ],
   "source": [
    "initial_binary_population = init_population(10, 20)\n",
    "print(initial_binary_population)"
   ]
  },
  {
   "cell_type": "code",
   "execution_count": 2341,
   "id": "9aaf7cc8-4480-4c4e-ba10-bce4c4f129ae",
   "metadata": {},
   "outputs": [
    {
     "name": "stdout",
     "output_type": "stream",
     "text": [
      "********************************************Performance**********************************\n",
      "Chromosome: [1 1 1 1 0 1 0 1 0 0 0 1 1 1 1 0 1 1 0 1]--------Score: 1462.1742349136764\n",
      "Chromosome: [1 1 1 0 1 0 0 0 0 0 0 1 1 0 1 0 0 0 1 0]--------Score: 1427.1347897994879\n",
      "Chromosome: [0 1 1 0 1 0 1 0 1 0 0 1 1 1 0 1 0 1 1 1]--------Score: 1231.7368003672086\n",
      "Chromosome: [0 1 0 0 1 0 1 1 0 0 1 1 0 0 0 1 0 1 0 0]--------Score: 1225.8037670134238\n",
      "Chromosome: [1 0 1 0 0 1 1 1 0 1 1 0 1 0 1 1 0 0 1 0]--------Score: 1295.2865706570942\n",
      "Chromosome: [1 0 0 1 0 0 0 0 0 0 1 1 0 1 0 1 0 1 0 0]--------Score: 1263.9237328195848\n",
      "Chromosome: [0 1 0 1 1 1 0 0 1 1 1 1 1 0 1 0 0 1 0 0]--------Score: 1226.4834623670554\n",
      "Chromosome: [0 1 1 0 1 1 1 1 0 1 0 0 0 1 1 1 0 0 1 0]--------Score: 1234.3755867365717\n",
      "Chromosome: [1 1 0 0 0 0 0 1 1 0 1 0 1 1 0 1 1 1 0 1]--------Score: 1340.775931532054\n",
      "Chromosome: [0 0 1 0 1 0 1 0 0 0 1 1 0 1 1 1 1 0 1 0]--------Score: 1248.6256572708176\n",
      "*****************************************************************************************\n"
     ]
    }
   ],
   "source": [
    "pop_fitness_data = solar_energy_cost_function(initial_binary_population, 40, 90)"
   ]
  },
  {
   "cell_type": "code",
   "execution_count": 2342,
   "id": "51a066df-b274-4e72-9c2a-f75fa3ab4100",
   "metadata": {},
   "outputs": [
    {
     "name": "stdout",
     "output_type": "stream",
     "text": [
      "[array([0, 1, 1, 0, 1, 0, 1, 0, 1, 0, 0, 1, 1, 1, 0, 1, 0, 1, 1, 1]), array([0, 1, 0, 0, 1, 0, 1, 1, 0, 0, 1, 1, 0, 0, 0, 1, 0, 1, 0, 0]), array([1, 0, 1, 0, 0, 1, 1, 1, 0, 1, 1, 0, 1, 0, 1, 1, 0, 0, 1, 0]), array([1, 0, 0, 1, 0, 0, 0, 0, 0, 0, 1, 1, 0, 1, 0, 1, 0, 1, 0, 0])]\n"
     ]
    }
   ],
   "source": [
    "selection_winners = tournament_fitness_selection(pop_fitness_data)\n",
    "print(selection_winners)"
   ]
  },
  {
   "cell_type": "code",
   "execution_count": 2343,
   "id": "f401aea8-5771-409c-bde0-3ea5c298951e",
   "metadata": {},
   "outputs": [
    {
     "name": "stdout",
     "output_type": "stream",
     "text": [
      "[[array([0, 1, 1, 0, 1, 0, 1, 0, 1, 0, 0, 1, 1, 1, 0, 1, 0, 1, 1, 1]), array([0, 1, 0, 0, 1, 0, 1, 1, 0, 0, 1, 1, 0, 0, 0, 1, 0, 1, 0, 0])], [array([1, 0, 1, 0, 0, 1, 1, 1, 0, 1, 1, 0, 1, 0, 1, 1, 0, 0, 1, 0]), array([1, 0, 0, 1, 0, 0, 0, 0, 0, 0, 1, 1, 0, 1, 0, 1, 0, 1, 0, 0])]]\n"
     ]
    }
   ],
   "source": [
    "parents = crossover_parent_pairing(selection_winners)\n",
    "print(parents)"
   ]
  },
  {
   "cell_type": "code",
   "execution_count": 2344,
   "id": "fde2edb6-586a-4729-bf51-128b2e9486d0",
   "metadata": {},
   "outputs": [
    {
     "name": "stdout",
     "output_type": "stream",
     "text": [
      "[array([0, 1, 1, 0, 1, 0, 1, 0, 1, 0, 0, 1, 1, 1, 0, 1, 0, 1, 0, 0]), array([0, 1, 0, 0, 1, 0, 1, 1, 0, 0, 1, 1, 0, 0, 0, 1, 0, 1, 1, 1]), array([1, 0, 1, 0, 0, 1, 1, 1, 0, 1, 1, 1, 0, 1, 0, 1, 0, 1, 0, 0]), array([1, 0, 0, 1, 0, 0, 0, 0, 0, 0, 1, 0, 1, 0, 1, 1, 0, 0, 1, 0])]\n"
     ]
    }
   ],
   "source": [
    "children = []\n",
    "for i in parents:\n",
    "    if len(i) == 2:\n",
    "        crossover_result = crossover(i)\n",
    "        for j in crossover_result:\n",
    "            children.append(j)\n",
    "\n",
    "print(children)"
   ]
  },
  {
   "cell_type": "code",
   "execution_count": 2345,
   "id": "3b23da9a-0bac-49e5-a57f-5fec5c47c0d5",
   "metadata": {},
   "outputs": [
    {
     "name": "stdout",
     "output_type": "stream",
     "text": [
      "[[0 1 1 0 1 0 1 0 1 0 0 1 1 1 0 1 0 1 1 1]\n",
      " [0 1 0 0 1 0 1 1 0 0 1 1 0 0 0 1 0 1 0 0]\n",
      " [1 0 1 0 0 1 1 1 0 1 1 0 1 0 1 1 0 0 1 0]\n",
      " [1 0 0 1 0 0 0 0 0 0 1 1 0 1 0 1 0 1 0 0]\n",
      " [0 1 1 0 1 0 1 0 1 0 0 1 1 1 0 1 0 1 0 0]\n",
      " [0 1 0 0 1 0 1 1 0 0 1 1 0 0 0 1 0 1 1 1]\n",
      " [1 0 1 0 0 1 1 1 0 1 1 1 0 1 0 1 0 1 0 0]\n",
      " [1 0 0 1 0 0 0 0 0 0 1 0 1 0 1 1 0 0 1 0]]\n"
     ]
    }
   ],
   "source": [
    "parent_children = np.array(selection_winners + children)\n",
    "print(parent_children)"
   ]
  },
  {
   "cell_type": "code",
   "execution_count": 2346,
   "id": "72924f39-f957-4eba-849e-41ca1d48dbcb",
   "metadata": {},
   "outputs": [
    {
     "name": "stdout",
     "output_type": "stream",
     "text": [
      "Mutation Chromosome indices:[4]\n"
     ]
    },
    {
     "data": {
      "text/plain": [
       "array([[0, 1, 1, 0, 1, 0, 1, 0, 1, 0, 0, 1, 1, 1, 0, 1, 0, 1, 1, 1],\n",
       "       [0, 1, 0, 0, 1, 0, 1, 1, 0, 0, 1, 1, 0, 0, 0, 1, 0, 1, 0, 0],\n",
       "       [1, 0, 1, 0, 0, 1, 1, 1, 0, 1, 1, 0, 1, 0, 1, 1, 0, 0, 1, 0],\n",
       "       [1, 0, 0, 1, 0, 0, 0, 0, 0, 0, 1, 1, 0, 1, 0, 1, 0, 1, 0, 0],\n",
       "       [0, 1, 1, 0, 1, 1, 1, 0, 1, 0, 0, 1, 1, 1, 0, 1, 0, 1, 1, 0],\n",
       "       [0, 1, 0, 0, 1, 0, 1, 1, 0, 0, 1, 1, 0, 0, 0, 1, 0, 1, 1, 1],\n",
       "       [1, 0, 1, 0, 0, 1, 1, 1, 0, 1, 1, 1, 0, 1, 0, 1, 0, 1, 0, 0],\n",
       "       [1, 0, 0, 1, 0, 0, 0, 0, 0, 0, 1, 0, 1, 0, 1, 1, 0, 0, 1, 0]])"
      ]
     },
     "execution_count": 2346,
     "metadata": {},
     "output_type": "execute_result"
    }
   ],
   "source": [
    "new_population = mutate(parent_children)\n",
    "new_population"
   ]
  },
  {
   "cell_type": "code",
   "execution_count": 2347,
   "id": "7f61349f-cc80-4678-81cf-53d992a0990a",
   "metadata": {},
   "outputs": [],
   "source": [
    "initial_binary_population = init_population(50, 20)"
   ]
  },
  {
   "cell_type": "code",
   "execution_count": 2348,
   "id": "9c95984c-4018-42d6-a2b0-4f9711bf1d32",
   "metadata": {},
   "outputs": [
    {
     "name": "stdout",
     "output_type": "stream",
     "text": [
      "**********************************Generation 1**********************************\n",
      "********************************************Performance**********************************\n",
      "Chromosome: [0 1 0 1 0 0 0 1 1 0 1 0 1 0 0 1 1 1 0 1]--------Score: 1225.1713274789759\n",
      "Chromosome: [1 1 0 0 1 1 1 1 1 0 0 1 1 1 1 0 1 0 1 1]--------Score: 1369.300431909416\n",
      "Chromosome: [0 1 0 0 0 1 1 0 1 0 0 1 0 0 0 1 0 0 1 0]--------Score: 1226.9288256808068\n",
      "Chromosome: [1 0 1 0 0 1 1 0 1 0 1 0 0 0 0 0 0 0 0 0]--------Score: 1294.0770819988013\n",
      "Chromosome: [0 0 0 0 0 1 1 1 0 1 1 1 0 0 1 1 1 1 0 0]--------Score: 1328.0695596400203\n",
      "Chromosome: [1 0 1 0 0 0 0 0 0 1 0 0 1 1 0 0 0 0 1 0]--------Score: 1284.777553518887\n",
      "Chromosome: [0 1 0 1 0 1 1 1 0 1 1 0 0 1 0 0 1 1 0 0]--------Score: 1225.4684984069258\n",
      "Chromosome: [1 0 1 0 0 0 1 0 0 1 1 0 1 1 1 1 0 0 1 0]--------Score: 1287.84901491852\n",
      "Chromosome: [1 1 1 0 1 1 1 0 1 0 1 0 0 0 0 1 0 1 1 0]--------Score: 1444.316790922071\n",
      "Chromosome: [1 1 1 0 0 0 0 1 0 0 1 0 0 1 1 1 0 0 1 1]--------Score: 1409.6796915360305\n",
      "Chromosome: [1 0 0 0 1 1 1 0 1 0 0 1 0 0 1 1 0 0 1 1]--------Score: 1262.0343253191543\n",
      "Chromosome: [1 0 0 0 1 0 1 0 0 1 1 0 0 1 1 0 0 0 0 1]--------Score: 1257.3965267728931\n",
      "Chromosome: [1 1 1 0 0 0 1 0 0 1 0 0 0 0 0 1 1 1 1 0]--------Score: 1412.3970157805911\n",
      "Chromosome: [0 1 0 0 0 0 1 1 0 0 1 1 0 0 1 0 1 1 0 0]--------Score: 1228.123714491629\n",
      "Chromosome: [0 1 1 1 1 1 1 0 1 1 1 1 0 0 1 0 1 1 1 1]--------Score: 1246.1417561835165\n",
      "Chromosome: [0 1 0 0 1 1 1 1 1 1 0 1 0 0 1 0 1 1 1 1]--------Score: 1225.243577386012\n",
      "Chromosome: [0 1 0 0 1 0 0 0 0 0 0 0 0 0 0 1 0 0 1 1]--------Score: 1226.516559868372\n",
      "Chromosome: [0 0 1 0 0 0 1 0 1 1 0 0 0 1 0 0 0 0 0 0]--------Score: 1259.582784251842\n",
      "Chromosome: [1 1 1 1 0 1 1 1 1 0 0 1 0 0 0 1 1 1 1 0]--------Score: 1469.1204706325182\n",
      "Chromosome: [1 0 1 1 0 0 0 0 0 1 1 1 0 0 1 1 1 0 1 1]--------Score: 1309.7368112776282\n",
      "Chromosome: [1 0 1 1 1 1 1 0 0 1 0 0 1 1 1 0 0 1 1 0]--------Score: 1334.3364958883278\n",
      "Chromosome: [0 1 0 0 1 0 0 1 0 1 1 0 1 1 1 1 0 1 0 1]--------Score: 1226.1628777097994\n",
      "Chromosome: [1 1 1 0 1 1 1 0 0 0 0 0 1 0 0 1 1 1 0 0]--------Score: 1442.7260117217\n",
      "Chromosome: [1 0 0 1 1 1 0 1 1 1 0 0 1 1 1 0 0 0 0 0]--------Score: 1281.2833121113388\n",
      "Chromosome: [1 0 1 0 1 0 1 1 0 0 0 1 0 1 1 0 1 0 0 1]--------Score: 1301.0058867540806\n",
      "Chromosome: [0 1 1 0 0 0 1 1 1 1 0 1 0 1 0 0 0 1 1 1]--------Score: 1228.649406306572\n",
      "Chromosome: [1 1 1 0 0 1 1 0 1 1 0 1 0 1 0 1 1 0 1 0]--------Score: 1423.8873811772314\n",
      "Chromosome: [1 1 0 1 0 1 0 1 1 1 0 1 1 1 0 1 1 0 1 0]--------Score: 1383.0969765879104\n",
      "Chromosome: [1 0 0 0 0 1 0 0 1 1 1 0 0 1 1 0 0 1 1 0]--------Score: 1251.720956226964\n",
      "Chromosome: [0 0 1 1 1 1 0 1 1 1 0 1 0 0 0 1 0 1 1 0]--------Score: 1230.7298802813139\n",
      "Chromosome: [0 1 0 0 1 1 1 1 1 1 1 1 0 0 1 1 1 0 0 1]--------Score: 1225.2358697640632\n",
      "Chromosome: [0 1 0 0 1 1 0 0 0 1 0 1 1 0 0 0 0 1 1 0]--------Score: 1225.612628122804\n",
      "Chromosome: [0 1 1 1 0 0 0 0 1 0 1 0 1 1 1 1 1 1 1 0]--------Score: 1235.2533144420793\n",
      "Chromosome: [1 0 1 0 0 1 0 1 1 0 1 1 1 1 1 1 1 1 0 1]--------Score: 1292.7533874632522\n",
      "Chromosome: [1 0 1 1 1 1 1 1 0 0 0 1 0 0 1 1 0 1 0 0]--------Score: 1335.7891256852965\n",
      "Chromosome: [0 0 1 0 0 1 0 1 1 1 1 1 0 0 1 1 0 1 1 0]--------Score: 1254.5771022419945\n",
      "Chromosome: [0 1 1 0 1 0 1 0 1 0 1 1 1 1 1 1 1 1 1 0]--------Score: 1231.8071327736632\n",
      "Chromosome: [1 0 0 1 0 1 1 1 1 1 0 1 0 0 1 1 1 0 1 0]--------Score: 1273.2951264009582\n",
      "Chromosome: [1 0 1 0 1 1 1 1 1 1 0 1 0 0 1 1 0 1 1 1]--------Score: 1308.695133366599\n",
      "Chromosome: [0 0 1 0 0 0 1 1 0 0 1 1 1 1 0 0 1 1 1 0]--------Score: 1258.808932075846\n",
      "Chromosome: [1 1 1 0 1 1 1 0 0 0 1 0 0 0 1 0 1 0 1 1]--------Score: 1442.9872023386092\n",
      "Chromosome: [0 1 0 1 0 0 0 0 0 0 1 0 1 0 1 0 0 1 1 0]--------Score: 1225.2238312766751\n",
      "Chromosome: [1 1 1 1 0 1 1 0 1 1 0 0 1 1 0 1 0 1 1 0]--------Score: 1466.9314125891322\n",
      "Chromosome: [1 1 0 1 1 0 1 1 1 0 1 0 1 1 1 0 1 0 1 1]--------Score: 1396.5265658633668\n",
      "Chromosome: [0 1 1 0 1 0 1 0 1 0 1 1 0 1 1 1 0 1 1 0]--------Score: 1231.7897406783036\n",
      "Chromosome: [1 1 1 0 1 1 0 0 0 1 1 1 0 1 0 1 1 1 0 0]--------Score: 1438.518756321276\n",
      "Chromosome: [0 1 0 0 0 0 1 1 1 0 0 0 0 1 0 0 1 0 0 0]--------Score: 1227.9963929931089\n",
      "Chromosome: [0 0 0 0 0 1 1 1 0 0 0 1 1 0 0 0 1 0 1 0]--------Score: 1329.346154544383\n",
      "Chromosome: [1 1 1 0 0 0 1 0 1 1 0 0 0 0 0 1 1 0 0 1]--------Score: 1413.6313456049584\n",
      "Chromosome: [0 1 0 1 1 1 1 0 0 0 0 1 1 0 1 1 1 0 1 0]--------Score: 1226.772399870265\n",
      "*****************************************************************************************\n",
      "Mutation Chromosome indices:[0]\n",
      "**********************************Generation 2**********************************\n",
      "********************************************Performance**********************************\n",
      "Chromosome: [0 1 0 1 0 0 0 1 0 0 1 0 1 0 0 1 1 0 0 1]--------Score: 1225.1827416178378\n",
      "Chromosome: [0 1 0 0 0 1 1 0 1 0 0 1 0 0 0 1 0 0 1 0]--------Score: 1226.9288256808068\n",
      "Chromosome: [0 1 0 1 0 1 1 1 0 1 1 0 0 1 0 0 1 1 0 0]--------Score: 1225.4684984069258\n",
      "Chromosome: [1 0 0 0 1 1 1 0 1 0 0 1 0 0 1 1 0 0 1 1]--------Score: 1262.0343253191543\n",
      "Chromosome: [0 1 0 1 0 0 0 1 1 0 0 1 0 0 0 1 0 0 1 0]--------Score: 1225.173047028416\n",
      "Chromosome: [0 1 0 0 0 1 1 0 1 0 1 0 1 0 0 1 1 1 0 1]--------Score: 1226.8993725124355\n",
      "Chromosome: [0 1 0 1 0 1 1 0 1 0 0 1 0 0 1 1 0 0 1 1]--------Score: 1225.3788354375474\n",
      "Chromosome: [1 0 0 0 1 1 1 1 0 1 1 0 0 1 0 0 1 1 0 0]--------Score: 1262.9761243204032\n",
      "*****************************************************************************************\n",
      "Mutation Chromosome indices:[3]\n",
      "**********************************Generation 3**********************************\n",
      "********************************************Performance**********************************\n",
      "Chromosome: [0 1 0 1 0 0 0 1 0 0 1 0 1 0 0 1 1 0 0 1]--------Score: 1225.1827416178378\n",
      "Chromosome: [0 1 0 1 0 0 0 1 1 0 0 1 0 0 0 1 0 0 1 0]--------Score: 1225.173047028416\n",
      "Chromosome: [0 1 0 1 0 1 1 0 1 0 0 1 0 0 1 1 0 0 1 1]--------Score: 1225.3788354375474\n",
      "Chromosome: [0 1 0 1 0 0 0 1 0 1 0 1 0 1 0 1 0 0 1 0]--------Score: 1225.1781747937898\n",
      "Chromosome: [0 1 0 1 0 0 0 1 1 0 1 0 1 0 0 1 1 0 0 1]--------Score: 1225.1713437530304\n",
      "*****************************************************************************************\n",
      "Mutation Chromosome indices:[4]\n",
      "**********************************Generation 4**********************************\n",
      "********************************************Performance**********************************\n",
      "Chromosome: [0 1 0 1 0 0 0 1 0 0 1 0 1 0 0 1 1 0 0 1]--------Score: 1225.1827416178378\n",
      "Chromosome: [0 1 0 1 0 0 0 1 1 0 0 1 0 0 0 1 0 0 1 0]--------Score: 1225.173047028416\n",
      "Chromosome: [0 1 0 1 0 0 0 1 1 0 1 0 1 0 0 1 1 0 0 1]--------Score: 1225.1713437530304\n",
      "Chromosome: [0 1 0 1 0 0 0 1 0 0 1 0 1 0 0 1 0 0 1 0]--------Score: 1225.1827910889308\n",
      "Chromosome: [0 0 1 1 0 0 0 1 1 0 0 1 0 0 0 1 1 0 0 1]--------Score: 1240.2177962594528\n",
      "*****************************************************************************************\n",
      "Mutation Chromosome indices:[2]\n",
      "**********************************Generation 5**********************************\n",
      "********************************************Performance**********************************\n",
      "Chromosome: [0 1 0 1 0 0 0 1 0 0 1 0 1 0 0 1 1 0 0 1]--------Score: 1225.1827416178378\n",
      "Chromosome: [0 1 0 1 0 0 0 1 1 0 0 1 0 0 0 1 0 0 1 0]--------Score: 1225.173047028416\n",
      "Chromosome: [0 0 0 0 0 0 0 1 1 0 1 0 1 0 0 1 1 0 0 1]--------Score: 1350.445589483184\n",
      "Chromosome: [0 1 0 1 0 0 0 1 0 0 0 1 0 0 0 1 0 0 1 0]--------Score: 1225.1856149190069\n",
      "Chromosome: [0 1 0 1 0 0 0 1 1 0 1 0 1 0 0 1 1 0 0 1]--------Score: 1225.1713437530304\n",
      "*****************************************************************************************\n",
      "Mutation Chromosome indices:[4]\n",
      "**********************************Generation 6**********************************\n",
      "********************************************Performance**********************************\n",
      "Chromosome: [0 1 0 1 0 0 0 1 0 0 1 0 1 0 0 1 1 0 0 1]--------Score: 1225.1827416178378\n",
      "Chromosome: [0 1 0 1 0 0 0 1 1 0 0 1 0 0 0 1 0 0 1 0]--------Score: 1225.173047028416\n",
      "Chromosome: [0 1 0 1 0 0 0 1 1 0 1 0 1 0 0 1 1 0 0 1]--------Score: 1225.1713437530304\n",
      "Chromosome: [0 1 0 1 0 0 0 1 0 0 1 0 1 0 0 1 1 0 1 0]--------Score: 1225.182734556397\n",
      "Chromosome: [1 1 0 1 0 0 0 1 1 0 0 1 0 0 0 1 1 0 0 1]--------Score: 1373.5364325409666\n",
      "*****************************************************************************************\n",
      "Mutation Chromosome indices:[4]\n",
      "**********************************Generation 7**********************************\n",
      "********************************************Performance**********************************\n",
      "Chromosome: [0 1 0 1 0 0 0 1 1 0 0 1 0 0 0 1 0 0 1 0]--------Score: 1225.173047028416\n",
      "Chromosome: [0 1 0 1 0 0 0 1 1 0 1 0 1 0 0 1 1 0 0 1]--------Score: 1225.1713437530304\n",
      "Chromosome: [0 1 0 1 0 0 0 1 0 0 1 0 1 0 0 1 1 0 1 0]--------Score: 1225.182734556397\n",
      "Chromosome: [0 1 0 1 0 0 0 1 1 0 0 1 0 0 0 1 1 0 0 1]--------Score: 1225.17301457654\n",
      "Chromosome: [0 1 0 1 0 0 1 0 1 0 1 0 1 0 0 1 0 0 1 0]--------Score: 1225.1668226535994\n",
      "*****************************************************************************************\n",
      "Mutation Chromosome indices:[0]\n",
      "**********************************Generation 8**********************************\n",
      "********************************************Performance**********************************\n",
      "Chromosome: [0 1 0 1 1 0 0 1 1 0 1 0 1 0 0 1 0 0 0 1]--------Score: 1225.7965923398417\n",
      "Chromosome: [0 1 0 1 0 0 0 1 1 0 0 1 0 0 0 1 1 0 0 1]--------Score: 1225.17301457654\n",
      "Chromosome: [0 1 0 1 0 0 1 0 1 0 1 0 1 0 0 1 0 0 1 0]--------Score: 1225.1668226535994\n",
      "Chromosome: [0 1 0 1 0 0 0 1 1 0 0 1 0 0 0 1 1 0 0 1]--------Score: 1225.17301457654\n",
      "Chromosome: [0 1 0 1 0 0 0 1 1 0 1 0 1 0 0 1 1 0 0 1]--------Score: 1225.1713437530304\n",
      "*****************************************************************************************\n",
      "Mutation Chromosome indices:[2]\n",
      "**********************************Generation 9**********************************\n",
      "********************************************Performance**********************************\n",
      "Chromosome: [0 1 0 1 0 0 1 0 1 0 1 0 1 0 0 1 0 0 1 0]--------Score: 1225.1668226535994\n",
      "Chromosome: [0 1 0 1 0 0 0 1 1 0 0 1 0 0 0 1 1 0 0 1]--------Score: 1225.17301457654\n",
      "Chromosome: [0 1 0 1 0 1 0 1 0 0 1 0 1 0 0 1 1 0 0 1]--------Score: 1225.2606479439446\n",
      "Chromosome: [0 1 0 1 0 0 1 0 1 0 1 0 1 0 0 1 1 0 0 1]--------Score: 1225.1668356308114\n",
      "Chromosome: [0 1 0 1 0 0 0 1 1 0 0 1 0 0 0 1 0 0 1 0]--------Score: 1225.173047028416\n",
      "*****************************************************************************************\n",
      "Mutation Chromosome indices:[7]\n",
      "**********************************Generation 10**********************************\n",
      "********************************************Performance**********************************\n",
      "Chromosome: [0 1 0 1 0 0 1 0 1 0 1 0 1 0 0 1 0 0 1 0]--------Score: 1225.1668226535994\n",
      "Chromosome: [0 1 0 1 0 0 0 1 1 0 0 1 0 0 0 1 1 0 0 1]--------Score: 1225.17301457654\n",
      "Chromosome: [0 1 0 1 0 0 1 0 1 0 1 0 1 0 0 1 1 0 0 1]--------Score: 1225.1668356308114\n",
      "Chromosome: [0 1 0 1 0 0 0 1 1 0 0 1 0 0 0 1 0 0 1 0]--------Score: 1225.173047028416\n",
      "Chromosome: [0 1 0 1 0 0 1 0 1 0 0 1 0 0 0 1 1 0 0 1]--------Score: 1225.1662279811771\n",
      "Chromosome: [0 1 0 1 0 0 0 1 1 0 1 0 1 0 0 1 0 0 1 0]--------Score: 1225.171372288687\n",
      "Chromosome: [0 1 0 1 0 0 1 0 1 0 1 0 1 0 0 1 0 0 1 0]--------Score: 1225.1668226535994\n",
      "Chromosome: [0 0 0 1 0 0 0 1 1 0 0 1 0 0 0 1 1 1 0 1]--------Score: 1296.4957643498626\n",
      "*****************************************************************************************\n",
      "Mutation Chromosome indices:[1]\n"
     ]
    }
   ],
   "source": [
    "discrete_genetic_algorithm(initial_binary_population, 40, 90)"
   ]
  }
 ],
 "metadata": {
  "kernelspec": {
   "display_name": "base",
   "language": "python",
   "name": "base"
  },
  "language_info": {
   "codemirror_mode": {
    "name": "ipython",
    "version": 3
   },
   "file_extension": ".py",
   "mimetype": "text/x-python",
   "name": "python",
   "nbconvert_exporter": "python",
   "pygments_lexer": "ipython3",
   "version": "3.9.12"
  }
 },
 "nbformat": 4,
 "nbformat_minor": 5
}
