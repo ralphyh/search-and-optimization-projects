{
 "cells": [
  {
   "cell_type": "code",
   "execution_count": 2221,
   "id": "73020491-f1d0-4f90-8190-72a144fc70eb",
   "metadata": {},
   "outputs": [],
   "source": [
    "import numpy as np\n",
    "import math\n",
    "from numpy.random import randint, choice"
   ]
  },
  {
   "cell_type": "code",
   "execution_count": 2222,
   "id": "4a93b1cf-4620-4d78-8779-452a05caa04c",
   "metadata": {},
   "outputs": [],
   "source": [
    "def init_population(pop_size, chromosome_length):\n",
    "    \"\"\"\n",
    "    init_population(pop_size, chromosome_length)\n",
    "    function that initializes a binary population to be used in a discrete\n",
    "    genetic algorithm. The function creates 'pop_size' random binary bits (genes) \n",
    "    of the chromosome of length 'chromosome_length'\n",
    "    po_size: the size of the binary population being created\n",
    "    chromosome_length: the number of bits per individual/chromosome\n",
    "    returns: the binary population\n",
    "    \"\"\"\n",
    "    # Generate random values between 0 and 1. Generate 10 x 20 values\n",
    "    initial_uniform_values = np.random.uniform(0, 1, (pop_size, chromosome_length))\n",
    "    # round off to either 0 or 1\n",
    "    initial_binary_population_boolean = initial_uniform_values >= 0.5\n",
    "    initial_binary_population = initial_binary_population_boolean.astype(int)\n",
    "\n",
    "    return initial_binary_population"
   ]
  },
  {
   "cell_type": "code",
   "execution_count": 2223,
   "id": "4a91279f-86df-4134-bc69-7897bfe444c6",
   "metadata": {},
   "outputs": [],
   "source": [
    "def bin_to_dec(bin_list):\n",
    "    \"\"\"\n",
    "    bin_to_dec(bin_list)\n",
    "    function that takes in a 2D list of binary values and converts \n",
    "    each list to decimal (base 2 format). The function treats each \n",
    "    item in the list as if they were a continuous binary number by \n",
    "    joining them together and does the conversion to decimal format\n",
    "    bin_list: the 2D list\n",
    "    Returns: a list of the converted base 2 numbers\n",
    "    \"\"\"\n",
    "    #empty list that will contain the phenotyoes(base 2 values of the binary numbers)\n",
    "    phenotypes = []\n",
    "\n",
    "    # iteratively loop through the list and stringify the binary values then convert to base 2 int\n",
    "    for i in bin_list:\n",
    "        bin_str = ''\n",
    "        for j in i:\n",
    "            bin_str += str(j)\n",
    "        phenotypes.append(int(bin_str, 2))\n",
    "\n",
    "    return phenotypes"
   ]
  },
  {
   "cell_type": "code",
   "execution_count": 2224,
   "id": "d9152e88-eb96-46a6-9ed4-f56d8feb39cf",
   "metadata": {},
   "outputs": [],
   "source": [
    "def solar_energy_fitness_calc(bin_list, min, max):\n",
    "    \"\"\"\n",
    "    solar_energy_fitness_calc(bin_list, min, max)\n",
    "    function that calculates the fitness values of each binary \n",
    "    number being evaluated in the genetic algorithm. The binary \n",
    "    number list is passed in as a 2D array whose values are lists \n",
    "    of binary values. The function treats each item in the list \n",
    "    as if they were a continuous binary number by joining them \n",
    "    together and does the conversion to decimal format before \n",
    "    calculating the fitness value\n",
    "    bin_list: the 2D list\n",
    "    min: the lower bound of the solar energy test problem\n",
    "    max: the upper bound of the solar energy test problem\n",
    "    Returns: a list of the fitness values of the binary values\n",
    "    \"\"\"\n",
    "    # empty list that will store the fitness values of the binary values\n",
    "    fitness_vals = []\n",
    "\n",
    "    # iteratively convert the binary values to base 2 which you pass to the fitness function\n",
    "    for index, i in enumerate(bin_to_dec(bin_list)):\n",
    "        fitness_vals.append(min + (((max - min) * i) / 2**len(bin_list[index]) - 1))\n",
    "\n",
    "    return fitness_vals"
   ]
  },
  {
   "cell_type": "code",
   "execution_count": 2225,
   "id": "813a145b-6f48-45e0-a30d-2cadf9d588b8",
   "metadata": {},
   "outputs": [],
   "source": [
    "def crossover(bin_parents_list, type='single-point'):\n",
    "    \"\"\"\n",
    "    crossover(bin_parents_list, type='single-point')\n",
    "    function that performs a crossover of 2 parents in the population\n",
    "    and returns 2 children\n",
    "    The type of crossover is dependent on the argument passed in as an\n",
    "    argument. Crossover is done by breaking down the chromosome at randomly\n",
    "    selected points and concatenating with the other parents genes from that\n",
    "    position. This is done without changing the genes of the parents since new\n",
    "    children chromosomes are created.\n",
    "    bin_parents_list: a list of 2 parents that need a crossover done on them\n",
    "    type(optional): the type of crossover desired to be done. The default type \n",
    "    is single point\n",
    "    returns: a list of 2 children that result from the crossover\n",
    "    \"\"\"\n",
    "    bin_children_list = []\n",
    "\n",
    "    if type == 'single-point':\n",
    "        # if the type is set to single-point, perform a single-point crossover\n",
    "        crossover_point = randint(1, len(bin_parents_list[0])-1)\n",
    "        '''\n",
    "        slice the list from beginning to randomly selected index,\n",
    "        append slice of second list from that point to the end to the first.\n",
    "        perform the inverse on the second parent\n",
    "        '''\n",
    "        bin_children_list.append([*bin_parents_list[0][:crossover_point],\\\n",
    "                                  *bin_parents_list[1][crossover_point:]])\n",
    "        bin_children_list.append([*bin_parents_list[1][:crossover_point],\\\n",
    "                                  *bin_parents_list[0][crossover_point:]])\n",
    "    elif type == 'two-point':\n",
    "        # if the type is set to two-point, perform a two-point crossover\n",
    "        crossover_point = randint(low=1, high=len(bin_parents_list[0])-1, size=2)\n",
    "        '''\n",
    "        slice the list from beginning to the first randomly selected index, insert \n",
    "        part of the second part from that index up until the second randomly selected \n",
    "        index and add the last part of the forst index from that point to the end\n",
    "        perform the inverse on the second parent\n",
    "        '''\n",
    "        bin_children_list.append([*bin_parents_list[0][:crossover_point[0]],\\\n",
    "                                  *bin_parents_list[1][crossover_point[0]:crossover_point[1]],\\\n",
    "                                  *bin_parents_list[0][crossover_point[1]:]])\n",
    "        bin_children_list.append([*bin_parents_list[1][:crossover_point[0]],\\\n",
    "                                  *bin_parents_list[0][crossover_point[0]:crossover_point[1]],\\\n",
    "                                  *bin_parents_list[1][crossover_point[1]:]])\n",
    "    elif type == 'uniform':\n",
    "        # if the type is set to uniform, perform uniform crossover\n",
    "        child1 = []\n",
    "        child2 = []\n",
    "        # randomly and uniformly swap bits between the two parents\n",
    "        for i in range(len(bin_parents_list[0])):\n",
    "            crossover_point = randint(0, 2)\n",
    "            if crossover_point == 1:\n",
    "                child1.append(bin_parents_list[1][i])\n",
    "                child2.append(bin_parents_list[0][i])\n",
    "            else:\n",
    "                child1.append(bin_parents_list[0][i])\n",
    "                child2.append(bin_parents_list[1][i])\n",
    "        bin_children_list.append(child1)\n",
    "        bin_children_list.append(child2)\n",
    "                \n",
    "    return np.array(bin_children_list)"
   ]
  },
  {
   "cell_type": "code",
   "execution_count": 2226,
   "id": "aec17b69-0166-43fc-b35f-4d13f6ec3963",
   "metadata": {},
   "outputs": [
    {
     "name": "stdout",
     "output_type": "stream",
     "text": [
      "[[0 0 1 0 1 0 1 1 1 1 1 0 0 1 1 0 0 1 0 1]\n",
      " [0 0 0 1 1 1 0 1 0 0 0 0 0 1 1 0 0 0 0 1]]\n",
      "[[0 0 1 0 1 0 1 1 1 1 1 0 0 1 1 0 0 0 0 1]\n",
      " [0 0 0 1 1 1 0 1 0 0 0 0 0 1 1 0 0 1 0 1]]\n"
     ]
    }
   ],
   "source": [
    "print(initial_binary_population[0:2])\n",
    "print(crossover(initial_binary_population[0:2]))"
   ]
  },
  {
   "cell_type": "code",
   "execution_count": 2227,
   "id": "631107f3-7b9c-49c2-bbc2-5737c38bbab5",
   "metadata": {},
   "outputs": [
    {
     "name": "stdout",
     "output_type": "stream",
     "text": [
      "[[0 0 1 0 1 0 1 1 1 1 1 0 0 1 1 0 0 1 0 1]\n",
      " [0 0 0 1 1 1 0 1 0 0 0 0 0 1 1 0 0 0 0 1]]\n",
      "[[0 0 1 0 1 0 1 1 1 1 1 0 0 1 1 0 0 1 0 1]\n",
      " [0 0 0 1 1 1 0 1 0 0 0 0 0 1 1 0 0 0 0 1]]\n"
     ]
    }
   ],
   "source": [
    "print(initial_binary_population[0:2])\n",
    "print(crossover(initial_binary_population[0:2], type='two-point'))"
   ]
  },
  {
   "cell_type": "code",
   "execution_count": 2228,
   "id": "955f1b33-06d1-401d-a53f-b8424fda39f5",
   "metadata": {},
   "outputs": [
    {
     "name": "stdout",
     "output_type": "stream",
     "text": [
      "[[0 0 1 0 1 0 1 1 1 1 1 0 0 1 1 0 0 1 0 1]\n",
      " [0 0 0 1 1 1 0 1 0 0 0 0 0 1 1 0 0 0 0 1]]\n",
      "[[0 0 0 1 1 0 0 1 1 1 1 0 0 1 1 0 0 0 0 1]\n",
      " [0 0 1 0 1 1 1 1 0 0 0 0 0 1 1 0 0 1 0 1]]\n"
     ]
    }
   ],
   "source": [
    "print(initial_binary_population[0:2])\n",
    "print(crossover(initial_binary_population[0:2], type='uniform'))"
   ]
  },
  {
   "cell_type": "code",
   "execution_count": 2229,
   "id": "fbdd15a4-3256-4b34-b356-af10e20fe588",
   "metadata": {},
   "outputs": [],
   "source": [
    "def mutate(bin_list, mutation_rate=0.1, mutation_ratio=0.1):\n",
    "    \"\"\"\n",
    "    mutate(bin_list, mutation_rate=0.1, mutation_ratio=0.1)\n",
    "    function that performs mutation of random individuals in\n",
    "    a binary population. The number of individuals on which mutation\n",
    "    will take place and the number of bits in an individual affected by\n",
    "    the mutation are determined by the mutation rate and mutation ratio\n",
    "    respectively\n",
    "    bin_list: the binary population on in which mutation will is performed\n",
    "    mutation_rate(optional): The percentage of the populations being mutated\n",
    "    mutation_ratio(optional): The percentage of bits in the population being mutated\n",
    "    returns: the population that has been mutated based in the parameters provided\n",
    "    \"\"\"\n",
    "    '''\n",
    "    randomly obtain the indices of the individuals being mutated. \n",
    "    The number of indices will approximately be based on the percentage \n",
    "    provided as the mutation_rate parameter\n",
    "    '''\n",
    "    mutation_chromosome_indices = choice(np.array(range(len(bin_list))),\\\n",
    "                                         math.ceil(len(bin_list) * mutation_rate),\\\n",
    "                                         replace=False)\n",
    "\n",
    "    print(\"Mutation Chromosome indices:\"+str(mutation_chromosome_indices))\n",
    "    # loop through each individual in the population\n",
    "    for i in mutation_chromosome_indices:\n",
    "        '''\n",
    "        randomly obtain the indices of the bits being mutated. \n",
    "        The number of indices will approximately be based on the percentage \n",
    "        provided as the mutation_ratio parameter\n",
    "        '''\n",
    "        mutation_gene_indices = choice(np.array(range(len(bin_list[i]))),\\\n",
    "                                         int(len(bin_list[i]) * mutation_ratio),\\\n",
    "                                         replace=False)\n",
    "        # flip the bit\n",
    "        for j in mutation_gene_indices:\n",
    "            bin_list[i][j] = abs(bin_list[i][j] - 1)\n",
    "        \n",
    "    return np.array(bin_list)"
   ]
  },
  {
   "cell_type": "code",
   "execution_count": 2230,
   "id": "229c0f8a-190a-4a3a-adc7-8b0ca53262c3",
   "metadata": {},
   "outputs": [
    {
     "name": "stdout",
     "output_type": "stream",
     "text": [
      "Population before mutation:\n",
      "[[0 0 1 0 1 0 1 1 1 1 1 0 0 1 1 0 0 1 0 1]\n",
      " [0 0 0 1 1 1 0 1 0 0 0 0 0 1 1 0 0 0 0 1]\n",
      " [0 0 1 0 1 1 0 1 1 0 1 0 1 1 1 0 0 0 1 0]\n",
      " [1 1 1 0 1 0 0 1 0 1 1 1 0 0 0 0 0 0 1 1]\n",
      " [1 1 1 0 1 0 0 1 1 0 1 0 1 0 1 0 0 1 0 0]\n",
      " [1 1 1 0 1 0 0 1 0 0 0 1 0 0 0 0 0 0 1 1]\n",
      " [0 1 0 1 1 0 1 0 1 0 0 0 0 0 0 1 1 0 1 0]\n",
      " [0 1 0 0 1 0 1 1 1 1 1 1 1 0 1 1 1 1 1 1]\n",
      " [1 0 0 0 0 1 0 0 1 0 1 0 1 0 0 1 0 0 1 1]\n",
      " [1 0 0 1 0 0 1 0 1 1 0 0 1 1 0 0 0 0 1 0]\n",
      " [0 1 1 1 1 1 0 0 1 0 0 1 0 1 1 0 1 1 1 0]\n",
      " [0 0 1 1 0 0 1 1 1 1 1 1 0 1 1 1 0 1 0 0]\n",
      " [0 1 0 0 1 0 1 1 0 0 1 0 0 0 1 1 1 1 0 1]\n",
      " [1 0 1 1 0 0 1 0 1 0 1 1 0 1 0 1 0 0 0 0]\n",
      " [1 0 0 1 1 1 0 0 1 1 1 0 0 0 0 0 1 1 1 1]\n",
      " [0 0 1 1 1 1 0 1 1 0 1 0 0 0 1 1 1 0 0 0]\n",
      " [0 0 1 0 1 1 1 0 0 1 0 0 0 0 0 1 0 0 1 0]\n",
      " [0 0 1 1 0 0 0 1 1 0 0 1 1 1 1 1 0 0 0 1]\n",
      " [1 1 0 1 1 1 1 1 1 1 1 1 0 1 1 1 1 1 1 1]\n",
      " [0 1 1 0 0 1 1 1 1 1 1 0 1 1 1 0 0 1 0 1]\n",
      " [1 0 1 0 1 1 1 0 0 1 0 1 0 1 0 1 1 0 0 1]\n",
      " [0 1 1 0 1 0 1 0 0 1 1 1 0 0 0 0 0 1 0 1]\n",
      " [0 1 0 1 1 0 1 0 0 0 0 0 1 0 0 1 1 0 1 1]\n",
      " [0 1 1 0 1 1 0 1 1 1 0 1 0 1 1 1 0 1 0 1]\n",
      " [0 0 0 0 0 0 1 0 0 0 1 1 1 0 1 0 1 0 1 0]\n",
      " [1 0 0 1 0 0 0 1 1 1 1 0 0 1 1 0 1 1 0 1]\n",
      " [0 0 0 1 0 0 1 1 0 1 0 1 0 0 0 0 0 0 0 1]\n",
      " [1 1 0 0 1 1 0 1 1 0 1 0 0 0 1 0 0 1 1 0]\n",
      " [0 0 1 1 0 1 1 1 1 0 1 1 1 1 0 0 0 1 0 1]\n",
      " [0 0 0 1 1 1 1 1 0 1 0 1 0 1 1 0 0 0 0 1]\n",
      " [0 1 0 0 0 0 1 0 0 0 1 1 1 1 0 1 0 0 0 1]\n",
      " [0 0 1 0 0 1 1 1 0 0 1 1 1 1 1 0 1 0 0 1]\n",
      " [0 1 0 0 1 1 0 0 1 0 1 1 0 1 0 0 0 0 0 0]\n",
      " [1 1 0 1 1 0 0 0 0 0 1 0 0 0 0 0 0 1 1 1]\n",
      " [0 1 0 1 1 0 0 1 1 0 1 1 0 1 1 0 1 0 1 0]\n",
      " [1 1 0 0 1 1 1 1 0 0 0 1 0 1 0 1 0 1 1 0]\n",
      " [1 1 0 1 1 0 0 1 1 1 1 1 0 0 1 0 0 1 0 0]\n",
      " [0 1 0 0 0 0 0 0 1 0 0 0 0 0 1 0 1 0 0 1]\n",
      " [0 1 0 0 0 1 0 1 1 0 0 1 1 0 0 0 1 0 0 1]\n",
      " [1 0 1 1 1 0 1 0 0 0 0 0 1 1 0 1 0 0 1 1]\n",
      " [1 1 1 1 1 0 1 1 1 1 1 1 1 0 0 1 0 1 1 0]\n",
      " [1 0 0 1 1 0 1 1 1 0 1 0 1 1 0 1 0 1 1 1]\n",
      " [0 1 1 1 0 0 1 0 0 1 1 0 0 0 1 0 0 1 0 1]\n",
      " [1 1 0 1 0 0 1 1 0 0 0 0 1 1 1 1 0 0 0 1]\n",
      " [1 0 0 1 1 0 1 0 1 0 1 0 1 0 1 0 1 0 1 1]\n",
      " [0 0 0 0 1 0 1 1 1 1 0 0 1 0 1 1 0 1 1 1]\n",
      " [1 0 0 1 1 0 0 1 1 0 0 1 1 0 1 1 0 1 1 1]\n",
      " [1 1 0 0 0 0 0 0 1 0 0 1 1 0 0 0 1 0 0 1]\n",
      " [0 1 1 1 0 1 1 0 0 0 0 1 0 0 1 1 1 1 1 0]\n",
      " [1 0 0 0 1 1 0 1 0 1 1 1 0 1 0 1 1 1 0 1]]\n",
      "------------------------------------------\n",
      "Mutation Chromosome indices:[15  3 28 36 17]\n",
      "Population after mutation:\n",
      "[[0 0 1 0 1 0 1 1 1 1 1 0 0 1 1 0 0 1 0 1]\n",
      " [0 0 0 1 1 1 0 1 0 0 0 0 0 1 1 0 0 0 0 1]\n",
      " [0 0 1 0 1 1 0 1 1 0 1 0 1 1 1 0 0 0 1 0]\n",
      " [1 1 1 0 1 0 0 1 0 0 1 0 0 0 0 0 0 0 1 1]\n",
      " [1 1 1 0 1 0 0 1 1 0 1 0 1 0 1 0 0 1 0 0]\n",
      " [1 1 1 0 1 0 0 1 0 0 0 1 0 0 0 0 0 0 1 1]\n",
      " [0 1 0 1 1 0 1 0 1 0 0 0 0 0 0 1 1 0 1 0]\n",
      " [0 1 0 0 1 0 1 1 1 1 1 1 1 0 1 1 1 1 1 1]\n",
      " [1 0 0 0 0 1 0 0 1 0 1 0 1 0 0 1 0 0 1 1]\n",
      " [1 0 0 1 0 0 1 0 1 1 0 0 1 1 0 0 0 0 1 0]\n",
      " [0 1 1 1 1 1 0 0 1 0 0 1 0 1 1 0 1 1 1 0]\n",
      " [0 0 1 1 0 0 1 1 1 1 1 1 0 1 1 1 0 1 0 0]\n",
      " [0 1 0 0 1 0 1 1 0 0 1 0 0 0 1 1 1 1 0 1]\n",
      " [1 0 1 1 0 0 1 0 1 0 1 1 0 1 0 1 0 0 0 0]\n",
      " [1 0 0 1 1 1 0 0 1 1 1 0 0 0 0 0 1 1 1 1]\n",
      " [0 0 1 1 1 1 0 1 0 0 1 0 0 0 1 1 0 0 0 0]\n",
      " [0 0 1 0 1 1 1 0 0 1 0 0 0 0 0 1 0 0 1 0]\n",
      " [0 0 1 0 0 0 0 1 1 0 0 1 1 1 1 0 0 0 0 1]\n",
      " [1 1 0 1 1 1 1 1 1 1 1 1 0 1 1 1 1 1 1 1]\n",
      " [0 1 1 0 0 1 1 1 1 1 1 0 1 1 1 0 0 1 0 1]\n",
      " [1 0 1 0 1 1 1 0 0 1 0 1 0 1 0 1 1 0 0 1]\n",
      " [0 1 1 0 1 0 1 0 0 1 1 1 0 0 0 0 0 1 0 1]\n",
      " [0 1 0 1 1 0 1 0 0 0 0 0 1 0 0 1 1 0 1 1]\n",
      " [0 1 1 0 1 1 0 1 1 1 0 1 0 1 1 1 0 1 0 1]\n",
      " [0 0 0 0 0 0 1 0 0 0 1 1 1 0 1 0 1 0 1 0]\n",
      " [1 0 0 1 0 0 0 1 1 1 1 0 0 1 1 0 1 1 0 1]\n",
      " [0 0 0 1 0 0 1 1 0 1 0 1 0 0 0 0 0 0 0 1]\n",
      " [1 1 0 0 1 1 0 1 1 0 1 0 0 0 1 0 0 1 1 0]\n",
      " [0 0 1 1 0 1 1 1 1 1 1 1 1 1 0 0 1 1 0 1]\n",
      " [0 0 0 1 1 1 1 1 0 1 0 1 0 1 1 0 0 0 0 1]\n",
      " [0 1 0 0 0 0 1 0 0 0 1 1 1 1 0 1 0 0 0 1]\n",
      " [0 0 1 0 0 1 1 1 0 0 1 1 1 1 1 0 1 0 0 1]\n",
      " [0 1 0 0 1 1 0 0 1 0 1 1 0 1 0 0 0 0 0 0]\n",
      " [1 1 0 1 1 0 0 0 0 0 1 0 0 0 0 0 0 1 1 1]\n",
      " [0 1 0 1 1 0 0 1 1 0 1 1 0 1 1 0 1 0 1 0]\n",
      " [1 1 0 0 1 1 1 1 0 0 0 1 0 1 0 1 0 1 1 0]\n",
      " [1 1 0 1 1 1 0 1 0 1 1 1 0 0 1 0 0 1 0 0]\n",
      " [0 1 0 0 0 0 0 0 1 0 0 0 0 0 1 0 1 0 0 1]\n",
      " [0 1 0 0 0 1 0 1 1 0 0 1 1 0 0 0 1 0 0 1]\n",
      " [1 0 1 1 1 0 1 0 0 0 0 0 1 1 0 1 0 0 1 1]\n",
      " [1 1 1 1 1 0 1 1 1 1 1 1 1 0 0 1 0 1 1 0]\n",
      " [1 0 0 1 1 0 1 1 1 0 1 0 1 1 0 1 0 1 1 1]\n",
      " [0 1 1 1 0 0 1 0 0 1 1 0 0 0 1 0 0 1 0 1]\n",
      " [1 1 0 1 0 0 1 1 0 0 0 0 1 1 1 1 0 0 0 1]\n",
      " [1 0 0 1 1 0 1 0 1 0 1 0 1 0 1 0 1 0 1 1]\n",
      " [0 0 0 0 1 0 1 1 1 1 0 0 1 0 1 1 0 1 1 1]\n",
      " [1 0 0 1 1 0 0 1 1 0 0 1 1 0 1 1 0 1 1 1]\n",
      " [1 1 0 0 0 0 0 0 1 0 0 1 1 0 0 0 1 0 0 1]\n",
      " [0 1 1 1 0 1 1 0 0 0 0 1 0 0 1 1 1 1 1 0]\n",
      " [1 0 0 0 1 1 0 1 0 1 1 1 0 1 0 1 1 1 0 1]]\n"
     ]
    }
   ],
   "source": [
    "print(\"Population before mutation:\\n\"+str(initial_binary_population))\n",
    "print(\"------------------------------------------\")\n",
    "print(\"Population after mutation:\\n\"+str(mutate(initial_binary_population)))"
   ]
  },
  {
   "cell_type": "code",
   "execution_count": 2231,
   "id": "d1dad30d-308d-4152-8a21-7d52e5c64a86",
   "metadata": {},
   "outputs": [],
   "source": [
    "def solar_energy_cost_function(bin_list, min, max):\n",
    "    \"\"\"\n",
    "    solar_energy_cost_function(bin_list, min, max)\n",
    "    function that takes in a binary population and calclulates their\n",
    "    fitness values. This is first done by decoding the value which is\n",
    "    fed into the cost function. The fitness values are appended to an array of\n",
    "    fitness values which are then paired with their corresponsing individuals\n",
    "    and the result is returned by the function\n",
    "    bin_list: the list containing the binary population\n",
    "    min: the lower bound value of the cost function\n",
    "    max: the upper bound value of the cost function\n",
    "    returns: list of tuples of binary population with corresponding fitness values\n",
    "    \"\"\"\n",
    "    # create empty numpy array that will hold the calculated fitness values\n",
    "    fitness_vals = []\n",
    "    \n",
    "    # decode the binary into values that are values for the fitness function\n",
    "    decoded_vals = solar_energy_fitness_calc(bin_list, min, max)\n",
    "    # lop through each decoded value and pass through the cost function to obtain the cost/fitness values\n",
    "    for i in decoded_vals:\n",
    "        val = [(204165.5 / (330 - 2 * i)) + (10400 / (i - 20))]\n",
    "        fitness_vals = np.append(fitness_vals, val)\n",
    "\n",
    "    pop_fitness_data = pop_fitness_combine(bin_list, fitness_vals)\n",
    "    \n",
    "    return pop_fitness_data"
   ]
  },
  {
   "cell_type": "code",
   "execution_count": 2232,
   "id": "7071d583-c2b9-46ef-9589-1e9028dfeeee",
   "metadata": {},
   "outputs": [],
   "source": [
    "def tournament_fitness_selection(pop_fitness_data, selection_limit=4):\n",
    "    comparison_pairs = []\n",
    "    selected_winners = []\n",
    "    for i in range(len(pop_fitness_data)):\n",
    "        possible_pair_indices = [j for j in range(len(pop_fitness_data)) if j != i]\n",
    "        comparison_pairs.append((i, choice(possible_pair_indices)))\n",
    "    for j in comparison_pairs:\n",
    "        if pop_fitness_data[j[0]][1] < pop_fitness_data[j[1]][1]:\n",
    "            selected_winners.append(pop_fitness_data[j[0]][0])\n",
    "    if len(selected_winners) > selection_limit:\n",
    "        selected_winners = selected_winners[:selection_limit]\n",
    "\n",
    "    return selected_winners"
   ]
  },
  {
   "cell_type": "code",
   "execution_count": 2233,
   "id": "0f984d4e-b44c-4b24-8bd7-cd83ce72f6c9",
   "metadata": {},
   "outputs": [],
   "source": [
    "def pop_fitness_combine(bin_pop, fitness_vals):\n",
    "    pop_fitness_data = []\n",
    "\n",
    "    print(\"********************************************Performance**********************************\")\n",
    "    for i in range(len(bin_pop)):\n",
    "        print(f\"Chromosome: {bin_pop[i]}--------Score: {fitness_vals[i]}\")\n",
    "        pop_fitness_data.append((bin_pop[i], fitness_vals[i]))\n",
    "    print(\"*****************************************************************************************\")\n",
    "    return pop_fitness_data"
   ]
  },
  {
   "cell_type": "code",
   "execution_count": 2234,
   "id": "2690c70c-0b29-4f50-9db3-b52ee639b1cc",
   "metadata": {},
   "outputs": [],
   "source": [
    "def crossover_parent_pairing(selection_winners):\n",
    "    return [selection_winners[i:i+2] for i in range(0, len(selection_winners), 2)]"
   ]
  },
  {
   "cell_type": "code",
   "execution_count": 2235,
   "id": "43de4dae-a478-4cca-9b1e-c385602cc7cd",
   "metadata": {},
   "outputs": [],
   "source": [
    "def discrete_genetic_algorithm(init_bin_population, min_bound, max_bound, generations=10):\n",
    "    population = init_bin_population\n",
    "    for i in range(generations):\n",
    "        print(f\"**********************************Generation {i + 1}**********************************\")\n",
    "        pop_fitness_data = solar_energy_cost_function(population, min_bound, max_bound)\n",
    "        selection_winners = tournament_fitness_selection(pop_fitness_data)\n",
    "        parents = crossover_parent_pairing(selection_winners)\n",
    "        children = []\n",
    "        for i in parents:\n",
    "            if len(i) == 2:\n",
    "                crossover_result = crossover(i)\n",
    "                for j in crossover_result:\n",
    "                    children.append(j)\n",
    "        parent_children = np.array(selection_winners + children)\n",
    "        population = mutate(parent_children)"
   ]
  },
  {
   "cell_type": "markdown",
   "id": "d6bfeba9-3ff0-4667-a4f9-80b0c7ae6f5d",
   "metadata": {},
   "source": [
    "# Implementation"
   ]
  },
  {
   "cell_type": "markdown",
   "id": "9b7e9152-7732-4afa-9b95-26c02a776fd9",
   "metadata": {},
   "source": [
    "### Testing the algorithm flow"
   ]
  },
  {
   "cell_type": "code",
   "execution_count": 2238,
   "id": "c88808bc-6b55-468a-a4f7-3895ff6b32ab",
   "metadata": {},
   "outputs": [
    {
     "name": "stdout",
     "output_type": "stream",
     "text": [
      "[[1 0 0 0 1 0 0 1 0 1 1 1 1 1 0 0 0 1 0 0]\n",
      " [1 0 1 1 0 0 1 1 0 0 0 1 0 0 1 0 0 1 1 0]\n",
      " [0 1 1 1 0 0 1 1 0 0 1 1 0 0 0 0 0 0 0 0]\n",
      " [0 0 1 0 1 0 1 0 0 1 0 1 0 1 1 0 1 0 0 0]\n",
      " [0 1 0 0 0 0 0 0 1 1 0 0 0 0 0 0 0 0 0 1]\n",
      " [0 1 0 1 1 1 1 1 1 1 1 0 0 0 0 1 1 1 0 1]\n",
      " [1 1 0 0 1 1 1 1 0 0 1 1 0 1 0 0 0 1 0 0]\n",
      " [0 1 1 0 1 0 1 0 1 0 0 1 1 1 1 1 0 1 0 0]\n",
      " [1 0 1 0 1 1 1 1 0 0 1 1 1 1 1 0 0 1 1 0]\n",
      " [0 1 1 1 0 1 0 1 1 0 1 0 0 0 1 0 0 1 0 1]]\n"
     ]
    }
   ],
   "source": [
    "initial_binary_population = init_population(10, 20)\n",
    "print(initial_binary_population)"
   ]
  },
  {
   "cell_type": "code",
   "execution_count": 2239,
   "id": "9aaf7cc8-4480-4c4e-ba10-bce4c4f129ae",
   "metadata": {},
   "outputs": [
    {
     "name": "stdout",
     "output_type": "stream",
     "text": [
      "********************************************Performance**********************************\n",
      "Chromosome: [1 0 0 0 1 0 0 1 0 1 1 1 1 1 0 0 0 1 0 0]--------Score: 1256.419708752148\n",
      "Chromosome: [1 0 1 1 0 0 1 1 0 0 0 1 0 0 1 0 0 1 1 0]--------Score: 1314.1617791181634\n",
      "Chromosome: [0 1 1 1 0 0 1 1 0 0 1 1 0 0 0 0 0 0 0 0]--------Score: 1236.9006515817432\n",
      "Chromosome: [0 0 1 0 1 0 1 0 0 1 0 1 0 1 1 0 1 0 0 0]--------Score: 1248.4693764320707\n",
      "Chromosome: [0 1 0 0 0 0 0 0 1 1 0 0 0 0 0 0 0 0 0 1]--------Score: 1229.2001586488866\n",
      "Chromosome: [0 1 0 1 1 1 1 1 1 1 1 0 0 0 0 1 1 1 0 1]--------Score: 1227.2810310716477\n",
      "Chromosome: [1 1 0 0 1 1 1 1 0 0 1 1 0 1 0 0 0 1 0 0]--------Score: 1368.4046549468933\n",
      "Chromosome: [0 1 1 0 1 0 1 0 1 0 0 1 1 1 1 1 0 1 0 0]--------Score: 1231.7404933879561\n",
      "Chromosome: [1 0 1 0 1 1 1 1 0 0 1 1 1 1 1 0 0 1 1 0]--------Score: 1307.7315747418404\n",
      "Chromosome: [0 1 1 1 0 1 0 1 1 0 1 0 0 0 1 0 0 1 0 1]--------Score: 1238.622164564073\n",
      "*****************************************************************************************\n"
     ]
    }
   ],
   "source": [
    "pop_fitness_data = solar_energy_cost_function(initial_binary_population, 40, 90)"
   ]
  },
  {
   "cell_type": "code",
   "execution_count": 2240,
   "id": "51a066df-b274-4e72-9c2a-f75fa3ab4100",
   "metadata": {},
   "outputs": [
    {
     "name": "stdout",
     "output_type": "stream",
     "text": [
      "[array([1, 0, 0, 0, 1, 0, 0, 1, 0, 1, 1, 1, 1, 1, 0, 0, 0, 1, 0, 0]), array([0, 1, 1, 1, 0, 0, 1, 1, 0, 0, 1, 1, 0, 0, 0, 0, 0, 0, 0, 0]), array([0, 0, 1, 0, 1, 0, 1, 0, 0, 1, 0, 1, 0, 1, 1, 0, 1, 0, 0, 0]), array([0, 1, 0, 0, 0, 0, 0, 0, 1, 1, 0, 0, 0, 0, 0, 0, 0, 0, 0, 1])]\n"
     ]
    }
   ],
   "source": [
    "selection_winners = tournament_fitness_selection(pop_fitness_data)\n",
    "print(selection_winners)"
   ]
  },
  {
   "cell_type": "code",
   "execution_count": 2241,
   "id": "f401aea8-5771-409c-bde0-3ea5c298951e",
   "metadata": {},
   "outputs": [
    {
     "name": "stdout",
     "output_type": "stream",
     "text": [
      "[[array([1, 0, 0, 0, 1, 0, 0, 1, 0, 1, 1, 1, 1, 1, 0, 0, 0, 1, 0, 0]), array([0, 1, 1, 1, 0, 0, 1, 1, 0, 0, 1, 1, 0, 0, 0, 0, 0, 0, 0, 0])], [array([0, 0, 1, 0, 1, 0, 1, 0, 0, 1, 0, 1, 0, 1, 1, 0, 1, 0, 0, 0]), array([0, 1, 0, 0, 0, 0, 0, 0, 1, 1, 0, 0, 0, 0, 0, 0, 0, 0, 0, 1])]]\n"
     ]
    }
   ],
   "source": [
    "parents = crossover_parent_pairing(selection_winners)\n",
    "print(parents)"
   ]
  },
  {
   "cell_type": "code",
   "execution_count": 2242,
   "id": "fde2edb6-586a-4729-bf51-128b2e9486d0",
   "metadata": {},
   "outputs": [
    {
     "name": "stdout",
     "output_type": "stream",
     "text": [
      "[array([1, 0, 0, 0, 1, 0, 0, 1, 0, 0, 1, 1, 0, 0, 0, 0, 0, 0, 0, 0]), array([0, 1, 1, 1, 0, 0, 1, 1, 0, 1, 1, 1, 1, 1, 0, 0, 0, 1, 0, 0]), array([0, 0, 0, 0, 0, 0, 0, 0, 1, 1, 0, 0, 0, 0, 0, 0, 0, 0, 0, 1]), array([0, 1, 1, 0, 1, 0, 1, 0, 0, 1, 0, 1, 0, 1, 1, 0, 1, 0, 0, 0])]\n"
     ]
    }
   ],
   "source": [
    "children = []\n",
    "for i in parents:\n",
    "    if len(i) == 2:\n",
    "        crossover_result = crossover(i)\n",
    "        for j in crossover_result:\n",
    "            children.append(j)\n",
    "\n",
    "print(children)"
   ]
  },
  {
   "cell_type": "code",
   "execution_count": 2243,
   "id": "3b23da9a-0bac-49e5-a57f-5fec5c47c0d5",
   "metadata": {},
   "outputs": [
    {
     "name": "stdout",
     "output_type": "stream",
     "text": [
      "[[1 0 0 0 1 0 0 1 0 1 1 1 1 1 0 0 0 1 0 0]\n",
      " [0 1 1 1 0 0 1 1 0 0 1 1 0 0 0 0 0 0 0 0]\n",
      " [0 0 1 0 1 0 1 0 0 1 0 1 0 1 1 0 1 0 0 0]\n",
      " [0 1 0 0 0 0 0 0 1 1 0 0 0 0 0 0 0 0 0 1]\n",
      " [1 0 0 0 1 0 0 1 0 0 1 1 0 0 0 0 0 0 0 0]\n",
      " [0 1 1 1 0 0 1 1 0 1 1 1 1 1 0 0 0 1 0 0]\n",
      " [0 0 0 0 0 0 0 0 1 1 0 0 0 0 0 0 0 0 0 1]\n",
      " [0 1 1 0 1 0 1 0 0 1 0 1 0 1 1 0 1 0 0 0]]\n"
     ]
    }
   ],
   "source": [
    "parent_children = np.array(selection_winners + children)\n",
    "print(parent_children)"
   ]
  },
  {
   "cell_type": "code",
   "execution_count": 2244,
   "id": "72924f39-f957-4eba-849e-41ca1d48dbcb",
   "metadata": {},
   "outputs": [
    {
     "name": "stdout",
     "output_type": "stream",
     "text": [
      "Mutation Chromosome indices:[0]\n"
     ]
    },
    {
     "data": {
      "text/plain": [
       "array([[1, 0, 0, 0, 1, 0, 0, 1, 1, 1, 1, 1, 1, 1, 0, 0, 0, 1, 1, 0],\n",
       "       [0, 1, 1, 1, 0, 0, 1, 1, 0, 0, 1, 1, 0, 0, 0, 0, 0, 0, 0, 0],\n",
       "       [0, 0, 1, 0, 1, 0, 1, 0, 0, 1, 0, 1, 0, 1, 1, 0, 1, 0, 0, 0],\n",
       "       [0, 1, 0, 0, 0, 0, 0, 0, 1, 1, 0, 0, 0, 0, 0, 0, 0, 0, 0, 1],\n",
       "       [1, 0, 0, 0, 1, 0, 0, 1, 0, 0, 1, 1, 0, 0, 0, 0, 0, 0, 0, 0],\n",
       "       [0, 1, 1, 1, 0, 0, 1, 1, 0, 1, 1, 1, 1, 1, 0, 0, 0, 1, 0, 0],\n",
       "       [0, 0, 0, 0, 0, 0, 0, 0, 1, 1, 0, 0, 0, 0, 0, 0, 0, 0, 0, 1],\n",
       "       [0, 1, 1, 0, 1, 0, 1, 0, 0, 1, 0, 1, 0, 1, 1, 0, 1, 0, 0, 0]])"
      ]
     },
     "execution_count": 2244,
     "metadata": {},
     "output_type": "execute_result"
    }
   ],
   "source": [
    "new_population = mutate(parent_children)\n",
    "new_population"
   ]
  },
  {
   "cell_type": "code",
   "execution_count": 2245,
   "id": "7f61349f-cc80-4678-81cf-53d992a0990a",
   "metadata": {},
   "outputs": [],
   "source": [
    "initial_binary_population = init_population(50, 20)"
   ]
  },
  {
   "cell_type": "code",
   "execution_count": 2246,
   "id": "9c95984c-4018-42d6-a2b0-4f9711bf1d32",
   "metadata": {},
   "outputs": [
    {
     "name": "stdout",
     "output_type": "stream",
     "text": [
      "**********************************Generation 1**********************************\n",
      "********************************************Performance**********************************\n",
      "Chromosome: [1 1 1 1 1 1 0 1 0 0 1 1 0 0 1 1 0 1 0 1]--------Score: 1485.5279653452014\n",
      "Chromosome: [1 0 0 1 1 1 0 1 0 0 0 0 1 1 0 1 0 0 1 1]--------Score: 1280.246381249502\n",
      "Chromosome: [0 1 1 0 1 1 1 0 0 0 0 0 0 0 0 0 0 1 0 0]--------Score: 1233.6121841659983\n",
      "Chromosome: [0 1 0 0 0 0 0 0 1 1 0 1 0 1 0 0 1 1 0 1]--------Score: 1229.1616371757923\n",
      "Chromosome: [1 0 1 1 1 1 0 1 1 1 0 0 1 0 1 1 0 0 1 0]--------Score: 1333.3731986724279\n",
      "Chromosome: [0 0 0 0 1 1 1 1 1 0 0 1 1 1 0 1 0 0 0 0]--------Score: 1301.9416700961453\n",
      "Chromosome: [1 0 0 1 0 1 1 0 0 0 0 0 0 0 0 1 0 0 1 1]--------Score: 1270.9710056566648\n",
      "Chromosome: [0 1 0 1 0 1 0 0 0 0 0 0 1 1 1 1 1 1 0 1]--------Score: 1225.2010172096752\n",
      "Chromosome: [0 1 1 1 1 1 0 1 1 1 0 1 0 0 1 1 0 1 1 0]--------Score: 1245.15551113193\n",
      "Chromosome: [0 1 1 0 0 1 1 0 1 1 1 1 0 1 0 0 0 1 1 0]--------Score: 1229.9580054372918\n",
      "Chromosome: [1 0 0 0 1 0 0 1 0 1 0 1 1 0 1 0 1 0 0 1]--------Score: 1256.2800838959772\n",
      "Chromosome: [0 1 1 0 0 0 1 0 1 0 0 1 0 0 0 0 0 1 0 0]--------Score: 1228.175369486833\n",
      "Chromosome: [0 0 1 1 0 1 0 1 0 1 1 1 0 0 1 1 1 0 1 0]--------Score: 1236.6362766582458\n",
      "Chromosome: [0 1 0 1 0 1 1 0 1 1 1 1 1 1 0 1 0 1 1 1]--------Score: 1225.422366316176\n",
      "Chromosome: [1 0 1 0 1 1 0 1 0 1 1 1 1 0 0 0 1 1 0 1]--------Score: 1304.831670011335\n",
      "Chromosome: [0 0 0 1 1 0 0 0 1 1 1 1 1 0 1 1 0 0 1 1]--------Score: 1278.3438117536837\n",
      "Chromosome: [1 0 1 1 0 1 0 1 0 0 1 0 1 1 1 0 0 0 1 0]--------Score: 1317.7994848249232\n",
      "Chromosome: [0 1 0 1 1 0 0 1 0 1 1 0 1 0 0 1 1 1 1 0]--------Score: 1225.7552347989804\n",
      "Chromosome: [1 1 0 0 1 0 0 0 1 1 1 1 0 0 0 0 1 1 0 0]--------Score: 1355.2470399113863\n",
      "Chromosome: [1 1 0 0 0 1 1 0 0 0 1 1 1 1 1 1 0 1 1 1]--------Score: 1349.7837066886148\n",
      "Chromosome: [0 1 0 0 1 1 0 0 1 1 0 0 1 0 0 0 0 0 0 1]--------Score: 1225.5493426377423\n",
      "Chromosome: [0 1 0 0 1 0 1 1 0 1 0 0 1 0 1 1 0 1 0 0]--------Score: 1225.7855257695694\n",
      "Chromosome: [1 0 1 1 0 0 0 1 1 1 1 0 0 1 1 0 1 0 0 0]--------Score: 1312.1702757082157\n",
      "Chromosome: [0 1 1 0 1 0 0 1 0 1 0 1 1 0 0 0 1 0 1 0]--------Score: 1231.0906236185363\n",
      "Chromosome: [1 0 0 0 1 0 0 0 0 1 0 0 1 1 0 0 0 1 1 0]--------Score: 1255.1704128388174\n",
      "Chromosome: [1 0 0 0 1 1 1 0 1 1 0 0 0 1 1 1 1 0 1 0]--------Score: 1262.2689838690176\n",
      "Chromosome: [1 0 0 0 1 1 0 1 1 1 1 0 0 0 0 0 0 1 1 0]--------Score: 1261.2391724567829\n",
      "Chromosome: [0 1 0 1 0 0 1 0 1 0 0 0 0 0 0 1 1 1 0 1]--------Score: 1225.1659446851786\n",
      "Chromosome: [0 0 1 0 1 0 1 0 0 1 1 1 0 0 1 1 1 1 0 1]--------Score: 1248.321595502765\n",
      "Chromosome: [0 0 1 1 0 1 0 1 1 1 1 1 0 1 0 0 0 1 1 0]--------Score: 1236.2130239025118\n",
      "Chromosome: [0 0 1 1 1 0 1 1 0 1 1 0 1 0 0 1 1 1 0 1]--------Score: 1232.1872433298988\n",
      "Chromosome: [0 1 0 1 0 0 0 1 0 0 0 0 1 0 0 1 0 1 0 1]--------Score: 1225.1865807653605\n",
      "Chromosome: [0 1 1 0 1 1 0 0 0 0 0 1 0 0 1 1 1 1 0 0]--------Score: 1232.5198824243785\n",
      "Chromosome: [1 1 0 1 1 1 1 0 1 0 0 0 1 0 1 1 0 0 1 1]--------Score: 1403.3421632298437\n",
      "Chromosome: [1 0 1 1 1 0 0 0 0 1 1 0 0 0 1 0 0 0 0 0]--------Score: 1323.456151631169\n",
      "Chromosome: [1 0 1 0 0 0 1 0 1 0 1 1 1 0 1 1 1 0 0 1]--------Score: 1288.283812014949\n",
      "Chromosome: [0 0 1 0 0 1 0 0 0 1 1 1 1 0 0 0 1 0 0 0]--------Score: 1256.8409514441364\n",
      "Chromosome: [0 1 1 1 0 0 0 1 0 1 0 0 1 1 0 0 0 0 0 1]--------Score: 1235.6447023791122\n",
      "Chromosome: [0 0 0 0 0 1 0 0 0 1 1 0 1 0 1 0 0 0 0 1]--------Score: 1339.3709698152566\n",
      "Chromosome: [0 0 0 1 0 1 0 0 1 0 0 0 1 0 0 0 0 1 0 0]--------Score: 1288.7872818176336\n",
      "Chromosome: [1 0 0 1 1 0 0 1 1 1 0 0 1 0 0 1 1 0 1 0]--------Score: 1275.8542944170413\n",
      "Chromosome: [0 0 1 1 1 0 0 1 0 1 1 1 1 0 0 0 1 0 1 1]--------Score: 1233.5026714266894\n",
      "Chromosome: [1 1 1 1 0 1 0 0 1 1 0 1 0 0 0 1 0 1 0 0]--------Score: 1461.3229888920193\n",
      "Chromosome: [1 1 0 0 0 1 1 0 1 0 0 1 0 0 0 1 0 1 0 1]--------Score: 1350.4266045486447\n",
      "Chromosome: [1 0 1 1 1 1 0 1 1 0 1 1 1 1 0 0 0 0 1 1]--------Score: 1333.2638258210845\n",
      "Chromosome: [0 0 1 0 0 1 0 0 0 0 1 0 0 0 0 1 0 1 0 0]--------Score: 1257.3774218073804\n",
      "Chromosome: [0 1 1 1 1 1 1 0 1 0 1 0 0 0 1 0 1 0 1 1]--------Score: 1245.8643672621656\n",
      "Chromosome: [1 1 0 1 0 0 0 1 0 0 0 0 0 0 0 0 1 0 0 0]--------Score: 1372.2983106666597\n",
      "Chromosome: [0 1 0 1 0 0 0 1 0 0 0 0 0 0 1 0 0 1 1 0]--------Score: 1225.1874576472187\n",
      "Chromosome: [0 0 1 1 0 1 1 0 0 1 0 0 0 1 0 1 0 0 0 0]--------Score: 1235.952598867561\n",
      "*****************************************************************************************\n",
      "Mutation Chromosome indices:[0]\n",
      "**********************************Generation 2**********************************\n",
      "********************************************Performance**********************************\n",
      "Chromosome: [0 1 1 0 1 1 1 0 1 0 0 0 1 0 0 0 0 1 0 0]--------Score: 1233.9261029298355\n",
      "Chromosome: [0 1 0 0 0 0 0 0 1 1 0 1 0 1 0 0 1 1 0 1]--------Score: 1229.1616371757923\n",
      "Chromosome: [0 0 0 0 1 1 1 1 1 0 0 1 1 1 0 1 0 0 0 0]--------Score: 1301.9416700961453\n",
      "Chromosome: [1 0 0 1 0 1 1 0 0 0 0 0 0 0 0 1 0 0 1 1]--------Score: 1270.9710056566648\n",
      "Chromosome: [0 1 1 0 1 1 1 0 0 0 0 0 0 0 0 0 1 1 0 1]--------Score: 1233.6134716416896\n",
      "Chromosome: [0 1 0 0 0 0 0 0 1 1 0 1 0 1 0 0 0 1 0 0]--------Score: 1229.1626788024323\n",
      "Chromosome: [0 0 0 0 0 1 1 0 0 0 0 0 0 0 0 1 0 0 1 1]--------Score: 1333.3385629294485\n",
      "Chromosome: [1 0 0 1 1 1 1 1 1 0 0 1 1 1 0 1 0 0 0 0]--------Score: 1283.80906445518\n",
      "*****************************************************************************************\n",
      "Mutation Chromosome indices:[7]\n",
      "**********************************Generation 3**********************************\n",
      "********************************************Performance**********************************\n",
      "Chromosome: [0 1 0 0 0 0 0 0 1 1 0 1 0 1 0 0 1 1 0 1]--------Score: 1229.1616371757923\n",
      "Chromosome: [0 1 1 0 1 1 1 0 0 0 0 0 0 0 0 0 1 1 0 1]--------Score: 1233.6134716416896\n",
      "Chromosome: [0 1 0 0 0 0 0 0 1 1 0 1 0 1 0 0 0 1 0 0]--------Score: 1229.1626788024323\n",
      "Chromosome: [1 0 0 1 1 1 1 1 1 0 0 1 1 1 0 1 0 0 0 0]--------Score: 1283.80906445518\n",
      "Chromosome: [0 1 0 0 0 0 0 0 1 1 0 0 0 0 0 0 1 1 0 1]--------Score: 1229.1987628309148\n",
      "Chromosome: [0 1 1 0 1 1 1 0 0 0 0 1 0 1 0 0 1 1 0 1]--------Score: 1233.6593074666075\n",
      "Chromosome: [0 1 0 0 0 0 0 0 1 1 0 1 0 1 0 1 0 0 0 0]--------Score: 1229.1612899994711\n",
      "Chromosome: [1 0 0 1 1 1 1 1 1 0 1 1 1 1 0 0 0 1 0 1]--------Score: 1283.9817016559057\n",
      "*****************************************************************************************\n",
      "Mutation Chromosome indices:[3]\n",
      "**********************************Generation 4**********************************\n",
      "********************************************Performance**********************************\n",
      "Chromosome: [0 1 0 0 0 0 0 0 1 1 0 1 0 1 0 0 1 1 0 1]--------Score: 1229.1616371757923\n",
      "Chromosome: [0 1 0 0 0 0 0 0 1 1 0 1 0 1 0 0 0 1 0 0]--------Score: 1229.1626788024323\n",
      "Chromosome: [0 1 0 0 0 0 0 0 1 1 0 0 0 0 0 0 1 1 0 1]--------Score: 1229.1987628309148\n",
      "Chromosome: [0 1 1 1 1 1 1 0 0 0 1 1 0 1 0 0 1 1 0 1]--------Score: 1245.487285418173\n",
      "Chromosome: [0 1 0 0 0 0 0 0 1 1 0 1 0 1 0 0 0 1 0 0]--------Score: 1229.1626788024323\n",
      "Chromosome: [0 1 0 0 0 0 0 0 1 1 0 1 0 1 0 0 1 1 0 1]--------Score: 1229.1616371757923\n",
      "Chromosome: [0 1 0 0 0 0 1 0 0 0 0 1 0 1 0 0 1 1 0 1]--------Score: 1228.592677137449\n",
      "Chromosome: [0 1 1 0 1 1 0 0 1 1 0 0 0 0 0 0 1 1 0 1]--------Score: 1232.895730929045\n",
      "*****************************************************************************************\n",
      "Mutation Chromosome indices:[2]\n",
      "**********************************Generation 5**********************************\n",
      "********************************************Performance**********************************\n",
      "Chromosome: [0 1 0 0 0 0 0 0 1 1 0 1 0 1 0 0 0 1 0 0]--------Score: 1229.1626788024323\n",
      "Chromosome: [0 1 0 0 0 0 0 0 1 1 0 1 0 1 0 0 1 1 0 1]--------Score: 1229.1616371757923\n",
      "Chromosome: [0 1 0 1 0 0 1 0 0 0 0 1 0 1 0 0 0 1 0 1]--------Score: 1225.1665103322448\n",
      "Chromosome: [0 1 1 0 1 1 0 0 1 1 0 0 0 0 0 0 1 1 0 1]--------Score: 1232.895730929045\n",
      "Chromosome: [0 1 0 0 0 0 0 0 1 1 0 1 0 1 0 0 1 1 0 1]--------Score: 1229.1616371757923\n",
      "Chromosome: [0 1 0 0 0 0 0 0 1 1 0 1 0 1 0 0 0 1 0 0]--------Score: 1229.1626788024323\n",
      "Chromosome: [0 1 0 0 0 0 0 0 1 1 0 0 0 0 0 0 1 1 0 1]--------Score: 1229.1987628309148\n",
      "Chromosome: [0 1 1 0 1 1 1 0 0 0 0 1 0 1 0 0 1 1 0 1]--------Score: 1233.6593074666075\n",
      "*****************************************************************************************\n",
      "Mutation Chromosome indices:[7]\n",
      "**********************************Generation 6**********************************\n",
      "********************************************Performance**********************************\n",
      "Chromosome: [0 1 0 0 0 0 0 0 1 1 0 1 0 1 0 0 0 1 0 0]--------Score: 1229.1626788024323\n",
      "Chromosome: [0 1 0 0 0 0 0 0 1 1 0 1 0 1 0 0 1 1 0 1]--------Score: 1229.1616371757923\n",
      "Chromosome: [0 1 0 1 0 0 1 0 0 0 0 1 0 1 0 0 0 1 0 1]--------Score: 1225.1665103322448\n",
      "Chromosome: [0 1 0 0 0 0 0 0 1 1 0 1 0 1 0 0 1 1 0 1]--------Score: 1229.1616371757923\n",
      "Chromosome: [0 1 0 0 0 0 0 0 1 1 0 1 0 1 0 0 1 1 0 1]--------Score: 1229.1616371757923\n",
      "Chromosome: [0 1 0 0 0 0 0 0 1 1 0 1 0 1 0 0 0 1 0 0]--------Score: 1229.1626788024323\n",
      "Chromosome: [0 1 0 1 0 0 1 0 0 0 0 1 0 1 0 0 1 1 0 1]--------Score: 1225.1664976562872\n",
      "Chromosome: [0 1 0 0 0 0 0 0 1 1 0 1 0 0 0 0 0 1 1 1]--------Score: 1229.1697425785037\n",
      "*****************************************************************************************\n",
      "Mutation Chromosome indices:[2]\n",
      "**********************************Generation 7**********************************\n",
      "********************************************Performance**********************************\n",
      "Chromosome: [0 1 0 0 0 0 0 0 1 1 0 1 0 1 0 0 1 1 0 1]--------Score: 1229.1616371757923\n",
      "Chromosome: [0 1 0 1 0 0 1 0 0 0 0 1 0 1 0 0 0 1 0 1]--------Score: 1225.1665103322448\n",
      "Chromosome: [0 1 0 1 0 1 0 0 1 1 0 1 0 1 0 0 1 1 0 1]--------Score: 1225.2397031815453\n",
      "Chromosome: [0 1 0 1 0 0 1 0 0 0 0 1 0 1 0 0 1 1 0 1]--------Score: 1225.1664976562872\n",
      "Chromosome: [0 1 0 0 0 0 0 0 1 1 0 1 0 1 0 0 1 1 0 1]--------Score: 1229.1616371757923\n",
      "Chromosome: [0 1 0 1 0 0 1 0 0 0 0 1 0 1 0 0 0 1 0 1]--------Score: 1225.1665103322448\n",
      "Chromosome: [0 1 0 1 0 0 1 0 0 0 0 1 0 1 0 0 1 1 0 1]--------Score: 1225.1664976562872\n",
      "Chromosome: [0 1 0 0 0 0 0 0 1 1 0 1 0 1 0 0 1 1 0 1]--------Score: 1229.1616371757923\n",
      "*****************************************************************************************\n",
      "Mutation Chromosome indices:[4]\n",
      "**********************************Generation 8**********************************\n",
      "********************************************Performance**********************************\n",
      "Chromosome: [0 1 0 1 0 1 0 0 1 1 0 1 0 1 0 0 1 1 0 1]--------Score: 1225.2397031815453\n",
      "Chromosome: [0 1 0 1 0 0 1 0 0 0 0 1 0 1 0 0 1 1 0 1]--------Score: 1225.1664976562872\n",
      "Chromosome: [0 1 0 1 0 0 1 0 0 0 0 1 0 1 0 0 0 1 0 1]--------Score: 1225.1665103322448\n",
      "Chromosome: [0 1 0 1 0 1 0 0 1 1 0 1 0 1 0 0 1 1 0 1]--------Score: 1225.2397031815453\n",
      "Chromosome: [0 1 0 1 0 0 1 0 0 0 0 1 0 1 0 0 1 0 0 0]--------Score: 1225.1665055678918\n",
      "*****************************************************************************************\n",
      "Mutation Chromosome indices:[2]\n",
      "**********************************Generation 9**********************************\n",
      "********************************************Performance**********************************\n",
      "Chromosome: [0 1 0 1 0 0 1 0 0 0 0 1 0 1 0 0 1 1 0 1]--------Score: 1225.1664976562872\n",
      "Chromosome: [0 1 0 1 0 0 1 0 0 0 0 1 0 1 0 0 1 0 0 0]--------Score: 1225.1665055678918\n",
      "Chromosome: [0 1 0 1 0 0 0 0 0 0 0 1 0 1 0 0 1 0 1 0]--------Score: 1225.2284716976847\n",
      "Chromosome: [0 1 0 1 0 0 1 0 0 0 0 1 0 1 0 0 1 1 0 1]--------Score: 1225.1664976562872\n",
      "*****************************************************************************************\n",
      "Mutation Chromosome indices:[1]\n",
      "**********************************Generation 10**********************************\n",
      "********************************************Performance**********************************\n",
      "Chromosome: [0 1 0 1 0 0 1 0 0 0 0 1 0 1 0 0 1 1 0 1]--------Score: 1225.1664976562872\n",
      "Chromosome: [0 1 1 1 0 1 1 0 0 0 0 1 0 1 0 0 1 1 0 1]--------Score: 1238.948484914295\n",
      "Chromosome: [0 1 0 1 0 0 1 0 0 0 0 1 0 1 0 0 1 1 0 1]--------Score: 1225.1664976562872\n",
      "Chromosome: [0 1 0 1 0 0 1 0 0 0 0 1 0 1 0 0 1 1 0 1]--------Score: 1225.1664976562872\n",
      "*****************************************************************************************\n",
      "Mutation Chromosome indices:[0]\n",
      "**********************************Generation 11**********************************\n",
      "********************************************Performance**********************************\n",
      "Chromosome: [0 1 0 1 0 0 1 0 0 0 1 1 1 1 0 0 1 1 0 1]--------Score: 1225.165783901604\n",
      "Chromosome: [0 1 0 1 0 0 1 0 0 0 0 1 0 1 0 0 1 1 0 1]--------Score: 1225.1664976562872\n",
      "Chromosome: [0 1 0 1 0 0 1 0 0 0 0 1 0 1 0 0 1 1 0 1]--------Score: 1225.1664976562872\n",
      "Chromosome: [0 1 0 1 0 0 1 0 0 0 0 1 0 1 0 0 1 1 0 1]--------Score: 1225.1664976562872\n",
      "*****************************************************************************************\n",
      "Mutation Chromosome indices:[0]\n",
      "**********************************Generation 12**********************************\n",
      "********************************************Performance**********************************\n",
      "Chromosome: [0 1 0 1 0 0 1 1 0 0 1 1 1 1 0 0 1 1 0 0]--------Score: 1225.1751968628446\n",
      "*****************************************************************************************\n"
     ]
    },
    {
     "ename": "ValueError",
     "evalue": "'a' cannot be empty unless no samples are taken",
     "output_type": "error",
     "traceback": [
      "\u001b[0;31m---------------------------------------------------------------------------\u001b[0m",
      "\u001b[0;31mValueError\u001b[0m                                Traceback (most recent call last)",
      "\u001b[0;32m/var/folders/3m/7yx097tn2wz5t7h3fbj4dj_00000gn/T/ipykernel_30652/3419820769.py\u001b[0m in \u001b[0;36m<module>\u001b[0;34m\u001b[0m\n\u001b[0;32m----> 1\u001b[0;31m \u001b[0mdiscrete_genetic_algorithm\u001b[0m\u001b[0;34m(\u001b[0m\u001b[0minitial_binary_population\u001b[0m\u001b[0;34m,\u001b[0m \u001b[0;36m40\u001b[0m\u001b[0;34m,\u001b[0m \u001b[0;36m90\u001b[0m\u001b[0;34m)\u001b[0m\u001b[0;34m\u001b[0m\u001b[0;34m\u001b[0m\u001b[0m\n\u001b[0m",
      "\u001b[0;32m/var/folders/3m/7yx097tn2wz5t7h3fbj4dj_00000gn/T/ipykernel_30652/971361362.py\u001b[0m in \u001b[0;36mdiscrete_genetic_algorithm\u001b[0;34m(init_bin_population, min_bound, max_bound, generations)\u001b[0m\n\u001b[1;32m      4\u001b[0m         \u001b[0mprint\u001b[0m\u001b[0;34m(\u001b[0m\u001b[0;34mf\"**********************************Generation {i + 1}**********************************\"\u001b[0m\u001b[0;34m)\u001b[0m\u001b[0;34m\u001b[0m\u001b[0;34m\u001b[0m\u001b[0m\n\u001b[1;32m      5\u001b[0m         \u001b[0mpop_fitness_data\u001b[0m \u001b[0;34m=\u001b[0m \u001b[0msolar_energy_cost_function\u001b[0m\u001b[0;34m(\u001b[0m\u001b[0mpopulation\u001b[0m\u001b[0;34m,\u001b[0m \u001b[0mmin_bound\u001b[0m\u001b[0;34m,\u001b[0m \u001b[0mmax_bound\u001b[0m\u001b[0;34m)\u001b[0m\u001b[0;34m\u001b[0m\u001b[0;34m\u001b[0m\u001b[0m\n\u001b[0;32m----> 6\u001b[0;31m         \u001b[0mselection_winners\u001b[0m \u001b[0;34m=\u001b[0m \u001b[0mtournament_fitness_selection\u001b[0m\u001b[0;34m(\u001b[0m\u001b[0mpop_fitness_data\u001b[0m\u001b[0;34m)\u001b[0m\u001b[0;34m\u001b[0m\u001b[0;34m\u001b[0m\u001b[0m\n\u001b[0m\u001b[1;32m      7\u001b[0m         \u001b[0mparents\u001b[0m \u001b[0;34m=\u001b[0m \u001b[0mcrossover_parent_pairing\u001b[0m\u001b[0;34m(\u001b[0m\u001b[0mselection_winners\u001b[0m\u001b[0;34m)\u001b[0m\u001b[0;34m\u001b[0m\u001b[0;34m\u001b[0m\u001b[0m\n\u001b[1;32m      8\u001b[0m         \u001b[0mchildren\u001b[0m \u001b[0;34m=\u001b[0m \u001b[0;34m[\u001b[0m\u001b[0;34m]\u001b[0m\u001b[0;34m\u001b[0m\u001b[0;34m\u001b[0m\u001b[0m\n",
      "\u001b[0;32m/var/folders/3m/7yx097tn2wz5t7h3fbj4dj_00000gn/T/ipykernel_30652/1363909143.py\u001b[0m in \u001b[0;36mtournament_fitness_selection\u001b[0;34m(pop_fitness_data, selection_limit)\u001b[0m\n\u001b[1;32m      4\u001b[0m     \u001b[0;32mfor\u001b[0m \u001b[0mi\u001b[0m \u001b[0;32min\u001b[0m \u001b[0mrange\u001b[0m\u001b[0;34m(\u001b[0m\u001b[0mlen\u001b[0m\u001b[0;34m(\u001b[0m\u001b[0mpop_fitness_data\u001b[0m\u001b[0;34m)\u001b[0m\u001b[0;34m)\u001b[0m\u001b[0;34m:\u001b[0m\u001b[0;34m\u001b[0m\u001b[0;34m\u001b[0m\u001b[0m\n\u001b[1;32m      5\u001b[0m         \u001b[0mpossible_pair_indices\u001b[0m \u001b[0;34m=\u001b[0m \u001b[0;34m[\u001b[0m\u001b[0mj\u001b[0m \u001b[0;32mfor\u001b[0m \u001b[0mj\u001b[0m \u001b[0;32min\u001b[0m \u001b[0mrange\u001b[0m\u001b[0;34m(\u001b[0m\u001b[0mlen\u001b[0m\u001b[0;34m(\u001b[0m\u001b[0mpop_fitness_data\u001b[0m\u001b[0;34m)\u001b[0m\u001b[0;34m)\u001b[0m \u001b[0;32mif\u001b[0m \u001b[0mj\u001b[0m \u001b[0;34m!=\u001b[0m \u001b[0mi\u001b[0m\u001b[0;34m]\u001b[0m\u001b[0;34m\u001b[0m\u001b[0;34m\u001b[0m\u001b[0m\n\u001b[0;32m----> 6\u001b[0;31m         \u001b[0mcomparison_pairs\u001b[0m\u001b[0;34m.\u001b[0m\u001b[0mappend\u001b[0m\u001b[0;34m(\u001b[0m\u001b[0;34m(\u001b[0m\u001b[0mi\u001b[0m\u001b[0;34m,\u001b[0m \u001b[0mchoice\u001b[0m\u001b[0;34m(\u001b[0m\u001b[0mpossible_pair_indices\u001b[0m\u001b[0;34m)\u001b[0m\u001b[0;34m)\u001b[0m\u001b[0;34m)\u001b[0m\u001b[0;34m\u001b[0m\u001b[0;34m\u001b[0m\u001b[0m\n\u001b[0m\u001b[1;32m      7\u001b[0m     \u001b[0;32mfor\u001b[0m \u001b[0mj\u001b[0m \u001b[0;32min\u001b[0m \u001b[0mcomparison_pairs\u001b[0m\u001b[0;34m:\u001b[0m\u001b[0;34m\u001b[0m\u001b[0;34m\u001b[0m\u001b[0m\n\u001b[1;32m      8\u001b[0m         \u001b[0;32mif\u001b[0m \u001b[0mpop_fitness_data\u001b[0m\u001b[0;34m[\u001b[0m\u001b[0mj\u001b[0m\u001b[0;34m[\u001b[0m\u001b[0;36m0\u001b[0m\u001b[0;34m]\u001b[0m\u001b[0;34m]\u001b[0m\u001b[0;34m[\u001b[0m\u001b[0;36m1\u001b[0m\u001b[0;34m]\u001b[0m \u001b[0;34m<\u001b[0m \u001b[0mpop_fitness_data\u001b[0m\u001b[0;34m[\u001b[0m\u001b[0mj\u001b[0m\u001b[0;34m[\u001b[0m\u001b[0;36m1\u001b[0m\u001b[0;34m]\u001b[0m\u001b[0;34m]\u001b[0m\u001b[0;34m[\u001b[0m\u001b[0;36m1\u001b[0m\u001b[0;34m]\u001b[0m\u001b[0;34m:\u001b[0m\u001b[0;34m\u001b[0m\u001b[0;34m\u001b[0m\u001b[0m\n",
      "\u001b[0;32mmtrand.pyx\u001b[0m in \u001b[0;36mnumpy.random.mtrand.RandomState.choice\u001b[0;34m()\u001b[0m\n",
      "\u001b[0;31mValueError\u001b[0m: 'a' cannot be empty unless no samples are taken"
     ]
    }
   ],
   "source": [
    "discrete_genetic_algorithm(initial_binary_population, 40, 90)"
   ]
  }
 ],
 "metadata": {
  "kernelspec": {
   "display_name": "base",
   "language": "python",
   "name": "base"
  },
  "language_info": {
   "codemirror_mode": {
    "name": "ipython",
    "version": 3
   },
   "file_extension": ".py",
   "mimetype": "text/x-python",
   "name": "python",
   "nbconvert_exporter": "python",
   "pygments_lexer": "ipython3",
   "version": "3.9.12"
  }
 },
 "nbformat": 4,
 "nbformat_minor": 5
}
