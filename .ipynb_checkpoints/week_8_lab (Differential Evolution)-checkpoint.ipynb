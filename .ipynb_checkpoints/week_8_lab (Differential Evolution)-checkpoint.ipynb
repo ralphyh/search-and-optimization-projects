{
 "cells": [
  {
   "cell_type": "markdown",
   "id": "0bc0897a-5c50-4a7c-a117-0a9abb4de48a",
   "metadata": {},
   "source": [
    "# Differential Evolution"
   ]
  },
  {
   "cell_type": "code",
   "execution_count": 624,
   "id": "352e55ed-38f2-4e64-8f8e-e5a67d9a10d6",
   "metadata": {},
   "outputs": [],
   "source": [
    "import numpy as np\n",
    "from numpy.random import choice, uniform"
   ]
  },
  {
   "cell_type": "code",
   "execution_count": 625,
   "id": "5bc68604-bf0f-4167-9da2-680b0708337f",
   "metadata": {},
   "outputs": [],
   "source": [
    "def init_population(pop_size, var_count, min_bound, max_bound):\n",
    "    return uniform(low=min_bound, high=max_bound, size=(pop_size, var_count))"
   ]
  },
  {
   "cell_type": "code",
   "execution_count": 626,
   "id": "0028450a-2a10-4787-9f73-8fb875bd0a55",
   "metadata": {},
   "outputs": [
    {
     "data": {
      "text/plain": [
       "array([[ 13.77893293, -17.99298165],\n",
       "       [-29.48295903, -11.19645268],\n",
       "       [ -1.15731556, -22.11733265],\n",
       "       [ 24.16982069, -16.05543582],\n",
       "       [-27.56786659,  -0.04061984],\n",
       "       [-21.38970959, -25.25397115],\n",
       "       [  6.37249628, -11.04256388],\n",
       "       [ 26.04539319,  -7.3587193 ],\n",
       "       [-16.8912084 ,  -3.17605325],\n",
       "       [ 10.2456691 ,  23.55973209]])"
      ]
     },
     "execution_count": 626,
     "metadata": {},
     "output_type": "execute_result"
    }
   ],
   "source": [
    "population = init_population(10, 2, -30, 30)\n",
    "population"
   ]
  },
  {
   "cell_type": "code",
   "execution_count": 627,
   "id": "bca034b2-5cfc-4663-bb88-c31df57cbca0",
   "metadata": {},
   "outputs": [],
   "source": [
    "def calc_fitness_scores(population):\n",
    "    scores = []\n",
    "\n",
    "    for vector in population:\n",
    "        # Rosenbrock's Function\n",
    "   