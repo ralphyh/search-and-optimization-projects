{
 "cells": [
  {
   "cell_type": "markdown",
   "id": "0bc0897a-5c50-4a7c-a117-0a9abb4de48a",
   "metadata": {},
   "source": [
    "# Differential Evolution"
   ]
  },
  {
   "cell_type": "code",
   "execution_count": 624,
   "id": "352e55ed-38f2-4e64-8f8e-e5a67d9a10d6",
   "metadata": {},
   "outputs": [],
   "source": [
    "import numpy as np\n",
    "from numpy.random import choice, uniform"
   ]
  },
  {
   "cell_type": "code",
   "execution_count": 625,
   "id": "5bc68604-bf0f-4167-9da2-680b0708337f",
   "metadata": {},
   "outputs": [],
   "source": [
    "def init_population(pop_size, var_count, min_bound, max_bound):\n",
    "    return uniform(low=min_bound, high=max_bound, size=(pop_size, var_count))"
   ]
  },
  {
   "cell_type": "code",
   "execution_count": 626,
   "id": "0028450a-2a10-4787-9f73-8fb875bd0a55",
   "metadata": {},
   "outputs": [
    {
     "data": {
      "text/plain": [
       "array([[ 13.77893293, -17.99298165],\n",
       "       [-29.48295903, -11.19645268],\n",
       "       [ -1.15731556, -22.11733265],\n",
       "       [ 24.16982069, -16.05543582],\n",
       "       [-27.56786659,  -0.04061984],\n",
       "       [-21.38970959, -25.25397115],\n",
       "       [  6.37249628, -11.04256388],\n",
       "       [ 26.04539319,  -7.3587193 ],\n",
       "       [-16.8912084 ,  -3.17605325],\n",
       "       [ 10.2456691 ,  23.55973209]])"
      ]
     },
     "execution_count": 626,
     "metadata": {},
     "output_type": "execute_result"
    }
   ],
   "source": [
    "population = init_population(10, 2, -30, 30)\n",
    "population"
   ]
  },
  {
   "cell_type": "code",
   "execution_count": 627,
   "id": "bca034b2-5cfc-4663-bb88-c31df57cbca0",
   "metadata": {},
   "outputs": [],
   "source": [
    "def calc_fitness_scores(population):\n",
    "    scores = []\n",
    "\n",
    "    for vector in population:\n",
    "        # Rosenbrock's Function\n",
    "        score = 100 * (vector[1] - vector[0]**2)**2 + (vector[0] - 1)**2\n",
    "        scores.append(score)\n",
    "\n",
    "    return scores"
   ]
  },
  {
   "cell_type": "code",
   "execution_count": 628,
   "id": "043e9ce8-20b9-440b-b686-15322b3bd3c9",
   "metadata": {},
   "outputs": [
    {
     "data": {
      "text/plain": [
       "[4320407.62726378,\n",
       " 77518622.00786187,\n",
       " 55026.38760135734,\n",
       " 36028822.55693385,\n",
       " 57765055.17904898,\n",
       " 23307540.790834118,\n",
       " 266814.260577627,\n",
       " 47021987.17723408,\n",
       " 8322908.941737417,\n",
       " 662909.4732217855]"
      ]
     },
     "execution_count": 628,
     "metadata": {},
     "output_type": "execute_result"
    }
   ],
   "source": [
    "scores = calc_fitness_scores(population)\n",
    "scores"
   ]
  },
  {
   "cell_type": "code",
   "execution_count": 629,
   "id": "46597879-e642-4f7b-bf1a-ce069b2d232f",
   "metadata": {},
   "outputs": [],
   "source": [
    "def differential_mutation(idx, population, min_bound, max_bound, scaling_factor = 0.5):\n",
    "    used_idx = [idx]\n",
    "    used_idx_no = 3\n",
    "\n",
    "    while len(used_idx) <= used_idx_no:\n",
    "        idx_selected = False\n",
    "        while idx_selected == False:\n",
    "            vector_idx = choice(np.array(range(len(population))), 1, replace=False)[0]\n",
    "            if vector_idx not in used_idx:\n",
    "                idx_selected = True\n",
    "                used_idx.append(vector_idx)\n",
    "\n",
    "    target_vector = used_idx[1]\n",
    "    ran_select_1 = used_idx[2]\n",
    "    ran_select_2 = used_idx[3]\n",
    "\n",
    "    trial_vector = []\n",
    "    trial_vec_loc_1 = population[target_vector][0] + scaling_factor * (population[ran_select_1][0] - population[ran_select_2][0])\n",
    "    if trial_vec_loc_1 < min_bound:\n",
    "        trial_vector.append(min_bound)\n",
    "    elif trial_vec_loc_1 > max_bound:\n",
    "        trial_vector.append(max_bound)\n",
    "    else:\n",
    "        trial_vector.append(trial_vec_loc_1)\n",
    "    trial_vec_loc_2 = population[target_vector][1] + scaling_factor * (population[ran_select_1][1] - population[ran_select_2][1])\n",
    "    if trial_vec_loc_2 < min_bound:\n",
    "        trial_vector.append(min_bound)\n",
    "    elif trial_vec_loc_2 > max_bound:\n",
    "        trial_vector.append(max_bound)\n",
    "    else:\n",
    "        trial_vector.append(trial_vec_loc_2)\n",
    "\n",
    "    return trial_vector"
   ]
  },
  {
   "cell_type": "code",
   "execution_count": 630,
   "id": "0662784e-cb0e-4c7e-93e0-3ea2dee708ed",
   "metadata": {},
   "outputs": [
    {
     "data": {
      "text/plain": [
       "[-30, 0.482996485872178]"
      ]
     },
     "execution_count": 630,
     "metadata": {},
     "output_type": "execute_result"
    }
   ],
   "source": [
    "trial_vector = differential_mutation(1, population, -30, 30)\n",
    "trial_vector"
   ]
  },
  {
   "cell_type": "code",
   "execution_count": 631,
   "id": "5c00fa2c-8d08-44f9-8528-734c7f898839",
   "metadata": {},
   "outputs": [],
   "source": [
    "def crossover(idx, population, trial_vector, crossover_prob = 0.7):\n",
    "    parent_vector = population[idx]\n",
    "    offspring_vector = []\n",
    "    var_len = len(parent_vector)\n",
    "    trial_vec_select_idx = list(choice(np.array(range(var_len)), 1, replace=False))\n",
    "    for i in range(var_len):\n",
    "        if uniform(0, 1) < crossover_prob and i not in trial_vec_select_idx:\n",
    "            trial_vec_select_idx.append(i)\n",
    "    for j in range(var_len):\n",
    "        if j in trial_vec_select_idx:\n",
    "            offspring_vector.append(trial_vector[j])\n",
    "        else:\n",
    "            offspring_vector.append(parent_vector[j])\n",
    "\n",
    "    return offspring_vector"
   ]
  },
  {
   "cell_type": "code",
   "execution_count": null,
   "id": "5656ec6b-5a70-4a3a-864d-f9b425f53ee9",
   "metadata": {},
   "outputs": [],
   "source": []
  },
  {
   "cell_type": "code",
   "execution_count": 632,
   "id": "6c9e4a18-5893-4daa-8e1e-5d68ab8cdcfb",
   "metadata": {},
   "outputs": [
    {
     "data": {
      "text/plain": [
       "[-30, -11.196452680054925]"
      ]
     },
     "execution_count": 632,
     "metadata": {},
     "output_type": "execute_result"
    }
   ],
   "source": [
    "offspring_vector = crossover(1, population, trial_vector, crossover_prob = 0.7)\n",
    "offspring_vector"
   ]
  },
  {
   "cell_type": "code",
   "execution_count": 633,
   "id": "d4d40fd8-a4b7-4d82-af23-9081615884f6",
   "metadata": {},
   "outputs": [],
   "source": [
    "def selection(idx, offspring_vector, population, scores):\n",
    "    sub_pop = [population[idx], offspring_vector]\n",
    "    sub_scores = calc_fitness_scores(sub_pop)\n",
    "    if sub_scores[1] < sub_scores[0]:\n",
    "        population[idx] = offspring_vector\n",
    "        scores[idx] = sub_scores[1]\n",
    "\n",
    "    return"
   ]
  },
  {
   "cell_type": "code",
   "execution_count": 634,
   "id": "bf2a3054-123d-4d02-8feb-89e80a32f702",
   "metadata": {},
   "outputs": [
    {
     "data": {
      "text/plain": [
       "array([[ 13.77893293, -17.99298165],\n",
       "       [-29.48295903, -11.19645268],\n",
       "       [ -1.15731556, -22.11733265],\n",
       "       [ 24.16982069, -16.05543582],\n",
       "       [-27.56786659,  -0.04061984],\n",
       "       [-21.38970959, -25.25397115],\n",
       "       [  6.37249628, -11.04256388],\n",
       "       [ 26.04539319,  -7.3587193 ],\n",
       "       [-16.8912084 ,  -3.17605325],\n",
       "       [ 10.2456691 ,  23.55973209]])"
      ]
     },
     "execution_count": 634,
     "metadata": {},
     "output_type": "execute_result"
    }
   ],
   "source": [
    "selection(1, offspring_vector, population, scores)\n",
    "population"
   ]
  },
  {
   "cell_type": "code",
   "execution_count": 635,
   "id": "4354c0fc-6aa9-4b59-a95c-671b623666bd",
   "metadata": {},
   "outputs": [
    {
     "data": {
      "text/plain": [
       "[4320407.62726378,\n",
       " 77518622.00786187,\n",
       " 55026.38760135734,\n",
       " 36028822.55693385,\n",
       " 57765055.17904898,\n",
       " 23307540.790834118,\n",
       " 266814.260577627,\n",
       " 47021987.17723408,\n",
       " 8322908.941737417,\n",
       " 662909.4732217855]"
      ]
     },
     "execution_count": 635,
     "metadata": {},
     "output_type": "execute_result"
    }
   ],
   "source": [
    "scores"
   ]
  },
  {
   "cell_type": "code",
   "execution_count": 636,
   "id": "dd6eb8de-0bc8-4f25-905e-9b21a2d01ae2",
   "metadata": {},
   "outputs": [],
   "source": [
    "def differential_evolution(var_count, min_bound, max_bound, pop_size, generations, scaling_factor = 0.5, crossover_prob = 0.7):\n",
    "    population = init_population(pop_size, var_count, min_bound, max_bound)\n",
    "    scores = calc_fitness_scores(population)\n",
    "    for i in range(generations):\n",
    "        print(f\"******************************* Generation {i + 1} *******************************\")\n",
    "        print(\"Population-------------------------------------------------------Scores\")\n",
    "        for idx, vector in enumerate(population):\n",
    "            trial_vector = differential_mutation(idx, population, min_bound, max_bound)\n",
    "            offspring_vector = crossover(idx, population, trial_vector, 0.7)\n",
    "            selection(idx, offspring_vector, population, scores)\n",
    "            print(str(population[idx])+\"                              \"+str(scores[idx]))\n",
    "        print(\"***************************************************************************\")"
   ]
  },
  {
   "cell_type": "code",
   "execution_count": 637,
   "id": "5352bb14-0a13-49bc-aa54-6acfc643ec1b",
   "metadata": {},
   "outputs": [
    {
     "name": "stdout",
     "output_type": "stream",
     "text": [
      "******************************* Generation 1 *******************************\n",
      "Population-------------------------------------------------------Scores\n",
      "[18.29935502  9.89839763]                              10560719.133462628\n",
      "[ 3.04545064 -1.48868499]                              11589.379392961357\n",
      "[-14.13093721 -30.        ]                              5275674.748417325\n",
      "[-18.37434458 -20.43692393]                              12820603.585464254\n",
      "[  1.75467656 -12.91909934]                              25594.135300765793\n",
      "[-10.10200536  -9.02817544]                              1233970.7392566933\n",
      "[0.75174841 0.17013492]                              15.663398542831468\n",
      "[12.13346416  2.33724131]                              2099252.9325266783\n",
      "[-7.48553967 18.02395085]                              144543.0983168521\n",
      "[12.66142615 -4.69396265]                              2722823.2578281267\n",
      "***************************************************************************\n",
      "******************************* Generation 2 *******************************\n",
      "Population-------------------------------------------------------Scores\n",
      "[18.29935502  9.89839763]                              10560719.133462628\n",
      "[ 3.04545064 -1.48868499]                              11589.379392961357\n",
      "[-2.03216488 22.1365192 ]                              32433.769061370345\n",
      "[ 3.39471201 26.73567438]                              23145.026640080818\n",
      "[  1.75467656 -12.91909934]                              25594.135300765793\n",
      "[-1.96169003 -2.12944267]                              3582.0260078869937\n",
      "[0.75174841 0.17013492]                              15.663398542831468\n",
      "[-6.84015263 23.73915803]                              53184.94136101789\n",
      "[-4.53573521 21.81614036]                              185.2105295722626\n",
      "[12.66142615 -4.69396265]                              2722823.2578281267\n",
      "***************************************************************************\n",
      "******************************* Generation 3 *******************************\n",
      "Population-------------------------------------------------------Scores\n",
      "[-1.46022596 -8.6740598 ]                              11683.707138915903\n",
      "[ 3.04545064 -1.48868499]                              11589.379392961357\n",
      "[-2.03216488 22.1365192 ]                              32433.769061370345\n",
      "[-0.80948132 -3.09095151]                              1406.6842982650658\n",
      "[  1.75467656 -12.91909934]                              25594.135300765793\n",
      "[-1.96169003 -2.12944267]                              3582.0260078869937\n",
      "[0.75174841 0.17013492]                              15.663398542831468\n",
      "[-6.84015263 23.73915803]                              53184.94136101789\n",
      "[-4.53573521 21.81614036]                              185.2105295722626\n",
      "[1.4687071  2.48619016]                              11.049683638062199\n",
      "***************************************************************************\n",
      "******************************* Generation 4 *******************************\n",
      "Population-------------------------------------------------------Scores\n",
      "[1.653494   9.49450715]                              4570.815405491867\n",
      "[-0.45100198 -1.93292389]                              458.4945721665076\n",
      "[-2.03216488  7.14837627]                              920.4382341589836\n",
      "[-0.80948132 -3.09095151]                              1406.6842982650658\n",
      "[-2.48303767  2.48619016]                              1365.846042902581\n",
      "[-1.96169003 -2.12944267]                              3582.0260078869937\n",
      "[0.75174841 0.17013492]                              15.663398542831468\n",
      "[-3.82481698 10.32410326]                              1876.6860959268292\n",
      "[-4.53573521 21.81614036]                              185.2105295722626\n",
      "[1.4687071  2.48619016]                              11.049683638062199\n",
      "***************************************************************************\n",
      "******************************* Generation 5 *******************************\n",
      "Population-------------------------------------------------------Scores\n",
      "[1.653494   9.49450715]                              4570.815405491867\n",
      "[-0.45100198 -1.93292389]                              458.4945721665076\n",
      "[-2.03216488  7.14837627]                              920.4382341589836\n",
      "[-3.59938058 12.65519632]                              30.17496787580408\n",
      "[-2.48303767  3.26773418]                              851.8223638238627\n",
      "[-1.15773019  4.06653474]                              747.8700168447656\n",
      "[0.75174841 0.17013492]                              15.663398542831468\n",
      "[-3.60635418 14.44243637]                              227.61364760028104\n",
      "[-4.53573521 21.81614036]                              185.2105295722626\n",
      "[1.4687071  2.48619016]                              11.049683638062199\n",
      "***************************************************************************\n",
      "******************************* Generation 6 *******************************\n",
      "Population-------------------------------------------------------Scores\n",
      "[-2.37506859  9.49450715]                              1496.3807509089065\n",
      "[-0.45100198 -1.93292389]                              458.4945721665076\n",
      "[-2.03216488  7.14837627]                              920.4382341589836\n",
      "[-3.59938058 12.65519632]                              30.17496787580408\n",
      "[ 0.62715257 -0.17046795]                              31.924740210083442\n",
      "[-1.15773019  4.06653474]                              747.8700168447656\n",
      "[0.75174841 0.17013492]                              15.663398542831468\n",
      "[-3.60635418 14.44243637]                              227.61364760028104\n",
      "[0.76415765 0.56237625]                              0.10210786729548574\n",
      "[1.4687071  2.48619016]                              11.049683638062199\n",
      "***************************************************************************\n",
      "******************************* Generation 7 *******************************\n",
      "Population-------------------------------------------------------Scores\n",
      "[1.35932823 1.41778498]                              18.61810565604723\n",
      "[-0.45100198 -1.93292389]                              458.4945721665076\n",
      "[0.92473786 0.25723642]                              35.75454696425586\n",
      "[-3.59938058 12.65519632]                              30.17496787580408\n",
      "[ 0.62715257 -0.17046795]                              31.924740210083442\n",
      "[-1.15773019  4.06653474]                              747.8700168447656\n",
      "[0.9129503  0.77622843]                              0.33533174635083407\n",
      "[-3.60635418 14.44243637]                              227.61364760028104\n",
      "[0.76415765 0.56237625]                              0.10210786729548574\n",
      "[1.4687071  2.48619016]                              11.049683638062199\n",
      "***************************************************************************\n",
      "******************************* Generation 8 *******************************\n",
      "Population-------------------------------------------------------Scores\n",
      "[1.35932823 1.41778498]                              18.61810565604723\n",
      "[1.22232315 0.68494078]                              65.5190631433542\n",
      "[0.56067557 0.25723642]                              0.5192831920471291\n",
      "[-3.59938058 12.65519632]                              30.17496787580408\n",
      "[ 0.62715257 -0.17046795]                              31.924740210083442\n",
      "[-1.15773019  4.06653474]                              747.8700168447656\n",
      "[0.9129503  0.77622843]                              0.33533174635083407\n",
      "[-3.60635418 14.44243637]                              227.61364760028104\n",
      "[0.76415765 0.56237625]                              0.10210786729548574\n",
      "[1.4687071  2.48619016]                              11.049683638062199\n",
      "***************************************************************************\n",
      "******************************* Generation 9 *******************************\n",
      "Population-------------------------------------------------------Scores\n",
      "[1.35932823 1.41778498]                              18.61810565604723\n",
      "[1.22232315 0.68494078]                              65.5190631433542\n",
      "[0.56067557 0.25723642]                              0.5192831920471291\n",
      "[1.16348398 1.14265053]                              4.480702534026911\n",
      "[ 0.62715257 -0.17046795]                              31.924740210083442\n",
      "[-1.15773019  4.06653474]                              747.8700168447656\n",
      "[0.9129503  0.77622843]                              0.33533174635083407\n",
      "[-3.60635418 14.44243637]                              227.61364760028104\n",
      "[0.76415765 0.56237625]                              0.10210786729548574\n",
      "[0.98145284 1.14265053]                              3.2188109113726635\n",
      "***************************************************************************\n",
      "******************************* Generation 10 *******************************\n",
      "Population-------------------------------------------------------Scores\n",
      "[0.62125879 0.08902805]                              8.960450516728223\n",
      "[1.22232315 0.68494078]                              65.5190631433542\n",
      "[0.56067557 0.25723642]                              0.5192831920471291\n",
      "[1.16348398 1.14265053]                              4.480702534026911\n",
      "[0.8043027  0.48609129]                              2.624332928638097\n",
      "[0.46915362 0.0587048 ]                              2.886804134736454\n",
      "[0.9129503  0.77622843]                              0.33533174635083407\n",
      "[1.13374808 0.35666116]                              86.27063099703071\n",
      "[0.76415765 0.56237625]                              0.10210786729548574\n",
      "[1.06556186 1.00508331]                              1.7031176960602286\n",
      "***************************************************************************\n"
     ]
    }
   ],
   "source": [
    "differential_evolution(2, -30, 30, 10, 10)"
   ]
  }
 ],
 "metadata": {
  "kernelspec": {
   "display_name": "base",
   "language": "python",
   "name": "base"
  },
  "language_info": {
   "codemirror_mode": {
    "name": "ipython",
    "version": 3
   },
   "file_extension": ".py",
   "mimetype": "text/x-python",
   "name": "python",
   "nbconvert_exporter": "python",
   "pygments_lexer": "ipython3",
   "version": "3.9.12"
  }
 },
 "nbformat": 4,
 "nbformat_minor": 5
}
