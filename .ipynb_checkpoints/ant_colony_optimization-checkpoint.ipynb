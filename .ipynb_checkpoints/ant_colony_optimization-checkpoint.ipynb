{
 "cells": [
  {
   "cell_type": "code",
   "execution_count": 5608,
   "id": "39442a53-0407-4dc7-a340-e774bc3e70c5",
   "metadata": {},
   "outputs": [],
   "source": [
    "import numpy as np\n",
    "from numpy import random\n",
    "import math"
   ]
  },
  {
   "cell_type": "code",
   "execution_count": 5609,
   "id": "2bea3890-8f6d-4261-882f-b04cbc31fa8a",
   "metadata": {},
   "outputs": [],
   "source": [
    "customer_coords = np.loadtxt('customers_40.data')[:15]"
   ]
  },
  {
   "cell_type": "code",
   "execution_count": 5610,
   "id": "734a4cef-2ab9-45f5-bcd9-efca38bde149",
   "metadata": {},
   "outputs": [],
   "source": [
    "def data_format(coords):\n",
    "    data = {}\n",
    "    idx = 1\n",
    "\n",
    "    for i in coords:        \n",
    "        data[idx] = (i[0], i[1])\n",
    "        idx += 1\n",
    "\n",
    "    return data"
   ]
  },
  {
   "cell_type": "code",
   "execution_count": 5611,
   "id": "c170c00b-a2fd-4619-ab20-9e5e8bca1c4f",
   "metadata": {},
   "outputs": [
    {
     "data": {
      "text/plain": [
       "{1: (5.0, 63.0),\n",
       " 2: (26.0, 32.0),\n",
       " 3: (65.0, 14.0),\n",
       " 4: (67.0, 97.0),\n",
       " 5: (60.0, 54.0),\n",
       " 6: (21.0, 74.0),\n",
       " 7: (23.0, 45.0),\n",
       " 8: (22.0, 31.0),\n",
       " 9: (33.0, 6.0),\n",
       " 10: (90.0, 64.0),\n",
       " 11: (77.0, 17.0),\n",
       " 12: (18.0, 98.0),\n",
       " 13: (76.0, 4.0),\n",
       " 14: (22.0, 23.0),\n",
       " 15: (48.0, 32.0)}"
      ]
     },
     "execution_count": 5611,
     "metadata": {},
     "output_type": "execute_result"
    }
   ],
   "source": [
    "data = data_format(customer_coords)\n",
    "data"
   ]
  },
  {
   "cell_type": "code",
   "execution_count": 5612,
   "id": "c8724d71-dd56-4c9f-9058-48e5fa5c4bbc",
   "metadata": {},
   "outputs": [],
   "source": [
    "def calculate_route_cost(loc1, loc2):\n",
    "     return math.sqrt((data[loc1][0] - data[loc2][0])**2 + (data[loc1][1] - data[loc2][1])**2)"
   ]
  },
  {
   "cell_type": "code",
   "execution_count": 5613,
   "id": "0bc618a8-2603-4a25-b54f-5579a8b2ad6c",
   "metadata": {},
   "outputs": [],
   "source": [
    "trail_data = {}\n",
    "ant_data = {}"
   ]
  },
  {
   "cell_type": "code",
   "execution_count": 5614,
   "id": "93d4fb8a-74f4-4a8b-bf05-b665655226c2",
   "metadata": {},
   "outputs": [],
   "source": [
    "def init_ants(coords_data, ants_count, ant_data, destination_node):\n",
    "    init_nodes = random.choice(np.array([i for i in coords_data.keys() if i != destination_node]), ants_count, replace=False)\n",
    "    \n",
    "    i = 1\n",
    "\n",
    "    for node in init_nodes:\n",
    "        ant_data[i] = {'start_node': node, 'destination_node': destination_node, 'paths': []}\n",
    "        i += 1\n",
    "\n",
    "    return ant_data"
   ]
  },
  {
   "cell_type": "code",
   "execution_count": 5615,
   "id": "34cad885-4e62-4bec-9394-e50a1f5110a9",
   "metadata": {},
   "outputs": [],
   "source": [
    "#init_ants(data, 9, ant_data, 10)"
   ]
  },
  {
   "cell_type": "code",
   "execution_count": 5616,
   "id": "093fd3f6-4689-48e3-b574-6b5445f161b2",
   "metadata": {},
   "outputs": [],
   "source": [
    "def init_pheromone(coords_data, trail_data):\n",
    "    for data_row in coords_data.keys():\n",
    "        trail_row = []\n",
    "        for data_col in coords_data.keys():\n",
    "            if data_row == data_col:\n",
    "                trail_row.append(0)\n",
    "            else:\n",
    "                if data_col > data_row:\n",
    "                    trail_row.append(random.uniform(0, 1))\n",
    "                else:\n",
    "                    trail_row.append(trail_data[data_col][data_row - 1])\n",
    "        trail_data[data_row] = trail_row\n",
    "\n",
    "    return trail_data"
   ]
  },
  {
   "cell_type": "code",
   "execution_count": 5617,
   "id": "d12bd3ed-1dab-4fa0-8c9d-124bb162461b",
   "metadata": {},
   "outputs": [],
   "source": [
    "#init_pheromone(data, trail_data)\n",
    "#print(trail_data)"
   ]
  },
  {
   "cell_type": "code",
   "execution_count": 5618,
   "id": "952fa288-2c24-4860-9e11-9771d91fb102",
   "metadata": {},
   "outputs": [],
   "source": [
    "def calculate_route_costs(coords_data):\n",
    "    distance_data = []\n",
    "\n",
    "    for data_row in coords_data.keys():\n",
    "        distance_row = []\n",
    "        for data_col in coords_data.keys():\n",
    "            if data_row != data_col:\n",
    "                distance_row.append(calculate_route_cost(data_row, data_col))\n",
    "            else:\n",
    "                distance_row.append(0)\n",
    "        distance_data.append(distance_row)\n",
    "\n",
    "    return distance_data"
   ]
  },
  {
   "cell_type": "code",
   "execution_count": 5619,
   "id": "ae6366be-28dc-4a7d-baae-2bbfa2135d6f",
   "metadata": {},
   "outputs": [],
   "source": [
    "distance_data = calculate_route_costs(data)\n",
    "#distance_data"
   ]
  },
  {
   "cell_type": "code",
   "execution_count": 5620,
   "id": "25ebe2c2-2f12-49cf-8e4f-aebc986dc9b1",
   "metadata": {},
   "outputs": [],
   "source": [
    "def traverse_nodes(ant_data, destination_node, coords_data, distance_data, trail_data, alpha = 0.6):\n",
    "    for ant in ant_data.keys():\n",
    "        current_node = ant_data[ant]['start_node']\n",
    "        ant_data[ant]['paths'].append({'path': [current_node], 'cost': 0})\n",
    "        # if the current path is not destination node\n",
    "        while current_node != ant_data[ant]['destination_node']:\n",
    "            # loop through all nodes and calculate sum of probabilities\n",
    "            sum_of_probabilities = 0\n",
    "            for node in coords_data.keys():\n",
    "                if node != current_node:\n",
    "                    sum_of_probabilities += (trail_data[current_node][node - 1] * alpha) + \\\n",
    "                    ((1 - alpha) * (1 / distance_data[current_node - 1][node - 1]))\n",
    "            path_probabilities = [(None, 0)]\n",
    "            # loop through all nodes and calculate probabilities\n",
    "            for node in coords_data.keys():\n",
    "                # dont calculate probability of visiting itself\n",
    "                if node != current_node:\n",
    "                    probability = ((trail_data[current_node][node - 1] * alpha) + \\\n",
    "                    ((1 - alpha) * (1 / distance_data[current_node - 1][node - 1]))) \\\n",
    "                    / sum_of_probabilities\n",
    "                    # do a cummulative probability that will be used to determine next path based\n",
    "                    path_probabilities.append((node, path_probabilities[-1][1] + probability))\n",
    "            rand_selector = random.uniform(0, 1)\n",
    "            for idx, path in enumerate(path_probabilities):\n",
    "                if rand_selector > path_probabilities[idx][1] and rand_selector < path_probabilities[idx + 1][1]:\n",
    "                    current_node = path_probabilities[idx + 1][0]\n",
    "                    ant_data[ant]['paths'][-1]['path'].append(current_node)\n",
    "                    break\n",
    "                 \n",
    "    return           "
   ]
  },
  {
   "cell_type": "code",
   "execution_count": 5621,
   "id": "6fabe195-d90c-4567-854f-5b04d597bb08",
   "metadata": {},
   "outputs": [],
   "source": [
    "#traverse_nodes(ant_data, 10, data, distance_data, trail_data)\n",
    "#print(ant_data)"
   ]
  },
  {
   "cell_type": "code",
   "execution_count": 5622,
   "id": "109cf846-d7e5-49de-bd75-c8e514d34a81",
   "metadata": {},
   "outputs": [],
   "source": [
    "def remove_path_loops(ant_data):\n",
    "    for ant, data in ant_data.items():\n",
    "        latest_path = data['paths'][-1]['path']\n",
    "        modified = True\n",
    "\n",
    "        while modified:\n",
    "            modified = False\n",
    "            for idx in range(len(latest_path)):\n",
    "                last_idx = len(latest_path) - 1\n",
    "                while idx < last_idx:\n",
    "                    if latest_path[idx] == latest_path[last_idx]:\n",
    "                        latest_path = latest_path[:idx] + latest_path[last_idx:]\n",
    "                        modified = True\n",
    "                        break\n",
    "                    last_idx -= 1\n",
    "                if modified:\n",
    "                    break \n",
    "        ant_data[ant]['paths'][-1]['path'] = latest_path\n",
    "\n",
    "    return"
   ]
  },
  {
   "cell_type": "code",
   "execution_count": 5623,
   "id": "187aa898-77c3-40fb-8160-a9bd6db19e3c",
   "metadata": {},
   "outputs": [],
   "source": [
    "#remove_path_loops(ant_data)"
   ]
  },
  {
   "cell_type": "code",
   "execution_count": 5624,
   "id": "1311d8dd-e1b6-4dce-97a0-a30872a9a37a",
   "metadata": {},
   "outputs": [],
   "source": [
    "#ant_data"
   ]
  },
  {
   "cell_type": "code",
   "execution_count": 5625,
   "id": "d765dcda-50f7-47db-9cd4-b276617101cc",
   "metadata": {},
   "outputs": [],
   "source": [
    "def calculate_path_total_cost(ant_data, distance_data):\n",
    "    for ant, data in ant_data.items():\n",
    "        latest_path = data['paths'][-1]['path']\n",
    "        path_cost = data['paths'][-1]['cost']\n",
    "        if len(latest_path) > 1:\n",
    "            for idx in range(len(latest_path) - 1):\n",
    "                path_cost += distance_data[latest_path[idx] - 1][latest_path[idx + 1] - 1]\n",
    "            ant_data[ant]['paths'][-1]['cost'] = path_cost    \n",
    "\n",
    "    return"
   ]
  },
  {
   "cell_type": "code",
   "execution_count": 5626,
   "id": "367b439f-a5a2-47dd-99a8-bc13e0b80c94",
   "metadata": {},
   "outputs": [],
   "source": [
    "#calculate_path_total_cost(ant_data, distance_data)"
   ]
  },
  {
   "cell_type": "code",
   "execution_count": 5627,
   "id": "cb16c0bb-b106-42a0-b45f-1cfa5c0b2d9f",
   "metadata": {},
   "outputs": [],
   "source": [
    "#ant_data"
   ]
  },
  {
   "cell_type": "code",
   "execution_count": 5628,
   "id": "1d2b5f65-beae-4bc5-8d0e-bc97f3270009",
   "metadata": {},
   "outputs": [],
   "source": [
    "def negative_feedback(evaporation_rate, trail_data):\n",
    "    for node, pheromone_data in trail_data.items():\n",
    "        for idx, pheromone in enumerate(pheromone_data):\n",
    "            trail_data[node][idx] = (1 - evaporation_rate) * pheromone\n",
    "\n",
    "    return"
   ]
  },
  {
   "cell_type": "code",
   "execution_count": 5629,
   "id": "5bd6be43-08d5-41b7-a80b-9a262611983f",
   "metadata": {},
   "outputs": [],
   "source": [
    "#print(trail_data)"
   ]
  },
  {
   "cell_type": "code",
   "execution_count": 5630,
   "id": "93dfb4ff-7cfb-478d-98a8-0605cc854805",
   "metadata": {},
   "outputs": [],
   "source": [
    "#negative_feedback(0.45, trail_data)"
   ]
  },
  {
   "cell_type": "code",
   "execution_count": 5631,
   "id": "9efd5bc5-5178-45bb-b927-b496a1b1705c",
   "metadata": {},
   "outputs": [],
   "source": [
    "#print(trail_data)"
   ]
  },
  {
   "cell_type": "code",
   "execution_count": 5632,
   "id": "f8140b4c-e9fd-4128-8db5-e6af8acdf8e5",
   "metadata": {},
   "outputs": [],
   "source": [
    "def positive_feedback(Q, ant_data, trail_data):\n",
    "    for ant, data in ant_data.items():\n",
    "        latest_path = data['paths'][-1]['path']\n",
    "\n",
    "        if len(latest_path) > 1:\n",
    "            for idx in range(len(latest_path) - 1):\n",
    "                # increase pheromone for path in both directions [a -> b] == [b -> a]\n",
    "                trail_data[latest_path[idx]][latest_path[idx + 1] - 1] += Q / distance_data[latest_path[idx] - 1][latest_path[idx + 1] - 1]\n",
    "                trail_data[latest_path[idx + 1]][latest_path[idx] - 1] += Q / distance_data[latest_path[idx] - 1][latest_path[idx + 1] - 1]\n",
    "\n",
    "    return"
   ]
  },
  {
   "cell_type": "code",
   "execution_count": 5633,
   "id": "2f18fae4-406b-48d7-9765-b2e91ed68f7b",
   "metadata": {},
   "outputs": [],
   "source": [
    "#positive_feedback(1, ant_data, trail_data)"
   ]
  },
  {
   "cell_type": "code",
   "execution_count": 5634,
   "id": "12ab8273-c774-492e-8113-9b9e812c1912",
   "metadata": {},
   "outputs": [],
   "source": [
    "#print(trail_data)"
   ]
  },
  {
   "cell_type": "code",
   "execution_count": 5635,
   "id": "c9a4d0cd-6a60-43cc-b890-a2b280ea05a0",
   "metadata": {},
   "outputs": [],
   "source": [
    "def ant_colony_optimization(coords, Q=1, evaporate=0.45, dest_node=10, ants_count=9, max_iterations=20):\n",
    "    data = data_format(coords)\n",
    "    trail_data = {}\n",
    "    ant_data = {}\n",
    "    init_ants(data, ants_count, ant_data, dest_node)\n",
    "    init_pheromone(data, trail_data)\n",
    "    distance_data = calculate_route_costs(data)\n",
    "    for i in range(max_iterations):\n",
    "        traverse_nodes(ant_data, dest_node, data, distance_data, trail_data)\n",
    "        remove_path_loops(ant_data)\n",
    "        calculate_path_total_cost(ant_data, distance_data)\n",
    "        negative_feedback(evaporate, trail_data)\n",
    "        positive_feedback(Q, ant_data, trail_data)\n",
    "    for ant, data in ant_data.items():\n",
    "        print(\"ant {}: ({})\".format(ant, data))\n",
    "        print(\"--------------------------------------------------------\")"
   ]
  },
  {
   "cell_type": "code",
   "execution_count": 5636,
   "id": "5005fdd4-e98e-4492-a155-36f86f54b2ba",
   "metadata": {},
   "outputs": [
    {
     "ename": "ZeroDivisionError",
     "evalue": "float division by zero",
     "output_type": "error",
     "traceback": [
      "\u001b[0;31m---------------------------------------------------------------------------\u001b[0m",
      "\u001b[0;31mZeroDivisionError\u001b[0m                         Traceback (most recent call last)",
      "\u001b[0;32m/var/folders/3m/7yx097tn2wz5t7h3fbj4dj_00000gn/T/ipykernel_77494/835144916.py\u001b[0m in \u001b[0;36m<module>\u001b[0;34m\u001b[0m\n\u001b[0;32m----> 1\u001b[0;31m \u001b[0mant_colony_optimization\u001b[0m\u001b[0;34m(\u001b[0m\u001b[0mcustomer_coords\u001b[0m\u001b[0;34m)\u001b[0m\u001b[0;34m\u001b[0m\u001b[0;34m\u001b[0m\u001b[0m\n\u001b[0m",
      "\u001b[0;32m/var/folders/3m/7yx097tn2wz5t7h3fbj4dj_00000gn/T/ipykernel_77494/3602413854.py\u001b[0m in \u001b[0;36mant_colony_optimization\u001b[0;34m(coords, Q, evaporate, dest_node, ants_count, max_iterations)\u001b[0m\n\u001b[1;32m      7\u001b[0m     \u001b[0mdistance_data\u001b[0m \u001b[0;34m=\u001b[0m \u001b[0mcalculate_route_costs\u001b[0m\u001b[0;34m(\u001b[0m\u001b[0mdata\u001b[0m\u001b[0;34m)\u001b[0m\u001b[0;34m\u001b[0m\u001b[0;34m\u001b[0m\u001b[0m\n\u001b[1;32m      8\u001b[0m     \u001b[0;32mfor\u001b[0m \u001b[0mi\u001b[0m \u001b[0;32min\u001b[0m \u001b[0mrange\u001b[0m\u001b[0;34m(\u001b[0m\u001b[0mmax_iterations\u001b[0m\u001b[0;34m)\u001b[0m\u001b[0;34m:\u001b[0m\u001b[0;34m\u001b[0m\u001b[0;34m\u001b[0m\u001b[0m\n\u001b[0;32m----> 9\u001b[0;31m         \u001b[0mtraverse_nodes\u001b[0m\u001b[0;34m(\u001b[0m\u001b[0mant_data\u001b[0m\u001b[0;34m,\u001b[0m \u001b[0mdest_node\u001b[0m\u001b[0;34m,\u001b[0m \u001b[0mdata\u001b[0m\u001b[0;34m,\u001b[0m \u001b[0mdistance_data\u001b[0m\u001b[0;34m,\u001b[0m \u001b[0mtrail_data\u001b[0m\u001b[0;34m)\u001b[0m\u001b[0;34m\u001b[0m\u001b[0;34m\u001b[0m\u001b[0m\n\u001b[0m\u001b[1;32m     10\u001b[0m         \u001b[0mremove_path_loops\u001b[0m\u001b[0;34m(\u001b[0m\u001b[0mant_data\u001b[0m\u001b[0;34m)\u001b[0m\u001b[0;34m\u001b[0m\u001b[0;34m\u001b[0m\u001b[0m\n\u001b[1;32m     11\u001b[0m         \u001b[0mcalculate_path_total_cost\u001b[0m\u001b[0;34m(\u001b[0m\u001b[0mant_data\u001b[0m\u001b[0;34m,\u001b[0m \u001b[0mdistance_data\u001b[0m\u001b[0;34m)\u001b[0m\u001b[0;34m\u001b[0m\u001b[0;34m\u001b[0m\u001b[0m\n",
      "\u001b[0;32m/var/folders/3m/7yx097tn2wz5t7h3fbj4dj_00000gn/T/ipykernel_77494/1297256234.py\u001b[0m in \u001b[0;36mtraverse_nodes\u001b[0;34m(ant_data, destination_node, coords_data, distance_data, trail_data, alpha)\u001b[0m\n\u001b[1;32m     10\u001b[0m                 \u001b[0;32mif\u001b[0m \u001b[0mnode\u001b[0m \u001b[0;34m!=\u001b[0m \u001b[0mcurrent_node\u001b[0m\u001b[0;34m:\u001b[0m\u001b[0;34m\u001b[0m\u001b[0;34m\u001b[0m\u001b[0m\n\u001b[1;32m     11\u001b[0m                     \u001b[0msum_of_probabilities\u001b[0m \u001b[0;34m+=\u001b[0m \u001b[0;34m(\u001b[0m\u001b[0mtrail_data\u001b[0m\u001b[0;34m[\u001b[0m\u001b[0mcurrent_node\u001b[0m\u001b[0;34m]\u001b[0m\u001b[0;34m[\u001b[0m\u001b[0mnode\u001b[0m \u001b[0;34m-\u001b[0m \u001b[0;36m1\u001b[0m\u001b[0;34m]\u001b[0m \u001b[0;34m*\u001b[0m \u001b[0malpha\u001b[0m\u001b[0;34m)\u001b[0m \u001b[0;34m+\u001b[0m\u001b[0;31m \u001b[0m\u001b[0;31m\\\u001b[0m\u001b[0;34m\u001b[0m\u001b[0;34m\u001b[0m\u001b[0m\n\u001b[0;32m---> 12\u001b[0;31m                     \u001b[0;34m(\u001b[0m\u001b[0;34m(\u001b[0m\u001b[0;36m1\u001b[0m \u001b[0;34m-\u001b[0m \u001b[0malpha\u001b[0m\u001b[0;34m)\u001b[0m \u001b[0;34m*\u001b[0m \u001b[0;34m(\u001b[0m\u001b[0;36m1\u001b[0m \u001b[0;34m/\u001b[0m \u001b[0mdistance_data\u001b[0m\u001b[0;34m[\u001b[0m\u001b[0mcurrent_node\u001b[0m \u001b[0;34m-\u001b[0m \u001b[0;36m1\u001b[0m\u001b[0;34m]\u001b[0m\u001b[0;34m[\u001b[0m\u001b[0mnode\u001b[0m \u001b[0;34m-\u001b[0m \u001b[0;36m1\u001b[0m\u001b[0;34m]\u001b[0m\u001b[0;34m)\u001b[0m\u001b[0;34m)\u001b[0m\u001b[0;34m\u001b[0m\u001b[0;34m\u001b[0m\u001b[0m\n\u001b[0m\u001b[1;32m     13\u001b[0m             \u001b[0mpath_probabilities\u001b[0m \u001b[0;34m=\u001b[0m \u001b[0;34m[\u001b[0m\u001b[0;34m(\u001b[0m\u001b[0;32mNone\u001b[0m\u001b[0;34m,\u001b[0m \u001b[0;36m0\u001b[0m\u001b[0;34m)\u001b[0m\u001b[0;34m]\u001b[0m\u001b[0;34m\u001b[0m\u001b[0;34m\u001b[0m\u001b[0m\n\u001b[1;32m     14\u001b[0m             \u001b[0;31m# loop through all nodes and calculate probabilities\u001b[0m\u001b[0;34m\u001b[0m\u001b[0;34m\u001b[0m\u001b[0m\n",
      "\u001b[0;31mZeroDivisionError\u001b[0m: float division by zero"
     ]
    }
   ],
   "source": [
    "ant_colony_optimization(customer_coords)"
   ]
  },
  {
   "cell_type": "code",
   "execution_count": null,
   "id": "26e59e60-252f-4c8b-a265-a4905f75f2ff",
   "metadata": {},
   "outputs": [],
   "source": [
    "calculate_route_cost(8, 14)"
   ]
  },
  {
   "cell_type": "code",
   "execution_count": null,
   "id": "59ea3569-4be3-4310-bd20-189fb79257ff",
   "metadata": {},
   "outputs": [],
   "source": []
  }
 ],
 "metadata": {
  "kernelspec": {
   "display_name": "base",
   "language": "python",
   "name": "base"
  },
  "language_info": {
   "codemirror_mode": {
    "name": "ipython",
    "version": 3
   },
   "file_extension": ".py",
   "mimetype": "text/x-python",
   "name": "python",
   "nbconvert_exporter": "python",
   "pygments_lexer": "ipython3",
   "version": "3.9.12"
  }
 },
 "nbformat": 4,
 "nbformat_minor": 5
}
