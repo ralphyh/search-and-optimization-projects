{
 "cells": [
  {
   "cell_type": "code",
   "execution_count": 314,
   "id": "6493161d-5e71-4833-9ed8-36f999f45f36",
   "metadata": {},
   "outputs": [],
   "source": [
    "import numpy as np"
   ]
  },
  {
   "cell_type": "code",
   "execution_count": 315,
   "id": "e7123761-fe66-43d2-9cd5-51a91fec9ab8",
   "metadata": {},
   "outputs": [],
   "source": [
    "# this is the search space containing bandwith data for each node\n",
    "search_space = {\n",
    "    'car_1': {'car_2': 4, 'car_4': 4, 'car_5': 3,'car_3': 4},\n",
    "    'car_2': {'car_1': 4, 'car_4': 5, 'base_station_1': 6},\n",
    "    'car_3': {'car_1': 4, 'car_6': 3},\n",
    "    'car_4': {'car_1': 4, 'car_2': 5, 'car_5': 4, 'car_7': 1},\n",
    "    'car_5': {'car_1': 3, 'car_4': 4, 'car_6': 5, 'car_7': 2, 'car_8': 7, 'car_9': 4},\n",
    "    'car_6': {'car_3': 3, 'car_5': 5, 'car_9': 4},\n",
    "    'car_7': {'car_4': 1, 'car_5': 2, 'car_8': 3, 'base_station_2': 6},\n",
    "    'car_8': {'car_5': 7, 'car_7': 3, 'car_9': 4},\n",
    "    'car_9': {'car_5': 4, 'car_6': 5, 'car_8': 4},\n",
    "    'base_station_1': {'car_2': 6},\n",
    "    'base_station_2': {'car_7': 6}\n",
    "}"
   ]
  },
  {
   "cell_type": "code",
   "execution_count": 316,
   "id": "1d96bbac-535f-446d-a1e2-e44c2a7d92b2",
   "metadata": {},
   "outputs": [],
   "source": [
    "# this is a dict that will store the best known end-to-end transmission rates for each node as we explore the space\n",
    "known_costs = {}"
   ]
  },
  {
   "cell_type": "code",
   "execution_count": 317,
   "id": "3d714b4c-a56a-4f31-a5c0-37bd81ac5d08",
   "metadata": {},
   "outputs": [],
   "source": [
    "# this dict contains lists containing best known paths associated with the best known costs defined above\n",
    "routes = {car: [] for car in search_space.keys()}"
   ]
  },
  {
   "cell_type": "code",
   "execution_count": 318,
   "id": "7437384d-029c-45bb-b53d-36b6ff08bcbd",
   "metadata": {},
   "outputs": [],
   "source": [
    "# this list will store the nodes that we will visit\n",
    "visited_nodes = []"
   ]
  },
  {
   "cell_type": "code",
   "execution_count": 319,
   "id": "86e06f85-d06c-4755-ac1f-dc49b0b5527e",
   "metadata": {},
   "outputs": [],
   "source": [
    "# this list will store unvisited nodes\n",
    "unvisited_nodes = []"
   ]
  },
  {
   "cell_type": "code",
   "execution_count": 320,
   "id": "a190efd5-32a3-44e2-b822-530f077a4c52",
   "metadata": {},
   "outputs": [],
   "source": [
    "def init_known_costs(init_node):\n",
    "    \"\"\"\n",
    "    init_known_costs(init_node)\n",
    "    initializes the starting node by setting its known cost to 0 and its best \n",
    "    path to itself. The function initializes all best known costs to nodes \n",
    "    except initial node to -infinity\n",
    "    init_node: the initial node\n",
    "    returns: nothing\n",
    "    \"\"\"\n",
    "    # calling global var in this function for purposes of updating it\n",
    "    global unvisited_nodes\n",
    "    # set all known costs to nodes to -infinity and thos on the initial node to 0\n",
    "    for car, bandwidth in search_space.items():\n",
    "        if car != init_node:\n",
    "            known_costs[car] = -np.inf\n",
    "        else:\n",
    "            known_costs[car] = 0\n",
    "            # set known path to init node to the same init node\n",
    "            routes[init_node] = [car]\n",
    "    # add init node to visited nodes\n",
    "    visited_nodes.append(init_node)\n",
    "    # set unvisited nodes to all notes but the init node\n",
    "    unvisited_nodes = [node for node in search_space.keys() if node != init_node]\n",
    "\n",
    "    return"
   ]
  },
  {
   "cell_type": "code",
   "execution_count": 321,
   "id": "dee04eb1-9788-4909-be61-16dd3039935d",
   "metadata": {},
   "outputs": [],
   "source": [
    "def select_max_path(node):\n",
    "    \"\"\"\n",
    "    select_max_path(node)\n",
    "    this is the main function that examines through nodes in a bit by bit fashion with the aim \n",
    "    of establishing the next best path. The next best path consideration is made on the basis \n",
    "    of the end-to-end transmission rate i.e. min{x1, x2, x3}. The highest value derived is \n",
    "    the best path. Throughout traversal, the variables e.g. visited_nodes, unvisited_nodes, \n",
    "    e.t.c. get updated with the latest information\n",
    "    node: the current node that has been selected from the previous iteration as the best node\n",
    "    returns: the best next node based on the dijkstra evaluation criteria\n",
    "    \"\"\"\n",
    "    # get the minimum value in a node and set it as the max value\n",
    "    max_val = min(search_space[node].values())\n",
    "    # get the corresponding nodes (for the bandwidth set below)\n",
    "    next_nodes = []\n",
    "    # Loop through each car linked to the node passed in a parameter. This information is found in the search space\n",
    "    for car, bandwidth in search_space[node].items():\n",
    "        if car not in visited_nodes:\n",
    "            # define path for storing bandwidths of nodes in a certain route\n",
    "            path_bandwidths = []\n",
    "            # loop through the nodes in currently known best route to current node and add their interconnection bandwidths\n",
    "            for i in routes[node]:\n",
    "                # append each computed bandwidth to the path bandwidths\n",
    "                path_bandwidths.append(known_costs[i])\n",
    "            # append the bandwidth to the next neighbouring node (associated to this iteration)\n",
    "            path_bandwidths.append(bandwidth)\n",
    "            # to exclude the source node whose cost is set to 0\n",
    "            path_bandwidths = path_bandwidths[1:]\n",
    "            # computed the end-to-end transmission\n",
    "            end_to_end_bandwidth = min(path_bandwidths)         \n",
    "            # Check if this bandwidth is the new maximum\n",
    "            if end_to_end_bandwidth > max_val:\n",
    "                max_val = end_to_end_bandwidth\n",
    "                # Update next_nodes with only the current highest cost\n",
    "                next_nodes = [car]\n",
    "            elif end_to_end_bandwidth == max_val:\n",
    "                # If there is more than one node with that max value in the sub dict\n",
    "                next_nodes.append(car)\n",
    "            # Calculate the cummulative bandwidth to reach this neighbor\n",
    "            new_cost = end_to_end_bandwidth\n",
    "            '''\n",
    "            if the new end-to-end bandwidth is greater than the greatest known \n",
    "            bandwidth to that node, update the var and the path associated with it\n",
    "            '''\n",
    "            if new_cost > known_costs[car]:\n",
    "                routes[car] = routes[node] + [car]\n",
    "                known_costs[car] = new_cost\n",
    "    # If we reach a dead end (no next nodes and all linking nodes are visited)\n",
    "    if len(next_nodes) == 0 and len(unvisited_nodes) > 0: ## review this part\n",
    "        print(\"Starting search from root again\")\n",
    "        max_cost = max([known_costs[node] for node in unvisited_nodes]) \n",
    "        # i dont know if this is okay but i am trying to set the univisited node with the highest known cost as new root\n",
    "        next_nodes = [node for node in unvisited_nodes if known_costs[node] == max_cost]\n",
    "    # Mark the selected node as visited and remove it from unvisited nodes\n",
    "    visited_nodes.append(next_nodes[0])\n",
    "    unvisited_nodes.remove(next_nodes[0])\n",
    "\n",
    "    # select the value in the array. If they are 2, select the first. But it honestly doesnt matter which you pick\n",
    "    return next_nodes[0] "
   ]
  },
  {
   "cell_type": "markdown",
   "id": "d0f75a08-40da-48db-8084-8f568c223795",
   "metadata": {},
   "source": [
    "### Dijkstra Algorithm Implementation"
   ]
  },
  {
   "cell_type": "code",
   "execution_count": 323,
   "id": "9a18708f-33fc-4f8d-b5bd-54cbe6efb0b5",
   "metadata": {},
   "outputs": [],
   "source": [
    "def dijkstra_algorithm(init_node):\n",
    "    \"\"\"\n",
    "    \"\"\"\n",
    "    init_known_costs(init_node)\n",
    "    current_node = init_node\n",
    "    i = 1\n",
    "    while unvisited_nodes:\n",
    "        print(\"********************************************************Iter \"+str(i)+\"***********************************************************\")\n",
    "        next_node = select_max_path(current_node)\n",
    "        print(\"Next best node:\"+next_node)\n",
    "        print(\"Unvisited Nodes:\"+ str(unvisited_nodes))\n",
    "        print(\"Visited Nodes:\"+ str(visited_nodes))\n",
    "        print(\"Known Longest Routes:\"+ str(routes))\n",
    "        print(\"Known Largest Bandwidths:\"+ str(known_costs))\n",
    "        current_node = next_node\n",
    "        i += 1"
   ]
  },
  {
   "cell_type": "code",
   "execution_count": 324,
   "id": "90c940ce-c903-4566-a245-b59deccbaa2b",
   "metadata": {},
   "outputs": [
    {
     "name": "stdout",
     "output_type": "stream",
     "text": [
      "********************************************************Iter 1***********************************************************\n",
      "Next best node:car_6\n",
      "Unvisited Nodes:['car_1', 'car_2', 'car_3', 'car_4', 'car_5', 'car_7', 'car_8', 'base_station_1', 'base_station_2']\n",
      "Visited Nodes:['car_9', 'car_6']\n",
      "Known Longest Routes:{'car_1': [], 'car_2': [], 'car_3': [], 'car_4': [], 'car_5': ['car_9', 'car_5'], 'car_6': ['car_9', 'car_6'], 'car_7': [], 'car_8': ['car_9', 'car_8'], 'car_9': ['car_9'], 'base_station_1': [], 'base_station_2': []}\n",
      "Known Largest Bandwidths:{'car_1': -inf, 'car_2': -inf, 'car_3': -inf, 'car_4': -inf, 'car_5': 4, 'car_6': 5, 'car_7': -inf, 'car_8': 4, 'car_9': 0, 'base_station_1': -inf, 'base_station_2': -inf}\n",
      "********************************************************Iter 2***********************************************************\n",
      "Next best node:car_5\n",
      "Unvisited Nodes:['car_1', 'car_2', 'car_3', 'car_4', 'car_7', 'car_8', 'base_station_1', 'base_station_2']\n",
      "Visited Nodes:['car_9', 'car_6', 'car_5']\n",
      "Known Longest Routes:{'car_1': [], 'car_2': [], 'car_3': ['car_9', 'car_6', 'car_3'], 'car_4': [], 'car_5': ['car_9', 'car_6', 'car_5'], 'car_6': ['car_9', 'car_6'], 'car_7': [], 'car_8': ['car_9', 'car_8'], 'car_9': ['car_9'], 'base_station_1': [], 'base_station_2': []}\n",
      "Known Largest Bandwidths:{'car_1': -inf, 'car_2': -inf, 'car_3': 3, 'car_4': -inf, 'car_5': 5, 'car_6': 5, 'car_7': -inf, 'car_8': 4, 'car_9': 0, 'base_station_1': -inf, 'base_station_2': -inf}\n",
      "********************************************************Iter 3***********************************************************\n",
      "Next best node:car_8\n",
      "Unvisited Nodes:['car_1', 'car_2', 'car_3', 'car_4', 'car_7', 'base_station_1', 'base_station_2']\n",
      "Visited Nodes:['car_9', 'car_6', 'car_5', 'car_8']\n",
      "Known Longest Routes:{'car_1': ['car_9', 'car_6', 'car_5', 'car_1'], 'car_2': [], 'car_3': ['car_9', 'car_6', 'car_3'], 'car_4': ['car_9', 'car_6', 'car_5', 'car_4'], 'car_5': ['car_9', 'car_6', 'car_5'], 'car_6': ['car_9', 'car_6'], 'car_7': ['car_9', 'car_6', 'car_5', 'car_7'], 'car_8': ['car_9', 'car_6', 'car_5', 'car_8'], 'car_9': ['car_9'], 'base_station_1': [], 'base_station_2': []}\n",
      "Known Largest Bandwidths:{'car_1': 3, 'car_2': -inf, 'car_3': 3, 'car_4': 4, 'car_5': 5, 'car_6': 5, 'car_7': 2, 'car_8': 5, 'car_9': 0, 'base_station_1': -inf, 'base_station_2': -inf}\n",
      "********************************************************Iter 4***********************************************************\n",
      "Next best node:car_7\n",
      "Unvisited Nodes:['car_1', 'car_2', 'car_3', 'car_4', 'base_station_1', 'base_station_2']\n",
      "Visited Nodes:['car_9', 'car_6', 'car_5', 'car_8', 'car_7']\n",
      "Known Longest Routes:{'car_1': ['car_9', 'car_6', 'car_5', 'car_1'], 'car_2': [], 'car_3': ['car_9', 'car_6', 'car_3'], 'car_4': ['car_9', 'car_6', 'car_5', 'car_4'], 'car_5': ['car_9', 'car_6', 'car_5'], 'car_6': ['car_9', 'car_6'], 'car_7': ['car_9', 'car_6', 'car_5', 'car_8', 'car_7'], 'car_8': ['car_9', 'car_6', 'car_5', 'car_8'], 'car_9': ['car_9'], 'base_station_1': [], 'base_station_2': []}\n",
      "Known Largest Bandwidths:{'car_1': 3, 'car_2': -inf, 'car_3': 3, 'car_4': 4, 'car_5': 5, 'car_6': 5, 'car_7': 3, 'car_8': 5, 'car_9': 0, 'base_station_1': -inf, 'base_station_2': -inf}\n",
      "********************************************************Iter 5***********************************************************\n",
      "Next best node:base_station_2\n",
      "Unvisited Nodes:['car_1', 'car_2', 'car_3', 'car_4', 'base_station_1']\n",
      "Visited Nodes:['car_9', 'car_6', 'car_5', 'car_8', 'car_7', 'base_station_2']\n",
      "Known Longest Routes:{'car_1': ['car_9', 'car_6', 'car_5', 'car_1'], 'car_2': [], 'car_3': ['car_9', 'car_6', 'car_3'], 'car_4': ['car_9', 'car_6', 'car_5', 'car_4'], 'car_5': ['car_9', 'car_6', 'car_5'], 'car_6': ['car_9', 'car_6'], 'car_7': ['car_9', 'car_6', 'car_5', 'car_8', 'car_7'], 'car_8': ['car_9', 'car_6', 'car_5', 'car_8'], 'car_9': ['car_9'], 'base_station_1': [], 'base_station_2': ['car_9', 'car_6', 'car_5', 'car_8', 'car_7', 'base_station_2']}\n",
      "Known Largest Bandwidths:{'car_1': 3, 'car_2': -inf, 'car_3': 3, 'car_4': 4, 'car_5': 5, 'car_6': 5, 'car_7': 3, 'car_8': 5, 'car_9': 0, 'base_station_1': -inf, 'base_station_2': 3}\n",
      "********************************************************Iter 6***********************************************************\n",
      "Starting search from root again\n",
      "Next best node:car_4\n",
      "Unvisited Nodes:['car_1', 'car_2', 'car_3', 'base_station_1']\n",
      "Visited Nodes:['car_9', 'car_6', 'car_5', 'car_8', 'car_7', 'base_station_2', 'car_4']\n",
      "Known Longest Routes:{'car_1': ['car_9', 'car_6', 'car_5', 'car_1'], 'car_2': [], 'car_3': ['car_9', 'car_6', 'car_3'], 'car_4': ['car_9', 'car_6', 'car_5', 'car_4'], 'car_5': ['car_9', 'car_6', 'car_5'], 'car_6': ['car_9', 'car_6'], 'car_7': ['car_9', 'car_6', 'car_5', 'car_8', 'car_7'], 'car_8': ['car_9', 'car_6', 'car_5', 'car_8'], 'car_9': ['car_9'], 'base_station_1': [], 'base_station_2': ['car_9', 'car_6', 'car_5', 'car_8', 'car_7', 'base_station_2']}\n",
      "Known Largest Bandwidths:{'car_1': 3, 'car_2': -inf, 'car_3': 3, 'car_4': 4, 'car_5': 5, 'car_6': 5, 'car_7': 3, 'car_8': 5, 'car_9': 0, 'base_station_1': -inf, 'base_station_2': 3}\n",
      "********************************************************Iter 7***********************************************************\n",
      "Next best node:car_1\n",
      "Unvisited Nodes:['car_2', 'car_3', 'base_station_1']\n",
      "Visited Nodes:['car_9', 'car_6', 'car_5', 'car_8', 'car_7', 'base_station_2', 'car_4', 'car_1']\n",
      "Known Longest Routes:{'car_1': ['car_9', 'car_6', 'car_5', 'car_4', 'car_1'], 'car_2': ['car_9', 'car_6', 'car_5', 'car_4', 'car_2'], 'car_3': ['car_9', 'car_6', 'car_3'], 'car_4': ['car_9', 'car_6', 'car_5', 'car_4'], 'car_5': ['car_9', 'car_6', 'car_5'], 'car_6': ['car_9', 'car_6'], 'car_7': ['car_9', 'car_6', 'car_5', 'car_8', 'car_7'], 'car_8': ['car_9', 'car_6', 'car_5', 'car_8'], 'car_9': ['car_9'], 'base_station_1': [], 'base_station_2': ['car_9', 'car_6', 'car_5', 'car_8', 'car_7', 'base_station_2']}\n",
      "Known Largest Bandwidths:{'car_1': 4, 'car_2': 4, 'car_3': 3, 'car_4': 4, 'car_5': 5, 'car_6': 5, 'car_7': 3, 'car_8': 5, 'car_9': 0, 'base_station_1': -inf, 'base_station_2': 3}\n",
      "********************************************************Iter 8***********************************************************\n",
      "Next best node:car_2\n",
      "Unvisited Nodes:['car_3', 'base_station_1']\n",
      "Visited Nodes:['car_9', 'car_6', 'car_5', 'car_8', 'car_7', 'base_station_2', 'car_4', 'car_1', 'car_2']\n",
      "Known Longest Routes:{'car_1': ['car_9', 'car_6', 'car_5', 'car_4', 'car_1'], 'car_2': ['car_9', 'car_6', 'car_5', 'car_4', 'car_2'], 'car_3': ['car_9', 'car_6', 'car_5', 'car_4', 'car_1', 'car_3'], 'car_4': ['car_9', 'car_6', 'car_5', 'car_4'], 'car_5': ['car_9', 'car_6', 'car_5'], 'car_6': ['car_9', 'car_6'], 'car_7': ['car_9', 'car_6', 'car_5', 'car_8', 'car_7'], 'car_8': ['car_9', 'car_6', 'car_5', 'car_8'], 'car_9': ['car_9'], 'base_station_1': [], 'base_station_2': ['car_9', 'car_6', 'car_5', 'car_8', 'car_7', 'base_station_2']}\n",
      "Known Largest Bandwidths:{'car_1': 4, 'car_2': 4, 'car_3': 4, 'car_4': 4, 'car_5': 5, 'car_6': 5, 'car_7': 3, 'car_8': 5, 'car_9': 0, 'base_station_1': -inf, 'base_station_2': 3}\n",
      "********************************************************Iter 9***********************************************************\n",
      "Next best node:base_station_1\n",
      "Unvisited Nodes:['car_3']\n",
      "Visited Nodes:['car_9', 'car_6', 'car_5', 'car_8', 'car_7', 'base_station_2', 'car_4', 'car_1', 'car_2', 'base_station_1']\n",
      "Known Longest Routes:{'car_1': ['car_9', 'car_6', 'car_5', 'car_4', 'car_1'], 'car_2': ['car_9', 'car_6', 'car_5', 'car_4', 'car_2'], 'car_3': ['car_9', 'car_6', 'car_5', 'car_4', 'car_1', 'car_3'], 'car_4': ['car_9', 'car_6', 'car_5', 'car_4'], 'car_5': ['car_9', 'car_6', 'car_5'], 'car_6': ['car_9', 'car_6'], 'car_7': ['car_9', 'car_6', 'car_5', 'car_8', 'car_7'], 'car_8': ['car_9', 'car_6', 'car_5', 'car_8'], 'car_9': ['car_9'], 'base_station_1': ['car_9', 'car_6', 'car_5', 'car_4', 'car_2', 'base_station_1'], 'base_station_2': ['car_9', 'car_6', 'car_5', 'car_8', 'car_7', 'base_station_2']}\n",
      "Known Largest Bandwidths:{'car_1': 4, 'car_2': 4, 'car_3': 4, 'car_4': 4, 'car_5': 5, 'car_6': 5, 'car_7': 3, 'car_8': 5, 'car_9': 0, 'base_station_1': 4, 'base_station_2': 3}\n",
      "********************************************************Iter 10***********************************************************\n",
      "Starting search from root again\n",
      "Next best node:car_3\n",
      "Unvisited Nodes:[]\n",
      "Visited Nodes:['car_9', 'car_6', 'car_5', 'car_8', 'car_7', 'base_station_2', 'car_4', 'car_1', 'car_2', 'base_station_1', 'car_3']\n",
      "Known Longest Routes:{'car_1': ['car_9', 'car_6', 'car_5', 'car_4', 'car_1'], 'car_2': ['car_9', 'car_6', 'car_5', 'car_4', 'car_2'], 'car_3': ['car_9', 'car_6', 'car_5', 'car_4', 'car_1', 'car_3'], 'car_4': ['car_9', 'car_6', 'car_5', 'car_4'], 'car_5': ['car_9', 'car_6', 'car_5'], 'car_6': ['car_9', 'car_6'], 'car_7': ['car_9', 'car_6', 'car_5', 'car_8', 'car_7'], 'car_8': ['car_9', 'car_6', 'car_5', 'car_8'], 'car_9': ['car_9'], 'base_station_1': ['car_9', 'car_6', 'car_5', 'car_4', 'car_2', 'base_station_1'], 'base_station_2': ['car_9', 'car_6', 'car_5', 'car_8', 'car_7', 'base_station_2']}\n",
      "Known Largest Bandwidths:{'car_1': 4, 'car_2': 4, 'car_3': 4, 'car_4': 4, 'car_5': 5, 'car_6': 5, 'car_7': 3, 'car_8': 5, 'car_9': 0, 'base_station_1': 4, 'base_station_2': 3}\n"
     ]
    }
   ],
   "source": [
    "dijkstra_algorithm('car_9')"
   ]
  },
  {
   "cell_type": "code",
   "execution_count": 325,
   "id": "e2030a35-47c2-4d32-9e43-bb3639aa245e",
   "metadata": {},
   "outputs": [],
   "source": [
    "def get_optimal_route(destination):\n",
    "    \"\"\"\n",
    "    get_optimal_route(destination)\n",
    "    decodes the best known route the destination passed in as an \n",
    "    argument of the function\n",
    "    destination: the destination node whose best path from the origin is to be represented\n",
    "    returns: nothing\n",
    "    \"\"\"\n",
    "    # instantiate a sting that will be used in parsing the best route\n",
    "    optimal_route = ''\n",
    "    costs = []\n",
    "    '''\n",
    "    get the known best path associated with the node passed in as an argument.\n",
    "    This loop simply parses the 'route[destination]' node to a  user friendly\n",
    "    representation\n",
    "    '''  \n",
    "    for idx, path in enumerate(routes[destination]):\n",
    "        if idx > 0:\n",
    "            costs.append(search_space[path][routes[destination][idx - 1]])\n",
    "        if path != destination:\n",
    "            optimal_route += path + \" -> \"\n",
    "        else:\n",
    "            optimal_route += path\n",
    "    # output the best path\n",
    "    print(\"Optimal route to \"+destination+\": \"+optimal_route)\n",
    "    # output its associated best transmission rate\n",
    "    print(\"Data Transmission Rate: \"+str(min(costs))+\" Mbps\")\n",
    "\n",
    "    return"
   ]
  },
  {
   "cell_type": "code",
   "execution_count": 326,
   "id": "bb410a08-a55d-488b-ba6f-aeb29edeb9e5",
   "metadata": {},
   "outputs": [
    {
     "name": "stdout",
     "output_type": "stream",
     "text": [
      "Optimal route to base_station_2: car_9 -> car_6 -> car_5 -> car_8 -> car_7 -> base_station_2\n",
      "Data Transmission Rate: 3 Mbps\n"
     ]
    }
   ],
   "source": [
    "get_optimal_route('base_station_2')"
   ]
  },
  {
   "cell_type": "code",
   "execution_count": 327,
   "id": "fa201a47-894f-4ee7-aaca-a56cfc09ecc7",
   "metadata": {},
   "outputs": [
    {
     "name": "stdout",
     "output_type": "stream",
     "text": [
      "Optimal route to base_station_1: car_9 -> car_6 -> car_5 -> car_4 -> car_2 -> base_station_1\n",
      "Data Transmission Rate: 4 Mbps\n"
     ]
    }
   ],
   "source": [
    "get_optimal_route('base_station_1')"
   ]
  }
 ],
 "metadata": {
  "kernelspec": {
   "display_name": "base",
   "language": "python",
   "name": "base"
  },
  "language_info": {
   "codemirror_mode": {
    "name": "ipython",
    "version": 3
   },
   "file_extension": ".py",
   "mimetype": "text/x-python",
   "name": "python",
   "nbconvert_exporter": "python",
   "pygments_lexer": "ipython3",
   "version": "3.9.12"
  }
 },
 "nbformat": 4,
 "nbformat_minor": 5
}
