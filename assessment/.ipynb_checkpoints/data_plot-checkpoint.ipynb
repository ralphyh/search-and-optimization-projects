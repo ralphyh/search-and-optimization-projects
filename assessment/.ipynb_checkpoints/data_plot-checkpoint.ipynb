{
 "cells": [
  {
   "cell_type": "code",
   "execution_count": 1776,
   "id": "2e92599d-f820-468f-9571-b2d493962423",
   "metadata": {},
   "outputs": [],
   "source": [
    "import pandas as pd\n",
    "import sys\n",
    "import numpy as np\n",
    "import random\n",
    "import math\n",
    "import folium\n",
    "from IPython.display import display\n",
    "from folium.features import DivIcon\n",
    "from numpy.random import randint, choice, permutation\n",
    "from folium.plugins import BeautifyIcon"
   ]
  },
  {
   "cell_type": "code",
   "execution_count": 1777,
   "id": "301450e7-b162-44ac-9194-3cbe810c09e8",
   "metadata": {},
   "outputs": [],
   "source": [
    "# definition of global data variables to be used throughout by this and other modules\n",
    "# data source file name\n",
    "data = 'sub_data_file.csv'\n",
    "# approximate geographic location of the base station 1 and base station 2\n",
    "base_station_1 = (50.817205047239135, -1.4493866785949845) # south-east end (Beaulieu)\n",
    "base_station_2 = (50.86236620061749, -1.5720659114815352) # north-west end (Lyndhurst)\n",
    "# x,y coordinates of the base stations (in meters)\n",
    "x_y_base_station_1 = [151, (5000, -5000)]\n",
    "x_y_base_station_2 = [152, (-5000, 5000)]\n",
    "# the central location of the search space from which the base station and sensors location are calculated from\n",
    "central_coordinate = ((base_station_1[0] + base_station_2[0]) / 2, (base_station_1[1] + base_station_2[1]) / 2)\n",
    "'''\n",
    "the distance bandwidth table that shows the bandwidth between various nodes based\n",
    "on the distances between them. This distance is given in ranges, for example, 2 sensors\n",
    "with a distance of 1679m between them have a bandwidth of 3Mbps since the distance falls\n",
    "in the (1500, 1999) distance range.\n",
    "'''\n",
    "distance_bandwidth_table = [\n",
    "    [(3000, np.inf), 0],\n",
    "    [(2500, 2999), 1],\n",
    "    [(2000, 2499), 2],\n",
    "    [(1500, 1999), 3],\n",
    "    [(1000, 1499), 4],\n",
    "    [(500, 999), 5],\n",
    "    [(0, 499), 7]\n",
    "]\n",
    "# constant internode latency\n",
    "node_to_node_latency = 30 #mbps\n",
    "#map = folium.Map(location=central_coordinate, zoom_start=13, min_zoom=8,max_zoom=14, tiles=\"cartodb positron\")\n",
    "# instantiation of the folium map for visualization\n",
    "map = folium.Map(location=central_coordinate, control_scale=True, zoom_start=13, min_zoom=12,max_zoom=14) # init map"
   ]
  },
  {
   "cell_type": "code",
   "execution_count": 1813,
   "id": "98e03b5c-c952-4f50-a9ab-6a8fc0917b04",
   "metadata": {},
   "outputs": [],
   "source": [
    "def get_x_y_coordinates(data):\n",
    "    \"\"\"\n",
    "    get_x_y_coordinates(data)\n",
    "    reads the data from the data source specified and stored \n",
    "    in the data variable\n",
    "    returns: a pandas dataframe with the data from the datasource \n",
    "    with the sensor id, x and y coordinates headers added\n",
    "    \"\"\"\n",
    "    return pd.read_csv(data, names=[\"id\", \"x\", \"y\"])"
   ]
  },
  {
   "cell_type": "code",
   "execution_count": 1779,
   "id": "f29b0d3c-acac-44a8-a8b7-6518488b3f51",
   "metadata": {},
   "outputs": [],
   "source": [
    "x_y_coords = get_x_y_coordinates(data)\n",
    "#x_y_coords"
   ]
  },
  {
   "cell_type": "code",
   "execution_count": 1780,
   "id": "0c9920df-88ee-4692-92f0-5601ded94c23",
   "metadata": {},
   "outputs": [],
   "source": [
    "'''\n",
    "formating the x, y data into a dictionary with sensor id \n",
    "as key and an array of the x,y coordinates as values. The 2\n",
    "base stations are added to the data with the IDs 151 and 152\n",
    "'''\n",
    "x_y_data = x_y_coords.values.tolist()\n",
    "# add the base stations to the data\n",
    "x_y_data.append([151, 5000, -5000])\n",
    "x_y_data.append([152, -5000, 5000])\n",
    "# parse to dict format\n",
    "x_y_data = {int(data[0]): [data[1], data[2]] for data in x_y_data}\n",
    "#x_y_data"
   ]
  },
  {
   "cell_type": "code",
   "execution_count": 1781,
   "id": "f8ceb3e5-e434-42bd-9107-5ecc42087c32",
   "metadata": {},
   "outputs": [],
   "source": [
    "def calculate_distance(x_y_coords1, x_y_coords2):\n",
    "    \"\"\"\n",
    "    calculate_distance(x_y_coords1, x_y_coords2)\n",
    "    calculates the heuristic distance between 2 nodes \n",
    "    based on the x, y coordinates provided. \n",
    "    This is done using the formulae:\n",
    "    distance = square_root(square[x2 - x1] + square[y2 - y1])\n",
    "    x_y_coords1: x, y coordinates of the first node\n",
    "    x_y_coords2: x, y coordinates of the second node\n",
    "    returns: the heuristic distance between the 2 nodes\n",
    "    \"\"\"\n",
    "    return math.sqrt((x_y_coords1[0] - x_y_coords2[0])**2 +\\\n",
    "                      (x_y_coords1[1] - x_y_coords2[1])**2)"
   ]
  },
  {
   "cell_type": "code",
   "execution_count": 1782,
   "id": "28e5ffa1-14b3-468e-84ff-b5a7c8fd13b6",
   "metadata": {},
   "outputs": [],
   "source": [
    "def convert_distance_bandwidth(distance):\n",
    "    \"\"\"\n",
    "    convert_distance_bandwidth(distance)\n",
    "    gets the bandwith bewteen 2 nodes based on the distance between them\n",
    "    this is done based on the information stored in the distance bandwidth\n",
    "    table.\n",
    "    distance: The distance between the 2 nodes\n",
    "    returns: the respective bandwidth bewteen the 2 nodes\n",
    "    \"\"\"\n",
    "    global distance_bandwidth_table\n",
    "    for i in distance_bandwidth_table:\n",
    "        if int(distance) >= i[0][0] and int(distance) <= i[0][1]:\n",
    "            return i[1]"
   ]
  },
  {
   "cell_type": "code",
   "execution_count": 1783,
   "id": "db031dec-76f0-41fc-b7d8-f8f2126a3110",
   "metadata": {},
   "outputs": [],
   "source": [
    "def absolute_cost_function(end_to_end_bandwidth, end_to_end_latency, alpha=1, beta=150):\n",
    "    \"\"\"\n",
    "    absolute_cost_function(end_to_end_bandwidth, end_to_end_latency, alpha=1, beta=150)\n",
    "    computes the absolute cost of a path. This cost is derived from a combination of \n",
    "    bandwidth and latency. As a multi-objective optimization problem, this function uses the\n",
    "    weighted sum method to blend bandwidth and one objective function. Since bandwidth should\n",
    "    be maximized and latency to be minimized we use the following formulae:\n",
    "    (bandwidth * alpha) + (1/latency * beta).\n",
    "    end_to_end_bandwidth: the end-to-end bandwidth from one node to another (min{inter-node bandwidths})\n",
    "    end-to-end-latency: the end-to-end latency from one node to another (cummulative sum of latencies)\n",
    "    alpha: weight assigned to the bandwidth to give it the right amount of significance in the output (default: 1)\n",
    "    beta: weight assigned to the latency to give it the right amount of significance in the output(default: 150)\n",
    "    returns: the absolute cost of the path from a node to another\n",
    "    \"\"\"\n",
    "    return (end_to_end_bandwidth * alpha) + (1 / end_to_end_latency * beta)"
   ]
  },
  {
   "cell_type": "code",
   "execution_count": 1784,
   "id": "33d1d680-7266-47fa-83fd-6e1548471dee",
   "metadata": {},
   "outputs": [],
   "source": [
    "def get_geographic_coordinates(coords):\n",
    "    \"\"\"\n",
    "    get_geographic_coordinates(coords)\n",
    "    calculates the geographic coordinates of the sensors based on the x, y distance data. This is\n",
    "    done relative to the central coordinate that was established and stroed as a global variable.\n",
    "    For each x, y coordinate, the geographic coordinates are calculated using the formulaes:\n",
    "    latitude = central_latitude + y/11320\n",
    "    longitude = central_longitude + x/(11320 * cos(central_latitude))\n",
    "    the base station coordinates are added at the end since they are already known\n",
    "    coords: the dataframe containing x and y coordinates of the sensors (in metres)\n",
    "    returns: a dictionary of geographic coordinates with node id as key and a \n",
    "    tuple of the geographic coordinates as the values\n",
    "    \"\"\"\n",
    "    global central_coordinate\n",
    "    coordinates = {}\n",
    "    for i in coords.iterrows():\n",
    "        coordinates[str(int(i[1][\"id\"]))] = (i[1][\"y\"]/110574 + central_coordinate[0], i[1][\"x\"]/111320 * math.cos(central_coordinate[0]) + central_coordinate[1])\n",
    "    node_no = len(coordinates)\n",
    "    # add the base stations to the coordinates dictionary\n",
    "    coordinates[str(node_no + 1)] = base_station_1\n",
    "    coordinates[str(node_no + 2)] = base_station_2\n",
    "    \n",
    "    return coordinates"
   ]
  },
  {
   "cell_type": "code",
   "execution_count": 1785,
   "id": "0976fbb2-8df3-43e6-9b91-12269970b7c8",
   "metadata": {},
   "outputs": [],
   "source": [
    "#store the calculated geographic coordinates in a global variable\n",
    "geographic_coords = get_geographic_coordinates(x_y_coords)"
   ]
  },
  {
   "cell_type": "code",
   "execution_count": 1786,
   "id": "62b7ef32-af38-43a1-8ff5-65db55a0bbb4",
   "metadata": {},
   "outputs": [],
   "source": [
    "def init_blank_map():\n",
    "    \"\"\"\n",
    "    init_blank_map()\n",
    "    with the calculated geographic coordinates, initiate a map with markers on the sensor positions\n",
    "    and base stations. The base station have different markers to differentiate them with sensors.\n",
    "    This markers are added on to the already initiated map stored in global variable 'map'\n",
    "    returns: nothing\n",
    "    \"\"\"\n",
    "    global base_station_1, base_station_2\n",
    "    folium.Marker([base_station_1[0], base_station_1[1]],  popup='Base Station 1').add_to(map)\n",
    "    folium.Marker([base_station_2[0], base_station_2[1]],  popup='Base Station 2').add_to(map)\n",
    "    for location_id, location_info in geographic_coords.items():\n",
    "        folium.CircleMarker([location_info[0], location_info[1]], radius=2, popup=f\"Sensor ID: {location_id}\").add_to(map)\n",
    "\n",
    "    return"
   ]
  },
  {
   "cell_type": "code",
   "execution_count": 1787,
   "id": "3b6134a1-49ac-4b58-8a86-ca1ec9394c4c",
   "metadata": {},
   "outputs": [],
   "source": [
    "init_blank_map()"
   ]
  },
  {
   "cell_type": "code",
   "execution_count": 1788,
   "id": "ed39c89b-9df7-4544-8228-a88f91ebae1b",
   "metadata": {},
   "outputs": [],
   "source": [
    "def show_map():\n",
    "    \"\"\"\n",
    "    show_map()\n",
    "    function to show map with whatever details that have been added to it so far\n",
    "    This utilises the Folio API method display() with the initialized map as an argument\n",
    "    returns: nothing\n",
    "    \"\"\"\n",
    "    display(map)\n",
    "\n",
    "    return"
   ]
  },
  {
   "cell_type": "code",
   "execution_count": 1789,
   "id": "1eec9963-8715-49a2-ac67-93211f2ed5fe",
   "metadata": {},
   "outputs": [],
   "source": [
    "def save_map():\n",
    "    \"\"\"\n",
    "    save_map()\n",
    "    saves a map with whatever details that have been added to it so far \n",
    "    as a html page\n",
    "    returns: nothing\n",
    "    \"\"\"\n",
    "    map.save(\"map.html\")"
   ]
  },
  {
   "cell_type": "code",
   "execution_count": 1790,
   "id": "8290ad97-a84e-4127-9d8e-486c89ee0241",
   "metadata": {},
   "outputs": [
    {
     "data": {
      "text/plain": [
       "\"\\ncoordinates = {'best_route': {'sensor_id': [19, 28, 145],\\n              'coordinates': [(50.83182308300549, -1.50844786872212),\\n               (50.821231533454956, -1.4924287442749806),\\n               (50.821231533454956, -1.4924287442749806),\\n               (50.80703108850407, -1.4877640416052273),\\n               (50.80703108850407, -1.4877640416052273),\\n               (50.817205047239135, -1.4493866785949845)]}, \\n               'possible_routes': [[(50.79834911986768, -1.4912597403722938), (50.82619020366676, -1.5019504696113806),\\n                                    (50.82619020366676, -1.5019504696113806), (50.817205047239135, -1.4493866785949845)],\\n                                   [(50.79834911986768, -1.4912597403722938), (50.80721558033759, -1.5461448507014692),\\n                                    (50.80721558033759, -1.5461448507014692), (50.817205047239135, -1.4493866785949845)],\\n                                  ]\\n              }\\n\""
      ]
     },
     "execution_count": 1790,
     "metadata": {},
     "output_type": "execute_result"
    }
   ],
   "source": [
    "# except for the first and last coordinates do duplicate all coordinates in the middle for the coordinates dict item\n",
    "\"\"\"\n",
    "coordinates = {'best_route': {'sensor_id': [19, 28, 145],\n",
    "              'coordinates': [(50.83182308300549, -1.50844786872212),\n",
    "               (50.821231533454956, -1.4924287442749806),\n",
    "               (50.821231533454956, -1.4924287442749806),\n",
    "               (50.80703108850407, -1.4877640416052273),\n",
    "               (50.80703108850407, -1.4877640416052273),\n",
    "               (50.817205047239135, -1.4493866785949845)]}, \n",
    "               'possible_routes': [[(50.79834911986768, -1.4912597403722938), (50.82619020366676, -1.5019504696113806),\n",
    "                                    (50.82619020366676, -1.5019504696113806), (50.817205047239135, -1.4493866785949845)],\n",
    "                                   [(50.79834911986768, -1.4912597403722938), (50.80721558033759, -1.5461448507014692),\n",
    "                                    (50.80721558033759, -1.5461448507014692), (50.817205047239135, -1.4493866785949845)],\n",
    "                                  ]\n",
    "              }\n",
    "\"\"\""
   ]
  },
  {
   "cell_type": "code",
   "execution_count": 1791,
   "id": "eeadecd6-c380-456d-a067-746a0efcfbca",
   "metadata": {},
   "outputs": [],
   "source": [
    "def plot_route(coordinates):\n",
    "    \"\"\"\n",
    "    plot_route(coordinates)\n",
    "    creates a graphic representation of the calculated routes on a map for visualization\n",
    "    shows 2 types of information, the best route, which is shown using a yellow line and\n",
    "    possible routes which is shown using a variety of other colors. Each type of representation\n",
    "    can be viewed excusively using the layer control modal on the top right corner of the map.\n",
    "    The function starts by initiating a black map then utilizing the coordinates provided \n",
    "    as an argument to show the various paths and finally showing the map.\n",
    "    coordinates: dictionary of coordinates with keys 'best_route' and 'possible_routes'\n",
    "    The 'best_route' item expects a dict containing 'sensor_id' with the node ids of the best route\n",
    "    (will be used to pin the ids of the best route) and 'coordinates' which is a list of tuples containing\n",
    "    the latitude and longitude coordinates of the route. For each coordinate except for the first and last\n",
    "    nodes, duplicate the tuples of coordinates for each node to fit in line with what the folium API method\n",
    "    PolyLine expects as input to create the path.\n",
    "    The 'possible_routes' item is a 2D array of tuples containing the various geographic coordinates of \n",
    "    every other route that is not as good as the best. The 'best_route' and 'possible_routes' items are\n",
    "    each added to respective folium FeatureGroups which will assist with layering of the routes for\n",
    "    purposes of explicit viewing of the various types of routes.\n",
    "    returns: nothing\n",
    "    \"\"\"\n",
    "    init_blank_map()\n",
    "    # best route\n",
    "    best_lines_group = folium.FeatureGroup(name=\"Best Route\").add_to(map)\n",
    "    best_lines_group.add_child(folium.PolyLine(locations=coordinates['best_route']['coordinates'], weight=3,color = 'yellow'))\n",
    "    idx_increament = 0\n",
    "    for idx, sensor in enumerate(coordinates['best_route']['sensor_id']):\n",
    "        if idx == 0:\n",
    "            maker_location = list(coordinates['best_route']['coordinates'][idx])\n",
    "        else:\n",
    "            maker_location = list(coordinates['best_route']['coordinates'][idx + idx_increament])\n",
    "        #sensor_icon=folium.Icon(color='white', icon=str(sensor), icon_color=\"red\", prefix='fa')\n",
    "        sensor_icon = icon=BeautifyIcon(icon=\"arrow-down\",icon_shape=\"marker\",number=str(sensor),\n",
    "                                        border_color= \"yellow\",background_color=\"#FFFFFF\",text_color=\"red\"\n",
    "        )\n",
    "        best_lines_group.add_child(folium.map.Marker(maker_location, icon=sensor_icon).add_to(map))\n",
    "        idx_increament += 1\n",
    "\n",
    "    # possible routes\n",
    "    possible_lines_group = folium.FeatureGroup(name=\"Other Routes\").add_to(map)\n",
    "    for possible_line in coordinates['possible_routes']:\n",
    "        line_colour = random.randrange(0, 2**24)\n",
    "        hex_line_colour = hex(line_colour) \n",
    "        route_color = \"#\" + hex_line_colour[2:]\n",
    "        line = folium.PolyLine(locations=possible_line, weight=2, color=route_color)\n",
    "        possible_lines_group.add_child(line)\n",
    "\n",
    "    folium.LayerControl().add_to(map)\n",
    "    show_map()\n",
    "\n",
    "    return"
   ]
  },
  {
   "cell_type": "code",
   "execution_count": 1792,
   "id": "dd9dc250-2ef4-4b23-9068-987d3743d275",
   "metadata": {},
   "outputs": [],
   "source": [
    "#plot_route(coordinates)"
   ]
  },
  {
   "cell_type": "code",
   "execution_count": null,
   "id": "2d1c8ccd-1c15-4b78-b104-0ed2f9a5ab31",
   "metadata": {},
   "outputs": [],
   "source": []
  }
 ],
 "metadata": {
  "kernelspec": {
   "display_name": "base",
   "language": "python",
   "name": "base"
  },
  "language_info": {
   "codemirror_mode": {
    "name": "ipython",
    "version": 3
   },
   "file_extension": ".py",
   "mimetype": "text/x-python",
   "name": "python",
   "nbconvert_exporter": "python",
   "pygments_lexer": "ipython3",
   "version": "3.9.12"
  }
 },
 "nbformat": 4,
 "nbformat_minor": 5
}
