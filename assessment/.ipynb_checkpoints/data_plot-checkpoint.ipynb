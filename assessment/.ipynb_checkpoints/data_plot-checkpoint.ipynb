{
 "cells": [
  {
   "cell_type": "code",
   "execution_count": 1776,
   "id": "2e92599d-f820-468f-9571-b2d493962423",
   "metadata": {},
   "outputs": [],
   "source": [
    "import pandas as pd\n",
    "import sys\n",
    "import numpy as np\n",
    "import random\n",
    "import math\n",
    "import folium\n",
    "from IPython.display import display\n",
    "from folium.features import DivIcon\n",
    "from numpy.random import randint, choice, permutation\n",
    "from folium.plugins import BeautifyIcon"
   ]
  },
  {
   "cell_type": "code",
   "execution_count": 1777,
   "id": "301450e7-b162-44ac-9194-3cbe810c09e8",
   "metadata": {},
   "outputs": [],
   "source": [
    "data = 'sub_data_file.csv'\n",
    "base_station_1 = (50.817205047239135, -1.4493866785949845) # south-east end (Beaulieu)\n",
    "base_station_2 = (50.86236620061749, -1.5720659114815352) # north-west end (Lyndhurst)\n",
    "x_y_base_station_1 = [151, (5000, -5000)]\n",
    "x_y_base_station_2 = [152, (-5000, 5000)]\n",
    "central_coordinate = ((base_station_1[0] + base_station_2[0]) / 2, (base_station_1[1] + base_station_2[1]) / 2)\n",
    "distance_bandwidth_table = [\n",
    "    [(3000, np.inf), 0],\n",
    "    [(2500, 2999), 1],\n",
    "    [(2000, 2499), 2],\n",
    "    [(1500, 1999), 3],\n",
    "    [(1000, 1499), 4],\n",
    "    [(500, 999), 5],\n",
    "    [(0, 499), 7]\n",
    "]\n",
    "node_to_node_latency = 30 #mbps\n",
    "#map = folium.Map(location=central_coordinate, zoom_start=13, min_zoom=8,max_zoom=14, tiles=\"cartodb positron\")\n",
    "map = folium.Map(location=central_coordinate, control_scale=True, zoom_start=13, min_zoom=12,max_zoom=14) # init map"
   ]
  },
  {
   "cell_type": "code",
   "execution_count": 1778,
   "id": "98e03b5c-c952-4f50-a9ab-6a8fc0917b04",
   "metadata": {},
   "outputs": [],
   "source": [
    "def get_x_y_coordinates(data):\n",
    "    return pd.read_csv(data, names=[\"id\", \"x\", \"y\"])"
   ]
  },
  {
   "cell_type": "code",
   "execution_count": 1779,
   "id": "f29b0d3c-acac-44a8-a8b7-6518488b3f51",
   "metadata": {},
   "outputs": [],
   "source": [
    "x_y_coords = get_x_y_coordinates(data)\n",
    "#x_y_coords"
   ]
  },
  {
   "cell_type": "code",
   "execution_count": 1780,
   "id": "0c9920df-88ee-4692-92f0-5601ded94c23",
   "metadata": {},
   "outputs": [],
   "source": [
    "x_y_data = x_y_coords.values.tolist()\n",
    "x_y_data.append([151, 5000, -5000])\n",
    "x_y_data.append([152, -5000, 5000])\n",
    "x_y_data = {int(data[0]): [data[1], data[2]] for data in x_y_data}\n",
    "#x_y_data"
   ]
  },
  {
   "cell_type": "code",
   "execution_count": 1781,
   "id": "f8ceb3e5-e434-42bd-9107-5ecc42087c32",
   "metadata": {},
   "outputs": [],
   "source": [
    "def calculate_distance(x_y_coords1, x_y_coords2):\n",
    "    return math.sqrt((x_y_coords1[0] - x_y_coords2[0])**2 +\\\n",
    "                      (x_y_coords1[1] - x_y_coords2[1])**2)"
   ]
  },
  {
   "cell_type": "code",
   "execution_count": 1782,
   "id": "28e5ffa1-14b3-468e-84ff-b5a7c8fd13b6",
   "metadata": {},
   "outputs": [],
   "source": [
    "def convert_distance_bandwidth(distance):\n",
    "    global distance_bandwidth_table\n",
    "    for i in distance_bandwidth_table:\n",
    "        if int(distance) >= i[0][0] and int(distance) <= i[0][1]:\n",
    "            return i[1]"
   ]
  },
  {
   "cell_type": "code",
   "execution_count": 1783,
   "id": "db031dec-76f0-41fc-b7d8-f8f2126a3110",
   "metadata": {},
   "outputs": [],
   "source": [
    "def absolute_cost_function(end_to_end_bandwidth, end_to_end_latency, alpha=1, beta=150):\n",
    "    return (end_to_end_bandwidth * alpha) + (1 / end_to_end_latency * beta)"
   ]
  },
  {
   "cell_type": "code",
   "execution_count": 1784,
   "id": "33d1d680-7266-47fa-83fd-6e1548471dee",
   "metadata": {},
   "outputs": [],
   "source": [
    "def get_geographic_coordinates(coords):\n",
    "    global central_coordinate\n",
    "    coordinates = {}\n",
    "    for i in coords.iterrows():\n",
    "        coordinates[str(int(i[1][\"id\"]))] = (i[1][\"y\"]/110574 + central_coordinate[0], i[1][\"x\"]/111320 * math.cos(central_coordinate[0]) + central_coordinate[1])\n",
    "    node_no = len(coordinates)\n",
    "    coordinates[str(node_no + 1)] = base_station_1\n",
    "    coordinates[str(node_no + 2)] = base_station_2\n",
    "    return coordinates"
   ]
  },
  {
   "cell_type": "code",
   "execution_count": 1785,
   "id": "0976fbb2-8df3-43e6-9b91-12269970b7c8",
   "metadata": {},
   "outputs": [],
   "source": [
    "geographic_coords = get_geographic_coordinates(x_y_coords)"
   ]
  },
  {
   "cell_type": "code",
   "execution_count": 1786,
   "id": "62b7ef32-af38-43a1-8ff5-65db55a0bbb4",
   "metadata": {},
   "outputs": [],
   "source": [
    "def init_blank_map():\n",
    "    global base_station_1, base_station_2\n",
    "    folium.Marker([base_station_1[0], base_station_1[1]],  popup='Base Station 1').add_to(map)\n",
    "    folium.Marker([base_station_2[0], base_station_2[1]],  popup='Base Station 2').add_to(map)\n",
    "    for location_id, location_info in geographic_coords.items():\n",
    "        folium.CircleMarker([location_info[0], location_info[1]], radius=2, popup=f\"Sensor ID: {location_id}\").add_to(map)"
   ]
  },
  {
   "cell_type": "code",
   "execution_count": 1787,
   "id": "3b6134a1-49ac-4b58-8a86-ca1ec9394c4c",
   "metadata": {},
   "outputs": [],
   "source": [
    "init_blank_map()"
   ]
  },
  {
   "cell_type": "code",
   "execution_count": 1788,
   "id": "ed39c89b-9df7-4544-8228-a88f91ebae1b",
   "metadata": {},
   "outputs": [],
   "source": [
    "def show_map():\n",
    "    display(map)"
   ]
  },
  {
   "cell_type": "code",
   "execution_count": 1789,
   "id": "1eec9963-8715-49a2-ac67-93211f2ed5fe",
   "metadata": {},
   "outputs": [],
   "source": [
    "def save_map():\n",
    "    map.save(\"map.html\")"
   ]
  },
  {
   "cell_type": "code",
   "execution_count": 1790,
   "id": "8290ad97-a84e-4127-9d8e-486c89ee0241",
   "metadata": {},
   "outputs": [
    {
     "data": {
      "text/plain": [
       "\"\\ncoordinates = {'best_route': {'sensor_id': [19, 28, 145],\\n              'coordinates': [(50.83182308300549, -1.50844786872212),\\n               (50.821231533454956, -1.4924287442749806),\\n               (50.821231533454956, -1.4924287442749806),\\n               (50.80703108850407, -1.4877640416052273),\\n               (50.80703108850407, -1.4877640416052273),\\n               (50.817205047239135, -1.4493866785949845)]}, \\n               'possible_routes': [[(50.79834911986768, -1.4912597403722938), (50.82619020366676, -1.5019504696113806),\\n                                    (50.82619020366676, -1.5019504696113806), (50.817205047239135, -1.4493866785949845)],\\n                                   [(50.79834911986768, -1.4912597403722938), (50.80721558033759, -1.5461448507014692),\\n                                    (50.80721558033759, -1.5461448507014692), (50.817205047239135, -1.4493866785949845)],\\n                                  ]\\n              }\\n\""
      ]
     },
     "execution_count": 1790,
     "metadata": {},
     "output_type": "execute_result"
    }
   ],
   "source": [
    "# except for the first and last coordinates do duplicate all coordinates in the middle for the coordinates dict item\n",
    "\"\"\"\n",
    "coordinates = {'best_route': {'sensor_id': [19, 28, 145],\n",
    "              'coordinates': [(50.83182308300549, -1.50844786872212),\n",
    "               (50.821231533454956, -1.4924287442749806),\n",
    "               (50.821231533454956, -1.4924287442749806),\n",
    "               (50.80703108850407, -1.4877640416052273),\n",
    "               (50.80703108850407, -1.4877640416052273),\n",
    "               (50.817205047239135, -1.4493866785949845)]}, \n",
    "               'possible_routes': [[(50.79834911986768, -1.4912597403722938), (50.82619020366676, -1.5019504696113806),\n",
    "                                    (50.82619020366676, -1.5019504696113806), (50.817205047239135, -1.4493866785949845)],\n",
    "                                   [(50.79834911986768, -1.4912597403722938), (50.80721558033759, -1.5461448507014692),\n",
    "                                    (50.80721558033759, -1.5461448507014692), (50.817205047239135, -1.4493866785949845)],\n",
    "                                  ]\n",
    "              }\n",
    "\"\"\""
   ]
  },
  {
   "cell_type": "code",
   "execution_count": 1791,
   "id": "eeadecd6-c380-456d-a067-746a0efcfbca",
   "metadata": {},
   "outputs": [],
   "source": [
    "def plot_route(coordinates):\n",
    "    init_blank_map()\n",
    "    # best route\n",
    "    best_lines_group = folium.FeatureGroup(name=\"Best Route\").add_to(map)\n",
    "    best_lines_group.add_child(folium.PolyLine(locations=coordinates['best_route']['coordinates'], weight=3,color = 'yellow'))\n",
    "    idx_increament = 0\n",
    "    for idx, sensor in enumerate(coordinates['best_route']['sensor_id']):\n",
    "        if idx == 0:\n",
    "            maker_location = list(coordinates['best_route']['coordinates'][idx])\n",
    "        else:\n",
    "            maker_location = list(coordinates['best_route']['coordinates'][idx + idx_increament])\n",
    "        #sensor_icon=folium.Icon(color='white', icon=str(sensor), icon_color=\"red\", prefix='fa')\n",
    "        sensor_icon = icon=BeautifyIcon(icon=\"arrow-down\",icon_shape=\"marker\",number=str(sensor),\n",
    "                                        border_color= \"yellow\",background_color=\"#FFFFFF\",text_color=\"red\"\n",
    "        )\n",
    "        best_lines_group.add_child(folium.map.Marker(maker_location, icon=sensor_icon).add_to(map))\n",
    "        idx_increament += 1\n",
    "\n",
    "    # possible routes\n",
    "    possible_lines_group = folium.FeatureGroup(name=\"Other Routes\").add_to(map)\n",
    "    for possible_line in coordinates['possible_routes']:\n",
    "        line_colour = random.randrange(0, 2**24)\n",
    "        hex_line_colour = hex(line_colour) \n",
    "        route_color = \"#\" + hex_line_colour[2:]\n",
    "        line = folium.PolyLine(locations=possible_line, weight=2, color=route_color)\n",
    "        possible_lines_group.add_child(line)\n",
    "\n",
    "    folium.LayerControl().add_to(map)\n",
    "    show_map()"
   ]
  },
  {
   "cell_type": "code",
   "execution_count": 1792,
   "id": "dd9dc250-2ef4-4b23-9068-987d3743d275",
   "metadata": {},
   "outputs": [],
   "source": [
    "#plot_route(coordinates)"
   ]
  },
  {
   "cell_type": "code",
   "execution_count": null,
   "id": "2d1c8ccd-1c15-4b78-b104-0ed2f9a5ab31",
   "metadata": {},
   "outputs": [],
   "source": []
  }
 ],
 "metadata": {
  "kernelspec": {
   "display_name": "base",
   "language": "python",
   "name": "base"
  },
  "language_info": {
   "codemirror_mode": {
    "name": "ipython",
    "version": 3
   },
   "file_extension": ".py",
   "mimetype": "text/x-python",
   "name": "python",
   "nbconvert_exporter": "python",
   "pygments_lexer": "ipython3",
   "version": "3.9.12"
  }
 },
 "nbformat": 4,
 "nbformat_minor": 5
}
