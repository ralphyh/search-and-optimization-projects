{
 "cells": [
  {
   "cell_type": "code",
   "execution_count": 769,
   "id": "7020b015-ad0e-4e38-aba8-14a6431c23fc",
   "metadata": {},
   "outputs": [],
   "source": [
    "%run data_plot.ipynb"
   ]
  },
  {
   "cell_type": "code",
   "execution_count": 770,
   "id": "776dda62-f1c6-4f11-a060-4fdea1a8fefb",
   "metadata": {},
   "outputs": [],
   "source": [
    "aco_data = {'best_path': {},\n",
    "            'possible_paths': {}}\n",
    "solutions = [{}]"
   ]
  },
  {
   "cell_type": "code",
   "execution_count": 771,
   "id": "fd832e77-d739-4d5f-8cc3-15db40375f4d",
   "metadata": {},
   "outputs": [],
   "source": [
    "trail_data = {}\n",
    "ant_data = {}"
   ]
  },
  {
   "cell_type": "code",
   "execution_count": 772,
   "id": "a160dc16-48f4-4a61-9d38-77ec8aaf1b93",
   "metadata": {},
   "outputs": [],
   "source": [
    "def init_ants(origin, coords_data, ants_count, ant_data):\n",
    "    ants_count = math.ceil(ants_count / 2)\n",
    "    dest_nodes = [x_y_base_station_1[0], x_y_base_station_2[0]]\n",
    "    init_nodes = choice(np.array([i for i in coords_data.keys() if i not in dest_nodes]), ants_count, replace=False)\n",
    "    # one of the origin nodes has to be the defined origin\n",
    "    if origin not in init_nodes:\n",
    "        init_nodes[-1] = origin\n",
    "    i = 1\n",
    "    for node in init_nodes:\n",
    "        for dest_node in dest_nodes:\n",
    "            ant_data[i] = {'start_node': node, 'destination_node': dest_node, 'paths': []}\n",
    "            i += 1\n",
    "\n",
    "    return ant_data"
   ]
  },
  {
   "cell_type": "code",
   "execution_count": 773,
   "id": "666157ec-f725-497a-9ee2-4e81f3f38703",
   "metadata": {},
   "outputs": [],
   "source": [
    "#init_ants(15, x_y_data, 20, ant_data)"
   ]
  },
  {
   "cell_type": "code",
   "execution_count": 774,
   "id": "b7f7086f-9518-48e9-9f13-cdcd9acb5d25",
   "metadata": {},
   "outputs": [],
   "source": [
    "def init_pheromone(coords_data, trail_data):\n",
    "    for data_row in coords_data.keys():\n",
    "        trail_row = []\n",
    "        for data_col in coords_data.keys():\n",
    "            if data_row == data_col:\n",
    "                trail_row.append(0)\n",
    "            else:\n",
    "                if data_col > data_row:\n",
    "                    trail_row.append(random.uniform(0, 1))\n",
    "                else:\n",
    "                    trail_row.append(trail_data[data_col][data_row - 1])\n",
    "        trail_data[data_row] = trail_row\n",
    "\n",
    "    return trail_data"
   ]
  },
  {
   "cell_type": "code",
   "execution_count": 775,
   "id": "90d69142-473a-476d-94bb-61aa55811c16",
   "metadata": {},
   "outputs": [],
   "source": [
    "#init_pheromone(x_y_data, trail_data)\n",
    "#print(trail_data)"
   ]
  },
  {
   "cell_type": "code",
   "execution_count": 776,
   "id": "4fe940e8-5cee-424d-81a0-826ff801a968",
   "metadata": {},
   "outputs": [],
   "source": [
    "def calculate_route_costs(coords_data):\n",
    "    bandwidth_data = []\n",
    "\n",
    "    for data_row in coords_data.keys():\n",
    "        # var for storing all path bandwidths & latencies\n",
    "        path_costs = []\n",
    "        for data_col in coords_data.keys():\n",
    "            if data_row != data_col:\n",
    "                # get path distance\n",
    "                path_distance = calculate_distance(coords_data[data_row], coords_data[data_col])\n",
    "                #print(f\"Node {data_row} to Node {data_col}: {path_distance}\")\n",
    "                # get bandwidth between node and its next node and append it to path bandwidths var\n",
    "                path_bandwidth = convert_distance_bandwidth(path_distance)\n",
    "                #if path_bandwidth == 0:\n",
    "                    #absolute_path_cost = 0\n",
    "                #else:\n",
    "                    #absolute_path_cost = round(absolute_cost_function(path_bandwidth, node_to_node_latency), 3)\n",
    "                path_costs.append(path_bandwidth)\n",
    "            else:\n",
    "                path_costs.append(0)\n",
    "        bandwidth_data.append(path_costs)\n",
    "\n",
    "    return bandwidth_data"
   ]
  },
  {
   "cell_type": "code",
   "execution_count": 777,
   "id": "357011b2-f9cb-494d-a14e-188adcdd3cb8",
   "metadata": {},
   "outputs": [],
   "source": [
    "#bandwidth_data = calculate_route_costs(x_y_data)\n",
    "#print(bandwidth_data)"
   ]
  },
  {
   "cell_type": "code",
   "execution_count": 778,
   "id": "299b15f1-1c32-455b-b3b7-4316f0e2f19a",
   "metadata": {},
   "outputs": [],
   "source": [
    "def traverse_nodes(ant_data, coords_data, bandwidth_data, trail_data, alpha = 0.6):\n",
    "    for ant in ant_data.keys():\n",
    "        current_node = ant_data[ant]['start_node']\n",
    "        ant_data[ant]['paths'].append({'path': [current_node], 'end-to-end_transmission': 0, 'latency': 0, 'cost': 0})\n",
    "        # if the current path is not destination node\n",
    "        while current_node != ant_data[ant]['destination_node']:\n",
    "            # loop through all nodes and calculate sum of probabilities\n",
    "            sum_of_probabilities = 0\n",
    "            path_latency = 0\n",
    "            for node in coords_data.keys():\n",
    "                if node != current_node:\n",
    "                    '''\n",
    "                    calculate end to end bandwidth. First get all visited \n",
    "                    node in the path from origin up until the current node\n",
    "                    '''\n",
    "                    current_path = ant_data[ant]['paths'][-1]['path']\n",
    "                    path_bandwidths = []\n",
    "                    for path in range(len(current_path) - 1):\n",
    "                        path_bandwidths.append(bandwidth_data[current_path[path] - 1][current_path[path + 1] - 1])\n",
    "                    bandwidth = bandwidth_data[current_node - 1][node - 1]\n",
    "                    path_bandwidths.append(bandwidth)\n",
    "                    # compute end-to-end bandwidth rate\n",
    "                    end_to_end_bandwidth = min(path_bandwidths)\n",
    "                    path_latency += node_to_node_latency\n",
    "                    # for each node further from original node, increase latency\n",
    "                    if end_to_end_bandwidth == 0:\n",
    "                        absolute_path_cost = 0\n",
    "                    else:\n",
    "                        # calculate absolute cost\n",
    "                        absolute_path_cost = round(absolute_cost_function(bandwidth_data[current_node - 1][node - 1], path_latency), 3)\n",
    "                    sum_of_probabilities += (trail_data[current_node][node - 1] * alpha) + \\\n",
    "                    ((1 - alpha) * absolute_path_cost)\n",
    "            path_probabilities = [(None, 0)]\n",
    "            # loop through all nodes and calculate probabilities\n",
    "            for node in coords_data.keys():\n",
    "                # dont calculate probability of visiting itself\n",
    "                if node != current_node:\n",
    "                    '''\n",
    "                    calculate end to end bandwidth. First get all visited \n",
    "                    node in the path from origin up until the current node\n",
    "                    '''\n",
    "                    current_path = ant_data[ant]['paths'][-1]['path']\n",
    "                    path_bandwidths = []\n",
    "                    for path in range(len(current_path) - 1):\n",
    "                        path_bandwidths.append(bandwidth_data[current_path[path] - 1][current_path[path + 1] - 1])\n",
    "                    bandwidth = bandwidth_data[current_node - 1][node - 1]\n",
    "                    path_bandwidths.append(bandwidth)\n",
    "                    # compute end-to-end bandwidth rate\n",
    "                    end_to_end_bandwidth = min(path_bandwidths)\n",
    "                    path_latency += node_to_node_latency\n",
    "                    # for each node further from original node, increase latency\n",
    "                    if end_to_end_bandwidth == 0:\n",
    "                        absolute_path_cost = 0\n",
    "                    else:\n",
    "                        # calculate absolute cost\n",
    "                        absolute_path_cost = round(absolute_cost_function(bandwidth_data[current_node - 1][node - 1], path_latency), 3)\n",
    "                    probability = ((trail_data[current_node][node - 1] * alpha) + \\\n",
    "                    ((1 - alpha) * absolute_path_cost)) \\\n",
    "                    / sum_of_probabilities\n",
    "                    # do a cummulative probability that will be used to determine next path based\n",
    "                    path_probabilities.append((node, path_probabilities[-1][1] + probability))\n",
    "            rand_selector = random.uniform(0, 1)\n",
    "            number_of_probs = len(path_probabilities)\n",
    "            for idx in range(len(path_probabilities) - 1):\n",
    "                if rand_selector > path_probabilities[idx][1] and rand_selector < path_probabilities[idx + 1][1]:\n",
    "                    current_node = path_probabilities[idx + 1][0]\n",
    "                    ant_data[ant]['paths'][-1]['path'].append(current_node)\n",
    "                    break\n",
    "                if idx + 1 == number_of_probs:\n",
    "                    # if rand is number extremely close to one, select the last index\n",
    "                    current_node = path_probabilities[idx + 1][0]\n",
    "                    ant_data[ant]['paths'][-1]['path'].append(current_node)\n",
    "                 \n",
    "    return "
   ]
  },
  {
   "cell_type": "code",
   "execution_count": 779,
   "id": "87680465-df63-4935-95b6-9d4b88a3db6a",
   "metadata": {},
   "outputs": [],
   "source": [
    "#traverse_nodes(ant_data, 15, x_y_data, bandwidth_data, trail_data)\n",
    "#print(ant_data)"
   ]
  },
  {
   "cell_type": "code",
   "execution_count": 780,
   "id": "736bfb58-642e-4eb8-b08a-6bd12444f41d",
   "metadata": {},
   "outputs": [],
   "source": [
    "def remove_path_loops(ant_data):\n",
    "    for ant, data in ant_data.items():\n",
    "        latest_path = data['paths'][-1]['path']\n",
    "        modified = True\n",
    "\n",
    "        while modified:\n",
    "            modified = False\n",
    "            for idx in range(len(latest_path)):\n",
    "                last_idx = len(latest_path) - 1\n",
    "                while idx < last_idx:\n",
    "                    if latest_path[idx] == latest_path[last_idx]:\n",
    "                        latest_path = latest_path[:idx] + latest_path[last_idx:]\n",
    "                        modified = True\n",
    "                        break\n",
    "                    last_idx -= 1\n",
    "                if modified:\n",
    "                    break \n",
    "        ant_data[ant]['paths'][-1]['path'] = latest_path\n",
    "\n",
    "    return"
   ]
  },
  {
   "cell_type": "code",
   "execution_count": 781,
   "id": "d0513e35-a57f-46f9-bbb3-cd56274609a9",
   "metadata": {},
   "outputs": [],
   "source": [
    "#remove_path_loops(ant_data)"
   ]
  },
  {
   "cell_type": "code",
   "execution_count": 782,
   "id": "6d843e95-8c1e-4720-9251-59230fc65e62",
   "metadata": {},
   "outputs": [],
   "source": [
    "#ant_data"
   ]
  },
  {
   "cell_type": "code",
   "execution_count": 783,
   "id": "c0ec67f6-0857-4ac3-86dc-017753c4c03d",
   "metadata": {},
   "outputs": [],
   "source": [
    "def calculate_path_total_cost(ant_data, bandwidth_data):\n",
    "    for ant, data in ant_data.items():\n",
    "        latest_path = data['paths'][-1]['path']\n",
    "        path_cost = data['paths'][-1]['cost']\n",
    "        path_latency = 0\n",
    "        if len(latest_path) > 1:\n",
    "            path_bandwidths = []\n",
    "            for path in range(len(latest_path) - 1):\n",
    "                path_bandwidths.append(bandwidth_data[latest_path[path] - 1][latest_path[path + 1] - 1])\n",
    "                path_latency += node_to_node_latency\n",
    "            # compute end-to-end bandwidth rate\n",
    "            end_to_end_bandwidth = min(path_bandwidths)\n",
    "            if end_to_end_bandwidth == 0:\n",
    "                absolute_path_cost = 0\n",
    "            else:\n",
    "                # calculate absolute cost\n",
    "                absolute_path_cost = round(absolute_cost_function(bandwidth_data[latest_path[path] - 1][latest_path[path + 1] - 1], path_latency), 3)\n",
    "            ant_data[ant]['paths'][-1]['cost'] = absolute_path_cost  \n",
    "            ant_data[ant]['paths'][-1]['end-to-end_transmission'] = end_to_end_bandwidth\n",
    "            ant_data[ant]['paths'][-1]['latency'] = path_latency\n",
    "\n",
    "    return"
   ]
  },
  {
   "cell_type": "code",
   "execution_count": 784,
   "id": "6fbac2f9-fcbe-4634-9712-b450bc74d8ce",
   "metadata": {},
   "outputs": [],
   "source": [
    "#calculate_path_total_cost(ant_data, bandwidth_data)"
   ]
  },
  {
   "cell_type": "code",
   "execution_count": 785,
   "id": "c85c579a-530b-4a6b-bff1-d8782890f202",
   "metadata": {},
   "outputs": [],
   "source": [
    "#ant_data"
   ]
  },
  {
   "cell_type": "code",
   "execution_count": 786,
   "id": "44fbafb5-58d6-4b59-82c6-65ebe50c1be5",
   "metadata": {},
   "outputs": [],
   "source": [
    "def negative_feedback(evaporation_rate, trail_data):\n",
    "    for node, pheromone_data in trail_data.items():\n",
    "        for idx, pheromone in enumerate(pheromone_data):\n",
    "            trail_data[node][idx] = (1 - evaporation_rate) * pheromone\n",
    "\n",
    "    return"
   ]
  },
  {
   "cell_type": "code",
   "execution_count": 787,
   "id": "d9d1cd52-7911-411f-ad1e-1f83cb02b98e",
   "metadata": {},
   "outputs": [],
   "source": [
    "#print(trail_data)"
   ]
  },
  {
   "cell_type": "code",
   "execution_count": 788,
   "id": "839bc12e-dd7c-45a9-ab9c-be26fe053da2",
   "metadata": {},
   "outputs": [],
   "source": [
    "#negative_feedback(0.45, trail_data)"
   ]
  },
  {
   "cell_type": "code",
   "execution_count": 789,
   "id": "dfc2c482-84f6-4a7f-9aa9-c6b1f8b8a308",
   "metadata": {},
   "outputs": [],
   "source": [
    "#print(trail_data)"
   ]
  },
  {
   "cell_type": "code",
   "execution_count": 790,
   "id": "611f6109-bcfc-4694-a0fb-025b4fa476ab",
   "metadata": {},
   "outputs": [],
   "source": [
    "def positive_feedback(Q, ant_data, trail_data, bandwidth_data):\n",
    "    for ant, data in ant_data.items():\n",
    "        latest_path = data['paths'][-1]['path']\n",
    "\n",
    "        if len(latest_path) > 1:\n",
    "            for idx in range(len(latest_path) - 1):\n",
    "                # increase pheromone for path in both directions [a -> b] == [b -> a]\n",
    "                if bandwidth_data[latest_path[idx] - 1][latest_path[idx + 1] - 1] == 0:\n",
    "                    trail_data[latest_path[idx]][latest_path[idx + 1] - 1] += 0\n",
    "                    trail_data[latest_path[idx + 1]][latest_path[idx] - 1] += 0\n",
    "                else:\n",
    "                    trail_data[latest_path[idx]][latest_path[idx + 1] - 1] += Q / bandwidth_data[latest_path[idx] - 1][latest_path[idx + 1] - 1]\n",
    "                    trail_data[latest_path[idx + 1]][latest_path[idx] - 1] += Q / bandwidth_data[latest_path[idx] - 1][latest_path[idx + 1] - 1]\n",
    "\n",
    "    return"
   ]
  },
  {
   "cell_type": "code",
   "execution_count": 791,
   "id": "eba89792-55fd-42b5-a628-7454ffc8835a",
   "metadata": {},
   "outputs": [],
   "source": [
    "#positive_feedback(1, ant_data, trail_data, bandwidth_data)"
   ]
  },
  {
   "cell_type": "code",
   "execution_count": 792,
   "id": "55b99d84-7205-4acd-8f41-ec43694a7724",
   "metadata": {},
   "outputs": [],
   "source": [
    "#print(trail_data)"
   ]
  },
  {
   "cell_type": "code",
   "execution_count": 793,
   "id": "e3efda63-bfe7-4240-b9bb-5f6fd940e581",
   "metadata": {},
   "outputs": [],
   "source": [
    "def get_aco_data(origin, ant_data, bandwidth_data, aco_data, solutions):\n",
    "    for ant, data in ant_data.items():\n",
    "        if data['start_node'] == origin:\n",
    "            for path in data['paths']:\n",
    "                path_end_to_end_transmission = path['end-to-end_transmission']\n",
    "                path_latency = path['latency']\n",
    "                path_absolute_cost = path['cost']\n",
    "                if path_absolute_cost > 0:\n",
    "                    if len(aco_data['best_path']) == 0:\n",
    "                        solutions[0] = {\"source node\": f\"Node-{path['path'][0]}\"}\n",
    "                        routing_path = ''\n",
    "                        for idx, sensor in enumerate(path['path'][1:]):\n",
    "                            routing_path += f\"(Node-{sensor}, {bandwidth_data[path['path'][idx] - 1][path['path'][idx + 1] - 1]} Mbps),\"\n",
    "                        solutions[0][\"routing path\"] = routing_path\n",
    "                        solutions[0][\"end-to-end transmission rate\"] = f\"{path_end_to_end_transmission} Mbps\"\n",
    "                        solutions[0][\"end-to-end latency\"] = f\"{path_latency} ms\"\n",
    "                        solutions[0][\"absolute path cost\"] = f\"{path_absolute_cost}\"\n",
    "                        aco_data['best_path'][str(path['path'])] = {'end_to_end_bandwidth': path_end_to_end_transmission,\n",
    "                                                                         'path_latency': path_latency,\n",
    "                                                                         'absolute_cost': path_absolute_cost\n",
    "                                                                         }\n",
    "                    else:\n",
    "                        best_path = aco_data['best_path'][list(aco_data['best_path'].keys())[0]]\n",
    "                        if path_absolute_cost > best_path['absolute_cost']:\n",
    "                            solutions[0] = {\"source node\": f\"Node-{path['path'][0]}\"}\n",
    "                            routing_path = ''\n",
    "                            for idx, sensor in enumerate(path['path'][1:-1]):\n",
    "                                routing_path += f\"(Node-{sensor}, {bandwidth_data[idx][idx + 1]} Mbps),\"\n",
    "                            solutions[0][\"routing path\"] = routing_path\n",
    "                            solutions[0][\"end-to-end transmission rate\"] = f\"{path_end_to_end_transmission} Mbps\"\n",
    "                            solutions[0][\"end-to-end latency\"] = f\"{path_latency} ms\"\n",
    "                            solutions[0][\"absolute path cost\"] = f\"{path_absolute_cost}\"\n",
    "                            aco_data['possible_paths'][list(aco_data['best_path'].keys())[0]] = {\n",
    "                                                     'end_to_end_bandwidth': best_path['end_to_end_bandwidth'],\n",
    "                                                     'path_latency': best_path['path_latency'],\n",
    "                                                     'absolute_cost': best_path['absolute_cost']\n",
    "                                                    }\n",
    "                            aco_data['best_path'].pop(list(aco_data['best_path'].keys())[0])\n",
    "                            aco_data['best_path'][str(path['path'])] = {\n",
    "                                                     'end_to_end_bandwidth': path_end_to_end_transmission,\n",
    "                                                     'path_latency': path_latency,\n",
    "                                                     'absolute_cost': path_absolute_cost\n",
    "                                                    }\n",
    "                        else:\n",
    "                            aco_data['possible_paths'][str(path['path'])] = {'end_to_end_bandwidth': path_end_to_end_transmission,\n",
    "                                                                         'path_latency': path_latency,\n",
    "                                                                         'absolute_cost': path_absolute_cost\n",
    "                                                                         }\n",
    "    return aco_data, solutions"
   ]
  },
  {
   "cell_type": "code",
   "execution_count": 794,
   "id": "23264ea0-08c7-4648-bf2a-0fde605eebe3",
   "metadata": {},
   "outputs": [],
   "source": [
    "def ant_colony_optimization(origin, Q=1, evaporate=0.45, ants_count=20, max_iterations=10):\n",
    "    trail_data = {}\n",
    "    ant_data = {}\n",
    "    aco_data = {'best_path': {},\n",
    "            'possible_paths': {}}\n",
    "    solutions = [{}]\n",
    "    init_ants(origin, x_y_data, ants_count, ant_data)\n",
    "    init_pheromone(x_y_data, trail_data)\n",
    "    bandwidth_data = calculate_route_costs(x_y_data)\n",
    "    for i in range(max_iterations):\n",
    "        traverse_nodes(ant_data, x_y_data, bandwidth_data, trail_data)\n",
    "        remove_path_loops(ant_data)\n",
    "        calculate_path_total_cost(ant_data, bandwidth_data)\n",
    "        negative_feedback(evaporate, trail_data)\n",
    "        positive_feedback(Q, ant_data, trail_data, bandwidth_data)\n",
    "    for ant, data in ant_data.items():\n",
    "        print(\"ant {}: ({})\".format(ant, data))\n",
    "        print(\"--------------------------------------------------------\")\n",
    "    aco_data, solutions = get_aco_data(origin, ant_data, bandwidth_data, aco_data, solutions)\n",
    "    return aco_data, solutions"
   ]
  },
  {
   "cell_type": "code",
   "execution_count": 795,
   "id": "d41b652d-1c14-45b7-8e05-ef49edac92f0",
   "metadata": {},
   "outputs": [
    {
     "name": "stdout",
     "output_type": "stream",
     "text": [
      "ant 1: ({'start_node': 123, 'destination_node': 151, 'paths': [{'path': [123, 36, 127, 60, 100, 71, 67, 35, 126, 17, 18, 86, 38, 148, 115, 53, 116, 66, 15, 151], 'end-to-end_transmission': 0, 'latency': 570, 'cost': 0}, {'path': [123, 25, 86, 114, 98, 42, 28, 148, 121, 84, 150, 151], 'end-to-end_transmission': 0, 'latency': 330, 'cost': 0}, {'path': [123, 42, 8, 26, 93, 21, 43, 151], 'end-to-end_transmission': 0, 'latency': 210, 'cost': 0}, {'path': [123, 99, 125, 144, 102, 24, 54, 52, 127, 20, 8, 32, 107, 112, 60, 69, 109, 50, 114, 89, 100, 149, 18, 151], 'end-to-end_transmission': 0, 'latency': 690, 'cost': 0}, {'path': [123, 69, 8, 71, 95, 137, 7, 119, 151], 'end-to-end_transmission': 0, 'latency': 240, 'cost': 0}, {'path': [123, 80, 85, 139, 66, 45, 78, 122, 111, 117, 106, 107, 138, 73, 12, 61, 151], 'end-to-end_transmission': 0, 'latency': 480, 'cost': 0}, {'path': [123, 111, 44, 117, 69, 56, 63, 151], 'end-to-end_transmission': 0, 'latency': 210, 'cost': 0}, {'path': [123, 126, 39, 144, 32, 31, 13, 147, 83, 11, 47, 4, 78, 14, 73, 15, 97, 53, 151], 'end-to-end_transmission': 1, 'latency': 540, 'cost': 4.278}, {'path': [123, 50, 111, 23, 119, 33, 69, 29, 98, 116, 73, 78, 90, 53, 15, 93, 21, 150, 115, 81, 124, 61, 151], 'end-to-end_transmission': 0, 'latency': 660, 'cost': 0}, {'path': [123, 56, 126, 152, 111, 10, 85, 41, 72, 112, 74, 61, 151], 'end-to-end_transmission': 0, 'latency': 360, 'cost': 0}]})\n",
      "--------------------------------------------------------\n",
      "ant 2: ({'start_node': 123, 'destination_node': 152, 'paths': [{'path': [123, 88, 19, 114, 29, 58, 21, 104, 125, 40, 6, 124, 106, 152], 'end-to-end_transmission': 0, 'latency': 390, 'cost': 0}, {'path': [123, 99, 58, 118, 9, 69, 6, 149, 97, 106, 141, 121, 17, 130, 79, 78, 28, 71, 21, 25, 152], 'end-to-end_transmission': 0, 'latency': 600, 'cost': 0}, {'path': [123, 122, 20, 19, 43, 28, 64, 96, 9, 92, 97, 39, 118, 7, 139, 79, 144, 152], 'end-to-end_transmission': 0, 'latency': 510, 'cost': 0}, {'path': [123, 102, 42, 146, 40, 53, 66, 108, 68, 147, 103, 110, 46, 85, 98, 142, 37, 128, 152], 'end-to-end_transmission': 0, 'latency': 540, 'cost': 0}, {'path': [123, 87, 42, 116, 79, 18, 84, 77, 100, 22, 101, 3, 76, 6, 108, 45, 126, 152], 'end-to-end_transmission': 0, 'latency': 510, 'cost': 0}, {'path': [123, 152], 'end-to-end_transmission': 5, 'latency': 30, 'cost': 10.0}, {'path': [123, 108, 142, 26, 106, 134, 35, 45, 81, 138, 10, 110, 105, 49, 77, 30, 126, 152], 'end-to-end_transmission': 0, 'latency': 510, 'cost': 0}, {'path': [123, 3, 56, 33, 38, 66, 45, 96, 26, 34, 115, 118, 132, 103, 41, 51, 108, 152], 'end-to-end_transmission': 0, 'latency': 510, 'cost': 0}, {'path': [123, 126, 152], 'end-to-end_transmission': 1, 'latency': 60, 'cost': 3.5}, {'path': [123, 80, 44, 152], 'end-to-end_transmission': 1, 'latency': 90, 'cost': 4.667}]})\n",
      "--------------------------------------------------------\n",
      "ant 3: ({'start_node': 137, 'destination_node': 151, 'paths': [{'path': [137, 12, 126, 16, 44, 25, 110, 77, 65, 18, 76, 6, 30, 45, 106, 97, 51, 103, 37, 151], 'end-to-end_transmission': 0, 'latency': 570, 'cost': 0}, {'path': [137, 32, 98, 144, 77, 105, 86, 106, 130, 95, 8, 100, 122, 38, 78, 30, 102, 146, 29, 82, 54, 121, 52, 58, 126, 112, 73, 13, 128, 9, 55, 50, 91, 133, 25, 70, 113, 84, 81, 124, 92, 39, 151], 'end-to-end_transmission': 0, 'latency': 1260, 'cost': 0}, {'path': [137, 86, 71, 130, 11, 7, 109, 57, 40, 69, 141, 132, 115, 106, 122, 68, 80, 143, 79, 144, 151], 'end-to-end_transmission': 0, 'latency': 600, 'cost': 0}, {'path': [137, 88, 3, 110, 145, 133, 85, 20, 13, 126, 37, 99, 120, 111, 151], 'end-to-end_transmission': 0, 'latency': 420, 'cost': 0}, {'path': [137, 88, 61, 101, 53, 76, 92, 146, 40, 133, 78, 145, 98, 85, 70, 74, 108, 25, 127, 151], 'end-to-end_transmission': 0, 'latency': 570, 'cost': 0}, {'path': [137, 128, 143, 111, 6, 100, 151], 'end-to-end_transmission': 0, 'latency': 180, 'cost': 0}, {'path': [137, 11, 75, 13, 71, 123, 38, 30, 119, 51, 49, 105, 87, 94, 152, 150, 93, 61, 151], 'end-to-end_transmission': 0, 'latency': 540, 'cost': 0}, {'path': [137, 143, 45, 81, 124, 24, 96, 61, 151], 'end-to-end_transmission': 0, 'latency': 240, 'cost': 0}, {'path': [137, 75, 82, 4, 105, 61, 81, 43, 49, 14, 53, 57, 77, 151], 'end-to-end_transmission': 1, 'latency': 390, 'cost': 2.385}, {'path': [137, 143, 55, 94, 103, 15, 72, 92, 135, 35, 74, 61, 151], 'end-to-end_transmission': 0, 'latency': 360, 'cost': 0}]})\n",
      "--------------------------------------------------------\n",
      "ant 4: ({'start_node': 137, 'destination_node': 152, 'paths': [{'path': [137, 104, 97, 3, 54, 120, 77, 136, 88, 152], 'end-to-end_transmission': 0, 'latency': 270, 'cost': 0}, {'path': [137, 151, 102, 55, 142, 5, 87, 101, 103, 133, 125, 75, 2, 152], 'end-to-end_transmission': 0, 'latency': 390, 'cost': 0}, {'path': [137, 27, 28, 122, 45, 35, 68, 144, 112, 65, 12, 21, 116, 152], 'end-to-end_transmission': 0, 'latency': 390, 'cost': 0}, {'path': [137, 99, 12, 6, 68, 139, 20, 1, 63, 39, 25, 135, 134, 149, 96, 51, 150, 152], 'end-to-end_transmission': 0, 'latency': 510, 'cost': 0}, {'path': [137, 88, 38, 79, 116, 74, 65, 69, 142, 152], 'end-to-end_transmission': 0, 'latency': 270, 'cost': 0}, {'path': [137, 46, 64, 91, 141, 51, 47, 150, 126, 152], 'end-to-end_transmission': 0, 'latency': 270, 'cost': 0}, {'path': [137, 13, 151, 107, 106, 134, 78, 58, 117, 111, 152], 'end-to-end_transmission': 0, 'latency': 300, 'cost': 0}, {'path': [137, 13, 71, 85, 5, 51, 104, 100, 96, 24, 145, 118, 120, 103, 136, 139, 84, 17, 82, 143, 60, 152], 'end-to-end_transmission': 0, 'latency': 630, 'cost': 0}, {'path': [137, 143, 45, 66, 41, 9, 125, 152], 'end-to-end_transmission': 0, 'latency': 210, 'cost': 0}, {'path': [137, 78, 116, 89, 131, 105, 49, 120, 115, 52, 35, 87, 24, 7, 30, 39, 142, 23, 9, 3, 152], 'end-to-end_transmission': 1, 'latency': 600, 'cost': 1.25}]})\n",
      "--------------------------------------------------------\n",
      "ant 5: ({'start_node': 2, 'destination_node': 151, 'paths': [{'path': [2, 117, 27, 1, 119, 46, 79, 144, 17, 65, 91, 56, 41, 129, 118, 151], 'end-to-end_transmission': 0, 'latency': 450, 'cost': 0}, {'path': [2, 12, 17, 144, 125, 137, 37, 146, 52, 7, 142, 151], 'end-to-end_transmission': 0, 'latency': 330, 'cost': 0}, {'path': [2, 147, 80, 50, 22, 7, 121, 141, 120, 114, 81, 64, 131, 26, 151], 'end-to-end_transmission': 0, 'latency': 420, 'cost': 0}, {'path': [2, 34, 45, 90, 121, 133, 129, 100, 10, 88, 60, 151], 'end-to-end_transmission': 0, 'latency': 330, 'cost': 0}, {'path': [2, 62, 78, 110, 22, 134, 84, 94, 79, 144, 132, 142, 118, 145, 33, 9, 136, 6, 100, 107, 137, 151], 'end-to-end_transmission': 0, 'latency': 630, 'cost': 0}, {'path': [2, 147, 49, 149, 134, 132, 152, 111, 142, 140, 74, 61, 151], 'end-to-end_transmission': 0, 'latency': 360, 'cost': 0}, {'path': [2, 12, 128, 143, 137, 27, 124, 61, 151], 'end-to-end_transmission': 1, 'latency': 240, 'cost': 1.625}, {'path': [2, 11, 31, 75, 47, 109, 83, 13, 82, 137, 4, 73, 90, 15, 97, 84, 28, 81, 135, 85, 19, 10, 24, 102, 33, 125, 141, 29, 74, 61, 151], 'end-to-end_transmission': 0, 'latency': 900, 'cost': 0}, {'path': [2, 71, 109, 39, 7, 119, 110, 114, 79, 18, 151], 'end-to-end_transmission': 0, 'latency': 300, 'cost': 0}, {'path': [2, 132, 31, 109, 47, 4, 137, 75, 147, 16, 117, 18, 65, 10, 98, 29, 69, 39, 7, 103, 15, 151], 'end-to-end_transmission': 0, 'latency': 630, 'cost': 0}]})\n",
      "--------------------------------------------------------\n",
      "ant 6: ({'start_node': 2, 'destination_node': 152, 'paths': [{'path': [2, 48, 94, 5, 130, 106, 8, 134, 26, 10, 114, 152], 'end-to-end_transmission': 0, 'latency': 330, 'cost': 0}, {'path': [2, 51, 19, 8, 114, 33, 81, 6, 124, 87, 125, 41, 26, 145, 96, 115, 152], 'end-to-end_transmission': 0, 'latency': 480, 'cost': 0}, {'path': [2, 92, 147, 88, 7, 46, 141, 51, 40, 98, 21, 96, 131, 50, 48, 152], 'end-to-end_transmission': 0, 'latency': 450, 'cost': 0}, {'path': [2, 137, 109, 72, 112, 73, 12, 21, 136, 134, 106, 113, 10, 87, 50, 152], 'end-to-end_transmission': 0, 'latency': 450, 'cost': 0}, {'path': [2, 148, 39, 43, 119, 140, 90, 3, 79, 124, 81, 145, 19, 8, 69, 64, 91, 46, 60, 115, 152], 'end-to-end_transmission': 0, 'latency': 600, 'cost': 0}, {'path': [2, 12, 73, 152], 'end-to-end_transmission': 0, 'latency': 90, 'cost': 0}, {'path': [2, 12, 91, 65, 34, 68, 6, 7, 119, 140, 137, 88, 106, 130, 95, 75, 59, 142, 152], 'end-to-end_transmission': 0, 'latency': 540, 'cost': 0}, {'path': [2, 3, 152], 'end-to-end_transmission': 0, 'latency': 60, 'cost': 0}, {'path': [2, 75, 48, 11, 18, 16, 91, 102, 33, 117, 65, 29, 50, 111, 152], 'end-to-end_transmission': 1, 'latency': 420, 'cost': 2.357}, {'path': [2, 82, 88, 27, 138, 10, 107, 106, 130, 50, 24, 3, 152], 'end-to-end_transmission': 1, 'latency': 360, 'cost': 1.417}]})\n",
      "--------------------------------------------------------\n",
      "ant 7: ({'start_node': 24, 'destination_node': 151, 'paths': [{'path': [24, 7, 117, 93, 122, 60, 75, 127, 151], 'end-to-end_transmission': 0, 'latency': 240, 'cost': 0}, {'path': [24, 26, 22, 7, 27, 21, 72, 107, 38, 103, 67, 111, 119, 69, 98, 133, 37, 60, 81, 144, 34, 151], 'end-to-end_transmission': 0, 'latency': 630, 'cost': 0}, {'path': [24, 111, 152, 48, 17, 108, 62, 92, 91, 12, 73, 28, 112, 74, 23, 49, 133, 151], 'end-to-end_transmission': 0, 'latency': 510, 'cost': 0}, {'path': [24, 19, 131, 51, 104, 68, 40, 73, 4, 126, 152, 132, 109, 125, 6, 18, 21, 151], 'end-to-end_transmission': 0, 'latency': 510, 'cost': 0}, {'path': [24, 109, 132, 63, 107, 110, 59, 111, 64, 135, 82, 88, 149, 134, 68, 152, 126, 4, 99, 130, 32, 15, 65, 151], 'end-to-end_transmission': 0, 'latency': 690, 'cost': 0}, {'path': [24, 97, 73, 42, 1, 150, 115, 81, 41, 99, 72, 11, 60, 102, 112, 64, 40, 133, 75, 10, 90, 38, 55, 151], 'end-to-end_transmission': 0, 'latency': 690, 'cost': 0}, {'path': [24, 102, 34, 91, 84, 66, 139, 83, 12, 73, 4, 110, 47, 15, 57, 151], 'end-to-end_transmission': 0, 'latency': 450, 'cost': 0}, {'path': [24, 110, 59, 27, 124, 61, 151], 'end-to-end_transmission': 0, 'latency': 180, 'cost': 0}, {'path': [24, 23, 51, 44, 60, 108, 56, 126, 69, 39, 30, 79, 19, 85, 35, 124, 140, 28, 43, 145, 73, 14, 8, 61, 151], 'end-to-end_transmission': 0, 'latency': 720, 'cost': 0}, {'path': [24, 80, 65, 7, 116, 100, 6, 54, 17, 42, 131, 45, 81, 19, 13, 18, 34, 91, 63, 44, 5, 141, 27, 124, 61, 151], 'end-to-end_transmission': 0, 'latency': 750, 'cost': 0}]})\n",
      "--------------------------------------------------------\n",
      "ant 8: ({'start_node': 24, 'destination_node': 152, 'paths': [{'path': [24, 96, 88, 94, 75, 41, 5, 85, 47, 26, 147, 145, 135, 19, 144, 152], 'end-to-end_transmission': 0, 'latency': 450, 'cost': 0}, {'path': [24, 64, 40, 27, 16, 70, 152], 'end-to-end_transmission': 0, 'latency': 180, 'cost': 0}, {'path': [24, 30, 79, 116, 124, 84, 66, 46, 78, 5, 40, 146, 38, 70, 122, 63, 47, 41, 152], 'end-to-end_transmission': 0, 'latency': 540, 'cost': 0}, {'path': [24, 18, 3, 139, 55, 116, 113, 148, 52, 26, 131, 17, 109, 132, 21, 71, 152], 'end-to-end_transmission': 0, 'latency': 480, 'cost': 0}, {'path': [24, 96, 150, 115, 64, 108, 152], 'end-to-end_transmission': 0, 'latency': 180, 'cost': 0}, {'path': [24, 131, 78, 142, 152], 'end-to-end_transmission': 0, 'latency': 120, 'cost': 0}, {'path': [24, 141, 144, 42, 146, 101, 22, 117, 75, 53, 33, 113, 14, 132, 30, 64, 135, 138, 10, 110, 59, 28, 111, 152], 'end-to-end_transmission': 0, 'latency': 690, 'cost': 0}, {'path': [24, 23, 123, 152], 'end-to-end_transmission': 1, 'latency': 90, 'cost': 6.667}, {'path': [24, 80, 108, 69, 3, 142, 152], 'end-to-end_transmission': 1, 'latency': 180, 'cost': 1.833}, {'path': [24, 65, 130, 79, 29, 87, 135, 85, 138, 49, 145, 81, 15, 61, 140, 58, 95, 16, 102, 7, 119, 125, 33, 69, 5, 123, 142, 152], 'end-to-end_transmission': 1, 'latency': 810, 'cost': 1.185}]})\n",
      "--------------------------------------------------------\n",
      "ant 9: ({'start_node': 15, 'destination_node': 151, 'paths': [{'path': [15, 81, 6, 17, 152, 114, 85, 122, 66, 79, 73, 138, 33, 24, 47, 45, 91, 141, 28, 96, 60, 151], 'end-to-end_transmission': 0, 'latency': 630, 'cost': 0}, {'path': [15, 57, 14, 81, 73, 117, 150, 19, 72, 126, 91, 85, 151], 'end-to-end_transmission': 0, 'latency': 360, 'cost': 0}, {'path': [15, 113, 106, 22, 4, 96, 54, 59, 99, 105, 73, 70, 151], 'end-to-end_transmission': 0, 'latency': 360, 'cost': 0}, {'path': [15, 123, 66, 68, 88, 3, 131, 126, 94, 151], 'end-to-end_transmission': 0, 'latency': 270, 'cost': 0}, {'path': [15, 123, 80, 50, 60, 29, 124, 61, 151], 'end-to-end_transmission': 0, 'latency': 240, 'cost': 0}, {'path': [15, 57, 62, 130, 110, 41, 84, 66, 34, 106, 113, 61, 151], 'end-to-end_transmission': 0, 'latency': 360, 'cost': 0}, {'path': [15, 103, 41, 85, 69, 58, 65, 10, 98, 1, 34, 68, 40, 37, 75, 87, 13, 143, 128, 95, 61, 151], 'end-to-end_transmission': 0, 'latency': 630, 'cost': 0}, {'path': [15, 90, 61, 124, 35, 115, 106, 101, 148, 98, 45, 116, 38, 128, 82, 143, 46, 66, 84, 41, 138, 73, 53, 57, 151], 'end-to-end_transmission': 1, 'latency': 720, 'cost': 5.208}, {'path': [15, 72, 92, 115, 74, 61, 151], 'end-to-end_transmission': 1, 'latency': 180, 'cost': 1.833}, {'path': [15, 90, 78, 73, 145, 118, 120, 74, 61, 151], 'end-to-end_transmission': 1, 'latency': 270, 'cost': 1.556}]})\n",
      "--------------------------------------------------------\n",
      "ant 10: ({'start_node': 15, 'destination_node': 152, 'paths': [{'path': [15, 51, 119, 30, 76, 53, 150, 86, 73, 123, 87, 44, 59, 124, 75, 105, 98, 10, 136, 152], 'end-to-end_transmission': 0, 'latency': 570, 'cost': 0}, {'path': [15, 46, 123, 76, 97, 19, 117, 75, 102, 32, 62, 92, 53, 145, 118, 146, 25, 129, 104, 68, 152], 'end-to-end_transmission': 0, 'latency': 600, 'cost': 0}, {'path': [15, 101, 83, 55, 51, 141, 53, 152], 'end-to-end_transmission': 0, 'latency': 210, 'cost': 0}, {'path': [15, 14, 94, 35, 130, 116, 29, 111, 152], 'end-to-end_transmission': 0, 'latency': 240, 'cost': 0}, {'path': [15, 72, 74, 61, 151, 27, 86, 58, 152], 'end-to-end_transmission': 0, 'latency': 240, 'cost': 0}, {'path': [15, 53, 62, 49, 43, 2, 133, 125, 126, 152], 'end-to-end_transmission': 0, 'latency': 270, 'cost': 0}, {'path': [15, 97, 103, 120, 92, 115, 35, 10, 113, 19, 129, 138, 140, 29, 111, 152], 'end-to-end_transmission': 0, 'latency': 450, 'cost': 0}, {'path': [15, 100, 6, 131, 66, 45, 106, 152], 'end-to-end_transmission': 0, 'latency': 210, 'cost': 0}, {'path': [15, 84, 41, 81, 145, 40, 114, 42, 146, 20, 140, 137, 88, 99, 117, 18, 34, 68, 6, 100, 96, 24, 50, 130, 142, 152], 'end-to-end_transmission': 0, 'latency': 750, 'cost': 0}, {'path': [15, 97, 118, 120, 103, 86, 93, 150, 76, 114, 42, 55, 136, 87, 19, 116, 65, 63, 44, 51, 119, 30, 39, 111, 152], 'end-to-end_transmission': 0, 'latency': 720, 'cost': 0}]})\n",
      "--------------------------------------------------------\n",
      "ant 11: ({'start_node': 81, 'destination_node': 151, 'paths': [{'path': [81, 18, 149, 139, 30, 134, 38, 117, 7, 15, 1, 76, 148, 69, 73, 53, 19, 41, 138, 11, 113, 106, 90, 40, 128, 126, 4, 32, 36, 75, 118, 79, 108, 46, 151], 'end-to-end_transmission': 0, 'latency': 1020, 'cost': 0}, {'path': [81, 23, 1, 145, 132, 69, 101, 73, 65, 151], 'end-to-end_transmission': 0, 'latency': 270, 'cost': 0}, {'path': [81, 94, 24, 145, 118, 9, 41, 152, 114, 68, 66, 21, 39, 61, 151], 'end-to-end_transmission': 0, 'latency': 420, 'cost': 0}, {'path': [81, 62, 34, 91, 17, 16, 146, 59, 144, 47, 97, 27, 111, 8, 70, 122, 18, 79, 116, 78, 28, 143, 127, 77, 104, 39, 14, 140, 151], 'end-to-end_transmission': 0, 'latency': 840, 'cost': 0}, {'path': [81, 88, 24, 129, 137, 140, 143, 28, 105, 86, 50, 151], 'end-to-end_transmission': 0, 'latency': 330, 'cost': 0}, {'path': [81, 66, 3, 108, 40, 151], 'end-to-end_transmission': 0, 'latency': 150, 'cost': 0}, {'path': [81, 115, 6, 140, 137, 2, 147, 126, 152, 142, 144, 79, 116, 7, 102, 134, 74, 61, 151], 'end-to-end_transmission': 0, 'latency': 540, 'cost': 0}, {'path': [81, 112, 62, 74, 120, 92, 115, 148, 10, 87, 45, 131, 124, 25, 138, 46, 143, 12, 4, 88, 98, 113, 39, 111, 144, 119, 110, 122, 51, 125, 9, 7, 80, 61, 151], 'end-to-end_transmission': 0, 'latency': 1020, 'cost': 0}, {'path': [81, 35, 106, 136, 87, 26, 34, 91, 46, 148, 7, 68, 79, 58, 89, 98, 113, 107, 33, 41, 74, 61, 151], 'end-to-end_transmission': 0, 'latency': 660, 'cost': 0}, {'path': [81, 41, 92, 64, 129, 139, 10, 6, 96, 86, 101, 24, 142, 50, 126, 32, 4, 105, 61, 151], 'end-to-end_transmission': 0, 'latency': 570, 'cost': 0}]})\n",
      "--------------------------------------------------------\n",
      "ant 12: ({'start_node': 81, 'destination_node': 152, 'paths': [{'path': [81, 106, 22, 7, 6, 45, 98, 38, 55, 70, 95, 27, 77, 116, 152], 'end-to-end_transmission': 0, 'latency': 420, 'cost': 0}, {'path': [81, 62, 41, 122, 58, 53, 71, 10, 77, 70, 42, 33, 149, 95, 97, 86, 121, 136, 141, 132, 85, 125, 98, 55, 152], 'end-to-end_transmission': 0, 'latency': 720, 'cost': 0}, {'path': [81, 150, 56, 55, 101, 23, 152], 'end-to-end_transmission': 0, 'latency': 180, 'cost': 0}, {'path': [81, 72, 41, 118, 129, 43, 45, 59, 24, 146, 84, 35, 130, 67, 101, 56, 12, 128, 152], 'end-to-end_transmission': 0, 'latency': 540, 'cost': 0}, {'path': [81, 120, 134, 115, 85, 139, 69, 71, 11, 152], 'end-to-end_transmission': 0, 'latency': 270, 'cost': 0}, {'path': [81, 115, 118, 40, 76, 142, 144, 79, 119, 51, 141, 55, 101, 111, 152], 'end-to-end_transmission': 0, 'latency': 420, 'cost': 0}, {'path': [81, 62, 84, 43, 95, 59, 35, 74, 120, 118, 97, 53, 77, 105, 88, 4, 47, 132, 117, 111, 142, 152], 'end-to-end_transmission': 0, 'latency': 630, 'cost': 0}, {'path': [81, 19, 87, 106, 26, 102, 7, 39, 69, 117, 63, 126, 60, 142, 152], 'end-to-end_transmission': 1, 'latency': 420, 'cost': 1.357}, {'path': [81, 35, 148, 16, 34, 22, 122, 50, 110, 107, 68, 142, 69, 63, 119, 33, 99, 44, 152], 'end-to-end_transmission': 1, 'latency': 540, 'cost': 3.278}, {'path': [81, 28, 115, 64, 59, 110, 39, 69, 9, 3, 152], 'end-to-end_transmission': 1, 'latency': 300, 'cost': 1.5}]})\n",
      "--------------------------------------------------------\n",
      "ant 13: ({'start_node': 107, 'destination_node': 151, 'paths': [{'path': [107, 2, 145, 82, 4, 76, 50, 23, 151], 'end-to-end_transmission': 0, 'latency': 240, 'cost': 0}, {'path': [107, 79, 125, 64, 17, 32, 103, 88, 50, 133, 23, 63, 13, 86, 95, 36, 35, 72, 120, 4, 117, 102, 151], 'end-to-end_transmission': 0, 'latency': 660, 'cost': 0}, {'path': [107, 41, 85, 33, 136, 131, 78, 60, 63, 121, 20, 72, 23, 98, 49, 52, 96, 21, 9, 86, 128, 44, 79, 137, 42, 84, 30, 151], 'end-to-end_transmission': 0, 'latency': 810, 'cost': 0}, {'path': [107, 114, 5, 3, 131, 125, 22, 90, 54, 59, 144, 79, 119, 16, 120, 39, 129, 65, 132, 151], 'end-to-end_transmission': 0, 'latency': 570, 'cost': 0}, {'path': [107, 29, 22, 30, 39, 33, 70, 99, 44, 145, 100, 17, 108, 73, 12, 69, 82, 143, 48, 113, 120, 151], 'end-to-end_transmission': 0, 'latency': 630, 'cost': 0}, {'path': [107, 54, 110, 65, 34, 57, 97, 120, 81, 17, 32, 51, 145, 118, 100, 22, 52, 59, 143, 67, 1, 152, 86, 14, 149, 61, 151], 'end-to-end_transmission': 0, 'latency': 780, 'cost': 0}, {'path': [107, 16, 26, 122, 7, 148, 45, 64, 41, 66, 98, 46, 25, 89, 121, 31, 48, 147, 146, 20, 151], 'end-to-end_transmission': 0, 'latency': 600, 'cost': 0}, {'path': [107, 106, 22, 53, 15, 142, 152, 111, 82, 143, 137, 55, 136, 61, 151], 'end-to-end_transmission': 0, 'latency': 420, 'cost': 0}, {'path': [107, 34, 64, 25, 95, 30, 101, 6, 54, 119, 125, 32, 108, 23, 151], 'end-to-end_transmission': 0, 'latency': 420, 'cost': 0}, {'path': [107, 89, 116, 124, 84, 97, 151], 'end-to-end_transmission': 1, 'latency': 180, 'cost': 4.833}]})\n",
      "--------------------------------------------------------\n",
      "ant 14: ({'start_node': 107, 'destination_node': 152, 'paths': [{'path': [107, 3, 67, 24, 131, 51, 98, 2, 47, 56, 122, 148, 142, 68, 70, 27, 90, 43, 120, 1, 152], 'end-to-end_transmission': 0, 'latency': 600, 'cost': 0}, {'path': [107, 141, 79, 18, 26, 37, 96, 115, 140, 104, 10, 137, 108, 117, 21, 5, 130, 50, 152], 'end-to-end_transmission': 0, 'latency': 540, 'cost': 0}, {'path': [107, 130, 35, 17, 87, 93, 111, 117, 77, 79, 95, 67, 60, 145, 51, 26, 147, 112, 62, 78, 116, 15, 39, 106, 86, 27, 16, 152], 'end-to-end_transmission': 0, 'latency': 810, 'cost': 0}, {'path': [107, 121, 137, 63, 8, 10, 85, 9, 32, 58, 41, 11, 61, 101, 152], 'end-to-end_transmission': 0, 'latency': 420, 'cost': 0}, {'path': [107, 121, 46, 37, 150, 80, 22, 30, 138, 93, 149, 103, 89, 40, 146, 147, 49, 91, 128, 65, 4, 55, 136, 83, 105, 106, 118, 115, 110, 10, 25, 126, 152], 'end-to-end_transmission': 0, 'latency': 960, 'cost': 0}, {'path': [107, 30, 64, 18, 109, 31, 117, 125, 152], 'end-to-end_transmission': 1, 'latency': 240, 'cost': 2.625}, {'path': [107, 79, 34, 26, 63, 56, 141, 142, 152], 'end-to-end_transmission': 1, 'latency': 240, 'cost': 1.625}, {'path': [107, 34, 117, 63, 44, 5, 141, 111, 123, 64, 30, 22, 101, 24, 102, 39, 132, 54, 110, 59, 152], 'end-to-end_transmission': 0, 'latency': 600, 'cost': 0}, {'path': [107, 34, 65, 18, 47, 4, 73, 81, 62, 74, 35, 45, 96, 24, 3, 152], 'end-to-end_transmission': 0, 'latency': 450, 'cost': 0}, {'path': [107, 110, 54, 6, 148, 46, 30, 129, 28, 77, 84, 140, 67, 8, 127, 96, 24, 111, 152], 'end-to-end_transmission': 0, 'latency': 540, 'cost': 0}]})\n",
      "--------------------------------------------------------\n",
      "ant 15: ({'start_node': 74, 'destination_node': 151, 'paths': [{'path': [74, 128, 17, 84, 12, 34, 68, 29, 111, 28, 83, 69, 99, 11, 51, 119, 120, 24, 7, 22, 77, 149, 60, 106, 114, 86, 151], 'end-to-end_transmission': 0, 'latency': 780, 'cost': 0}, {'path': [74, 37, 151], 'end-to-end_transmission': 0, 'latency': 60, 'cost': 0}, {'path': [74, 41, 72, 87, 12, 33, 93, 142, 125, 40, 148, 118, 50, 151], 'end-to-end_transmission': 0, 'latency': 390, 'cost': 0}, {'path': [74, 42, 136, 55, 111, 131, 66, 75, 70, 86, 80, 100, 97, 51, 121, 147, 30, 89, 105, 110, 6, 3, 15, 26, 9, 14, 151], 'end-to-end_transmission': 0, 'latency': 780, 'cost': 0}, {'path': [74, 103, 81, 115, 144, 109, 96, 66, 151], 'end-to-end_transmission': 0, 'latency': 240, 'cost': 0}, {'path': [74, 120, 49, 105, 112, 72, 38, 118, 129, 68, 34, 76, 10, 133, 151], 'end-to-end_transmission': 0, 'latency': 420, 'cost': 0}, {'path': [74, 136, 134, 107, 49, 120, 121, 46, 100, 87, 61, 151], 'end-to-end_transmission': 0, 'latency': 330, 'cost': 0}, {'path': [74, 118, 145, 83, 117, 1, 4, 73, 12, 54, 30, 119, 124, 61, 151], 'end-to-end_transmission': 0, 'latency': 420, 'cost': 0}, {'path': [74, 45, 41, 49, 135, 138, 116, 19, 62, 112, 28, 15, 151], 'end-to-end_transmission': 1, 'latency': 360, 'cost': 3.417}, {'path': [74, 61, 151], 'end-to-end_transmission': 1, 'latency': 60, 'cost': 3.5}]})\n",
      "--------------------------------------------------------\n",
      "ant 16: ({'start_node': 74, 'destination_node': 152, 'paths': [{'path': [74, 103, 83, 149, 60, 22, 52, 38, 42, 16, 27, 110, 142, 152], 'end-to-end_transmission': 0, 'latency': 390, 'cost': 0}, {'path': [74, 144, 104, 82, 23, 67, 81, 6, 149, 35, 43, 112, 25, 126, 89, 142, 83, 84, 77, 108, 115, 57, 150, 152], 'end-to-end_transmission': 0, 'latency': 690, 'cost': 0}, {'path': [74, 72, 10, 25, 139, 21, 152], 'end-to-end_transmission': 0, 'latency': 180, 'cost': 0}, {'path': [74, 108, 32, 73, 12, 145, 124, 40, 146, 29, 28, 20, 33, 122, 132, 98, 10, 138, 39, 92, 152], 'end-to-end_transmission': 0, 'latency': 600, 'cost': 0}, {'path': [74, 134, 94, 37, 57, 25, 41, 56, 73, 53, 128, 40, 11, 19, 28, 133, 77, 150, 93, 48, 106, 122, 70, 90, 152], 'end-to-end_transmission': 0, 'latency': 720, 'cost': 0}, {'path': [74, 13, 141, 56, 21, 150, 57, 55, 94, 87, 2, 136, 14, 111, 117, 75, 63, 126, 8, 127, 129, 102, 28, 27, 6, 76, 152], 'end-to-end_transmission': 0, 'latency': 780, 'cost': 0}, {'path': [74, 92, 135, 134, 87, 45, 58, 19, 91, 65, 80, 63, 44, 51, 108, 3, 152], 'end-to-end_transmission': 1, 'latency': 480, 'cost': 1.312}, {'path': [74, 115, 150, 40, 114, 76, 55, 42, 17, 54, 33, 39, 107, 30, 7, 16, 56, 152], 'end-to-end_transmission': 1, 'latency': 510, 'cost': 1.294}, {'path': [74, 49, 145, 118, 115, 150, 100, 96, 24, 111, 152], 'end-to-end_transmission': 1, 'latency': 300, 'cost': 2.5}, {'path': [74, 49, 135, 138, 10, 110, 50, 24, 3, 152], 'end-to-end_transmission': 1, 'latency': 270, 'cost': 1.556}]})\n",
      "--------------------------------------------------------\n",
      "ant 17: ({'start_node': 34, 'destination_node': 151, 'paths': [{'path': [34, 74, 146, 63, 121, 60, 93, 33, 47, 38, 89, 30, 97, 102, 11, 151], 'end-to-end_transmission': 0, 'latency': 450, 'cost': 0}, {'path': [34, 20, 131, 78, 95, 17, 18, 151], 'end-to-end_transmission': 0, 'latency': 210, 'cost': 0}, {'path': [34, 122, 150, 115, 118, 72, 144, 17, 59, 151], 'end-to-end_transmission': 0, 'latency': 270, 'cost': 0}, {'path': [34, 33, 138, 23, 39, 118, 68, 4, 103, 144, 73, 151], 'end-to-end_transmission': 0, 'latency': 330, 'cost': 0}, {'path': [34, 29, 94, 48, 69, 81, 124, 53, 149, 96, 26, 105, 71, 39, 73, 90, 74, 139, 68, 63, 151], 'end-to-end_transmission': 0, 'latency': 600, 'cost': 0}, {'path': [34, 91, 19, 98, 138, 105, 77, 57, 151], 'end-to-end_transmission': 2, 'latency': 240, 'cost': 5.625}, {'path': [34, 44, 127, 92, 1, 150, 74, 61, 151], 'end-to-end_transmission': 0, 'latency': 240, 'cost': 0}, {'path': [34, 18, 79, 116, 112, 64, 22, 106, 107, 54, 77, 49, 105, 60, 89, 121, 31, 118, 115, 150, 73, 53, 15, 103, 151], 'end-to-end_transmission': 0, 'latency': 720, 'cost': 0}, {'path': [34, 65, 10, 33, 54, 17, 42, 55, 94, 87, 151], 'end-to-end_transmission': 0, 'latency': 300, 'cost': 0}, {'path': [34, 76, 1, 100, 150, 27, 124, 35, 45, 74, 61, 151], 'end-to-end_transmission': 0, 'latency': 330, 'cost': 0}]})\n",
      "--------------------------------------------------------\n",
      "ant 18: ({'start_node': 34, 'destination_node': 152, 'paths': [{'path': [34, 133, 62, 6, 149, 11, 76, 108, 30, 84, 37, 146, 42, 52, 70, 31, 10, 90, 63, 152], 'end-to-end_transmission': 0, 'latency': 570, 'cost': 0}, {'path': [34, 27, 32, 98, 24, 62, 151, 141, 59, 18, 16, 77, 132, 113, 106, 33, 152], 'end-to-end_transmission': 0, 'latency': 480, 'cost': 0}, {'path': [34, 46, 148, 67, 147, 130, 142, 145, 95, 7, 35, 27, 125, 33, 152], 'end-to-end_transmission': 0, 'latency': 420, 'cost': 0}, {'path': [34, 65, 14, 130, 123, 69, 31, 50, 6, 1, 68, 77, 21, 8, 127, 121, 113, 106, 128, 52, 7, 119, 30, 118, 17, 125, 142, 152], 'end-to-end_transmission': 0, 'latency': 810, 'cost': 0}, {'path': [34, 65, 12, 45, 52, 48, 30, 119, 79, 152], 'end-to-end_transmission': 0, 'latency': 270, 'cost': 0}, {'path': [34, 102, 124, 27, 38, 78, 62, 138, 10, 49, 87, 72, 147, 67, 53, 2, 63, 80, 111, 152], 'end-to-end_transmission': 0, 'latency': 570, 'cost': 0}, {'path': [34, 102, 46, 98, 44, 62, 115, 118, 145, 84, 117, 111, 152], 'end-to-end_transmission': 0, 'latency': 360, 'cost': 0}, {'path': [34, 107, 10, 79, 122, 119, 23, 70, 3, 24, 96, 9, 47, 4, 73, 12, 2, 147, 45, 66, 44, 111, 152], 'end-to-end_transmission': 0, 'latency': 660, 'cost': 0}, {'path': [34, 117, 16, 130, 50, 26, 68, 29, 91, 63, 22, 64, 18, 72, 30, 119, 23, 24, 96, 9, 125, 126, 152], 'end-to-end_transmission': 0, 'latency': 660, 'cost': 0}, {'path': [34, 130, 117, 141, 119, 7, 80, 123, 152], 'end-to-end_transmission': 1, 'latency': 240, 'cost': 5.625}]})\n",
      "--------------------------------------------------------\n",
      "ant 19: ({'start_node': 1, 'destination_node': 151, 'paths': [{'path': [1, 24, 74, 71, 53, 78, 136, 73, 27, 49, 97, 11, 118, 115, 21, 120, 105, 75, 151], 'end-to-end_transmission': 0, 'latency': 540, 'cost': 0}, {'path': [1, 117, 27, 137, 111, 15, 124, 81, 120, 3, 113, 76, 151], 'end-to-end_transmission': 0, 'latency': 360, 'cost': 0}, {'path': [1, 43, 81, 124, 119, 46, 71, 113, 26, 151], 'end-to-end_transmission': 0, 'latency': 270, 'cost': 0}, {'path': [1, 40, 84, 34, 53, 73, 42, 21, 32, 20, 144, 132, 148, 30, 59, 110, 151], 'end-to-end_transmission': 0, 'latency': 480, 'cost': 0}, {'path': [1, 69, 119, 51, 141, 9, 34, 19, 43, 29, 67, 136, 125, 56, 113, 106, 64, 112, 121, 77, 103, 15, 4, 2, 129, 86, 102, 82, 134, 151], 'end-to-end_transmission': 0, 'latency': 870, 'cost': 0}, {'path': [1, 121, 142, 152, 49, 74, 82, 143, 63, 92, 151], 'end-to-end_transmission': 0, 'latency': 300, 'cost': 0}, {'path': [1, 20, 64, 50, 130, 142, 125, 105, 86, 93, 21, 149, 39, 81, 124, 61, 151], 'end-to-end_transmission': 0, 'latency': 480, 'cost': 0}, {'path': [1, 76, 150, 20, 86, 93, 94, 136, 92, 116, 138, 129, 43, 84, 28, 62, 61, 151], 'end-to-end_transmission': 1, 'latency': 510, 'cost': 1.294}, {'path': [1, 114, 86, 43, 80, 7, 73, 138, 10, 113, 61, 151], 'end-to-end_transmission': 0, 'latency': 330, 'cost': 0}, {'path': [1, 100, 136, 87, 19, 62, 74, 61, 151], 'end-to-end_transmission': 1, 'latency': 240, 'cost': 1.625}]})\n",
      "--------------------------------------------------------\n",
      "ant 20: ({'start_node': 1, 'destination_node': 152, 'paths': [{'path': [1, 87, 107, 116, 98, 85, 4, 52, 106, 128, 71, 53, 77, 152], 'end-to-end_transmission': 0, 'latency': 390, 'cost': 0}, {'path': [1, 57, 104, 54, 31, 85, 89, 98, 13, 145, 2, 108, 152], 'end-to-end_transmission': 0, 'latency': 360, 'cost': 0}, {'path': [1, 87, 109, 132, 115, 129, 10, 138, 37, 7, 145, 142, 152], 'end-to-end_transmission': 0, 'latency': 360, 'cost': 0}, {'path': [1, 34, 122, 114, 152], 'end-to-end_transmission': 0, 'latency': 120, 'cost': 0}, {'path': [1, 74, 51, 68, 135, 94, 48, 98, 97, 73, 112, 111, 152], 'end-to-end_transmission': 0, 'latency': 360, 'cost': 0}, {'path': [1, 21, 93, 35, 130, 138, 10, 110, 27, 71, 63, 24, 96, 140, 137, 62, 115, 51, 104, 139, 86, 152], 'end-to-end_transmission': 0, 'latency': 630, 'cost': 0}, {'path': [1, 42, 20, 100, 96, 127, 55, 93, 21, 68, 144, 108, 33, 16, 102, 121, 89, 129, 35, 135, 92, 95, 72, 142, 152], 'end-to-end_transmission': 0, 'latency': 720, 'cost': 0}, {'path': [1, 114, 42, 17, 86, 15, 103, 126, 152], 'end-to-end_transmission': 0, 'latency': 240, 'cost': 0}, {'path': [1, 100, 133, 136, 109, 47, 92, 135, 81, 23, 123, 126, 152], 'end-to-end_transmission': 0, 'latency': 360, 'cost': 0}, {'path': [1, 100, 42, 94, 133, 55, 21, 106, 135, 19, 115, 79, 80, 141, 3, 152], 'end-to-end_transmission': 1, 'latency': 450, 'cost': 1.333}]})\n",
      "--------------------------------------------------------\n"
     ]
    },
    {
     "data": {
      "text/plain": [
       "({'best_path': {'[1, 100, 136, 87, 19, 62, 74, 61, 151]': {'end_to_end_bandwidth': 1,\n",
       "    'path_latency': 240,\n",
       "    'absolute_cost': 1.625}},\n",
       "  'possible_paths': {'[1, 76, 150, 20, 86, 93, 94, 136, 92, 116, 138, 129, 43, 84, 28, 62, 61, 151]': {'end_to_end_bandwidth': 1,\n",
       "    'path_latency': 510,\n",
       "    'absolute_cost': 1.294},\n",
       "   '[1, 100, 42, 94, 133, 55, 21, 106, 135, 19, 115, 79, 80, 141, 3, 152]': {'end_to_end_bandwidth': 1,\n",
       "    'path_latency': 450,\n",
       "    'absolute_cost': 1.333}}},\n",
       " [{'source node': 'Node-1',\n",
       "   'routing path': '(Node-100, 0 Mbps),(Node-136, 0 Mbps),(Node-87, 0 Mbps),(Node-19, 0 Mbps),(Node-62, 0 Mbps),(Node-74, 0 Mbps),(Node-61, 0 Mbps),',\n",
       "   'end-to-end transmission rate': '1 Mbps',\n",
       "   'end-to-end latency': '240 ms',\n",
       "   'absolute path cost': '1.625'}])"
      ]
     },
     "execution_count": 795,
     "metadata": {},
     "output_type": "execute_result"
    }
   ],
   "source": [
    "#ant_colony_optimization(1)"
   ]
  },
  {
   "cell_type": "code",
   "execution_count": null,
   "id": "28932c39-9b25-4ce0-82d5-fe9fb56a7c74",
   "metadata": {},
   "outputs": [],
   "source": []
  }
 ],
 "metadata": {
  "kernelspec": {
   "display_name": "base",
   "language": "python",
   "name": "base"
  },
  "language_info": {
   "codemirror_mode": {
    "name": "ipython",
    "version": 3
   },
   "file_extension": ".py",
   "mimetype": "text/x-python",
   "name": "python",
   "nbconvert_exporter": "python",
   "pygments_lexer": "ipython3",
   "version": "3.9.12"
  }
 },
 "nbformat": 4,
 "nbformat_minor": 5
}
