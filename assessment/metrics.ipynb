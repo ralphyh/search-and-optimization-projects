{
 "cells": [
  {
   "cell_type": "code",
   "execution_count": 43,
   "id": "4a1c1c21-ec50-400f-ba44-48ceba7dbfaf",
   "metadata": {},
   "outputs": [],
   "source": [
    "import time\n",
    "import matplotlib.pyplot as plt"
   ]
  },
  {
   "cell_type": "code",
   "execution_count": 44,
   "id": "1b93ee13-bb54-4292-8d89-7e2f12a783ca",
   "metadata": {},
   "outputs": [],
   "source": [
    "# initialize global variable start time\n",
    "t1 = time.time()"
   ]
  },
  {
   "cell_type": "code",
   "execution_count": 45,
   "id": "c7377f54-09d8-4eba-8128-0653f1514b22",
   "metadata": {},
   "outputs": [],
   "source": [
    "# initialize global variable stop time\n",
    "t2 = time.time()"
   ]
  },
  {
   "cell_type": "code",
   "execution_count": 46,
   "id": "55e26e44-773c-4831-908c-16b44bb68a8b",
   "metadata": {},
   "outputs": [],
   "source": [
    "# create a dictionary that will store the time durations for each algorithm\n",
    "execution_duration = {}"
   ]
  },
  {
   "cell_type": "code",
   "execution_count": 47,
   "id": "cf3b8709-6da4-4224-b3cf-235acb6e8e99",
   "metadata": {},
   "outputs": [],
   "source": [
    "def start_execution():\n",
    "    \"\"\"\n",
    "    start_execution()\n",
    "    initializes start time when an algorithm is being executed\n",
    "    returns: nothing\n",
    "    \"\"\"\n",
    "    global t1\n",
    "    t1 = time.time()\n",
    "\n",
    "    return"
   ]
  },
  {
   "cell_type": "code",
   "execution_count": 48,
   "id": "7ba74bce-32d6-4298-aaf5-4d9abd5af702",
   "metadata": {},
   "outputs": [],
   "source": [
    "def stop_execution(algorithm):\n",
    "    \"\"\"\n",
    "    stop_execution(algorithm)\n",
    "    gets the stop time after an algorithm has been executed, gets the\n",
    "    time difference between the start and stop time and stores the time\n",
    "    in the 'execution_duration' dictionary with the algorithm name as the\n",
    "    key\n",
    "    algorithm: the name of the algorithm being executed\n",
    "    returns: nothing\n",
    "    \"\"\"\n",
    "    global t2\n",
    "    t2 = time.time()\n",
    "    execution_duration[algorithm] = t2 - t1\n",
    "\n",
    "    return"
   ]
  },
  {
   "cell_type": "code",
   "execution_count": 49,
   "id": "d37e2ea7-9c58-49fd-a4c5-530968b50abc",
   "metadata": {},
   "outputs": [],
   "source": [
    "def plot_algorithm_execution_time():\n",
    "    \"\"\"\n",
    "    plot_algorithm_execution_time()\n",
    "    plots a bar graph visualization for each algorithm executed and stored in the\n",
    "    'execution_duration' dictionary. The plot is of algorithm against execution time.\n",
    "    This is for performance comparison of the various algorithms\n",
    "    returns: nothing\n",
    "    \"\"\"\n",
    "    global execution_duration\n",
    "    colors = ['#1b9e77', '#a9f971', '#fdaa48','#6890F0','#A890F0']\n",
    "    algorithms = list(execution_duration.keys())\n",
    "    execution_times = list(execution_duration.values())\n",
    "    chosen_colors = choice(np.array(colors), len(algorithms), replace=False)\n",
    "    fig, ax = plt.subplots(figsize=(13, 7))\n",
    "    ax.bar(algorithms, execution_times, color=chosen_colors)\n",
    "    ax.set_ylabel('Time (seconds)')\n",
    "    ax.set_title('Algorithm Performance (Execution Time Metric {seconds})')\n",
    "    plt.show()\n",
    "    execution_duration = {}\n",
    "\n",
    "    return"
   ]
  }
 ],
 "metadata": {
  "kernelspec": {
   "display_name": "base",
   "language": "python",
   "name": "base"
  },
  "language_info": {
   "codemirror_mode": {
    "name": "ipython",
    "version": 3
   },
   "file_extension": ".py",
   "mimetype": "text/x-python",
   "name": "python",
   "nbconvert_exporter": "python",
   "pygments_lexer": "ipython3",
   "version": "3.9.12"
  }
 },
 "nbformat": 4,
 "nbformat_minor": 5
}
