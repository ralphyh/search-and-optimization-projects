{
 "cells": [
  {
   "cell_type": "code",
   "execution_count": null,
   "id": "2d81f550-83d4-45b6-ba83-83c0e3c1cf57",
   "metadata": {},
   "outputs": [],
   "source": []
  }
 ],
 "metadata": {
  "kernelspec": {
   "display_name": "",
   "name": ""
  },
  "language_info": {
   "name": ""
  }
 },
 "nbformat": 4,
 "nbformat_minor": 5
}
