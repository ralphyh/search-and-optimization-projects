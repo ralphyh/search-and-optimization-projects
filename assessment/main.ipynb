{
 "cells": [
  {
   "cell_type": "markdown",
   "id": "f157ba2a-9d6c-438e-a078-01228c467554",
   "metadata": {},
   "source": [
    "# Multi-Objective Routing Path Optimization"
   ]
  },
  {
   "cell_type": "markdown",
   "id": "8cf6efad-bbc1-4523-92d2-73746aadcb94",
   "metadata": {},
   "source": [
    "## Abstract"
   ]
  },
  {
   "cell_type": "markdown",
   "id": "1c127809-4d0a-46e6-8275-631129a80418",
   "metadata": {},
   "source": [
    "## Introduction"
   ]
  },
  {
   "cell_type": "markdown",
   "id": "03b660ab-fc72-471e-abb6-6f76dcb1d140",
   "metadata": {},
   "source": [
    "| Distance d | Transmission rate (Mbps) | \n",
    "| ------ | ------ |\n",
    "| d >= 3000m | 0 |\n",
    "| 3000m > d >= 2500m | 1 |\n",
    "| 2500m > d >= 2000m | 2 |\n",
    "| 2000m > d >= 1500m | 3 |\n",
    "| 1500m > d >= 1000m | 4 |\n",
    "| 1000m > d >= 500m | 5 |\n",
    "| 500m > d | 7 |"
   ]
  },
  {
   "cell_type": "markdown",
   "id": "46796514-ce45-4ac2-b6b7-360bd13bf266",
   "metadata": {},
   "source": [
    "## Methodology"
   ]
  },
  {
   "cell_type": "markdown",
   "id": "75766937-447c-471c-bf0a-3eda181828c5",
   "metadata": {},
   "source": [
    "### Objective Function"
   ]
  },
  {
   "cell_type": "markdown",
   "id": "2658ae81-a315-4fb0-972d-ff5cd4e95ace",
   "metadata": {},
   "source": [
    "### Results Visualization on a Map"
   ]
  },
  {
   "cell_type": "markdown",
   "id": "bf78e39c-7c7c-497e-9c0a-0c61cd6ac5cf",
   "metadata": {},
   "source": [
    "To visualize the solutions produced by the various algorithms, we implemented a real and interactive geographic map with the sensors and the base station. This was done using Folium, a Leaflet JavaScript library which we interacted with through an API. We followed through the API documentation (Story 2013) to achieve the following:\n",
    "1. Show the best route obtained from a sensor to a base station by a particular algorithm\n",
    "2. Show all other possible routes found (not the best but have end-to-end connectivity)\n",
    "\n",
    "The locations of the sensors were provided in form of X, Y grid coordinates in meters for purposed of calculating their heuristic distances. However, since the API needs values of geographic coordinates, coordinates of the sensors had to be computed and represented on the leaflet. The computation of geographic coordinates from X, Y grid coordinates was inspired by the Haversine formula (Scripts 2024)."
   ]
  },
  {
   "cell_type": "markdown",
   "id": "1bb56abc-a695-4c47-9eb7-83f48f1ea85e",
   "metadata": {},
   "source": [
    "`latitude = central latitude + y/110574`<br>\n",
    "`longitude = central longitude + x/(11320 * cos(central latitude))`"
   ]
  },
  {
   "cell_type": "markdown",
   "id": "edd383ca-3b85-4409-bb33-1758ea393cda",
   "metadata": {},
   "source": [
    "where x and y are the x, y values of the sensors provided in the csv file while central latitude and central longitude are the (0, 0) coordinates on the grid from which all other sensor distances are calculated from. From the map provided in the graphic in the assignment instructions we estimated the geographic locations of the base stations in Lyndhurst and Beaulieu as shown in figure 1 by referring to google maps."
   ]
  },
  {
   "cell_type": "markdown",
   "id": "ce378bc8-8171-48be-ac1f-c641091890f9",
   "metadata": {},
   "source": [
    "![Alt](https://github.com/samariwa/search-and-optimization-projects/blob/main/assessment/images/search%20area.png?raw=true)"
   ]
  },
  {
   "cell_type": "markdown",
   "id": "9c6a22df-27f8-4bd7-a8b5-4330202472b2",
   "metadata": {},
   "source": [
    "The values ‘110574’ and ‘11320’ in the equations above are the distances between the latitudes and longitudes in meters respectively (Rosenberg 2024). With the geographic coordinates derived from the grid coordinates, we were able to feed the API with the sensor and base station information which was useful in plotting paths."
   ]
  },
  {
   "cell_type": "markdown",
   "id": "b1f78124-9732-4789-9d77-2f8f24649083",
   "metadata": {},
   "source": [
    "![Alt](https://github.com/samariwa/search-and-optimization-projects/blob/main/assessment/images/blank%20map.png?raw=true)"
   ]
  },
  {
   "cell_type": "markdown",
   "id": "9af5e6c8-44e4-4084-ba99-1551e3402f4b",
   "metadata": {},
   "source": [
    "The visualization code functions are found in the [data and plotting module](./data_plot.ipynb) which is has all data fetching and manipulation functions as well as the map visualization functions."
   ]
  },
  {
   "cell_type": "markdown",
   "id": "b1ef177c-f0ec-4fd3-b2ab-b9aca587bdb3",
   "metadata": {},
   "source": [
    "#### Map Visualization Functionalities"
   ]
  },
  {
   "cell_type": "markdown",
   "id": "13abf7a3-ae5c-4d4c-bd89-d7487f016be2",
   "metadata": {},
   "source": [
    "<b>Data Fetching and constant variable initialization:</b> The X, Y grid data is fetched from the CSV file and all constants related to the data such as the ‘distance bandwidth data’ defined in the instructions are initialized. It is at this point that a blank map in the search area of interest is initialized.<br>\n",
    "<b>Grid to Geographic coordinates conversion:</b> Using the formulas defined above, the X, Y data is converted to geographic coordinates using the function `get_geographic_coordinates()`<br>\n",
    "<b>Initialization of a map with sensors:</b> Using the computed geographic coordinates, the sensors and base stations are represented on the blank map. This initialization happens every time an algorithm is executed for visualization to be done on a fresh map. This is done using the `init_blank_map()` function.<br>\n",
    "<b>Plotting routes:</b> Joins the sensors that are part of a transmission path using lines from the origin node to the destination node. This is done for the best path found which is represented using a yellow line and all the other possible paths that are represented using a variety of colors. The ‘best path’ and ‘possible paths’ have been categorically layered in a way that you can view each type independently without struggle. For further visual intuition, the best path’s sensors have been marked with pins which show their sensor IDs. This can be done using a layer controller found on the top left corner. This functionality has been implemented in the `plot_route()` function. With takes in the coordinates as arguments with a specification of whether they are the best routes or they are possible routes.\n"
   ]
  },
  {
   "cell_type": "code",
   "execution_count": 17,
   "id": "dc55fe53-abcf-47e8-90d8-9bc46754e3ca",
   "metadata": {},
   "outputs": [
    {
     "name": "stdout",
     "output_type": "stream",
     "text": [
      "zsh:1: unknown file attribute: h\n"
     ]
    }
   ],
   "source": [
    "![Alt](https://github.com/samariwa/search-and-optimization-projects/blob/main/assessment/images/map%20visualization.png?raw=true)"
   ]
  },
  {
   "cell_type": "markdown",
   "id": "43e0d5f0-b3a0-458c-aec6-ab67e321d671",
   "metadata": {},
   "source": [
    "## Results"
   ]
  },
  {
   "cell_type": "markdown",
   "id": "09f714d5-2ca1-4765-9570-a1d6d29b94e3",
   "metadata": {},
   "source": [
    "### Imports"
   ]
  },
  {
   "cell_type": "code",
   "execution_count": 20,
   "id": "0b3dc898-1f1c-4537-af66-c0d832bc8a73",
   "metadata": {},
   "outputs": [],
   "source": [
    "import ast\n",
    "import json\n",
    "import scipy.stats as stat\n",
    "%run data_plot.ipynb\n",
    "%run metrics.ipynb\n",
    "%run discrete_genetic_algorithm.ipynb\n",
    "%run ant_colony_optimization.ipynb\n",
    "%run dijkstras_algorithm.ipynb\n",
    "%run simulated_annealing.ipynb"
   ]
  },
  {
   "cell_type": "code",
   "execution_count": 21,
   "id": "a0f24d97-b792-48df-9e31-98f89f36080f",
   "metadata": {},
   "outputs": [],
   "source": [
    "def parse_map_data(results):\n",
    "    \"\"\"\n",
    "    parse_map_data(results)\n",
    "    converts routes data to geographic routes that can be represented on a map.\n",
    "    this is done by checking the sequence of x y coordinates against their corresponding\n",
    "    geographic coordinates defined in the plotting module.\n",
    "    results: the algorithm search results that contains the best solution to the destination\n",
    "    and all other possible routes.\n",
    "    returns: the coordinates used to create the map representation\n",
    "    \"\"\"\n",
    "    # init dictionary with the structure expected for map visualization\n",
    "    coordinates = {'best_route': {'sensor_id': [],\n",
    "                              'coordinates': []}, \n",
    "               'possible_routes': []\n",
    "              }\n",
    "    # convert the string containing the list of the best path to type list\n",
    "    possible_paths = [ast.literal_eval(paths) for paths in results['possible_paths'].keys()]\n",
    "    # get the geographic coordinates for all nodes in possible paths\n",
    "    for path in possible_paths:\n",
    "        route_coords = []\n",
    "        possible_path_dest_idx = len(path) - 1\n",
    "        for idx, sensor in enumerate(path):\n",
    "            if idx != 0 and idx != possible_path_dest_idx:\n",
    "                # duplicate coordinates for all nodes but for the first and last\n",
    "                route_coords.append(geographic_coords[str(sensor)])\n",
    "                route_coords.append(geographic_coords[str(sensor)])\n",
    "            else:\n",
    "                route_coords.append(geographic_coords[str(sensor)])\n",
    "        coordinates['possible_routes'].append(route_coords)\n",
    "    # add best path last so that an visual it appears on top\n",
    "    best_path = ast.literal_eval(list(results['best_path'].keys())[0])\n",
    "    best_path_dest_idx = len(best_path) - 1\n",
    "    for idx, sensor in enumerate(best_path):\n",
    "        # include sensor IDs for the best path except for the destination (won't need pin marker)\n",
    "        if idx != best_path_dest_idx:\n",
    "            coordinates['best_route']['sensor_id'].append(sensor)\n",
    "        if idx != 0 and idx != best_path_dest_idx:\n",
    "            # duplicate coordinates for all nodes but for the first and last\n",
    "            coordinates['best_route']['coordinates'].append(geographic_coords[str(sensor)])\n",
    "            coordinates['best_route']['coordinates'].append(geographic_coords[str(sensor)])\n",
    "        else:\n",
    "            coordinates['best_route']['coordinates'].append(geographic_coords[str(sensor)])\n",
    "\n",
    "    return coordinates"
   ]
  },
  {
   "cell_type": "code",
   "execution_count": 22,
   "id": "568b0eb8-4ee2-42a3-b93c-e5acf6863eac",
   "metadata": {},
   "outputs": [],
   "source": [
    "def load_solutions():\n",
    "    \"\"\"\n",
    "    load_solutions()\n",
    "    it loads solutions that already exist since new solutions are appended to the json\n",
    "    object before being added written on the file.\n",
    "    returns: the json object read from the file\n",
    "    \"\"\"\n",
    "    # fetch existing best solutions from the solutions file\n",
    "    with open('solutions.json', 'r') as file:\n",
    "        try:\n",
    "            solutions = json.load(file)\n",
    "        except Exception as e:\n",
    "            # if the solutions file is empty, initialize and empty dict to be used\n",
    "            solutions = {}\n",
    "\n",
    "    return solutions"
   ]
  },
  {
   "cell_type": "code",
   "execution_count": 23,
   "id": "8bef4f01-95bc-4a8f-9eb4-a571b466185f",
   "metadata": {},
   "outputs": [],
   "source": [
    "def save_solution(solution, method):\n",
    "    \"\"\"\n",
    "    save_solution(solution, method)\n",
    "    saves the best solution found by each algorithm in a solutions json file.\n",
    "    the solutions file has a format like...\n",
    "    {\"source node\": \"Node-5\", \n",
    "    \"routing path\": \"(Node-2, 1 Mbps), (Node-1, 4Mbps), (BS-2, 2 Mbps)\",\n",
    "    \"end-to-end transmission rate\": \"1 Mbps\"}\n",
    "    solution: the best solution to a base station from a sensor\n",
    "    method: the method that was used to get that best solution.\n",
    "    returns: nothing\n",
    "    \"\"\"\n",
    "    # fetch existing solutions\n",
    "    existing_solutions = load_solutions()\n",
    "    '''\n",
    "    if solution for a sensor using the method specified exists, \n",
    "    update the dict with a new solution, otherwise create the solution\n",
    "    '''\n",
    "    if method in existing_solutions.keys():\n",
    "        existing_solutions[method][solution[0]['source node']] = solution[0]\n",
    "    else:\n",
    "        existing_solutions[method] = {}\n",
    "        existing_solutions[method][solution[0]['source node']] = solution[0]\n",
    "    # write the updated solutions to the solutions file\n",
    "    json.dump(existing_solutions, open( f\"solutions.json\", 'w' ) )\n",
    "\n",
    "    return"
   ]
  },
  {
   "cell_type": "code",
   "execution_count": 24,
   "id": "9ed49514-3f18-43ab-a60e-d3cd0204846c",
   "metadata": {},
   "outputs": [],
   "source": [
    "def find_optimal_route(origin, method, **kwargs):\n",
    "    \"\"\"\n",
    "    find_optimal_route(origin, method, **kwargs)\n",
    "    the main function of this assessment. It searches for best route \n",
    "    from a node to either of the 2 base stations. The search is done using\n",
    "    the algorithm specified as one of the arguments. Supported algorithms \n",
    "    include: 'discrete genetic algorithm', 'ant colony optimization', \n",
    "    'dijkstras algorithm' and 'simulated annealing'. Each of the algorithms,\n",
    "    return a best solutions dictionary that is stored in the solutions file,\n",
    "    and the results dictionary which is used for visualization on a map\n",
    "    origin: the node whose best path to a base station you are seeking\n",
    "    method: the algorithm you want to use to perform the search\n",
    "    **kwargs: any additional arguments you want to pass in for\n",
    "    optimization of the various algorithms\n",
    "    Expected **kwargs and their fallback values:\n",
    "    discrete genetic algorithm: pop_length=100000, generations=10, mutation_rate=0.1, crossover_type='single-point', selection_limit=20\n",
    "    ant colony optimization: Q=1, alpha = 0.6, evaporate=0.45, ants_count=20, max_iterations=10\n",
    "    dijkstras algorithm: None\n",
    "    simulated annealing: init_temp=100, final_temp=0.1, cooling_rate=0.95, improvement_checker_count=50\n",
    "    More details on the **kwargs provided in the algorithms' respective modules\n",
    "    returns: nothing\n",
    "    \"\"\"\n",
    "    # run the algorithm passed in as a parameter and fetch the visualization results together with the solutions file data\n",
    "    if method == \"discrete genetic algorithm\":\n",
    "        results, solutions = discrete_genetic_algorithm(\n",
    "            origin,\n",
    "            pop_length=kwargs.get(\"pop_length\", 100000),\n",
    "            generations=kwargs.get(\"generations\", 10),\n",
    "            mutation_rate=kwargs.get(\"mutation_rate\", 0.1),\n",
    "            crossover_type=kwargs.get(\"crossover_type\", \"single-point\"),\n",
    "            selection_limit=kwargs.get(\"selection_limit\", 20),\n",
    "        )\n",
    "    elif method == \"dijkstras algorithm\":\n",
    "        results, solutions = ant_colony_optimization(\n",
    "            origin,\n",
    "            Q=kwargs.get(\"Q\", 1),\n",
    "            alpha=kwargs.get(\"alpha\", 0.6),\n",
    "            evaporate=kwargs.get(\"evaporate\", 0.45),\n",
    "            ants_count=kwargs.get(\"ants_count\", 20),\n",
    "            max_iterations=kwargs.get(\"max_iterations\", 10),\n",
    "        )\n",
    "    elif method == \"ant colony optimization\":\n",
    "        results, solutions = ant_colony_optimization(origin)\n",
    "    elif method == \"simulated annealing\":\n",
    "        results, solutions = simulated_annealing(\n",
    "            origin,\n",
    "            init_temp=kwargs.get(\"init_temp\", 100),\n",
    "            final_temp=kwargs.get(\"final_temp\", 0.1),\n",
    "            cooling_rate=kwargs.get(\"cooling_rate\", 0.95),\n",
    "            improvement_checker_count=kwargs.get(\"improvement_checker_count\", 50),\n",
    "        )\n",
    "    else:\n",
    "        return \"unknown algorithm\"\n",
    "    # save the best path in the solutions file\n",
    "    save_solution(solutions, method)\n",
    "    # parse the plotting results and call the map visualization function\n",
    "    coordinates = parse_map_data(results)\n",
    "    plot_route(coordinates)\n",
    "\n",
    "    return"
   ]
  },
  {
   "cell_type": "code",
   "execution_count": null,
   "id": "3f0eecc7-1257-466a-a94d-77ffeb22e03b",
   "metadata": {},
   "outputs": [
    {
     "name": "stdout",
     "output_type": "stream",
     "text": [
      "**********************************Generation 1**********************************\n"
     ]
    }
   ],
   "source": [
    "find_optimal_route(43, 'discrete genetic algorithm', pop_length=100000)\n",
    "#find_optimal_route(1, 'ant colony optimization')\n",
    "#find_optimal_route(43, 'simulated annealing')"
   ]
  },
  {
   "cell_type": "code",
   "execution_count": null,
   "id": "f0692f8e-3a31-4523-b8da-0003343cf0cd",
   "metadata": {},
   "outputs": [],
   "source": [
    "def get_missing_solutions():\n",
    "    \"\"\"\n",
    "    get_missing_solutions()\n",
    "    for each algorithm, it gets the nodes that dont have any documented\n",
    "    solutions to any of the based stations. This is based on the records\n",
    "    found in the solutions json file.\n",
    "    returns: a dictionary containing the missing solution for each algorithm\n",
    "    \"\"\"\n",
    "    missing_solutions = {}\n",
    "    sensors = list(x_y_data.keys())[:-2]\n",
    "    solutions = load_solutions()\n",
    "\n",
    "    for algorithm in solutions.keys():\n",
    "        for sensor in sensors:\n",
    "            if solutions[algorithm].get(f\"Node-{sensor}\") == None:\n",
    "                if algorithm in missing_solutions.keys():\n",
    "                    missing_solutions[algorithm].append(sensor)\n",
    "                else:\n",
    "                    missing_solutions[algorithm] = []\n",
    "                    missing_solutions[algorithm].append(sensor)\n",
    "\n",
    "    return missing_solutions    "
   ]
  },
  {
   "cell_type": "code",
   "execution_count": null,
   "id": "2443bbd0-2bc8-425f-92b7-aa704822efce",
   "metadata": {},
   "outputs": [],
   "source": [
    "print(len(get_missing_solutions()['discrete genetic algorithm']))\n",
    "print(get_missing_solutions())"
   ]
  },
  {
   "cell_type": "code",
   "execution_count": null,
   "id": "90f496cc-f159-4edd-8ebb-ed47b688b198",
   "metadata": {},
   "outputs": [],
   "source": [
    "def run_all():\n",
    "    \"\"\"\n",
    "    run_all()\n",
    "    executes the find_optimal_route() function for all sensors using all algorithms\n",
    "    for purposes of storing the best solutions for each in the solutions file.\n",
    "    returns: nothing\n",
    "    \"\"\"\n",
    "    # algorithms to be executed\n",
    "    methods = ['discrete genetic algorithm', 'ant colony optimization', 'dijkstras algorithm', 'simulated annealing']\n",
    "    # all sensors except the 2 base stations\n",
    "    sensors = list(x_y_data.keys())[:-2]\n",
    "    # for each method, find the best path for each sensor\n",
    "    for method in methods:\n",
    "        for sensor in sensors:\n",
    "            # ignore situations where no best paths will be found. This is typical with DGA and it will kill the function\n",
    "            try:\n",
    "                print(f\"Sensor {sensor}\")\n",
    "                find_optimal_route(sensor, method)\n",
    "            except:\n",
    "                pass        \n",
    "\n",
    "    return"
   ]
  },
  {
   "cell_type": "code",
   "execution_count": null,
   "id": "23fe648c-4465-4b0e-87fa-3d2ec5ff45be",
   "metadata": {},
   "outputs": [],
   "source": [
    "#run_all()"
   ]
  },
  {
   "cell_type": "markdown",
   "id": "d1b78aaf-f957-45bb-bb33-52080191dbd8",
   "metadata": {},
   "source": [
    "### Algorithm Performance Evaluation"
   ]
  },
  {
   "cell_type": "markdown",
   "id": "cdd063a2-6b93-4771-b44a-e2cafa77835d",
   "metadata": {},
   "source": [
    "The various algorithms that we implemented were evaluated against the following metrics:\n",
    "- Execution time\n",
    "- Solution quality\n",
    "\n",
    "The performances were then visualized in a bar chart and table respectively. The code implementing performance of the algorithms is found in the [Mertics Module](./metrics.ipynb)"
   ]
  },
  {
   "cell_type": "markdown",
   "id": "1fb55342-d147-42b9-a0d1-05fcaf7dee7f",
   "metadata": {},
   "source": [
    "#### Execution Time"
   ]
  },
  {
   "cell_type": "markdown",
   "id": "11211fc1-374e-45df-bc10-45e226c7cdd3",
   "metadata": {},
   "source": [
    "This metric calculates the time taken in seconds for an algorithm to execute. This measurement when the same type of problem is passed into the various algorithms, for example, getting the best path to any base station from node 43 will be passed in to all the algorithms. The time library was imported to capture execution start time and end time and this the execution time calculated as follows:"
   ]
  },
  {
   "cell_type": "markdown",
   "id": "e6a3302e-3542-4870-8670-725f8f36645f",
   "metadata": {},
   "source": [
    "`\n",
    "execution time = execution stop time – execution start time\n",
    "`"
   ]
  },
  {
   "cell_type": "markdown",
   "id": "b62a36bc-161e-473e-9886-1f161fd9edc9",
   "metadata": {},
   "source": [
    "This information is recorded against the algorithm name in a dictionary. After all the executions, the dictionary is used to build a bar chart which shows execution time in seconds as in the figure below."
   ]
  },
  {
   "cell_type": "markdown",
   "id": "9bc97c25-97d4-4206-8178-88d6d5d07642",
   "metadata": {},
   "source": [
    "![Alt](https://github.com/samariwa/search-and-optimization-projects/blob/main/assessment/images/metrics%20chart.png?raw=true)"
   ]
  },
  {
   "cell_type": "markdown",
   "id": "b4cb4a3a-b79c-4fd9-9662-72b65959923a",
   "metadata": {},
   "source": [
    "The function that fetches the execution time performance is shown below. To execute run `get_algorithm_time_metrics()`"
   ]
  },
  {
   "cell_type": "code",
   "execution_count": null,
   "id": "5236f767-5c0f-456d-8d03-146539700131",
   "metadata": {},
   "outputs": [],
   "source": [
    "def get_algorithm_time_metrics():\n",
    "    \"\"\"\n",
    "    get_algorithm_time_metrics()\n",
    "    this function compares the performance of the various algorithms \n",
    "    in terms of execution time and plots them on a bar graph. This is done\n",
    "    by setting a timer at the beginning of execution of an algorithm and stopping\n",
    "    it at the end of the execution. The duration is stored in a dictionary against\n",
    "    the algorithm name as a key in the stop_execution() function. These functions\n",
    "    are found in the found in the metrics module. The durations are plotted on a\n",
    "    bar graph for visualization purposes.\n",
    "    returns: nothing\n",
    "    \"\"\"\n",
    "    # choose any random node to start from with the exception of the base stations\n",
    "    dest_nodes = [x_y_base_station_1[0], x_y_base_station_2[0]]\n",
    "    start_node = choice(np.array([i for i in x_y_data.keys() if i not in dest_nodes]), 1, replace=False)[0]\n",
    "    # list of algorithms whose time performance will be compared\n",
    "    methods = ['discrete genetic algorithm', 'ant colony optimization', 'dijkstras algorithm', 'simulated annealing']\n",
    "    for method in methods:\n",
    "        print(\"++++++++++++++++++++++++++++++++++++++++++++++++++++++++++++++++++++++++++++++++++++\")\n",
    "        print(f\"executing {method}...\")\n",
    "        # start execution timer\n",
    "        start_execution()\n",
    "        # run the algorithm\n",
    "        find_optimal_route(start_node, method)\n",
    "        # stop the timer and record the results\n",
    "        stop_execution(method)\n",
    "        print(\"++++++++++++++++++++++++++++++++++++++++++++++++++++++++++++++++++++++++++++++++++++\")\n",
    "    # plot the recorded results\n",
    "    plot_algorithm_execution_time()\n",
    "\n",
    "    return"
   ]
  },
  {
   "cell_type": "code",
   "execution_count": null,
   "id": "a76917b1-2790-4465-9f23-8191c3a40fb4",
   "metadata": {},
   "outputs": [],
   "source": [
    "#get_algorithm_time_metrics()"
   ]
  },
  {
   "cell_type": "markdown",
   "id": "51d24c1e-594d-4dbf-adbc-865a15d46315",
   "metadata": {},
   "source": [
    "#### Solution Quality"
   ]
  },
  {
   "cell_type": "markdown",
   "id": "479fbf21-2eb2-47f0-966a-b6292e533237",
   "metadata": {},
   "source": [
    "The best paths from a sensor to a base station may vary for various algorithms. These paths may have varying absolute costs or similar absolute costs. This metric analyses the best paths in terms of the absolute cost and ranks them such that those that have a high absolute cost are ranked higher. But this metric being done once may not reflect the consistent generation of quality solutions. To take care of this, we set the algorithm to run several problems and for each problem rank them. At the end, ranks for each of the problems are ranked to come up with an aggregated rank of the best solution which are represented in a table as shown below."
   ]
  },
  {
   "cell_type": "markdown",
   "id": "4a4ab565-9035-4082-84b2-126354c3bdbb",
   "metadata": {},
   "source": [
    "![Alt](https://github.com/samariwa/search-and-optimization-projects/blob/main/assessment/images/metrics%20table.png?raw=true)"
   ]
  },
  {
   "cell_type": "markdown",
   "id": "bea1a4f9-d501-44db-916a-9fba8bf35e0b",
   "metadata": {},
   "source": [
    "In the figure above, Dijkstra and simulated annealing got the best solutions and tied in terms of their performance ranking. The solution quality evaluation is implemented using the function below. To execute run `get_algorithm_accuracy_metrics()` with the number of trials passed in as an argument (Default is 4)."
   ]
  },
  {
   "cell_type": "code",
   "execution_count": null,
   "id": "c4a3d2a2-bae6-4752-9d8d-41237d1140cf",
   "metadata": {},
   "outputs": [],
   "source": [
    "def get_algorithm_accuracy_metrics(trials=4):\n",
    "    \"\"\"\n",
    "    get_algorithm_accuracy_metrics()\n",
    "    ranks the algorithms in terms of the quality of the solutions they provide.\n",
    "    The ranking is done by running the several runs of all algorithms, ranking \n",
    "    the individual ranks then ranking the ranks in order to get a wholistic rank\n",
    "    of the algorithms. The ranks are then displayed on a table. Rank ties \n",
    "    could exist in some scenarios\n",
    "    trials (optional): number of times you want to run the algorithm to get an\n",
    "    aggregated rank for more consistency in performance ranking\n",
    "    returns: nothing\n",
    "    \"\"\"\n",
    "    # choose any random node to start from with the exception of the base stations\n",
    "    dest_nodes = [x_y_base_station_1[0], x_y_base_station_2[0]]\n",
    "    # list of algorithms whose time performance will be compared\n",
    "    methods = ['discrete genetic algorithm', 'ant colony optimization', 'dijkstras algorithm', 'simulated annealing']\n",
    "    accuracy_performance = []\n",
    "    # initialize the sum of ranks for overall ranking\n",
    "    rank_sum = np.zeros(len(methods))\n",
    "    trial_no = trials\n",
    "    # create a store for the final rank data\n",
    "    overall_performance = []\n",
    "    for trial in range(trial_no):\n",
    "        start_node = choice(np.array([i for i in x_y_data.keys() if i not in dest_nodes]), 1, replace=False)[0]\n",
    "        print(f\"trial {trial + 1}...\")\n",
    "        print(\"++++++++++++++++++++++++++++++++++++++++++++++++++++++++++++++++++++++++++++++++++++\")\n",
    "        path_costs = []\n",
    "        for method in methods:      \n",
    "            print(f\"executing {method}; trial {trial + 1}...\")\n",
    "            '''\n",
    "            run the algorithm and get the solutions data with contains \n",
    "            the albolute cost which is used to dictate the quality of \n",
    "            the solution. The higher the cost the better the rank\n",
    "            '''\n",
    "            if method == \"discrete genetic algorithm\":\n",
    "                results, solutions = discrete_genetic_algorithm(start_node)\n",
    "            elif method == \"dijkstras algorithm\":\n",
    "                results, solutions = dijkstra_algorithm(start_node)\n",
    "            elif method == \"ant colony optimization\":\n",
    "                results, solutions = ant_colony_optimization(start_node)\n",
    "            elif method == \"simulated annealing\":\n",
    "                results, solutions = simulated_annealing(start_node)\n",
    "            path_costs.append(float(solutions[0]['absolute path cost']))\n",
    "        # rank the path costs. negate the costs so that ranking is done in descending order\n",
    "        ranked_costs = stat.rankdata([-cost for cost in path_costs])\n",
    "        accuracy_performance.append(list(map(int, ranked_costs)))\n",
    "        print(\"++++++++++++++++++++++++++++++++++++++++++++++++++++++++++++++++++++++++++++++++++++\")\n",
    "    #compile the individual trial ranks into a single wholistic rank\n",
    "    for ranks in range(len(accuracy_performance)):\n",
    "        for method in range(len(methods)):\n",
    "            rank_sum[method] += accuracy_performance[ranks][method]\n",
    "    # rank the sum of the individual ranks\n",
    "    rank_data = list(map(int,stat.rankdata(rank_sum)))\n",
    "    for i in range(len(rank_data)):\n",
    "        overall_performance.append([rank_data[i], methods[i]])\n",
    "    # tabulate the overall rank\n",
    "    show_algorithm_accuracy_rank(overall_performance)\n",
    "\n",
    "    return"
   ]
  },
  {
   "cell_type": "code",
   "execution_count": null,
   "id": "78c3ce1d-db53-4da0-93fe-78b100367d76",
   "metadata": {},
   "outputs": [],
   "source": [
    "#get_algorithm_accuracy_metrics()"
   ]
  },
  {
   "cell_type": "markdown",
   "id": "33ba344f-0f7c-4c23-a221-3bb4222d53b4",
   "metadata": {},
   "source": [
    "#### Evaluation"
   ]
  },
  {
   "cell_type": "markdown",
   "id": "d29c2679-dd73-4fc8-9daf-609a6055e62b",
   "metadata": {},
   "source": [
    "After running several tests, we had the following results for our algorithms:\n",
    "- Execution time metric:\n",
    "    1. Dijkstra’s Algorithm (< 1 second)\n",
    "    2. Simulated Annealing Algorithm (1-5 seconds)\n",
    "    3. Discrete Genetic Algorithm (20 – 60seconds)\n",
    "    4. Ant’s Colony Optimization Algorithm (200-250 seconds)\n",
    "\n",
    "The indicated times ranges are where most execution times lie for round of algorithm execution. They vary based on the kind of randomly generated solutions in the cases of the stochastic algorithms like Simulated Annealing and Discrete Genetic Algorithm. These times also vary based on the **kwargs provided e.g. the population size in DGA or the number of ants in ACO. These performances were run against the default parameters which had been pre-tested to ensure optimal output.\n",
    "Based on the results, Dijkstra’s Algorithm is the best algorithm for this problem in terms of time since executes in the shortest time consistently.\n",
    "\n",
    "- Solution quality metric:\n",
    "    1. Dijkstra’s Algorithm\n",
    "    2. Simulated Annealing\n",
    "    3. Discrete Genetic Algorithm\n",
    "    4. Ant Colony Optimization\n",
    "\n",
    "The ranks were done based on 4 trials for each algorithm, and for each trial, the best path from a particular node was tried for each algorithm. There were times when DGA emerged the best because it is dependent on the randomly generated initial paths and the permutation with is more of a trial and error. The above ranks were derived from several executions and the performance consolidated to the above.\n",
    "Based on the results, Dijkstra’s Algorithm performed best for this problem because it consistently gave good results. The upside of Dijkstra’s algorithm is the logic of evaluating the next best path in the trail. This made the algorithm always get to the base station from a node in a particular route even when run several times. This consistency makes it a reliable algorithm for good solutions alongside the quick execution time as discussed above."
   ]
  },
  {
   "cell_type": "markdown",
   "id": "4b419fc0-bb92-4f43-abff-14e908fa1364",
   "metadata": {},
   "source": [
    "#### Tradeoff between time and quality"
   ]
  },
  {
   "cell_type": "markdown",
   "id": "e935df8e-bc8d-4962-a1c0-8fd569e4a352",
   "metadata": {},
   "source": [
    "These rankings were based on several tests but again they vary based on the **kwargs provided. At the end, for stochastic algorithms, there is a tradeoff between time and quality. For example, if you initialize many ants in the ACO algorithm, more time will be used to explore the search trail and therefore to get the best path and you might get better solutions."
   ]
  },
  {
   "cell_type": "code",
   "execution_count": null,
   "id": "e562ef89-9d91-4a97-b086-2bf65bbfca29",
   "metadata": {},
   "outputs": [],
   "source": [
    "for _ in range(10):\n",
    "    for algorithm, sensors in get_missing_solutions().items():\n",
    "        for sensor in sensors:\n",
    "            try:\n",
    "                print(f\"Sensor {sensor}\")\n",
    "                find_optimal_route(sensor, algorithm)\n",
    "            except:\n",
    "                pass"
   ]
  },
  {
   "cell_type": "markdown",
   "id": "a68415e8-6461-4db5-bcc3-a6b421fbc109",
   "metadata": {},
   "source": [
    "## Conclusion"
   ]
  },
  {
   "cell_type": "code",
   "execution_count": null,
   "id": "01393b81-fd0a-46b6-a55a-70ef84cd4e16",
   "metadata": {},
   "outputs": [],
   "source": []
  },
  {
   "cell_type": "markdown",
   "id": "eacdd679-79a9-4e51-884d-a2babf0add40",
   "metadata": {},
   "source": [
    "## References"
   ]
  },
  {
   "cell_type": "markdown",
   "id": "4aec8a61-5383-468c-8030-860b9cc6bbba",
   "metadata": {},
   "source": [
    "Rosenberg, M., 2024. The Distance Between Degrees of Latitude and Longitude. Available from: https://www.thoughtco.com/degree-of-latitude-and-longitude-distance-4070616 [Accessed 6th January 2024] <br>\n",
    "Scripts, M. T., 2024. Calculate distance, bearing and more between Latitude/Longitude points. Available from: https://www.movable-type.co.uk/scripts/latlong.html [Accessed 6th January 2024] <br>\n",
    "Story, R., 2013. Folium. Available from: https://python-visualization.github.io/folium/latest/ [Accessed 6th January 2024] <br>\n"
   ]
  },
  {
   "cell_type": "code",
   "execution_count": null,
   "id": "3f6c23b6-f80c-4f06-9ee7-06ef6aee5981",
   "metadata": {},
   "outputs": [],
   "source": []
  }
 ],
 "metadata": {
  "kernelspec": {
   "display_name": "base",
   "language": "python",
   "name": "base"
  },
  "language_info": {
   "codemirror_mode": {
    "name": "ipython",
    "version": 3
   },
   "file_extension": ".py",
   "mimetype": "text/x-python",
   "name": "python",
   "nbconvert_exporter": "python",
   "pygments_lexer": "ipython3",
   "version": "3.9.12"
  }
 },
 "nbformat": 4,
 "nbformat_minor": 5
}
