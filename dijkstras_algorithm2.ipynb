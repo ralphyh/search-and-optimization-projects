{
 "cells": [
  {
   "cell_type": "code",
   "execution_count": 2317,
   "id": "6493161d-5e71-4833-9ed8-36f999f45f36",
   "metadata": {},
   "outputs": [],
   "source": [
    "import numpy as np"
   ]
  },
  {
   "cell_type": "code",
   "execution_count": 2318,
   "id": "e7123761-fe66-43d2-9cd5-51a91fec9ab8",
   "metadata": {},
   "outputs": [],
   "source": [
    "search_space = {\n",
    "    'car_1': {'car_2': 4, 'car_4': 4, 'car_5': 3,'car_3': 4},\n",
    "    'car_2': {'car_1': 4, 'car_4': 5, 'base_station_1': 6},\n",
    "    'car_3': {'car_1': 4, 'car_6': 3},\n",
    "    'car_4': {'car_1': 4, 'car_2': 5, 'car_5': 4, 'car_7': 1},\n",
    "    'car_5': {'car_1': 3, 'car_4': 4, 'car_6': 5, 'car_7': 2, 'car_8': 7, 'car_9': 4},\n",
    "    'car_6': {'car_3': 3, 'car_5': 5, 'car_9': 4},\n",
    "    'car_7': {'car_4': 1, 'car_5': 2, 'car_8': 3, 'base_station_2': 6},\n",
    "    'car_8': {'car_5': 7, 'car_7': 3, 'car_9': 4},\n",
    "    'car_9': {'car_5': 4, 'car_6': 5, 'car_8': 4},\n",
    "    'base_station_1': {'car_2': 6},\n",
    "    'base_station_2': {'car_7': 6}\n",
    "}"
   ]
  },
  {
   "cell_type": "code",
   "execution_count": 2319,
   "id": "1d96bbac-535f-446d-a1e2-e44c2a7d92b2",
   "metadata": {},
   "outputs": [],
   "source": [
    "known_costs = {}"
   ]
  },
  {
   "cell_type": "code",
   "execution_count": 2320,
   "id": "3d714b4c-a56a-4f31-a5c0-37bd81ac5d08",
   "metadata": {},
   "outputs": [],
   "source": [
    "routes = {car: [] for car in search_space.keys()}"
   ]
  },
  {
   "cell_type": "code",
   "execution_count": 2321,
   "id": "7437384d-029c-45bb-b53d-36b6ff08bcbd",
   "metadata": {},
   "outputs": [],
   "source": [
    "visited_nodes = []"
   ]
  },
  {
   "cell_type": "code",
   "execution_count": 2322,
   "id": "86e06f85-d06c-4755-ac1f-dc49b0b5527e",
   "metadata": {},
   "outputs": [],
   "source": [
    "unvisited_nodes = []"
   ]
  },
  {
   "cell_type": "code",
   "execution_count": 2323,
   "id": "a190efd5-32a3-44e2-b822-530f077a4c52",
   "metadata": {},
   "outputs": [],
   "source": [
    "def init_known_costs(init_node):\n",
    "    global unvisited_nodes\n",
    "    for car, bandwidth in search_space.items():\n",
    "        if car != init_node:\n",
    "            known_costs[car] = -np.inf\n",
    "        else:\n",
    "            known_costs[car] = 0\n",
    "            routes[init_node] = [car]\n",
    "    visited_nodes.append(init_node)\n",
    "    unvisited_nodes = [node for node in search_space.keys() if node != init_node]"
   ]
  },
  {
   "cell_type": "code",
   "execution_count": 2324,
   "id": "dee04eb1-9788-4909-be61-16dd3039935d",
   "metadata": {},
   "outputs": [],
   "source": [
    "def select_max_path(node):\n",
    "    # get the minimum value in a node and set it as the max value\n",
    "    max_val = min(search_space[node].values())\n",
    "    # get the corresponding nodes (for the bandwidth set below)\n",
    "    next_nodes = []\n",
    "    print(\"------------For debugging----------------\")\n",
    "    print(search_space[node].items())\n",
    "    for car, bandwidth in search_space[node].items():\n",
    "        if car not in visited_nodes:\n",
    "            # Check if this bandwidth is the new maximum\n",
    "            if bandwidth > max_val:\n",
    "                max_val = bandwidth\n",
    "                # Update next_nodes with only the current highest cost\n",
    "                next_nodes = [car]\n",
    "            elif bandwidth == max_val:\n",
    "                # If there is more than one node with that max value in the sub dict\n",
    "                next_nodes.append(car)\n",
    "\n",
    "        # Calculate the cummulative bandwidth to reach this neighbor\n",
    "        new_cost = known_costs[node] + bandwidth\n",
    "\n",
    "        if new_cost > known_costs[car]: ## there is a problem here\n",
    "            routes[car] = routes[node] + [car]\n",
    "            known_costs[car] = new_cost\n",
    "\n",
    "    if len(next_nodes) == 0 and len(unvisited_nodes) > 0: ## review this part\n",
    "        print(\"Starting search from root again\")\n",
    "        max_cost = max([known_costs[node] for node in unvisited_nodes])\n",
    "        next_nodes = [node for node in unvisited_nodes if known_costs[node] == max_cost]\n",
    "    print(\"-------------------------------------\")\n",
    "    # Mark the selected node as visited and remove it from unvisited nodes\n",
    "    visited_nodes.append(next_nodes[0])\n",
    "    unvisited_nodes.remove(next_nodes[0])\n",
    "\n",
    "    # select the value in the array. If they are 2, select the first. But it honestly doesnt matter which you pick\n",
    "    return next_nodes[0] "
   ]
  },
  {
   "cell_type": "markdown",
   "id": "d0f75a08-40da-48db-8084-8f568c223795",
   "metadata": {},
   "source": [
    "### Dijkstra Algorithm Implementation"
   ]
  },
  {
   "cell_type": "code",
   "execution_count": 2326,
   "id": "9a18708f-33fc-4f8d-b5bd-54cbe6efb0b5",
   "metadata": {},
   "outputs": [],
   "source": [
    "def dijkstra_algorithm(init_node):\n",
    "    init_known_costs(init_node)\n",
    "    current_node = init_node\n",
    "    i = 1\n",
    "    while unvisited_nodes:\n",
    "        print(\"********************************************************Iter \"+str(i)+\"***********************************************************\")\n",
    "        next_node = select_max_path(current_node)\n",
    "        print(\"Next best node:\"+next_node)\n",
    "        print(\"Unvisited Nodes:\"+ str(unvisited_nodes))\n",
    "        print(\"Visited Nodes:\"+ str(visited_nodes))\n",
    "        print(\"Known Longest Routes:\"+ str(routes))\n",
    "        print(\"Known Largest Bandwidths:\"+ str(known_costs))\n",
    "        current_node = next_node\n",
    "        i += 1"
   ]
  },
  {
   "cell_type": "code",
   "execution_count": 2327,
   "id": "90c940ce-c903-4566-a245-b59deccbaa2b",
   "metadata": {},
   "outputs": [
    {
     "name": "stdout",
     "output_type": "stream",
     "text": [
      "********************************************************Iter 1***********************************************************\n",
      "------------For debugging----------------\n",
      "dict_items([('car_5', 4), ('car_6', 5), ('car_8', 4)])\n",
      "-------------------------------------\n",
      "Next best node:car_6\n",
      "Unvisited Nodes:['car_1', 'car_2', 'car_3', 'car_4', 'car_5', 'car_7', 'car_8', 'base_station_1', 'base_station_2']\n",
      "Visited Nodes:['car_9', 'car_6']\n",
      "Known Longest Routes:{'car_1': [], 'car_2': [], 'car_3': [], 'car_4': [], 'car_5': ['car_9', 'car_5'], 'car_6': ['car_9', 'car_6'], 'car_7': [], 'car_8': ['car_9', 'car_8'], 'car_9': ['car_9'], 'base_station_1': [], 'base_station_2': []}\n",
      "Known Largest Bandwidths:{'car_1': -inf, 'car_2': -inf, 'car_3': -inf, 'car_4': -inf, 'car_5': 4, 'car_6': 5, 'car_7': -inf, 'car_8': 4, 'car_9': 0, 'base_station_1': -inf, 'base_station_2': -inf}\n",
      "********************************************************Iter 2***********************************************************\n",
      "------------For debugging----------------\n",
      "dict_items([('car_3', 3), ('car_5', 5), ('car_9', 4)])\n",
      "-------------------------------------\n",
      "Next best node:car_5\n",
      "Unvisited Nodes:['car_1', 'car_2', 'car_3', 'car_4', 'car_7', 'car_8', 'base_station_1', 'base_station_2']\n",
      "Visited Nodes:['car_9', 'car_6', 'car_5']\n",
      "Known Longest Routes:{'car_1': [], 'car_2': [], 'car_3': ['car_9', 'car_6', 'car_3'], 'car_4': [], 'car_5': ['car_9', 'car_6', 'car_5'], 'car_6': ['car_9', 'car_6'], 'car_7': [], 'car_8': ['car_9', 'car_8'], 'car_9': ['car_9', 'car_6', 'car_9'], 'base_station_1': [], 'base_station_2': []}\n",
      "Known Largest Bandwidths:{'car_1': -inf, 'car_2': -inf, 'car_3': 8, 'car_4': -inf, 'car_5': 10, 'car_6': 5, 'car_7': -inf, 'car_8': 4, 'car_9': 9, 'base_station_1': -inf, 'base_station_2': -inf}\n",
      "********************************************************Iter 3***********************************************************\n",
      "------------For debugging----------------\n",
      "dict_items([('car_1', 3), ('car_4', 4), ('car_6', 5), ('car_7', 2), ('car_8', 7), ('car_9', 4)])\n",
      "-------------------------------------\n",
      "Next best node:car_8\n",
      "Unvisited Nodes:['car_1', 'car_2', 'car_3', 'car_4', 'car_7', 'base_station_1', 'base_station_2']\n",
      "Visited Nodes:['car_9', 'car_6', 'car_5', 'car_8']\n",
      "Known Longest Routes:{'car_1': ['car_9', 'car_6', 'car_5', 'car_1'], 'car_2': [], 'car_3': ['car_9', 'car_6', 'car_3'], 'car_4': ['car_9', 'car_6', 'car_5', 'car_4'], 'car_5': ['car_9', 'car_6', 'car_5'], 'car_6': ['car_9', 'car_6', 'car_5', 'car_6'], 'car_7': ['car_9', 'car_6', 'car_5', 'car_7'], 'car_8': ['car_9', 'car_6', 'car_5', 'car_8'], 'car_9': ['car_9', 'car_6', 'car_5', 'car_9'], 'base_station_1': [], 'base_station_2': []}\n",
      "Known Largest Bandwidths:{'car_1': 13, 'car_2': -inf, 'car_3': 8, 'car_4': 14, 'car_5': 10, 'car_6': 15, 'car_7': 12, 'car_8': 17, 'car_9': 14, 'base_station_1': -inf, 'base_station_2': -inf}\n",
      "********************************************************Iter 4***********************************************************\n",
      "------------For debugging----------------\n",
      "dict_items([('car_5', 7), ('car_7', 3), ('car_9', 4)])\n",
      "-------------------------------------\n",
      "Next best node:car_7\n",
      "Unvisited Nodes:['car_1', 'car_2', 'car_3', 'car_4', 'base_station_1', 'base_station_2']\n",
      "Visited Nodes:['car_9', 'car_6', 'car_5', 'car_8', 'car_7']\n",
      "Known Longest Routes:{'car_1': ['car_9', 'car_6', 'car_5', 'car_1'], 'car_2': [], 'car_3': ['car_9', 'car_6', 'car_3'], 'car_4': ['car_9', 'car_6', 'car_5', 'car_4'], 'car_5': ['car_9', 'car_6', 'car_5', 'car_8', 'car_5'], 'car_6': ['car_9', 'car_6', 'car_5', 'car_6'], 'car_7': ['car_9', 'car_6', 'car_5', 'car_8', 'car_7'], 'car_8': ['car_9', 'car_6', 'car_5', 'car_8'], 'car_9': ['car_9', 'car_6', 'car_5', 'car_8', 'car_9'], 'base_station_1': [], 'base_station_2': []}\n",
      "Known Largest Bandwidths:{'car_1': 13, 'car_2': -inf, 'car_3': 8, 'car_4': 14, 'car_5': 24, 'car_6': 15, 'car_7': 20, 'car_8': 17, 'car_9': 21, 'base_station_1': -inf, 'base_station_2': -inf}\n",
      "********************************************************Iter 5***********************************************************\n",
      "------------For debugging----------------\n",
      "dict_items([('car_4', 1), ('car_5', 2), ('car_8', 3), ('base_station_2', 6)])\n",
      "-------------------------------------\n",
      "Next best node:base_station_2\n",
      "Unvisited Nodes:['car_1', 'car_2', 'car_3', 'car_4', 'base_station_1']\n",
      "Visited Nodes:['car_9', 'car_6', 'car_5', 'car_8', 'car_7', 'base_station_2']\n",
      "Known Longest Routes:{'car_1': ['car_9', 'car_6', 'car_5', 'car_1'], 'car_2': [], 'car_3': ['car_9', 'car_6', 'car_3'], 'car_4': ['car_9', 'car_6', 'car_5', 'car_8', 'car_7', 'car_4'], 'car_5': ['car_9', 'car_6', 'car_5', 'car_8', 'car_5'], 'car_6': ['car_9', 'car_6', 'car_5', 'car_6'], 'car_7': ['car_9', 'car_6', 'car_5', 'car_8', 'car_7'], 'car_8': ['car_9', 'car_6', 'car_5', 'car_8', 'car_7', 'car_8'], 'car_9': ['car_9', 'car_6', 'car_5', 'car_8', 'car_9'], 'base_station_1': [], 'base_station_2': ['car_9', 'car_6', 'car_5', 'car_8', 'car_7', 'base_station_2']}\n",
      "Known Largest Bandwidths:{'car_1': 13, 'car_2': -inf, 'car_3': 8, 'car_4': 21, 'car_5': 24, 'car_6': 15, 'car_7': 20, 'car_8': 23, 'car_9': 21, 'base_station_1': -inf, 'base_station_2': 26}\n",
      "********************************************************Iter 6***********************************************************\n",
      "------------For debugging----------------\n",
      "dict_items([('car_7', 6)])\n",
      "Starting search from root again\n",
      "-------------------------------------\n",
      "Next best node:car_4\n",
      "Unvisited Nodes:['car_1', 'car_2', 'car_3', 'base_station_1']\n",
      "Visited Nodes:['car_9', 'car_6', 'car_5', 'car_8', 'car_7', 'base_station_2', 'car_4']\n",
      "Known Longest Routes:{'car_1': ['car_9', 'car_6', 'car_5', 'car_1'], 'car_2': [], 'car_3': ['car_9', 'car_6', 'car_3'], 'car_4': ['car_9', 'car_6', 'car_5', 'car_8', 'car_7', 'car_4'], 'car_5': ['car_9', 'car_6', 'car_5', 'car_8', 'car_5'], 'car_6': ['car_9', 'car_6', 'car_5', 'car_6'], 'car_7': ['car_9', 'car_6', 'car_5', 'car_8', 'car_7', 'base_station_2', 'car_7'], 'car_8': ['car_9', 'car_6', 'car_5', 'car_8', 'car_7', 'car_8'], 'car_9': ['car_9', 'car_6', 'car_5', 'car_8', 'car_9'], 'base_station_1': [], 'base_station_2': ['car_9', 'car_6', 'car_5', 'car_8', 'car_7', 'base_station_2']}\n",
      "Known Largest Bandwidths:{'car_1': 13, 'car_2': -inf, 'car_3': 8, 'car_4': 21, 'car_5': 24, 'car_6': 15, 'car_7': 32, 'car_8': 23, 'car_9': 21, 'base_station_1': -inf, 'base_station_2': 26}\n",
      "********************************************************Iter 7***********************************************************\n",
      "------------For debugging----------------\n",
      "dict_items([('car_1', 4), ('car_2', 5), ('car_5', 4), ('car_7', 1)])\n",
      "-------------------------------------\n",
      "Next best node:car_2\n",
      "Unvisited Nodes:['car_1', 'car_3', 'base_station_1']\n",
      "Visited Nodes:['car_9', 'car_6', 'car_5', 'car_8', 'car_7', 'base_station_2', 'car_4', 'car_2']\n",
      "Known Longest Routes:{'car_1': ['car_9', 'car_6', 'car_5', 'car_8', 'car_7', 'car_4', 'car_1'], 'car_2': ['car_9', 'car_6', 'car_5', 'car_8', 'car_7', 'car_4', 'car_2'], 'car_3': ['car_9', 'car_6', 'car_3'], 'car_4': ['car_9', 'car_6', 'car_5', 'car_8', 'car_7', 'car_4'], 'car_5': ['car_9', 'car_6', 'car_5', 'car_8', 'car_7', 'car_4', 'car_5'], 'car_6': ['car_9', 'car_6', 'car_5', 'car_6'], 'car_7': ['car_9', 'car_6', 'car_5', 'car_8', 'car_7', 'base_station_2', 'car_7'], 'car_8': ['car_9', 'car_6', 'car_5', 'car_8', 'car_7', 'car_8'], 'car_9': ['car_9', 'car_6', 'car_5', 'car_8', 'car_9'], 'base_station_1': [], 'base_station_2': ['car_9', 'car_6', 'car_5', 'car_8', 'car_7', 'base_station_2']}\n",
      "Known Largest Bandwidths:{'car_1': 25, 'car_2': 26, 'car_3': 8, 'car_4': 21, 'car_5': 25, 'car_6': 15, 'car_7': 32, 'car_8': 23, 'car_9': 21, 'base_station_1': -inf, 'base_station_2': 26}\n",
      "********************************************************Iter 8***********************************************************\n",
      "------------For debugging----------------\n",
      "dict_items([('car_1', 4), ('car_4', 5), ('base_station_1', 6)])\n",
      "-------------------------------------\n",
      "Next best node:base_station_1\n",
      "Unvisited Nodes:['car_1', 'car_3']\n",
      "Visited Nodes:['car_9', 'car_6', 'car_5', 'car_8', 'car_7', 'base_station_2', 'car_4', 'car_2', 'base_station_1']\n",
      "Known Longest Routes:{'car_1': ['car_9', 'car_6', 'car_5', 'car_8', 'car_7', 'car_4', 'car_2', 'car_1'], 'car_2': ['car_9', 'car_6', 'car_5', 'car_8', 'car_7', 'car_4', 'car_2'], 'car_3': ['car_9', 'car_6', 'car_3'], 'car_4': ['car_9', 'car_6', 'car_5', 'car_8', 'car_7', 'car_4', 'car_2', 'car_4'], 'car_5': ['car_9', 'car_6', 'car_5', 'car_8', 'car_7', 'car_4', 'car_5'], 'car_6': ['car_9', 'car_6', 'car_5', 'car_6'], 'car_7': ['car_9', 'car_6', 'car_5', 'car_8', 'car_7', 'base_station_2', 'car_7'], 'car_8': ['car_9', 'car_6', 'car_5', 'car_8', 'car_7', 'car_8'], 'car_9': ['car_9', 'car_6', 'car_5', 'car_8', 'car_9'], 'base_station_1': ['car_9', 'car_6', 'car_5', 'car_8', 'car_7', 'car_4', 'car_2', 'base_station_1'], 'base_station_2': ['car_9', 'car_6', 'car_5', 'car_8', 'car_7', 'base_station_2']}\n",
      "Known Largest Bandwidths:{'car_1': 30, 'car_2': 26, 'car_3': 8, 'car_4': 31, 'car_5': 25, 'car_6': 15, 'car_7': 32, 'car_8': 23, 'car_9': 21, 'base_station_1': 32, 'base_station_2': 26}\n",
      "********************************************************Iter 9***********************************************************\n",
      "------------For debugging----------------\n",
      "dict_items([('car_2', 6)])\n",
      "Starting search from root again\n",
      "-------------------------------------\n",
      "Next best node:car_1\n",
      "Unvisited Nodes:['car_3']\n",
      "Visited Nodes:['car_9', 'car_6', 'car_5', 'car_8', 'car_7', 'base_station_2', 'car_4', 'car_2', 'base_station_1', 'car_1']\n",
      "Known Longest Routes:{'car_1': ['car_9', 'car_6', 'car_5', 'car_8', 'car_7', 'car_4', 'car_2', 'car_1'], 'car_2': ['car_9', 'car_6', 'car_5', 'car_8', 'car_7', 'car_4', 'car_2', 'base_station_1', 'car_2'], 'car_3': ['car_9', 'car_6', 'car_3'], 'car_4': ['car_9', 'car_6', 'car_5', 'car_8', 'car_7', 'car_4', 'car_2', 'car_4'], 'car_5': ['car_9', 'car_6', 'car_5', 'car_8', 'car_7', 'car_4', 'car_5'], 'car_6': ['car_9', 'car_6', 'car_5', 'car_6'], 'car_7': ['car_9', 'car_6', 'car_5', 'car_8', 'car_7', 'base_station_2', 'car_7'], 'car_8': ['car_9', 'car_6', 'car_5', 'car_8', 'car_7', 'car_8'], 'car_9': ['car_9', 'car_6', 'car_5', 'car_8', 'car_9'], 'base_station_1': ['car_9', 'car_6', 'car_5', 'car_8', 'car_7', 'car_4', 'car_2', 'base_station_1'], 'base_station_2': ['car_9', 'car_6', 'car_5', 'car_8', 'car_7', 'base_station_2']}\n",
      "Known Largest Bandwidths:{'car_1': 30, 'car_2': 38, 'car_3': 8, 'car_4': 31, 'car_5': 25, 'car_6': 15, 'car_7': 32, 'car_8': 23, 'car_9': 21, 'base_station_1': 32, 'base_station_2': 26}\n",
      "********************************************************Iter 10***********************************************************\n",
      "------------For debugging----------------\n",
      "dict_items([('car_2', 4), ('car_4', 4), ('car_5', 3), ('car_3', 4)])\n",
      "-------------------------------------\n",
      "Next best node:car_3\n",
      "Unvisited Nodes:[]\n",
      "Visited Nodes:['car_9', 'car_6', 'car_5', 'car_8', 'car_7', 'base_station_2', 'car_4', 'car_2', 'base_station_1', 'car_1', 'car_3']\n",
      "Known Longest Routes:{'car_1': ['car_9', 'car_6', 'car_5', 'car_8', 'car_7', 'car_4', 'car_2', 'car_1'], 'car_2': ['car_9', 'car_6', 'car_5', 'car_8', 'car_7', 'car_4', 'car_2', 'base_station_1', 'car_2'], 'car_3': ['car_9', 'car_6', 'car_5', 'car_8', 'car_7', 'car_4', 'car_2', 'car_1', 'car_3'], 'car_4': ['car_9', 'car_6', 'car_5', 'car_8', 'car_7', 'car_4', 'car_2', 'car_1', 'car_4'], 'car_5': ['car_9', 'car_6', 'car_5', 'car_8', 'car_7', 'car_4', 'car_2', 'car_1', 'car_5'], 'car_6': ['car_9', 'car_6', 'car_5', 'car_6'], 'car_7': ['car_9', 'car_6', 'car_5', 'car_8', 'car_7', 'base_station_2', 'car_7'], 'car_8': ['car_9', 'car_6', 'car_5', 'car_8', 'car_7', 'car_8'], 'car_9': ['car_9', 'car_6', 'car_5', 'car_8', 'car_9'], 'base_station_1': ['car_9', 'car_6', 'car_5', 'car_8', 'car_7', 'car_4', 'car_2', 'base_station_1'], 'base_station_2': ['car_9', 'car_6', 'car_5', 'car_8', 'car_7', 'base_station_2']}\n",
      "Known Largest Bandwidths:{'car_1': 30, 'car_2': 38, 'car_3': 34, 'car_4': 34, 'car_5': 33, 'car_6': 15, 'car_7': 32, 'car_8': 23, 'car_9': 21, 'base_station_1': 32, 'base_station_2': 26}\n"
     ]
    }
   ],
   "source": [
    "dijkstra_algorithm('car_9')"
   ]
  },
  {
   "cell_type": "code",
   "execution_count": 2328,
   "id": "e2030a35-47c2-4d32-9e43-bb3639aa245e",
   "metadata": {},
   "outputs": [],
   "source": [
    "def get_optimal_route(destination):\n",
    "    optimal_route = ''\n",
    "    costs = []\n",
    "    for idx, path in enumerate(routes[destination]):\n",
    "        if idx > 0:\n",
    "            costs.append(search_space[path][routes[destination][idx - 1]])\n",
    "        if path != destination:\n",
    "            optimal_route += path + \" -> \"\n",
    "        else:\n",
    "            optimal_route += path\n",
    "    print(\"Optimal route to \"+destination+\": \"+optimal_route)\n",
    "    print(\"Data Transmission Rate: \"+str(min(costs))+\" Mbps\")"
   ]
  },
  {
   "cell_type": "code",
   "execution_count": 2329,
   "id": "bb410a08-a55d-488b-ba6f-aeb29edeb9e5",
   "metadata": {},
   "outputs": [
    {
     "name": "stdout",
     "output_type": "stream",
     "text": [
      "Optimal route to base_station_2: car_9 -> car_6 -> car_5 -> car_8 -> car_7 -> base_station_2\n",
      "Data Transmission Rate: 3 Mbps\n"
     ]
    }
   ],
   "source": [
    "get_optimal_route('base_station_2')"
   ]
  },
  {
   "cell_type": "code",
   "execution_count": 2330,
   "id": "fa201a47-894f-4ee7-aaca-a56cfc09ecc7",
   "metadata": {},
   "outputs": [
    {
     "name": "stdout",
     "output_type": "stream",
     "text": [
      "Optimal route to base_station_1: car_9 -> car_6 -> car_5 -> car_8 -> car_7 -> car_4 -> car_2 -> base_station_1\n",
      "Data Transmission Rate: 1 Mbps\n"
     ]
    }
   ],
   "source": [
    "get_optimal_route('base_station_1')"
   ]
  },
  {
   "cell_type": "code",
   "execution_count": null,
   "id": "ce12a44f-451e-4b70-b980-51200e4022c0",
   "metadata": {},
   "outputs": [],
   "source": []
  }
 ],
 "metadata": {
  "kernelspec": {
   "display_name": "base",
   "language": "python",
   "name": "base"
  },
  "language_info": {
   "codemirror_mode": {
    "name": "ipython",
    "version": 3
   },
   "file_extension": ".py",
   "mimetype": "text/x-python",
   "name": "python",
   "nbconvert_exporter": "python",
   "pygments_lexer": "ipython3",
   "version": "3.9.12"
  }
 },
 "nbformat": 4,
 "nbformat_minor": 5
}
