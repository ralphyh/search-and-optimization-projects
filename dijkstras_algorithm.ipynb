{
 "cells": [
  {
   "cell_type": "code",
   "execution_count": 1692,
   "id": "6493161d-5e71-4833-9ed8-36f999f45f36",
   "metadata": {},
   "outputs": [],
   "source": [
    "import numpy as np"
   ]
  },
  {
   "cell_type": "code",
   "execution_count": 1693,
   "id": "e7123761-fe66-43d2-9cd5-51a91fec9ab8",
   "metadata": {},
   "outputs": [],
   "source": [
    "search_space = {\n",
    "    'car_1': {'car_2': 4, 'car_4': 4, 'car_5': 3,'car_3': 4},\n",
    "    'car_2': {'car_1': 4, 'car_4': 5, 'base_station_1': 6},\n",
    "    'car_3': {'car_1': 4, 'car_6': 3},\n",
    "    'car_4': {'car_1': 4, 'car_2': 5, 'car_5': 4, 'car_7': 1},\n",
    "    'car_5': {'car_1': 3, 'car_4': 4, 'car_6': 5, 'car_7': 2, 'car_8': 7, 'car_9': 4},\n",
    "    'car_6': {'car_3': 3, 'car_5': 5, 'car_9': 4},\n",
    "    'car_7': {'car_4': 1, 'car_5': 2, 'car_8': 3, 'base_station_2': 6},\n",
    "    'car_8': {'car_5': 7, 'car_7': 3, 'car_9': 4},\n",
    "    'car_9': {'car_5': 4, 'car_6': 5, 'car_8': 4},\n",
    "    'base_station_1': {'car_2': 6},\n",
    "    'base_station_2': {'car_7': 6}\n",
    "}"
   ]
  },
  {
   "cell_type": "code",
   "execution_count": 1694,
   "id": "1d96bbac-535f-446d-a1e2-e44c2a7d92b2",
   "metadata": {},
   "outputs": [],
   "source": [
    "known_costs = {}"
   ]
  },
  {
   "cell_type": "code",
   "execution_count": 1695,
   "id": "3d714b4c-a56a-4f31-a5c0-37bd81ac5d08",
   "metadata": {},
   "outputs": [],
   "source": [
    "routes = {car: [] for car in search_space.keys()}"
   ]
  },
  {
   "cell_type": "code",
   "execution_count": 1696,
   "id": "a190efd5-32a3-44e2-b822-530f077a4c52",
   "metadata": {},
   "outputs": [],
   "source": [
    "def init_known_costs(init_node):\n",
    "    for car, bandwidth in search_space.items():\n",
    "        if car != init_node:\n",
    "            known_costs[car] = np.inf\n",
    "        else:\n",
    "            known_costs[car] = 0\n",
    "            routes[init_node] = [car]"
   ]
  },
  {
   "cell_type": "code",
   "execution_count": 1697,
   "id": "462f952c-49de-46d1-a075-a34bcfd5d55f",
   "metadata": {},
   "outputs": [
    {
     "name": "stdout",
     "output_type": "stream",
     "text": [
      "{'car_1': inf, 'car_2': inf, 'car_3': inf, 'car_4': inf, 'car_5': inf, 'car_6': inf, 'car_7': inf, 'car_8': inf, 'car_9': 0, 'base_station_1': inf, 'base_station_2': inf}\n",
      "{'car_1': [], 'car_2': [], 'car_3': [], 'car_4': [], 'car_5': [], 'car_6': [], 'car_7': [], 'car_8': [], 'car_9': ['car_9'], 'base_station_1': [], 'base_station_2': []}\n"
     ]
    }
   ],
   "source": [
    "init_known_costs('car_9')\n",
    "print(known_costs)\n",
    "print(routes)"
   ]
  },
  {
   "cell_type": "code",
   "execution_count": 1698,
   "id": "21bdce87-86c1-4559-95bd-4ab5eb95e906",
   "metadata": {},
   "outputs": [
    {
     "name": "stdout",
     "output_type": "stream",
     "text": [
      "['car_1', 'car_2', 'car_3', 'car_4', 'car_5', 'car_6', 'car_7', 'car_8', 'car_9', 'base_station_1', 'base_station_2']\n"
     ]
    }
   ],
   "source": [
    "unvisited_nodes = list(search_space.keys())\n",
    "print(unvisited_nodes)"
   ]
  },
  {
   "cell_type": "code",
   "execution_count": 1699,
   "id": "8ecc8d34-c25b-4b63-8d89-71b2cb29b0e8",
   "metadata": {},
   "outputs": [
    {
     "name": "stdout",
     "output_type": "stream",
     "text": [
      "[]\n"
     ]
    }
   ],
   "source": [
    "visited_nodes = []\n",
    "print(visited_nodes)"
   ]
  },
  {
   "cell_type": "code",
   "execution_count": 1700,
   "id": "dee04eb1-9788-4909-be61-16dd3039935d",
   "metadata": {},
   "outputs": [],
   "source": [
    "def select_min_path(node):\n",
    "    # get the maximum value in a node and set it as the min value\n",
    "    min_val = max(search_space[node].values())\n",
    "    # get the corresponding nodes (for the bandwidth set above)\n",
    "    next_nodes = []\n",
    "    \n",
    "    for car, bandwidth in search_space[node].items():\n",
    "        if bandwidth < min_val and car not in visited_nodes:\n",
    "            min_val = bandwidth\n",
    "            next_nodes = [car for car, bandwidth in search_space[node].items() if bandwidth == min_val and car not in visited_nodes]\n",
    "            print(next_nodes)\n",
    "        # Calculate the cummulative distance to reach this neighbor\n",
    "        new_cost = known_costs[node] + bandwidth\n",
    "\n",
    "        if new_cost < known_costs[car]: ## there is a problem here\n",
    "            routes[car] = routes[node] + [car]\n",
    "            known_costs[car] = new_cost\n",
    "    if len(next_nodes) == 0 and len(unvisited_nodes) > 0: ## review this part\n",
    "        print(\"starting search from root again\")       \n",
    "        next_nodes.append(unvisited_nodes[0])\n",
    "\n",
    "    visited_nodes.append(next_nodes[0])\n",
    "    unvisited_nodes.remove(next_nodes[0])\n",
    "    # select the value in the array. If they are 2, select the first. But it honestly doesnt matter which you pick\n",
    "    return next_nodes[0]  "
   ]
  },
  {
   "cell_type": "code",
   "execution_count": 1701,
   "id": "20093dd8-04ce-4bb5-a34b-789172e1456a",
   "metadata": {},
   "outputs": [
    {
     "name": "stdout",
     "output_type": "stream",
     "text": [
      "['car_5', 'car_8']\n",
      "next node:car_5\n",
      "{'car_1': inf, 'car_2': inf, 'car_3': inf, 'car_4': inf, 'car_5': 4, 'car_6': 5, 'car_7': inf, 'car_8': 4, 'car_9': 0, 'base_station_1': inf, 'base_station_2': inf}\n",
      "{'car_1': [], 'car_2': [], 'car_3': [], 'car_4': [], 'car_5': ['car_9', 'car_5'], 'car_6': ['car_9', 'car_6'], 'car_7': [], 'car_8': ['car_9', 'car_8'], 'car_9': ['car_9'], 'base_station_1': [], 'base_station_2': []}\n",
      "['car_5']\n",
      "['car_1', 'car_2', 'car_3', 'car_4', 'car_6', 'car_7', 'car_8', 'car_9', 'base_station_1', 'base_station_2']\n"
     ]
    }
   ],
   "source": [
    "print(\"next node:\"+select_min_path('car_9'))\n",
    "print(known_costs)\n",
    "print(routes)\n",
    "print(visited_nodes)\n",
    "print(unvisited_nodes)"
   ]
  },
  {
   "cell_type": "code",
   "execution_count": 1702,
   "id": "11f6f305-7f70-4c30-9fcf-9db858aebceb",
   "metadata": {},
   "outputs": [
    {
     "name": "stdout",
     "output_type": "stream",
     "text": [
      "['car_1']\n",
      "['car_7']\n",
      "next node:car_7\n",
      "{'car_1': 7, 'car_2': inf, 'car_3': inf, 'car_4': 8, 'car_5': 4, 'car_6': 5, 'car_7': 6, 'car_8': 4, 'car_9': 0, 'base_station_1': inf, 'base_station_2': inf}\n",
      "{'car_1': ['car_9', 'car_5', 'car_1'], 'car_2': [], 'car_3': [], 'car_4': ['car_9', 'car_5', 'car_4'], 'car_5': ['car_9', 'car_5'], 'car_6': ['car_9', 'car_6'], 'car_7': ['car_9', 'car_5', 'car_7'], 'car_8': ['car_9', 'car_8'], 'car_9': ['car_9'], 'base_station_1': [], 'base_station_2': []}\n",
      "['car_5', 'car_7']\n",
      "['car_1', 'car_2', 'car_3', 'car_4', 'car_6', 'car_8', 'car_9', 'base_station_1', 'base_station_2']\n"
     ]
    }
   ],
   "source": [
    "print(\"next node:\"+select_min_path('car_5'))\n",
    "print(known_costs)\n",
    "print(routes)\n",
    "print(visited_nodes)\n",
    "print(unvisited_nodes)"
   ]
  },
  {
   "cell_type": "code",
   "execution_count": 1703,
   "id": "de871fde-7c83-412f-a0de-a720b910a152",
   "metadata": {},
   "outputs": [
    {
     "name": "stdout",
     "output_type": "stream",
     "text": [
      "['car_4']\n",
      "next node:car_4\n",
      "{'car_1': 7, 'car_2': inf, 'car_3': inf, 'car_4': 7, 'car_5': 4, 'car_6': 5, 'car_7': 6, 'car_8': 4, 'car_9': 0, 'base_station_1': inf, 'base_station_2': 12}\n",
      "{'car_1': ['car_9', 'car_5', 'car_1'], 'car_2': [], 'car_3': [], 'car_4': ['car_9', 'car_5', 'car_7', 'car_4'], 'car_5': ['car_9', 'car_5'], 'car_6': ['car_9', 'car_6'], 'car_7': ['car_9', 'car_5', 'car_7'], 'car_8': ['car_9', 'car_8'], 'car_9': ['car_9'], 'base_station_1': [], 'base_station_2': ['car_9', 'car_5', 'car_7', 'base_station_2']}\n",
      "['car_5', 'car_7', 'car_4']\n",
      "['car_1', 'car_2', 'car_3', 'car_6', 'car_8', 'car_9', 'base_station_1', 'base_station_2']\n"
     ]
    }
   ],
   "source": [
    "print(\"next node:\"+select_min_path('car_7'))\n",
    "print(known_costs)\n",
    "print(routes)\n",
    "print(visited_nodes)\n",
    "print(unvisited_nodes)"
   ]
  },
  {
   "cell_type": "code",
   "execution_count": 1704,
   "id": "7bde3471-2319-49af-99a4-c24d5ead19f5",
   "metadata": {},
   "outputs": [
    {
     "name": "stdout",
     "output_type": "stream",
     "text": [
      "['car_1']\n",
      "next node:car_1\n",
      "{'car_1': 7, 'car_2': 12, 'car_3': inf, 'car_4': 7, 'car_5': 4, 'car_6': 5, 'car_7': 6, 'car_8': 4, 'car_9': 0, 'base_station_1': inf, 'base_station_2': 12}\n",
      "{'car_1': ['car_9', 'car_5', 'car_1'], 'car_2': ['car_9', 'car_5', 'car_7', 'car_4', 'car_2'], 'car_3': [], 'car_4': ['car_9', 'car_5', 'car_7', 'car_4'], 'car_5': ['car_9', 'car_5'], 'car_6': ['car_9', 'car_6'], 'car_7': ['car_9', 'car_5', 'car_7'], 'car_8': ['car_9', 'car_8'], 'car_9': ['car_9'], 'base_station_1': [], 'base_station_2': ['car_9', 'car_5', 'car_7', 'base_station_2']}\n",
      "['car_5', 'car_7', 'car_4', 'car_1']\n",
      "['car_2', 'car_3', 'car_6', 'car_8', 'car_9', 'base_station_1', 'base_station_2']\n"
     ]
    }
   ],
   "source": [
    "print(\"next node:\"+select_min_path('car_4'))\n",
    "print(known_costs)\n",
    "print(routes)\n",
    "print(visited_nodes)\n",
    "print(unvisited_nodes)"
   ]
  },
  {
   "cell_type": "code",
   "execution_count": 1705,
   "id": "0f817d28-805e-43e2-a4f4-ae0e1b91bd81",
   "metadata": {},
   "outputs": [
    {
     "name": "stdout",
     "output_type": "stream",
     "text": [
      "['car_8']\n",
      "next node:car_8\n",
      "{'car_1': 7, 'car_2': 12, 'car_3': inf, 'car_4': 7, 'car_5': 4, 'car_6': 5, 'car_7': 6, 'car_8': 4, 'car_9': 0, 'base_station_1': inf, 'base_station_2': 12}\n",
      "{'car_1': ['car_9', 'car_5', 'car_1'], 'car_2': ['car_9', 'car_5', 'car_7', 'car_4', 'car_2'], 'car_3': [], 'car_4': ['car_9', 'car_5', 'car_7', 'car_4'], 'car_5': ['car_9', 'car_5'], 'car_6': ['car_9', 'car_6'], 'car_7': ['car_9', 'car_5', 'car_7'], 'car_8': ['car_9', 'car_8'], 'car_9': ['car_9'], 'base_station_1': [], 'base_station_2': ['car_9', 'car_5', 'car_7', 'base_station_2']}\n",
      "['car_5', 'car_7', 'car_4', 'car_1', 'car_8']\n",
      "['car_2', 'car_3', 'car_6', 'car_9', 'base_station_1', 'base_station_2']\n"
     ]
    }
   ],
   "source": [
    "print(\"next node:\"+select_min_path('car_7'))\n",
    "print(known_costs)\n",
    "print(routes)\n",
    "print(visited_nodes)\n",
    "print(unvisited_nodes)"
   ]
  },
  {
   "cell_type": "code",
   "execution_count": 1706,
   "id": "4a6991e2-ad87-42dd-b3a9-5e2724862920",
   "metadata": {},
   "outputs": [
    {
     "name": "stdout",
     "output_type": "stream",
     "text": [
      "['car_9']\n",
      "next node:car_9\n",
      "{'car_1': 7, 'car_2': 12, 'car_3': inf, 'car_4': 7, 'car_5': 4, 'car_6': 5, 'car_7': 6, 'car_8': 4, 'car_9': 0, 'base_station_1': inf, 'base_station_2': 12}\n",
      "{'car_1': ['car_9', 'car_5', 'car_1'], 'car_2': ['car_9', 'car_5', 'car_7', 'car_4', 'car_2'], 'car_3': [], 'car_4': ['car_9', 'car_5', 'car_7', 'car_4'], 'car_5': ['car_9', 'car_5'], 'car_6': ['car_9', 'car_6'], 'car_7': ['car_9', 'car_5', 'car_7'], 'car_8': ['car_9', 'car_8'], 'car_9': ['car_9'], 'base_station_1': [], 'base_station_2': ['car_9', 'car_5', 'car_7', 'base_station_2']}\n",
      "['car_5', 'car_7', 'car_4', 'car_1', 'car_8', 'car_9']\n",
      "['car_2', 'car_3', 'car_6', 'base_station_1', 'base_station_2']\n"
     ]
    }
   ],
   "source": [
    "print(\"next node:\"+select_min_path('car_8'))\n",
    "print(known_costs)\n",
    "print(routes)\n",
    "print(visited_nodes)\n",
    "print(unvisited_nodes)"
   ]
  },
  {
   "cell_type": "code",
   "execution_count": 1707,
   "id": "888d96b0-d9e4-4dc2-b0eb-2e691233457b",
   "metadata": {},
   "outputs": [
    {
     "name": "stdout",
     "output_type": "stream",
     "text": [
      "starting search from root again\n",
      "next node:car_2\n",
      "{'car_1': 7, 'car_2': 12, 'car_3': inf, 'car_4': 7, 'car_5': 4, 'car_6': 5, 'car_7': 6, 'car_8': 4, 'car_9': 0, 'base_station_1': inf, 'base_station_2': 12}\n",
      "{'car_1': ['car_9', 'car_5', 'car_1'], 'car_2': ['car_9', 'car_5', 'car_7', 'car_4', 'car_2'], 'car_3': [], 'car_4': ['car_9', 'car_5', 'car_7', 'car_4'], 'car_5': ['car_9', 'car_5'], 'car_6': ['car_9', 'car_6'], 'car_7': ['car_9', 'car_5', 'car_7'], 'car_8': ['car_9', 'car_8'], 'car_9': ['car_9'], 'base_station_1': [], 'base_station_2': ['car_9', 'car_5', 'car_7', 'base_station_2']}\n",
      "['car_5', 'car_7', 'car_4', 'car_1', 'car_8', 'car_9', 'car_2']\n",
      "['car_3', 'car_6', 'base_station_1', 'base_station_2']\n"
     ]
    }
   ],
   "source": [
    "print(\"next node:\"+select_min_path('car_9'))\n",
    "print(known_costs)\n",
    "print(routes)\n",
    "print(visited_nodes)\n",
    "print(unvisited_nodes)"
   ]
  },
  {
   "cell_type": "code",
   "execution_count": 1708,
   "id": "93d7aab6-c073-4f34-bb3a-5c2945495dd2",
   "metadata": {},
   "outputs": [
    {
     "name": "stdout",
     "output_type": "stream",
     "text": [
      "['car_3']\n",
      "next node:car_3\n",
      "{'car_1': 7, 'car_2': 12, 'car_3': 8, 'car_4': 7, 'car_5': 4, 'car_6': 5, 'car_7': 6, 'car_8': 4, 'car_9': 0, 'base_station_1': inf, 'base_station_2': 12}\n",
      "{'car_1': ['car_9', 'car_5', 'car_1'], 'car_2': ['car_9', 'car_5', 'car_7', 'car_4', 'car_2'], 'car_3': ['car_9', 'car_6', 'car_3'], 'car_4': ['car_9', 'car_5', 'car_7', 'car_4'], 'car_5': ['car_9', 'car_5'], 'car_6': ['car_9', 'car_6'], 'car_7': ['car_9', 'car_5', 'car_7'], 'car_8': ['car_9', 'car_8'], 'car_9': ['car_9'], 'base_station_1': [], 'base_station_2': ['car_9', 'car_5', 'car_7', 'base_station_2']}\n",
      "['car_5', 'car_7', 'car_4', 'car_1', 'car_8', 'car_9', 'car_2', 'car_3']\n",
      "['car_6', 'base_station_1', 'base_station_2']\n"
     ]
    }
   ],
   "source": [
    "print(\"next node:\"+select_min_path('car_6'))\n",
    "print(known_costs)\n",
    "print(routes)\n",
    "print(visited_nodes)\n",
    "print(unvisited_nodes)"
   ]
  },
  {
   "cell_type": "code",
   "execution_count": 1709,
   "id": "801e903a-875f-4959-b0ab-eae7fa571539",
   "metadata": {},
   "outputs": [
    {
     "name": "stdout",
     "output_type": "stream",
     "text": [
      "['car_6']\n",
      "next node:car_6\n",
      "{'car_1': 7, 'car_2': 12, 'car_3': 8, 'car_4': 7, 'car_5': 4, 'car_6': 5, 'car_7': 6, 'car_8': 4, 'car_9': 0, 'base_station_1': inf, 'base_station_2': 12}\n",
      "{'car_1': ['car_9', 'car_5', 'car_1'], 'car_2': ['car_9', 'car_5', 'car_7', 'car_4', 'car_2'], 'car_3': ['car_9', 'car_6', 'car_3'], 'car_4': ['car_9', 'car_5', 'car_7', 'car_4'], 'car_5': ['car_9', 'car_5'], 'car_6': ['car_9', 'car_6'], 'car_7': ['car_9', 'car_5', 'car_7'], 'car_8': ['car_9', 'car_8'], 'car_9': ['car_9'], 'base_station_1': [], 'base_station_2': ['car_9', 'car_5', 'car_7', 'base_station_2']}\n",
      "['car_5', 'car_7', 'car_4', 'car_1', 'car_8', 'car_9', 'car_2', 'car_3', 'car_6']\n",
      "['base_station_1', 'base_station_2']\n"
     ]
    }
   ],
   "source": [
    "print(\"next node:\"+select_min_path('car_3'))\n",
    "print(known_costs)\n",
    "print(routes)\n",
    "print(visited_nodes)\n",
    "print(unvisited_nodes)"
   ]
  },
  {
   "cell_type": "code",
   "execution_count": 1710,
   "id": "b2e43421-5d11-4806-b140-faac1d1fcef1",
   "metadata": {},
   "outputs": [
    {
     "name": "stdout",
     "output_type": "stream",
     "text": [
      "starting search from root again\n",
      "next node:base_station_1\n",
      "{'car_1': 7, 'car_2': 12, 'car_3': 8, 'car_4': 7, 'car_5': 4, 'car_6': 5, 'car_7': 6, 'car_8': 4, 'car_9': 0, 'base_station_1': inf, 'base_station_2': 12}\n",
      "{'car_1': ['car_9', 'car_5', 'car_1'], 'car_2': ['car_9', 'car_5', 'car_7', 'car_4', 'car_2'], 'car_3': ['car_9', 'car_6', 'car_3'], 'car_4': ['car_9', 'car_5', 'car_7', 'car_4'], 'car_5': ['car_9', 'car_5'], 'car_6': ['car_9', 'car_6'], 'car_7': ['car_9', 'car_5', 'car_7'], 'car_8': ['car_9', 'car_8'], 'car_9': ['car_9'], 'base_station_1': [], 'base_station_2': ['car_9', 'car_5', 'car_7', 'base_station_2']}\n",
      "['car_5', 'car_7', 'car_4', 'car_1', 'car_8', 'car_9', 'car_2', 'car_3', 'car_6', 'base_station_1']\n",
      "['base_station_2']\n"
     ]
    }
   ],
   "source": [
    "print(\"next node:\"+select_min_path('car_6'))\n",
    "print(known_costs)\n",
    "print(routes)\n",
    "print(visited_nodes)\n",
    "print(unvisited_nodes)"
   ]
  },
  {
   "cell_type": "code",
   "execution_count": 1711,
   "id": "c7112877-5647-4ef2-bd22-70830f8db4e7",
   "metadata": {},
   "outputs": [
    {
     "name": "stdout",
     "output_type": "stream",
     "text": [
      "starting search from root again\n",
      "next node:base_station_2\n",
      "{'car_1': 7, 'car_2': 12, 'car_3': 8, 'car_4': 7, 'car_5': 4, 'car_6': 5, 'car_7': 6, 'car_8': 4, 'car_9': 0, 'base_station_1': inf, 'base_station_2': 12}\n",
      "{'car_1': ['car_9', 'car_5', 'car_1'], 'car_2': ['car_9', 'car_5', 'car_7', 'car_4', 'car_2'], 'car_3': ['car_9', 'car_6', 'car_3'], 'car_4': ['car_9', 'car_5', 'car_7', 'car_4'], 'car_5': ['car_9', 'car_5'], 'car_6': ['car_9', 'car_6'], 'car_7': ['car_9', 'car_5', 'car_7'], 'car_8': ['car_9', 'car_8'], 'car_9': ['car_9'], 'base_station_1': [], 'base_station_2': ['car_9', 'car_5', 'car_7', 'base_station_2']}\n",
      "['car_5', 'car_7', 'car_4', 'car_1', 'car_8', 'car_9', 'car_2', 'car_3', 'car_6', 'base_station_1', 'base_station_2']\n",
      "[]\n"
     ]
    }
   ],
   "source": [
    "print(\"next node:\"+select_min_path('base_station_1'))\n",
    "print(known_costs)\n",
    "print(routes)\n",
    "print(visited_nodes)\n",
    "print(unvisited_nodes)"
   ]
  },
  {
   "cell_type": "markdown",
   "id": "d0f75a08-40da-48db-8084-8f568c223795",
   "metadata": {},
   "source": [
    "### Dijkstra Algorithm Implementation"
   ]
  },
  {
   "cell_type": "code",
   "execution_count": 1713,
   "id": "d9b1341d-ba7a-4135-9f86-780125c7d53b",
   "metadata": {},
   "outputs": [],
   "source": [
    "search_space = {\n",
    "    'car_1': {'car_2': 4, 'car_4': 4, 'car_5': 3,'car_3': 4},\n",
    "    'car_2': {'car_1': 4, 'car_4': 5, 'base_station_1': 6},\n",
    "    'car_3': {'car_1': 4, 'car_6': 3},\n",
    "    'car_4': {'car_1': 4, 'car_2': 5, 'car_5': 4, 'car_7': 1},\n",
    "    'car_5': {'car_1': 3, 'car_4': 4, 'car_6': 5, 'car_7': 2, 'car_8': 7, 'car_9': 4},\n",
    "    'car_6': {'car_3': 3, 'car_5': 5, 'car_9': 4},\n",
    "    'car_7': {'car_4': 1, 'car_5': 2, 'car_8': 3, 'base_station_2': 6},\n",
    "    'car_8': {'car_5': 7, 'car_7': 3, 'car_9': 4},\n",
    "    'car_9': {'car_5': 4, 'car_6': 5, 'car_8': 4},\n",
    "    'base_station_1': {'car_2': 6},\n",
    "    'base_station_2': {'car_7': 6}\n",
    "}"
   ]
  },
  {
   "cell_type": "code",
   "execution_count": 1714,
   "id": "093141bb-c8ad-450f-b4b2-0b789e1e6f50",
   "metadata": {},
   "outputs": [],
   "source": [
    "known_costs = {}"
   ]
  },
  {
   "cell_type": "code",
   "execution_count": 1715,
   "id": "9c7c899f-8df6-45aa-9ad0-246a36c30bbd",
   "metadata": {},
   "outputs": [],
   "source": [
    "routes = {car: [] for car in search_space.keys()}"
   ]
  },
  {
   "cell_type": "code",
   "execution_count": 1716,
   "id": "98ab218e-72bf-4c16-b423-fa17e5bdb33b",
   "metadata": {},
   "outputs": [],
   "source": [
    "unvisited_nodes = list(search_space.keys())"
   ]
  },
  {
   "cell_type": "code",
   "execution_count": 1717,
   "id": "9cae032a-953a-4ccc-bb4b-30179c6f4608",
   "metadata": {},
   "outputs": [],
   "source": [
    "visited_nodes = []"
   ]
  },
  {
   "cell_type": "code",
   "execution_count": 1718,
   "id": "9a18708f-33fc-4f8d-b5bd-54cbe6efb0b5",
   "metadata": {},
   "outputs": [],
   "source": [
    "def dijkstra_algorithm(init_node):\n",
    "    init_known_costs(init_node)\n",
    "    current_node = init_node\n",
    "    i = 1\n",
    "    while unvisited_nodes:\n",
    "        print(\"********************************************************Iter \"+str(i)+\"***********************************************************\")\n",
    "        next_node = select_min_path(current_node)\n",
    "        print(\"Unvisited Nodes:\"+ str(unvisited_nodes))\n",
    "        print(\"Visited Nodes:\"+ str(visited_nodes))\n",
    "        print(\"Known Shortest Routes:\"+ str(routes))\n",
    "        print(\"Known Least Costs:\"+ str(known_costs))\n",
    "        current_node = next_node\n",
    "        i += 1"
   ]
  },
  {
   "cell_type": "code",
   "execution_count": 1719,
   "id": "90c940ce-c903-4566-a245-b59deccbaa2b",
   "metadata": {},
   "outputs": [
    {
     "name": "stdout",
     "output_type": "stream",
     "text": [
      "********************************************************Iter 1***********************************************************\n",
      "Unvisited Nodes:['car_1', 'car_2', 'car_3', 'car_4', 'car_5', 'car_6', 'car_7', 'car_8', 'car_9', 'base_station_1', 'base_station_2']\n",
      "Visited Nodes:[]\n",
      "Known Shortest Routes:{'car_1': [], 'car_2': [], 'car_3': [], 'car_4': [], 'car_5': [], 'car_6': [], 'car_7': [], 'car_8': [], 'car_9': ['car_9'], 'base_station_1': [], 'base_station_2': []}\n",
      "Known Least Costs:{'car_1': inf, 'car_2': inf, 'car_3': inf, 'car_4': inf, 'car_5': inf, 'car_6': inf, 'car_7': inf, 'car_8': inf, 'car_9': 0, 'base_station_1': inf, 'base_station_2': inf}\n",
      "['car_5', 'car_8']\n",
      "********************************************************Iter 2***********************************************************\n",
      "Unvisited Nodes:['car_1', 'car_2', 'car_3', 'car_4', 'car_6', 'car_7', 'car_8', 'car_9', 'base_station_1', 'base_station_2']\n",
      "Visited Nodes:['car_5']\n",
      "Known Shortest Routes:{'car_1': [], 'car_2': [], 'car_3': [], 'car_4': [], 'car_5': ['car_9', 'car_5'], 'car_6': ['car_9', 'car_6'], 'car_7': [], 'car_8': ['car_9', 'car_8'], 'car_9': ['car_9'], 'base_station_1': [], 'base_station_2': []}\n",
      "Known Least Costs:{'car_1': inf, 'car_2': inf, 'car_3': inf, 'car_4': inf, 'car_5': 4, 'car_6': 5, 'car_7': inf, 'car_8': 4, 'car_9': 0, 'base_station_1': inf, 'base_station_2': inf}\n",
      "['car_1']\n",
      "['car_7']\n",
      "********************************************************Iter 3***********************************************************\n",
      "Unvisited Nodes:['car_1', 'car_2', 'car_3', 'car_4', 'car_6', 'car_8', 'car_9', 'base_station_1', 'base_station_2']\n",
      "Visited Nodes:['car_5', 'car_7']\n",
      "Known Shortest Routes:{'car_1': ['car_9', 'car_5', 'car_1'], 'car_2': [], 'car_3': [], 'car_4': ['car_9', 'car_5', 'car_4'], 'car_5': ['car_9', 'car_5'], 'car_6': ['car_9', 'car_6'], 'car_7': ['car_9', 'car_5', 'car_7'], 'car_8': ['car_9', 'car_8'], 'car_9': ['car_9'], 'base_station_1': [], 'base_station_2': []}\n",
      "Known Least Costs:{'car_1': 7, 'car_2': inf, 'car_3': inf, 'car_4': 8, 'car_5': 4, 'car_6': 5, 'car_7': 6, 'car_8': 4, 'car_9': 0, 'base_station_1': inf, 'base_station_2': inf}\n",
      "['car_4']\n",
      "********************************************************Iter 4***********************************************************\n",
      "Unvisited Nodes:['car_1', 'car_2', 'car_3', 'car_6', 'car_8', 'car_9', 'base_station_1', 'base_station_2']\n",
      "Visited Nodes:['car_5', 'car_7', 'car_4']\n",
      "Known Shortest Routes:{'car_1': ['car_9', 'car_5', 'car_1'], 'car_2': [], 'car_3': [], 'car_4': ['car_9', 'car_5', 'car_7', 'car_4'], 'car_5': ['car_9', 'car_5'], 'car_6': ['car_9', 'car_6'], 'car_7': ['car_9', 'car_5', 'car_7'], 'car_8': ['car_9', 'car_8'], 'car_9': ['car_9'], 'base_station_1': [], 'base_station_2': ['car_9', 'car_5', 'car_7', 'base_station_2']}\n",
      "Known Least Costs:{'car_1': 7, 'car_2': inf, 'car_3': inf, 'car_4': 7, 'car_5': 4, 'car_6': 5, 'car_7': 6, 'car_8': 4, 'car_9': 0, 'base_station_1': inf, 'base_station_2': 12}\n",
      "['car_1']\n",
      "********************************************************Iter 5***********************************************************\n",
      "Unvisited Nodes:['car_2', 'car_3', 'car_6', 'car_8', 'car_9', 'base_station_1', 'base_station_2']\n",
      "Visited Nodes:['car_5', 'car_7', 'car_4', 'car_1']\n",
      "Known Shortest Routes:{'car_1': ['car_9', 'car_5', 'car_1'], 'car_2': ['car_9', 'car_5', 'car_7', 'car_4', 'car_2'], 'car_3': [], 'car_4': ['car_9', 'car_5', 'car_7', 'car_4'], 'car_5': ['car_9', 'car_5'], 'car_6': ['car_9', 'car_6'], 'car_7': ['car_9', 'car_5', 'car_7'], 'car_8': ['car_9', 'car_8'], 'car_9': ['car_9'], 'base_station_1': [], 'base_station_2': ['car_9', 'car_5', 'car_7', 'base_station_2']}\n",
      "Known Least Costs:{'car_1': 7, 'car_2': 12, 'car_3': inf, 'car_4': 7, 'car_5': 4, 'car_6': 5, 'car_7': 6, 'car_8': 4, 'car_9': 0, 'base_station_1': inf, 'base_station_2': 12}\n",
      "starting search from root again\n",
      "********************************************************Iter 6***********************************************************\n",
      "Unvisited Nodes:['car_3', 'car_6', 'car_8', 'car_9', 'base_station_1', 'base_station_2']\n",
      "Visited Nodes:['car_5', 'car_7', 'car_4', 'car_1', 'car_2']\n",
      "Known Shortest Routes:{'car_1': ['car_9', 'car_5', 'car_1'], 'car_2': ['car_9', 'car_5', 'car_1', 'car_2'], 'car_3': ['car_9', 'car_5', 'car_1', 'car_3'], 'car_4': ['car_9', 'car_5', 'car_7', 'car_4'], 'car_5': ['car_9', 'car_5'], 'car_6': ['car_9', 'car_6'], 'car_7': ['car_9', 'car_5', 'car_7'], 'car_8': ['car_9', 'car_8'], 'car_9': ['car_9'], 'base_station_1': [], 'base_station_2': ['car_9', 'car_5', 'car_7', 'base_station_2']}\n",
      "Known Least Costs:{'car_1': 7, 'car_2': 11, 'car_3': 11, 'car_4': 7, 'car_5': 4, 'car_6': 5, 'car_7': 6, 'car_8': 4, 'car_9': 0, 'base_station_1': inf, 'base_station_2': 12}\n",
      "starting search from root again\n",
      "********************************************************Iter 7***********************************************************\n",
      "Unvisited Nodes:['car_6', 'car_8', 'car_9', 'base_station_1', 'base_station_2']\n",
      "Visited Nodes:['car_5', 'car_7', 'car_4', 'car_1', 'car_2', 'car_3']\n",
      "Known Shortest Routes:{'car_1': ['car_9', 'car_5', 'car_1'], 'car_2': ['car_9', 'car_5', 'car_1', 'car_2'], 'car_3': ['car_9', 'car_5', 'car_1', 'car_3'], 'car_4': ['car_9', 'car_5', 'car_7', 'car_4'], 'car_5': ['car_9', 'car_5'], 'car_6': ['car_9', 'car_6'], 'car_7': ['car_9', 'car_5', 'car_7'], 'car_8': ['car_9', 'car_8'], 'car_9': ['car_9'], 'base_station_1': ['car_9', 'car_5', 'car_1', 'car_2', 'base_station_1'], 'base_station_2': ['car_9', 'car_5', 'car_7', 'base_station_2']}\n",
      "Known Least Costs:{'car_1': 7, 'car_2': 11, 'car_3': 11, 'car_4': 7, 'car_5': 4, 'car_6': 5, 'car_7': 6, 'car_8': 4, 'car_9': 0, 'base_station_1': 17, 'base_station_2': 12}\n",
      "['car_6']\n",
      "********************************************************Iter 8***********************************************************\n",
      "Unvisited Nodes:['car_8', 'car_9', 'base_station_1', 'base_station_2']\n",
      "Visited Nodes:['car_5', 'car_7', 'car_4', 'car_1', 'car_2', 'car_3', 'car_6']\n",
      "Known Shortest Routes:{'car_1': ['car_9', 'car_5', 'car_1'], 'car_2': ['car_9', 'car_5', 'car_1', 'car_2'], 'car_3': ['car_9', 'car_5', 'car_1', 'car_3'], 'car_4': ['car_9', 'car_5', 'car_7', 'car_4'], 'car_5': ['car_9', 'car_5'], 'car_6': ['car_9', 'car_6'], 'car_7': ['car_9', 'car_5', 'car_7'], 'car_8': ['car_9', 'car_8'], 'car_9': ['car_9'], 'base_station_1': ['car_9', 'car_5', 'car_1', 'car_2', 'base_station_1'], 'base_station_2': ['car_9', 'car_5', 'car_7', 'base_station_2']}\n",
      "Known Least Costs:{'car_1': 7, 'car_2': 11, 'car_3': 11, 'car_4': 7, 'car_5': 4, 'car_6': 5, 'car_7': 6, 'car_8': 4, 'car_9': 0, 'base_station_1': 17, 'base_station_2': 12}\n",
      "['car_9']\n",
      "********************************************************Iter 9***********************************************************\n",
      "Unvisited Nodes:['car_8', 'base_station_1', 'base_station_2']\n",
      "Visited Nodes:['car_5', 'car_7', 'car_4', 'car_1', 'car_2', 'car_3', 'car_6', 'car_9']\n",
      "Known Shortest Routes:{'car_1': ['car_9', 'car_5', 'car_1'], 'car_2': ['car_9', 'car_5', 'car_1', 'car_2'], 'car_3': ['car_9', 'car_6', 'car_3'], 'car_4': ['car_9', 'car_5', 'car_7', 'car_4'], 'car_5': ['car_9', 'car_5'], 'car_6': ['car_9', 'car_6'], 'car_7': ['car_9', 'car_5', 'car_7'], 'car_8': ['car_9', 'car_8'], 'car_9': ['car_9'], 'base_station_1': ['car_9', 'car_5', 'car_1', 'car_2', 'base_station_1'], 'base_station_2': ['car_9', 'car_5', 'car_7', 'base_station_2']}\n",
      "Known Least Costs:{'car_1': 7, 'car_2': 11, 'car_3': 8, 'car_4': 7, 'car_5': 4, 'car_6': 5, 'car_7': 6, 'car_8': 4, 'car_9': 0, 'base_station_1': 17, 'base_station_2': 12}\n",
      "['car_8']\n",
      "********************************************************Iter 10***********************************************************\n",
      "Unvisited Nodes:['base_station_1', 'base_station_2']\n",
      "Visited Nodes:['car_5', 'car_7', 'car_4', 'car_1', 'car_2', 'car_3', 'car_6', 'car_9', 'car_8']\n",
      "Known Shortest Routes:{'car_1': ['car_9', 'car_5', 'car_1'], 'car_2': ['car_9', 'car_5', 'car_1', 'car_2'], 'car_3': ['car_9', 'car_6', 'car_3'], 'car_4': ['car_9', 'car_5', 'car_7', 'car_4'], 'car_5': ['car_9', 'car_5'], 'car_6': ['car_9', 'car_6'], 'car_7': ['car_9', 'car_5', 'car_7'], 'car_8': ['car_9', 'car_8'], 'car_9': ['car_9'], 'base_station_1': ['car_9', 'car_5', 'car_1', 'car_2', 'base_station_1'], 'base_station_2': ['car_9', 'car_5', 'car_7', 'base_station_2']}\n",
      "Known Least Costs:{'car_1': 7, 'car_2': 11, 'car_3': 8, 'car_4': 7, 'car_5': 4, 'car_6': 5, 'car_7': 6, 'car_8': 4, 'car_9': 0, 'base_station_1': 17, 'base_station_2': 12}\n",
      "starting search from root again\n",
      "********************************************************Iter 11***********************************************************\n",
      "Unvisited Nodes:['base_station_2']\n",
      "Visited Nodes:['car_5', 'car_7', 'car_4', 'car_1', 'car_2', 'car_3', 'car_6', 'car_9', 'car_8', 'base_station_1']\n",
      "Known Shortest Routes:{'car_1': ['car_9', 'car_5', 'car_1'], 'car_2': ['car_9', 'car_5', 'car_1', 'car_2'], 'car_3': ['car_9', 'car_6', 'car_3'], 'car_4': ['car_9', 'car_5', 'car_7', 'car_4'], 'car_5': ['car_9', 'car_5'], 'car_6': ['car_9', 'car_6'], 'car_7': ['car_9', 'car_5', 'car_7'], 'car_8': ['car_9', 'car_8'], 'car_9': ['car_9'], 'base_station_1': ['car_9', 'car_5', 'car_1', 'car_2', 'base_station_1'], 'base_station_2': ['car_9', 'car_5', 'car_7', 'base_station_2']}\n",
      "Known Least Costs:{'car_1': 7, 'car_2': 11, 'car_3': 8, 'car_4': 7, 'car_5': 4, 'car_6': 5, 'car_7': 6, 'car_8': 4, 'car_9': 0, 'base_station_1': 17, 'base_station_2': 12}\n",
      "starting search from root again\n"
     ]
    }
   ],
   "source": [
    "dijkstra_algorithm('car_9')"
   ]
  }
 ],
 "metadata": {
  "kernelspec": {
   "display_name": "base",
   "language": "python",
   "name": "base"
  },
  "language_info": {
   "codemirror_mode": {
    "name": "ipython",
    "version": 3
   },
   "file_extension": ".py",
   "mimetype": "text/x-python",
   "name": "python",
   "nbconvert_exporter": "python",
   "pygments_lexer": "ipython3",
   "version": "3.9.12"
  }
 },
 "nbformat": 4,
 "nbformat_minor": 5
}
