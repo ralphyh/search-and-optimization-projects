{
 "cells": [
  {
   "cell_type": "code",
   "execution_count": 9,
   "id": "3b1f963b-aae3-484c-9f96-4e40fdcb2638",
   "metadata": {},
   "outputs": [],
   "source": [
    "import numpy as np"
   ]
  },
  {
   "cell_type": "code",
   "execution_count": 11,
   "id": "20b1e5c5-47d1-45ec-a832-d24d7e1ab7ff",
   "metadata": {},
   "outputs": [],
   "source": [
    "search_space = np.array([\n",
    "   # Car_1    Car_2    Car_3    Car_4    Car_5    Car_6    Car_7    Car_8    Car_9    Base_1   Base_2\n",
    "    [-np.inf, 4,       4,       4,       3,       -np.inf, -np.inf, -np.inf, -np.inf, -np.inf, -np.inf],  # Car_1\n",
    "    [4,       -np.inf, -np.inf, 5,       -np.inf, -np.inf, -np.inf, -np.inf, -np.inf, 6,       -np.inf],  # Car_2\n",
    "    [4,       -np.inf, -np.inf, -np.inf, -np.inf, -np.inf, -np.inf, -np.inf, -np.inf, -np.inf, -np.inf],  # Car_3\n",
    "    [4,       5,       -np.inf, -np.inf, 4,       -np.inf, 1,       -np.inf, -np.inf, -np.inf, -np.inf],  # Car_4\n",
    "    [3,       -np.inf, -np.inf, 4,       -np.inf, 5,       2,       7,       4,       -np.inf, -np.inf],  # Car_5\n",
    "    [-np.inf, -np.inf, 3,       -np.inf, 5,       -np.inf, -np.inf, -np.inf, 5,       -np.inf, -np.inf],  # Car_6\n",
    "    [-np.inf, -np.inf, -np.inf, 1,       2,       -np.inf, -np.inf, 3,       -np.inf, -np.inf, 6      ],  # Car_7\n",
    "    [-np.inf, -np.inf, -np.inf, -np.inf, 7,       -np.inf, 3,       -np.inf, 4,       -np.inf, -np.inf],  # Car_8\n",
    "    [-np.inf, -np.inf, -np.inf, -np.inf, 4,       5,       -np.inf, 4,       -np.inf, -np.inf, -np.inf],  # Car_9\n",
    "    [-np.inf, 6,       -np.inf, -np.inf, -np.inf, -np.inf, -np.inf, -np.inf, -np.inf, -np.inf, -np.inf],  # Base_1\n",
    "    [-np.inf, -np.inf, -np.inf, -np.inf, -np.inf, -np.inf, 6,       -np.inf, -np.inf, -np.inf, -np.inf],  # Base_2\n",
    "])"
   ]
  },
  {
   "cell_type": "code",
   "execution_count": null,
   "id": "621285a1-f453-4bab-904c-9c3601b93364",
   "metadata": {},
   "outputs": [],
   "source": []
  }
 ],
 "metadata": {
  "kernelspec": {
   "display_name": "base",
   "language": "python",
   "name": "base"
  },
  "language_info": {
   "codemirror_mode": {
    "name": "ipython",
    "version": 3
   },
   "file_extension": ".py",
   "mimetype": "text/x-python",
   "name": "python",
   "nbconvert_exporter": "python",
   "pygments_lexer": "ipython3",
   "version": "3.9.12"
  }
 },
 "nbformat": 4,
 "nbformat_minor": 5
}
