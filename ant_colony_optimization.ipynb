{
 "cells": [
  {
   "cell_type": "code",
   "execution_count": 4177,
   "id": "39442a53-0407-4dc7-a340-e774bc3e70c5",
   "metadata": {},
   "outputs": [],
   "source": [
    "import numpy as np\n",
    "from numpy import random\n",
    "import math"
   ]
  },
  {
   "cell_type": "code",
   "execution_count": 4178,
   "id": "2bea3890-8f6d-4261-882f-b04cbc31fa8a",
   "metadata": {},
   "outputs": [],
   "source": [
    "customer_coords = np.loadtxt('customers_40.data')[:10]"
   ]
  },
  {
   "cell_type": "code",
   "execution_count": 4179,
   "id": "734a4cef-2ab9-45f5-bcd9-efca38bde149",
   "metadata": {},
   "outputs": [],
   "source": [
    "def data_format(coords):\n",
    "    data = {}\n",
    "    idx = 1\n",
    "\n",
    "    for i in coords:        \n",
    "        data[idx] = (i[0], i[1])\n",
    "        idx += 1\n",
    "\n",
    "    return data"
   ]
  },
  {
   "cell_type": "code",
   "execution_count": 4180,
   "id": "c170c00b-a2fd-4619-ab20-9e5e8bca1c4f",
   "metadata": {},
   "outputs": [
    {
     "data": {
      "text/plain": [
       "{1: (5.0, 63.0),\n",
       " 2: (26.0, 32.0),\n",
       " 3: (65.0, 14.0),\n",
       " 4: (67.0, 97.0),\n",
       " 5: (60.0, 54.0),\n",
       " 6: (21.0, 74.0),\n",
       " 7: (23.0, 45.0),\n",
       " 8: (22.0, 31.0),\n",
       " 9: (33.0, 6.0),\n",
       " 10: (90.0, 64.0)}"
      ]
     },
     "execution_count": 4180,
     "metadata": {},
     "output_type": "execute_result"
    }
   ],
   "source": [
    "data = data_format(customer_coords)\n",
    "data"
   ]
  },
  {
   "cell_type": "code",
   "execution_count": 4181,
   "id": "c8724d71-dd56-4c9f-9058-48e5fa5c4bbc",
   "metadata": {},
   "outputs": [],
   "source": [
    "def calculate_route_cost(loc1, loc2):\n",
    "     return math.sqrt((data[loc1][0] - data[loc2][0])**2 + (data[loc1][1] - data[loc1][1])**2)"
   ]
  },
  {
   "cell_type": "code",
   "execution_count": 4182,
   "id": "0bc618a8-2603-4a25-b54f-5579a8b2ad6c",
   "metadata": {},
   "outputs": [],
   "source": [
    "trail_data = {}\n",
    "distance_data = []\n",
    "ant_data = {}"
   ]
  },
  {
   "cell_type": "code",
   "execution_count": 4183,
   "id": "93d4fb8a-74f4-4a8b-bf05-b665655226c2",
   "metadata": {},
   "outputs": [],
   "source": [
    "def init_ants(coords_data, ants_count, ant_data):\n",
    "    init_nodes = random.choice(np.array(list(coords_data.keys())), ants_count, replace=False)\n",
    "    i = 1\n",
    "\n",
    "    for node in init_nodes:\n",
    "        ant_data[i] = {'start_node': node, 'destination_node': None, 'paths': []}\n",
    "        i += 1\n",
    "\n",
    "    return ant_data"
   ]
  },
  {
   "cell_type": "code",
   "execution_count": 4184,
   "id": "34cad885-4e62-4bec-9394-e50a1f5110a9",
   "metadata": {},
   "outputs": [
    {
     "data": {
      "text/plain": [
       "{1: {'start_node': 8, 'destination_node': None, 'paths': []},\n",
       " 2: {'start_node': 3, 'destination_node': None, 'paths': []},\n",
       " 3: {'start_node': 5, 'destination_node': None, 'paths': []},\n",
       " 4: {'start_node': 4, 'destination_node': None, 'paths': []},\n",
       " 5: {'start_node': 1, 'destination_node': None, 'paths': []},\n",
       " 6: {'start_node': 10, 'destination_node': None, 'paths': []},\n",
       " 7: {'start_node': 2, 'destination_node': None, 'paths': []},\n",
       " 8: {'start_node': 7, 'destination_node': None, 'paths': []},\n",
       " 9: {'start_node': 6, 'destination_node': None, 'paths': []},\n",
       " 10: {'start_node': 9, 'destination_node': None, 'paths': []}}"
      ]
     },
     "execution_count": 4184,
     "metadata": {},
     "output_type": "execute_result"
    }
   ],
   "source": [
    "init_ants(data, 10, ant_data)"
   ]
  },
  {
   "cell_type": "code",
   "execution_count": 4185,
   "id": "093fd3f6-4689-48e3-b574-6b5445f161b2",
   "metadata": {},
   "outputs": [],
   "source": [
    "def init_pheromone(coords_data, trail_data):\n",
    "    for data_row in coords_data.keys():\n",
    "        trail_row = []\n",
    "        for data_col in coords_data.keys():\n",
    "            if data_row == data_col:\n",
    "                trail_row.append(0)\n",
    "            else:\n",
    "                if data_col > data_row:\n",
    "                    trail_row.append(random.uniform(0, 1))\n",
    "                else:\n",
    "                    trail_row.append(trail_data[data_col][data_row - 1])\n",
    "        trail_data[data_row] = trail_row\n",
    "\n",
    "    return trail_data"
   ]
  },
  {
   "cell_type": "code",
   "execution_count": 4186,
   "id": "d12bd3ed-1dab-4fa0-8c9d-124bb162461b",
   "metadata": {},
   "outputs": [
    {
     "name": "stdout",
     "output_type": "stream",
     "text": [
      "{1: [0, 0.4267550142488078, 0.4756842384270994, 0.744796851811545, 0.1320867373046123, 0.5288751417876792, 0.801215709227461, 0.1437763962767401, 0.9022493738026737, 0.7393851029809394], 2: [0.4267550142488078, 0, 0.8712167243585783, 0.19961551203420125, 0.4082456263397535, 0.8259486972579743, 0.7539686687130761, 0.534976396659126, 0.0743361569887121, 0.6723268773510737], 3: [0.4756842384270994, 0.8712167243585783, 0, 0.8511670454824986, 0.9046942539765237, 0.7455121588883493, 0.4688745381420739, 0.24776341164093263, 0.5496239524916676, 0.11551374519280844], 4: [0.744796851811545, 0.19961551203420125, 0.8511670454824986, 0, 0.27601421502727885, 0.25593805259405666, 0.48520160246079624, 0.5449055009280812, 0.9407524029159373, 0.26096013917849425], 5: [0.1320867373046123, 0.4082456263397535, 0.9046942539765237, 0.27601421502727885, 0, 0.0035178668141196967, 0.23468025334188736, 0.07730381782239171, 0.11356075870488358, 0.15248320973992724], 6: [0.5288751417876792, 0.8259486972579743, 0.7455121588883493, 0.25593805259405666, 0.0035178668141196967, 0, 0.5833424363217613, 0.6569332308537034, 0.5018813965212657, 0.5897098631024131], 7: [0.801215709227461, 0.7539686687130761, 0.4688745381420739, 0.48520160246079624, 0.23468025334188736, 0.5833424363217613, 0, 0.5415578321714115, 0.05044690061968615, 0.3450223609208076], 8: [0.1437763962767401, 0.534976396659126, 0.24776341164093263, 0.5449055009280812, 0.07730381782239171, 0.6569332308537034, 0.5415578321714115, 0, 0.20199821452096234, 0.617494020883748], 9: [0.9022493738026737, 0.0743361569887121, 0.5496239524916676, 0.9407524029159373, 0.11356075870488358, 0.5018813965212657, 0.05044690061968615, 0.20199821452096234, 0, 0.5226491870748845], 10: [0.7393851029809394, 0.6723268773510737, 0.11551374519280844, 0.26096013917849425, 0.15248320973992724, 0.5897098631024131, 0.3450223609208076, 0.617494020883748, 0.5226491870748845, 0]}\n"
     ]
    }
   ],
   "source": [
    "init_pheromone(data, trail_data)\n",
    "print(trail_data)"
   ]
  },
  {
   "cell_type": "code",
   "execution_count": 4187,
   "id": "952fa288-2c24-4860-9e11-9771d91fb102",
   "metadata": {},
   "outputs": [],
   "source": [
    "def calculate_route_costs(coords_data, distance_data):\n",
    "    for data_row in coords_data.keys():\n",
    "        distance_row = []\n",
    "        for data_col in coords_data.keys():\n",
    "            if data_row != data_col:\n",
    "                distance_row.append(calculate_route_cost(data_row, data_col))\n",
    "            else:\n",
    "                distance_row.append(0)\n",
    "        distance_data.append(distance_row)\n",
    "\n",
    "    return distance_data"
   ]
  },
  {
   "cell_type": "code",
   "execution_count": 4188,
   "id": "ae6366be-28dc-4a7d-baae-2bbfa2135d6f",
   "metadata": {},
   "outputs": [
    {
     "data": {
      "text/plain": [
       "[[0, 21.0, 60.0, 62.0, 55.0, 16.0, 18.0, 17.0, 28.0, 85.0],\n",
       " [21.0, 0, 39.0, 41.0, 34.0, 5.0, 3.0, 4.0, 7.0, 64.0],\n",
       " [60.0, 39.0, 0, 2.0, 5.0, 44.0, 42.0, 43.0, 32.0, 25.0],\n",
       " [62.0, 41.0, 2.0, 0, 7.0, 46.0, 44.0, 45.0, 34.0, 23.0],\n",
       " [55.0, 34.0, 5.0, 7.0, 0, 39.0, 37.0, 38.0, 27.0, 30.0],\n",
       " [16.0, 5.0, 44.0, 46.0, 39.0, 0, 2.0, 1.0, 12.0, 69.0],\n",
       " [18.0, 3.0, 42.0, 44.0, 37.0, 2.0, 0, 1.0, 10.0, 67.0],\n",
       " [17.0, 4.0, 43.0, 45.0, 38.0, 1.0, 1.0, 0, 11.0, 68.0],\n",
       " [28.0, 7.0, 32.0, 34.0, 27.0, 12.0, 10.0, 11.0, 0, 57.0],\n",
       " [85.0, 64.0, 25.0, 23.0, 30.0, 69.0, 67.0, 68.0, 57.0, 0]]"
      ]
     },
     "execution_count": 4188,
     "metadata": {},
     "output_type": "execute_result"
    }
   ],
   "source": [
    "distance_data = calculate_route_costs(data, distance_data)\n",
    "distance_data"
   ]
  },
  {
   "cell_type": "code",
   "execution_count": 4189,
   "id": "25ebe2c2-2f12-49cf-8e4f-aebc986dc9b1",
   "metadata": {},
   "outputs": [],
   "source": [
    "def traverse_nodes(ant_data, destination_node, coords_data, distance_data, trail_data, alpha = 0.6):\n",
    "    for ant in ant_data.keys():\n",
    "        ant_data[ant]['destination_node'] = destination_node\n",
    "\n",
    "    for ant in ant_data.keys():\n",
    "        current_node = ant_data[ant]['start_node']\n",
    "        ant_data[ant]['paths'].append({'path': [current_node], 'cost': 0})\n",
    "        # if the current path is not destination node\n",
    "        while current_node != ant_data[ant]['destination_node']:\n",
    "            # loop through all nodes and calculate sum of probabilities\n",
    "            sum_of_probabilities = 0\n",
    "            for node in coords_data.keys():\n",
    "                if node != current_node:\n",
    "                    sum_of_probabilities += (trail_data[current_node][node - 1] * alpha) + \\\n",
    "                    ((1 - alpha) * (1 / distance_data[current_node - 1][node - 1]))\n",
    "            path_probabilities = [(None, 0)]\n",
    "            # loop through all nodes and calculate probabilities\n",
    "            for node in coords_data.keys():\n",
    "                # dont calculate probability of visiting itself\n",
    "                if node != current_node:\n",
    "                    probability = ((trail_data[current_node][node - 1] * alpha) + \\\n",
    "                    ((1 - alpha) * (1 / distance_data[current_node - 1][node - 1]))) \\\n",
    "                    / sum_of_probabilities\n",
    "                    # do a cummulative probability that will be used to determine next path based\n",
    "                    path_probabilities.append((node, path_probabilities[-1][1] + probability))\n",
    "            rand_selector = random.uniform(0, 1)\n",
    "            for idx, path in enumerate(path_probabilities):\n",
    "                if rand_selector > path_probabilities[idx][1] and rand_selector < path_probabilities[idx + 1][1]:\n",
    "                    current_node = path_probabilities[idx + 1][0]\n",
    "                    ant_data[ant]['paths'][-1]['path'].append(current_node)\n",
    "                    break\n",
    "                 \n",
    "    return\n",
    "                "
   ]
  },
  {
   "cell_type": "code",
   "execution_count": 4190,
   "id": "6fabe195-d90c-4567-854f-5b04d597bb08",
   "metadata": {},
   "outputs": [
    {
     "name": "stdout",
     "output_type": "stream",
     "text": [
      "{1: {'start_node': 8, 'destination_node': 10, 'paths': [{'path': [8, 7, 8, 6, 8, 6, 9, 7, 6, 9, 1, 7, 6, 9, 6, 2, 1, 4, 7, 9, 3, 9, 1, 9, 7, 4, 7, 10], 'cost': 0}]}, 2: {'start_node': 3, 'destination_node': 10, 'paths': [{'path': [3, 5, 1, 7, 5, 2, 4, 3, 2, 3, 5, 9, 1, 10], 'cost': 0}]}, 3: {'start_node': 5, 'destination_node': 10, 'paths': [{'path': [5, 3, 2, 3, 4, 3, 4, 1, 4, 9, 4, 3, 4, 3, 8, 6, 2, 8, 6, 4, 7, 6, 8, 9, 5, 3, 7, 6, 3, 9, 4, 3, 4, 6, 10], 'cost': 0}]}, 4: {'start_node': 4, 'destination_node': 10, 'paths': [{'path': [4, 9, 8, 10], 'cost': 0}]}, 5: {'start_node': 1, 'destination_node': 10, 'paths': [{'path': [1, 7, 8, 7, 9, 1, 9, 4, 2, 1, 7, 2, 7, 6, 8, 6, 2, 7, 8, 10], 'cost': 0}]}, 6: {'start_node': 10, 'destination_node': 10, 'paths': [{'path': [10], 'cost': 0}]}, 7: {'start_node': 2, 'destination_node': 10, 'paths': [{'path': [2, 1, 10], 'cost': 0}]}, 8: {'start_node': 7, 'destination_node': 10, 'paths': [{'path': [7, 1, 7, 3, 5, 3, 7, 6, 7, 3, 6, 7, 2, 7, 6, 7, 8, 2, 6, 2, 4, 1, 6, 2, 6, 3, 7, 6, 8, 4, 3, 1, 4, 1, 7, 5, 7, 1, 3, 7, 8, 5, 3, 2, 3, 10], 'cost': 0}]}, 9: {'start_node': 6, 'destination_node': 10, 'paths': [{'path': [6, 10], 'cost': 0}]}, 10: {'start_node': 9, 'destination_node': 10, 'paths': [{'path': [9, 4, 3, 4, 9, 4, 7, 8, 6, 4, 3, 5, 2, 3, 9, 1, 9, 8, 6, 3, 8, 3, 10], 'cost': 0}]}}\n"
     ]
    }
   ],
   "source": [
    "traverse_nodes(ant_data, 10, data, distance_data, trail_data)\n",
    "print(ant_data)"
   ]
  },
  {
   "cell_type": "code",
   "execution_count": 4191,
   "id": "109cf846-d7e5-49de-bd75-c8e514d34a81",
   "metadata": {},
   "outputs": [],
   "source": [
    "def remove_path_loops(ant_data):\n",
    "    for ant, data in ant_data.items():\n",
    "        latest_path = data['paths'][-1]['path']\n",
    "        modified = True\n",
    "\n",
    "        while modified:\n",
    "            modified = False\n",
    "            for idx in range(len(latest_path)):\n",
    "                last_idx = len(latest_path) - 1\n",
    "                while idx < last_idx:\n",
    "                    if latest_path[idx] == latest_path[last_idx]:\n",
    "                        latest_path = latest_path[:idx] + latest_path[last_idx:]\n",
    "                        modified = True\n",
    "                        break\n",
    "                    last_idx -= 1\n",
    "                if modified:\n",
    "                    break \n",
    "        ant_data[ant]['paths'][-1]['path'] = latest_path\n",
    "\n",
    "    return"
   ]
  },
  {
   "cell_type": "code",
   "execution_count": 4192,
   "id": "187aa898-77c3-40fb-8160-a9bd6db19e3c",
   "metadata": {},
   "outputs": [],
   "source": [
    "remove_path_loops(ant_data)"
   ]
  },
  {
   "cell_type": "code",
   "execution_count": 4193,
   "id": "1311d8dd-e1b6-4dce-97a0-a30872a9a37a",
   "metadata": {},
   "outputs": [
    {
     "data": {
      "text/plain": [
       "{1: {'start_node': 8,\n",
       "  'destination_node': 10,\n",
       "  'paths': [{'path': [8, 6, 2, 1, 9, 7, 10], 'cost': 0}]},\n",
       " 2: {'start_node': 3,\n",
       "  'destination_node': 10,\n",
       "  'paths': [{'path': [3, 5, 9, 1, 10], 'cost': 0}]},\n",
       " 3: {'start_node': 5,\n",
       "  'destination_node': 10,\n",
       "  'paths': [{'path': [5, 3, 4, 6, 10], 'cost': 0}]},\n",
       " 4: {'start_node': 4,\n",
       "  'destination_node': 10,\n",
       "  'paths': [{'path': [4, 9, 8, 10], 'cost': 0}]},\n",
       " 5: {'start_node': 1,\n",
       "  'destination_node': 10,\n",
       "  'paths': [{'path': [1, 7, 8, 10], 'cost': 0}]},\n",
       " 6: {'start_node': 10,\n",
       "  'destination_node': 10,\n",
       "  'paths': [{'path': [10], 'cost': 0}]},\n",
       " 7: {'start_node': 2,\n",
       "  'destination_node': 10,\n",
       "  'paths': [{'path': [2, 1, 10], 'cost': 0}]},\n",
       " 8: {'start_node': 7,\n",
       "  'destination_node': 10,\n",
       "  'paths': [{'path': [7, 8, 5, 3, 10], 'cost': 0}]},\n",
       " 9: {'start_node': 6,\n",
       "  'destination_node': 10,\n",
       "  'paths': [{'path': [6, 10], 'cost': 0}]},\n",
       " 10: {'start_node': 9,\n",
       "  'destination_node': 10,\n",
       "  'paths': [{'path': [9, 8, 3, 10], 'cost': 0}]}}"
      ]
     },
     "execution_count": 4193,
     "metadata": {},
     "output_type": "execute_result"
    }
   ],
   "source": [
    "ant_data"
   ]
  },
  {
   "cell_type": "code",
   "execution_count": 4194,
   "id": "d765dcda-50f7-47db-9cd4-b276617101cc",
   "metadata": {},
   "outputs": [],
   "source": [
    "def calculate_path_total_cost(ant_data, distance_data):\n",
    "    for ant, data in ant_data.items():\n",
    "        latest_path = data['paths'][-1]['path']\n",
    "        path_cost = data['paths'][-1]['cost']\n",
    "        if len(latest_path) > 1:\n",
    "            for idx in range(len(latest_path) - 1):\n",
    "                path_cost += distance_data[latest_path[idx] - 1][latest_path[idx + 1] - 1]\n",
    "            ant_data[ant]['paths'][-1]['cost'] = path_cost    \n",
    "\n",
    "    return"
   ]
  },
  {
   "cell_type": "code",
   "execution_count": 4195,
   "id": "367b439f-a5a2-47dd-99a8-bc13e0b80c94",
   "metadata": {},
   "outputs": [],
   "source": [
    "calculate_path_total_cost(ant_data, distance_data)"
   ]
  },
  {
   "cell_type": "code",
   "execution_count": 4196,
   "id": "cb16c0bb-b106-42a0-b45f-1cfa5c0b2d9f",
   "metadata": {},
   "outputs": [
    {
     "data": {
      "text/plain": [
       "{1: {'start_node': 8,\n",
       "  'destination_node': 10,\n",
       "  'paths': [{'path': [8, 6, 2, 1, 9, 7, 10], 'cost': 132.0}]},\n",
       " 2: {'start_node': 3,\n",
       "  'destination_node': 10,\n",
       "  'paths': [{'path': [3, 5, 9, 1, 10], 'cost': 145.0}]},\n",
       " 3: {'start_node': 5,\n",
       "  'destination_node': 10,\n",
       "  'paths': [{'path': [5, 3, 4, 6, 10], 'cost': 122.0}]},\n",
       " 4: {'start_node': 4,\n",
       "  'destination_node': 10,\n",
       "  'paths': [{'path': [4, 9, 8, 10], 'cost': 113.0}]},\n",
       " 5: {'start_node': 1,\n",
       "  'destination_node': 10,\n",
       "  'paths': [{'path': [1, 7, 8, 10], 'cost': 87.0}]},\n",
       " 6: {'start_node': 10,\n",
       "  'destination_node': 10,\n",
       "  'paths': [{'path': [10], 'cost': 0}]},\n",
       " 7: {'start_node': 2,\n",
       "  'destination_node': 10,\n",
       "  'paths': [{'path': [2, 1, 10], 'cost': 106.0}]},\n",
       " 8: {'start_node': 7,\n",
       "  'destination_node': 10,\n",
       "  'paths': [{'path': [7, 8, 5, 3, 10], 'cost': 69.0}]},\n",
       " 9: {'start_node': 6,\n",
       "  'destination_node': 10,\n",
       "  'paths': [{'path': [6, 10], 'cost': 69.0}]},\n",
       " 10: {'start_node': 9,\n",
       "  'destination_node': 10,\n",
       "  'paths': [{'path': [9, 8, 3, 10], 'cost': 79.0}]}}"
      ]
     },
     "execution_count": 4196,
     "metadata": {},
     "output_type": "execute_result"
    }
   ],
   "source": [
    "ant_data"
   ]
  },
  {
   "cell_type": "code",
   "execution_count": 4197,
   "id": "1d2b5f65-beae-4bc5-8d0e-bc97f3270009",
   "metadata": {},
   "outputs": [],
   "source": [
    "def negative_feedback(evaporation_rate, trail_data):\n",
    "    for node, pheromone_data in trail_data.items():\n",
    "        for idx, pheromone in enumerate(pheromone_data):\n",
    "            trail_data[node][idx] = (1 - evaporation_rate) * pheromone\n",
    "\n",
    "    return"
   ]
  },
  {
   "cell_type": "code",
   "execution_count": 4198,
   "id": "5bd6be43-08d5-41b7-a80b-9a262611983f",
   "metadata": {},
   "outputs": [
    {
     "name": "stdout",
     "output_type": "stream",
     "text": [
      "{1: [0, 0.4267550142488078, 0.4756842384270994, 0.744796851811545, 0.1320867373046123, 0.5288751417876792, 0.801215709227461, 0.1437763962767401, 0.9022493738026737, 0.7393851029809394], 2: [0.4267550142488078, 0, 0.8712167243585783, 0.19961551203420125, 0.4082456263397535, 0.8259486972579743, 0.7539686687130761, 0.534976396659126, 0.0743361569887121, 0.6723268773510737], 3: [0.4756842384270994, 0.8712167243585783, 0, 0.8511670454824986, 0.9046942539765237, 0.7455121588883493, 0.4688745381420739, 0.24776341164093263, 0.5496239524916676, 0.11551374519280844], 4: [0.744796851811545, 0.19961551203420125, 0.8511670454824986, 0, 0.27601421502727885, 0.25593805259405666, 0.48520160246079624, 0.5449055009280812, 0.9407524029159373, 0.26096013917849425], 5: [0.1320867373046123, 0.4082456263397535, 0.9046942539765237, 0.27601421502727885, 0, 0.0035178668141196967, 0.23468025334188736, 0.07730381782239171, 0.11356075870488358, 0.15248320973992724], 6: [0.5288751417876792, 0.8259486972579743, 0.7455121588883493, 0.25593805259405666, 0.0035178668141196967, 0, 0.5833424363217613, 0.6569332308537034, 0.5018813965212657, 0.5897098631024131], 7: [0.801215709227461, 0.7539686687130761, 0.4688745381420739, 0.48520160246079624, 0.23468025334188736, 0.5833424363217613, 0, 0.5415578321714115, 0.05044690061968615, 0.3450223609208076], 8: [0.1437763962767401, 0.534976396659126, 0.24776341164093263, 0.5449055009280812, 0.07730381782239171, 0.6569332308537034, 0.5415578321714115, 0, 0.20199821452096234, 0.617494020883748], 9: [0.9022493738026737, 0.0743361569887121, 0.5496239524916676, 0.9407524029159373, 0.11356075870488358, 0.5018813965212657, 0.05044690061968615, 0.20199821452096234, 0, 0.5226491870748845], 10: [0.7393851029809394, 0.6723268773510737, 0.11551374519280844, 0.26096013917849425, 0.15248320973992724, 0.5897098631024131, 0.3450223609208076, 0.617494020883748, 0.5226491870748845, 0]}\n"
     ]
    }
   ],
   "source": [
    "print(trail_data)"
   ]
  },
  {
   "cell_type": "code",
   "execution_count": 4199,
   "id": "93dfb4ff-7cfb-478d-98a8-0605cc854805",
   "metadata": {},
   "outputs": [],
   "source": [
    "negative_feedback(0.45, trail_data)"
   ]
  },
  {
   "cell_type": "code",
   "execution_count": 4200,
   "id": "9efd5bc5-5178-45bb-b927-b496a1b1705c",
   "metadata": {},
   "outputs": [
    {
     "name": "stdout",
     "output_type": "stream",
     "text": [
      "{1: [0.0, 0.2347152578368443, 0.2616263311349047, 0.40963826849634977, 0.07264770551753677, 0.29088132798322364, 0.4406686400751036, 0.07907701795220706, 0.4962371555914706, 0.4066618066395167], 2: [0.2347152578368443, 0.0, 0.4791691983972181, 0.10978853161881069, 0.22453509448686443, 0.4542717834918859, 0.4146827677921919, 0.29423701816251935, 0.04088488634379166, 0.3697797825430905], 3: [0.2616263311349047, 0.4791691983972181, 0.0, 0.46814187501537424, 0.4975818396870881, 0.41003168738859214, 0.2578809959781407, 0.13626987640251295, 0.3022931738704172, 0.06353255985604464], 4: [0.40963826849634977, 0.10978853161881069, 0.46814187501537424, 0.0, 0.1518078182650034, 0.14076592892673118, 0.26686088135343794, 0.29969802551044467, 0.5174138216037656, 0.14352807654817185], 5: [0.07264770551753677, 0.22453509448686443, 0.4975818396870881, 0.1518078182650034, 0.0, 0.0019348267477658334, 0.12907413933803805, 0.04251709980231544, 0.062458417287685974, 0.08386576535695998], 6: [0.29088132798322364, 0.4542717834918859, 0.41003168738859214, 0.14076592892673118, 0.0019348267477658334, 0.0, 0.32083833997696876, 0.36131327696953686, 0.2760347680866962, 0.32434042470632723], 7: [0.4406686400751036, 0.4146827677921919, 0.2578809959781407, 0.26686088135343794, 0.12907413933803805, 0.32083833997696876, 0.0, 0.29785680769427636, 0.027745795340827387, 0.18976229850644422], 8: [0.07907701795220706, 0.29423701816251935, 0.13626987640251295, 0.29969802551044467, 0.04251709980231544, 0.36131327696953686, 0.29785680769427636, 0.0, 0.1110990179865293, 0.33962171148606146], 9: [0.4962371555914706, 0.04088488634379166, 0.3022931738704172, 0.5174138216037656, 0.062458417287685974, 0.2760347680866962, 0.027745795340827387, 0.1110990179865293, 0.0, 0.2874570528911865], 10: [0.4066618066395167, 0.3697797825430905, 0.06353255985604464, 0.14352807654817185, 0.08386576535695998, 0.32434042470632723, 0.18976229850644422, 0.33962171148606146, 0.2874570528911865, 0.0]}\n"
     ]
    }
   ],
   "source": [
    "print(trail_data)"
   ]
  },
  {
   "cell_type": "code",
   "execution_count": 4201,
   "id": "f8140b4c-e9fd-4128-8db5-e6af8acdf8e5",
   "metadata": {},
   "outputs": [],
   "source": [
    "def positive_feedback(Q, ant_data, trail_data):\n",
    "    for ant, data in ant_data.items():\n",
    "        latest_path = data['paths'][-1]['path']\n",
    "\n",
    "        if len(latest_path) > 1:\n",
    "            for idx in range(len(latest_path) - 1):\n",
    "                # increase pheromone for path in both directions [a -> b] == [b -> a]\n",
    "                trail_data[latest_path[idx]][latest_path[idx + 1] - 1] += Q / distance_data[latest_path[idx] - 1][latest_path[idx + 1] - 1]\n",
    "                trail_data[latest_path[idx + 1]][latest_path[idx] - 1] += Q / distance_data[latest_path[idx] - 1][latest_path[idx + 1] - 1]\n",
    "\n",
    "    return"
   ]
  },
  {
   "cell_type": "code",
   "execution_count": 4202,
   "id": "2f18fae4-406b-48d7-9765-b2e91ed68f7b",
   "metadata": {},
   "outputs": [],
   "source": [
    "positive_feedback(1, ant_data, trail_data)"
   ]
  },
  {
   "cell_type": "code",
   "execution_count": 4203,
   "id": "12ab8273-c774-492e-8113-9b9e812c1912",
   "metadata": {},
   "outputs": [
    {
     "name": "stdout",
     "output_type": "stream",
     "text": [
      "{1: [0.0, 0.3299533530749395, 0.2616263311349047, 0.40963826849634977, 0.07264770551753677, 0.29088132798322364, 0.4962241956306591, 0.07907701795220706, 0.567665727020042, 0.4301912184042226], 2: [0.3299533530749395, 0.0, 0.4791691983972181, 0.10978853161881069, 0.22453509448686443, 0.6542717834918859, 0.4146827677921919, 0.29423701816251935, 0.04088488634379166, 0.3697797825430905], 3: [0.2616263311349047, 0.4791691983972181, 0.0, 0.9681418750153743, 1.097581839687088, 0.41003168738859214, 0.2578809959781407, 0.15952569035600134, 0.3022931738704172, 0.14353255985604466], 4: [0.40963826849634977, 0.10978853161881069, 0.9681418750153743, 0.0, 0.1518078182650034, 0.16250505936151377, 0.26686088135343794, 0.29969802551044467, 0.546825586309648, 0.14352807654817185], 5: [0.07264770551753677, 0.22453509448686443, 1.097581839687088, 0.1518078182650034, 0.0, 0.0019348267477658334, 0.12907413933803805, 0.06883288927599965, 0.09949545432472301, 0.08386576535695998], 6: [0.29088132798322364, 0.6542717834918859, 0.41003168738859214, 0.16250505936151377, 0.0019348267477658334, 0.0, 0.32083833997696876, 1.3613132769695369, 0.2760347680866962, 0.35332593195270406], 7: [0.4962241956306591, 0.4146827677921919, 0.2578809959781407, 0.26686088135343794, 0.12907413933803805, 0.32083833997696876, 0.0, 2.2978568076942762, 0.1277457953408274, 0.20468767164077256], 8: [0.07907701795220706, 0.29423701816251935, 0.15952569035600134, 0.29969802551044467, 0.06883288927599965, 1.3613132769695369, 2.2978568076942762, 0.0, 0.2929171998047111, 0.3690334761919438], 9: [0.567665727020042, 0.04088488634379166, 0.3022931738704172, 0.546825586309648, 0.09949545432472301, 0.2760347680866962, 0.1277457953408274, 0.2929171998047111, 0.0, 0.2874570528911865], 10: [0.4301912184042226, 0.3697797825430905, 0.14353255985604466, 0.14352807654817185, 0.08386576535695998, 0.35332593195270406, 0.20468767164077256, 0.3690334761919438, 0.2874570528911865, 0.0]}\n"
     ]
    }
   ],
   "source": [
    "print(trail_data)"
   ]
  },
  {
   "cell_type": "code",
   "execution_count": 4204,
   "id": "c9a4d0cd-6a60-43cc-b890-a2b280ea05a0",
   "metadata": {},
   "outputs": [],
   "source": [
    "def ant_colony_optimization(coords, Q=1, evaporate=0.45, dest_node=10, ants_count=10, max_iterations=20):\n",
    "    data = data_format(coords)\n",
    "    trail_data = {}\n",
    "    distance_data = []\n",
    "    ant_data = {}\n",
    "    init_ants(data, ants_count, ant_data)\n",
    "    init_pheromone(data, trail_data)\n",
    "    distance_data = calculate_route_costs(data, distance_data)\n",
    "    for i in range(max_iterations):\n",
    "        traverse_nodes(ant_data, dest_node, data, distance_data, trail_data)\n",
    "        remove_path_loops(ant_data)\n",
    "        calculate_path_total_cost(ant_data, distance_data)\n",
    "        negative_feedback(evaporate, trail_data)\n",
    "        positive_feedback(Q, ant_data, trail_data)\n",
    "    for ant, data in ant_data.items():\n",
    "        print(\"ant {}: ({})\".format(ant, data))\n",
    "        print(\"--------------------------------------------------------\")"
   ]
  },
  {
   "cell_type": "code",
   "execution_count": 4205,
   "id": "5005fdd4-e98e-4492-a155-36f86f54b2ba",
   "metadata": {},
   "outputs": [
    {
     "name": "stdout",
     "output_type": "stream",
     "text": [
      "ant 1: ({'start_node': 3, 'destination_node': 10, 'paths': [{'path': [3, 10], 'cost': 25.0}, {'path': [3, 10], 'cost': 25.0}, {'path': [3, 4, 8, 7, 10], 'cost': 115.0}, {'path': [3, 4, 6, 8, 7, 2, 1, 10], 'cost': 159.0}, {'path': [3, 2, 7, 9, 10], 'cost': 109.0}, {'path': [3, 4, 1, 6, 8, 7, 10], 'cost': 149.0}, {'path': [3, 1, 10], 'cost': 145.0}, {'path': [3, 7, 2, 6, 1, 9, 10], 'cost': 151.0}, {'path': [3, 10], 'cost': 25.0}, {'path': [3, 10], 'cost': 25.0}, {'path': [3, 10], 'cost': 25.0}, {'path': [3, 4, 10], 'cost': 25.0}, {'path': [3, 8, 7, 2, 10], 'cost': 111.0}, {'path': [3, 1, 10], 'cost': 145.0}, {'path': [3, 8, 2, 9, 10], 'cost': 111.0}, {'path': [3, 4, 10], 'cost': 25.0}, {'path': [3, 4, 10], 'cost': 25.0}, {'path': [3, 10], 'cost': 25.0}, {'path': [3, 10], 'cost': 25.0}, {'path': [3, 4, 10], 'cost': 25.0}]})\n",
      "--------------------------------------------------------\n",
      "ant 2: ({'start_node': 5, 'destination_node': 10, 'paths': [{'path': [5, 8, 2, 7, 1, 9, 3, 10], 'cost': 148.0}, {'path': [5, 1, 3, 4, 10], 'cost': 140.0}, {'path': [5, 7, 8, 6, 2, 10], 'cost': 108.0}, {'path': [5, 1, 9, 3, 4, 10], 'cost': 140.0}, {'path': [5, 4, 3, 1, 8, 6, 10], 'cost': 156.0}, {'path': [5, 4, 3, 10], 'cost': 34.0}, {'path': [5, 7, 10], 'cost': 104.0}, {'path': [5, 7, 10], 'cost': 104.0}, {'path': [5, 3, 10], 'cost': 30.0}, {'path': [5, 7, 2, 9, 1, 10], 'cost': 160.0}, {'path': [5, 4, 3, 10], 'cost': 34.0}, {'path': [5, 3, 7, 10], 'cost': 114.0}, {'path': [5, 3, 10], 'cost': 30.0}, {'path': [5, 3, 4, 7, 2, 10], 'cost': 118.0}, {'path': [5, 3, 10], 'cost': 30.0}, {'path': [5, 1, 4, 10], 'cost': 140.0}, {'path': [5, 3, 4, 10], 'cost': 30.0}, {'path': [5, 10], 'cost': 30.0}, {'path': [5, 3, 10], 'cost': 30.0}, {'path': [5, 3, 10], 'cost': 30.0}]})\n",
      "--------------------------------------------------------\n",
      "ant 3: ({'start_node': 8, 'destination_node': 10, 'paths': [{'path': [8, 6, 4, 10], 'cost': 70.0}, {'path': [8, 6, 9, 2, 10], 'cost': 84.0}, {'path': [8, 10], 'cost': 68.0}, {'path': [8, 7, 10], 'cost': 68.0}, {'path': [8, 10], 'cost': 68.0}, {'path': [8, 1, 3, 10], 'cost': 102.0}, {'path': [8, 7, 10], 'cost': 68.0}, {'path': [8, 6, 10], 'cost': 70.0}, {'path': [8, 6, 5, 10], 'cost': 70.0}, {'path': [8, 7, 2, 10], 'cost': 68.0}, {'path': [8, 6, 1, 10], 'cost': 102.0}, {'path': [8, 6, 7, 10], 'cost': 70.0}, {'path': [8, 2, 9, 10], 'cost': 68.0}, {'path': [8, 7, 3, 5, 10], 'cost': 78.0}, {'path': [8, 6, 1, 10], 'cost': 102.0}, {'path': [8, 2, 3, 10], 'cost': 68.0}, {'path': [8, 9, 10], 'cost': 68.0}, {'path': [8, 6, 1, 10], 'cost': 102.0}, {'path': [8, 7, 2, 9, 1, 4, 3, 10], 'cost': 128.0}, {'path': [8, 7, 2, 4, 10], 'cost': 68.0}]})\n",
      "--------------------------------------------------------\n",
      "ant 4: ({'start_node': 10, 'destination_node': 10, 'paths': [{'path': [10], 'cost': 0}, {'path': [10], 'cost': 0}, {'path': [10], 'cost': 0}, {'path': [10], 'cost': 0}, {'path': [10], 'cost': 0}, {'path': [10], 'cost': 0}, {'path': [10], 'cost': 0}, {'path': [10], 'cost': 0}, {'path': [10], 'cost': 0}, {'path': [10], 'cost': 0}, {'path': [10], 'cost': 0}, {'path': [10], 'cost': 0}, {'path': [10], 'cost': 0}, {'path': [10], 'cost': 0}, {'path': [10], 'cost': 0}, {'path': [10], 'cost': 0}, {'path': [10], 'cost': 0}, {'path': [10], 'cost': 0}, {'path': [10], 'cost': 0}, {'path': [10], 'cost': 0}]})\n",
      "--------------------------------------------------------\n",
      "ant 5: ({'start_node': 2, 'destination_node': 10, 'paths': [{'path': [2, 1, 4, 10], 'cost': 106.0}, {'path': [2, 10], 'cost': 64.0}, {'path': [2, 8, 6, 10], 'cost': 74.0}, {'path': [2, 6, 5, 7, 8, 10], 'cost': 150.0}, {'path': [2, 7, 8, 4, 10], 'cost': 72.0}, {'path': [2, 7, 8, 10], 'cost': 72.0}, {'path': [2, 8, 6, 10], 'cost': 74.0}, {'path': [2, 7, 8, 6, 10], 'cost': 74.0}, {'path': [2, 7, 10], 'cost': 70.0}, {'path': [2, 6, 7, 3, 10], 'cost': 74.0}, {'path': [2, 10], 'cost': 64.0}, {'path': [2, 7, 3, 10], 'cost': 70.0}, {'path': [2, 7, 10], 'cost': 70.0}, {'path': [2, 8, 5, 3, 10], 'cost': 72.0}, {'path': [2, 7, 5, 3, 10], 'cost': 70.0}, {'path': [2, 3, 5, 4, 10], 'cost': 74.0}, {'path': [2, 9, 5, 3, 10], 'cost': 64.0}, {'path': [2, 4, 3, 10], 'cost': 68.0}, {'path': [2, 3, 4, 10], 'cost': 64.0}, {'path': [2, 9, 7, 4, 3, 5, 10], 'cost': 98.0}]})\n",
      "--------------------------------------------------------\n",
      "ant 6: ({'start_node': 1, 'destination_node': 10, 'paths': [{'path': [1, 7, 8, 10], 'cost': 87.0}, {'path': [1, 9, 10], 'cost': 85.0}, {'path': [1, 3, 9, 10], 'cost': 149.0}, {'path': [1, 4, 3, 10], 'cost': 89.0}, {'path': [1, 10], 'cost': 85.0}, {'path': [1, 8, 3, 10], 'cost': 85.0}, {'path': [1, 2, 10], 'cost': 85.0}, {'path': [1, 3, 10], 'cost': 85.0}, {'path': [1, 6, 8, 7, 10], 'cost': 85.0}, {'path': [1, 9, 3, 4, 10], 'cost': 85.0}, {'path': [1, 10], 'cost': 85.0}, {'path': [1, 2, 10], 'cost': 85.0}, {'path': [1, 5, 3, 10], 'cost': 85.0}, {'path': [1, 6, 7, 2, 10], 'cost': 85.0}, {'path': [1, 6, 7, 5, 3, 10], 'cost': 85.0}, {'path': [1, 5, 3, 10], 'cost': 85.0}, {'path': [1, 6, 8, 5, 4, 3, 10], 'cost': 89.0}, {'path': [1, 9, 2, 7, 5, 3, 10], 'cost': 105.0}, {'path': [1, 4, 3, 5, 10], 'cost': 99.0}, {'path': [1, 7, 2, 3, 10], 'cost': 85.0}]})\n",
      "--------------------------------------------------------\n",
      "ant 7: ({'start_node': 7, 'destination_node': 10, 'paths': [{'path': [7, 8, 9, 10], 'cost': 69.0}, {'path': [7, 4, 6, 10], 'cost': 159.0}, {'path': [7, 10], 'cost': 67.0}, {'path': [7, 8, 4, 3, 10], 'cost': 73.0}, {'path': [7, 6, 10], 'cost': 71.0}, {'path': [7, 8, 1, 3, 10], 'cost': 103.0}, {'path': [7, 2, 9, 3, 10], 'cost': 67.0}, {'path': [7, 8, 2, 6, 4, 3, 10], 'cost': 83.0}, {'path': [7, 2, 10], 'cost': 67.0}, {'path': [7, 8, 6, 4, 3, 10], 'cost': 75.0}, {'path': [7, 10], 'cost': 67.0}, {'path': [7, 6, 4, 3, 10], 'cost': 75.0}, {'path': [7, 3, 10], 'cost': 67.0}, {'path': [7, 2, 10], 'cost': 67.0}, {'path': [7, 8, 6, 9, 4, 10], 'cost': 71.0}, {'path': [7, 2, 9, 4, 10], 'cost': 67.0}, {'path': [7, 8, 6, 1, 4, 10], 'cost': 103.0}, {'path': [7, 8, 5, 3, 10], 'cost': 69.0}, {'path': [7, 8, 6, 9, 4, 3, 5, 10], 'cost': 85.0}, {'path': [7, 2, 9, 3, 4, 10], 'cost': 67.0}]})\n",
      "--------------------------------------------------------\n",
      "ant 8: ({'start_node': 4, 'destination_node': 10, 'paths': [{'path': [4, 3, 10], 'cost': 27.0}, {'path': [4, 9, 2, 1, 10], 'cost': 147.0}, {'path': [4, 3, 10], 'cost': 27.0}, {'path': [4, 3, 10], 'cost': 27.0}, {'path': [4, 8, 10], 'cost': 113.0}, {'path': [4, 8, 2, 1, 10], 'cost': 155.0}, {'path': [4, 3, 2, 9, 10], 'cost': 105.0}, {'path': [4, 6, 8, 2, 10], 'cost': 115.0}, {'path': [4, 3, 10], 'cost': 27.0}, {'path': [4, 3, 10], 'cost': 27.0}, {'path': [4, 3, 10], 'cost': 27.0}, {'path': [4, 3, 10], 'cost': 27.0}, {'path': [4, 3, 10], 'cost': 27.0}, {'path': [4, 10], 'cost': 23.0}, {'path': [4, 5, 9, 2, 10], 'cost': 105.0}, {'path': [4, 3, 10], 'cost': 27.0}, {'path': [4, 3, 10], 'cost': 27.0}, {'path': [4, 3, 10], 'cost': 27.0}, {'path': [4, 10], 'cost': 23.0}, {'path': [4, 10], 'cost': 23.0}]})\n",
      "--------------------------------------------------------\n",
      "ant 9: ({'start_node': 9, 'destination_node': 10, 'paths': [{'path': [9, 2, 10], 'cost': 71.0}, {'path': [9, 8, 6, 7, 10], 'cost': 81.0}, {'path': [9, 4, 3, 10], 'cost': 61.0}, {'path': [9, 8, 2, 10], 'cost': 79.0}, {'path': [9, 1, 7, 5, 6, 8, 4, 3, 10], 'cost': 195.0}, {'path': [9, 3, 10], 'cost': 57.0}, {'path': [9, 1, 2, 8, 6, 3, 10], 'cost': 123.0}, {'path': [9, 8, 2, 3, 10], 'cost': 79.0}, {'path': [9, 3, 10], 'cost': 57.0}, {'path': [9, 1, 4, 10], 'cost': 113.0}, {'path': [9, 6, 8, 5, 3, 10], 'cost': 81.0}, {'path': [9, 2, 5, 3, 10], 'cost': 71.0}, {'path': [9, 2, 10], 'cost': 71.0}, {'path': [9, 10], 'cost': 57.0}, {'path': [9, 10], 'cost': 57.0}, {'path': [9, 2, 10], 'cost': 71.0}, {'path': [9, 3, 8, 7, 2, 10], 'cost': 143.0}, {'path': [9, 10], 'cost': 57.0}, {'path': [9, 6, 8, 10], 'cost': 81.0}, {'path': [9, 6, 8, 7, 10], 'cost': 81.0}]})\n",
      "--------------------------------------------------------\n",
      "ant 10: ({'start_node': 6, 'destination_node': 10, 'paths': [{'path': [6, 8, 10], 'cost': 69.0}, {'path': [6, 8, 7, 10], 'cost': 69.0}, {'path': [6, 10], 'cost': 69.0}, {'path': [6, 8, 10], 'cost': 69.0}, {'path': [6, 8, 2, 10], 'cost': 69.0}, {'path': [6, 2, 9, 10], 'cost': 69.0}, {'path': [6, 4, 3, 10], 'cost': 73.0}, {'path': [6, 8, 7, 5, 3, 10], 'cost': 69.0}, {'path': [6, 8, 7, 10], 'cost': 69.0}, {'path': [6, 1, 3, 10], 'cost': 101.0}, {'path': [6, 2, 10], 'cost': 69.0}, {'path': [6, 7, 1, 4, 3, 10], 'cost': 109.0}, {'path': [6, 8, 7, 2, 10], 'cost': 69.0}, {'path': [6, 8, 7, 10], 'cost': 69.0}, {'path': [6, 7, 10], 'cost': 69.0}, {'path': [6, 2, 10], 'cost': 69.0}, {'path': [6, 8, 7, 4, 3, 5, 9, 10], 'cost': 137.0}, {'path': [6, 8, 2, 10], 'cost': 69.0}, {'path': [6, 9, 5, 3, 10], 'cost': 69.0}, {'path': [6, 4, 3, 10], 'cost': 73.0}]})\n",
      "--------------------------------------------------------\n"
     ]
    }
   ],
   "source": [
    "ant_colony_optimization(customer_coords)"
   ]
  },
  {
   "cell_type": "code",
   "execution_count": null,
   "id": "26e59e60-252f-4c8b-a265-a4905f75f2ff",
   "metadata": {},
   "outputs": [],
   "source": []
  }
 ],
 "metadata": {
  "kernelspec": {
   "display_name": "base",
   "language": "python",
   "name": "base"
  },
  "language_info": {
   "codemirror_mode": {
    "name": "ipython",
    "version": 3
   },
   "file_extension": ".py",
   "mimetype": "text/x-python",
   "name": "python",
   "nbconvert_exporter": "python",
   "pygments_lexer": "ipython3",
   "version": "3.9.12"
  }
 },
 "nbformat": 4,
 "nbformat_minor": 5
}
