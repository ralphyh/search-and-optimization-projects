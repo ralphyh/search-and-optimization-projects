{
 "cells": [
  {
   "cell_type": "code",
   "execution_count": 40,
   "id": "95e7406e-760c-4682-8000-0db0b036913b",
   "metadata": {},
   "outputs": [
    {
     "data": {
      "text/plain": [
       "1"
      ]
     },
     "execution_count": 40,
     "metadata": {},
     "output_type": "execute_result"
    }
   ],
   "source": [
    "import math\n",
    "\n",
    "def max_flight_profit(max_pax, curr_pax, curr_fare, pax_inc, disc):\n",
    "    \"\"\"\n",
    "    max_flight_profit(max_pax, curr_pax, curr_fare, pax_inc, disc)\n",
    "    This is a cost function that is meant to maximize the\n",
    "    revenue obtained for the flight whilst increasing the\n",
    "    discount on the ticket price.\n",
    "    \n",
    "    max_pax: maximum flight capacity\n",
    "    curr_pax: current passenger capacity\n",
    "    curr_fare: the current flight fare\n",
    "    pax_inc: The number of customers attracted \n",
    "    per discount applied\n",
    "    disc: The discount rate given to increase the \n",
    "    number of passengers defined in 'pax_inc'\n",
    "\n",
    "    Returns: The number of discount reductions for maximum profit\n",
    "    \"\"\"\n",
    "    # number of times the discount rate is applied\n",
    "    disc_app_rate = 0\n",
    "    '''\n",
    "    define the total revenue variable\n",
    "    curr_total_rev and new_total_rev are initialized as the\n",
    "    total revenue but will iterately be used to check the impact\n",
    "    of discounts on the total revenue\n",
    "    ''' \n",
    "    curr_total_rev = new_total_rev = curr_fare * curr_pax\n",
    "    '''\n",
    "    Set the maximum number of possible increments based on \n",
    "    flight capacity (constraint value)\n",
    "    '''\n",
    "    no_total_poss_inc = math.floor((max_pax - curr_pax) / pax_inc)\n",
    "    # iteratively increase the discount on customer fare\n",
    "    for i in range(no_total_poss_inc):\n",
    "        new_total_rev = (curr_pax + pax_inc) * (curr_fare - disc)\n",
    "        '''\n",
    "        Check impact of current discount application \n",
    "        and passenger increase\n",
    "        '''\n",
    "        if new_total_rev > curr_total_rev:\n",
    "            disc_app_rate += 1\n",
    "            curr_total_rev = new_total_rev\n",
    "            curr_fare -= disc\n",
    "            curr_pax += pax_inc\n",
    "        else:\n",
    "            '''\n",
    "            Return the number of discount applications \n",
    "            done before the total revenue decreases\n",
    "            '''\n",
    "            return disc_app_rate\n",
    "\n",
    "# Flight Max Capacity: 180\n",
    "# Current Passenger Count: 80\n",
    "# Current Fare: £250\n",
    "# Passenger Attraction Rate: 8 per £20 discount on fare\n",
    "max_flight_profit(180, 80, 250, 8, 20)"
   ]
  },
  {
   "cell_type": "code",
   "execution_count": 42,
   "id": "8f31b41d-041f-4192-9a63-81639b525b54",
   "metadata": {},
   "outputs": [
    {
     "data": {
      "text/plain": [
       "1.25"
      ]
     },
     "execution_count": 42,
     "metadata": {},
     "output_type": "execute_result"
    }
   ],
   "source": [
    "def max_flight_profit(max_pax, curr_pax, curr_fare, pax_inc, disc):\n",
    "    \"\"\"\n",
    "    max_flight_profit(max_pax, curr_pax, curr_fare, pax_inc, disc)\n",
    "    This is a cost function that is meant to maximize the\n",
    "    revenue obtained for the flight whilst increasing the\n",
    "    discount on the ticket price.\n",
    "    \n",
    "    max_pax: maximum flight capacity\n",
    "    curr_pax: current passenger capacity\n",
    "    curr_fare: the current flight fare\n",
    "    pax_inc: The number of customers attracted \n",
    "    per discount applied\n",
    "    disc: The discount rate given to increase the \n",
    "    number of passengers defined in 'pax_inc'\n",
    "\n",
    "    Returns: The number of discount reductions for maximum profit\n",
    "    \"\"\"\n",
    "    disc_app_rate = 0\n",
    "    '''\n",
    "    define the total revenue variable\n",
    "    curr_total_rev and new_total_rev are initialized as the\n",
    "    total revenue but will iterately be used to check the impact\n",
    "    of discounts on the total revenue\n",
    "    ''' \n",
    "    curr_total_rev = new_total_rev = curr_fare * curr_pax\n",
    "    disc_per_pass_inc = disc / pax_inc\n",
    "    '''\n",
    "    Set the maximum number of possible increments based on \n",
    "    flight capacity (constraint value)\n",
    "    '''\n",
    "    no_total_poss_inc = max_pax - curr_pax\n",
    "    for i in range(no_total_poss_inc):\n",
    "        new_total_rev = (curr_pax + 1) * (curr_fare - disc_per_pass_inc)\n",
    "        '''\n",
    "        Check impact of current discount per passenger application \n",
    "        and passenger increase\n",
    "        '''\n",
    "        if new_total_rev > curr_total_rev:\n",
    "            disc_app_rate += 1\n",
    "            curr_total_rev = new_total_rev\n",
    "            curr_fare -= disc_per_pass_inc\n",
    "            curr_pax += 1\n",
    "        else:\n",
    "            '''\n",
    "            Return the number of discount applications \n",
    "            done before the total revenue decreases.\n",
    "            Get this by dividing the number of discount \n",
    "            per passengers applied to the total price \n",
    "            by the number of estimated customer increments \n",
    "            per proposed discounts\n",
    "            '''\n",
    "            return disc_app_rate / pax_inc\n",
    "\n",
    "# Flight Max Capacity: 180\n",
    "# Current Passenger Count: 80\n",
    "# Current Fare: £250\n",
    "# Passenger Attraction Rate: 8 per £20 discount on fare\n",
    "max_flight_profit(180, 80, 250, 8, 20)"
   ]
  },
  {
   "cell_type": "code",
   "execution_count": 53,
   "id": "d20b5e1b-4e86-409c-9ce4-c709e47caf30",
   "metadata": {},
   "outputs": [
    {
     "data": {
      "text/plain": [
       "10"
      ]
     },
     "execution_count": 53,
     "metadata": {},
     "output_type": "execute_result"
    }
   ],
   "source": [
    "def max_apple_yield(trees_per_acre, apples_per_tree, yield_decr_per_tree):\n",
    "    \"\"\"\n",
    "    max_apple_yield(trees_per_acre, apples_per_tree, yield_decr_per_tree)\n",
    "    This is a cost function that is meant to maximize the\n",
    "    yield of apples in a farm. This is done by increasing \n",
    "    the number of trees while considering the decrease in \n",
    "    yield for each apple tree planted in an acre\n",
    "    \n",
    "    trees_per_acre: current number of trees per acre\n",
    "    apples_per_tree: current apple yield per tree\n",
    "    yield_decr_per_tree: decrease in yield per tree \n",
    "    in an acre for each tree planted\n",
    "\n",
    "    Returns: The number of trees planted to maximize the apple yield\n",
    "    \"\"\"\n",
    "    no_tree_increments = 0\n",
    "    '''\n",
    "    define the total apple yield per acre\n",
    "    curr_yield_per_acre and new_yield_per_acre are initialized as the\n",
    "    apple yield per acre but will iterately be used to check the impact\n",
    "    of additional trees per acre\n",
    "    ''' \n",
    "    curr_yield_per_acre = new_yield_per_acre = trees_per_acre * apples_per_tree\n",
    "    '''\n",
    "    Set boolean variable that will check whether maximum \n",
    "    yield has been reached or not to 'False'\n",
    "    '''\n",
    "    max_yield = False\n",
    "    while not max_yield:\n",
    "        new_yield_per_acre = (trees_per_acre + 1) * (apples_per_tree - yield_decr_per_tree)\n",
    "        '''\n",
    "        Check impact of current tree increase per acre \n",
    "        and yield per tree decrease\n",
    "        '''\n",
    "        if new_yield_per_acre > curr_yield_per_acre:\n",
    "            no_tree_increments += 1\n",
    "            curr_yield_per_acre = new_yield_per_acre\n",
    "            apples_per_tree -= yield_decr_per_tree\n",
    "            trees_per_acre += 1\n",
    "        else:\n",
    "            max_yield = True\n",
    "        '''\n",
    "        Return the number of tree increments\n",
    "        per acre that result to maximum yield\n",
    "        '''\n",
    "    return no_tree_increments\n",
    "\n",
    "# Trees per acre: 50\n",
    "# Current apples per tree: 210\n",
    "# Yield decrement per acre: 3 apples per tree\n",
    "max_apple_yield(50, 210, 3)"
   ]
  },
  {
   "cell_type": "code",
   "execution_count": 59,
   "id": "579e112f-7ae8-4690-a5ed-f5d57e5746d6",
   "metadata": {},
   "outputs": [
    {
     "name": "stdout",
     "output_type": "stream",
     "text": [
      "(1, 2, 3)\n",
      "(1, 3, 2)\n",
      "(2, 1, 3)\n",
      "(2, 3, 1)\n",
      "(3, 1, 2)\n",
      "(3, 2, 1)\n"
     ]
    }
   ],
   "source": [
    "import itertools\n",
    "\n",
    "values=[1,2,3]\n",
    "\n",
    "permutations = itertools.permutations(values)\n",
    "\n",
    "for value in permutations:\n",
    "    print(value)"
   ]
  },
  {
   "cell_type": "code",
   "execution_count": null,
   "id": "65487df9-69cc-4443-896a-f9dd29260371",
   "metadata": {},
   "outputs": [],
   "source": []
  }
 ],
 "metadata": {
  "kernelspec": {
   "display_name": "base",
   "language": "python",
   "name": "base"
  },
  "language_info": {
   "codemirror_mode": {
    "name": "ipython",
    "version": 3
   },
   "file_extension": ".py",
   "mimetype": "text/x-python",
   "name": "python",
   "nbconvert_exporter": "python",
   "pygments_lexer": "ipython3",
   "version": "3.9.12"
  }
 },
 "nbformat": 4,
 "nbformat_minor": 5
}
