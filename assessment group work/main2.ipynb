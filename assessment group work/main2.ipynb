{
 "cells": [
  {
   "cell_type": "markdown",
   "id": "f157ba2a-9d6c-438e-a078-01228c467554",
   "metadata": {},
   "source": [
    "# Multi-Objective Routing Path Optimization"
   ]
  },
  {
   "cell_type": "markdown",
   "id": "8cf6efad-bbc1-4523-92d2-73746aadcb94",
   "metadata": {},
   "source": [
    "## Abstract"
   ]
  },
  {
   "cell_type": "markdown",
   "id": "1c127809-4d0a-46e6-8275-631129a80418",
   "metadata": {},
   "source": [
    "## Introduction"
   ]
  },
  {
   "cell_type": "markdown",
   "id": "b00c9511-ad70-411c-a4ed-ad016c4420b3",
   "metadata": {},
   "source": [
    "Search and Optimisation are used in all disciplines of science and engineering, and in wider economy. In economical domains, they have been used in production planning (production mix, machine allocation), corporate finance (capacity planning, working capital management), investments (portfolio optimization, bond/stock portfolio management), and human resources (crew scheduling, office assignment), as well as transportation, agriculture and many others (Zhang, 2024).\n",
    "\n",
    "In science and engineering, apart from machine learning, they have been used in such fields as office equipment ergonomics, setting construction norms and rules, creating optimal antenna shapes, TCP/IP packet routing, wireless network optimisation, and many others. The problem we have been tasked with in current assessment belongs to the latter – wireless network optimisation. It is one of vital uses of the optimisation methods as wireless networks of many kinds and shapes participate in daily lives of millions of people and practices of many – if not all - businesses.\n",
    "\n",
    "In the recent decades, it has been instrumental in economic and scientific development of all nations to provide working conditions for wireless data transmission, using GSM (and other) networks. Also, with growing use of Wi-Fi, relay systems had to be optimised. Optimal transmitter locations have had to be established en-masse in order  that the data be accessible in indoor and outdoor locations (F. Aguado Agelet, 2002). A number of methods have been hereby identified; however, researchers elected to use the Nelder-Mead method as it is “easier to implement and appears to be very robust”. Genetic algorithms, however, presented “worse computation-time behaviour”. Choosing the appropriate ways to approach and solve an optimisation problem seems crucial, and understanding the pluses and minuses of each and every one of them can save businesses and research teams a lot of time and effort. Even with separate implementations of the same algorithm, computation complexities, runtimes, and convergence capabilities can vary wildly, as each can have numerous variations, where the balance between exploration and exploitation (of solutions) also varies – as it will be shown in our examples later on.\n",
    "\n",
    " Figure 1. A representation of the relation among complexity classes (Wikipedia, 2025)\n",
    " ![Alt](images/computation_problems.png)\n",
    " \n",
    " \n",
    "Problems of routing, or traversing graphs, loosely related to travelling salesman problem, are examined under the theoretical frameworks of theory of computation, “the branch that deals with what problems can be solved on a model of computation, using an algorithm, how efficiently they can be solved or to what degree” (Wikipedia, 2025). Figure 1 illustrates the relationship between L ⊆ NL ⊆ P ⊆ NP ⊆ PSPACE ⊆ EXPTIME ⊆ NEXPTIME ⊆ EXPSPACE (the first ones being Log-space, Nondeterministic Logarithmic-space, Polynomial Time, Non-Polynomial Time etc.) It is known that “one of the most famous open problems in computer science concerns whether P equals NP” – can every problem whose solution can be quickly verified can also be quickly solved? The current problem of searching for optimal routes ha not found a complete solution that runs in polynomial time, however many optimisation methods have been proposed, and inferences can be made on their computational complexity, efficiency in terms of convergence and suitability for a given problem.\n",
    "\n",
    "Lance Fortnow gives a neat example of a TSP, whereas a certain saleswoman Mary must analyse the routes of all 48 capitals of contiguous US states (Fortnow, 2013). Whilst she intuitively drew a line connecting them, which is plausibly a “decent” one, there are 48! (48-factorial) solutions to be checked, in regular notation: 12,413,915,592,536,072,670,862,289,047,373, 375,038,521,486,354,677,760,000,000,000 (just over 12 novemdecillion). Concluding, “No wonder Mary’s laptop hadn’t finished in a week”, he goes on to expand that (apart from the proof that N!=NP) we may never find an algorithm that solves the problem all the time:\n",
    "\n",
    "&nbsp;&nbsp;&nbsp;&nbsp;“We need to rely on other tools, a combination of approximation, heuristics, and computational firepower, simply to do the best we can. NP-completeness gives us a common framework and allows us to create a toolbox of techniques that we can throw at these difficult-to-compute problems.”\n",
    "\n",
    "Since brute force and/or exhaustive search are an absolute impossibility, other methods for TSP-derived problems can be used. Greedy algorithms are especially useful by allowing us to use ‘ad-hoc’ solutions repeatedly in hope of arriving at a good solution, globally (Thomas H. Cormen, 2001): they must have a “greedy-choice property: a globally optimal solution can be arrived at by making a locally optimal (greedy) choice”; it also needs an “optimal substructure if an optimal solution to the problem contains within it optimal solutions to subproblems”. Of course, a particular optimal route contains optimal sub-routes, therefore Disjktra’s algorithms just works.\n",
    "\n",
    "Meta-heuristic algorithms are another great option. Many of those are nature-inspired and provide great exploration of the search space in practicable computing time and within limited resources. Some are very ingenuous. Stigmergy is omnipresent in nature and even we humans use the signs (natural or manmade) in the environment to navigate through unknown spaces, and even unknowingly co-operate, not in a dissimilar way from ants in an ant colony (more on ACO algorithm later). For example, writing a note well before a broken footpath, “no throughway” will save anyone who wants to get through in a good amount of time. In addition, some nature-inspired algorithms, like genetics algorithms, produce results that mimic human creativity. David Goldberg expands on the role of chance in directed search, following the musings of the mathematician J Hadamard, “…even though discovery is not a result – cannot be a result – of pure chance, it is almost certainly guided by directed serendipity”, emphasising that the role for chance in human-like discovery is its (blind) ability to “juxtapose different notions” (Goldberg, 2006). He goes on to state that comparisons have been made “with certain human search processes commonly called innovative or creative”. Indeed, it has been pointed out how such pure “chance” in GAs created an antenna for NASA Space Technology 5, where “evolutionary algorithms can be used to search the design space and automatically find novel antenna designs that are more effective than would otherwise be developed” (Gregory. S. Hornby, 2011).\n",
    "\n",
    "However, GAs’ use in our problem, essentially an optimization of Wireless Sensor Networks, is an overkill as only a tiny fraction of routes will be even valid, potentially leading to a wase of computing resources. Selcuk Okdem (Okdem S, 2009) et al suggest use of Ant Colony Optimization (Okdem S, 2009), for a few reasons, among others that “Although WSNs are used in many applications, they have several restrictions including limited energy supply and limited computation and communication abilities”. Moreover, as “channel bandwidth is limited, protocols should have capability of performing local collaboration to reduce bandwidth requirements”. Here we can proceed to problem statement, where we can look at it closer from a few angles.\n",
    "\n",
    "### Problem Statement\n",
    "An organisation has decided to deploy a number of weather sensors communicating wirelessly, between one another, and two base stations, in New Forest area of England. The resources are limited and there are bandwidth constraints, and related latencies in communication. The table below explores the technical abilities of the said sensors, where distances between them dictate the network performance. There are 150 units randomly within an square area, where base stations are at (-5000, 5000) and (5000, -5000), and the sensores are anywhere in between. Geo data has been provided by the organisation in the form of a csv file. Eucladean distances have to be calculated from the formula for d, as below.\n",
    "\n",
    "Having done that, at least two different algorithms must establish the best routes for each sensor to a base station (relaying via other sensors), indexed from 0 to 149, taking into consideration the communication efficiencies."
   ]
  },
  {
   "cell_type": "markdown",
   "id": "03b660ab-fc72-471e-abb6-6f76dcb1d140",
   "metadata": {},
   "source": [
    "| Distance d | Transmission rate (Mbps) | \n",
    "| ------ | ------ |\n",
    "| d >= 3000m | 0 |\n",
    "| 3000m > d >= 2500m | 1 |\n",
    "| 2500m > d >= 2000m | 2 |\n",
    "| 2000m > d >= 1500m | 3 |\n",
    "| 1500m > d >= 1000m | 4 |\n",
    "| 1000m > d >= 500m | 5 |\n",
    "| 500m > d | 7 |"
   ]
  },
  {
   "cell_type": "markdown",
   "id": "2274fb5f-e9d0-4403-80e7-5ef63d0ba645",
   "metadata": {},
   "source": [
    "$$d = \\sqrt{(x2 - x1)^2 + (y2 - y1)^2}$$"
   ]
  },
  {
   "cell_type": "markdown",
   "id": "46796514-ce45-4ac2-b6b7-360bd13bf266",
   "metadata": {},
   "source": [
    "## Methodology"
   ]
  },
  {
   "cell_type": "markdown",
   "id": "d8aec214-ff9a-47c0-8e30-3410f13f9087",
   "metadata": {},
   "source": [
    "The problem as described, does not lend itself to a straightforward one-size-fits-all solution. It is a problem of two seemingly opposite objectives. To bring up an example from real life, buying a motorcycle may be an exercise in a multi-objective optimization: price, vehicle weight-to-bhp ratio, comfort (seat height, handlebar-rider’s arm angle), acceleration 0-60, fuel use, and top speed may all be factors. If the motorcycle were to be used for commuting long distances through city traffic, comfort, fuel use, vehicle weight and (perhaps) acceleration would be priorities, whilst top speed would be nearly irrelevant. Used as a second vehicle for weekend fun on country roads, or track-days, acceleration, weight-to-power ratio, and top speed would come first, comfort would be less viable, and fuel use – irrelevant (assuming enough financial means). \n",
    "\n",
    "The only way to solve so many objectives is sometimes to put weights on all variables with a weighted sum method (see Figure 2) (Zhang, 2024)\n",
    "\n",
    " ![Alt](images/Multi_fun.png)\n",
    "Figure 2. Multi-objective function conversion to a single objective function using weights.\n",
    " \n",
    "\n",
    " Some functions need to be maximised, and some – minimised; in everyday parlance, some denote a ‘good thing’, and some a ‘bad thing’. In our problem example, latency is our ‘bad thing’, which needs minimising all along, whereas edge-to-edge transfers have to be maximised on each potential route, thus avoiding the edges that constitute unnecessary bottlenecks on the way.\n",
    " \n",
    "Utilising reciprocals is a good way to achieve this end in practice, including here. We have decided together, upon consultation with the lecturer, to use this method, and upon a trial-and-error process, we settled on certain weights, 1 being the “alpha” and 150 – the “beta”.\n",
    "\n",
    "### Objective Function\n",
    "\n",
    "```f(x,y)= α⋅x + β⋅1/y,```\n",
    "\n",
    "Where:\n",
    "\n",
    "```f(x,y) - objective function```\n",
    "\n",
    "```α - weight given to variable x```\n",
    "\n",
    "```β - weight given to the reciprocal of variable y```\n",
    "\n",
    "```x - minimum edge transfer on the route (“bottleneck”)```\n",
    "\n",
    "```y - sum of latencies on the route.```\n",
    "\n",
    "For obvious reasons, the transfer on any “bottleneck” should be as high as possible, therefore the variable x needs to be maximised. Conversely, the sum of on-route latencies must be minimised, hence the use of the inverse variable. The entire objective f(x,y)  function shall be maximised for every route from each node to either base station, whichever is better. The algorithms make ad-hoc stochastic choices on which base station should be chosen, and optimal one is always found, along with a route that (potentially) is the optimal one. The use of potentially is intentional. Only gradient-based methods based on well-defined functions yield a 100% guarantee of nice and accurate result of optimisation, all other methods being on a spectrum, whose other far end is lack of convergence. These often get put into one ‘bag’ named ‘metaheuristic’ (discussed in the work as cited):\n",
    "\n",
    "The ongoing improvement of heuristic algorithms often gets referred to as “metaheuristics” despite the lack of a unified scientific definition. (Selvarajan, 2024)\n",
    "\n",
    "Perusing the paper, and unit lectures allowed us to construct a very simple ranking of optimisation methods that we considered for solving the problem. Some methods lack merit completely, as gradient methods, as there is no neat well-define mathematical objective function to optimise. Similarly, linear programming would be ill suited. We are left - more or less - with metaheuristic methods.\n",
    "\n",
    "<b>It must be noted that the work has been done by a number of students. Wherever an author means \"absolute cost\" of a path or route, it shall mean \"objective function value\" on that path/route, as per the definition above**. Let us remember that this 'loose' use of the word 'cost' will allow us to think of it in terms of benefit, rather than traditional meaning of 'cost', and when the \"absolute cost\" is maximised, it shall mean fulfilling the objectives of our work, and indeed a positive outcome.</B>\n",
    "\n",
    "**(except PSO, which has a different objective function, added under its specific section).\n",
    "\n",
    "### Selection of Methods\n",
    "Let us have a glance at what we can choose from (Figure 3)\n",
    "\n",
    "![Alt](./images/rank_of_methods.JPG)\n",
    "\n",
    "\t1. Gradient-based Methods: High accuracy and reliable convergence.\n",
    "\t2. Quasi-Newton Methods: Similar to gradient-based methods but may require adjustments.\n",
    "\t3. Convex Optimization: Generally reliable, but not as precise as gradient-based methods.\n",
    "\t4. Linear Programming: Useful in many situations but may face convergence issues in complex cases.\n",
    "\t5. Dijkstra's Algorithm: Typically, reliable for shortest path problems.\n",
    "\t6. Ant Colony Optimization (ACO): Often used for finding optimal paths, good at exploring diverse solutions.\n",
    "\t7. Simulated Annealing: Good for escaping local optima, but convergence can be slow and uncertain.\n",
    "\t8. Differential Grouping Algorithm (DGA): Useful in decomposition-based optimization.\n",
    "\t9. Genetic Algorithms: Offers diverse solutions but can lack convergence and consistency.\n",
    "\n",
    "For our purposes, we shall be using Dijkstra’s Algorithm, ACO, Simulated Annealing and a variant of Genetic Algorithms (DGA). One student proposed his own solution with a Particle Swarm Optimization (PSO) method, which is an interesting take on this algorithm.\n",
    "\n",
    "Ant Colony Optimization (ACO): The paper (Selvarajan, 2024) highlights ACO's strength in exploring diverse solutions and its biologically inspired approach; it mimics the foraging behaviour of ants. It is noted for good exploration capabilities, but may require fine-tuning for specific problems. This will be performed and discussed in ACO documentation in more detail, together with elementary statistical analysis of the ACO parametrisation process.\n",
    "\n",
    "Simulated Annealing: This method is praised for its ability to escape local optima by simulating the annealing process of metals. However, it is mentioned that convergence can be slow and is not guaranteed in all cases.\n",
    "\n",
    "Dijkstra's Algorithm: The paper (Selvarajan, 2024) discusses Dijkstra's Algorithm as highly reliable for shortest path problems in graphs. It is noted for its accuracy and guaranteed convergence but is limited to specific types of optimization problems. It seems to be particularly well suited to our problem.\n",
    "\n",
    "Genetic Algorithms (GAs): Genetic Algorithms are recognized for their robustness and ability to handle complex search spaces. They are good at exploration but may lack consistency and convergence in some scenarios. We must note their apparent stochastic ‘creativity’, or rather, a wide space of solutions tested. Of course, in our scenario, many routes created will make no ‘sense’ as there will be no such connections / edges in our graph.\n",
    "\n",
    "Particle Swarm Optimization (PSO): We looked at the available papers, which adapt PSO, which is more suited to optimising non-differentiable and continuous-value functions rather than routing problems, to the extent that we found a solution. Implementation of PSO is attempted by a student, together with relevant documentation.\n",
    "\n",
    "\n"
   ]
  },
  {
   "cell_type": "markdown",
   "id": "2c9a0280-4e9d-45a7-90f1-c5bb42f7578a",
   "metadata": {},
   "source": [
    "### Extra Requirements"
   ]
  },
  {
   "cell_type": "markdown",
   "id": "be90ea50-ce0f-4dbc-97b4-e1f15d89d766",
   "metadata": {},
   "source": [
    "To be able to execute the algorithms and visualiza the data, there was one extra dependency we required to import to our conda environment. This was the `Folium` library which is map visualization API that we used to plot our solutions. Depending on your environment, it could be installed using either of the following shell commands.\n",
    "```sh\n",
    "! conda install -y conda-forge::folium\n",
    "```\n",
    "or\n",
    "```sh\n",
    "! pip install-y folium\n",
    "```"
   ]
  },
  {
   "cell_type": "code",
   "execution_count": 1,
   "id": "49122d64-9306-4049-ac3a-f85f7e814ae2",
   "metadata": {},
   "outputs": [
    {
     "name": "stdout",
     "output_type": "stream",
     "text": [
      "^C\n"
     ]
    }
   ],
   "source": [
    "! conda install -y conda-forge::folium"
   ]
  },
  {
   "cell_type": "code",
   "execution_count": 2,
   "id": "7f836206-83fa-4b89-90ea-11357a1c55e0",
   "metadata": {},
   "outputs": [],
   "source": [
    "#! pip install folium"
   ]
  },
  {
   "cell_type": "markdown",
   "id": "c7fba656-5e26-40d4-a50a-f2ba7a093646",
   "metadata": {},
   "source": [
    "### Code Modularization"
   ]
  },
  {
   "cell_type": "markdown",
   "id": "d61a3a2f-6413-47ad-a900-cfdc069807dd",
   "metadata": {},
   "source": [
    "For simplicity, the code was modularized based on functionality. The modules and their respective functionalities are as follows:<br>\n",
    "- `data_plot`: Has all functions that fetch data from CSV file, preprocesses data into forms that are required by the various algorithms and visualizes the results of an algorithm on a map\n",
    "- `metrics`: Consolidates the algorithms evaluation functions using the 2 metrics, 'execution time' and 'solution quality'\n",
    "- `discrete_genetic_algorithm`: contains the discrete genetic algorithm implementation\n",
    "- `ant_colony_optimization`: contains the ant colony optimization implementation\n",
    "- `dijkstras_algorithm`: contains the dijkstra's algorithm implementation\n",
    "- `simulated_annealing`: contains the simulated annealing algorithm implementation\n",
    "All these algorithms and functions are accessible in this report and will be called using a single function with the type of algorithm input and extra optional optimization **kwargs accepted as parameters. The execution of the modules is done below."
   ]
  },
  {
   "cell_type": "markdown",
   "id": "09f714d5-2ca1-4765-9570-a1d6d29b94e3",
   "metadata": {},
   "source": [
    "#### Imports"
   ]
  },
  {
   "cell_type": "code",
   "execution_count": 3,
   "id": "0b3dc898-1f1c-4537-af66-c0d832bc8a73",
   "metadata": {},
   "outputs": [
    {
     "ename": "KeyboardInterrupt",
     "evalue": "",
     "output_type": "error",
     "traceback": [
      "\u001b[1;31m---------------------------------------------------------------------------\u001b[0m",
      "\u001b[1;31mKeyboardInterrupt\u001b[0m                         Traceback (most recent call last)",
      "Cell \u001b[1;32mIn[3], line 3\u001b[0m\n\u001b[0;32m      1\u001b[0m \u001b[38;5;28;01mimport\u001b[39;00m \u001b[38;5;21;01mast\u001b[39;00m\n\u001b[0;32m      2\u001b[0m \u001b[38;5;28;01mimport\u001b[39;00m \u001b[38;5;21;01mjson\u001b[39;00m\n\u001b[1;32m----> 3\u001b[0m \u001b[38;5;28;01mimport\u001b[39;00m \u001b[38;5;21;01mscipy\u001b[39;00m\u001b[38;5;21;01m.\u001b[39;00m\u001b[38;5;21;01mstats\u001b[39;00m \u001b[38;5;28;01mas\u001b[39;00m \u001b[38;5;21;01mstat\u001b[39;00m\n\u001b[0;32m      4\u001b[0m get_ipython()\u001b[38;5;241m.\u001b[39mrun_line_magic(\u001b[38;5;124m'\u001b[39m\u001b[38;5;124mrun\u001b[39m\u001b[38;5;124m'\u001b[39m, \u001b[38;5;124m'\u001b[39m\u001b[38;5;124mdata_plot.ipynb\u001b[39m\u001b[38;5;124m'\u001b[39m)\n\u001b[0;32m      5\u001b[0m get_ipython()\u001b[38;5;241m.\u001b[39mrun_line_magic(\u001b[38;5;124m'\u001b[39m\u001b[38;5;124mrun\u001b[39m\u001b[38;5;124m'\u001b[39m, \u001b[38;5;124m'\u001b[39m\u001b[38;5;124mmetrics.ipynb\u001b[39m\u001b[38;5;124m'\u001b[39m)\n",
      "File \u001b[1;32mC:\\ProgramData\\anaconda3\\Lib\\site-packages\\scipy\\stats\\__init__.py:606\u001b[0m\n\u001b[0;32m      1\u001b[0m \u001b[38;5;124;03m\"\"\"\u001b[39;00m\n\u001b[0;32m      2\u001b[0m \u001b[38;5;124;03m.. _statsrefmanual:\u001b[39;00m\n\u001b[0;32m      3\u001b[0m \n\u001b[1;32m   (...)\u001b[0m\n\u001b[0;32m    601\u001b[0m \n\u001b[0;32m    602\u001b[0m \u001b[38;5;124;03m\"\"\"\u001b[39;00m  \u001b[38;5;66;03m# noqa: E501\u001b[39;00m\n\u001b[0;32m    604\u001b[0m \u001b[38;5;28;01mfrom\u001b[39;00m \u001b[38;5;21;01m.\u001b[39;00m\u001b[38;5;21;01m_warnings_errors\u001b[39;00m \u001b[38;5;28;01mimport\u001b[39;00m (ConstantInputWarning, NearConstantInputWarning,\n\u001b[0;32m    605\u001b[0m                                DegenerateDataWarning, FitError)\n\u001b[1;32m--> 606\u001b[0m \u001b[38;5;28;01mfrom\u001b[39;00m \u001b[38;5;21;01m.\u001b[39;00m\u001b[38;5;21;01m_stats_py\u001b[39;00m \u001b[38;5;28;01mimport\u001b[39;00m \u001b[38;5;241m*\u001b[39m\n\u001b[0;32m    607\u001b[0m \u001b[38;5;28;01mfrom\u001b[39;00m \u001b[38;5;21;01m.\u001b[39;00m\u001b[38;5;21;01m_variation\u001b[39;00m \u001b[38;5;28;01mimport\u001b[39;00m variation\n\u001b[0;32m    608\u001b[0m \u001b[38;5;28;01mfrom\u001b[39;00m \u001b[38;5;21;01m.\u001b[39;00m\u001b[38;5;21;01mdistributions\u001b[39;00m \u001b[38;5;28;01mimport\u001b[39;00m \u001b[38;5;241m*\u001b[39m\n",
      "File \u001b[1;32mC:\\ProgramData\\anaconda3\\Lib\\site-packages\\scipy\\stats\\_stats_py.py:37\u001b[0m\n\u001b[0;32m     34\u001b[0m \u001b[38;5;28;01mimport\u001b[39;00m \u001b[38;5;21;01mnumpy\u001b[39;00m \u001b[38;5;28;01mas\u001b[39;00m \u001b[38;5;21;01mnp\u001b[39;00m\n\u001b[0;32m     35\u001b[0m \u001b[38;5;28;01mfrom\u001b[39;00m \u001b[38;5;21;01mnumpy\u001b[39;00m \u001b[38;5;28;01mimport\u001b[39;00m array, asarray, ma\n\u001b[1;32m---> 37\u001b[0m \u001b[38;5;28;01mfrom\u001b[39;00m \u001b[38;5;21;01mscipy\u001b[39;00m \u001b[38;5;28;01mimport\u001b[39;00m sparse\n\u001b[0;32m     38\u001b[0m \u001b[38;5;28;01mfrom\u001b[39;00m \u001b[38;5;21;01mscipy\u001b[39;00m\u001b[38;5;21;01m.\u001b[39;00m\u001b[38;5;21;01mspatial\u001b[39;00m\u001b[38;5;21;01m.\u001b[39;00m\u001b[38;5;21;01mdistance\u001b[39;00m \u001b[38;5;28;01mimport\u001b[39;00m cdist\n\u001b[0;32m     39\u001b[0m \u001b[38;5;28;01mfrom\u001b[39;00m \u001b[38;5;21;01mscipy\u001b[39;00m\u001b[38;5;21;01m.\u001b[39;00m\u001b[38;5;21;01mspatial\u001b[39;00m \u001b[38;5;28;01mimport\u001b[39;00m distance_matrix\n",
      "File \u001b[1;32m<frozen importlib._bootstrap>:1412\u001b[0m, in \u001b[0;36m_handle_fromlist\u001b[1;34m(module, fromlist, import_, recursive)\u001b[0m\n",
      "File \u001b[1;32mC:\\ProgramData\\anaconda3\\Lib\\site-packages\\scipy\\__init__.py:134\u001b[0m, in \u001b[0;36m__getattr__\u001b[1;34m(name)\u001b[0m\n\u001b[0;32m    132\u001b[0m \u001b[38;5;28;01mdef\u001b[39;00m \u001b[38;5;21m__getattr__\u001b[39m(name):\n\u001b[0;32m    133\u001b[0m     \u001b[38;5;28;01mif\u001b[39;00m name \u001b[38;5;129;01min\u001b[39;00m submodules:\n\u001b[1;32m--> 134\u001b[0m         \u001b[38;5;28;01mreturn\u001b[39;00m _importlib\u001b[38;5;241m.\u001b[39mimport_module(\u001b[38;5;124mf\u001b[39m\u001b[38;5;124m'\u001b[39m\u001b[38;5;124mscipy.\u001b[39m\u001b[38;5;132;01m{\u001b[39;00mname\u001b[38;5;132;01m}\u001b[39;00m\u001b[38;5;124m'\u001b[39m)\n\u001b[0;32m    135\u001b[0m     \u001b[38;5;28;01melse\u001b[39;00m:\n\u001b[0;32m    136\u001b[0m         \u001b[38;5;28;01mtry\u001b[39;00m:\n",
      "File \u001b[1;32mC:\\ProgramData\\anaconda3\\Lib\\importlib\\__init__.py:90\u001b[0m, in \u001b[0;36mimport_module\u001b[1;34m(name, package)\u001b[0m\n\u001b[0;32m     88\u001b[0m             \u001b[38;5;28;01mbreak\u001b[39;00m\n\u001b[0;32m     89\u001b[0m         level \u001b[38;5;241m+\u001b[39m\u001b[38;5;241m=\u001b[39m \u001b[38;5;241m1\u001b[39m\n\u001b[1;32m---> 90\u001b[0m \u001b[38;5;28;01mreturn\u001b[39;00m _bootstrap\u001b[38;5;241m.\u001b[39m_gcd_import(name[level:], package, level)\n",
      "File \u001b[1;32mC:\\ProgramData\\anaconda3\\Lib\\site-packages\\scipy\\sparse\\__init__.py:308\u001b[0m\n\u001b[0;32m    305\u001b[0m \u001b[38;5;28;01mfrom\u001b[39;00m \u001b[38;5;21;01m.\u001b[39;00m\u001b[38;5;21;01m_matrix_io\u001b[39;00m \u001b[38;5;28;01mimport\u001b[39;00m \u001b[38;5;241m*\u001b[39m\n\u001b[0;32m    307\u001b[0m \u001b[38;5;66;03m# For backward compatibility with v0.19.\u001b[39;00m\n\u001b[1;32m--> 308\u001b[0m \u001b[38;5;28;01mfrom\u001b[39;00m \u001b[38;5;21;01m.\u001b[39;00m \u001b[38;5;28;01mimport\u001b[39;00m csgraph\n\u001b[0;32m    310\u001b[0m \u001b[38;5;66;03m# Deprecated namespaces, to be removed in v2.0.0\u001b[39;00m\n\u001b[0;32m    311\u001b[0m \u001b[38;5;28;01mfrom\u001b[39;00m \u001b[38;5;21;01m.\u001b[39;00m \u001b[38;5;28;01mimport\u001b[39;00m (\n\u001b[0;32m    312\u001b[0m     base, bsr, compressed, construct, coo, csc, csr, data, dia, dok, extract,\n\u001b[0;32m    313\u001b[0m     lil, sparsetools, sputils\n\u001b[0;32m    314\u001b[0m )\n",
      "File \u001b[1;32mC:\\ProgramData\\anaconda3\\Lib\\site-packages\\scipy\\sparse\\csgraph\\__init__.py:185\u001b[0m\n\u001b[0;32m    157\u001b[0m __docformat__ \u001b[38;5;241m=\u001b[39m \u001b[38;5;124m\"\u001b[39m\u001b[38;5;124mrestructuredtext en\u001b[39m\u001b[38;5;124m\"\u001b[39m\n\u001b[0;32m    159\u001b[0m __all__ \u001b[38;5;241m=\u001b[39m [\u001b[38;5;124m'\u001b[39m\u001b[38;5;124mconnected_components\u001b[39m\u001b[38;5;124m'\u001b[39m,\n\u001b[0;32m    160\u001b[0m            \u001b[38;5;124m'\u001b[39m\u001b[38;5;124mlaplacian\u001b[39m\u001b[38;5;124m'\u001b[39m,\n\u001b[0;32m    161\u001b[0m            \u001b[38;5;124m'\u001b[39m\u001b[38;5;124mshortest_path\u001b[39m\u001b[38;5;124m'\u001b[39m,\n\u001b[1;32m   (...)\u001b[0m\n\u001b[0;32m    182\u001b[0m            \u001b[38;5;124m'\u001b[39m\u001b[38;5;124mcsgraph_to_masked\u001b[39m\u001b[38;5;124m'\u001b[39m,\n\u001b[0;32m    183\u001b[0m            \u001b[38;5;124m'\u001b[39m\u001b[38;5;124mNegativeCycleError\u001b[39m\u001b[38;5;124m'\u001b[39m]\n\u001b[1;32m--> 185\u001b[0m \u001b[38;5;28;01mfrom\u001b[39;00m \u001b[38;5;21;01m.\u001b[39;00m\u001b[38;5;21;01m_laplacian\u001b[39;00m \u001b[38;5;28;01mimport\u001b[39;00m laplacian\n\u001b[0;32m    186\u001b[0m \u001b[38;5;28;01mfrom\u001b[39;00m \u001b[38;5;21;01m.\u001b[39;00m\u001b[38;5;21;01m_shortest_path\u001b[39;00m \u001b[38;5;28;01mimport\u001b[39;00m (\n\u001b[0;32m    187\u001b[0m     shortest_path, floyd_warshall, dijkstra, bellman_ford, johnson,\n\u001b[0;32m    188\u001b[0m     NegativeCycleError\n\u001b[0;32m    189\u001b[0m )\n\u001b[0;32m    190\u001b[0m \u001b[38;5;28;01mfrom\u001b[39;00m \u001b[38;5;21;01m.\u001b[39;00m\u001b[38;5;21;01m_traversal\u001b[39;00m \u001b[38;5;28;01mimport\u001b[39;00m (\n\u001b[0;32m    191\u001b[0m     breadth_first_order, depth_first_order, breadth_first_tree,\n\u001b[0;32m    192\u001b[0m     depth_first_tree, connected_components\n\u001b[0;32m    193\u001b[0m )\n",
      "File \u001b[1;32mC:\\ProgramData\\anaconda3\\Lib\\site-packages\\scipy\\sparse\\csgraph\\_laplacian.py:7\u001b[0m\n\u001b[0;32m      5\u001b[0m \u001b[38;5;28;01mimport\u001b[39;00m \u001b[38;5;21;01mnumpy\u001b[39;00m \u001b[38;5;28;01mas\u001b[39;00m \u001b[38;5;21;01mnp\u001b[39;00m\n\u001b[0;32m      6\u001b[0m \u001b[38;5;28;01mfrom\u001b[39;00m \u001b[38;5;21;01mscipy\u001b[39;00m\u001b[38;5;21;01m.\u001b[39;00m\u001b[38;5;21;01msparse\u001b[39;00m \u001b[38;5;28;01mimport\u001b[39;00m issparse\n\u001b[1;32m----> 7\u001b[0m \u001b[38;5;28;01mfrom\u001b[39;00m \u001b[38;5;21;01mscipy\u001b[39;00m\u001b[38;5;21;01m.\u001b[39;00m\u001b[38;5;21;01msparse\u001b[39;00m\u001b[38;5;21;01m.\u001b[39;00m\u001b[38;5;21;01mlinalg\u001b[39;00m \u001b[38;5;28;01mimport\u001b[39;00m LinearOperator\n\u001b[0;32m      8\u001b[0m \u001b[38;5;28;01mfrom\u001b[39;00m \u001b[38;5;21;01mscipy\u001b[39;00m\u001b[38;5;21;01m.\u001b[39;00m\u001b[38;5;21;01msparse\u001b[39;00m\u001b[38;5;21;01m.\u001b[39;00m\u001b[38;5;21;01m_sputils\u001b[39;00m \u001b[38;5;28;01mimport\u001b[39;00m convert_pydata_sparse_to_scipy, is_pydata_spmatrix\n\u001b[0;32m     11\u001b[0m \u001b[38;5;66;03m###############################################################################\u001b[39;00m\n\u001b[0;32m     12\u001b[0m \u001b[38;5;66;03m# Graph laplacian\u001b[39;00m\n",
      "File \u001b[1;32mC:\\ProgramData\\anaconda3\\Lib\\site-packages\\scipy\\sparse\\linalg\\__init__.py:129\u001b[0m\n\u001b[0;32m      1\u001b[0m \u001b[38;5;124;03m\"\"\"\u001b[39;00m\n\u001b[0;32m      2\u001b[0m \u001b[38;5;124;03mSparse linear algebra (:mod:`scipy.sparse.linalg`)\u001b[39;00m\n\u001b[0;32m      3\u001b[0m \u001b[38;5;124;03m==================================================\u001b[39;00m\n\u001b[1;32m   (...)\u001b[0m\n\u001b[0;32m    126\u001b[0m \n\u001b[0;32m    127\u001b[0m \u001b[38;5;124;03m\"\"\"\u001b[39;00m\n\u001b[1;32m--> 129\u001b[0m \u001b[38;5;28;01mfrom\u001b[39;00m \u001b[38;5;21;01m.\u001b[39;00m\u001b[38;5;21;01m_isolve\u001b[39;00m \u001b[38;5;28;01mimport\u001b[39;00m \u001b[38;5;241m*\u001b[39m\n\u001b[0;32m    130\u001b[0m \u001b[38;5;28;01mfrom\u001b[39;00m \u001b[38;5;21;01m.\u001b[39;00m\u001b[38;5;21;01m_dsolve\u001b[39;00m \u001b[38;5;28;01mimport\u001b[39;00m \u001b[38;5;241m*\u001b[39m\n\u001b[0;32m    131\u001b[0m \u001b[38;5;28;01mfrom\u001b[39;00m \u001b[38;5;21;01m.\u001b[39;00m\u001b[38;5;21;01m_interface\u001b[39;00m \u001b[38;5;28;01mimport\u001b[39;00m \u001b[38;5;241m*\u001b[39m\n",
      "File \u001b[1;32mC:\\ProgramData\\anaconda3\\Lib\\site-packages\\scipy\\sparse\\linalg\\_isolve\\__init__.py:6\u001b[0m\n\u001b[0;32m      4\u001b[0m \u001b[38;5;28;01mfrom\u001b[39;00m \u001b[38;5;21;01m.\u001b[39;00m\u001b[38;5;21;01miterative\u001b[39;00m \u001b[38;5;28;01mimport\u001b[39;00m \u001b[38;5;241m*\u001b[39m\n\u001b[0;32m      5\u001b[0m \u001b[38;5;28;01mfrom\u001b[39;00m \u001b[38;5;21;01m.\u001b[39;00m\u001b[38;5;21;01mminres\u001b[39;00m \u001b[38;5;28;01mimport\u001b[39;00m minres\n\u001b[1;32m----> 6\u001b[0m \u001b[38;5;28;01mfrom\u001b[39;00m \u001b[38;5;21;01m.\u001b[39;00m\u001b[38;5;21;01mlgmres\u001b[39;00m \u001b[38;5;28;01mimport\u001b[39;00m lgmres\n\u001b[0;32m      7\u001b[0m \u001b[38;5;28;01mfrom\u001b[39;00m \u001b[38;5;21;01m.\u001b[39;00m\u001b[38;5;21;01mlsqr\u001b[39;00m \u001b[38;5;28;01mimport\u001b[39;00m lsqr\n\u001b[0;32m      8\u001b[0m \u001b[38;5;28;01mfrom\u001b[39;00m \u001b[38;5;21;01m.\u001b[39;00m\u001b[38;5;21;01mlsmr\u001b[39;00m \u001b[38;5;28;01mimport\u001b[39;00m lsmr\n",
      "File \u001b[1;32mC:\\ProgramData\\anaconda3\\Lib\\site-packages\\scipy\\sparse\\linalg\\_isolve\\lgmres.py:11\u001b[0m\n\u001b[0;32m      8\u001b[0m \u001b[38;5;28;01mfrom\u001b[39;00m \u001b[38;5;21;01m.\u001b[39;00m\u001b[38;5;21;01mutils\u001b[39;00m \u001b[38;5;28;01mimport\u001b[39;00m make_system\n\u001b[0;32m      9\u001b[0m \u001b[38;5;28;01mfrom\u001b[39;00m \u001b[38;5;21;01mscipy\u001b[39;00m\u001b[38;5;21;01m.\u001b[39;00m\u001b[38;5;21;01m_lib\u001b[39;00m\u001b[38;5;21;01m.\u001b[39;00m\u001b[38;5;21;01mdeprecation\u001b[39;00m \u001b[38;5;28;01mimport\u001b[39;00m _NoValue, _deprecate_positional_args\n\u001b[1;32m---> 11\u001b[0m \u001b[38;5;28;01mfrom\u001b[39;00m \u001b[38;5;21;01m.\u001b[39;00m\u001b[38;5;21;01m_gcrotmk\u001b[39;00m \u001b[38;5;28;01mimport\u001b[39;00m _fgmres\n\u001b[0;32m     13\u001b[0m __all__ \u001b[38;5;241m=\u001b[39m [\u001b[38;5;124m'\u001b[39m\u001b[38;5;124mlgmres\u001b[39m\u001b[38;5;124m'\u001b[39m]\n\u001b[0;32m     16\u001b[0m \u001b[38;5;129m@_deprecate_positional_args\u001b[39m(version\u001b[38;5;241m=\u001b[39m\u001b[38;5;124m\"\u001b[39m\u001b[38;5;124m1.14.0\u001b[39m\u001b[38;5;124m\"\u001b[39m)\n\u001b[0;32m     17\u001b[0m \u001b[38;5;28;01mdef\u001b[39;00m \u001b[38;5;21mlgmres\u001b[39m(A, b, x0\u001b[38;5;241m=\u001b[39m\u001b[38;5;28;01mNone\u001b[39;00m, \u001b[38;5;241m*\u001b[39m, tol\u001b[38;5;241m=\u001b[39m_NoValue, maxiter\u001b[38;5;241m=\u001b[39m\u001b[38;5;241m1000\u001b[39m, M\u001b[38;5;241m=\u001b[39m\u001b[38;5;28;01mNone\u001b[39;00m, callback\u001b[38;5;241m=\u001b[39m\u001b[38;5;28;01mNone\u001b[39;00m,\n\u001b[0;32m     18\u001b[0m            inner_m\u001b[38;5;241m=\u001b[39m\u001b[38;5;241m30\u001b[39m, outer_k\u001b[38;5;241m=\u001b[39m\u001b[38;5;241m3\u001b[39m, outer_v\u001b[38;5;241m=\u001b[39m\u001b[38;5;28;01mNone\u001b[39;00m, store_outer_Av\u001b[38;5;241m=\u001b[39m\u001b[38;5;28;01mTrue\u001b[39;00m,\n\u001b[0;32m     19\u001b[0m            prepend_outer_v\u001b[38;5;241m=\u001b[39m\u001b[38;5;28;01mFalse\u001b[39;00m, atol\u001b[38;5;241m=\u001b[39m\u001b[38;5;28;01mNone\u001b[39;00m, rtol\u001b[38;5;241m=\u001b[39m\u001b[38;5;241m1e-5\u001b[39m):\n",
      "File \u001b[1;32m<frozen importlib._bootstrap>:1360\u001b[0m, in \u001b[0;36m_find_and_load\u001b[1;34m(name, import_)\u001b[0m\n",
      "File \u001b[1;32m<frozen importlib._bootstrap>:1331\u001b[0m, in \u001b[0;36m_find_and_load_unlocked\u001b[1;34m(name, import_)\u001b[0m\n",
      "File \u001b[1;32m<frozen importlib._bootstrap>:935\u001b[0m, in \u001b[0;36m_load_unlocked\u001b[1;34m(spec)\u001b[0m\n",
      "File \u001b[1;32m<frozen importlib._bootstrap_external>:991\u001b[0m, in \u001b[0;36mexec_module\u001b[1;34m(self, module)\u001b[0m\n",
      "File \u001b[1;32m<frozen importlib._bootstrap_external>:1087\u001b[0m, in \u001b[0;36mget_code\u001b[1;34m(self, fullname)\u001b[0m\n",
      "File \u001b[1;32m<frozen importlib._bootstrap_external>:1186\u001b[0m, in \u001b[0;36mget_data\u001b[1;34m(self, path)\u001b[0m\n",
      "\u001b[1;31mKeyboardInterrupt\u001b[0m: "
     ]
    }
   ],
   "source": [
    "import ast\n",
    "import json\n",
    "import scipy.stats as stat\n",
    "%run data_plot.ipynb\n",
    "%run metrics.ipynb\n",
    "%run discrete_genetic_algorithm.ipynb\n",
    "%run ant_colony_optimization.ipynb\n",
    "%run dijkstras_algorithm.ipynb\n",
    "%run simulated_annealing.ipynb"
   ]
  },
  {
   "cell_type": "markdown",
   "id": "4cf0d6ad-283d-4e58-88ab-bb0c6dcb8a60",
   "metadata": {},
   "source": [
    "This is alongside some import which are required for executing of some functions in this main module. For example, the json import is used in reading and writing execution results in the solutions json file."
   ]
  },
  {
   "cell_type": "markdown",
   "id": "2658ae81-a315-4fb0-972d-ff5cd4e95ace",
   "metadata": {},
   "source": [
    "### Results Visualization on a Map"
   ]
  },
  {
   "cell_type": "markdown",
   "id": "bf78e39c-7c7c-497e-9c0a-0c61cd6ac5cf",
   "metadata": {},
   "source": [
    "To visualize the solutions produced by the various algorithms, we implemented a real and interactive geographic map with the sensors and the base station. This was done using Folium, a Leaflet JavaScript library which we interacted with through an API. We followed through the API documentation (Story 2013) to achieve the following:\n",
    "1. Show the best route obtained from a sensor to a base station by a particular algorithm\n",
    "2. Show all other possible routes found (not the best but have end-to-end connectivity)\n",
    "\n",
    "The locations of the sensors were provided in form of X, Y grid coordinates in meters for purposed of calculating their heuristic distances. However, since the API needs values of geographic coordinates, coordinates of the sensors had to be computed and represented on the leaflet. The computation of geographic coordinates from X, Y grid coordinates was inspired by the Haversine formula (Scripts 2024)."
   ]
  },
  {
   "cell_type": "markdown",
   "id": "1bb56abc-a695-4c47-9eb7-83f48f1ea85e",
   "metadata": {},
   "source": [
    "`latitude = central latitude + y/110574`<br>\n",
    "`longitude = central longitude + x/(11320 * cos(central latitude))`"
   ]
  },
  {
   "cell_type": "markdown",
   "id": "edd383ca-3b85-4409-bb33-1758ea393cda",
   "metadata": {},
   "source": [
    "where x and y are the x, y values of the sensors provided in the csv file while central latitude and central longitude are the (0, 0) coordinates on the grid from which all other sensor distances are calculated from. From the map provided in the graphic in the assignment instructions we estimated the geographic locations of the base stations in Lyndhurst and Beaulieu as shown in figure 1 by referring to google maps."
   ]
  },
  {
   "cell_type": "markdown",
   "id": "ce378bc8-8171-48be-ac1f-c641091890f9",
   "metadata": {},
   "source": [
    "![Alt](https://github.com/samariwa/search-and-optimization-projects/blob/main/assessment/images/search%20area.png?raw=true)"
   ]
  },
  {
   "cell_type": "markdown",
   "id": "9c6a22df-27f8-4bd7-a8b5-4330202472b2",
   "metadata": {},
   "source": [
    "The values ‘110574’ and ‘11320’ in the equations above are the distances between the latitudes and longitudes in meters respectively (Rosenberg 2024). With the geographic coordinates derived from the grid coordinates, we were able to feed the API with the sensor and base station information which was useful in plotting paths."
   ]
  },
  {
   "cell_type": "markdown",
   "id": "b1f78124-9732-4789-9d77-2f8f24649083",
   "metadata": {},
   "source": [
    "![Alt](https://github.com/samariwa/search-and-optimization-projects/blob/main/assessment/images/blank%20map.png?raw=true)"
   ]
  },
  {
   "cell_type": "markdown",
   "id": "9af5e6c8-44e4-4084-ba99-1551e3402f4b",
   "metadata": {},
   "source": [
    "The visualization code functions are found in the [data and plotting module](./data_plot.ipynb) which is has all data fetching and manipulation functions as well as the map visualization functions."
   ]
  },
  {
   "cell_type": "markdown",
   "id": "b1ef177c-f0ec-4fd3-b2ab-b9aca587bdb3",
   "metadata": {},
   "source": [
    "#### Map Visualization Functionalities"
   ]
  },
  {
   "cell_type": "markdown",
   "id": "13abf7a3-ae5c-4d4c-bd89-d7487f016be2",
   "metadata": {},
   "source": [
    "<b>Data Fetching and constant variable initialization:</b> The X, Y grid data is fetched from the CSV file and all constants related to the data such as the ‘distance bandwidth data’ defined in the instructions are initialized. It is at this point that a blank map in the search area of interest is initialized.<br>\n",
    "<b>Grid to Geographic coordinates conversion:</b> Using the formulas defined above, the X, Y data is converted to geographic coordinates using the function `get_geographic_coordinates()`<br>\n",
    "<b>Initialization of a map with sensors:</b> Using the computed geographic coordinates, the sensors and base stations are represented on the blank map. This initialization happens every time an algorithm is executed for visualization to be done on a fresh map. This is done using the `init_blank_map()` function.<br>\n",
    "<b>Plotting routes:</b> Joins the sensors that are part of a transmission path using lines from the origin node to the destination node. This is done for the best path found which is represented using a yellow line and all the other possible paths that are represented using a variety of colors. The ‘best path’ and ‘possible paths’ have been categorically layered in a way that you can view each type independently without struggle. For further visual intuition, the best path’s sensors have been marked with pins which show their sensor IDs. This can be done using a layer controller found on the top left corner. This functionality has been implemented in the `plot_route()` function. With takes in the coordinates as arguments with a specification of whether they are the best routes or they are possible routes.\n"
   ]
  },
  {
   "cell_type": "markdown",
   "id": "4d46d8f2-c181-4f15-9342-4bc61555fd52",
   "metadata": {},
   "source": [
    "![Alt](https://github.com/samariwa/search-and-optimization-projects/blob/main/assessment/images/map%20visualization.png?raw=true)"
   ]
  },
  {
   "cell_type": "markdown",
   "id": "bb26de6d-2172-4f38-9509-9ff6051c1464",
   "metadata": {},
   "source": [
    "### Algorithms"
   ]
  },
  {
   "cell_type": "markdown",
   "id": "5b6481bc-506f-4f83-8c41-560326fa7f31",
   "metadata": {},
   "source": [
    "To solve the routing problem, the following algorithms were implemented:\n",
    "1. Discrete Genetic Algorithm\n",
    "2. Ant Colony Optimization\n",
    "3. Dijkstra's Algorithm\n",
    "4. Simulated Annealing Algorithm\n",
    "\n",
    "The above algorithms have been packaged into a single optimization function `find_optimal_route(origin, method, **kwargs)` that is executable in this report. The function shown below."
   ]
  },
  {
   "cell_type": "code",
   "execution_count": null,
   "id": "561f7d84-f586-4442-b16b-c5ffd436b1e8",
   "metadata": {},
   "outputs": [],
   "source": [
    "#**********PUSH THE MAIN FUNCTION TO THIS PART************"
   ]
  },
  {
   "cell_type": "markdown",
   "id": "4e794228-b3d4-4384-aead-5092c9f9a8a3",
   "metadata": {},
   "source": [
    "#### Discrete Genetic Algorithm (DGA)"
   ]
  },
  {
   "cell_type": "markdown",
   "id": "80956b44-1aaa-4ed1-91ee-35af99477d38",
   "metadata": {},
   "source": [
    "This is a stochastic algorithm that was used in seeking the best solutions (paths) from a particular node to either base station. It uses the classical genetic algorithm approach with the following steps:\n",
    "1. Population initialization\n",
    "2. The selection process that encompasses fitness function evaluation\n",
    "3. Crossover\n",
    "4. Mutation\n",
    "These steps are done iteratively until our termination criteria which is ‘maximum number of generations’ is reached. The full code implementation of this algorithm is found in the [discrete genetic algorithm module](./discrete_genetic_algorithm.ipynb). The specifications of the steps above are explained in the process flow below."
   ]
  },
  {
   "cell_type": "markdown",
   "id": "230259e5-b7dd-4e46-b74a-0c69e7c10fd2",
   "metadata": {},
   "source": [
    "##### Process Flow"
   ]
  },
  {
   "cell_type": "markdown",
   "id": "f28691f0-abee-4cec-b3ef-23737a1aba5e",
   "metadata": {},
   "source": [
    "<b>Population Initialization:</b> The algorithm starts with random initialization of the population which in this case is the various routes from the specified origin to a specified destination (base station). This is done in the function `dga_init_population()`where the number of routes generated is also specified as an argument. The function generated random values excluding the origin and destination regardless of whether they have end connectivity and at the end prepending and appending the origin and destination respectively. The validity of the paths will be checked in subsequent stages. A list of randomly generated routes is returned form the function.<br>\n",
    "<b>Fitness Function Evaluation:</b> The next stage is calculating the end-to-end fitness function which incorporates the end-to-end bandwidth and total latency using the cost function defined for this project. This is done in the `bandwidth_latency_calc()` function and while doing all this, it updates the global variables ‘solutions’ and ‘dga_data’ which carry map visualization data and best solutions (for the solutions file) data. The function returns the population (routes) with their corresponding end-to-end fitness function values.<br>\n",
    "<b>Filtering out valid paths:</b> The next stage is filtering out valid paths from the ones that are created. Since the algorithm has no specified formulae in the way the path is created, many invalid paths have a high chance of being created. Therefore, there is need to exclude them so that the subsequent stages run on quality routes. This process is run in the `get_valid_paths()` function. The function eliminates any chromosome with an end-to-end fitness value of 0 as this means there is no end-to-end connectivity. It is at this stage that we determine if there is no valid path completely to a particular station that has been generated. If that is the case, the algorithm reruns from scratch and seeks a path to the alternative base station using the processes described above.<br>\n",
    "<b>Fitness Selection Process:</b> Using the valid paths determined by the previous stage, a selection process is carried out using the tournament selection method. Here the selection is based on the solutions that have the highest fitness function values since our main aim is to maximize the values. This is carried out in the `tournament_fitness_selection()` function which has a set number of maximum possible winners in the function parameters. The result of this function is quality solutions which will be improved in the subsequent stages. If the quality solution left is just 1, the solution is returned without proceeding further.<br>\n",
    "<b>Crossover:</b> Just before this, the process of preparing the chromosomes for crossover is done. This entails pairing best solutions in 2s since the crossover process requires pairs of chromosomes. This is alongside the type of crossover (single-point/ two-point/ uniform) as arguments to the function `crossover()` where the process happens. The result of the process is 2 children with mixed genes (nodes/sensors in the routes) that could potentially be better solutions than their parents.<br>\n",
    "<b>Mutation:</b> This process seeks to introduce new information to the gene. In the shortest route problem that we seek to solve, mutation is done in the form of swapping genes (sensors) for 2 reasons:\n",
    "1. There is a limited number of valid sensors that can be introduced to the solution\n",
    "2. We aim at having sensors with valid end-to-end connectivity values.\n",
    "\n",
    "The number of swaps made is determined by the mutation rate defined in the function `mutate()` where this entire process runs. The nodes that are to be swapped exclude the origin and destination/base station nodes which are the fixed.\n",
    "\n",
    "The above processes are consolidated into the function `dga_run()` which takes in all the requires parameters. The parameters are:\n",
    "1. `origin`: the origin from which you want to traverse the space.\n",
    "2. `destination`: the destination node which you want to get to.\n",
    "3. `population length`: the length of the population for the first generation.\n",
    "4. `generations (optional)`: the maximum number of generations that you would want to you do work with (termination criteria). Default is set to 10.\n",
    "5. `mutation rate (optional)`: The percentage of the population that will be mutated. Default is set to (0.1).\n",
    "6. `crossover type (optional)`: The type of crossover that will be implemented. The default is set to 'single-point'.\n",
    "7. `selection limit (optional)`: The number of winners that should be selected at the minimum during the fitness selection stage. Default is set to 20.\n",
    "\n",
    "The algorithm is tested for each base station. The population generated point to a certain base station and if a valid solution to that base station is found, the alternate base station is tried. This is done using a try-except statement in the wrapping function `discrete_genetic_algorithm()` which is the main function of this algorithm and is called in the main function file. The result of this function is the plotting data that has the best and possible paths alongside the solutions variable that has the data of the best path that will be recorded in the solutions file. The above processes are illustrated in the flow chart below."
   ]
  },
  {
   "cell_type": "markdown",
   "id": "6f839d92-b1bc-409f-9c81-d9e1acf723da",
   "metadata": {},
   "source": [
    "![Alt](https://github.com/samariwa/search-and-optimization-projects/blob/main/assessment/images/dga%20flowchart.png?raw=true)"
   ]
  },
  {
   "cell_type": "markdown",
   "id": "933c46a0-4228-44d7-82e6-121c11537ca6",
   "metadata": {},
   "source": [
    "To execute the discrete genetic algorithm, run `find_optimal_route(sensor, 'discrete genetic algorithm', **kwargs)`. For example:"
   ]
  },
  {
   "cell_type": "markdown",
   "id": "d4a117b9-63b2-417a-adb8-d194061b9872",
   "metadata": {},
   "source": [
    "```\n",
    "origin_sensor = 43\n",
    "\n",
    "dga_kwargs = {\"pop_length\": 150000,\n",
    "              \"generations\": 20,\n",
    "              \"crossover_type\": \"single-point\"\n",
    "            }\n",
    "find_optimal_route(origin_sensor, 'discrete genetic algorithm', dga_kwargs)\n",
    "```"
   ]
  },
  {
   "cell_type": "markdown",
   "id": "839a8e02-07a3-45a0-9545-c942439b151e",
   "metadata": {},
   "source": [
    "#### ACO - Ant Colony Optimization\n",
    "\n",
    "Introduction\n",
    "\n",
    "This algorithm was used in searching for the optimal path from any node to either of the base stations. The algorithm employs ‘ants’ by the way of iterative process, in a stigmergic fashion working ‘together’, although not concurrently or in parallel (we looked into these but deemed them redundant), marking paths with pheromones for more ‘ants’ to follow in following iterations. The Elitist ACO approach adds an extra pheromone level for the ant discovering the best path. Higher graph edge’s pheromone level may increase the probability of an ant transition to it, but the process is still stochastic by utilization of a roulette wheel method, increasing ants’ chances at exploration and preventing the model from being too deterministic. Evaporation has been used in both algorithms. Global pheromone update has been used.\n",
    "\n",
    "#### Process Flow, Methodology\n",
    "\n",
    "Routing Table Creation: The algorithm starts with the creation of an adjacency matrix to represent the geographical data (from co-ordinates). This is done by calculating the Euler distances and the bandwidth connectivity between the nodes (acting as graph weights) as per the Mbps table supplied. This matrix will be essential in creating random routes that have end-to-end connectivity at the fastest rate possible. One algorithm (RH) used out_nodes and out_pheros structures, to ease the coding process, interpretability, and readability. They are essentially a graph adjacency list, and its auxiliary matrix of pheromones, respectively. RH algorithm used the Elitist approach, wherein the elite ant left a 3 x higher pheromone than regular ants. SM code used classic ACO solution, with equal weight given to all ants’ pheromones. In SM implementation, ants were deployed not only from the origin node (as in RH code), but also some adjacent nodes, to improve exploration; he called them ‘helper ants’ – it is a novel idea. Both implementations used the version of calculating probability of single transition to another edge in the graph with the value of tau to the power of alpha, as well as eta to the power of beta divided by their summation. Although it arguably adds some pre-determination into the method, it possibly allows us to reduce the number of iterations and save on computing power. Evaporation rate was 0.45 in both, striking a balance between the persistence of emerging route solutions (pheromone staying power), and stochastic exploration of new / poorly explored unexplored paths. The cumulative probability in both programs was used to construct a roulette wheel, where randomness introduced an extra level of exploring the search space. When routing to one destination or the other, a pseudo-random function was utilized. Both algorithms use loop removal, implemented in slightly different ways.\n",
    "Two operations are weighty for the algorithm’s workings, i.e. positive and negative feedback. Positive feedback takes information from the ants in order to apply stigmergy to the system.  After all ants within an iteration have constructed their paths from the source to destination and graph cycles are removed, the pheromone intensity on an edge (i, j) is adjusted:\n",
    "\n",
    "![Alt](images/Formula1.png)\n",
    "![Alt](images/Formula2.png)\n",
    "    \n",
    "xk(t) is the solution of ant k; f(xk(t)) is the quality of the solution (cost of the path); Q > 0 and is a constant; nk is the number of ants.\n",
    "\n",
    "We had to correct one of the programs in order to reflect the fact that our objective function is not strictly a ‘cost’ function, but a ‘benefit’ function to be maximized. Hence, the function value was hereby raised to a power of positive, rather than negative, exponent (here: 1 rather than -1) It enhanced the algorithm, although it still seemed to work and converge satisfactorily well even before that correction. \n",
    "Negative feedback was a simple run through the pheromone matrix by multiplying a scalar (1- ϱ) by it. In both apps, we used 0.45 and it was found effective.\n",
    "The only stopping criteria we used is the number of iterations. Another could be used, too: all (or most) ants follow the same path. It could lead to waste of computational power in non-critical solutions, though. We shall expand on it in the next part.\n",
    "\n",
    "#### Parameter Choice, Experiments and Performance Analysis\n",
    "\n",
    "Having coded, troubleshooted and tested the code, it was time for analysis of the solution files and fine-tuning the parameters. RH code initially set the parameters to the same levels as SM (ants_n=20, iterations=10), but performed many tests and performance and quality analysis to establish a good balance for the apploication domain (weather monitoring system). A chat with OpenAI’s ChatGPT was used, provided with 9 detailed solution files and timings (ChatGPT, 2025). Increases from 10 to 15 and then 20 iterations offered merely modest improvements in the quality of solutions measured by mean objective function for all routes in 10, 15, 20 iteration version (+4.39% and +4.30%, respectively, and only the latter is marginally statistically significant); however, the timings went up from 3 to 5 then 7 minutes per execution. The tests for each of the three iteration parameters were repeated 3 times, and no difference in run time or solution quality was noted. Similarly, increasing the number of ants from 20 to 30 did not affect either the run times, or the quality of the solution.\n",
    "The recommendation for our optimization problem would be to persist with the lower values of iterations as sufficiently accurate and more computationally effective. The increase from 15 to 20 iterations, while “marginally significant, it may justify the cost in high-stakes scenarios”, like high precision or critical systems.\n",
    "\n",
    "#### Tweaks, flowchart, discussion\n",
    "\n",
    "We added the following tweak to the transition probability formulae, that is also commonly used in travelling salesman problem (which shares similarities with and differences from ours).\n",
    "\n",
    "![Alt](images/Formula3.png)\n",
    " \n",
    "for k = ⟨1, 2, … , nk⟩\n",
    "\n",
    "where: τij(t) is the pheromone intensity; ηij(t) (eta) is a priori effectiveness of the move from i to j; α > 0, β > 0 are predefined constraints; ηij(t) = 1; dij(t) improves the attractiveness of the edge (i, j); dij(t): cost between edge (i, j); \n",
    "\n",
    "#### Further performance comparisons\n",
    "\n",
    "When the two ACO algorithms were run, along with all the other algorithms, it came to our attention that they perform quite differently. Hence we have decided to carry out another, less formal performance analysis.\n",
    "\n",
    "Below is a table of timings (Table 1) on how long the runtime was on optimization of routes from all 150 nodes to one of the base stations. Where applicable, same parameters (ant number, iterations) were set. Each algorithm was run 150 times for every node as a source parameter, and an aggregate time has been indicated.\n",
    "\n",
    "![Alt](images/Algo_Timings.JPG)\n",
    "\n",
    "\n",
    "Table 1. Algorithm timings for a full run of each algorithm.\n",
    "\n",
    "The leader, as expected, was the Dijkstra’s Algorithm, closely trailed by Simulated Annealing. It proved difficult to pinpoint concrete reasons why there was a discrepancy between the two ACO implementations. It seems that ACO (SM) must have been much more exploratory than ACO (RH).\n"
   ]
  },
  {
   "cell_type": "markdown",
   "id": "d5465bf5-ea05-4b25-899b-f42e3225c1d5",
   "metadata": {},
   "source": [
    "#### Simulated Annealing"
   ]
  },
  {
   "cell_type": "markdown",
   "id": "7ff05fbe-5476-4369-b0f7-64c03c2c7168",
   "metadata": {},
   "source": [
    "This algorithm was used in seeking for the best path from a node to any of the base stations. This was done by iteratively checking the absolute cost of the random paths generated up to a point when the following 2 conditions have been met:\n",
    "1. The temperature cools to the lowest set temperature for the algorithm\n",
    "2. There has been no considerable improvement in the absolute cost over the course of several iterations.\n",
    "For purposes of exploration of the search space, the probability of the algorithm picking a worse off solution is high at the initial phases (when the temperature is high) but in later iterations, better solutions are highly considered."
   ]
  },
  {
   "cell_type": "markdown",
   "id": "9695d149-0525-478e-8b56-648f96f6a6fb",
   "metadata": {},
   "source": [
    "##### Process Flow"
   ]
  },
  {
   "cell_type": "markdown",
   "id": "b388e423-fbd1-4c0b-bfe4-69a8e0ad8013",
   "metadata": {},
   "source": [
    "<b>Routing Table Creation:</b> The algorithm starts with the creation of a connectivity graph. This is done by calculating the distances and the bandwidth connectivity between the nodes. This graph will be essential in creating random routes that have end-to-end connectivity at a fast rate. This process is implemented by the `calculate_route_costs ()` function which is fed in the x_y_data that contains the x, y positions of the sensors. A 2D array with the calculated bandwidth information is returned.<br>\n",
    "<b>Initial Route Generation:</b> A random route in created and to ensure validity, the routing table created in the previous step is utilized. The path generated could be of varying length and could be leading to any of the base stations. This is done concurrently with the route absolute cost calculation. This is done in the `generate_route ()` function which takes in the origin node and the routing table data. The absolute cost calculation is done in the `bandwidth_latency_calculation ()` function with takes in the generated route. The route with its corresponding cost is returned from the whole process.<br>\n",
    "<b>Variable Initialization:</b> This is a stage where variables like the ‘starting temperature’, ‘final temperature’, ‘cooling rate’, and ‘improvement checker count’ are initialized. These are the variables that control the functioning of the main function called `simulated_annealing ()`. Their functions are defined below:\n",
    "1. starting temperature: the start temperature defined for the simulated annealing algorithm\n",
    "2. final temperature’: the final temperature defined for the simulated annealing algorithm\n",
    "3. cooling rate: the temperature cooling rate for the algorithm for the algorithm \n",
    "4. improvement checker count: the number of iterations to go through before checking if there is any sensible improvement in the path quality\n",
    "   \n",
    "<b>Recursive Exploration:</b> The algorithm then gets into the core functionality of generating other possible solutions and checking if they are better than the current best solution. Initially, the first solution is set as the best solution and thereafter, any solution that is better than that is used as the best solution for forthcoming iterations. Meanwhile, the cooling of the temperature happens at the set rate. During the initial iterations, the probability of a worse of solution being used as an acceptable solution is high since the high temperature is used in calculating the probability of a path being picked. As the temperature goes down, the influence of temperature in determining whether a solution will be accepted is low. The formulae used in determining whether a solution is picked is as follows:<br>\n",
    "`delta = current path cost – best path cost`<br>\n",
    "`probability = exponential (-delta / current temperature)`<br>\n",
    "Just like in a roulette wheel, a random number is generated and the side in which is falls in determines the solution’s acceptance. In this case, if the number is less than the calculated probability, the worse off solution is accepted.\n",
    "This loop goes on until the lowest temperature is reached. However, I a situation where several iterations have been done but there is no significant improvement, the loop is broken and the solution accepted for purposes of saving time and computation resources.\n",
    "\n",
    "The main function returns the generated solutions that is categorized as ‘best routes’ and ‘possible routes’ as is a standard with all the other algorithm implementations for visualization purposes. The solutions variable containing the best path in the format required by the solutions file is also returned. The process flow is represented in the flow chart below.\n"
   ]
  },
  {
   "cell_type": "markdown",
   "id": "0dce0665-dc7d-4c8b-96a6-e9effdd9d9a7",
   "metadata": {},
   "source": [
    "![Alt](https://github.com/samariwa/search-and-optimization-projects/blob/main/assessment/images/simanneal%20flowchart.png?raw=true)"
   ]
  },
  {
   "cell_type": "markdown",
   "id": "1a524bbd-2f8c-4a04-8d49-bde1025cbbed",
   "metadata": {},
   "source": [
    "To execute the discrete genetic algorithm, run `find_optimal_route(sensor, 'simulated annealing', **kwargs)`. For example:"
   ]
  },
  {
   "cell_type": "markdown",
   "id": "fe81ccb6-fadc-4010-9c62-6f813efa7b3a",
   "metadata": {},
   "source": [
    "```\n",
    "origin_sensor = 43\n",
    "\n",
    "sim_anneal_kwargs = {\"init_temp\": 70,\n",
    "                     \"final_temp\", 5,\n",
    "                     \"cooling_rate\", 0.82\n",
    "                    }\n",
    "find_optimal_route(origin_sensor, 'simulated annealing', sim_anneal_kwargs)\n",
    "```"
   ]
  },
  {
   "cell_type": "markdown",
   "id": "64f27d2ad3325bad",
   "metadata": {},
   "source": [
    "#### PARTICLE SWARM OPTIMIZATION\n",
    "The algorithm begins by generating n random particles. Each particle starts from the same vertex and is assigned a random ending vertex. The particles traverse the graph, and their paths terminate as soon as they reach one of the predefined ending nodes (e.g., nodes 151 or 152). This initialization ensures a diverse set of starting solutions, which are critical for exploring the search space effectively.\n",
    "The code for this project [Particle Swarm Algorithm](particle-swarm-group1.ipynb)\n"
   ]
  },
  {
   "cell_type": "markdown",
   "id": "687e93aee277da3e",
   "metadata": {},
   "source": [
    "##### METHODOLOGY\n",
    "1.\tParticle Initialization\n",
    "The algorithm generates the n random particles each with the same starting vertex and any random ending vertex. In case the ending vertex is reached which is 151 or 152, then the particle generation path will stop.\n",
    "\n"
   ]
  },
  {
   "cell_type": "markdown",
   "id": "58c3beb19bc51209",
   "metadata": {},
   "source": [
    "<div align=\"center\">\n",
    "  <img src=\"img1.png\" alt=\"alt text\" style=\"width:400px; height:auto;\">\n",
    "</div>"
   ]
  },
  {
   "cell_type": "markdown",
   "id": "d67b740c594ee086",
   "metadata": {},
   "source": [
    "2.\tVelocity Initialization\n",
    "The velocity of our particles is defined considering three properties direction, mean weight and update index, where the direction is the direction toward which end node, the mean weight is the mean weights of the neighbours of the particles, also the update index is random place where the update of the particle can take place to find the best solution.\n",
    "The choice of velocity in our context is how we approached particle swarm optimization while mimicking the social, cognitive, and inertia from the particle swarm optimization.\n",
    "Hence the direction, mean weight and inertia of the particle is being calculated as social, cognitive and inertia of the particle\n"
   ]
  },
  {
   "cell_type": "markdown",
   "id": "dc796b74cf0eb40c",
   "metadata": {},
   "source": [
    "<div align=\"center\">\n",
    "  <img src=\"img2.png\" alt=\"alt text\" style=\"width:400px; height:auto;\">\n",
    "</div>"
   ]
  },
  {
   "cell_type": "markdown",
   "id": "f61d107b05835c23",
   "metadata": {},
   "source": [
    "3.\tUpdate Velocity\n",
    "The velocity and acceleration of the particle is updated to by considering the personal best and the global best solution of the particles. The updated velocity of the particle will contain new direction, weight and update index. All of these are taken into consideration to follow and mimic particle swarm operation of cognitive, social and inertia\n",
    "\n"
   ]
  },
  {
   "cell_type": "markdown",
   "id": "ccd70f28a8b1d066",
   "metadata": {},
   "source": [
    "<div align=\"center\">\n",
    "  <img src=\"img3.png\" alt=\"alt text\" style=\"width:400px; height:auto;\">\n",
    "</div>"
   ]
  },
  {
   "cell_type": "markdown",
   "id": "f3049ac5b813a3ec",
   "metadata": {},
   "source": [
    "4.\tUpdate Position\n",
    "Since we have the new velocity then we can use it to get the new position of the particle, by updating the update index and searching through the neighbours of the update index using the criteria of the weight on how to search, the weight factor is used to compare the neighbours’ weights and choose which can be appropriate neighbour to choose. Also, the direction likely tells the particles new position to specifically search for this direction while finding neighbours, but it in case that happens then keep on until you reach your direction\n"
   ]
  },
  {
   "cell_type": "markdown",
   "id": "e6801e3be0355fb8",
   "metadata": {},
   "source": [
    "<div align=\"center\">\n",
    "  <img src=\"img4.png\" alt=\"alt text\" style=\"width:400px; height:auto;\">\n",
    "</div>"
   ]
  },
  {
   "cell_type": "markdown",
   "id": "64f660c64e6bfeb8",
   "metadata": {},
   "source": [
    "5.\tPareto Solution\n",
    "After all solutions are obtained, we then calculate the Pareto front to obtain solutions which are all the best, not just the one with minimum fitness function. Hence, we can get which solutions are the best from the starting node to the base station.\n"
   ]
  },
  {
   "cell_type": "markdown",
   "id": "28959401e72964f6",
   "metadata": {},
   "source": [
    "<div align=\"center\">\n",
    "  <img src=\"img5.png\" alt=\"alt text\" style=\"width:400px; height:auto;\">\n",
    "</div>"
   ]
  },
  {
   "cell_type": "markdown",
   "id": "983855a5e907244c",
   "metadata": {},
   "source": [
    "#### BENCHMARK\n",
    "Cost function\n",
    "Since our problem is to minimize latency while maximizing the transmission rate, we have simply put our problem in a single function where we aim to maximize the cost function.\n",
    "The cost function is as below\n"
   ]
  },
  {
   "cell_type": "markdown",
   "id": "bd3dc611cf6cec1c",
   "metadata": {},
   "source": [
    "\\begin{align*}\n",
    "\\text{Fitness Function:} \\quad\n",
    "F(\\text{path}) &= w_{\\text{latency}} \\cdot \\text{norm\\latency} - w{\\text{rate}} \\cdot \\text{norm\\_rate} \\\\\n",
    "\\text{where:} \\\\\n",
    "\\text{norm\\_latency} &= \\frac{\\text{total\\_latency}}{30 \\cdot (|V| - 1)} \\\\\n",
    "\\text{total\\_latency} &= 30 \\cdot (|\\text{path}| - 1) \\\\\n",
    "\\text{norm\\_rate} &= \\frac{\\text{min\\_transmission\\_rate}}{\\max \\left( \\{ \\text{weight}(u,v) \\mid (u,v) \\in E \\} \\right)}\n",
    "\\end{align*}"
   ]
  },
  {
   "cell_type": "markdown",
   "id": "5ae7d0634e73bd82",
   "metadata": {},
   "source": [
    "#### LIMITATIONS\n",
    "1.\tFor shorter particles it finds hard to explore other solution when the best solution is reached as the update can check function for length can break and hence get undefined length of the particle.\n",
    "\n",
    "2.\tSome particles do not arrive at the final solution and stack at their local best\n"
   ]
  },
  {
   "cell_type": "markdown",
   "id": "43e0d5f0-b3a0-458c-aec6-ab67e321d671",
   "metadata": {},
   "source": [
    "## Results"
   ]
  },
  {
   "cell_type": "code",
   "execution_count": null,
   "id": "4cbcb00b-7ef9-4696-b637-b50a9ae9424b",
   "metadata": {},
   "outputs": [],
   "source": []
  },
  {
   "cell_type": "code",
   "execution_count": null,
   "id": "a0f24d97-b792-48df-9e31-98f89f36080f",
   "metadata": {},
   "outputs": [],
   "source": [
    "def parse_map_data(results):\n",
    "    \"\"\"\n",
    "    parse_map_data(results)\n",
    "    converts routes data to geographic routes that can be represented on a map.\n",
    "    this is done by checking the sequence of x y coordinates against their corresponding\n",
    "    geographic coordinates defined in the plotting module.\n",
    "    results: the algorithm search results that contains the best solution to the destination\n",
    "    and all other possible routes.\n",
    "    returns: the coordinates used to create the map representation\n",
    "    \"\"\"\n",
    "    # init dictionary with the structure expected for map visualization\n",
    "    coordinates = {'best_route': {'sensor_id': [],\n",
    "                              'coordinates': []}, \n",
    "               'possible_routes': []\n",
    "              }\n",
    "    # convert the string containing the list of the best path to type list\n",
    "    possible_paths = [ast.literal_eval(paths) for paths in results['possible_paths'].keys()]\n",
    "    # get the geographic coordinates for all nodes in possible paths\n",
    "    for path in possible_paths:\n",
    "        route_coords = []\n",
    "        possible_path_dest_idx = len(path) - 1\n",
    "        for idx, sensor in enumerate(path):\n",
    "            if idx != 0 and idx != possible_path_dest_idx:\n",
    "                # duplicate coordinates for all nodes but for the first and last\n",
    "                route_coords.append(geographic_coords[str(sensor)])\n",
    "                route_coords.append(geographic_coords[str(sensor)])\n",
    "            else:\n",
    "                route_coords.append(geographic_coords[str(sensor)])\n",
    "        coordinates['possible_routes'].append(route_coords)\n",
    "    # add best path last so that an visual it appears on top\n",
    "    best_path = ast.literal_eval(list(results['best_path'].keys())[0])\n",
    "    best_path_dest_idx = len(best_path) - 1\n",
    "    for idx, sensor in enumerate(best_path):\n",
    "        # include sensor IDs for the best path except for the destination (won't need pin marker)\n",
    "        if idx != best_path_dest_idx:\n",
    "            coordinates['best_route']['sensor_id'].append(sensor)\n",
    "        if idx != 0 and idx != best_path_dest_idx:\n",
    "            # duplicate coordinates for all nodes but for the first and last\n",
    "            coordinates['best_route']['coordinates'].append(geographic_coords[str(sensor)])\n",
    "            coordinates['best_route']['coordinates'].append(geographic_coords[str(sensor)])\n",
    "        else:\n",
    "            coordinates['best_route']['coordinates'].append(geographic_coords[str(sensor)])\n",
    "\n",
    "    return coordinates"
   ]
  },
  {
   "cell_type": "code",
   "execution_count": null,
   "id": "568b0eb8-4ee2-42a3-b93c-e5acf6863eac",
   "metadata": {},
   "outputs": [],
   "source": [
    "def load_solutions():\n",
    "    \"\"\"\n",
    "    load_solutions()\n",
    "    it loads solutions that already exist since new solutions are appended to the json\n",
    "    object before being added written on the file.\n",
    "    returns: the json object read from the file\n",
    "    \"\"\"\n",
    "    # fetch existing best solutions from the solutions file\n",
    "    with open('solutions.json', 'r') as file:\n",
    "        try:\n",
    "            solutions = json.load(file)\n",
    "        except Exception as e:\n",
    "            # if the solutions file is empty, initialize and empty dict to be used\n",
    "            solutions = {}\n",
    "\n",
    "    return solutions"
   ]
  },
  {
   "cell_type": "code",
   "execution_count": null,
   "id": "8bef4f01-95bc-4a8f-9eb4-a571b466185f",
   "metadata": {},
   "outputs": [],
   "source": [
    "def save_solution(solution, method):\n",
    "    \"\"\"\n",
    "    save_solution(solution, method)\n",
    "    saves the best solution found by each algorithm in a solutions json file.\n",
    "    the solutions file has a format like...\n",
    "    {\"source node\": \"Node-5\", \n",
    "    \"routing path\": \"(Node-2, 1 Mbps), (Node-1, 4Mbps), (BS-2, 2 Mbps)\",\n",
    "    \"end-to-end transmission rate\": \"1 Mbps\"}\n",
    "    solution: the best solution to a base station from a sensor\n",
    "    method: the method that was used to get that best solution.\n",
    "    returns: nothing\n",
    "    \"\"\"\n",
    "    # fetch existing solutions\n",
    "    existing_solutions = load_solutions()\n",
    "    '''\n",
    "    if solution for a sensor using the method specified exists, \n",
    "    update the dict with a new solution, otherwise create the solution\n",
    "    '''\n",
    "    if method in existing_solutions.keys():\n",
    "        existing_solutions[method][solution[0]['source node']] = solution[0]\n",
    "    else:\n",
    "        existing_solutions[method] = {}\n",
    "        existing_solutions[method][solution[0]['source node']] = solution[0]\n",
    "    # write the updated solutions to the solutions file\n",
    "    json.dump(existing_solutions, open( f\"solutions.json\", 'w' ) )\n",
    "\n",
    "    return"
   ]
  },
  {
   "cell_type": "code",
   "execution_count": null,
   "id": "9ed49514-3f18-43ab-a60e-d3cd0204846c",
   "metadata": {},
   "outputs": [],
   "source": [
    "def find_optimal_route(origin, method, **kwargs):\n",
    "    \"\"\"\n",
    "    find_optimal_route(origin, method, **kwargs)\n",
    "    the main function of this assessment. It searches for best route \n",
    "    from a node to either of the 2 base stations. The search is done using\n",
    "    the algorithm specified as one of the arguments. Supported algorithms \n",
    "    include: 'discrete genetic algorithm', 'ant colony optimization', \n",
    "    'dijkstras algorithm' and 'simulated annealing'. Each of the algorithms,\n",
    "    return a best solutions dictionary that is stored in the solutions file,\n",
    "    and the results dictionary which is used for visualization on a map\n",
    "    origin: the node whose best path to a base station you are seeking\n",
    "    method: the algorithm you want to use to perform the search\n",
    "    **kwargs: any additional arguments you want to pass in for\n",
    "    optimization of the various algorithms\n",
    "    Expected **kwargs and their fallback values:\n",
    "    discrete genetic algorithm: pop_length=100000, generations=10, mutation_rate=0.1, crossover_type='single-point', selection_limit=20\n",
    "    ant colony optimization: Q=1, alpha = 0.6, evaporate=0.45, ants_count=20, max_iterations=10\n",
    "    dijkstras algorithm: None\n",
    "    simulated annealing: init_temp=100, final_temp=0.1, cooling_rate=0.95, improvement_checker_count=50\n",
    "    More details on the **kwargs provided in the algorithms' respective modules\n",
    "    returns: nothing\n",
    "    \"\"\"\n",
    "    # run the algorithm passed in as a parameter and fetch the visualization results together with the solutions file data\n",
    "    if method == \"discrete genetic algorithm\":\n",
    "        results, solutions = discrete_genetic_algorithm(\n",
    "            origin,\n",
    "            pop_length=kwargs.get(\"pop_length\", 100000),\n",
    "            generations=kwargs.get(\"generations\", 10),\n",
    "            mutation_rate=kwargs.get(\"mutation_rate\", 0.1),\n",
    "            crossover_type=kwargs.get(\"crossover_type\", \"single-point\"),\n",
    "            selection_limit=kwargs.get(\"selection_limit\", 20),\n",
    "        )\n",
    "    elif method == \"dijkstras algorithm\":\n",
    "        results, solutions = ant_colony_optimization(\n",
    "            origin,\n",
    "            Q=kwargs.get(\"Q\", 1),\n",
    "            alpha=kwargs.get(\"alpha\", 0.6),\n",
    "            evaporate=kwargs.get(\"evaporate\", 0.45),\n",
    "            ants_count=kwargs.get(\"ants_count\", 20),\n",
    "            max_iterations=kwargs.get(\"max_iterations\", 10),\n",
    "        )\n",
    "    elif method == \"ant colony optimization\":\n",
    "        results, solutions = ant_colony_optimization(origin)\n",
    "    elif method == \"simulated annealing\":\n",
    "        results, solutions = simulated_annealing(\n",
    "            origin,\n",
    "            init_temp=kwargs.get(\"init_temp\", 100),\n",
    "            final_temp=kwargs.get(\"final_temp\", 0.1),\n",
    "            cooling_rate=kwargs.get(\"cooling_rate\", 0.95),\n",
    "            improvement_checker_count=kwargs.get(\"improvement_checker_count\", 50),\n",
    "        )\n",
    "    else:\n",
    "        return \"unknown algorithm\"\n",
    "    # save the best path in the solutions file\n",
    "    save_solution(solutions, method)\n",
    "    # parse the plotting results and call the map visualization function\n",
    "    #coordinates = parse_map_data(results)\n",
    "    #plot_route(coordinates)\n",
    "\n",
    "    return"
   ]
  },
  {
   "cell_type": "code",
   "execution_count": null,
   "id": "3f0eecc7-1257-466a-a94d-77ffeb22e03b",
   "metadata": {},
   "outputs": [],
   "source": [
    "#find_optimal_route(43, 'discrete genetic algorithm', pop_length=100000)\n",
    "#find_optimal_route(1, 'ant colony optimization')\n",
    "#find_optimal_route(43, 'simulated annealing')"
   ]
  },
  {
   "cell_type": "code",
   "execution_count": null,
   "id": "f0692f8e-3a31-4523-b8da-0003343cf0cd",
   "metadata": {},
   "outputs": [],
   "source": [
    "def get_missing_solutions():\n",
    "    \"\"\"\n",
    "    get_missing_solutions()\n",
    "    for each algorithm, it gets the nodes that dont have any documented\n",
    "    solutions to any of the based stations. This is based on the records\n",
    "    found in the solutions json file.\n",
    "    returns: a dictionary containing the missing solution for each algorithm\n",
    "    \"\"\"\n",
    "    missing_solutions = {}\n",
    "    sensors = list(x_y_data.keys())[:-2]\n",
    "    solutions = load_solutions()\n",
    "\n",
    "    for algorithm in solutions.keys():\n",
    "        for sensor in sensors:\n",
    "            if solutions[algorithm].get(f\"Node-{sensor}\") == None:\n",
    "                if algorithm in missing_solutions.keys():\n",
    "                    missing_solutions[algorithm].append(sensor)\n",
    "                else:\n",
    "                    missing_solutions[algorithm] = []\n",
    "                    missing_solutions[algorithm].append(sensor)\n",
    "\n",
    "    return missing_solutions    "
   ]
  },
  {
   "cell_type": "code",
   "execution_count": null,
   "id": "90f496cc-f159-4edd-8ebb-ed47b688b198",
   "metadata": {},
   "outputs": [],
   "source": [
    "def run_all():\n",
    "    \"\"\"\n",
    "    run_all()\n",
    "    executes the find_optimal_route() function for all sensors using all algorithms\n",
    "    for purposes of storing the best solutions for each in the solutions file.\n",
    "    returns: nothing\n",
    "    \"\"\"\n",
    "    # algorithms to be executed\n",
    "    methods = ['discrete genetic algorithm', 'ant colony optimization', 'dijkstras algorithm', 'simulated annealing']\n",
    "    # all sensors except the 2 base stations\n",
    "    sensors = list(x_y_data.keys())[:-2]\n",
    "    # for each method, find the best path for each sensor\n",
    "    for method in methods:\n",
    "        for sensor in sensors:\n",
    "            # ignore situations where no best paths will be found. This is typical with DGA and it will kill the function\n",
    "            try:\n",
    "                print(f\"Sensor {sensor}\")\n",
    "                find_optimal_route(sensor, method)\n",
    "            except:\n",
    "                pass        \n",
    "\n",
    "    return"
   ]
  },
  {
   "cell_type": "code",
   "execution_count": null,
   "id": "23fe648c-4465-4b0e-87fa-3d2ec5ff45be",
   "metadata": {},
   "outputs": [],
   "source": [
    "#run_all()"
   ]
  },
  {
   "cell_type": "markdown",
   "id": "d1b78aaf-f957-45bb-bb33-52080191dbd8",
   "metadata": {},
   "source": [
    "### Algorithm Performance Evaluation"
   ]
  },
  {
   "cell_type": "markdown",
   "id": "cdd063a2-6b93-4771-b44a-e2cafa77835d",
   "metadata": {},
   "source": [
    "The various algorithms that we implemented were evaluated against the following metrics:\n",
    "- Execution time\n",
    "- Solution quality\n",
    "\n",
    "The performances were then visualized in a bar chart and table respectively. The code implementing performance of the algorithms is found in the [Mertics Module](./metrics.ipynb)"
   ]
  },
  {
   "cell_type": "markdown",
   "id": "1fb55342-d147-42b9-a0d1-05fcaf7dee7f",
   "metadata": {},
   "source": [
    "#### Execution Time"
   ]
  },
  {
   "cell_type": "markdown",
   "id": "11211fc1-374e-45df-bc10-45e226c7cdd3",
   "metadata": {},
   "source": [
    "This metric calculates the time taken in seconds for an algorithm to execute. This measurement when the same type of problem is passed into the various algorithms, for example, getting the best path to any base station from node 43 will be passed in to all the algorithms. The time library was imported to capture execution start time and end time and this the execution time calculated as follows:"
   ]
  },
  {
   "cell_type": "markdown",
   "id": "e6a3302e-3542-4870-8670-725f8f36645f",
   "metadata": {},
   "source": [
    "`\n",
    "execution time = execution stop time – execution start time\n",
    "`"
   ]
  },
  {
   "cell_type": "markdown",
   "id": "b62a36bc-161e-473e-9886-1f161fd9edc9",
   "metadata": {},
   "source": [
    "This information is recorded against the algorithm name in a dictionary. After all the executions, the dictionary is used to build a bar chart which shows execution time in seconds as in the figure below."
   ]
  },
  {
   "cell_type": "markdown",
   "id": "9bc97c25-97d4-4206-8178-88d6d5d07642",
   "metadata": {},
   "source": [
    "![Alt](https://github.com/samariwa/search-and-optimization-projects/blob/main/assessment/images/metrics%20chart.png?raw=true)"
   ]
  },
  {
   "cell_type": "markdown",
   "id": "b4cb4a3a-b79c-4fd9-9662-72b65959923a",
   "metadata": {},
   "source": [
    "The function that fetches the execution time performance is shown below. To execute run `get_algorithm_time_metrics()`"
   ]
  },
  {
   "cell_type": "code",
   "execution_count": null,
   "id": "5236f767-5c0f-456d-8d03-146539700131",
   "metadata": {},
   "outputs": [],
   "source": [
    "def get_algorithm_time_metrics():\n",
    "    \"\"\"\n",
    "    get_algorithm_time_metrics()\n",
    "    this function compares the performance of the various algorithms \n",
    "    in terms of execution time and plots them on a bar graph. This is done\n",
    "    by setting a timer at the beginning of execution of an algorithm and stopping\n",
    "    it at the end of the execution. The duration is stored in a dictionary against\n",
    "    the algorithm name as a key in the stop_execution() function. These functions\n",
    "    are found in the found in the metrics module. The durations are plotted on a\n",
    "    bar graph for visualization purposes.\n",
    "    returns: nothing\n",
    "    \"\"\"\n",
    "    # choose any random node to start from with the exception of the base stations\n",
    "    dest_nodes = [x_y_base_station_1[0], x_y_base_station_2[0]]\n",
    "    start_node = choice(np.array([i for i in x_y_data.keys() if i not in dest_nodes]), 1, replace=False)[0]\n",
    "    # list of algorithms whose time performance will be compared\n",
    "    methods = ['discrete genetic algorithm', 'ant colony optimization', 'dijkstras algorithm', 'simulated annealing']\n",
    "    for method in methods:\n",
    "        print(\"++++++++++++++++++++++++++++++++++++++++++++++++++++++++++++++++++++++++++++++++++++\")\n",
    "        print(f\"executing {method}...\")\n",
    "        # start execution timer\n",
    "        start_execution()\n",
    "        # run the algorithm\n",
    "        find_optimal_route(start_node, method)\n",
    "        # stop the timer and record the results\n",
    "        stop_execution(method)\n",
    "        print(\"++++++++++++++++++++++++++++++++++++++++++++++++++++++++++++++++++++++++++++++++++++\")\n",
    "    # plot the recorded results\n",
    "    plot_algorithm_execution_time()\n",
    "\n",
    "    return"
   ]
  },
  {
   "cell_type": "code",
   "execution_count": null,
   "id": "a76917b1-2790-4465-9f23-8191c3a40fb4",
   "metadata": {},
   "outputs": [],
   "source": [
    "#get_algorithm_time_metrics()"
   ]
  },
  {
   "cell_type": "markdown",
   "id": "51d24c1e-594d-4dbf-adbc-865a15d46315",
   "metadata": {},
   "source": [
    "#### Solution Quality"
   ]
  },
  {
   "cell_type": "markdown",
   "id": "479fbf21-2eb2-47f0-966a-b6292e533237",
   "metadata": {},
   "source": [
    "The best paths from a sensor to a base station may vary for various algorithms. These paths may have varying absolute costs or similar absolute costs. This metric analyses the best paths in terms of the absolute cost and ranks them such that those that have a high absolute cost are ranked higher. But this metric being done once may not reflect the consistent generation of quality solutions. To take care of this, we set the algorithm to run several problems and for each problem rank them. At the end, ranks for each of the problems are ranked to come up with an aggregated rank of the best solution which are represented in a table as shown below."
   ]
  },
  {
   "cell_type": "markdown",
   "id": "4a4ab565-9035-4082-84b2-126354c3bdbb",
   "metadata": {},
   "source": [
    "![Alt](https://github.com/samariwa/search-and-optimization-projects/blob/main/assessment/images/metrics%20table.png?raw=true)"
   ]
  },
  {
   "cell_type": "markdown",
   "id": "bea1a4f9-d501-44db-916a-9fba8bf35e0b",
   "metadata": {},
   "source": [
    "In the figure above, Dijkstra and simulated annealing got the best solutions and tied in terms of their performance ranking. The solution quality evaluation is implemented using the function below. To execute run `get_algorithm_accuracy_metrics()` with the number of trials passed in as an argument (Default is 4)."
   ]
  },
  {
   "cell_type": "code",
   "execution_count": null,
   "id": "c4a3d2a2-bae6-4752-9d8d-41237d1140cf",
   "metadata": {},
   "outputs": [],
   "source": [
    "def get_algorithm_accuracy_metrics(trials=4):\n",
    "    \"\"\"\n",
    "    get_algorithm_accuracy_metrics()\n",
    "    ranks the algorithms in terms of the quality of the solutions they provide.\n",
    "    The ranking is done by running the several runs of all algorithms, ranking \n",
    "    the individual ranks then ranking the ranks in order to get a wholistic rank\n",
    "    of the algorithms. The ranks are then displayed on a table. Rank ties \n",
    "    could exist in some scenarios\n",
    "    trials (optional): number of times you want to run the algorithm to get an\n",
    "    aggregated rank for more consistency in performance ranking\n",
    "    returns: nothing\n",
    "    \"\"\"\n",
    "    # choose any random node to start from with the exception of the base stations\n",
    "    dest_nodes = [x_y_base_station_1[0], x_y_base_station_2[0]]\n",
    "    # list of algorithms whose time performance will be compared\n",
    "    methods = ['discrete genetic algorithm', 'ant colony optimization', 'dijkstras algorithm', 'simulated annealing']\n",
    "    accuracy_performance = []\n",
    "    # initialize the sum of ranks for overall ranking\n",
    "    rank_sum = np.zeros(len(methods))\n",
    "    trial_no = trials\n",
    "    # create a store for the final rank data\n",
    "    overall_performance = []\n",
    "    for trial in range(trial_no):\n",
    "        start_node = choice(np.array([i for i in x_y_data.keys() if i not in dest_nodes]), 1, replace=False)[0]\n",
    "        print(f\"trial {trial + 1}...\")\n",
    "        print(\"++++++++++++++++++++++++++++++++++++++++++++++++++++++++++++++++++++++++++++++++++++\")\n",
    "        path_costs = []\n",
    "        for method in methods:      \n",
    "            print(f\"executing {method}; trial {trial + 1}...\")\n",
    "            '''\n",
    "            run the algorithm and get the solutions data with contains \n",
    "            the albolute cost which is used to dictate the quality of \n",
    "            the solution. The higher the cost the better the rank\n",
    "            '''\n",
    "            if method == \"discrete genetic algorithm\":\n",
    "                results, solutions = discrete_genetic_algorithm(start_node)\n",
    "            elif method == \"dijkstras algorithm\":\n",
    "                results, solutions = dijkstra_algorithm(start_node)\n",
    "            elif method == \"ant colony optimization\":\n",
    "                results, solutions = ant_colony_optimization(start_node)\n",
    "            elif method == \"simulated annealing\":\n",
    "                results, solutions = simulated_annealing(start_node)\n",
    "            path_costs.append(float(solutions[0]['absolute path cost']))\n",
    "        # rank the path costs. negate the costs so that ranking is done in descending order\n",
    "        ranked_costs = stat.rankdata([-cost for cost in path_costs])\n",
    "        accuracy_performance.append(list(map(int, ranked_costs)))\n",
    "        print(\"++++++++++++++++++++++++++++++++++++++++++++++++++++++++++++++++++++++++++++++++++++\")\n",
    "    #compile the individual trial ranks into a single wholistic rank\n",
    "    for ranks in range(len(accuracy_performance)):\n",
    "        for method in range(len(methods)):\n",
    "            rank_sum[method] += accuracy_performance[ranks][method]\n",
    "    # rank the sum of the individual ranks\n",
    "    rank_data = list(map(int,stat.rankdata(rank_sum)))\n",
    "    for i in range(len(rank_data)):\n",
    "        overall_performance.append([rank_data[i], methods[i]])\n",
    "    # tabulate the overall rank\n",
    "    show_algorithm_accuracy_rank(overall_performance)\n",
    "\n",
    "    return"
   ]
  },
  {
   "cell_type": "code",
   "execution_count": null,
   "id": "78c3ce1d-db53-4da0-93fe-78b100367d76",
   "metadata": {},
   "outputs": [],
   "source": [
    "#get_algorithm_accuracy_metrics()"
   ]
  },
  {
   "cell_type": "markdown",
   "id": "33ba344f-0f7c-4c23-a221-3bb4222d53b4",
   "metadata": {},
   "source": [
    "#### Evaluation"
   ]
  },
  {
   "cell_type": "markdown",
   "id": "d29c2679-dd73-4fc8-9daf-609a6055e62b",
   "metadata": {},
   "source": [
    "After running several tests, we had the following results for our algorithms:\n",
    "- Execution time metric:\n",
    "    1. Dijkstra’s Algorithm (< 1 second)\n",
    "    2. Simulated Annealing Algorithm (1-5 seconds)\n",
    "    3. Discrete Genetic Algorithm (20 – 60seconds)\n",
    "    4. Ant’s Colony Optimization Algorithm (200-250 seconds)\n",
    "\n",
    "The indicated times ranges are where most execution times lie for round of algorithm execution. They vary based on the kind of randomly generated solutions in the cases of the stochastic algorithms like Simulated Annealing and Discrete Genetic Algorithm. These times also vary based on the **kwargs provided e.g. the population size in DGA or the number of ants in ACO. These performances were run against the default parameters which had been pre-tested to ensure optimal output.\n",
    "Based on the results, Dijkstra’s Algorithm is the best algorithm for this problem in terms of time since executes in the shortest time consistently.\n",
    "\n",
    "- Solution quality metric:\n",
    "    1. Dijkstra’s Algorithm\n",
    "    2. Simulated Annealing\n",
    "    3. Discrete Genetic Algorithm\n",
    "    4. Ant Colony Optimization\n",
    "\n",
    "The ranks were done based on 4 trials for each algorithm, and for each trial, the best path from a particular node was tried for each algorithm. There were times when DGA emerged the best because it is dependent on the randomly generated initial paths and the permutation with is more of a trial and error. The above ranks were derived from several executions and the performance consolidated to the above.\n",
    "Based on the results, Dijkstra’s Algorithm performed best for this problem because it consistently gave good results. The upside of Dijkstra’s algorithm is the logic of evaluating the next best path in the trail. This made the algorithm always get to the base station from a node in a particular route even when run several times. This consistency makes it a reliable algorithm for good solutions alongside the quick execution time as discussed above."
   ]
  },
  {
   "cell_type": "markdown",
   "id": "4b419fc0-bb92-4f43-abff-14e908fa1364",
   "metadata": {},
   "source": [
    "#### Tradeoff between time and quality"
   ]
  },
  {
   "cell_type": "markdown",
   "id": "e935df8e-bc8d-4962-a1c0-8fd569e4a352",
   "metadata": {},
   "source": [
    "These rankings were based on several tests but again they vary based on the **kwargs provided. At the end, for stochastic algorithms, there is a tradeoff between time and quality. For example, if you initialize many ants in the ACO algorithm, more time will be used to explore the search trail and therefore to get the best path and you might get better solutions."
   ]
  },
  {
   "cell_type": "markdown",
   "id": "2c21b572-0d77-413b-b28c-99f841390ca0",
   "metadata": {},
   "source": [
    "### Alternative Solution for ACO\n",
    "\n",
    "The ACO as provided above finds plethora of solutions; it is, however, performing at low speed (we came to conclusion that it is more exploratory). The timings comparison has been provided at the ACO documentation section.\n",
    "\n",
    "The ACO(2).ipynb - also referred here as ACO (RH) provides an alternative, although it is not integrated with the visualisations and formal performance analysis above. it also saves a solution file using an objective function as defined in our \"Objective Function\" section rather than parsing it into separate values of badnwidth and latencies.\n",
    "\n",
    "This algorithm was used in a basic statistical analysis of solutions files by a GenAI, which calculated the optimal ACO parameters for us, providing justifications (prompts and outputs cited above).\n",
    "\n",
    "Figure 111 peresents the flowchart of the ACO algorithms.\n",
    "\n",
    "\n",
    "![Alt](images/ACO_flowchart.jpeg)\n",
    "\n",
    "\n",
    "Fiugure 111. Flowchart of Ant Colony Optimisation algorithms.\n"
   ]
  },
  {
   "cell_type": "code",
   "execution_count": null,
   "id": "f3b7f60c-3c8b-4adf-ba29-099e9603e521",
   "metadata": {},
   "outputs": [],
   "source": [
    "%run ACO(2).ipynb"
   ]
  },
  {
   "cell_type": "markdown",
   "id": "827f6295-6151-4231-bc9e-6040cd1bde63",
   "metadata": {},
   "source": [
    "The above algorithm creates a solutions file called solutions.txt; it is not a 100% Jason format as it uses an apostrophy instead of a double quotation mark. The main reason for the algorithm development was to provide an alternative, which would behave differently. It is different in terms of performance, but should provide similar solutions."
   ]
  },
  {
   "cell_type": "markdown",
   "id": "a68415e8-6461-4db5-bcc3-a6b421fbc109",
   "metadata": {},
   "source": [
    "## Conclusion"
   ]
  },
  {
   "cell_type": "code",
   "execution_count": null,
   "id": "01393b81-fd0a-46b6-a55a-70ef84cd4e16",
   "metadata": {},
   "outputs": [],
   "source": []
  },
  {
   "cell_type": "markdown",
   "id": "eacdd679-79a9-4e51-884d-a2babf0add40",
   "metadata": {},
   "source": [
    "## References"
   ]
  },
  {
   "cell_type": "markdown",
   "id": "4aec8a61-5383-468c-8030-860b9cc6bbba",
   "metadata": {},
   "source": [
    "Rosenberg, M., 2024. The Distance Between Degrees of Latitude and Longitude. Available from: https://www.thoughtco.com/degree-of-latitude-and-longitude-distance-4070616 [Accessed 6th January 2024] <br>\n",
    "Scripts, M. T., 2024. Calculate distance, bearing and more between Latitude/Longitude points. Available from: https://www.movable-type.co.uk/scripts/latlong.html [Accessed 6th January 2024] <br>\n",
    "Story, R., 2013. Folium. Available from: https://python-visualization.github.io/folium/latest/ [Accessed 6th January 2024] <br>\n"
   ]
  },
  {
   "cell_type": "markdown",
   "id": "a242f909-878e-4fd9-97b9-86ec61cd51be",
   "metadata": {},
   "source": [
    "## Appendix"
   ]
  },
  {
   "cell_type": "markdown",
   "id": "7ac6ed65-ea29-47ad-841f-2497a35a76d0",
   "metadata": {},
   "source": [
    "![Alt](https://github.com/samariwa/search-and-optimization-projects/blob/main/assessment/images/appendix%20a.png?raw=true)<br>\n",
    "*APPENDIX A: Map with the best path layer toggled*"
   ]
  },
  {
   "cell_type": "markdown",
   "id": "1ef82287-2615-4c95-b0fe-985adb358e1b",
   "metadata": {},
   "source": [
    "![Alt](https://github.com/samariwa/search-and-optimization-projects/blob/main/assessment/images/appendix%20b.png?raw=true)<br>\n",
    "*APPENDIX B: Map with possible routes only toggled*"
   ]
  },
  {
   "cell_type": "code",
   "execution_count": null,
   "id": "a8217f5d-d1dd-4cd2-acf9-cfead1d5cfd4",
   "metadata": {},
   "outputs": [],
   "source": []
  }
 ],
 "metadata": {
  "kernelspec": {
   "display_name": "Python 3 (ipykernel)",
   "language": "python",
   "name": "python3"
  },
  "language_info": {
   "codemirror_mode": {
    "name": "ipython",
    "version": 3
   },
   "file_extension": ".py",
   "mimetype": "text/x-python",
   "name": "python",
   "nbconvert_exporter": "python",
   "pygments_lexer": "ipython3",
   "version": "3.9.12"
  }
 },
 "nbformat": 4,
 "nbformat_minor": 5
}
