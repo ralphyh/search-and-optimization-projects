{
 "cells": [
  {
   "cell_type": "markdown",
   "id": "f157ba2a-9d6c-438e-a078-01228c467554",
   "metadata": {},
   "source": [
    "# Multi-Objective Routing Path Optimization"
   ]
  },
  {
   "cell_type": "markdown",
   "id": "8cf6efad-bbc1-4523-92d2-73746aadcb94",
   "metadata": {},
   "source": [
    "## Abstract"
   ]
  },
  {
   "cell_type": "markdown",
   "id": "1c127809-4d0a-46e6-8275-631129a80418",
   "metadata": {},
   "source": [
    "## Introduction"
   ]
  },
  {
   "cell_type": "markdown",
   "id": "b00c9511-ad70-411c-a4ed-ad016c4420b3",
   "metadata": {},
   "source": [
    "Search and Optimisation are used in all disciplines of science and engineering, and in wider economy. In economical domains, they have been used in production planning (production mix, machine allocation), corporate finance (capacity planning, working capital management), investments (portfolio optimization, bond/stock portfolio management), and human resources (crew scheduling, office assignment), as well as transportation, agriculture and many others (Zhang, 2024).\n",
    "\n",
    "In science and engineering, apart from machine learning, they have been used in such fields as office equipment ergonomics, setting construction norms and rules, creating optimal antenna shapes, TCP/IP packet routing, wireless network optimisation, and many others. The problem we have been tasked with in current assessment belongs to the latter – wireless network optimisation. It is one of vital uses of the optimisation methods as wireless networks of many kinds and shapes participate in daily lives of millions of people and practices of many – if not all - businesses.\n",
    "\n",
    "In the recent decades, it has been instrumental in economic and scientific development of all nations to provide working conditions for wireless data transmission, using GSM (and other) networks. Also, with growing use of Wi-Fi, relay systems had to be optimised. Optimal transmitter locations have had to be established en-masse in order  that the data be accessible in indoor and outdoor locations (F. Aguado Agelet, 2002). A number of methods have been hereby identified; however, researchers elected to use the Nelder-Mead method as it is “easier to implement and appears to be very robust”. Genetic algorithms, however, presented “worse computation-time behaviour”. Choosing the appropriate ways to approach and solve an optimisation problem seems crucial, and understanding the pluses and minuses of each and every one of them can save businesses and research teams a lot of time and effort. Even with separate implementations of the same algorithm, computation complexities, runtimes, and convergence capabilities can vary wildly, as each can have numerous variations, where the balance between exploration and exploitation (of solutions) also varies – as it will be shown in our examples later on.\n",
    "\n",
    " Figure 1 (Wikipedia, 2025)\n",
    " ![Alt](https://)\n",
    " \n",
    "Problems of routing, or traversing graphs, loosely related to travelling salesman problem, are examined under the theoretical frameworks of theory of computation, “the branch that deals with what problems can be solved on a model of computation, using an algorithm, how efficiently they can be solved or to what degree” (Wikipedia, 2025). The Figure 1 explains the relationship between L ⊆ NL ⊆ P ⊆ NP ⊆ PSPACE ⊆ EXPTIME ⊆ NEXPTIME ⊆ EXPSPACE (the first ones being Log-space, Nondeterministic Logarithmic-space, Polynomial Time, Non-Polynomial Time etc.) It is known that “one of the most famous open problems in computer science concerns whether P equals NP” – can every problem whose solution can be quickly verified can also be quickly solved? The current problem of searching for optimal routes ha not found a complete solution that runs in polynomial time, however many optimisation methods have been proposed, and inferences can be made on their computational complexity, efficiency in terms of convergence and suitability for a given problem.\n",
    "\n",
    "Lance Fortnow gives a neat example of a TSP, whereas a certain saleswoman Mary must analyse the routes of all 48 capitals of contiguous US states (Fortnow, 2013). Whilst she intuitively drew a line connecting them, which is plausibly a “decent” one, there are 48! (48-factorial) solutions to be checked, in regular notation: 12,413,915,592,536,072,670,862,289,047,373, 375,038,521,486,354,677,760,000,000,000 (just over 12 novemdecillion). Concluding, “No wonder Mary’s laptop hadn’t finished in a week”, he goes on to expand that (apart from the proof that N!=NP) we may never find an algorithm that solves the problem all the time:\n",
    "\n",
    "&nbsp;&nbsp;&nbsp;&nbsp;“We need to rely on other tools, a combination of approximation, heuristics, and computational firepower, simply to do the best we can. NP-completeness gives us a common framework and allows us to create a toolbox of techniques that we can throw at these difficult-to-compute problems.”\n",
    "\n",
    "Since brute force and/or exhaustive search are an absolute impossibility, other methods for TSP-derived problems can be used. Greedy algorithms are especially useful by allowing us to use ‘ad-hoc’ solutions repeatedly in hope of arriving at a good solution, globally (Thomas H. Cormen, 2001): they must have a “greedy-choice property: a globally optimal solution can be arrived at by making a locally optimal (greedy) choice”; it also needs an “optimal substructure if an optimal solution to the problem contains within it optimal solutions to subproblems”. Of course, a particular optimal route contains optimal sub-routes, therefore Disjktra’s algorithms just works.\n",
    "\n",
    "Meta-heuristic algorithms are another great option. Many of those are nature-inspired and provide great exploration of the search space in practicable computing time and within limited resources. Some are very ingenuous. Stigmergy is omnipresent in nature and even we humans use the signs (natural or manmade) in the environment to navigate through unknown spaces, and even unknowingly co-operate, not in a dissimilar way from ants in an ant colony (more on ACO algorithm later). For example, writing a note well before a broken footpath, “no throughway” will save anyone who wants to get through in a good amount of time. In addition, some nature-inspired algorithms, like genetics algorithms, produce results that mimic human creativity. David Goldberg expands on the role of chance in directed search, following the musings of the mathematician J Hadamard, “…even though discovery is not a result – cannot be a result – of pure chance, it is almost certainly guided by directed serendipity”, emphasising that the role for chance in human-like discovery is its (blind) ability to “juxtapose different notions” (Goldberg, 2006). He goes on to state that comparisons have been made “with certain human search processes commonly called innovative or creative”. Indeed, it has been pointed out how such pure “chance” in GAs created an antenna for NASA Space Technology 5, where “evolutionary algorithms can be used to search the design space and automatically find novel antenna designs that are more effective than would otherwise be developed” (Gregory. S. Hornby, 2011).\n",
    "\n",
    "However, GAs’ use in our problem, essentially an optimization of Wireless Sensor Networks, is an overkill as only a tiny fraction of routes will be even valid, potentially leading to a wase of computing resources. Selcuk Okdem (Okdem S, 2009) et al suggest use of Ant Colony Optimization (Okdem S, 2009), for a few reasons, among others that “Although WSNs are used in many applications, they have several restrictions including limited energy supply and limited computation and communication abilities”. Moreover, as “channel bandwidth is limited, protocols should have capability of performing local collaboration to reduce bandwidth requirements”. Here we can proceed to problem statement, where we can look at it closer from a few angles.\n",
    "\n",
    "### Problem Statement\n",
    "An organisation has decided to deploy a number of weather sensors communicating wirelessly, between one another, and two base stations, in New Forest area of England. The resources are limited and there are bandwidth constraints, and related latencies in communication. The table below explores the technical abilities of the said sensors, where distances between them dictate the network performance. There are 150 units randomly within an square area, where base stations are at (-5000, 5000) and (5000, -5000), and the sensores are anywhere in between. Geo data has been provided by the organisation in the form of a csv file. Eucladean distances have to be calculated from the formula for d, as below.\n",
    "\n",
    "Having done that, at least two different algorithms must establish the best routes for each sensor to a base station (relaying via other sensors), indexed from 0 to 149, taking into consideration the communication efficiencies."
   ]
  },
  {
   "cell_type": "markdown",
   "id": "03b660ab-fc72-471e-abb6-6f76dcb1d140",
   "metadata": {},
   "source": [
    "| Distance d | Transmission rate (Mbps) | \n",
    "| ------ | ------ |\n",
    "| d >= 3000m | 0 |\n",
    "| 3000m > d >= 2500m | 1 |\n",
    "| 2500m > d >= 2000m | 2 |\n",
    "| 2000m > d >= 1500m | 3 |\n",
    "| 1500m > d >= 1000m | 4 |\n",
    "| 1000m > d >= 500m | 5 |\n",
    "| 500m > d | 7 |"
   ]
  },
  {
   "cell_type": "markdown",
   "id": "2274fb5f-e9d0-4403-80e7-5ef63d0ba645",
   "metadata": {},
   "source": [
    "$$d = \\sqrt{(x2 - x1)^2 + (y2 - y1)^2}$$"
   ]
  },
  {
   "cell_type": "markdown",
   "id": "46796514-ce45-4ac2-b6b7-360bd13bf266",
   "metadata": {},
   "source": [
    "## Methodology"
   ]
  },
  {
   "cell_type": "markdown",
   "id": "d8aec214-ff9a-47c0-8e30-3410f13f9087",
   "metadata": {},
   "source": [
    "The problem as described, does not lend itself to a straightforward one-size-fits-all solution. It is a problem of two seemingly opposite objectives. To bring up an example from real life, buying a motorcycle may be an exercise in a multi-objective optimization: price, vehicle weight-to-bhp ratio, comfort (seat height, handlebar-rider’s arm angle), acceleration 0-60, fuel use, and top speed may all be factors. If the motorcycle were to be used for commuting long distances through city traffic, comfort, fuel use, vehicle weight and (perhaps) acceleration would be priorities, whilst top speed would be nearly irrelevant. Used as a second vehicle for weekend fun on country roads, or track-days, acceleration, weight-to-power ratio, and top speed would come first, comfort would be less viable, and fuel use – irrelevant (assuming enough financial means). \n",
    "\n",
    "The only way to solve so many objectives is to put weights on all variables with a weighted sum method (see Figure 2)\n",
    "\n",
    " ![Alt](https://)\n",
    "\n",
    " Some functions need to be maximised, and some – minimised; in everyday parlance, some denote a ‘good thing’, and some a ‘bad thing’. In our problem example, latency is our ‘bad thing’, which needs minimising all along, whereas edge-to-edge transfers have to be maximised on each potential route, thus avoiding the edges that constitute unnecessary bottlenecks on the way.\n",
    " \n",
    "Utilising reciprocals is a good way to achieve this end in practice, including here. We have decided together, upon consultation with the lecturer, to use this method, and upon a trial-and-error process, we settled on certain weights, 1 being the “alpha” and 150 – the “beta”.\n",
    "\n",
    "### Objective Function\n",
    "\n",
    "```f(x,y)= α⋅x + β⋅1/y,```\n",
    "\n",
    "Where:\n",
    "\n",
    "```f(x,y) - objective function```\n",
    "\n",
    "```α - weight given to variable x```\n",
    "\n",
    "```β - weight given to reciprocal of variable y```\n",
    "\n",
    "```x - minimum edge transfer on the route (“bottleneck”)```\n",
    "\n",
    "```y - sum of latencies on the route.```\n",
    "\n",
    "For obvious reasons, the transfer on any “bottleneck” should be as high as possible, therefore the variable x needs to be maximised. Conversely, the sum of on-route latencies must be minimised, hence the use of the inverse variable. The entire objective f(x,y)  function shall be maximised for every route from each node to either base station, whichever is better. The algorithms make ad-hoc stochastic choices on which base station should be chosen, and optimal one is always found, along with a route that (potentially) is the optimal one. The use of potentially is intentional. Only gradient-based methods based on well-defined functions yield a 100% guarantee of nice and accurate result of optimisation, all other methods being on a spectrum, whose other far end is lack of convergence. These often get put into one ‘bag’ named ‘metaheuristic’ (discussed in the work as cited):\n",
    "\n",
    "The ongoing improvement of heuristic algorithms often gets referred to as “metaheuristics” despite the lack of a unified scientific definition. (Selvarajan, 2024)\n",
    "\n",
    "Perusing the paper, and unit lectures allowed us to construct a very simple ranking of optimisation methods that we considered for solving the problem. Some methods lack merit completely, as gradient methods, as there is no neat well-define mathematical objective function to optimise. Similarly, linear programming would be ill suited. We are left - more or less - with metaheuristic methods.\n",
    "\n",
    "<b>It must be noted that the work has been done by a number of students. Wherever an author means \"absolute cost\" of a path or route, it shall mean \"objective function value\" on that path/route, as per the definition above *</B>\n",
    "*(except PSO, which has a different objective function, added under its specific section).\n",
    "\n",
    "### Selection of Methods\n",
    "Let us have a glance at what we can choose from (Figure 3)\n",
    "\n",
    "![Alt](https://)\n",
    "\n",
    "\t1. Gradient-based Methods: High accuracy and reliable convergence.\n",
    "\t2. Quasi-Newton Methods: Similar to gradient-based methods but may require adjustments.\n",
    "\t3. Convex Optimization: Generally reliable, but not as precise as gradient-based methods.\n",
    "\t4. Linear Programming: Useful in many situations but may face convergence issues in complex cases.\n",
    "\t5. Dijkstra's Algorithm: Typically, reliable for shortest path problems.\n",
    "\t6. Ant Colony Optimization (ACO): Often used for finding optimal paths, good at exploring diverse solutions.\n",
    "\t7. Simulated Annealing: Good for escaping local optima, but convergence can be slow and uncertain.\n",
    "\t8. Differential Grouping Algorithm (DGA): Useful in decomposition-based optimization.\n",
    "\t9. Genetic Algorithms: Offers diverse solutions but can lack convergence and consistency.\n",
    "\n",
    "For our purposes, we shall be using Dijkstra’s Algorithm, ACO, Simulated Annealing and a variant of Genetic Algorithms (DGA). One student proposed his own solution with a Particle Swarm Optimization (PSO) method, which is an interesting take on this algorithm.\n",
    "\n",
    "Ant Colony Optimization (ACO): The paper (Selvarajan, 2024) highlights ACO's strength in exploring diverse solutions and its biologically inspired approach; it mimics the foraging behaviour of ants. It is noted for good exploration capabilities, but may require fine-tuning for specific problems. This will be performed and discussed in ACO documentation in more detail, together with elementary statistical analysis of the ACO parametrisation process.\n",
    "\n",
    "Simulated Annealing: This method is praised for its ability to escape local optima by simulating the annealing process of metals. However, it is mentioned that convergence can be slow and is not guaranteed in all cases.\n",
    "\n",
    "Dijkstra's Algorithm: The paper (Selvarajan, 2024) discusses Dijkstra's Algorithm as highly reliable for shortest path problems in graphs. It is noted for its accuracy and guaranteed convergence but is limited to specific types of optimization problems. It seems to be particularly well suited to our problem.\n",
    "\n",
    "Genetic Algorithms (GAs): Genetic Algorithms are recognized for their robustness and ability to handle complex search spaces. They are good at exploration but may lack consistency and convergence in some scenarios. We must note their apparent stochastic ‘creativity’, or rather, a wide space of solutions tested. Of course, in our scenario, many routes created will make no ‘sense’ as there will be no such connections / edges in our graph.\n",
    "\n",
    "Particle Swarm Optimization (PSO): We looked at the available papers, which adapt PSO, which is more suited to optimising non-differentiable and continuous-value functions rather than routing problems, to the extent that we found a solution. Implementation of PSO is attempted by a student, together with relevant documentation.\n",
    "\n",
    "\n"
   ]
  },
  {
   "cell_type": "markdown",
   "id": "2c9a0280-4e9d-45a7-90f1-c5bb42f7578a",
   "metadata": {},
   "source": [
    "### Extra Requirements"
   ]
  },
  {
   "cell_type": "markdown",
   "id": "be90ea50-ce0f-4dbc-97b4-e1f15d89d766",
   "metadata": {},
   "source": [
    "To be able to execute the algorithms and visualiza the data, there was one extra dependency we required to import to our conda environment. This was the `Folium` library which is map visualization API that we used to plot our solutions. Depending on your environment, it could be installed using either of the following shell commands.\n",
    "```sh\n",
    "conda install conda-forge::folium\n",
    "```\n",
    "or\n",
    "```sh\n",
    "pip install folium\n",
    "```"
   ]
  },
  {
   "cell_type": "code",
   "execution_count": 12,
   "id": "49122d64-9306-4049-ac3a-f85f7e814ae2",
   "metadata": {},
   "outputs": [
    {
     "name": "stdout",
     "output_type": "stream",
     "text": [
      "Collecting package metadata (current_repodata.json): - WARNING conda.models.version:get_matcher(556): Using .* with relational operator is superfluous and deprecated and will be removed in a future version of conda. Your spec was 1.7.1.*, but conda is ignoring the .* and treating it as 1.7.1\n",
      "done\n",
      "Solving environment: done\n",
      "\n",
      "\n",
      "==> WARNING: A newer version of conda exists. <==\n",
      "  current version: 23.9.0\n",
      "  latest version: 24.11.3\n",
      "\n",
      "Please update conda by running\n",
      "\n",
      "    $ conda update -n base -c conda-forge conda\n",
      "\n",
      "Or to minimize the number of packages updated during conda update use\n",
      "\n",
      "     conda install conda=24.11.3\n",
      "\n",
      "\n",
      "\n",
      "## Package Plan ##\n",
      "\n",
      "  environment location: /Users/samuelmariwa/opt/anaconda3\n",
      "\n",
      "  added / updated specs:\n",
      "    - conda-forge::folium\n",
      "\n",
      "\n",
      "The following packages will be downloaded:\n",
      "\n",
      "    package                    |            build\n",
      "    ---------------------------|-----------------\n",
      "    ca-certificates-2024.12.31 |       hecd8cb5_0         129 KB\n",
      "    certifi-2024.12.14         |   py39hecd8cb5_0         162 KB\n",
      "    folium-0.19.4              |     pyhd8ed1ab_0          78 KB  conda-forge\n",
      "    xyzservices-2022.9.0       |   py39hecd8cb5_1          45 KB\n",
      "    ------------------------------------------------------------\n",
      "                                           Total:         415 KB\n",
      "\n",
      "The following NEW packages will be INSTALLED:\n",
      "\n",
      "  xyzservices        pkgs/main/osx-64::xyzservices-2022.9.0-py39hecd8cb5_1 \n",
      "\n",
      "The following packages will be UPDATED:\n",
      "\n",
      "  ca-certificates                     2024.11.26-hecd8cb5_0 --> 2024.12.31-hecd8cb5_0 \n",
      "  certifi                          2024.8.30-py39hecd8cb5_0 --> 2024.12.14-py39hecd8cb5_0 \n",
      "  folium             pkgs/main/osx-64::folium-0.14.0-py39h~ --> conda-forge/noarch::folium-0.19.4-pyhd8ed1ab_0 \n",
      "\n",
      "\n",
      "\n",
      "Downloading and Extracting Packages:\n",
      "ca-certificates-2024 | 129 KB    |                                       |   0% \n",
      "xyzservices-2022.9.0 | 45 KB     |                                       |   0% \u001b[A\n",
      "\n",
      "folium-0.19.4        | 78 KB     |                                       |   0% \u001b[A\u001b[A\n",
      "\n",
      "\n",
      "certifi-2024.12.14   | 162 KB    |                                       |   0% \u001b[A\u001b[A\u001b[A\n",
      "\n",
      "\n",
      "ca-certificates-2024 | 129 KB    | ##################################### | 100% \u001b[A\u001b[A\u001b[A\n",
      "\n",
      "\n",
      "certifi-2024.12.14   | 162 KB    | ##################################### | 100% \u001b[A\u001b[A\u001b[A\n",
      "xyzservices-2022.9.0 | 45 KB     | #############                         |  35% \u001b[A\n",
      "xyzservices-2022.9.0 | 45 KB     | ##################################### | 100% \u001b[A\n",
      "\n",
      "folium-0.19.4        | 78 KB     | #######5                              |  20% \u001b[A\u001b[A\n",
      "\n",
      "                                                                                \u001b[A\u001b[A\n",
      "                                                                                \u001b[A\n",
      "\n",
      "                                                                                \u001b[A\u001b[A\n",
      "\n",
      "\n",
      "                                                                                \u001b[A\u001b[A\u001b[A\n",
      "Preparing transaction: done\n",
      "Verifying transaction: done\n",
      "Executing transaction: done\n"
     ]
    }
   ],
   "source": [
    "! conda install -y conda-forge::folium"
   ]
  },
  {
   "cell_type": "code",
   "execution_count": 13,
   "id": "7f836206-83fa-4b89-90ea-11357a1c55e0",
   "metadata": {},
   "outputs": [],
   "source": [
    "#! pip install-y folium"
   ]
  },
  {
   "cell_type": "markdown",
   "id": "c7fba656-5e26-40d4-a50a-f2ba7a093646",
   "metadata": {},
   "source": [
    "### Code Modularization"
   ]
  },
  {
   "cell_type": "markdown",
   "id": "d61a3a2f-6413-47ad-a900-cfdc069807dd",
   "metadata": {},
   "source": [
    "For simplicity, the code was modularized based on functionality. The modules and their respective functionalities are as follows:<br>\n",
    "- `data_plot`: Has all functions that fetch data from CSV file, preprocesses data into forms that are required by the various algorithms and visualizes the results of an algorithm on a map\n",
    "- `metrics`: Consolidates the algorithms evaluation functions using the 2 metrics, 'execution time' and 'solution quality'\n",
    "- `discrete_genetic_algorithm`: contains the discrete genetic algorithm implementation\n",
    "- `ant_colony_optimization`: contains the ant colony optimization implementation\n",
    "- `dijkstras_algorithm`: contains the dijkstra's algorithm implementation\n",
    "- `simulated_annealing`: contains the simulated annealing algorithm implementation\n",
    "All these algorithms and functions are accessible in this report and will be called using a single function with the type of algorithm input and extra optional optimization **kwargs accepted as parameters. The execution of the modules is done below."
   ]
  },
  {
   "cell_type": "markdown",
   "id": "09f714d5-2ca1-4765-9570-a1d6d29b94e3",
   "metadata": {},
   "source": [
    "#### Imports"
   ]
  },
  {
   "cell_type": "code",
   "execution_count": 17,
   "id": "0b3dc898-1f1c-4537-af66-c0d832bc8a73",
   "metadata": {},
   "outputs": [],
   "source": [
    "import ast\n",
    "import json\n",
    "import scipy.stats as stat\n",
    "%run data_plot.ipynb\n",
    "%run metrics.ipynb\n",
    "%run discrete_genetic_algorithm.ipynb\n",
    "%run ant_colony_optimization.ipynb\n",
    "%run dijkstras_algorithm.ipynb\n",
    "%run simulated_annealing.ipynb"
   ]
  },
  {
   "cell_type": "markdown",
   "id": "4cf0d6ad-283d-4e58-88ab-bb0c6dcb8a60",
   "metadata": {},
   "source": [
    "This is alongside some import which are required for executing of some functions in this main module. For example, the json import is used in reading and writing execution results in the solutions json file."
   ]
  },
  {
   "cell_type": "markdown",
   "id": "2658ae81-a315-4fb0-972d-ff5cd4e95ace",
   "metadata": {},
   "source": [
    "### Results Visualization on a Map"
   ]
  },
  {
   "cell_type": "markdown",
   "id": "bf78e39c-7c7c-497e-9c0a-0c61cd6ac5cf",
   "metadata": {},
   "source": [
    "To visualize the solutions produced by the various algorithms, we implemented a real and interactive geographic map with the sensors and the base station. This was done using Folium, a Leaflet JavaScript library which we interacted with through an API. We followed through the API documentation (Story 2013) to achieve the following:\n",
    "1. Show the best route obtained from a sensor to a base station by a particular algorithm\n",
    "2. Show all other possible routes found (not the best but have end-to-end connectivity)\n",
    "\n",
    "The locations of the sensors were provided in form of X, Y grid coordinates in meters for purposed of calculating their heuristic distances. However, since the API needs values of geographic coordinates, coordinates of the sensors had to be computed and represented on the leaflet. The computation of geographic coordinates from X, Y grid coordinates was inspired by the Haversine formula (Scripts 2024)."
   ]
  },
  {
   "cell_type": "markdown",
   "id": "1bb56abc-a695-4c47-9eb7-83f48f1ea85e",
   "metadata": {},
   "source": [
    "`latitude = central latitude + y/110574`<br>\n",
    "`longitude = central longitude + x/(11320 * cos(central latitude))`"
   ]
  },
  {
   "cell_type": "markdown",
   "id": "edd383ca-3b85-4409-bb33-1758ea393cda",
   "metadata": {},
   "source": [
    "where x and y are the x, y values of the sensors provided in the csv file while central latitude and central longitude are the (0, 0) coordinates on the grid from which all other sensor distances are calculated from. From the map provided in the graphic in the assignment instructions we estimated the geographic locations of the base stations in Lyndhurst and Beaulieu as shown in figure 1 by referring to google maps."
   ]
  },
  {
   "cell_type": "markdown",
   "id": "ce378bc8-8171-48be-ac1f-c641091890f9",
   "metadata": {},
   "source": [
    "![Alt](https://github.com/samariwa/search-and-optimization-projects/blob/main/assessment/images/search%20area.png?raw=true)"
   ]
  },
  {
   "cell_type": "markdown",
   "id": "9c6a22df-27f8-4bd7-a8b5-4330202472b2",
   "metadata": {},
   "source": [
    "The values ‘110574’ and ‘11320’ in the equations above are the distances between the latitudes and longitudes in meters respectively (Rosenberg 2024). With the geographic coordinates derived from the grid coordinates, we were able to feed the API with the sensor and base station information which was useful in plotting paths."
   ]
  },
  {
   "cell_type": "markdown",
   "id": "b1f78124-9732-4789-9d77-2f8f24649083",
   "metadata": {},
   "source": [
    "![Alt](https://github.com/samariwa/search-and-optimization-projects/blob/main/assessment/images/blank%20map.png?raw=true)"
   ]
  },
  {
   "cell_type": "markdown",
   "id": "9af5e6c8-44e4-4084-ba99-1551e3402f4b",
   "metadata": {},
   "source": [
    "The visualization code functions are found in the [data and plotting module](./data_plot.ipynb) which is has all data fetching and manipulation functions as well as the map visualization functions."
   ]
  },
  {
   "cell_type": "markdown",
   "id": "b1ef177c-f0ec-4fd3-b2ab-b9aca587bdb3",
   "metadata": {},
   "source": [
    "#### Map Visualization Functionalities"
   ]
  },
  {
   "cell_type": "markdown",
   "id": "13abf7a3-ae5c-4d4c-bd89-d7487f016be2",
   "metadata": {},
   "source": [
    "<b>Data Fetching and constant variable initialization:</b> The X, Y grid data is fetched from the CSV file and all constants related to the data such as the ‘distance bandwidth data’ defined in the instructions are initialized. It is at this point that a blank map in the search area of interest is initialized.<br>\n",
    "<b>Grid to Geographic coordinates conversion:</b> Using the formulas defined above, the X, Y data is converted to geographic coordinates using the function `get_geographic_coordinates()`<br>\n",
    "<b>Initialization of a map with sensors:</b> Using the computed geographic coordinates, the sensors and base stations are represented on the blank map. This initialization happens every time an algorithm is executed for visualization to be done on a fresh map. This is done using the `init_blank_map()` function.<br>\n",
    "<b>Plotting routes:</b> Joins the sensors that are part of a transmission path using lines from the origin node to the destination node. This is done for the best path found which is represented using a yellow line and all the other possible paths that are represented using a variety of colors. The ‘best path’ and ‘possible paths’ have been categorically layered in a way that you can view each type independently without struggle. For further visual intuition, the best path’s sensors have been marked with pins which show their sensor IDs. This can be done using a layer controller found on the top left corner. This functionality has been implemented in the `plot_route()` function. With takes in the coordinates as arguments with a specification of whether they are the best routes or they are possible routes.\n"
   ]
  },
  {
   "cell_type": "markdown",
   "id": "4d46d8f2-c181-4f15-9342-4bc61555fd52",
   "metadata": {},
   "source": [
    "![Alt](https://github.com/samariwa/search-and-optimization-projects/blob/main/assessment/images/map%20visualization.png?raw=true)"
   ]
  },
  {
   "cell_type": "markdown",
   "id": "bb26de6d-2172-4f38-9509-9ff6051c1464",
   "metadata": {},
   "source": [
    "### Algorithms"
   ]
  },
  {
   "cell_type": "markdown",
   "id": "5b6481bc-506f-4f83-8c41-560326fa7f31",
   "metadata": {},
   "source": [
    "To solve the routing problem, the following algorithms were implemented:\n",
    "1. Discrete Genetic Algorithm\n",
    "2. Ant Colony Optimization\n",
    "3. Dijkstra's Algorithm\n",
    "4. Simulated Annealing Algorithm\n",
    "\n",
    "The above algorithms have been packaged into a single optimization function `find_optimal_route(origin, method, **kwargs)` that is executable in this report. The function shown below."
   ]
  },
  {
   "cell_type": "code",
   "execution_count": 32,
   "id": "561f7d84-f586-4442-b16b-c5ffd436b1e8",
   "metadata": {},
   "outputs": [],
   "source": [
    "#**********PUSH THE MAIN FUNCTION TO THIS PART************"
   ]
  },
  {
   "cell_type": "markdown",
   "id": "4e794228-b3d4-4384-aead-5092c9f9a8a3",
   "metadata": {},
   "source": [
    "#### Discrete Genetic Algorithm (DGA)"
   ]
  },
  {
   "cell_type": "markdown",
   "id": "80956b44-1aaa-4ed1-91ee-35af99477d38",
   "metadata": {},
   "source": [
    "This is a stochastic algorithm that was used in seeking the best solutions (paths) from a particular node to either base station. It uses the classical genetic algorithm approach with the following steps:\n",
    "1. Population initialization\n",
    "2. The selection process that encompasses fitness function evaluation\n",
    "3. Crossover\n",
    "4. Mutation\n",
    "These steps are done iteratively until our termination criteria which is ‘maximum number of generations’ is reached. The full code implementation of this algorithm is found in the [discrete genetic algorithm module](./discrete_genetic_algorithm.ipynb). The specifications of the steps above are explained in the process flow below."
   ]
  },
  {
   "cell_type": "markdown",
   "id": "230259e5-b7dd-4e46-b74a-0c69e7c10fd2",
   "metadata": {},
   "source": [
    "##### Process Flow"
   ]
  },
  {
   "cell_type": "markdown",
   "id": "f28691f0-abee-4cec-b3ef-23737a1aba5e",
   "metadata": {},
   "source": [
    "<b>Population Initialization:</b> The algorithm starts with random initialization of the population which in this case is the various routes from the specified origin to a specified destination (base station). This is done in the function `dga_init_population()`where the number of routes generated is also specified as an argument. The function generated random values excluding the origin and destination regardless of whether they have end connectivity and at the end prepending and appending the origin and destination respectively. The validity of the paths will be checked in subsequent stages. A list of randomly generated routes is returned form the function.<br>\n",
    "<b>Fitness Function Evaluation:</b> The next stage is calculating the end-to-end fitness function which incorporates the end-to-end bandwidth and total latency using the cost function defined for this project. This is done in the `bandwidth_latency_calc()` function and while doing all this, it updates the global variables ‘solutions’ and ‘dga_data’ which carry map visualization data and best solutions (for the solutions file) data. The function returns the population (routes) with their corresponding end-to-end fitness function values.<br>\n",
    "<b>Filtering out valid paths:</b> The next stage is filtering out valid paths from the ones that are created. Since the algorithm has no specified formulae in the way the path is created, many invalid paths have a high chance of being created. Therefore, there is need to exclude them so that the subsequent stages run on quality routes. This process is run in the `get_valid_paths()` function. The function eliminates any chromosome with an end-to-end fitness value of 0 as this means there is no end-to-end connectivity. It is at this stage that we determine if there is no valid path completely to a particular station that has been generated. If that is the case, the algorithm reruns from scratch and seeks a path to the alternative base station using the processes described above.<br>\n",
    "<b>Fitness Selection Process:</b> Using the valid paths determined by the previous stage, a selection process is carried out using the tournament selection method. Here the selection is based on the solutions that have the highest fitness function values since our main aim is to maximize the values. This is carried out in the `tournament_fitness_selection()` function which has a set number of maximum possible winners in the function parameters. The result of this function is quality solutions which will be improved in the subsequent stages. If the quality solution left is just 1, the solution is returned without proceeding further.<br>\n",
    "<b>Crossover:</b> Just before this, the process of preparing the chromosomes for crossover is done. This entails pairing best solutions in 2s since the crossover process requires pairs of chromosomes. This is alongside the type of crossover (single-point/ two-point/ uniform) as arguments to the function `crossover()` where the process happens. The result of the process is 2 children with mixed genes (nodes/sensors in the routes) that could potentially be better solutions than their parents.<br>\n",
    "<b>Mutation:</b> This process seeks to introduce new information to the gene. In the shortest route problem that we seek to solve, mutation is done in the form of swapping genes (sensors) for 2 reasons:\n",
    "1. There is a limited number of valid sensors that can be introduced to the solution\n",
    "2. We aim at having sensors with valid end-to-end connectivity values.\n",
    "\n",
    "The number of swaps made is determined by the mutation rate defined in the function `mutate()` where this entire process runs. The nodes that are to be swapped exclude the origin and destination/base station nodes which are the fixed.\n",
    "\n",
    "The above processes are consolidated into the function `dga_run()` which takes in all the requires parameters. The parameters are:\n",
    "1. `origin`: the origin from which you want to traverse the space.\n",
    "2. `destination`: the destination node which you want to get to.\n",
    "3. `population length`: the length of the population for the first generation.\n",
    "4. `generations (optional)`: the maximum number of generations that you would want to you do work with (termination criteria). Default is set to 10.\n",
    "5. `mutation rate (optional)`: The percentage of the population that will be mutated. Default is set to (0.1).\n",
    "6. `crossover type (optional)`: The type of crossover that will be implemented. The default is set to 'single-point'.\n",
    "7. `selection limit (optional)`: The number of winners that should be selected at the minimum during the fitness selection stage. Default is set to 20.\n",
    "\n",
    "The algorithm is tested for each base station. The population generated point to a certain base station and if a valid solution to that base station is found, the alternate base station is tried. This is done using a try-except statement in the wrapping function `discrete_genetic_algorithm()` which is the main function of this algorithm and is called in the main function file. The result of this function is the plotting data that has the best and possible paths alongside the solutions variable that has the data of the best path that will be recorded in the solutions file. The above processes are illustrated in the flow chart below."
   ]
  },
  {
   "cell_type": "markdown",
   "id": "6f839d92-b1bc-409f-9c81-d9e1acf723da",
   "metadata": {},
   "source": [
    "![Alt](https://github.com/samariwa/search-and-optimization-projects/blob/main/assessment/images/dga%20flowchart.png?raw=true)"
   ]
  },
  {
   "cell_type": "markdown",
   "id": "933c46a0-4228-44d7-82e6-121c11537ca6",
   "metadata": {},
   "source": [
    "To execute the discrete genetic algorithm, run `find_optimal_route(sensor, 'discrete genetic algorithm', **kwargs)`. For example:"
   ]
  },
  {
   "cell_type": "markdown",
   "id": "d4a117b9-63b2-417a-adb8-d194061b9872",
   "metadata": {},
   "source": [
    "```\n",
    "origin_sensor = 43\n",
    "\n",
    "dga_kwargs = {\"pop_length\": 150000,\n",
    "              \"generations\": 20,\n",
    "              \"crossover_type\": \"single-point\"\n",
    "            }\n",
    "find_optimal_route(origin_sensor, 'discrete genetic algorithm', dga_kwargs)\n",
    "```"
   ]
  },
  {
   "cell_type": "markdown",
   "id": "839a8e02-07a3-45a0-9545-c942439b151e",
   "metadata": {},
   "source": [
    "#### ACO - Ant Colony Optimization\n",
    "\n",
    "Introduction\n",
    "\n",
    "This algorithm was used in searching for the optimal path from any node to either of the base stations. The algorithm employs ‘ants’ by the way of iterative process, in a stigmergic fashion working ‘together’, although not concurrently or in parallel (we looked into these but deemed them redundant), marking paths with pheromones for more ‘ants’ to follow in following iterations. The Elitist ACO approach adds an extra pheromone level for the ant discovering the best path. Higher graph edge’s pheromone level may increase the probability of an ant transition to it, but the process is still stochastic by utilization of a roulette wheel method, increasing ants’ chances at exploration and preventing the model from being too deterministic. Evaporation has been used in both algorithms. Global pheromone update has been used.\n",
    "\n",
    "#### Process Flow, Methodology\n",
    "\n",
    "Routing Table Creation: The algorithm starts with the creation of an adjacency matrix to represent the geographical data (from co-ordinates). This is done by calculating the Euler distances and the bandwidth connectivity between the nodes (acting as graph weights) as per the Mbps table supplied. This matrix will be essential in creating random routes that have end-to-end connectivity at the fastest rate possible. One algorithm (RH) used out_nodes and out_pheros structures, to ease the coding process, interpretability, and readability. They are essentially a graph adjacency list, and its auxiliary matrix of pheromones, respectively. RH algorithm used the Elitist approach, wherein the elite ant left a 3 x higher pheromone than regular ants. SM code used classic ACO solution, with equal weight given to all ants’ pheromones. In SM implementation, ants were deployed not only from the origin node (as in RH code), but also some adjacent nodes, to improve exploration; he called them ‘helper ants’ – it is a novel idea. Both implementations used the version of calculating probability of single transition to another edge in the graph with the value of tau to the power of alpha, as well as eta to the power of beta divided by their summation. Although it arguably adds some pre-determination into the method, it possibly allows us to reduce the number of iterations and save on computing power. Evaporation rate was 0.45 in both, striking a balance between the persistence of emerging route solutions (pheromone staying power), and stochastic exploration of new / poorly explored unexplored paths. The cumulative probability in both programs was used to construct a roulette wheel, where randomness introduced an extra level of exploring the search space. When routing to one destination or the other, a pseudo-random function was utilized. Both algorithms use loop removal, implemented in slightly different ways.\n",
    "Two operations are weighty for the algorithm’s workings, i.e. positive and negative feedback. Positive feedback takes information from the ants in order to apply stigmergy to the system.  After all ants within an iteration have constructed their paths from the source to destination and graph cycles are removed, the pheromone intensity on an edge (i, j) is adjusted:\n",
    "\n",
    "<b>[Formula 1 Formula 2 placeholders]</b>\n",
    "    \n",
    "xk(t) is the solution of ant k; f(xk(t)) is the quality of the solution (cost of the path); Q > 0 and is a constant; nk is the number of ants.\n",
    "\n",
    "We had to correct one of the programs in order to reflect the fact that our objective function is not strictly a ‘cost’ function, but a ‘benefit’ function to be maximized. Hence, the function value was hereby raised to a power of positive, rather than negative, exponent (here: 1 rather than -1) It enhanced the algorithm, although it still seemed to work and converge satisfactorily well even before that correction. \n",
    "Negative feedback was a simple run through the pheromone matrix by multiplying a scalar (1- ϱ) by it. In both apps, we used 0.45 and it was found effective.\n",
    "The only stopping criteria we used is the number of iterations. Another could be used, too: all (or most) ants follow the same path. It could lead to waste of computational power in non-critical solutions, though. We shall expand on it in the next part.\n",
    "\n",
    "#### Parameter Choice, Experiments and Performance Analysis\n",
    "\n",
    "Having coded, troubleshooted and tested the code, it was time for analysis of the solution files and fine-tuning the parameters. RH code initially set the parameters to the same levels as SM (ants_n=20, iterations=10), but performed many tests and performance and quality analysis to establish a good balance for the apploication domain (weather monitoring system). A chat with OpenAI’s ChatGPT was used, provided with 9 detailed solution files and timings (ChatGPT, 2025). Increases from 10 to 15 and then 20 iterations offered merely modest improvements in the quality of solutions measured by mean objective function for all routes in 10, 15, 20 iteration version (+4.39% and +4.30%, respectively, and only the latter is marginally statistically significant); however, the timings went up from 3 to 5 then 7 minutes per execution. The tests for each of the three iteration parameters were repeated 3 times, and no difference in run time or solution quality was noted. Similarly, increasing the number of ants from 20 to 30 did not affect either the run times, or the quality of the solution.\n",
    "The recommendation for our optimization problem would be to persist with the lower values of iterations as sufficiently accurate and more computationally effective. The increase from 15 to 20 iterations, while “marginally significant, it may justify the cost in high-stakes scenarios”, like high precision or critical systems.\n",
    "\n",
    "#### Tweaks, flowchart, discussion\n",
    "\n",
    "We added the following tweak to the transition probability formulae, that is also commonly used in travelling salesman problem (which shares similarities with and differences from ours).\n",
    "\n",
    "<b>[Formula 3 placeholder] </b>\n",
    " \n",
    "for k = ⟨1, 2, … , nk⟩\n",
    "\n",
    "where: τij(t) is the pheromone intensity; ηij(t) (eta) is a priori effectiveness of the move from i to j; α > 0, β > 0 are predefined constraints; ηij(t) = 1; dij(t) improves the attractiveness of the edge (i, j); dij(t): cost between edge (i, j); \n",
    "\n",
    "#### Further performance comparisons\n",
    "\n",
    "When the two ACO algorithms were run, along with all the other algorithms, it came to our attention that they perform quite differently. Hence we have decided to carry out another, less formal performance analysis.\n",
    "\n",
    "Here is a table of timings (in seconds) on how long the runtime was on optimization of routes from all 150 nodes to one of the base stations. Where applicable, same parameters (ant number, iterations) were set.\n",
    "\n",
    "Algorithm name\tTiming (s) – average where applicable\n",
    "ACO (RH)\t198.2\n",
    "ACO (SM)\t26,585.5\n",
    "Simulated Annealing\t167.245\n",
    "DGA\t2,715.3\n",
    "Dijkstra’s\t136.667\n",
    "PSO\tNot submitted\n",
    "\n",
    "The leader, as expected, was the Dijkstra’s Algorithm, closely trailed by Simulated Annealing. It proved difficult to pinpoint concrete reasons why there was a discrepancy between the two ACO implementations. It seems that ACO (SM) must have been much more exploratory than ACO (RH).\n"
   ]
  },
  {
   "cell_type": "markdown",
   "id": "d5465bf5-ea05-4b25-899b-f42e3225c1d5",
   "metadata": {},
   "source": [
    "#### Simulated Annealing"
   ]
  },
  {
   "cell_type": "markdown",
   "id": "7ff05fbe-5476-4369-b0f7-64c03c2c7168",
   "metadata": {},
   "source": [
    "This algorithm was used in seeking for the best path from a node to any of the base stations. This was done by iteratively checking the absolute cost of the random paths generated up to a point when the following 2 conditions have been met:\n",
    "1. The temperature cools to the lowest set temperature for the algorithm\n",
    "2. There has been no considerable improvement in the absolute cost over the course of several iterations.\n",
    "For purposes of exploration of the search space, the probability of the algorithm picking a worse off solution is high at the initial phases (when the temperature is high) but in later iterations, better solutions are highly considered."
   ]
  },
  {
   "cell_type": "markdown",
   "id": "9695d149-0525-478e-8b56-648f96f6a6fb",
   "metadata": {},
   "source": [
    "##### Process Flow"
   ]
  },
  {
   "cell_type": "markdown",
   "id": "b388e423-fbd1-4c0b-bfe4-69a8e0ad8013",
   "metadata": {},
   "source": [
    "<b>Routing Table Creation:</b> The algorithm starts with the creation of a connectivity graph. This is done by calculating the distances and the bandwidth connectivity between the nodes. This graph will be essential in creating random routes that have end-to-end connectivity at a fast rate. This process is implemented by the `calculate_route_costs ()` function which is fed in the x_y_data that contains the x, y positions of the sensors. A 2D array with the calculated bandwidth information is returned.<br>\n",
    "<b>Initial Route Generation:</b> A random route in created and to ensure validity, the routing table created in the previous step is utilized. The path generated could be of varying length and could be leading to any of the base stations. This is done concurrently with the route absolute cost calculation. This is done in the `generate_route ()` function which takes in the origin node and the routing table data. The absolute cost calculation is done in the `bandwidth_latency_calculation ()` function with takes in the generated route. The route with its corresponding cost is returned from the whole process.<br>\n",
    "<b>Variable Initialization:</b> This is a stage where variables like the ‘starting temperature’, ‘final temperature’, ‘cooling rate’, and ‘improvement checker count’ are initialized. These are the variables that control the functioning of the main function called `simulated_annealing ()`. Their functions are defined below:\n",
    "1. starting temperature: the start temperature defined for the simulated annealing algorithm\n",
    "2. final temperature’: the final temperature defined for the simulated annealing algorithm\n",
    "3. cooling rate: the temperature cooling rate for the algorithm for the algorithm \n",
    "4. improvement checker count: the number of iterations to go through before checking if there is any sensible improvement in the path quality\n",
    "   \n",
    "<b>Recursive Exploration:</b> The algorithm then gets into the core functionality of generating other possible solutions and checking if they are better than the current best solution. Initially, the first solution is set as the best solution and thereafter, any solution that is better than that is used as the best solution for forthcoming iterations. Meanwhile, the cooling of the temperature happens at the set rate. During the initial iterations, the probability of a worse of solution being used as an acceptable solution is high since the high temperature is used in calculating the probability of a path being picked. As the temperature goes down, the influence of temperature in determining whether a solution will be accepted is low. The formulae used in determining whether a solution is picked is as follows:<br>\n",
    "`delta = current path cost – best path cost`<br>\n",
    "`probability = exponential (-delta / current temperature)`<br>\n",
    "Just like in a roulette wheel, a random number is generated and the side in which is falls in determines the solution’s acceptance. In this case, if the number is less than the calculated probability, the worse off solution is accepted.\n",
    "This loop goes on until the lowest temperature is reached. However, I a situation where several iterations have been done but there is no significant improvement, the loop is broken and the solution accepted for purposes of saving time and computation resources.\n",
    "\n",
    "The main function returns the generated solutions that is categorized as ‘best routes’ and ‘possible routes’ as is a standard with all the other algorithm implementations for visualization purposes. The solutions variable containing the best path in the format required by the solutions file is also returned. The process flow is represented in the flow chart below.\n"
   ]
  },
  {
   "cell_type": "markdown",
   "id": "0dce0665-dc7d-4c8b-96a6-e9effdd9d9a7",
   "metadata": {},
   "source": [
    "![Alt](https://github.com/samariwa/search-and-optimization-projects/blob/main/assessment/images/simanneal%20flowchart.png?raw=true)"
   ]
  },
  {
   "cell_type": "markdown",
   "id": "1a524bbd-2f8c-4a04-8d49-bde1025cbbed",
   "metadata": {},
   "source": [
    "To execute the discrete genetic algorithm, run `find_optimal_route(sensor, 'simulated annealing', **kwargs)`. For example:"
   ]
  },
  {
   "cell_type": "markdown",
   "id": "fe81ccb6-fadc-4010-9c62-6f813efa7b3a",
   "metadata": {},
   "source": [
    "```\n",
    "origin_sensor = 43\n",
    "\n",
    "sim_anneal_kwargs = {\"init_temp\": 70,\n",
    "                     \"final_temp\", 5,\n",
    "                     \"cooling_rate\", 0.82\n",
    "                    }\n",
    "find_optimal_route(origin_sensor, 'simulated annealing', sim_anneal_kwargs)\n",
    "```"
   ]
  },
  {
   "cell_type": "markdown",
   "id": "43e0d5f0-b3a0-458c-aec6-ab67e321d671",
   "metadata": {},
   "source": [
    "## Results"
   ]
  },
  {
   "cell_type": "code",
   "execution_count": null,
   "id": "4cbcb00b-7ef9-4696-b637-b50a9ae9424b",
   "metadata": {},
   "outputs": [],
   "source": []
  },
  {
   "cell_type": "code",
   "execution_count": 49,
   "id": "a0f24d97-b792-48df-9e31-98f89f36080f",
   "metadata": {},
   "outputs": [],
   "source": [
    "def parse_map_data(results):\n",
    "    \"\"\"\n",
    "    parse_map_data(results)\n",
    "    converts routes data to geographic routes that can be represented on a map.\n",
    "    this is done by checking the sequence of x y coordinates against their corresponding\n",
    "    geographic coordinates defined in the plotting module.\n",
    "    results: the algorithm search results that contains the best solution to the destination\n",
    "    and all other possible routes.\n",
    "    returns: the coordinates used to create the map representation\n",
    "    \"\"\"\n",
    "    # init dictionary with the structure expected for map visualization\n",
    "    coordinates = {'best_route': {'sensor_id': [],\n",
    "                              'coordinates': []}, \n",
    "               'possible_routes': []\n",
    "              }\n",
    "    # convert the string containing the list of the best path to type list\n",
    "    possible_paths = [ast.literal_eval(paths) for paths in results['possible_paths'].keys()]\n",
    "    # get the geographic coordinates for all nodes in possible paths\n",
    "    for path in possible_paths:\n",
    "        route_coords = []\n",
    "        possible_path_dest_idx = len(path) - 1\n",
    "        for idx, sensor in enumerate(path):\n",
    "            if idx != 0 and idx != possible_path_dest_idx:\n",
    "                # duplicate coordinates for all nodes but for the first and last\n",
    "                route_coords.append(geographic_coords[str(sensor)])\n",
    "                route_coords.append(geographic_coords[str(sensor)])\n",
    "            else:\n",
    "                route_coords.append(geographic_coords[str(sensor)])\n",
    "        coordinates['possible_routes'].append(route_coords)\n",
    "    # add best path last so that an visual it appears on top\n",
    "    best_path = ast.literal_eval(list(results['best_path'].keys())[0])\n",
    "    best_path_dest_idx = len(best_path) - 1\n",
    "    for idx, sensor in enumerate(best_path):\n",
    "        # include sensor IDs for the best path except for the destination (won't need pin marker)\n",
    "        if idx != best_path_dest_idx:\n",
    "            coordinates['best_route']['sensor_id'].append(sensor)\n",
    "        if idx != 0 and idx != best_path_dest_idx:\n",
    "            # duplicate coordinates for all nodes but for the first and last\n",
    "            coordinates['best_route']['coordinates'].append(geographic_coords[str(sensor)])\n",
    "            coordinates['best_route']['coordinates'].append(geographic_coords[str(sensor)])\n",
    "        else:\n",
    "            coordinates['best_route']['coordinates'].append(geographic_coords[str(sensor)])\n",
    "\n",
    "    return coordinates"
   ]
  },
  {
   "cell_type": "code",
   "execution_count": 50,
   "id": "568b0eb8-4ee2-42a3-b93c-e5acf6863eac",
   "metadata": {},
   "outputs": [],
   "source": [
    "def load_solutions():\n",
    "    \"\"\"\n",
    "    load_solutions()\n",
    "    it loads solutions that already exist since new solutions are appended to the json\n",
    "    object before being added written on the file.\n",
    "    returns: the json object read from the file\n",
    "    \"\"\"\n",
    "    # fetch existing best solutions from the solutions file\n",
    "    with open('solutions.json', 'r') as file:\n",
    "        try:\n",
    "            solutions = json.load(file)\n",
    "        except Exception as e:\n",
    "            # if the solutions file is empty, initialize and empty dict to be used\n",
    "            solutions = {}\n",
    "\n",
    "    return solutions"
   ]
  },
  {
   "cell_type": "code",
   "execution_count": 51,
   "id": "8bef4f01-95bc-4a8f-9eb4-a571b466185f",
   "metadata": {},
   "outputs": [],
   "source": [
    "def save_solution(solution, method):\n",
    "    \"\"\"\n",
    "    save_solution(solution, method)\n",
    "    saves the best solution found by each algorithm in a solutions json file.\n",
    "    the solutions file has a format like...\n",
    "    {\"source node\": \"Node-5\", \n",
    "    \"routing path\": \"(Node-2, 1 Mbps), (Node-1, 4Mbps), (BS-2, 2 Mbps)\",\n",
    "    \"end-to-end transmission rate\": \"1 Mbps\"}\n",
    "    solution: the best solution to a base station from a sensor\n",
    "    method: the method that was used to get that best solution.\n",
    "    returns: nothing\n",
    "    \"\"\"\n",
    "    # fetch existing solutions\n",
    "    existing_solutions = load_solutions()\n",
    "    '''\n",
    "    if solution for a sensor using the method specified exists, \n",
    "    update the dict with a new solution, otherwise create the solution\n",
    "    '''\n",
    "    if method in existing_solutions.keys():\n",
    "        existing_solutions[method][solution[0]['source node']] = solution[0]\n",
    "    else:\n",
    "        existing_solutions[method] = {}\n",
    "        existing_solutions[method][solution[0]['source node']] = solution[0]\n",
    "    # write the updated solutions to the solutions file\n",
    "    json.dump(existing_solutions, open( f\"solutions.json\", 'w' ) )\n",
    "\n",
    "    return"
   ]
  },
  {
   "cell_type": "code",
   "execution_count": 52,
   "id": "9ed49514-3f18-43ab-a60e-d3cd0204846c",
   "metadata": {},
   "outputs": [],
   "source": [
    "def find_optimal_route(origin, method, **kwargs):\n",
    "    \"\"\"\n",
    "    find_optimal_route(origin, method, **kwargs)\n",
    "    the main function of this assessment. It searches for best route \n",
    "    from a node to either of the 2 base stations. The search is done using\n",
    "    the algorithm specified as one of the arguments. Supported algorithms \n",
    "    include: 'discrete genetic algorithm', 'ant colony optimization', \n",
    "    'dijkstras algorithm' and 'simulated annealing'. Each of the algorithms,\n",
    "    return a best solutions dictionary that is stored in the solutions file,\n",
    "    and the results dictionary which is used for visualization on a map\n",
    "    origin: the node whose best path to a base station you are seeking\n",
    "    method: the algorithm you want to use to perform the search\n",
    "    **kwargs: any additional arguments you want to pass in for\n",
    "    optimization of the various algorithms\n",
    "    Expected **kwargs and their fallback values:\n",
    "    discrete genetic algorithm: pop_length=100000, generations=10, mutation_rate=0.1, crossover_type='single-point', selection_limit=20\n",
    "    ant colony optimization: Q=1, alpha = 0.6, evaporate=0.45, ants_count=20, max_iterations=10\n",
    "    dijkstras algorithm: None\n",
    "    simulated annealing: init_temp=100, final_temp=0.1, cooling_rate=0.95, improvement_checker_count=50\n",
    "    More details on the **kwargs provided in the algorithms' respective modules\n",
    "    returns: nothing\n",
    "    \"\"\"\n",
    "    # run the algorithm passed in as a parameter and fetch the visualization results together with the solutions file data\n",
    "    if method == \"discrete genetic algorithm\":\n",
    "        results, solutions = discrete_genetic_algorithm(\n",
    "            origin,\n",
    "            pop_length=kwargs.get(\"pop_length\", 100000),\n",
    "            generations=kwargs.get(\"generations\", 10),\n",
    "            mutation_rate=kwargs.get(\"mutation_rate\", 0.1),\n",
    "            crossover_type=kwargs.get(\"crossover_type\", \"single-point\"),\n",
    "            selection_limit=kwargs.get(\"selection_limit\", 20),\n",
    "        )\n",
    "    elif method == \"dijkstras algorithm\":\n",
    "        results, solutions = ant_colony_optimization(\n",
    "            origin,\n",
    "            Q=kwargs.get(\"Q\", 1),\n",
    "            alpha=kwargs.get(\"alpha\", 0.6),\n",
    "            evaporate=kwargs.get(\"evaporate\", 0.45),\n",
    "            ants_count=kwargs.get(\"ants_count\", 20),\n",
    "            max_iterations=kwargs.get(\"max_iterations\", 10),\n",
    "        )\n",
    "    elif method == \"ant colony optimization\":\n",
    "        results, solutions = ant_colony_optimization(origin)\n",
    "    elif method == \"simulated annealing\":\n",
    "        results, solutions = simulated_annealing(\n",
    "            origin,\n",
    "            init_temp=kwargs.get(\"init_temp\", 100),\n",
    "            final_temp=kwargs.get(\"final_temp\", 0.1),\n",
    "            cooling_rate=kwargs.get(\"cooling_rate\", 0.95),\n",
    "            improvement_checker_count=kwargs.get(\"improvement_checker_count\", 50),\n",
    "        )\n",
    "    else:\n",
    "        return \"unknown algorithm\"\n",
    "    # save the best path in the solutions file\n",
    "    save_solution(solutions, method)\n",
    "    # parse the plotting results and call the map visualization function\n",
    "    #coordinates = parse_map_data(results)\n",
    "    #plot_route(coordinates)\n",
    "\n",
    "    return"
   ]
  },
  {
   "cell_type": "code",
   "execution_count": 53,
   "id": "3f0eecc7-1257-466a-a94d-77ffeb22e03b",
   "metadata": {},
   "outputs": [],
   "source": [
    "#find_optimal_route(43, 'discrete genetic algorithm', pop_length=100000)\n",
    "#find_optimal_route(1, 'ant colony optimization')\n",
    "#find_optimal_route(43, 'simulated annealing')"
   ]
  },
  {
   "cell_type": "code",
   "execution_count": 54,
   "id": "f0692f8e-3a31-4523-b8da-0003343cf0cd",
   "metadata": {},
   "outputs": [],
   "source": [
    "def get_missing_solutions():\n",
    "    \"\"\"\n",
    "    get_missing_solutions()\n",
    "    for each algorithm, it gets the nodes that dont have any documented\n",
    "    solutions to any of the based stations. This is based on the records\n",
    "    found in the solutions json file.\n",
    "    returns: a dictionary containing the missing solution for each algorithm\n",
    "    \"\"\"\n",
    "    missing_solutions = {}\n",
    "    sensors = list(x_y_data.keys())[:-2]\n",
    "    solutions = load_solutions()\n",
    "\n",
    "    for algorithm in solutions.keys():\n",
    "        for sensor in sensors:\n",
    "            if solutions[algorithm].get(f\"Node-{sensor}\") == None:\n",
    "                if algorithm in missing_solutions.keys():\n",
    "                    missing_solutions[algorithm].append(sensor)\n",
    "                else:\n",
    "                    missing_solutions[algorithm] = []\n",
    "                    missing_solutions[algorithm].append(sensor)\n",
    "\n",
    "    return missing_solutions    "
   ]
  },
  {
   "cell_type": "code",
   "execution_count": 55,
   "id": "90f496cc-f159-4edd-8ebb-ed47b688b198",
   "metadata": {},
   "outputs": [],
   "source": [
    "def run_all():\n",
    "    \"\"\"\n",
    "    run_all()\n",
    "    executes the find_optimal_route() function for all sensors using all algorithms\n",
    "    for purposes of storing the best solutions for each in the solutions file.\n",
    "    returns: nothing\n",
    "    \"\"\"\n",
    "    # algorithms to be executed\n",
    "    methods = ['discrete genetic algorithm', 'ant colony optimization', 'dijkstras algorithm', 'simulated annealing']\n",
    "    # all sensors except the 2 base stations\n",
    "    sensors = list(x_y_data.keys())[:-2]\n",
    "    # for each method, find the best path for each sensor\n",
    "    for method in methods:\n",
    "        for sensor in sensors:\n",
    "            # ignore situations where no best paths will be found. This is typical with DGA and it will kill the function\n",
    "            try:\n",
    "                print(f\"Sensor {sensor}\")\n",
    "                find_optimal_route(sensor, method)\n",
    "            except:\n",
    "                pass        \n",
    "\n",
    "    return"
   ]
  },
  {
   "cell_type": "code",
   "execution_count": 56,
   "id": "23fe648c-4465-4b0e-87fa-3d2ec5ff45be",
   "metadata": {},
   "outputs": [],
   "source": [
    "#run_all()"
   ]
  },
  {
   "cell_type": "markdown",
   "id": "d1b78aaf-f957-45bb-bb33-52080191dbd8",
   "metadata": {},
   "source": [
    "### Algorithm Performance Evaluation"
   ]
  },
  {
   "cell_type": "markdown",
   "id": "cdd063a2-6b93-4771-b44a-e2cafa77835d",
   "metadata": {},
   "source": [
    "The various algorithms that we implemented were evaluated against the following metrics:\n",
    "- Execution time\n",
    "- Solution quality\n",
    "\n",
    "The performances were then visualized in a bar chart and table respectively. The code implementing performance of the algorithms is found in the [Mertics Module](./metrics.ipynb)"
   ]
  },
  {
   "cell_type": "markdown",
   "id": "1fb55342-d147-42b9-a0d1-05fcaf7dee7f",
   "metadata": {},
   "source": [
    "#### Execution Time"
   ]
  },
  {
   "cell_type": "markdown",
   "id": "11211fc1-374e-45df-bc10-45e226c7cdd3",
   "metadata": {},
   "source": [
    "This metric calculates the time taken in seconds for an algorithm to execute. This measurement when the same type of problem is passed into the various algorithms, for example, getting the best path to any base station from node 43 will be passed in to all the algorithms. The time library was imported to capture execution start time and end time and this the execution time calculated as follows:"
   ]
  },
  {
   "cell_type": "markdown",
   "id": "e6a3302e-3542-4870-8670-725f8f36645f",
   "metadata": {},
   "source": [
    "`\n",
    "execution time = execution stop time – execution start time\n",
    "`"
   ]
  },
  {
   "cell_type": "markdown",
   "id": "b62a36bc-161e-473e-9886-1f161fd9edc9",
   "metadata": {},
   "source": [
    "This information is recorded against the algorithm name in a dictionary. After all the executions, the dictionary is used to build a bar chart which shows execution time in seconds as in the figure below."
   ]
  },
  {
   "cell_type": "markdown",
   "id": "9bc97c25-97d4-4206-8178-88d6d5d07642",
   "metadata": {},
   "source": [
    "![Alt](https://github.com/samariwa/search-and-optimization-projects/blob/main/assessment/images/metrics%20chart.png?raw=true)"
   ]
  },
  {
   "cell_type": "markdown",
   "id": "b4cb4a3a-b79c-4fd9-9662-72b65959923a",
   "metadata": {},
   "source": [
    "The function that fetches the execution time performance is shown below. To execute run `get_algorithm_time_metrics()`"
   ]
  },
  {
   "cell_type": "code",
   "execution_count": 65,
   "id": "5236f767-5c0f-456d-8d03-146539700131",
   "metadata": {},
   "outputs": [],
   "source": [
    "def get_algorithm_time_metrics():\n",
    "    \"\"\"\n",
    "    get_algorithm_time_metrics()\n",
    "    this function compares the performance of the various algorithms \n",
    "    in terms of execution time and plots them on a bar graph. This is done\n",
    "    by setting a timer at the beginning of execution of an algorithm and stopping\n",
    "    it at the end of the execution. The duration is stored in a dictionary against\n",
    "    the algorithm name as a key in the stop_execution() function. These functions\n",
    "    are found in the found in the metrics module. The durations are plotted on a\n",
    "    bar graph for visualization purposes.\n",
    "    returns: nothing\n",
    "    \"\"\"\n",
    "    # choose any random node to start from with the exception of the base stations\n",
    "    dest_nodes = [x_y_base_station_1[0], x_y_base_station_2[0]]\n",
    "    start_node = choice(np.array([i for i in x_y_data.keys() if i not in dest_nodes]), 1, replace=False)[0]\n",
    "    # list of algorithms whose time performance will be compared\n",
    "    methods = ['discrete genetic algorithm', 'ant colony optimization', 'dijkstras algorithm', 'simulated annealing']\n",
    "    for method in methods:\n",
    "        print(\"++++++++++++++++++++++++++++++++++++++++++++++++++++++++++++++++++++++++++++++++++++\")\n",
    "        print(f\"executing {method}...\")\n",
    "        # start execution timer\n",
    "        start_execution()\n",
    "        # run the algorithm\n",
    "        find_optimal_route(start_node, method)\n",
    "        # stop the timer and record the results\n",
    "        stop_execution(method)\n",
    "        print(\"++++++++++++++++++++++++++++++++++++++++++++++++++++++++++++++++++++++++++++++++++++\")\n",
    "    # plot the recorded results\n",
    "    plot_algorithm_execution_time()\n",
    "\n",
    "    return"
   ]
  },
  {
   "cell_type": "code",
   "execution_count": 66,
   "id": "a76917b1-2790-4465-9f23-8191c3a40fb4",
   "metadata": {},
   "outputs": [],
   "source": [
    "#get_algorithm_time_metrics()"
   ]
  },
  {
   "cell_type": "markdown",
   "id": "51d24c1e-594d-4dbf-adbc-865a15d46315",
   "metadata": {},
   "source": [
    "#### Solution Quality"
   ]
  },
  {
   "cell_type": "markdown",
   "id": "479fbf21-2eb2-47f0-966a-b6292e533237",
   "metadata": {},
   "source": [
    "The best paths from a sensor to a base station may vary for various algorithms. These paths may have varying absolute costs or similar absolute costs. This metric analyses the best paths in terms of the absolute cost and ranks them such that those that have a high absolute cost are ranked higher. But this metric being done once may not reflect the consistent generation of quality solutions. To take care of this, we set the algorithm to run several problems and for each problem rank them. At the end, ranks for each of the problems are ranked to come up with an aggregated rank of the best solution which are represented in a table as shown below."
   ]
  },
  {
   "cell_type": "markdown",
   "id": "4a4ab565-9035-4082-84b2-126354c3bdbb",
   "metadata": {},
   "source": [
    "![Alt](https://github.com/samariwa/search-and-optimization-projects/blob/main/assessment/images/metrics%20table.png?raw=true)"
   ]
  },
  {
   "cell_type": "markdown",
   "id": "bea1a4f9-d501-44db-916a-9fba8bf35e0b",
   "metadata": {},
   "source": [
    "In the figure above, Dijkstra and simulated annealing got the best solutions and tied in terms of their performance ranking. The solution quality evaluation is implemented using the function below. To execute run `get_algorithm_accuracy_metrics()` with the number of trials passed in as an argument (Default is 4)."
   ]
  },
  {
   "cell_type": "code",
   "execution_count": 71,
   "id": "c4a3d2a2-bae6-4752-9d8d-41237d1140cf",
   "metadata": {},
   "outputs": [],
   "source": [
    "def get_algorithm_accuracy_metrics(trials=4):\n",
    "    \"\"\"\n",
    "    get_algorithm_accuracy_metrics()\n",
    "    ranks the algorithms in terms of the quality of the solutions they provide.\n",
    "    The ranking is done by running the several runs of all algorithms, ranking \n",
    "    the individual ranks then ranking the ranks in order to get a wholistic rank\n",
    "    of the algorithms. The ranks are then displayed on a table. Rank ties \n",
    "    could exist in some scenarios\n",
    "    trials (optional): number of times you want to run the algorithm to get an\n",
    "    aggregated rank for more consistency in performance ranking\n",
    "    returns: nothing\n",
    "    \"\"\"\n",
    "    # choose any random node to start from with the exception of the base stations\n",
    "    dest_nodes = [x_y_base_station_1[0], x_y_base_station_2[0]]\n",
    "    # list of algorithms whose time performance will be compared\n",
    "    methods = ['discrete genetic algorithm', 'ant colony optimization', 'dijkstras algorithm', 'simulated annealing']\n",
    "    accuracy_performance = []\n",
    "    # initialize the sum of ranks for overall ranking\n",
    "    rank_sum = np.zeros(len(methods))\n",
    "    trial_no = trials\n",
    "    # create a store for the final rank data\n",
    "    overall_performance = []\n",
    "    for trial in range(trial_no):\n",
    "        start_node = choice(np.array([i for i in x_y_data.keys() if i not in dest_nodes]), 1, replace=False)[0]\n",
    "        print(f\"trial {trial + 1}...\")\n",
    "        print(\"++++++++++++++++++++++++++++++++++++++++++++++++++++++++++++++++++++++++++++++++++++\")\n",
    "        path_costs = []\n",
    "        for method in methods:      \n",
    "            print(f\"executing {method}; trial {trial + 1}...\")\n",
    "            '''\n",
    "            run the algorithm and get the solutions data with contains \n",
    "            the albolute cost which is used to dictate the quality of \n",
    "            the solution. The higher the cost the better the rank\n",
    "            '''\n",
    "            if method == \"discrete genetic algorithm\":\n",
    "                results, solutions = discrete_genetic_algorithm(start_node)\n",
    "            elif method == \"dijkstras algorithm\":\n",
    "                results, solutions = dijkstra_algorithm(start_node)\n",
    "            elif method == \"ant colony optimization\":\n",
    "                results, solutions = ant_colony_optimization(start_node)\n",
    "            elif method == \"simulated annealing\":\n",
    "                results, solutions = simulated_annealing(start_node)\n",
    "            path_costs.append(float(solutions[0]['absolute path cost']))\n",
    "        # rank the path costs. negate the costs so that ranking is done in descending order\n",
    "        ranked_costs = stat.rankdata([-cost for cost in path_costs])\n",
    "        accuracy_performance.append(list(map(int, ranked_costs)))\n",
    "        print(\"++++++++++++++++++++++++++++++++++++++++++++++++++++++++++++++++++++++++++++++++++++\")\n",
    "    #compile the individual trial ranks into a single wholistic rank\n",
    "    for ranks in range(len(accuracy_performance)):\n",
    "        for method in range(len(methods)):\n",
    "            rank_sum[method] += accuracy_performance[ranks][method]\n",
    "    # rank the sum of the individual ranks\n",
    "    rank_data = list(map(int,stat.rankdata(rank_sum)))\n",
    "    for i in range(len(rank_data)):\n",
    "        overall_performance.append([rank_data[i], methods[i]])\n",
    "    # tabulate the overall rank\n",
    "    show_algorithm_accuracy_rank(overall_performance)\n",
    "\n",
    "    return"
   ]
  },
  {
   "cell_type": "code",
   "execution_count": 72,
   "id": "78c3ce1d-db53-4da0-93fe-78b100367d76",
   "metadata": {},
   "outputs": [],
   "source": [
    "#get_algorithm_accuracy_metrics()"
   ]
  },
  {
   "cell_type": "markdown",
   "id": "33ba344f-0f7c-4c23-a221-3bb4222d53b4",
   "metadata": {},
   "source": [
    "#### Evaluation"
   ]
  },
  {
   "cell_type": "markdown",
   "id": "d29c2679-dd73-4fc8-9daf-609a6055e62b",
   "metadata": {},
   "source": [
    "After running several tests, we had the following results for our algorithms:\n",
    "- Execution time metric:\n",
    "    1. Dijkstra’s Algorithm (< 1 second)\n",
    "    2. Simulated Annealing Algorithm (1-5 seconds)\n",
    "    3. Discrete Genetic Algorithm (20 – 60seconds)\n",
    "    4. Ant’s Colony Optimization Algorithm (200-250 seconds)\n",
    "\n",
    "The indicated times ranges are where most execution times lie for round of algorithm execution. They vary based on the kind of randomly generated solutions in the cases of the stochastic algorithms like Simulated Annealing and Discrete Genetic Algorithm. These times also vary based on the **kwargs provided e.g. the population size in DGA or the number of ants in ACO. These performances were run against the default parameters which had been pre-tested to ensure optimal output.\n",
    "Based on the results, Dijkstra’s Algorithm is the best algorithm for this problem in terms of time since executes in the shortest time consistently.\n",
    "\n",
    "- Solution quality metric:\n",
    "    1. Dijkstra’s Algorithm\n",
    "    2. Simulated Annealing\n",
    "    3. Discrete Genetic Algorithm\n",
    "    4. Ant Colony Optimization\n",
    "\n",
    "The ranks were done based on 4 trials for each algorithm, and for each trial, the best path from a particular node was tried for each algorithm. There were times when DGA emerged the best because it is dependent on the randomly generated initial paths and the permutation with is more of a trial and error. The above ranks were derived from several executions and the performance consolidated to the above.\n",
    "Based on the results, Dijkstra’s Algorithm performed best for this problem because it consistently gave good results. The upside of Dijkstra’s algorithm is the logic of evaluating the next best path in the trail. This made the algorithm always get to the base station from a node in a particular route even when run several times. This consistency makes it a reliable algorithm for good solutions alongside the quick execution time as discussed above."
   ]
  },
  {
   "cell_type": "markdown",
   "id": "4b419fc0-bb92-4f43-abff-14e908fa1364",
   "metadata": {},
   "source": [
    "#### Tradeoff between time and quality"
   ]
  },
  {
   "cell_type": "markdown",
   "id": "e935df8e-bc8d-4962-a1c0-8fd569e4a352",
   "metadata": {},
   "source": [
    "These rankings were based on several tests but again they vary based on the **kwargs provided. At the end, for stochastic algorithms, there is a tradeoff between time and quality. For example, if you initialize many ants in the ACO algorithm, more time will be used to explore the search trail and therefore to get the best path and you might get better solutions."
   ]
  },
  {
   "cell_type": "markdown",
   "id": "2c21b572-0d77-413b-b28c-99f841390ca0",
   "metadata": {},
   "source": [
    "### Alternative Solution for ACO\n",
    "\n",
    "The ACO as provided above finds plethora of solutions; it is, however, performing at low speed (we came to conclusion that it is more exploratory). The timings comparison has been provided at the ACO documentation section.\n",
    "\n",
    "The ACO(2).ipynb - also referred here as ACO (RH) provides an alternative, although it is not integrated with the visualisations and formal performance analysis above. it also saves a solution file using an objective function as defined in our \"Objective Function\" section rather than parsing it into separate values of badnwidth and latencies.\n",
    "\n",
    "This algorithm was used in a basic statistical analysis of solutions files by a GenAI, which calculated the optimal ACO parameters for us, providing justifications (prompts and outputs cited above).\n",
    "\n"
   ]
  },
  {
   "cell_type": "code",
   "execution_count": null,
   "id": "f3b7f60c-3c8b-4adf-ba29-099e9603e521",
   "metadata": {},
   "outputs": [
    {
     "name": "stdout",
     "output_type": "stream",
     "text": [
      "[{0: [7, 19, 39, 41, 54, 75, 85, 92, 93, 99, 113, 126, 132, 145, 149]}, {1: [3, 10, 11, 12, 37, 46, 47, 66, 70, 74, 81, 82, 87, 127, 131, 136, 146]}, {2: [8, 21, 22, 23, 25, 32, 38, 43, 49, 50, 53, 55, 67, 68, 69, 79, 98, 103, 107, 109, 110, 118, 121, 122, 124, 125, 140, 141, 143, 150]}, {3: [1, 10, 11, 12, 26, 37, 46, 65, 66, 72, 74, 77, 81, 87, 104, 127, 136, 139, 142]}, {4: [15, 21, 25, 30, 31, 32, 33, 38, 43, 49, 50, 55, 59, 62, 64, 68, 79, 98, 101, 103, 107, 108, 110, 116, 118, 120, 122, 124, 125, 140, 141, 143]}, {5: [9, 16, 19, 20, 23, 28, 34, 39, 41, 51, 53, 54, 58, 67, 75, 84, 85, 86, 92, 93, 95, 99, 100, 105, 109, 113, 114, 126, 132, 133, 134, 135, 147, 149]}, {6: [9, 15, 17, 18, 21, 23, 24, 25, 28, 29, 32, 33, 34, 38, 44, 45, 49, 57, 63, 64, 67, 78, 79, 84, 86, 88, 90, 94, 97, 100, 101, 105, 106, 109, 112, 115, 116, 118, 120, 121, 129, 137, 138, 140, 142, 143, 147]}, {7: [0, 19, 39, 41, 54, 75, 85, 92, 93, 99, 113, 126, 132, 135, 145, 149]}, {8: [2, 15, 16, 20, 21, 22, 23, 25, 28, 32, 38, 43, 49, 50, 53, 55, 64, 67, 68, 69, 79, 95, 100, 101, 103, 105, 106, 107, 109, 110, 118, 121, 124, 129, 140, 141, 143]}, {9: [5, 6, 15, 18, 21, 23, 25, 28, 29, 34, 44, 45, 51, 53, 57, 58, 63, 64, 67, 78, 84, 85, 86, 91, 93, 94, 95, 97, 100, 101, 105, 106, 109, 112, 114, 115, 121, 128, 129, 133, 134, 135, 137, 138, 147, 149]}, {10: [1, 3, 11, 12, 17, 30, 46, 47, 66, 70, 74, 81, 82, 87, 108, 127, 131, 136, 146, 148]}, {11: [1, 3, 10, 12, 17, 18, 24, 26, 37, 45, 46, 47, 57, 63, 65, 66, 72, 74, 77, 81, 87, 88, 90, 94, 97, 104, 115, 123, 127, 130, 136, 137, 139, 142]}, {12: [1, 3, 10, 11, 17, 30, 46, 47, 66, 70, 74, 81, 82, 87, 108, 127, 131, 136, 146, 148]}, {13: [14, 26, 27, 48, 52, 56, 60, 61, 65, 71, 72, 76, 77, 80, 83, 89, 96, 104, 111, 130, 144, 151]}, {14: [13, 27, 40, 42, 48, 52, 56, 60, 61, 71, 72, 76, 80, 83, 89, 96, 102, 104, 111, 117, 130, 144, 151]}, {15: [4, 6, 8, 9, 17, 18, 21, 23, 24, 25, 28, 29, 32, 33, 38, 45, 49, 50, 53, 55, 62, 63, 64, 67, 68, 78, 79, 86, 88, 90, 94, 97, 100, 101, 105, 106, 109, 110, 112, 116, 118, 120, 121, 124, 129, 138, 140, 141, 143, 147]}, {16: [5, 8, 19, 20, 23, 39, 41, 51, 53, 54, 58, 67, 75, 85, 92, 93, 95, 99, 100, 105, 113, 126, 149]}, {17: [6, 10, 11, 12, 15, 18, 24, 26, 29, 30, 33, 45, 46, 57, 63, 64, 65, 66, 74, 78, 81, 82, 87, 88, 90, 94, 97, 101, 108, 112, 115, 116, 120, 131, 138, 139, 142, 148]}, {18: [6, 9, 11, 15, 17, 24, 26, 27, 28, 29, 33, 34, 40, 42, 44, 45, 57, 61, 63, 64, 65, 66, 78, 80, 84, 86, 88, 90, 91, 94, 97, 101, 106, 111, 112, 114, 115, 123, 128, 129, 130, 134, 137, 138, 139, 142, 147]}, {19: [0, 5, 7, 16, 20, 39, 41, 54, 75, 85, 92, 93, 95, 99, 113, 126, 132, 145, 149]}, {20: [5, 8, 16, 19, 23, 39, 41, 51, 53, 54, 58, 67, 85, 92, 93, 95, 99, 100, 105, 109, 113, 126, 149]}, {21: [2, 4, 6, 8, 9, 15, 23, 25, 28, 29, 32, 33, 38, 45, 49, 50, 53, 55, 62, 63, 64, 67, 68, 69, 78, 79, 88, 90, 94, 100, 101, 103, 105, 106, 107, 109, 110, 112, 116, 118, 120, 121, 124, 125, 129, 140, 141, 143, 147]}, {22: [2, 8, 23, 32, 38, 43, 49, 50, 53, 55, 67, 68, 69, 79, 98, 103, 107, 109, 110, 118, 121, 122, 124, 140, 141, 143, 150]}, {23: [2, 5, 6, 8, 9, 15, 16, 20, 21, 22, 25, 28, 29, 32, 33, 34, 38, 49, 50, 51, 53, 54, 58, 63, 64, 67, 68, 69, 78, 79, 85, 86, 90, 94, 95, 100, 101, 103, 105, 106, 109, 110, 112, 118, 121, 124, 129, 140, 141, 143, 147]}, {24: [6, 11, 15, 17, 18, 26, 29, 33, 37, 44, 45, 46, 57, 63, 65, 66, 74, 78, 81, 87, 88, 90, 94, 97, 101, 112, 115, 120, 123, 128, 130, 136, 137, 138, 139, 142, 147]}, {25: [2, 4, 6, 8, 9, 15, 21, 23, 28, 29, 32, 33, 38, 45, 49, 50, 53, 55, 62, 63, 64, 67, 68, 69, 78, 79, 86, 88, 90, 94, 97, 100, 101, 105, 106, 107, 109, 110, 112, 116, 118, 120, 121, 124, 129, 140, 141, 143, 147]}, {26: [3, 11, 13, 17, 18, 24, 27, 37, 40, 42, 44, 45, 48, 57, 60, 61, 63, 65, 66, 72, 76, 77, 80, 83, 84, 87, 88, 94, 97, 104, 111, 115, 123, 128, 130, 136, 137, 138, 139, 142, 144]}, {27: [13, 14, 18, 26, 34, 36, 40, 42, 44, 48, 57, 60, 61, 63, 65, 71, 72, 73, 76, 80, 83, 84, 89, 91, 96, 102, 104, 111, 114, 115, 117, 119, 123, 128, 130, 134, 137, 138, 139, 142, 144]}, {28: [5, 6, 8, 9, 15, 18, 21, 23, 25, 29, 32, 33, 34, 38, 45, 49, 50, 51, 53, 55, 58, 63, 64, 67, 68, 78, 79, 84, 86, 88, 90, 94, 97, 100, 101, 105, 106, 109, 110, 112, 116, 118, 120, 121, 124, 129, 138, 140, 141, 143, 147]}, {29: [6, 9, 15, 17, 18, 21, 23, 24, 25, 28, 32, 33, 34, 38, 44, 45, 51, 57, 63, 64, 78, 84, 86, 88, 90, 94, 97, 100, 101, 105, 106, 109, 112, 115, 116, 118, 120, 121, 123, 128, 129, 137, 138, 140, 142, 143, 147]}, {30: [4, 10, 12, 17, 31, 33, 46, 47, 62, 64, 74, 81, 82, 88, 90, 108, 112, 116, 120, 131, 146, 148]}, {31: [4, 30, 33, 38, 43, 49, 50, 55, 59, 62, 68, 79, 82, 107, 108, 110, 116, 118, 120, 124, 125, 140, 143, 148]}, {32: [2, 4, 6, 8, 15, 21, 22, 23, 25, 28, 29, 33, 38, 43, 49, 50, 53, 55, 59, 62, 64, 67, 68, 69, 78, 79, 90, 98, 101, 103, 106, 107, 109, 110, 112, 116, 118, 120, 121, 124, 125, 129, 140, 141, 143, 147]}, {33: [4, 6, 15, 17, 18, 21, 23, 24, 25, 28, 29, 30, 31, 32, 38, 45, 49, 50, 55, 62, 63, 64, 67, 68, 78, 79, 88, 90, 94, 97, 101, 106, 109, 110, 112, 116, 118, 120, 121, 124, 129, 138, 140, 141, 143, 147]}, {34: [5, 6, 9, 18, 23, 27, 28, 29, 36, 40, 42, 44, 45, 48, 51, 57, 58, 61, 63, 73, 78, 80, 84, 86, 91, 94, 97, 100, 105, 106, 111, 112, 114, 115, 123, 128, 129, 130, 133, 134, 135, 137, 138, 147, 149]}, {35: [36, 73, 84, 91, 93, 102, 114, 117, 119, 132, 133, 134, 135, 145, 149]}, {36: [27, 34, 35, 40, 42, 44, 48, 73, 80, 84, 91, 102, 111, 114, 117, 119, 132, 133, 134, 135]}, {37: [1, 3, 11, 24, 26, 46, 65, 66, 72, 77, 81, 87, 104, 115, 127, 130, 136, 139, 142]}, {38: [2, 4, 6, 8, 15, 21, 22, 23, 25, 28, 29, 31, 32, 33, 43, 49, 50, 55, 59, 62, 64, 67, 68, 69, 78, 79, 90, 98, 101, 103, 106, 107, 109, 110, 112, 116, 118, 120, 121, 122, 124, 125, 129, 140, 141, 143]}, {39: [0, 5, 7, 16, 19, 20, 41, 53, 54, 75, 85, 92, 93, 95, 99, 113, 126, 145, 149]}, {40: [14, 18, 26, 27, 34, 36, 42, 44, 48, 57, 60, 61, 63, 65, 71, 72, 73, 76, 80, 83, 84, 86, 91, 94, 96, 102, 104, 111, 114, 115, 117, 119, 123, 128, 130, 133, 134, 137, 138, 139, 144]}, {41: [0, 5, 7, 16, 19, 20, 39, 51, 53, 54, 58, 75, 85, 92, 93, 95, 99, 100, 105, 113, 126, 145, 149]}, {42: [14, 18, 26, 27, 34, 36, 40, 44, 45, 48, 57, 60, 61, 63, 65, 71, 72, 73, 76, 80, 83, 84, 86, 91, 94, 96, 102, 104, 111, 114, 115, 117, 119, 123, 128, 130, 133, 134, 137, 138, 139, 142, 144]}, {43: [2, 4, 8, 22, 31, 32, 38, 49, 50, 55, 59, 62, 68, 69, 79, 98, 103, 107, 110, 116, 118, 122, 124, 125, 140, 141, 143, 150]}, {44: [6, 9, 18, 24, 26, 27, 29, 34, 36, 40, 42, 45, 48, 51, 57, 58, 60, 61, 63, 65, 73, 78, 80, 83, 84, 86, 88, 91, 94, 97, 100, 105, 111, 114, 115, 117, 119, 123, 128, 130, 133, 134, 135, 137, 138, 139, 142, 147]}, {45: [6, 9, 11, 15, 17, 18, 21, 24, 25, 26, 28, 29, 33, 34, 42, 44, 57, 63, 64, 65, 66, 78, 84, 86, 88, 90, 94, 97, 101, 106, 111, 112, 115, 120, 121, 123, 128, 129, 130, 137, 138, 139, 142, 147]}, {46: [1, 3, 10, 11, 12, 17, 24, 30, 37, 47, 66, 70, 74, 81, 82, 87, 88, 97, 108, 120, 127, 131, 136, 142, 146, 148]}, {47: [1, 10, 11, 12, 30, 46, 70, 74, 81, 82, 108, 127, 131, 136, 146, 148]}, {48: [13, 14, 26, 27, 34, 36, 40, 42, 44, 56, 57, 60, 61, 65, 71, 72, 73, 76, 80, 83, 84, 89, 91, 96, 102, 104, 111, 114, 115, 117, 119, 123, 128, 130, 134, 137, 138, 144]}, {49: [2, 4, 6, 8, 15, 21, 22, 23, 25, 28, 31, 32, 33, 38, 43, 50, 55, 59, 62, 64, 67, 68, 69, 79, 90, 98, 101, 103, 106, 107, 109, 110, 112, 116, 118, 120, 121, 122, 124, 125, 129, 140, 141, 143]}, {50: [2, 4, 8, 15, 21, 22, 23, 25, 28, 31, 32, 33, 38, 43, 49, 55, 59, 62, 64, 67, 68, 69, 79, 98, 101, 103, 106, 107, 109, 110, 116, 118, 120, 121, 122, 124, 125, 129, 140, 141, 143, 150]}, {51: [5, 9, 16, 20, 23, 28, 29, 34, 41, 44, 53, 54, 58, 63, 67, 78, 84, 85, 86, 93, 94, 95, 100, 105, 106, 109, 114, 121, 126, 129, 132, 133, 134, 135, 138, 147, 149]}, {52: [13, 14, 56, 60, 61, 71, 72, 76, 83, 89, 96, 104, 144, 151]}, {53: [2, 5, 8, 9, 15, 16, 20, 21, 22, 23, 25, 28, 32, 39, 41, 51, 54, 58, 64, 67, 69, 78, 79, 85, 86, 95, 100, 101, 105, 106, 109, 118, 121, 126, 129, 140, 141, 147, 149]}, {54: [0, 5, 7, 16, 19, 20, 23, 39, 41, 51, 53, 58, 75, 85, 86, 92, 93, 95, 99, 100, 105, 113, 126, 132, 135, 145, 149]}, {55: [2, 4, 8, 15, 21, 22, 25, 28, 31, 32, 33, 38, 43, 49, 50, 59, 62, 64, 67, 68, 69, 79, 98, 101, 103, 106, 107, 109, 110, 116, 118, 120, 121, 122, 124, 125, 129, 140, 141, 143, 150]}, {56: [13, 14, 48, 52, 60, 71, 76, 83, 89, 96, 144, 151]}, {57: [6, 9, 11, 17, 18, 24, 26, 27, 29, 34, 40, 42, 44, 45, 48, 61, 63, 65, 66, 78, 80, 83, 84, 86, 88, 90, 91, 94, 97, 104, 111, 112, 114, 115, 123, 128, 130, 134, 137, 138, 139, 142, 147]}, {58: [5, 9, 16, 20, 23, 28, 34, 41, 44, 51, 53, 54, 63, 67, 78, 84, 85, 86, 93, 94, 95, 99, 100, 105, 106, 109, 114, 126, 129, 132, 133, 134, 135, 138, 147, 149]}, {59: [4, 31, 32, 38, 43, 49, 50, 55, 62, 68, 79, 98, 103, 107, 110, 116, 118, 122, 124, 125, 140, 141, 143, 150]}, {60: [13, 14, 26, 27, 40, 42, 44, 48, 52, 56, 61, 65, 71, 72, 73, 76, 77, 80, 83, 89, 91, 96, 102, 104, 111, 115, 117, 119, 123, 128, 130, 137, 139, 144, 151]}, {61: [13, 14, 18, 26, 27, 34, 40, 42, 44, 48, 52, 57, 60, 65, 71, 72, 73, 76, 77, 80, 83, 84, 89, 91, 96, 102, 104, 111, 114, 115, 117, 119, 123, 128, 130, 137, 138, 139, 142, 144]}, {62: [4, 15, 21, 25, 30, 31, 32, 33, 38, 43, 49, 50, 55, 59, 64, 68, 69, 79, 90, 98, 101, 103, 106, 107, 108, 110, 112, 116, 118, 120, 121, 124, 125, 129, 140, 141, 143]}, {63: [6, 9, 11, 15, 17, 18, 21, 23, 24, 25, 26, 27, 28, 29, 33, 34, 40, 42, 44, 45, 51, 57, 58, 64, 65, 78, 80, 84, 86, 88, 90, 91, 94, 97, 100, 101, 105, 106, 109, 111, 112, 114, 115, 121, 123, 128, 129, 130, 134, 137, 138, 139, 142, 147]}, {64: [4, 6, 8, 9, 15, 17, 18, 21, 23, 25, 28, 29, 30, 32, 33, 38, 45, 49, 50, 53, 55, 62, 63, 67, 68, 78, 79, 88, 90, 94, 97, 101, 105, 106, 107, 109, 110, 112, 116, 118, 120, 121, 124, 129, 140, 141, 143, 147]}, {65: [3, 11, 13, 17, 18, 24, 26, 27, 37, 40, 42, 44, 45, 48, 57, 60, 61, 63, 66, 72, 76, 77, 80, 83, 87, 88, 94, 97, 104, 111, 115, 123, 127, 128, 130, 136, 137, 138, 139, 142, 144]}, {66: [1, 3, 10, 11, 12, 17, 18, 24, 26, 37, 45, 46, 57, 65, 72, 74, 77, 81, 87, 88, 97, 104, 115, 123, 127, 130, 136, 137, 139, 142]}, {67: [2, 5, 6, 8, 9, 15, 16, 20, 21, 22, 23, 25, 28, 32, 33, 38, 49, 50, 51, 53, 55, 58, 64, 68, 69, 78, 79, 95, 100, 101, 103, 105, 106, 107, 109, 110, 112, 118, 121, 124, 129, 140, 141, 143, 147]}, {68: [2, 4, 8, 15, 21, 22, 23, 25, 28, 31, 32, 33, 38, 43, 49, 50, 55, 59, 62, 64, 67, 69, 79, 90, 98, 101, 103, 106, 107, 109, 110, 112, 116, 118, 120, 121, 122, 124, 125, 129, 140, 141, 143, 150]}, {69: [2, 8, 21, 22, 23, 25, 32, 38, 43, 49, 50, 53, 55, 62, 67, 68, 79, 98, 103, 107, 109, 110, 118, 121, 122, 124, 125, 140, 141, 143, 150]}, {70: [1, 10, 12, 46, 47, 74, 81, 82, 108, 131, 146, 148]}, {71: [13, 14, 27, 40, 42, 48, 52, 56, 60, 61, 72, 76, 80, 83, 89, 91, 96, 102, 104, 111, 117, 119, 144, 151]}, {72: [3, 11, 13, 14, 26, 27, 37, 40, 42, 48, 52, 60, 61, 65, 66, 71, 76, 77, 80, 83, 87, 89, 96, 104, 111, 115, 123, 128, 130, 136, 137, 139, 142, 144]}, {73: [27, 34, 35, 36, 40, 42, 44, 48, 60, 61, 80, 84, 91, 102, 111, 114, 117, 119, 132, 133, 134, 135]}, {74: [1, 3, 10, 11, 12, 17, 24, 30, 46, 47, 66, 70, 81, 82, 87, 108, 127, 131, 136, 146, 148]}, {75: [0, 5, 7, 16, 19, 39, 41, 54, 85, 92, 93, 95, 99, 113, 126, 132, 133, 135, 145, 149]}, {76: [13, 14, 26, 27, 40, 42, 48, 52, 56, 60, 61, 65, 71, 72, 77, 80, 83, 89, 96, 104, 111, 123, 128, 130, 144, 151]}, {77: [3, 11, 13, 26, 37, 60, 61, 65, 66, 72, 76, 83, 87, 89, 104, 115, 123, 127, 130, 136, 139, 142, 144]}, {78: [6, 9, 15, 17, 18, 21, 23, 24, 25, 28, 29, 32, 33, 34, 38, 44, 45, 51, 53, 57, 58, 63, 64, 67, 79, 84, 86, 88, 90, 94, 97, 100, 101, 105, 106, 109, 112, 114, 115, 116, 118, 120, 121, 128, 129, 137, 138, 140, 142, 143, 147]}, {79: [2, 4, 6, 8, 15, 21, 22, 23, 25, 28, 31, 32, 33, 38, 43, 49, 50, 53, 55, 59, 62, 64, 67, 68, 69, 78, 90, 98, 101, 103, 106, 107, 109, 110, 112, 116, 118, 120, 121, 122, 124, 125, 129, 140, 141, 143]}, {80: [13, 14, 18, 26, 27, 34, 36, 40, 42, 44, 48, 57, 60, 61, 63, 65, 71, 72, 73, 76, 83, 84, 89, 91, 96, 102, 104, 111, 114, 115, 117, 119, 123, 128, 130, 134, 137, 138, 139, 144]}, {81: [1, 3, 10, 11, 12, 17, 24, 30, 37, 46, 47, 66, 70, 74, 82, 87, 88, 108, 127, 131, 136, 142, 146, 148]}, {82: [1, 10, 12, 17, 30, 31, 46, 47, 70, 74, 81, 108, 120, 131, 146, 148]}, {83: [13, 14, 26, 27, 40, 42, 44, 48, 52, 56, 57, 60, 61, 65, 71, 72, 76, 77, 80, 89, 91, 96, 102, 104, 111, 115, 117, 119, 123, 128, 130, 137, 139, 144]}, {84: [5, 6, 9, 18, 26, 27, 28, 29, 34, 35, 36, 40, 42, 44, 45, 48, 51, 57, 58, 61, 63, 73, 78, 80, 86, 91, 94, 97, 100, 105, 111, 114, 115, 119, 123, 128, 130, 133, 134, 135, 137, 138, 147]}, {85: [0, 5, 7, 9, 16, 19, 20, 23, 39, 41, 51, 53, 54, 58, 75, 86, 92, 93, 95, 99, 100, 105, 113, 126, 132, 133, 135, 145, 149]}, {86: [5, 6, 9, 15, 18, 23, 25, 28, 29, 34, 40, 42, 44, 45, 51, 53, 54, 57, 58, 63, 78, 84, 85, 91, 93, 94, 95, 100, 101, 105, 106, 109, 112, 114, 121, 128, 129, 132, 133, 134, 135, 137, 138, 147, 149]}, {87: [1, 3, 10, 11, 12, 17, 24, 26, 37, 46, 65, 66, 72, 74, 77, 81, 88, 97, 104, 115, 127, 130, 136, 139, 142]}, {88: [6, 11, 15, 17, 18, 21, 24, 25, 26, 28, 29, 30, 33, 44, 45, 46, 57, 63, 64, 65, 66, 78, 81, 87, 90, 94, 97, 101, 106, 112, 115, 120, 123, 128, 129, 130, 137, 138, 139, 142, 147]}, {89: [13, 14, 27, 48, 52, 56, 60, 61, 71, 72, 76, 77, 80, 83, 96, 104, 111, 130, 144, 151]}, {90: [6, 11, 15, 17, 18, 21, 23, 24, 25, 28, 29, 30, 32, 33, 38, 45, 49, 57, 62, 63, 64, 68, 78, 79, 88, 94, 97, 101, 106, 109, 112, 116, 118, 120, 121, 129, 138, 140, 142, 143, 147, 148]}, {91: [9, 18, 27, 34, 35, 36, 40, 42, 44, 48, 57, 60, 61, 63, 71, 73, 80, 83, 84, 86, 102, 111, 114, 115, 117, 119, 123, 128, 130, 132, 133, 134, 135, 137, 138, 144]}, {92: [0, 5, 7, 16, 19, 20, 39, 41, 54, 75, 85, 93, 95, 99, 113, 126, 145, 149]}, {93: [0, 5, 7, 9, 16, 19, 20, 35, 39, 41, 51, 54, 58, 75, 85, 86, 92, 95, 99, 100, 105, 113, 114, 126, 132, 133, 134, 135, 145, 149]}, {94: [6, 9, 11, 15, 17, 18, 21, 23, 24, 25, 26, 28, 29, 33, 34, 40, 42, 44, 45, 51, 57, 58, 63, 64, 65, 78, 84, 86, 88, 90, 97, 100, 101, 105, 106, 109, 111, 112, 114, 115, 120, 121, 123, 128, 129, 130, 134, 137, 138, 139, 142, 147]}, {95: [5, 8, 9, 16, 19, 20, 23, 39, 41, 51, 53, 54, 58, 67, 75, 85, 86, 92, 93, 99, 100, 105, 109, 113, 126, 135, 149]}, {96: [13, 14, 27, 40, 42, 48, 52, 56, 60, 61, 71, 72, 76, 80, 83, 89, 102, 104, 111, 117, 119, 144, 151]}, {97: [6, 9, 11, 15, 17, 18, 24, 25, 26, 28, 29, 33, 34, 44, 45, 46, 57, 63, 64, 65, 66, 78, 84, 87, 88, 90, 94, 101, 106, 111, 112, 115, 120, 123, 128, 129, 130, 137, 138, 139, 142, 147]}, {98: [2, 4, 22, 32, 38, 43, 49, 50, 55, 59, 62, 68, 69, 79, 103, 107, 110, 118, 122, 124, 125, 141, 143, 150]}, {99: [0, 5, 7, 16, 19, 20, 39, 41, 54, 58, 75, 85, 92, 93, 95, 113, 126, 132, 135, 145, 149]}, {100: [5, 6, 8, 9, 15, 16, 20, 21, 23, 25, 28, 29, 34, 41, 44, 51, 53, 54, 58, 63, 67, 78, 84, 85, 86, 93, 94, 95, 101, 105, 106, 109, 114, 121, 126, 129, 132, 133, 134, 135, 138, 147, 149]}, {101: [4, 6, 8, 9, 15, 17, 18, 21, 23, 24, 25, 28, 29, 32, 33, 38, 45, 49, 50, 53, 55, 62, 63, 64, 67, 68, 78, 79, 86, 88, 90, 94, 97, 100, 105, 106, 109, 110, 112, 116, 118, 120, 121, 124, 129, 138, 140, 141, 143, 147]}, {102: [14, 27, 35, 36, 40, 42, 48, 60, 61, 71, 73, 80, 83, 91, 96, 111, 117, 119, 144]}, {103: [2, 4, 8, 21, 22, 23, 32, 38, 43, 49, 50, 55, 59, 62, 67, 68, 69, 79, 98, 107, 109, 110, 118, 121, 122, 124, 125, 140, 141, 143, 150]}, {104: [3, 11, 13, 14, 26, 27, 37, 40, 42, 48, 52, 57, 60, 61, 65, 66, 71, 72, 76, 77, 80, 83, 87, 89, 96, 111, 115, 123, 128, 130, 136, 137, 139, 142, 144]}, {105: [5, 6, 8, 9, 15, 16, 20, 21, 23, 25, 28, 29, 34, 41, 44, 51, 53, 54, 58, 63, 64, 67, 78, 84, 85, 86, 93, 94, 95, 100, 101, 106, 109, 112, 114, 121, 126, 129, 133, 134, 135, 138, 147, 149]}, {106: [6, 8, 9, 15, 18, 21, 23, 25, 28, 29, 32, 33, 34, 38, 45, 49, 50, 51, 53, 55, 58, 62, 63, 64, 67, 68, 78, 79, 86, 88, 90, 94, 97, 100, 101, 105, 109, 110, 112, 116, 118, 120, 121, 124, 129, 138, 140, 141, 143, 147]}, {107: [2, 4, 8, 21, 22, 25, 31, 32, 38, 43, 49, 50, 55, 59, 62, 64, 67, 68, 69, 79, 98, 103, 109, 110, 116, 118, 121, 122, 124, 125, 129, 140, 141, 143, 150]}, {108: [4, 10, 12, 17, 30, 31, 46, 47, 62, 70, 74, 81, 82, 116, 120, 131, 146, 148]}, {109: [2, 5, 6, 8, 9, 15, 20, 21, 22, 23, 25, 28, 29, 32, 33, 38, 49, 50, 51, 53, 55, 58, 63, 64, 67, 68, 69, 78, 79, 86, 90, 94, 95, 100, 101, 103, 105, 106, 107, 110, 112, 116, 118, 121, 124, 129, 140, 141, 143, 147]}, {110: [2, 4, 8, 15, 21, 22, 23, 25, 28, 31, 32, 33, 38, 43, 49, 50, 55, 59, 62, 64, 67, 68, 69, 79, 98, 101, 103, 106, 107, 109, 116, 118, 121, 122, 124, 125, 129, 140, 141, 143, 150]}, {111: [13, 14, 18, 26, 27, 34, 36, 40, 42, 44, 45, 48, 57, 60, 61, 63, 65, 71, 72, 73, 76, 80, 83, 84, 89, 91, 94, 96, 97, 102, 104, 114, 115, 117, 119, 123, 128, 130, 134, 137, 138, 139, 142, 144]}, {112: [6, 9, 15, 17, 18, 21, 23, 24, 25, 28, 29, 30, 32, 33, 34, 38, 45, 49, 57, 62, 63, 64, 67, 68, 78, 79, 86, 88, 90, 94, 97, 101, 105, 106, 109, 116, 118, 120, 121, 129, 138, 140, 142, 143, 147]}, {113: [0, 5, 7, 16, 19, 20, 39, 41, 54, 75, 85, 92, 93, 95, 99, 126, 132, 145, 149]}, {114: [5, 9, 18, 27, 34, 35, 36, 40, 42, 44, 48, 51, 57, 58, 61, 63, 73, 78, 80, 84, 86, 91, 93, 94, 100, 105, 111, 115, 117, 119, 123, 128, 130, 132, 133, 134, 135, 137, 138, 147, 149]}, {115: [6, 9, 11, 17, 18, 24, 26, 27, 29, 34, 37, 40, 42, 44, 45, 48, 57, 60, 61, 63, 65, 66, 72, 77, 78, 80, 83, 84, 87, 88, 91, 94, 97, 104, 111, 114, 123, 128, 130, 137, 138, 139, 142, 147]}, {116: [4, 6, 15, 17, 21, 25, 28, 29, 30, 31, 32, 33, 38, 43, 49, 50, 55, 59, 62, 64, 68, 78, 79, 90, 101, 106, 107, 108, 109, 110, 112, 118, 120, 121, 124, 125, 129, 140, 141, 143, 148]}, {117: [14, 27, 35, 36, 40, 42, 44, 48, 60, 61, 71, 73, 80, 83, 91, 96, 102, 111, 114, 119, 128, 144]}, {118: [2, 4, 6, 8, 15, 21, 22, 23, 25, 28, 29, 31, 32, 33, 38, 43, 49, 50, 53, 55, 59, 62, 64, 67, 68, 69, 78, 79, 90, 98, 101, 103, 106, 107, 109, 110, 112, 116, 120, 121, 122, 124, 125, 129, 140, 141, 143]}, {119: [27, 35, 36, 40, 42, 44, 48, 60, 61, 71, 73, 80, 83, 84, 91, 96, 102, 111, 114, 117, 123, 128, 132, 133, 134, 135]}, {120: [4, 6, 15, 17, 21, 24, 25, 28, 29, 30, 31, 32, 33, 38, 45, 46, 49, 50, 55, 62, 64, 68, 78, 79, 82, 88, 90, 94, 97, 101, 106, 108, 112, 116, 118, 121, 129, 140, 143, 148]}, {121: [2, 6, 8, 9, 15, 21, 22, 23, 25, 28, 29, 32, 33, 38, 45, 49, 50, 51, 53, 55, 62, 63, 64, 67, 68, 69, 78, 79, 86, 90, 94, 100, 101, 103, 105, 106, 107, 109, 110, 112, 116, 118, 120, 124, 129, 140, 141, 143, 147]}, {122: [2, 4, 22, 38, 43, 49, 50, 55, 59, 68, 69, 79, 98, 103, 107, 110, 118, 124, 125, 141, 143, 150]}, {123: [11, 18, 24, 26, 27, 29, 34, 40, 42, 44, 45, 48, 57, 60, 61, 63, 65, 66, 72, 76, 77, 80, 83, 84, 88, 91, 94, 97, 104, 111, 114, 115, 119, 128, 130, 134, 137, 138, 139, 142, 144, 147]}, {124: [2, 4, 8, 15, 21, 22, 23, 25, 28, 31, 32, 33, 38, 43, 49, 50, 55, 59, 62, 64, 67, 68, 69, 79, 98, 101, 103, 106, 107, 109, 110, 116, 118, 121, 122, 125, 129, 140, 141, 143, 150]}, {125: [2, 4, 21, 31, 32, 38, 43, 49, 50, 55, 59, 62, 68, 69, 79, 98, 103, 107, 110, 116, 118, 122, 124, 140, 141, 143, 150]}, {126: [0, 5, 7, 16, 19, 20, 39, 41, 51, 53, 54, 58, 75, 85, 92, 93, 95, 99, 100, 105, 113, 145, 149]}, {127: [1, 3, 10, 11, 12, 37, 46, 47, 65, 66, 74, 77, 81, 87, 136, 139, 142]}, {128: [9, 18, 24, 26, 27, 29, 34, 40, 42, 44, 45, 48, 57, 60, 61, 63, 65, 72, 76, 78, 80, 83, 84, 86, 88, 91, 94, 97, 104, 111, 114, 115, 117, 119, 123, 130, 133, 134, 137, 138, 139, 142, 144, 147]}, {129: [6, 8, 9, 15, 18, 21, 23, 25, 28, 29, 32, 33, 34, 38, 45, 49, 50, 51, 53, 55, 58, 62, 63, 64, 67, 68, 78, 79, 86, 88, 90, 94, 97, 100, 101, 105, 106, 107, 109, 110, 112, 116, 118, 120, 121, 124, 138, 140, 141, 143, 147]}, {130: [11, 13, 14, 18, 24, 26, 27, 34, 37, 40, 42, 44, 45, 48, 57, 60, 61, 63, 65, 66, 72, 76, 77, 80, 83, 84, 87, 88, 89, 91, 94, 97, 104, 111, 114, 115, 123, 128, 137, 138, 139, 142, 144]}, {131: [1, 10, 12, 17, 30, 46, 47, 70, 74, 81, 82, 108, 146, 148]}, {132: [0, 5, 7, 19, 35, 36, 51, 54, 58, 73, 75, 85, 86, 91, 93, 99, 100, 113, 114, 119, 133, 134, 135, 145, 149]}, {133: [5, 9, 34, 35, 36, 40, 42, 44, 51, 58, 73, 75, 84, 85, 86, 91, 93, 100, 105, 114, 119, 128, 132, 134, 135, 138, 145, 147, 149]}, {134: [5, 9, 18, 27, 34, 35, 36, 40, 42, 44, 48, 51, 57, 58, 63, 73, 80, 84, 86, 91, 93, 94, 100, 105, 111, 114, 119, 123, 128, 132, 133, 135, 137, 138, 147, 149]}, {135: [5, 7, 9, 34, 35, 36, 44, 51, 54, 58, 73, 75, 84, 85, 86, 91, 93, 95, 99, 100, 105, 114, 119, 132, 133, 134, 145, 147, 149]}, {136: [1, 3, 10, 11, 12, 24, 26, 37, 46, 47, 65, 66, 72, 74, 77, 81, 87, 104, 127, 139, 142]}, {137: [6, 9, 11, 18, 24, 26, 27, 29, 34, 40, 42, 44, 45, 48, 57, 60, 61, 63, 65, 66, 72, 78, 80, 83, 84, 86, 88, 91, 94, 97, 104, 111, 114, 115, 123, 128, 130, 134, 138, 139, 142, 144, 147]}, {138: [6, 9, 15, 17, 18, 24, 26, 27, 28, 29, 33, 34, 40, 42, 44, 45, 48, 51, 57, 58, 61, 63, 65, 78, 80, 84, 86, 88, 90, 91, 94, 97, 100, 101, 105, 106, 111, 112, 114, 115, 123, 128, 129, 130, 133, 134, 137, 139, 142, 147]}, {139: [3, 11, 17, 18, 24, 26, 27, 37, 40, 42, 44, 45, 57, 60, 61, 63, 65, 66, 72, 77, 80, 83, 87, 88, 94, 97, 104, 111, 115, 123, 127, 128, 130, 136, 137, 138, 142, 144]}, {140: [2, 4, 6, 8, 15, 21, 22, 23, 25, 28, 29, 31, 32, 33, 38, 43, 49, 50, 53, 55, 59, 62, 64, 67, 68, 69, 78, 79, 90, 101, 103, 106, 107, 109, 110, 112, 116, 118, 120, 121, 124, 125, 129, 141, 143, 147]}, {141: [2, 4, 8, 15, 21, 22, 23, 25, 28, 32, 33, 38, 43, 49, 50, 53, 55, 59, 62, 64, 67, 68, 69, 79, 98, 101, 103, 106, 107, 109, 110, 116, 118, 121, 122, 124, 125, 129, 140, 143, 150]}, {142: [3, 6, 11, 17, 18, 24, 26, 27, 29, 37, 42, 44, 45, 46, 57, 61, 63, 65, 66, 72, 77, 78, 81, 87, 88, 90, 94, 97, 104, 111, 112, 115, 123, 127, 128, 130, 136, 137, 138, 139]}, {143: [2, 4, 6, 8, 15, 21, 22, 23, 25, 28, 29, 31, 32, 33, 38, 43, 49, 50, 55, 59, 62, 64, 67, 68, 69, 78, 79, 90, 98, 101, 103, 106, 107, 109, 110, 112, 116, 118, 120, 121, 122, 124, 125, 129, 140, 141]}, {144: [13, 14, 26, 27, 40, 42, 48, 52, 56, 60, 61, 65, 71, 72, 76, 77, 80, 83, 89, 91, 96, 102, 104, 111, 117, 123, 128, 130, 137, 139, 151]}, {145: [0, 7, 19, 35, 39, 41, 54, 75, 85, 92, 93, 99, 113, 126, 132, 133, 135, 149]}, {146: [1, 10, 12, 30, 46, 47, 70, 74, 81, 82, 108, 131, 148]}, {147: [5, 6, 9, 15, 18, 21, 23, 24, 25, 28, 29, 32, 33, 34, 44, 45, 51, 53, 57, 58, 63, 64, 67, 78, 84, 86, 88, 90, 94, 97, 100, 101, 105, 106, 109, 112, 114, 115, 121, 123, 128, 129, 133, 134, 135, 137, 138, 140]}, {148: [10, 12, 17, 30, 31, 46, 47, 70, 74, 81, 82, 90, 108, 116, 120, 131, 146]}, {149: [0, 5, 7, 9, 16, 19, 20, 34, 35, 39, 41, 51, 53, 54, 58, 75, 85, 86, 92, 93, 95, 99, 100, 105, 113, 114, 126, 132, 133, 134, 135, 145]}, {150: [2, 22, 43, 50, 55, 59, 68, 69, 98, 103, 107, 110, 122, 124, 125, 141]}, {151: [13, 14, 52, 56, 60, 71, 76, 89, 96, 144]}]\n",
      "[[0.         0.         0.         ... 0.33540698 0.         0.        ]\n",
      " [0.         0.         0.         ... 0.         0.         0.        ]\n",
      " [0.         0.         0.         ... 0.         0.21034408 0.        ]\n",
      " ...\n",
      " [0.33540698 0.         0.         ... 0.         0.         0.        ]\n",
      " [0.         0.         0.21034408 ... 0.         0.         0.        ]\n",
      " [0.         0.         0.         ... 0.         0.         0.        ]]\n",
      "[{0: [0.4515462987431841, 0.08372890093153018, 0.17191881757225924, 0.22674052160101743, 0.4482856970592427, 0.3708509158123564, 0.4026323801222541, 0.1871044257606832, 0.15197742985499574, 0.3927298966085173, 0.10274478865477588, 0.06789070113231943, 0.15372636866191902, 0.23339564530588264, 0.3354069759305418]}, {1: [0.11182869144797547, 0.40861034283599695, 0.07422607637406176, 0.14081274344951555, 0.017897154327731757, 0.2709186778771332, 0.3872493487844165, 0.008122257423593737, 0.3968258972001224, 0.07521765526611934, 0.3328551102925035, 0.3914368880100989, 0.47252406864167473, 0.18877111448731232, 0.46412301814216916, 0.10514652127492408, 0.1534916278691536]}, {2: [0.14915486763158747, 0.026374399489355493, 0.343641012955064, 0.36596735485235066, 0.06585632852629997, 0.18282963859994894, 0.36739480388384993, 0.41325274565097836, 0.190469031007797, 0.32191254223239585, 0.4030700362767319, 0.04812447274887022, 0.14124315441140756, 0.04931376979016655, 0.3964576630751583, 0.180679109801273, 0.4652170400406571, 0.33628802506502586, 0.16149578291166644, 0.06714245228588633, 0.4203614380818722, 0.4663992008139014, 0.2895536411215217, 0.016736340791533744, 0.23101387806134632, 0.035121922864124855, 0.23316113661930649, 0.05860739379100888, 0.41311694452046166, 0.21034408497365298]}, {3: [0.11182869144797547, 0.4207088815405443, 0.4799498357545895, 0.174441233669128, 0.08119774099196597, 0.27809576081014975, 0.48129153011212866, 0.46788385314149017, 0.24372939300591367, 0.4798135202813316, 0.2764067947902813, 0.29106776221724484, 0.38132776494129994, 0.16122336146263772, 0.4757681205976173, 0.37383381694588114, 0.20755315212980185, 0.2592098263844753, 0.3326176126868259]}, {4: [0.07922776322017377, 0.4605694604972149, 0.06976722044881167, 0.15940975023092252, 0.4508055271976974, 0.26983773932131416, 0.4156845655100059, 0.4124793929673878, 0.19287436581332007, 0.29822607762147935, 0.4118856778543113, 0.4254470360299347, 0.3987927351575362, 0.49903015729335887, 0.4977271250712628, 0.4360378001501325, 0.2656379179839685, 0.022950890642597366, 0.37005702633047055, 0.3634387693222073, 0.06850279508730439, 0.367754762038512, 0.174838950373014, 0.42750182814908333, 0.20477957508200129, 0.27713185488292447, 0.12589283734044976, 0.31237429915182646, 0.33112802074516134, 0.3181602302087252, 0.4497919291418153, 0.03807257765211858]}, {5: [0.4137518480162804, 0.3650878512100839, 0.1047589735973875, 0.4388109704889721, 0.47403329418392015, 0.39887368993574446, 0.44205459739790876, 0.0074884111016360055, 0.2730427521367025, 0.2565867186643096, 0.19651040742899994, 0.41335376634030585, 0.43932815338489284, 0.27789063593578733, 0.3005841103263128, 0.3638223528518403, 0.46224025597568397, 0.3231603833383674, 0.3551314813806855, 0.4461222195340241, 0.15660892246548008, 0.27519807682418607, 0.20856376128215426, 0.3592630760145028, 0.4469853220114327, 0.35996366300893967, 0.3714405244296344, 0.15896721654301393, 0.20017849014498446, 0.19253546818532252, 0.48101904940622986, 0.1460719877589538, 0.4821732675281877, 0.20830902007541852]}, {6: [0.2562726506358016, 0.32526564689051396, 0.48587647425948854, 0.06768068213128509, 0.18805474053908855, 0.2607301864019198, 0.03700492437275271, 0.43788589398373, 0.2529485127742106, 0.2210722372140449, 0.16877530988644374, 0.16254898418838448, 0.4747783458132452, 0.26544511065084275, 0.039770835648104685, 0.23306724750758356, 0.3434247425551231, 0.09611766491410711, 0.06550311129178965, 0.44179561858746674, 0.13634510212901463, 0.29797114949407, 0.032916654988596195, 0.16648915211029514, 0.33421674360045306, 0.41916602248107493, 0.11388727436947887, 0.0832684578341405, 0.24087545539277422, 0.042456606737993785, 0.25471215518743073, 0.041715112106902486, 0.24129137505644904, 0.3152091307978798, 0.3086182234494843, 0.2870457818360299, 0.14275180417735, 0.3118831745317673, 0.1062090558524158, 0.46875370042223463, 0.14622424897153286, 0.4294485448577695, 0.3774089007917596, 0.3356767993644799, 0.4187912874049978, 0.12756769163190473, 0.11838978569307024]}, {7: [0.4515462987431841, 0.4581160022758617, 0.3179904264408674, 0.24943538159309053, 0.1905030168886831, 0.02474835568200784, 0.047513063183122206, 0.17928467633492406, 0.26900393746373275, 0.4379677668832336, 0.3208227624290144, 0.48374399569242854, 0.275850556050352, 0.06137200100238771, 0.0356552712692344, 0.1719748745617381]}, {8: [0.14915486763158747, 0.32745522034445484, 0.221902091483695, 0.39814420622484137, 0.2558824208894259, 0.12923854031075, 0.23366656415853138, 0.31075091261824783, 0.15659792638720327, 0.4348805781924182, 0.27412125374753393, 0.42384906251580123, 0.3262684432593176, 0.1533155838060074, 0.1215094169316826, 0.21233075985509609, 0.13936271253924626, 0.06838583491022976, 0.37896878487209273, 0.19519155940646826, 0.21069092954664248, 0.2837374611758935, 0.17859051021913497, 0.3101361994629924, 0.26687284897897035, 0.42766378937560545, 0.05953659653214727, 0.44944484168830534, 0.4493597860393682, 0.15470896592630534, 0.17934176003189273, 0.02173421751999205, 0.3574792364232009, 0.01878147716159373, 0.37661569795950334, 0.3870779441479346, 0.38584459328648113]}, {9: [0.4137518480162804, 0.2562726506358016, 0.4282957708061256, 0.0611921469900899, 0.07433278314549874, 0.3910055160249508, 0.1899276396429468, 0.43616061013338947, 0.35526511563351315, 0.3335288774533005, 0.4235598555858081, 0.41043712963792756, 0.14845913987215698, 0.42676233296824906, 0.22687990439530892, 0.21871652514850326, 0.14257810801635262, 0.4385087960011854, 0.3902481430786624, 0.19272298638198937, 0.0517215577800374, 0.10185597697451032, 0.13964202050629793, 0.06231756972642799, 0.12370581507266798, 0.02140806739058354, 0.2731362321790691, 0.10192854500094395, 0.3015490420682756, 0.189662319524325, 0.12675111710958342, 0.21319342761273463, 0.16298086541347745, 0.22541749104415265, 0.24189142234494887, 0.2593841627070894, 0.2996705116820336, 0.17661602937865384, 0.33662931580536426, 0.10102923763398486, 0.1590257375137688, 0.4493131614968864, 0.4288604276103516, 0.4241872631358591, 0.27685701301192467, 0.1823504240324546]}, {10: [0.40861034283599695, 0.4207088815405443, 0.4407035032506076, 0.22744283308404412, 0.32068461267065973, 0.3720601014061943, 0.183172059923711, 0.3842779915988782, 0.3331956843700027, 0.027214819644174715, 0.4511917115453491, 0.18314021356346155, 0.48620131096065, 0.21191317784069852, 0.05062823300537833, 0.28280465146831657, 0.48237686059909635, 0.05874762681257517, 0.4568734235126203, 0.10400013699167643]}, {11: [0.07422607637406176, 0.4799498357545895, 0.4407035032506076, 0.40454586520785085, 0.47662578151210333, 0.09853793875300387, 0.05949250719417165, 0.09761763344070074, 0.11797924321158026, 0.1362061944896482, 0.3862389329012247, 0.10893421554665184, 0.3717678518303513, 0.0334796311864608, 0.4636251313244023, 0.21637023897673158, 0.2690202122601484, 0.2899094331041211, 0.04850970813732591, 0.14911072499246092, 0.3164999311485781, 0.3570573265351451, 0.06473578023239901, 0.40788532352795215, 0.3483533926041693, 0.18916406214428672, 0.009095210063471248, 0.05486620680678944, 0.4315252942756863, 0.14370241541059048, 0.18388506555118467, 0.3973498262707654, 0.44866458794718833, 0.43880559473977154]}, {12: [0.14081274344951555, 0.174441233669128, 0.22744283308404412, 0.40454586520785085, 0.40385759136687627, 0.4438833711938944, 0.18864952252561773, 0.12164154681461958, 0.46644675284122217, 0.1838730492416577, 0.42181216252635434, 0.2004034684572461, 0.05840099954566447, 0.4114860061117849, 0.30546557856889833, 0.24305921874305259, 0.29313524970510807, 0.279836647679072, 0.05466897005986082, 0.39966181198990847]}, {13: [0.06147059532159982, 0.13782153332960145, 0.28355022063225466, 0.14041718433317163, 0.1755364024477043, 0.3655833588048486, 0.14949690624849155, 0.2057502824984927, 0.3572708781833389, 0.35187183805583433, 0.26383273566168397, 0.3860118819236159, 0.1766284286015979, 0.10491227710315243, 0.3083754326112216, 0.48839359880788935, 0.19091657126521255, 0.2997692902534841, 0.07982734533852842, 0.25658464360262634, 0.05053605830222052, 0.032432109298240364]}, {14: [0.06147059532159982, 0.3367116769289178, 0.11605892524601813, 0.4176964236984477, 0.18060483443866915, 0.2258493301222888, 0.4446624448220068, 0.25855935938242214, 0.028572422395312547, 0.3680658296292466, 0.07777385086815047, 0.4054226386211597, 0.1072472660237489, 0.18046720057469556, 0.38824674598196274, 0.3934453503964883, 0.30577220224312407, 0.40786516820109897, 0.11480222535756623, 0.21253061796580264, 0.26797805457446, 0.23104574647280463, 0.38464409305515435]}, {15: [0.07922776322017377, 0.32526564689051396, 0.32745522034445484, 0.4282957708061256, 0.027924977987214716, 0.31601299467279964, 0.22290039058951328, 0.3974628626354516, 0.46677113551217586, 0.3875028266694762, 0.3650029799519603, 0.03182606812306299, 0.21857515737841537, 0.4711160276011074, 0.319850598330808, 0.4601272133236629, 0.19972173432972162, 0.21744910649068627, 0.09150133116315806, 0.2975212538473565, 0.07113380264793467, 0.21137606968341194, 0.19875474027826845, 0.285000954030477, 0.1825164840093968, 0.18552806809090172, 0.06330346351361493, 0.3792801494563456, 0.25504685681355976, 0.028994864180788227, 0.46010786206637955, 0.33611572549028745, 0.17316722591745992, 0.24335390683842073, 0.47485170082241857, 0.14624926650705794, 0.041484367488032525, 0.39761722075702766, 0.31796818378032665, 0.16153375805181625, 0.18790094087047415, 0.4173936114767389, 0.46468429645371845, 0.3643725075038846, 0.2355532163733297, 0.12919299940357465, 0.2663217418912992, 0.009367649297968517, 0.24506115512076443, 0.07973735900973622]}, {16: [0.3650878512100839, 0.221902091483695, 0.11481253742430952, 0.1230057010181973, 0.22178313436043207, 0.23053833376108623, 0.4519090610757944, 0.1179283704435472, 0.0735839900251073, 0.2372083375904478, 0.46045555092078394, 0.30683560281869815, 0.1772427893904155, 0.4665079043890542, 0.2502130679646397, 0.3417862449603071, 0.2641754989164572, 0.2917377830918316, 0.2812226485927959, 0.11178307975363122, 0.05934170998726829, 0.25459740892159954, 0.18222208791163275]}, {17: [0.48587647425948854, 0.32068461267065973, 0.47662578151210333, 0.40385759136687627, 0.027924977987214716, 0.3373523001030089, 0.06706378916390798, 0.40315954743399285, 0.009945384797736656, 0.3606138935951131, 0.29841012797118527, 0.4415498664663362, 0.21206850046792514, 0.28254587110116736, 0.23260272323444653, 0.062038961346704946, 0.34263471837309045, 0.34708402019721096, 0.24426092914134467, 0.18255978499703407, 0.1376268457303057, 0.08365576441429246, 0.24243337783709673, 0.15105772902643233, 0.3023293496784101, 0.09222456644820876, 0.3174824641268045, 0.0563255216557329, 0.3727030573497673, 0.284627765655757, 0.15441738922719095, 0.14040125529926328, 0.17321675957859384, 0.190557708059944, 0.03302086803619808, 0.3562918497551296, 0.3759742772131148, 0.4883046339925521]}, {18: [0.06768068213128509, 0.0611921469900899, 0.09853793875300387, 0.31601299467279964, 0.3373523001030089, 0.08016383560769136, 0.13514396449087274, 0.11125351967152908, 0.17398256587930516, 0.11296660568397787, 0.40806467238402155, 0.052740686247514046, 0.40676369859986483, 0.059771754939164534, 0.4738977447161917, 0.06484773548052314, 0.11610435414303577, 0.04734423744653249, 0.3424147034522216, 0.07966473831306309, 0.08428876007368236, 0.022927683702585244, 0.28374856154627437, 0.015447114117875582, 0.4020887563638029, 0.47725875288137565, 0.11444576595873357, 0.32221443297020047, 0.14765144116849394, 0.3424004835516017, 0.34592502884809706, 0.17816594137303776, 0.414108297177181, 0.08002084531068676, 0.4491064943306352, 0.4919166065563708, 0.22697412112240967, 0.3624092199279083, 0.1429405234006914, 0.1975313219277518, 0.21888775718545017, 0.1113975615973698, 0.47409977141273196, 0.050890259546219174, 0.4422450762250062, 0.4508212061543878, 0.22240515387285176]}, {19: [0.08372890093153018, 0.1047589735973875, 0.4581160022758617, 0.11481253742430952, 0.4748012481846353, 0.31803266912400796, 0.2775629171707582, 0.3020307849624184, 0.16241121893459654, 0.12448002356464316, 0.31586079222798913, 0.11808136209169373, 0.37808844955688947, 0.3298838368977235, 0.43117804173557495, 0.3965886183302467, 0.3352723516227326, 0.04085566199556612, 0.025108515698675005]}, {20: [0.4388109704889721, 0.39814420622484137, 0.1230057010181973, 0.4748012481846353, 0.47937484826120036, 0.233048636197148, 0.04337631921759466, 0.15895654637442402, 0.21008954971607474, 0.3824742160255368, 0.24883051659499678, 0.31253361402322966, 0.20410977384602835, 0.47453643905864895, 0.27546446416515946, 0.36771779984018793, 0.06544137821552554, 0.04303015589250958, 0.3339000908392129, 0.13530668061383266, 0.0972405555738558, 0.43907293401392244, 0.24897531721830501]}, {21: [0.026374399489355493, 0.4605694604972149, 0.18805474053908855, 0.2558824208894259, 0.07433278314549874, 0.22290039058951328, 0.14137088487865135, 0.21648864852925032, 0.07011832321979361, 0.32805811433414167, 0.4259838593606021, 0.3640225391081261, 0.2550216956310988, 0.20435162198221524, 0.06677596983053269, 0.32896844323903707, 0.37880732582122256, 0.35418762805237136, 0.08389293950636967, 0.24315061446025865, 0.022528190166106854, 0.4309506175962836, 0.39590844998281494, 0.1357781765553242, 0.39796179857858915, 0.4063808078863541, 0.25282312026784004, 0.4484972194054788, 0.25548373350053766, 0.3572536985181909, 0.23276998364928514, 0.012631119839125016, 0.3388993350824653, 0.43785311304250774, 0.20564918183405356, 0.3585274555741529, 0.26595002701793224, 0.45979090808327416, 0.3788103313248695, 0.27167810665943226, 0.10159935206395121, 0.1818568977567122, 0.4138708478966304, 0.4676294908813835, 0.3914928760626055, 0.23453152138241273, 0.26180986270064355, 0.06276958158533796, 0.025179644284534897]}, {22: [0.343641012955064, 0.12923854031075, 0.2107284166289437, 0.4782167266985027, 0.4722016614597826, 0.16816614229520777, 0.10013083124316025, 0.32780795242568794, 0.10368810119580629, 0.3071577836630145, 0.014856913732717025, 0.1059941845774276, 0.05160157999121928, 0.11703033762182113, 0.18312026828790895, 0.2996720341617807, 0.2375873084449378, 0.04119166364328497, 0.3568174740815101, 0.48405029265332267, 0.2651780347461823, 0.02814996007958992, 0.3447534554562156, 0.35586372187233406, 0.19356224854091286, 0.05174244449848675, 0.46768999672039613]}, {23: [0.36596735485235066, 0.47403329418392015, 0.2607301864019198, 0.23366656415853138, 0.3910055160249508, 0.3974628626354516, 0.22178313436043207, 0.47937484826120036, 0.14137088487865135, 0.2107284166289437, 0.11999981209589539, 0.0450520244327236, 0.3817579128430916, 0.434197050942996, 0.22919593159482632, 0.038255832607010154, 0.16267816934589807, 0.3677103381317671, 0.3758102878983075, 0.14578335897271844, 0.15155058409588296, 0.3255886382697267, 0.2864476719405681, 0.16596873528047085, 0.3654282613015496, 0.4119990365758692, 0.006733943252377195, 0.20077051818349367, 0.06368891691329959, 0.2628705883249687, 0.16737042518030742, 0.1920777140368749, 0.09515557824618237, 0.11838993256089148, 0.36529623735412586, 0.3624548147375042, 0.37746468130747635, 0.16662562411543325, 0.13506999339829562, 0.01876411642457332, 0.044252409013139316, 0.08651373095053672, 0.1301436396929717, 0.1648134819857333, 0.20056716079840642, 0.07098717360185303, 0.43546733961641937, 0.18397492853669473, 0.30193431500534607, 0.12639004568669343, 0.169156546603214]}, {24: [0.03700492437275271, 0.05949250719417165, 0.46677113551217586, 0.06706378916390798, 0.08016383560769136, 0.4067228933177074, 0.11709194010774471, 0.41555485927971636, 0.27093385321072117, 0.4466206026937328, 0.44963502735431937, 0.3755954095762769, 0.4259665492621595, 0.32296508824479464, 0.18282749220760453, 0.1123558811342753, 0.28726611564996785, 0.20362618462176318, 0.3847134875468008, 0.1306377940835931, 0.16522892541580414, 0.401202778368392, 0.06249811992355436, 0.25043622534222654, 0.3447023531041231, 0.31277435615434435, 0.3604219347450288, 0.46524588621145246, 0.42907358210147406, 0.4450375188698876, 0.21470951454972131, 0.40993203330994554, 0.25120623362681205, 0.009147573774575979, 0.16250551116207346, 0.039638342947011296, 0.3199433980065849]}, {25: [0.06585632852629997, 0.06976722044881167, 0.43788589398373, 0.31075091261824783, 0.1899276396429468, 0.3875028266694762, 0.21648864852925032, 0.11999981209589539, 0.3546498405586552, 0.46106349926389645, 0.026579133216190542, 0.4805894384290509, 0.23488354952829382, 0.3784028883518262, 0.21630634535277293, 0.10466567758077039, 0.1945107335889803, 0.43563459864539955, 0.20908368934027233, 0.4855986442323007, 0.3560702385600947, 0.10867022801028081, 0.24543979527348214, 0.49114223710403526, 0.04436270456043179, 0.30347798891966515, 0.37960505881666673, 0.4787032025239226, 0.42241132965454453, 0.48506524175910193, 0.20033566110250867, 0.4662514753539513, 0.07744681559128419, 0.2187744285560297, 0.05012103586294214, 0.08939643983060597, 0.10996597490354054, 0.05710463902302221, 0.44475669443085264, 0.04071671685000533, 0.38297406746034524, 0.16562051279824996, 0.4071014450414625, 0.2573726927528259, 0.23140698170821394, 0.28512224792248886, 0.3420928346095766, 0.4787611687857969, 0.35731080228440815]}, {26: [0.08119774099196597, 0.09761763344070074, 0.13782153332960145, 0.40315954743399285, 0.13514396449087274, 0.4067228933177074, 0.41545816469225105, 0.04612859818208137, 0.4520332278077819, 0.19011471667347346, 0.3532734502892301, 0.41655796491457886, 0.10798537205544645, 0.08187977694586723, 0.2859864871253871, 0.3152606390857151, 0.1600138023633374, 0.4029425556342666, 0.4982038404291175, 0.30595099115125923, 0.3869407656938225, 0.026907375115081456, 0.3887876493279563, 0.4818060144903069, 0.469313625878374, 0.16060403577846372, 0.15201691908834858, 0.13675463452136782, 0.24507166335082986, 0.10947866324972866, 0.4672229116725968, 0.4411099146911085, 0.10901391470890831, 0.4859114844126379, 0.27161966802962645, 0.2193849514623848, 0.01814563065574437, 0.14458505001723365, 0.4871183410295017, 0.28233348744094955, 0.41834503488815233]}, {27: [0.28355022063225466, 0.3367116769289178, 0.11125351967152908, 0.41545816469225105, 0.3868834767489626, 0.36375783906981396, 0.17461874075885164, 0.20885251231860158, 0.3248362445058819, 0.4740161533613334, 0.4082482165554836, 0.3735999474168632, 0.38569567689137996, 0.42949655689282584, 0.13038442800263406, 0.329888518091347, 0.2677246887783946, 0.009494644787474193, 0.3660020668806091, 0.1917833051831046, 0.3109867313972353, 0.14712252284736926, 0.09309389690121028, 0.21902167783365434, 0.24093852293523454, 0.42237966290038353, 0.33409725131675183, 0.4090993560293491, 0.009507165203694545, 0.19524593063332107, 0.3625512623635101, 0.35229765647887523, 0.15796567383899263, 0.4999848894031991, 0.09700950392601082, 0.44943459792019813, 0.49179621206755764, 0.2665877035066464, 0.47069508131889226, 0.3636216949214811, 0.13549331753470317]}, {28: [0.39887368993574446, 0.2529485127742106, 0.15659792638720327, 0.43616061013338947, 0.3650029799519603, 0.17398256587930516, 0.07011832321979361, 0.0450520244327236, 0.3546498405586552, 0.39643699471688787, 0.014433437262675652, 0.2261749912175186, 0.0076300118981204035, 0.36518250811621333, 0.40408037634593363, 0.3633394255571196, 0.11539235069934883, 0.183207427915413, 0.26489719413584567, 0.43401518299717357, 0.08936573032224471, 0.4434849066035481, 0.3172366244702788, 0.1140099430985948, 0.4200183975204276, 0.3805126056985151, 0.10691829247700935, 0.36862262240023747, 0.3148666154533616, 0.20186361683012832, 0.06922440311563904, 0.11195513578191596, 0.01501138920392675, 0.33813130592149143, 0.027513220404535743, 0.34523633526081743, 0.008025347612679479, 0.23524400118473443, 0.11276963661533823, 0.3478833797695965, 0.41404290519818787, 0.4221163512815269, 0.3813756292144588, 0.12660274814895733, 0.24654934645119864, 0.08564160818210964, 0.011313450798284164, 0.26114463903804574, 0.12904825469156067, 0.09013074264165288, 0.3210172062283795]}, {29: [0.2210722372140449, 0.35526511563351315, 0.03182606812306299, 0.009945384797736656, 0.11296660568397787, 0.32805811433414167, 0.3817579128430916, 0.11709194010774471, 0.46106349926389645, 0.39643699471688787, 0.2770557337520443, 0.09040214614819242, 0.2037239916840099, 0.32528893327821895, 0.4512612141538139, 0.43999668389966806, 0.46174123881564166, 0.03501345440986492, 0.03721554104477576, 0.03626775676023075, 0.4398058931752379, 0.47077026450361903, 0.4344037622054693, 0.2818926016007276, 0.037983395589411884, 0.36196479548584615, 0.2940652997037215, 0.472838276157435, 0.12418840441885326, 0.45553254035235635, 0.1503320333012561, 0.05069550451357241, 0.339772824129949, 0.4087530944460749, 0.28133828086868007, 0.1476062112349702, 0.35892324321444236, 0.2568438253772619, 0.22975194119727005, 0.3431945080893133, 0.11654700900174964, 0.26235332866189054, 0.24749606496868626, 0.23994381127905873, 0.1724890318979495, 0.08118761699063959, 0.2669107438034656]}, {30: [0.15940975023092252, 0.3720601014061943, 0.4438833711938944, 0.3606138935951131, 0.07988109817220046, 0.1671554199315758, 0.1827494016282658, 0.45390334958269907, 0.10407406136790742, 0.07719583863002155, 0.44462360789344657, 0.11624691745754556, 0.2801617713970618, 0.27271646969497254, 0.3656469842431609, 0.35380197340276376, 0.2436545989057437, 0.0650389369526807, 0.43688565261823786, 0.13789658054322973, 0.4696554344321243, 0.2638411051895765]}, {31: [0.4508055271976974, 0.07988109817220046, 0.1709666368166156, 0.36744408815321516, 0.23907347132731716, 0.4324793650954375, 0.1108597970257661, 0.11490644055771826, 0.08724867311585727, 0.3960513460040037, 0.13084503347382714, 0.27541599472675293, 0.2789572631312821, 0.48238990471813115, 0.37812490096696916, 0.18962496012811492, 0.15032314968656402, 0.1899821734311875, 0.47988748662998826, 0.11887418706563802, 0.14503595799153102, 0.383844895750877, 0.06209109543462854, 0.3089271687301164]}, {32: [0.18282963859994894, 0.26983773932131416, 0.16877530988644374, 0.4348805781924182, 0.21857515737841537, 0.4259838593606021, 0.4782167266985027, 0.434197050942996, 0.026579133216190542, 0.014433437262675652, 0.2770557337520443, 0.18834179827822528, 0.3813027306141482, 0.4768699392174679, 0.17569887383856053, 0.05063241787988104, 0.4114808269211371, 0.11456609710843368, 0.14771124571820593, 0.18936617380179654, 0.17798315987097935, 0.4627756913644314, 0.36807704968388133, 0.11579841289254267, 0.37030043306526417, 0.14744823841045063, 0.36069829911318063, 0.21992319780925584, 0.3943641609921201, 0.012821146172173226, 0.38238801022083235, 0.3979674626529306, 0.15523996322523959, 0.04087874082370879, 0.25791125973071294, 0.20587522136114356, 0.017241619309135592, 0.2907230565880966, 0.17093880817413976, 0.12537611637002433, 0.31006577305828786, 0.4740173275062174, 0.25919119451100525, 0.34054601592023315, 0.01641337714681468, 0.4512554373012867]}, {33: [0.4156845655100059, 0.16254898418838448, 0.4711160276011074, 0.29841012797118527, 0.40806467238402155, 0.3640225391081261, 0.22919593159482632, 0.41555485927971636, 0.4805894384290509, 0.2261749912175186, 0.09040214614819242, 0.1671554199315758, 0.1709666368166156, 0.18834179827822528, 0.3300405889089587, 0.11922865581509023, 0.43701940175528853, 0.2624214695178665, 0.36483134438631293, 0.03513168630554919, 0.22145638949749546, 0.4451344265360886, 0.006904940942842441, 0.36189486866663645, 0.4175478882806162, 0.2421173734027453, 0.023083230454330472, 0.238797757387739, 0.021715875748778535, 0.07995986971067848, 0.05033743650453859, 0.33793592143393913, 0.21470015379390495, 0.1112828895655632, 0.1452167443322283, 0.06249054933690956, 0.25788242262870775, 0.12402325426163019, 0.16633955423622837, 0.27849281996929753, 0.2083970806063743, 0.07352906590772723, 0.28338265052370537, 0.4301190465427289, 0.167031087831933, 0.29030557129554935]}, {34: [0.44205459739790876, 0.4747783458132452, 0.3335288774533005, 0.052740686247514046, 0.038255832607010154, 0.3868834767489626, 0.0076300118981204035, 0.2037239916840099, 0.28877937314518265, 0.34340929346283755, 0.3098368619054429, 0.10016694189867437, 0.14943607850388096, 0.21752267327446773, 0.09873971400200443, 0.17915629581444226, 0.32926679413307713, 0.17750946792909095, 0.22267530326534035, 0.44523668754806667, 0.15880473372171, 0.2567595346478406, 0.056402620681990756, 0.38077227554425574, 0.17708513618335764, 0.47538799566149736, 0.054272088594130796, 0.07406154694117195, 0.01876437359063321, 0.031366408926755907, 0.39282741535198784, 0.16900899428627425, 0.3941128944313721, 0.13175774979561927, 0.1283260987457865, 0.2494383597091705, 0.32677644284555796, 0.28083018813020444, 0.1678479627331384, 0.3578136610541698, 0.2760617141775018, 0.2308805891180672, 0.2640576779197329, 0.4486177233654456, 0.1804179683069329]}, {35: [0.3319141854510059, 0.10487626781724613, 0.05141839027421602, 0.2936126418064977, 0.09120380807747963, 0.3796610505343656, 0.07821119074540361, 0.1251950404021167, 0.48338442173760243, 0.08407368379287217, 0.39943853829986076, 0.3978162080020773, 0.4565697607670497, 0.36407066406356925, 0.36202091862774866]}, {36: [0.36375783906981396, 0.28877937314518265, 0.3319141854510059, 0.058687309418815836, 0.11014908154646985, 0.1038556529832505, 0.42803908319056605, 0.48160115317474106, 0.08320788479636354, 0.35361205073110824, 0.012331478447238475, 0.014044958866470503, 0.0648926477332814, 0.10281409200119207, 0.2422192811454399, 0.013129126714829242, 0.1984380541962394, 0.06370749233860151, 0.4525227383675047, 0.46682026975251556]}, {37: [0.017897154327731757, 0.27809576081014975, 0.11797924321158026, 0.27093385321072117, 0.04612859818208137, 0.23834214853453084, 0.4571746578391259, 0.17811943119166485, 0.014096251442074936, 0.22163349800404986, 0.018003166366762358, 0.0698272709145783, 0.19083288119587816, 0.028883301709856535, 0.45279753601380446, 0.2214874459387174, 0.18484715460845613, 0.08946564899305964, 0.44686419094895435]}, {38: [0.36739480388384993, 0.4124793929673878, 0.26544511065084275, 0.27412125374753393, 0.319850598330808, 0.2550216956310988, 0.4722016614597826, 0.16267816934589807, 0.23488354952829382, 0.36518250811621333, 0.32528893327821895, 0.36744408815321516, 0.3813027306141482, 0.3300405889089587, 0.11482238382052401, 0.3384952639139487, 0.41006969773425594, 0.01038548423939556, 0.40854492531267317, 0.1167010281699774, 0.3453006094465001, 0.15160460252728558, 0.06042962321390111, 0.217307628324244, 0.24446041825668186, 0.49353378219334065, 0.037537154786924876, 0.3429531448816032, 0.03700695788688135, 0.06913596295726199, 0.3269128573756823, 0.24427869043428585, 0.2686838020458162, 0.4363669706798783, 0.32695099504479397, 0.3888495201840102, 0.4542957140110778, 0.2813542477139329, 0.2575489176742273, 0.3195054485423434, 0.3020644924356374, 0.06303263041915519, 0.4839650597777403, 0.19313840637045854, 0.1161614130984846, 0.09370357916580285]}, {39: [0.17191881757225924, 0.0074884111016360055, 0.3179904264408674, 0.23053833376108623, 0.31803266912400796, 0.233048636197148, 0.35160576506777164, 0.39419115295734997, 0.03257128325405678, 0.2324908488137134, 0.2454031106971476, 0.14591451251600263, 0.26415333033770216, 0.1724473118159885, 0.07395839032881946, 0.30552809137173675, 0.4457038084139717, 0.4302968956479457, 0.2827368611107888]}, {40: [0.11605892524601813, 0.40676369859986483, 0.4520332278077819, 0.17461874075885164, 0.34340929346283755, 0.058687309418815836, 0.3569935422814877, 0.10023299029303878, 0.10052468232791112, 0.3591708492493757, 0.38271169095319535, 0.29104835085650826, 0.018061345936108975, 0.45725096168192325, 0.3385445475557878, 0.38109090128640866, 0.09496687590690434, 0.17197903685807203, 0.4247381937187271, 0.46069693745649354, 0.24825298585854072, 0.3170193190707077, 0.18175929467558583, 0.17579879184808656, 0.08243977023262083, 0.42362558023720087, 0.13168412473944746, 0.2882034833255519, 0.26914390528505616, 0.4687265256344826, 0.17781991194140256, 0.026871037968809852, 0.22370599259424795, 0.051823317612204045, 0.4691448612418275, 0.4635502183031158, 0.38364335026277063, 0.19418859046859505, 0.11989319781755614, 0.1346379070725402, 0.1057079950480373]}, {41: [0.22674052160101743, 0.2730427521367025, 0.24943538159309053, 0.4519090610757944, 0.2775629171707582, 0.04337631921759466, 0.35160576506777164, 0.07316797955725662, 0.216116102962447, 0.18898328608228754, 0.23557100633944683, 0.13724549554782384, 0.3199105677571711, 0.2552170116524458, 0.13116703731022827, 0.1350220239342148, 0.29388197013248085, 0.3580057544100971, 0.19703481310909332, 0.012280986735362043, 0.3259320813787203, 0.4333358838041942, 0.13392783630693494]}, {42: [0.4176964236984477, 0.059771754939164534, 0.19011471667347346, 0.20885251231860158, 0.3098368619054429, 0.11014908154646985, 0.3569935422814877, 0.43414605275186324, 0.07616666265967853, 0.30590154545335624, 0.2249018029900911, 0.4954991494727806, 0.4853410618312982, 0.28374933716954753, 0.13040766531405024, 0.33878609261281023, 0.14584197277100908, 0.26030955670249345, 0.06448751428747046, 0.28555923336044453, 0.2608956645140629, 0.03910623467681784, 0.31928531676084204, 0.0671800404062809, 0.1046730103955088, 0.013053128956354465, 0.43597162641983944, 0.13467882790839358, 0.04076296005945801, 0.44547640695537605, 0.18495752254135978, 0.4387653601518454, 0.1442120962613006, 0.3323565933872411, 0.3514142734137262, 0.21821718880691865, 0.3691680364766551, 0.3293794725501995, 0.3691609838439711, 0.07711402918477461, 0.47750921830561854, 0.22962702317763528, 0.034623721010272335]}, {43: [0.41325274565097836, 0.19287436581332007, 0.42384906251580123, 0.16816614229520777, 0.23907347132731716, 0.4768699392174679, 0.11482238382052401, 0.4806746648159076, 0.47580902971928973, 0.37280145509731544, 0.21213550628845335, 0.2544788331921063, 0.23761262883395418, 0.23017440245776233, 0.2515305372465385, 0.35674960485647167, 0.4708577538425933, 0.38226045595750835, 0.10138593685192221, 0.02240945149261675, 0.4439426427177614, 0.4169215404028128, 0.10978572921917595, 0.1540122242353279, 0.24388220805996896, 0.3122140942015609, 0.42291252652447575, 0.31007704172404693]}, {44: [0.039770835648104685, 0.4235598555858081, 0.4738977447161917, 0.4466206026937328, 0.3532734502892301, 0.3248362445058819, 0.4512612141538139, 0.10016694189867437, 0.1038556529832505, 0.10023299029303878, 0.43414605275186324, 0.45866616203789334, 0.3076046280618272, 0.46512257055432926, 0.36319089451110165, 0.32328138841425247, 0.25255635514716546, 0.01456305574297112, 0.34579689862067353, 0.4601524159919118, 0.45300101897043965, 0.36650820656369154, 0.15641524188218803, 0.3536508518895791, 0.1955574302361407, 0.17106765592277762, 0.47973749795886256, 0.38854413403562116, 0.38482840772595694, 0.46769857529720504, 0.48683777468407363, 0.02802692433214604, 0.46823299001460106, 0.4455283454146042, 0.07266353341557918, 0.44971324258125, 0.21925967270810232, 0.18464798891851697, 0.46672981861723595, 0.32273411731248514, 0.03859273054677015, 0.11360505688357903, 0.11418702375811918, 0.009376542023140866, 0.4955573733415193, 0.28644316896578226, 0.260643928024475, 0.3388153490605671]}, {45: [0.23306724750758356, 0.41043712963792756, 0.1362061944896482, 0.4601272133236629, 0.4415498664663362, 0.06484773548052314, 0.20435162198221524, 0.44963502735431937, 0.3784028883518262, 0.41655796491457886, 0.40408037634593363, 0.43999668389966806, 0.11922865581509023, 0.14943607850388096, 0.07616666265967853, 0.45866616203789334, 0.21090450512170156, 0.011736144505677282, 0.3339840303964745, 0.42762064531637156, 0.420240692431579, 0.449445919987679, 0.4064244864803469, 0.4704991236088405, 0.18866124931220407, 0.3929910243359359, 0.08786305958755447, 0.00920061386364801, 0.13054550165572698, 0.17800895411657247, 0.31373680833747464, 0.28256810338938354, 0.24263492265625686, 0.12621652652191406, 0.19022693817605096, 0.18771159416851957, 0.05124520621672912, 0.13383208505322708, 0.17735448754697591, 0.1926246271429901, 0.17844694105133707, 0.0320245433186912, 0.3402644390420233, 0.25333248362008565]}, {46: [0.2709186778771332, 0.48129153011212866, 0.183172059923711, 0.3862389329012247, 0.18864952252561773, 0.21206850046792514, 0.3755954095762769, 0.1827494016282658, 0.23834214853453084, 0.06441193851479232, 0.1554589362329234, 0.44692195421374226, 0.09438418458743891, 0.47535171490454264, 0.1383441829203833, 0.2706147932894214, 0.033105048782807844, 0.21722827039392645, 0.2437102278775679, 0.1327814329997482, 0.42330206112468305, 0.2216109362088985, 0.037246860436740636, 0.021553171363815626, 0.40944407525134363, 0.011229136722734512]}, {47: [0.3872493487844165, 0.3842779915988782, 0.10893421554665184, 0.12164154681461958, 0.45390334958269907, 0.06441193851479232, 0.4983141985792511, 0.4454973687702435, 0.10832115403639897, 0.2959337488904301, 0.08792469533527325, 0.37848383379808437, 0.09604978802974462, 0.08317191171416105, 0.2692971422957283, 0.0959352246459031]}, {48: [0.14041718433317163, 0.18060483443866915, 0.10798537205544645, 0.4740161533613334, 0.21752267327446773, 0.42803908319056605, 0.10052468232791112, 0.30590154545335624, 0.3076046280618272, 0.015696945254270123, 0.17971140757097703, 0.22608530724707077, 0.4380444878983204, 0.4634754880045133, 0.2712635610709818, 0.09445478297267362, 0.09277881159855261, 0.37854298569217815, 0.28894000826113486, 0.16761959010177374, 0.009236067150352079, 0.21057934258678523, 0.12145337774821974, 0.39085469809544016, 0.49898833313285285, 0.45765821641044124, 0.1693067907224327, 0.3015461852379092, 0.07951325157358147, 0.04994225288743681, 0.28541205795462954, 0.2684105445861653, 0.021396630091986668, 0.3208716399827193, 0.12097579644704282, 0.0738722781903507, 0.062303974227245984, 0.14841313902177156]}, {49: [0.190469031007797, 0.29822607762147935, 0.3434247425551231, 0.3262684432593176, 0.19972173432972162, 0.06677596983053269, 0.10013083124316025, 0.3677103381317671, 0.21630634535277293, 0.3633394255571196, 0.4324793650954375, 0.17569887383856053, 0.43701940175528853, 0.3384952639139487, 0.4806746648159076, 0.4899593300183911, 0.37462119271379357, 0.028477444652241668, 0.21282846633281371, 0.05528976476505709, 0.4111323924267912, 0.33627920847914006, 0.4855125460962538, 0.47084924441061593, 0.3781838965381509, 0.01066634449009396, 0.09143585347061145, 0.47343828760760054, 0.30019776237952167, 0.05340142414747295, 0.4930250650484894, 0.4265457352893508, 0.18321137447615232, 0.48178606153462744, 0.4360003778698831, 0.12872592377081404, 0.11985430068117842, 0.1774077829107743, 0.29200616356149733, 0.20094076674784012, 0.41656028149358737, 0.23909972535541646, 0.4901143758866944, 0.2521438431041685]}, {50: [0.32191254223239585, 0.4118856778543113, 0.1533155838060074, 0.21744910649068627, 0.32896844323903707, 0.32780795242568794, 0.3758102878983075, 0.10466567758077039, 0.11539235069934883, 0.1108597970257661, 0.05063241787988104, 0.2624214695178665, 0.41006969773425594, 0.47580902971928973, 0.4899593300183911, 0.18189002039778812, 0.4471879649924606, 0.10887984270813345, 0.35057092056821604, 0.04003419449143886, 0.13869696520908825, 0.012573566397148905, 0.06533382190771175, 0.4141130215656741, 0.1660272558102771, 0.316392659748716, 0.23740011335079836, 0.1474542591683854, 0.23959295343106068, 0.13761837585513836, 0.4712280308397655, 0.13423346635240396, 0.40856449888331414, 0.474714085438771, 0.1434228801811236, 0.2487933675555276, 0.11898594328924705, 0.23260504254279613, 0.48586053266690976, 0.2507764192317271, 0.3515543672948882, 0.3020929065939134]}, {51: [0.2565867186643096, 0.14845913987215698, 0.1179283704435472, 0.15895654637442402, 0.14578335897271844, 0.183207427915413, 0.46174123881564166, 0.09873971400200443, 0.07316797955725662, 0.46512257055432926, 0.320391363628156, 0.47621557173083073, 0.18209617994884897, 0.4350420546436624, 0.03161530003389201, 0.42026319892376374, 0.49397890407201195, 0.31758592752055803, 0.05966743756964432, 0.4363768666137048, 0.24773021115766625, 0.23660258516909116, 0.4715097319735698, 0.13747976037046805, 0.2454336919678659, 0.15345644449529205, 0.3643654687690261, 0.28886325576674265, 0.3818544087465926, 0.44853560989128416, 0.2547529761409121, 0.3744904665729726, 0.07635145264945997, 0.4794549749714473, 0.16915030233273987, 0.09153881640124906, 0.24105405327335394]}, {52: [0.1755364024477043, 0.2258493301222888, 0.011442629635425972, 0.40348620114163003, 0.33077829057607955, 0.3061493411135513, 0.4723838295230366, 0.1211444881428767, 0.05959377107128627, 0.44125902047309595, 0.43603435006309454, 0.1707837143894777, 0.33928679945388285, 0.010940845265898669]}, {53: [0.4030700362767319, 0.19651040742899994, 0.1215094169316826, 0.42676233296824906, 0.09150133116315806, 0.0735839900251073, 0.21008954971607474, 0.37880732582122256, 0.10368810119580629, 0.15155058409588296, 0.1945107335889803, 0.26489719413584567, 0.4114808269211371, 0.39419115295734997, 0.216116102962447, 0.320391363628156, 0.02915965243097962, 0.14013197777753228, 0.4088248464248988, 0.41774702921910856, 0.43580891477449124, 0.21044161143242812, 0.35568022947515787, 0.3842256531922196, 0.22811974502439036, 0.0906653578550225, 0.24774847242226783, 0.2235546466289372, 0.36792028911652086, 0.3887867193775517, 0.25405133128359236, 0.4260773348117214, 0.360875507624285, 0.3708097620115126, 0.48184715227133, 0.3909437959431107, 0.24525940153516257, 0.41225142613604615, 0.3119891606601892]}, {54: [0.4482856970592427, 0.41335376634030585, 0.1905030168886831, 0.2372083375904478, 0.3020307849624184, 0.3824742160255368, 0.3255886382697267, 0.03257128325405678, 0.18898328608228754, 0.47621557173083073, 0.02915965243097962, 0.33840573280711084, 0.39402716004181615, 0.48203937888668114, 0.11111117967037987, 0.3779239707498193, 0.2062314362263835, 0.36475479338633654, 0.45963295896159273, 0.24765968293064045, 0.02302476908233464, 0.06678820130480145, 0.2949293943322232, 0.14684196143455275, 0.04226777025258022, 0.08612014850063765, 0.46474037155654735]}, {55: [0.04812447274887022, 0.4254470360299347, 0.21233075985509609, 0.2975212538473565, 0.35418762805237136, 0.3071577836630145, 0.43563459864539955, 0.43401518299717357, 0.11490644055771826, 0.11456609710843368, 0.36483134438631293, 0.01038548423939556, 0.37280145509731544, 0.37462119271379357, 0.18189002039778812, 0.3811300200554639, 0.3335998675886942, 0.3069886414124847, 0.18461406572708394, 0.2894060753145018, 0.38285547281047283, 0.07938015023781919, 0.363895888248723, 0.16275310499911244, 0.2311517694443832, 0.3325056487957223, 0.37978633930589656, 0.10633185635455888, 0.39191425745281205, 0.1259712051606986, 0.2847853667740261, 0.2625051588638916, 0.23046803768539392, 0.3119588571677274, 0.32239596387129865, 0.03614470305848394, 0.31019724196558385, 0.4276153634754143, 0.4903511852059802, 0.2109643995156386, 0.28167420847604496]}, {56: [0.3655833588048486, 0.4446624448220068, 0.015696945254270123, 0.011442629635425972, 0.4926443209383349, 0.39782691255730873, 0.2496029177829585, 0.4477263738859717, 0.4668133525476694, 0.24382529805874387, 0.1731808348027094, 0.010072990461122977]}, {57: [0.09611766491410711, 0.22687990439530892, 0.3717678518303513, 0.28254587110116736, 0.11610435414303577, 0.4259665492621595, 0.08187977694586723, 0.4082482165554836, 0.03501345440986492, 0.17915629581444226, 0.3591708492493757, 0.2249018029900911, 0.36319089451110165, 0.21090450512170156, 0.17971140757097703, 0.18265343730241157, 0.015351751983981865, 0.11512640216989267, 0.24784262778953903, 0.04579274324834537, 0.4164246649816534, 0.11618832983158811, 0.05731595995873573, 0.3970229590726192, 0.2716967911428556, 0.26827406238477736, 0.4460962532785959, 0.15614156577823157, 0.2826064697241947, 0.33017551135515055, 0.3610769836886607, 0.3257483192899875, 0.4694926339610357, 0.4321997534297157, 0.2814788879108844, 0.030392797694970386, 0.010055963944610169, 0.35783630184835336, 0.2879760338021695, 0.20780597470428985, 0.1299919968765323, 0.3893999802659801, 0.10539824726388702]}, {58: [0.43932815338489284, 0.21871652514850326, 0.46045555092078394, 0.24883051659499678, 0.2864476719405681, 0.08936573032224471, 0.32926679413307713, 0.23557100633944683, 0.32328138841425247, 0.18209617994884897, 0.14013197777753228, 0.33840573280711084, 0.11889336342882362, 0.30160737455154885, 0.34431717704999065, 0.08736724068103352, 0.02550733143917816, 0.02905373283180812, 0.052801701964569236, 0.05380573613230799, 0.4156939503672249, 0.14586869917852918, 0.09469544819114373, 0.41032475994310624, 0.031060020242691833, 0.48313472246448275, 0.05074621568324811, 0.33136455572770673, 0.14186021520522663, 0.4092196245722526, 0.22383336632403938, 0.16651387124146977, 0.4929015177209034, 0.4370011818471621, 0.4559737863428964, 0.16307032086648665]}, {59: [0.3987927351575362, 0.08724867311585727, 0.14771124571820593, 0.40854492531267317, 0.21213550628845335, 0.028477444652241668, 0.4471879649924606, 0.3811300200554639, 0.11666536076889189, 0.17188264510184037, 0.43439537874398604, 0.28068557402341787, 0.3609013454123494, 0.3343827747769995, 0.187543733544839, 0.22525583238401337, 0.29956265554301276, 0.35816393902816457, 0.024179947841152405, 0.04870983887827274, 0.15886679497701683, 0.36716852390158594, 0.1666713174602089, 0.042411008368220315]}, {60: [0.14949690624849155, 0.25855935938242214, 0.2859864871253871, 0.3735999474168632, 0.38271169095319535, 0.4954991494727806, 0.25255635514716546, 0.22608530724707077, 0.40348620114163003, 0.4926443209383349, 0.32180689670104723, 0.3248211331308255, 0.3050496718599045, 0.4014490612909183, 0.3771963941509786, 0.3929819646887147, 0.4329012225276432, 0.4062969219951056, 0.27570291690999926, 0.2813601132299284, 0.17150678196690883, 0.23383840939234246, 0.20666191584926807, 0.4794446568056433, 0.02339727573078132, 0.16803840971888395, 0.1568638923987471, 0.2516793334980669, 0.44968537080190274, 0.20064775121464107, 0.0551663220251144, 0.15790434051261526, 0.13185856306498356, 0.04785968263848761, 0.17550483445099163]}, {61: [0.2057502824984927, 0.028572422395312547, 0.04734423744653249, 0.3152606390857151, 0.38569567689137996, 0.17750946792909095, 0.29104835085650826, 0.4853410618312982, 0.01456305574297112, 0.4380444878983204, 0.33077829057607955, 0.18265343730241157, 0.32180689670104723, 0.1790982246438314, 0.1988552065145317, 0.20569192529292035, 0.0708011999953676, 0.43411050255726535, 0.2302640186293612, 0.11707293840591348, 0.497309090315165, 0.336115176798647, 0.428692084645669, 0.06808037037573855, 0.4596396633209203, 0.02254060067438335, 0.060547107527836874, 0.22671200594242502, 0.09670342506946794, 0.47756933290413894, 0.31145641948946534, 0.1342954780214356, 0.4322327983671074, 0.2630213316408093, 0.13696708990836948, 0.1279425975542211, 0.021242437724359964, 0.19400945733494013, 0.4591489263494436, 0.45781470226342047]}, {62: [0.49903015729335887, 0.07113380264793467, 0.08389293950636967, 0.20908368934027233, 0.10407406136790742, 0.3960513460040037, 0.18936617380179654, 0.03513168630554919, 0.1167010281699774, 0.2544788331921063, 0.21282846633281371, 0.10887984270813345, 0.3335998675886942, 0.11666536076889189, 0.09271554325447706, 0.3106552051328063, 0.46872782591801476, 0.36926864363205236, 0.22432827259605492, 0.19743160886914524, 0.34974864671405514, 0.3744362815935278, 0.013669214638731164, 0.1922010574178299, 0.48893516691950456, 0.44163108813719054, 0.09661465902575195, 0.33614028757950487, 0.38250923835763107, 0.48186565920537583, 0.3632676650448141, 0.15750323345622053, 0.24138178791124654, 0.4893094611461959, 0.11846158155717168, 0.09640971967371481, 0.025644254189599036]}, {63: [0.06550311129178965, 0.14257810801635262, 0.0334796311864608, 0.21137606968341194, 0.23260272323444653, 0.3424147034522216, 0.24315061446025865, 0.16596873528047085, 0.32296508824479464, 0.4855986442323007, 0.1600138023633374, 0.42949655689282584, 0.4434849066035481, 0.03721554104477576, 0.22145638949749546, 0.22267530326534035, 0.018061345936108975, 0.28374933716954753, 0.34579689862067353, 0.011736144505677282, 0.4350420546436624, 0.015351751983981865, 0.11889336342882362, 0.12357929631831466, 0.16727691803131006, 0.15898591654211525, 0.030685024733892563, 0.09476146986267309, 0.2544038811620368, 0.3970896860626031, 0.36478784025936006, 0.016899953624844977, 0.2072574650789628, 0.38200572370000574, 0.20679936825372003, 0.3355703274746792, 0.3135989286261247, 0.09094336876379916, 0.2443434809471644, 0.09389290951192031, 0.035632144627232076, 0.3527356027081643, 0.299039525520293, 0.3990914855640686, 0.35115537509451666, 0.20449865142735313, 0.29748010655134294, 0.2640540817953849, 0.12381099330597145, 0.04212053244896519, 0.1958552188587448, 0.009377973826968367, 0.2836009238376811, 0.3882192720475113]}, {64: [0.4977271250712628, 0.44179561858746674, 0.13936271253924626, 0.4385087960011854, 0.19875474027826845, 0.062038961346704946, 0.07966473831306309, 0.022528190166106854, 0.3654282613015496, 0.3560702385600947, 0.3172366244702788, 0.03626775676023075, 0.07719583863002155, 0.17798315987097935, 0.4451344265360886, 0.3453006094465001, 0.3339840303964745, 0.05528976476505709, 0.35057092056821604, 0.4088248464248988, 0.3069886414124847, 0.09271554325447706, 0.12357929631831466, 0.20676113431620236, 0.19453957736287875, 0.34650111812977546, 0.04473812718960646, 0.21834295426543004, 0.042829402196879474, 0.060634820228709585, 0.31886254388137936, 0.25923109321013404, 0.32598411597193655, 0.1547298640366087, 0.08923692118147375, 0.4573363504608302, 0.32655254441022274, 0.08001132066552263, 0.41800787815587315, 0.3612562721855782, 0.19588245576009278, 0.07803342445130257, 0.2278137599098542, 0.06772808184281087, 0.04484142741959274, 0.4086424999388256, 0.3869150229084706, 0.16184063763868595]}, {65: [0.46788385314149017, 0.4636251313244023, 0.3572708781833389, 0.34263471837309045, 0.08428876007368236, 0.18282749220760453, 0.4029425556342666, 0.13038442800263406, 0.4571746578391259, 0.45725096168192325, 0.13040766531405024, 0.4601524159919118, 0.42762064531637156, 0.4634754880045133, 0.11512640216989267, 0.3248211331308255, 0.1790982246438314, 0.16727691803131006, 0.019377770966447216, 0.4565609390849228, 0.4503364247049252, 0.41118251611529266, 0.2001949804650346, 0.4943573010768362, 0.4112076099648112, 0.11213305094261916, 0.09297924858706408, 0.011431486856713136, 0.21577232960065373, 0.48582194078887697, 0.09101525027904545, 0.06128438204980158, 0.2505567936254328, 0.24470439946400424, 0.28626068879780087, 0.4945747959727699, 0.20885965195295708, 0.06778300208722143, 0.2713824347021271, 0.1972097202315607, 0.38128604953237]}, {66: [0.008122257423593737, 0.24372939300591367, 0.3331956843700027, 0.21637023897673158, 0.46644675284122217, 0.34708402019721096, 0.022927683702585244, 0.1123558811342753, 0.4982038404291175, 0.17811943119166485, 0.420240692431579, 0.1554589362329234, 0.24784262778953903, 0.019377770966447216, 0.01888841644733652, 0.35444205851095023, 0.12861394997634212, 0.40253312444161793, 0.4317061643007166, 0.12416268534268038, 0.43006690812288684, 0.24174220372539823, 0.26356968227733246, 0.07130853305618601, 0.03066239248503988, 0.07418498785537853, 0.38028069744896553, 0.44460802916712805, 0.377384731290462, 0.1505332221274006]}, {67: [0.14124315441140756, 0.27789063593578733, 0.13634510212901463, 0.06838583491022976, 0.3902481430786624, 0.285000954030477, 0.30683560281869815, 0.31253361402322966, 0.4309506175962836, 0.014856913732717025, 0.4119990365758692, 0.10867022801028081, 0.1140099430985948, 0.4627756913644314, 0.006904940942842441, 0.15160460252728558, 0.4111323924267912, 0.04003419449143886, 0.03161530003389201, 0.41774702921910856, 0.18461406572708394, 0.30160737455154885, 0.20676113431620236, 0.190000342976831, 0.2448418146866208, 0.031170403316160722, 0.16048323309593515, 0.006847705479629984, 0.25054237804623614, 0.289615052689026, 0.10609764299547109, 0.02264384166972322, 0.3392577918939519, 0.07013310140739482, 0.36808034304410453, 0.27073683064226206, 0.23057953505154316, 0.0567054088363359, 0.45966796368888263, 0.03162941334500868, 0.2234825369285881, 0.40210108752839113, 0.2341947905277958, 0.08532961161328323, 0.15698831054690277]}, {68: [0.04931376979016655, 0.4360378001501325, 0.37896878487209273, 0.1825164840093968, 0.39590844998281494, 0.1059941845774276, 0.006733943252377195, 0.24543979527348214, 0.4200183975204276, 0.13084503347382714, 0.36807704968388133, 0.36189486866663645, 0.06042962321390111, 0.23761262883395418, 0.33627920847914006, 0.13869696520908825, 0.2894060753145018, 0.17188264510184037, 0.3106552051328063, 0.19453957736287875, 0.190000342976831, 0.06737566718452948, 0.0701869374719809, 0.20766341496046448, 0.39699148180751564, 0.38027778869191364, 0.3664106512093801, 0.26857411989913227, 0.40236021590513316, 0.3730090959558736, 0.15990781842079616, 0.35279357047758375, 0.07483039790302515, 0.44184867298950714, 0.19402567458896858, 0.18340928756722752, 0.21832131371375874, 0.3890518463511218, 0.42296543823806976, 0.13068066320790572, 0.16392432175792382, 0.3475474100152902, 0.10432027996470539, 0.06164337027887534]}, {69: [0.3964576630751583, 0.19519155940646826, 0.1357781765553242, 0.05160157999121928, 0.20077051818349367, 0.49114223710403526, 0.11579841289254267, 0.217307628324244, 0.23017440245776233, 0.4855125460962538, 0.012573566397148905, 0.43580891477449124, 0.38285547281047283, 0.46872782591801476, 0.2448418146866208, 0.06737566718452948, 0.22915747368092965, 0.09102521039718348, 0.11248967851837377, 0.12715239434465186, 0.11924283942947278, 0.07177651385396155, 0.2967825351752651, 0.3845164002566914, 0.3655508781101716, 0.13886321531152057, 0.48251607518688755, 0.2911340455902096, 0.14288521825117007, 0.11187156836079548, 0.2771229227156673]}, {70: [0.3968258972001224, 0.027214819644174715, 0.1838730492416577, 0.44692195421374226, 0.4983141985792511, 0.0325902556321771, 0.2639194966165894, 0.10819974317021142, 0.30831353197636147, 0.09103387189904377, 0.19522897787588767, 0.2771505675490378]}, {71: [0.35187183805583433, 0.3680658296292466, 0.329888518091347, 0.3385445475557878, 0.33878609261281023, 0.2712635610709818, 0.3061493411135513, 0.39782691255730873, 0.3050496718599045, 0.1988552065145317, 0.2564652460944239, 0.3374335910489986, 0.46178918720503626, 0.49483772477767896, 0.05581071802626891, 0.08807966325496286, 0.4122380538033992, 0.3682775645231222, 0.14441204942523767, 0.33131732252350554, 0.037075099977117776, 0.4168558928747975, 0.3102374000400292, 0.24978089198353226]}, {72: [0.4798135202813316, 0.2690202122601484, 0.26383273566168397, 0.07777385086815047, 0.30595099115125923, 0.2677246887783946, 0.014096251442074936, 0.38109090128640866, 0.14584197277100908, 0.09445478297267362, 0.4723838295230366, 0.4014490612909183, 0.20569192529292035, 0.4565609390849228, 0.01888841644733652, 0.2564652460944239, 0.43851658715735686, 0.1485264886826183, 0.4711227925530982, 0.34278294134771836, 0.08159399512720633, 0.15656111591346666, 0.34835284094614516, 0.011658117820296243, 0.26045352341558825, 0.21134836842842897, 0.31954988094007486, 0.476622340362835, 0.2188568596847411, 0.039665108742022226, 0.23494881729346484, 0.06618844286697201, 0.10538634160383675, 0.3078708326515195]}, {73: [0.009494644787474193, 0.44523668754806667, 0.10487626781724613, 0.48160115317474106, 0.09496687590690434, 0.26030955670249345, 0.45300101897043965, 0.09277881159855261, 0.3771963941509786, 0.0708011999953676, 0.27187846489400624, 0.37884234946801854, 0.021431807482903076, 0.25783421881696567, 0.1816149131225373, 0.2878426461976442, 0.23669878217332874, 0.040260424363877, 0.3305335511633175, 0.4116880013919364, 0.20344598353349408, 0.3412345628609883]}, {74: [0.07521765526611934, 0.2764067947902813, 0.4511917115453491, 0.2899094331041211, 0.42181216252635434, 0.24426092914134467, 0.28726611564996785, 0.44462360789344657, 0.09438418458743891, 0.4454973687702435, 0.35444205851095023, 0.0325902556321771, 0.19201469529976112, 0.07900597952885169, 0.2533379337881634, 0.34418889698454747, 0.035170975880628896, 0.32418506802719926, 0.14058012888350513, 0.28663199161530273, 0.32207775139949435]}, {75: [0.3708509158123564, 0.3005841103263128, 0.02474835568200784, 0.1772427893904155, 0.16241121893459654, 0.2324908488137134, 0.13724549554782384, 0.39402716004181615, 0.1671855912554836, 0.1485898313191536, 0.06489961807985722, 0.12164956508013025, 0.27218292549061474, 0.24538499960807614, 0.05200536880151907, 0.3194882380689966, 0.019399197907150056, 0.3048671362919616, 0.45092997002508184, 0.058328378052035834]}, {76: [0.3860118819236159, 0.4054226386211597, 0.3869407656938225, 0.3660020668806091, 0.17197903685807203, 0.06448751428747046, 0.37854298569217815, 0.1211444881428767, 0.2496029177829585, 0.3929819646887147, 0.43411050255726535, 0.4503364247049252, 0.3374335910489986, 0.43851658715735686, 0.24331884084456545, 0.11131695373044259, 0.10301982673504173, 0.23917733168884392, 0.21312915007753808, 0.20758053448410285, 0.16065854200573693, 0.23694952622681564, 0.4190339959197261, 0.014110542034861395, 0.1422729812982182, 0.17576215537633688]}, {77: [0.29106776221724484, 0.04850970813732591, 0.1766284286015979, 0.026907375115081456, 0.22163349800404986, 0.4329012225276432, 0.2302640186293612, 0.41118251611529266, 0.12861394997634212, 0.1485264886826183, 0.24331884084456545, 0.21254475872752965, 0.4310624215812635, 0.3103505821795647, 0.3929245559362011, 0.07371938461668037, 0.018112171508576247, 0.4461459591047101, 0.3916154236105165, 0.445728484578769, 0.47794657316441036, 0.4947975256175594, 0.30556024621606903]}, {78: [0.29797114949407, 0.19272298638198937, 0.18552806809090172, 0.18255978499703407, 0.28374856154627437, 0.39796179857858915, 0.06368891691329959, 0.20362618462176318, 0.04436270456043179, 0.3805126056985151, 0.4398058931752379, 0.37030043306526417, 0.4175478882806162, 0.15880473372171, 0.24446041825668186, 0.36650820656369154, 0.449445919987679, 0.42026319892376374, 0.21044161143242812, 0.04579274324834537, 0.34431717704999065, 0.15898591654211525, 0.34650111812977546, 0.031170403316160722, 0.0423298514973901, 0.4896268022346897, 0.09554675388720435, 0.2977556583442773, 0.4996424096505777, 0.4940373662878339, 0.3252422970261024, 0.28802180114303333, 0.4222470445141724, 0.14378553465103194, 0.15902041342417705, 0.15379194557565745, 0.24508082652064456, 0.48279257474008064, 0.016419037649782475, 0.05100380930450632, 0.028976164390075665, 0.14768129808427555, 0.08440170271308967, 0.13749369661557376, 0.32770853953512435, 0.3795291723723926, 0.3682482903748606, 0.01232010348292345, 0.462654575098815, 0.3504501630217032, 0.32188508579279806]}, {79: [0.180679109801273, 0.2656379179839685, 0.032916654988596195, 0.21069092954664248, 0.06330346351361493, 0.4063808078863541, 0.11703033762182113, 0.2628705883249687, 0.30347798891966515, 0.10691829247700935, 0.27541599472675293, 0.14744823841045063, 0.2421173734027453, 0.49353378219334065, 0.2515305372465385, 0.47084924441061593, 0.06533382190771175, 0.35568022947515787, 0.07938015023781919, 0.43439537874398604, 0.36926864363205236, 0.04473812718960646, 0.16048323309593515, 0.0701869374719809, 0.22915747368092965, 0.0423298514973901, 0.4734990981207561, 0.02406310614059215, 0.023613192700024044, 0.1673805828371796, 0.09428076186624201, 0.18357648322323383, 0.13173091807499182, 0.10246527186798593, 0.4143049744134021, 0.24652841851388352, 0.1999838175413211, 0.09954242521220258, 0.029422851105592507, 0.03973291419948477, 0.2533985869381058, 0.059944503601138344, 0.011467300114567203, 0.007619175623352459, 0.17176437405306244, 0.16862980450639564]}, {80: [0.10491227710315243, 0.1072472660237489, 0.015447114117875582, 0.3887876493279563, 0.1917833051831046, 0.2567595346478406, 0.08320788479636354, 0.4247381937187271, 0.28555923336044453, 0.15641524188218803, 0.28894000826113486, 0.4164246649816534, 0.4062969219951056, 0.11707293840591348, 0.030685024733892563, 0.2001949804650346, 0.46178918720503626, 0.4711227925530982, 0.27187846489400624, 0.11131695373044259, 0.2954437658514427, 0.13234863705506206, 0.48692051611218123, 0.43770094800928117, 0.23841277992576015, 0.48144770395816494, 0.10878199993392623, 0.2763691286534181, 0.4105531473494838, 0.21872728433205035, 0.4210603503102305, 0.44656983702399966, 0.3246678271690929, 0.031497716516861396, 0.14322117762063036, 0.13858374374522775, 0.03716455647450956, 0.1360081196413674, 0.24191696160226195, 0.20033717868830914]}, {81: [0.3328551102925035, 0.38132776494129994, 0.18314021356346155, 0.14911072499246092, 0.2004034684572461, 0.1376268457303057, 0.3847134875468008, 0.11624691745754556, 0.018003166366762358, 0.47535171490454264, 0.10832115403639897, 0.40253312444161793, 0.2639194966165894, 0.19201469529976112, 0.03883423972104394, 0.1203912470828511, 0.36636324230751893, 0.10369587118118517, 0.152247665909523, 0.4780331850856613, 0.02555621816505327, 0.3837707808432912, 0.23413789572669652, 0.1878328899771412]}, {82: [0.3914368880100989, 0.48620131096065, 0.05840099954566447, 0.08365576441429246, 0.2801617713970618, 0.2789572631312821, 0.1383441829203833, 0.2959337488904301, 0.10819974317021142, 0.07900597952885169, 0.03883423972104394, 0.23982035199810947, 0.239171233158331, 0.06454537185487874, 0.439061599468747, 0.07585977928646426]}, {83: [0.3083754326112216, 0.18046720057469556, 0.4818060144903069, 0.3109867313972353, 0.46069693745649354, 0.2608956645140629, 0.3536508518895791, 0.16761959010177374, 0.05959377107128627, 0.4477263738859717, 0.11618832983158811, 0.27570291690999926, 0.497309090315165, 0.4943573010768362, 0.49483772477767896, 0.34278294134771836, 0.10301982673504173, 0.21254475872752965, 0.2954437658514427, 0.3980159677745273, 0.38493592597800874, 0.08878227270514705, 0.3671801117811342, 0.2552212597350729, 0.396672616931698, 0.4357499261755102, 0.28557438718128225, 0.13489999779989004, 0.4697280858457644, 0.09626286480019908, 0.3770672233090949, 0.40386104105053255, 0.2720274147716163, 0.20874043057180103]}, {84: [0.3638223528518403, 0.16648915211029514, 0.0517215577800374, 0.4020887563638029, 0.469313625878374, 0.14712252284736926, 0.36862262240023747, 0.47077026450361903, 0.056402620681990756, 0.05141839027421602, 0.35361205073110824, 0.24825298585854072, 0.03910623467681784, 0.1955574302361407, 0.4064244864803469, 0.009236067150352079, 0.49397890407201195, 0.05731595995873573, 0.08736724068103352, 0.336115176798647, 0.09476146986267309, 0.37884234946801854, 0.4896268022346897, 0.13234863705506206, 0.4192175389231154, 0.2263170788462039, 0.22462611794521914, 0.33824973665625724, 0.15529550496080036, 0.45393427809713205, 0.43608131504059044, 0.1757475395742727, 0.46421033565910896, 0.26706246784282106, 0.4422598464428158, 0.37114855852158657, 0.3910417607778156, 0.1104666313105167, 0.3718413551710078, 0.22418027825065712, 0.3983478093289482, 0.1647714752032131, 0.2768374188970272]}, {85: [0.4026323801222541, 0.46224025597568397, 0.047513063183122206, 0.10185597697451032, 0.4665079043890542, 0.12448002356464316, 0.20410977384602835, 0.16737042518030742, 0.2454031106971476, 0.3199105677571711, 0.31758592752055803, 0.3842256531922196, 0.48203937888668114, 0.02550733143917816, 0.1671855912554836, 0.11230772477325413, 0.33746770038740825, 0.4965453844671661, 0.4859331182606915, 0.4546313083574789, 0.12286436714355409, 0.047545776425495845, 0.24948804530076996, 0.3074179555836837, 0.14800225657659705, 0.41415101256943376, 0.3321790210290101, 0.029519968172669886, 0.368001086431923]}, {86: [0.3231603833383674, 0.33421674360045306, 0.13964202050629793, 0.3792801494563456, 0.47725875288137565, 0.1920777140368749, 0.37960505881666673, 0.3148666154533616, 0.4344037622054693, 0.38077227554425574, 0.3170193190707077, 0.31928531676084204, 0.17106765592277762, 0.4704991236088405, 0.05966743756964432, 0.22811974502439036, 0.11111117967037987, 0.3970229590726192, 0.02905373283180812, 0.2544038811620368, 0.09554675388720435, 0.4192175389231154, 0.11230772477325413, 0.0423510778987235, 0.25371176396579553, 0.09380738820173129, 0.4315028271090672, 0.29713056053611997, 0.02354896923420924, 0.2779266756705371, 0.1322384600822557, 0.20138690618528587, 0.09805717921751989, 0.3916259659972533, 0.2749243515418185, 0.25218829675619503, 0.12263442233088773, 0.2593352905095617, 0.43426419200625854, 0.344793719132215, 0.39399296381479465, 0.17096403854986664, 0.1178064741417787, 0.10401156174562487, 0.3293243150427708]}, {87: [0.47252406864167473, 0.16122336146263772, 0.21191317784069852, 0.3164999311485781, 0.4114860061117849, 0.24243337783709673, 0.1306377940835931, 0.16060403577846372, 0.0698272709145783, 0.2706147932894214, 0.4112076099648112, 0.4317061643007166, 0.08159399512720633, 0.2533379337881634, 0.4310624215812635, 0.1203912470828511, 0.47389675169184386, 0.33179030999907844, 0.46500329628381776, 0.4538425936341446, 0.36684014572812507, 0.13513115078404292, 0.07506327221246445, 0.2799862404589124, 0.43086777430863576]}, {88: [0.41916602248107493, 0.3570573265351451, 0.25504685681355976, 0.15105772902643233, 0.11444576595873357, 0.25282312026784004, 0.16522892541580414, 0.4787032025239226, 0.15201691908834858, 0.20186361683012832, 0.2818926016007276, 0.27271646969497254, 0.023083230454330472, 0.47973749795886256, 0.18866124931220407, 0.033105048782807844, 0.2716967911428556, 0.3970896860626031, 0.21834295426543004, 0.11213305094261916, 0.12416268534268038, 0.2977556583442773, 0.36636324230751893, 0.47389675169184386, 0.17294860721348748, 0.22005722900798452, 0.4808011045592666, 0.11881293928422276, 0.0858941692236792, 0.21848428400697684, 0.29706588477263185, 0.19920079233320753, 0.03760213320314165, 0.4110000516772514, 0.2631088774342707, 0.452037744217341, 0.04094143341653589, 0.01822041251972184, 0.03827259507087244, 0.4274951143561243, 0.41968726193937633]}, {89: [0.48839359880788935, 0.38824674598196274, 0.09309389690121028, 0.21057934258678523, 0.44125902047309595, 0.4668133525476694, 0.2813601132299284, 0.428692084645669, 0.05581071802626891, 0.15656111591346666, 0.23917733168884392, 0.3103505821795647, 0.48692051611218123, 0.3980159677745273, 0.4324310912545706, 0.45338557022027637, 0.02685881130452461, 0.19394362832909018, 0.04783167797911114, 0.2636671301088048]}, {90: [0.11388727436947887, 0.06473578023239901, 0.028994864180788227, 0.3023293496784101, 0.32221443297020047, 0.4484972194054788, 0.09515557824618237, 0.401202778368392, 0.42241132965454453, 0.06922440311563904, 0.037983395589411884, 0.3656469842431609, 0.36069829911318063, 0.238797757387739, 0.037537154786924876, 0.3929910243359359, 0.3781838965381509, 0.26827406238477736, 0.22432827259605492, 0.36478784025936006, 0.042829402196879474, 0.20766341496046448, 0.4996424096505777, 0.4734990981207561, 0.17294860721348748, 0.1243718733227891, 0.2563908808517399, 0.3985242183352633, 0.19775090631952508, 0.05090598383937628, 0.04112299055273905, 0.1782613646769281, 0.2749266865335004, 0.1163352754569641, 0.4202909235308886, 0.47265999932666425, 0.3253469894380133, 0.04059312507809132, 0.04510007201336408, 0.19640160538778462, 0.33606610689853533, 0.28146994672730763]}, {91: [0.06231756972642799, 0.14765144116849394, 0.21902167783365434, 0.17708513618335764, 0.2936126418064977, 0.012331478447238475, 0.18175929467558583, 0.0671800404062809, 0.38854413403562116, 0.12145337774821974, 0.4460962532785959, 0.17150678196690883, 0.06808037037573855, 0.016899953624844977, 0.08807966325496286, 0.021431807482903076, 0.43770094800928117, 0.38493592597800874, 0.2263170788462039, 0.0423510778987235, 0.46074615574647826, 0.3870299158431596, 0.06128097435131341, 0.19288673975611104, 0.0890732555964685, 0.3374100057088919, 0.010383916328562282, 0.4557972121863775, 0.4386081618126815, 0.2115581169402555, 0.11380958406693364, 0.035610452386464875, 0.2569026506441323, 0.37181149893029897, 0.03596064194338722, 0.2485888840718702]}, {92: [0.1871044257606832, 0.3551314813806855, 0.17928467633492406, 0.2502130679646397, 0.31586079222798913, 0.47453643905864895, 0.14591451251600263, 0.2552170116524458, 0.3779239707498193, 0.1485898313191536, 0.33746770038740825, 0.4474324811673994, 0.3545555828891923, 0.4662452575278646, 0.007934578852778595, 0.417574048768962, 0.013187001170020918, 0.3618231752048561]}, {93: [0.15197742985499574, 0.4461222195340241, 0.26900393746373275, 0.12370581507266798, 0.3417862449603071, 0.11808136209169373, 0.27546446416515946, 0.09120380807747963, 0.26415333033770216, 0.13116703731022827, 0.4363768666137048, 0.2062314362263835, 0.052801701964569236, 0.06489961807985722, 0.4965453844671661, 0.25371176396579553, 0.4474324811673994, 0.34172963434427217, 0.1615464596020516, 0.2952820281104851, 0.179138537042287, 0.22445628606652002, 0.2867825679901711, 0.16346899737951504, 0.0639244015221837, 0.2207139554858112, 0.03435586256016587, 0.0203320793247862, 0.38194515512830973, 0.402380557786164]}, {94: [0.0832684578341405, 0.02140806739058354, 0.40788532352795215, 0.46010786206637955, 0.09222456644820876, 0.3424004835516017, 0.25548373350053766, 0.11838993256089148, 0.06249811992355436, 0.48506524175910193, 0.13675463452136782, 0.11195513578191596, 0.36196479548584615, 0.021715875748778535, 0.47538799566149736, 0.17579879184808656, 0.1046730103955088, 0.38482840772595694, 0.08786305958755447, 0.24773021115766625, 0.15614156577823157, 0.05380573613230799, 0.2072574650789628, 0.060634820228709585, 0.09297924858706408, 0.4940373662878339, 0.22462611794521914, 0.09380738820173129, 0.22005722900798452, 0.1243718733227891, 0.39033968796922125, 0.21510823769762166, 0.332750380644357, 0.0840712437335096, 0.1635928821707031, 0.4248217821681157, 0.04266530696401416, 0.01796456701545146, 0.11191473888250969, 0.12523617854009117, 0.4196503382861594, 0.14796316828292289, 0.36313921595413545, 0.20482651119310535, 0.15515132174554047, 0.32159893269087436, 0.4324703815946719, 0.09885363640973044, 0.2774151153754537, 0.17309893972288315, 0.2506351824427864, 0.30494142943432423]}, {95: [0.15660892246548008, 0.2837374611758935, 0.2731362321790691, 0.2641754989164572, 0.37808844955688947, 0.36771779984018793, 0.36529623735412586, 0.1724473118159885, 0.1350220239342148, 0.23660258516909116, 0.0906653578550225, 0.36475479338633654, 0.4156939503672249, 0.006847705479629984, 0.12164956508013025, 0.4859331182606915, 0.4315028271090672, 0.3545555828891923, 0.34172963434427217, 0.18596718748135244, 0.030607689664863158, 0.3055641179496572, 0.05659533242316839, 0.16966190803052938, 0.16124892700482774, 0.2837148062486474, 0.31089930560216317]}, {96: [0.19091657126521255, 0.3934453503964883, 0.24093852293523454, 0.08243977023262083, 0.013053128956354465, 0.39085469809544016, 0.43603435006309454, 0.24382529805874387, 0.23383840939234246, 0.4596396633209203, 0.4122380538033992, 0.34835284094614516, 0.21312915007753808, 0.23841277992576015, 0.08878227270514705, 0.4324310912545706, 0.35436500309101227, 0.2721810426468213, 0.4999695144830545, 0.02700653270922504, 0.12214394316310984, 0.27865235780270037, 0.024732991830771822]}, {97: [0.24087545539277422, 0.10192854500094395, 0.3483533926041693, 0.33611572549028745, 0.3174824641268045, 0.34592502884809706, 0.25043622534222654, 0.20033566110250867, 0.24507166335082986, 0.01501138920392675, 0.2940652997037215, 0.07995986971067848, 0.054272088594130796, 0.46769857529720504, 0.00920061386364801, 0.21722827039392645, 0.2826064697241947, 0.38200572370000574, 0.31886254388137936, 0.011431486856713136, 0.43006690812288684, 0.3252422970261024, 0.33824973665625724, 0.33179030999907844, 0.4808011045592666, 0.2563908808517399, 0.39033968796922125, 0.14885269125649125, 0.13322405180242292, 0.04410370946258857, 0.46193664521699396, 0.20179195894126434, 0.43372195468039054, 0.18801139355710983, 0.4618313013023875, 0.29373520427025424, 0.27273897289813764, 0.19668639115197672, 0.210612263362443, 0.33706287108832, 0.20217506275885633, 0.13212487074717216]}, {98: [0.4652170400406571, 0.022950890642597366, 0.18312026828790895, 0.21992319780925584, 0.3429531448816032, 0.35674960485647167, 0.01066634449009396, 0.4141130215656741, 0.363895888248723, 0.28068557402341787, 0.19743160886914524, 0.39699148180751564, 0.09102521039718348, 0.02406310614059215, 0.43487858969541227, 0.3792737352649248, 0.4926995775162556, 0.12176240665216342, 0.31559448920841493, 0.1809177156238354, 0.31196512272304355, 0.17559995936662465, 0.4591503096688342, 0.2503402501842329]}, {99: [0.3927298966085173, 0.27519807682418607, 0.4379677668832336, 0.2917377830918316, 0.3298838368977235, 0.06544137821552554, 0.07395839032881946, 0.29388197013248085, 0.45963295896159273, 0.14586869917852918, 0.27218292549061474, 0.4546313083574789, 0.4662452575278646, 0.1615464596020516, 0.18596718748135244, 0.3061708315174724, 0.38633880833411394, 0.4410318355202143, 0.2993133736162872, 0.18113245817555368, 0.12961683201403607]}, {100: [0.20856376128215426, 0.042456606737993785, 0.17859051021913497, 0.3015490420682756, 0.17316722591745992, 0.2812226485927959, 0.04303015589250958, 0.3572536985181909, 0.3624548147375042, 0.4662514753539513, 0.33813130592149143, 0.472838276157435, 0.07406154694117195, 0.3580057544100971, 0.48683777468407363, 0.4715097319735698, 0.24774847242226783, 0.24765968293064045, 0.09469544819114373, 0.20679936825372003, 0.25054237804623614, 0.28802180114303333, 0.15529550496080036, 0.12286436714355409, 0.29713056053611997, 0.2952820281104851, 0.21510823769762166, 0.030607689664863158, 0.08189436221668733, 0.4201588367703947, 0.4243978004488428, 0.0813313730560582, 0.30221080762573604, 0.04395170470124199, 0.35185073006240675, 0.3487014947181638, 0.462033279994579, 0.37348844119135505, 0.24916805828793587, 0.12052113525957275, 0.08714043043826503, 0.2895313745897621, 0.1081441918363737]}, {101: [0.37005702633047055, 0.25471215518743073, 0.3101361994629924, 0.189662319524325, 0.24335390683842073, 0.0563255216557329, 0.17816594137303776, 0.23276998364928514, 0.37746468130747635, 0.3447023531041231, 0.07744681559128419, 0.027513220404535743, 0.12418840441885326, 0.3943641609921201, 0.05033743650453859, 0.03700695788688135, 0.13054550165572698, 0.09143585347061145, 0.1660272558102771, 0.2235546466289372, 0.16275310499911244, 0.34974864671405514, 0.3355703274746792, 0.25923109321013404, 0.289615052689026, 0.38027778869191364, 0.4222470445141724, 0.023613192700024044, 0.02354896923420924, 0.11881293928422276, 0.3985242183352633, 0.332750380644357, 0.14885269125649125, 0.08189436221668733, 0.3853439247036772, 0.04831491178916858, 0.13865424259149273, 0.32708939235432866, 0.2057998017902779, 0.4181564487708209, 0.31981634239696355, 0.056878937439751476, 0.37254153546877855, 0.03686539338361372, 0.3906830435285852, 0.14484094929421554, 0.3946864830975403, 0.2251536514898268, 0.30191421010711605, 0.3033706788562167]}, {102: [0.30577220224312407, 0.42237966290038353, 0.3796610505343656, 0.014044958866470503, 0.42362558023720087, 0.43597162641983944, 0.49898833313285285, 0.20666191584926807, 0.02254060067438335, 0.3682775645231222, 0.25783421881696567, 0.48144770395816494, 0.3671801117811342, 0.46074615574647826, 0.35436500309101227, 0.21639379270852166, 0.1746118692462142, 0.07793993280450762, 0.4688766083686564]}, {103: [0.33628802506502586, 0.3634387693222073, 0.26687284897897035, 0.012631119839125016, 0.2996720341617807, 0.16662562411543325, 0.012821146172173226, 0.06913596295726199, 0.4708577538425933, 0.47343828760760054, 0.316392659748716, 0.2311517694443832, 0.3609013454123494, 0.3744362815935278, 0.10609764299547109, 0.3664106512093801, 0.11248967851837377, 0.1673805828371796, 0.43487858969541227, 0.25826789591903343, 0.02747093942051504, 0.16717784463166963, 0.3685246293289758, 0.12086061709500096, 0.0110580211091299, 0.4160005824374643, 0.13680657470867996, 0.007058140622781095, 0.43069703388970393, 0.17161485777601915, 0.1900353849121761]}, {104: [0.4757681205976173, 0.18916406214428672, 0.2997692902534841, 0.40786516820109897, 0.10947866324972866, 0.33409725131675183, 0.19083288119587816, 0.13168412473944746, 0.13467882790839358, 0.45765821641044124, 0.1707837143894777, 0.33017551135515055, 0.4794446568056433, 0.060547107527836874, 0.21577232960065373, 0.24174220372539823, 0.14441204942523767, 0.011658117820296243, 0.20758053448410285, 0.3929245559362011, 0.10878199993392623, 0.2552212597350729, 0.46500329628381776, 0.45338557022027637, 0.2721810426468213, 0.15703269813074272, 0.015960352574430514, 0.3322778454809753, 0.4750560386121384, 0.18272288911663181, 0.25549007005433555, 0.13903613507233914, 0.08129902904042952, 0.2483443958858741, 0.247644823428248]}, {105: [0.3592630760145028, 0.041715112106902486, 0.42766378937560545, 0.12675111710958342, 0.47485170082241857, 0.11178307975363122, 0.3339000908392129, 0.3388993350824653, 0.13506999339829562, 0.2187744285560297, 0.34523633526081743, 0.45553254035235635, 0.01876437359063321, 0.19703481310909332, 0.02802692433214604, 0.13747976037046805, 0.36792028911652086, 0.02302476908233464, 0.41032475994310624, 0.3135989286261247, 0.32598411597193655, 0.02264384166972322, 0.14378553465103194, 0.45393427809713205, 0.047545776425495845, 0.2779266756705371, 0.179138537042287, 0.0840712437335096, 0.3055641179496572, 0.4201588367703947, 0.3853439247036772, 0.3000249948992558, 0.037809252375695324, 0.1516356073484958, 0.29416910460694135, 0.2823267530084146, 0.3623652033249797, 0.07325249573473669, 0.19238124613125485, 0.3831059019249028, 0.26945783859381744, 0.46619091619528885, 0.46853809811414326, 0.13002520088295066]}, {106: [0.24129137505644904, 0.05953659653214727, 0.21319342761273463, 0.14624926650705794, 0.414108297177181, 0.43785311304250774, 0.01876411642457332, 0.05012103586294214, 0.008025347612679479, 0.1503320333012561, 0.38238801022083235, 0.33793592143393913, 0.031366408926755907, 0.3269128573756823, 0.17800895411657247, 0.30019776237952167, 0.23740011335079836, 0.2454336919678659, 0.3887867193775517, 0.3325056487957223, 0.031060020242691833, 0.013669214638731164, 0.09094336876379916, 0.1547298640366087, 0.3392577918939519, 0.26857411989913227, 0.15902041342417705, 0.09428076186624201, 0.1322384600822557, 0.0858941692236792, 0.19775090631952508, 0.1635928821707031, 0.13322405180242292, 0.4243978004488428, 0.04831491178916858, 0.3000249948992558, 0.4391558761667861, 0.12914344994209737, 0.030937819148166623, 0.08314621272149492, 0.053272158371867606, 0.2670808542602995, 0.16070654976305943, 0.04304377406730209, 0.47952749396040195, 0.19004739516503522, 0.044695542284989065, 0.04900773258275237, 0.16351034130490172, 0.1172749441867803]}, {107: [0.16149578291166644, 0.06850279508730439, 0.44944484168830534, 0.20564918183405356, 0.2375873084449378, 0.08939643983060597, 0.48238990471813115, 0.3979674626529306, 0.24427869043428585, 0.38226045595750835, 0.05340142414747295, 0.1474542591683854, 0.37978633930589656, 0.3343827747769995, 0.1922010574178299, 0.08923692118147375, 0.07013310140739482, 0.40236021590513316, 0.12715239434465186, 0.18357648322323383, 0.3792737352649248, 0.25826789591903343, 0.09920549219287655, 0.11855311774113375, 0.41530195336128406, 0.15830880898266086, 0.04631864787184092, 0.1846996481806653, 0.10578247621213632, 0.04823543748870551, 0.09059420657622197, 0.4739712118745826, 0.22973544185676364, 0.493755619276425, 0.08895510727862499]}, {108: [0.367754762038512, 0.05062823300537833, 0.30546557856889833, 0.3727030573497673, 0.35380197340276376, 0.37812490096696916, 0.2437102278775679, 0.08792469533527325, 0.48893516691950456, 0.30831353197636147, 0.34418889698454747, 0.10369587118118517, 0.23982035199810947, 0.1266273387772403, 0.41433063742390797, 0.16596411067017125, 0.05541610466522562, 0.47353969785810923]}, {109: [0.06714245228588633, 0.4469853220114327, 0.3152091307978798, 0.4493597860393682, 0.16298086541347745, 0.041484367488032525, 0.13530668061383266, 0.3585274555741529, 0.04119166364328497, 0.044252409013139316, 0.10996597490354054, 0.23524400118473443, 0.05069550451357241, 0.15523996322523959, 0.21470015379390495, 0.2686838020458162, 0.4930250650484894, 0.23959295343106068, 0.15345644449529205, 0.25405133128359236, 0.10633185635455888, 0.48313472246448275, 0.2443434809471644, 0.4573363504608302, 0.36808034304410453, 0.3730090959558736, 0.11924283942947278, 0.15379194557565745, 0.13173091807499182, 0.20138690618528587, 0.05090598383937628, 0.4248217821681157, 0.05659533242316839, 0.0813313730560582, 0.13865424259149273, 0.02747093942051504, 0.037809252375695324, 0.4391558761667861, 0.09920549219287655, 0.4409070578358041, 0.3258447984493752, 0.23324599633425858, 0.4455192576410586, 0.3015288132209861, 0.07960458170329499, 0.3855575074855577, 0.24716024403416248, 0.4575134625387135, 0.09599681370194801, 0.3934901163886654]}, {110: [0.4203614380818722, 0.174838950373014, 0.15470896592630534, 0.39761722075702766, 0.26595002701793224, 0.3568174740815101, 0.08651373095053672, 0.05710463902302221, 0.11276963661533823, 0.18962496012811492, 0.04087874082370879, 0.1112828895655632, 0.4363669706798783, 0.10138593685192221, 0.4265457352893508, 0.13761837585513836, 0.39191425745281205, 0.187543733544839, 0.44163108813719054, 0.32655254441022274, 0.27073683064226206, 0.15990781842079616, 0.07177651385396155, 0.10246527186798593, 0.4926995775162556, 0.32708939235432866, 0.16717784463166963, 0.12914344994209737, 0.11855311774113375, 0.4409070578358041, 0.214066290376969, 0.23149003020780112, 0.10251944922818101, 0.49878662132596907, 0.028901561288987576, 0.43494994250598384, 0.26609791706621466, 0.1941946353924694, 0.16220711141494903, 0.4454495457856421, 0.013069986657597732]}, {111: [0.07982734533852842, 0.11480222535756623, 0.08002084531068676, 0.4672229116725968, 0.4090993560293491, 0.39282741535198784, 0.0648926477332814, 0.2882034833255519, 0.04076296005945801, 0.46823299001460106, 0.31373680833747464, 0.1693067907224327, 0.3610769836886607, 0.02339727573078132, 0.22671200594242502, 0.09389290951192031, 0.48582194078887697, 0.33131732252350554, 0.26045352341558825, 0.1816149131225373, 0.16065854200573693, 0.2763691286534181, 0.396672616931698, 0.43608131504059044, 0.02685881130452461, 0.3870299158431596, 0.04266530696401416, 0.4999695144830545, 0.04410370946258857, 0.21639379270852166, 0.15703269813074272, 0.4313139511439028, 0.12396894492778354, 0.3148029084724301, 0.386449768305953, 0.4658469174852333, 0.05214817588307663, 0.2755370869353887, 0.42939540925046327, 0.4912576741474083, 0.3334509171963015, 0.2871162881433117, 0.1308997251815598, 0.3540495424968957]}, {112: [0.3086182234494843, 0.22541749104415265, 0.31796818378032665, 0.284627765655757, 0.4491064943306352, 0.45979090808327416, 0.1301436396929717, 0.31277435615434435, 0.44475669443085264, 0.3478833797695965, 0.339772824129949, 0.2436545989057437, 0.25791125973071294, 0.1452167443322283, 0.16900899428627425, 0.32695099504479397, 0.28256810338938354, 0.18321137447615232, 0.3257483192899875, 0.09661465902575195, 0.035632144627232076, 0.08001132066552263, 0.23057953505154316, 0.35279357047758375, 0.24508082652064456, 0.4143049744134021, 0.09805717921751989, 0.21848428400697684, 0.04112299055273905, 0.01796456701545146, 0.46193664521699396, 0.2057998017902779, 0.1516356073484958, 0.030937819148166623, 0.3258447984493752, 0.16670121937598736, 0.2508293749802736, 0.10212476971944118, 0.17996587029987854, 0.40901282182182197, 0.12297501992316029, 0.1755199118687727, 0.49262526568963205, 0.25878495992379036, 0.2351244981487789]}, {113: [0.10274478865477588, 0.35996366300893967, 0.3208227624290144, 0.05934170998726829, 0.43117804173557495, 0.0972405555738558, 0.30552809137173675, 0.012280986735362043, 0.06678820130480145, 0.24538499960807614, 0.24948804530076996, 0.007934578852778595, 0.22445628606652002, 0.16966190803052938, 0.3061708315174724, 0.0924788265085218, 0.21691313665284728, 0.17823081680274266, 0.019153993830215987]}, {114: [0.3714405244296344, 0.24189142234494887, 0.4919166065563708, 0.009507165203694545, 0.3941128944313721, 0.07821119074540361, 0.10281409200119207, 0.26914390528505616, 0.44547640695537605, 0.4455283454146042, 0.3015461852379092, 0.3643654687690261, 0.4694926339610357, 0.05074621568324811, 0.09670342506946794, 0.3527356027081643, 0.2878426461976442, 0.48279257474008064, 0.4105531473494838, 0.1757475395742727, 0.3916259659972533, 0.06128097435131341, 0.2867825679901711, 0.11191473888250969, 0.30221080762573604, 0.29416910460694135, 0.4313139511439028, 0.3265410429820751, 0.2716264549870846, 0.39326197036050015, 0.39045062834630606, 0.294812229877797, 0.10792520595963095, 0.010443796656727455, 0.11550057593275498, 0.05654916655370823, 0.056076189498481366, 0.1896297090801955, 0.17677438617597208, 0.4984773106441788, 0.21908856751319084]}, {115: [0.2870457818360299, 0.2593841627070894, 0.009095210063471248, 0.15441738922719095, 0.22697412112240967, 0.3604219347450288, 0.4411099146911085, 0.19524593063332107, 0.4087530944460749, 0.13175774979561927, 0.028883301709856535, 0.4687265256344826, 0.18495752254135978, 0.07266353341557918, 0.24263492265625686, 0.07951325157358147, 0.4321997534297157, 0.16803840971888395, 0.47756933290413894, 0.299039525520293, 0.09101525027904545, 0.26356968227733246, 0.21134836842842897, 0.07371938461668037, 0.016419037649782475, 0.21872728433205035, 0.4357499261755102, 0.46421033565910896, 0.4538425936341446, 0.29706588477263185, 0.19288673975611104, 0.12523617854009117, 0.20179195894126434, 0.015960352574430514, 0.12396894492778354, 0.3265410429820751, 0.18511461047152555, 0.48170170669043677, 0.16300746647934183, 0.1773205832379574, 0.4277033867395933, 0.16867179705470958, 0.21846730250631008, 0.39570391557193985]}, {116: [0.42750182814908333, 0.14275180417735, 0.16153375805181625, 0.14040125529926328, 0.3788103313248695, 0.04071671685000533, 0.41404290519818787, 0.28133828086868007, 0.0650389369526807, 0.15032314968656402, 0.20587522136114356, 0.06249054933690956, 0.3888495201840102, 0.02240945149261675, 0.48178606153462744, 0.4712280308397655, 0.1259712051606986, 0.22525583238401337, 0.33614028757950487, 0.41800787815587315, 0.07483039790302515, 0.05100380930450632, 0.24652841851388352, 0.1782613646769281, 0.4181564487708209, 0.08314621272149492, 0.41530195336128406, 0.1266273387772403, 0.23324599633425858, 0.214066290376969, 0.16670121937598736, 0.3905179416009539, 0.40660510647379333, 0.4273466674148543, 0.3346986740634864, 0.39233745250443786, 0.011981873012494093, 0.17524016027297384, 0.3006630412551885, 0.03204589272482461, 0.20054522517270934]}, {117: [0.21253061796580264, 0.3625512623635101, 0.1251950404021167, 0.2422192811454399, 0.17781991194140256, 0.4387653601518454, 0.44971324258125, 0.04994225288743681, 0.1568638923987471, 0.31145641948946534, 0.037075099977117776, 0.23669878217332874, 0.4210603503102305, 0.28557438718128225, 0.0890732555964685, 0.02700653270922504, 0.1746118692462142, 0.3148029084724301, 0.2716264549870846, 0.3638587143811497, 0.4563049391562618, 0.3346648519826153]}, {118: [0.4663992008139014, 0.20477957508200129, 0.3118831745317673, 0.17934176003189273, 0.18790094087047415, 0.27167810665943226, 0.48405029265332267, 0.1648134819857333, 0.38297406746034524, 0.4221163512815269, 0.1476062112349702, 0.1899821734311875, 0.017241619309135592, 0.25788242262870775, 0.4542957140110778, 0.4439426427177614, 0.4360003778698831, 0.13423346635240396, 0.4260773348117214, 0.2847853667740261, 0.29956265554301276, 0.38250923835763107, 0.3612562721855782, 0.0567054088363359, 0.44184867298950714, 0.2967825351752651, 0.028976164390075665, 0.1999838175413211, 0.2749266865335004, 0.12176240665216342, 0.31981634239696355, 0.3685246293289758, 0.053272158371867606, 0.15830880898266086, 0.4455192576410586, 0.23149003020780112, 0.2508293749802736, 0.3905179416009539, 0.023325758017194054, 0.34785604005239845, 0.09149862628416494, 0.47862074639451724, 0.3222812592677414, 0.20864267840530648, 0.423895299378962, 0.15786720811105504, 0.12123097549151274]}, {119: [0.35229765647887523, 0.48338442173760243, 0.013129126714829242, 0.026871037968809852, 0.1442120962613006, 0.21925967270810232, 0.28541205795462954, 0.2516793334980669, 0.1342954780214356, 0.4168558928747975, 0.040260424363877, 0.44656983702399966, 0.13489999779989004, 0.26706246784282106, 0.3374100057088919, 0.12214394316310984, 0.07793993280450762, 0.386449768305953, 0.39326197036050015, 0.3638587143811497, 0.12812349603886142, 0.47072630521048253, 0.41130054443482333, 0.18203095340488795, 0.00825526641478913, 0.37188753873500824]}, {120: [0.27713185488292447, 0.1062090558524158, 0.4173936114767389, 0.17321675957859384, 0.10159935206395121, 0.46524588621145246, 0.16562051279824996, 0.3813756292144588, 0.35892324321444236, 0.43688565261823786, 0.47988748662998826, 0.2907230565880966, 0.12402325426163019, 0.2813542477139329, 0.12621652652191406, 0.1327814329997482, 0.12872592377081404, 0.40856449888331414, 0.2625051588638916, 0.48186565920537583, 0.19588245576009278, 0.19402567458896858, 0.14768129808427555, 0.09954242521220258, 0.239171233158331, 0.19920079233320753, 0.1163352754569641, 0.4196503382861594, 0.43372195468039054, 0.056878937439751476, 0.2670808542602995, 0.41433063742390797, 0.10212476971944118, 0.40660510647379333, 0.023325758017194054, 0.3636077413774844, 0.21421016008153326, 0.06145593789045234, 0.3940487049827094, 0.4856787514488321]}, {121: [0.2895536411215217, 0.46875370042223463, 0.02173421751999205, 0.2996705116820336, 0.46468429645371845, 0.1818568977567122, 0.2651780347461823, 0.20056716079840642, 0.4071014450414625, 0.12660274814895733, 0.2568438253772619, 0.17093880817413976, 0.16633955423622837, 0.2575489176742273, 0.19022693817605096, 0.11985430068117842, 0.474714085438771, 0.28886325576674265, 0.360875507624285, 0.23046803768539392, 0.3632676650448141, 0.3990914855640686, 0.07803342445130257, 0.45966796368888263, 0.18340928756722752, 0.3845164002566914, 0.08440170271308967, 0.029422851105592507, 0.2749243515418185, 0.4202909235308886, 0.14796316828292289, 0.04395170470124199, 0.37254153546877855, 0.12086061709500096, 0.2823267530084146, 0.16070654976305943, 0.04631864787184092, 0.3015288132209861, 0.10251944922818101, 0.17996587029987854, 0.4273466674148543, 0.34785604005239845, 0.3636077413774844, 0.018653567948019423, 0.28696618107608096, 0.38782822767114644, 0.3722125618015081, 0.2346694108057059, 0.2716402040029058]}, {122: [0.016736340791533744, 0.12589283734044976, 0.02814996007958992, 0.3195054485423434, 0.4169215404028128, 0.1774077829107743, 0.1434228801811236, 0.3119588571677274, 0.35816393902816457, 0.21832131371375874, 0.3655508781101716, 0.03973291419948477, 0.31559448920841493, 0.0110580211091299, 0.1846996481806653, 0.49878662132596907, 0.09149862628416494, 0.03293492985540458, 0.10767001175889612, 0.019423191341987223, 0.12335995616854512, 0.17074344414016418]}, {123: [0.05486620680678944, 0.3624092199279083, 0.42907358210147406, 0.10901391470890831, 0.15796567383899263, 0.22975194119727005, 0.1283260987457865, 0.22370599259424795, 0.3323565933872411, 0.18464798891851697, 0.18771159416851957, 0.2684105445861653, 0.2814788879108844, 0.44968537080190274, 0.4322327983671074, 0.35115537509451666, 0.06128438204980158, 0.07130853305618601, 0.31954988094007486, 0.23694952622681564, 0.018112171508576247, 0.3246678271690929, 0.4697280858457644, 0.4422598464428158, 0.03760213320314165, 0.010383916328562282, 0.36313921595413545, 0.18801139355710983, 0.3322778454809753, 0.4658469174852333, 0.39045062834630606, 0.18511461047152555, 0.12812349603886142, 0.4851845498761339, 0.13825440637902675, 0.10128311575990989, 0.2134042500057689, 0.11410697445888895, 0.3192974812093362, 0.3115254308475288, 0.20303806941655556, 0.4084969845373849]}, {124: [0.23101387806134632, 0.31237429915182646, 0.3574792364232009, 0.3643725075038846, 0.4138708478966304, 0.3447534554562156, 0.07098717360185303, 0.2573726927528259, 0.24654934645119864, 0.11887418706563802, 0.12537611637002433, 0.27849281996929753, 0.3020644924356374, 0.10978572921917595, 0.29200616356149733, 0.2487933675555276, 0.32239596387129865, 0.024179947841152405, 0.15750323345622053, 0.2278137599098542, 0.03162941334500868, 0.3890518463511218, 0.13886321531152057, 0.2533985869381058, 0.1809177156238354, 0.03686539338361372, 0.4160005824374643, 0.04304377406730209, 0.10578247621213632, 0.07960458170329499, 0.028901561288987576, 0.3346986740634864, 0.47862074639451724, 0.018653567948019423, 0.03293492985540458, 0.07702957969111734, 0.4873952127809795, 0.31512424506947523, 0.03743702228003287, 0.12004431949897809, 0.20081976833693027]}, {125: [0.035121922864124855, 0.33112802074516134, 0.4676294908813835, 0.14503595799153102, 0.31006577305828786, 0.06303263041915519, 0.1540122242353279, 0.20094076674784012, 0.11898594328924705, 0.03614470305848394, 0.04870983887827274, 0.24138178791124654, 0.42296543823806976, 0.48251607518688755, 0.059944503601138344, 0.31196512272304355, 0.13680657470867996, 0.04823543748870551, 0.43494994250598384, 0.39233745250443786, 0.3222812592677414, 0.10767001175889612, 0.07702957969111734, 0.08566243362058235, 0.349508784847517, 0.4001616265348594, 0.027892012895625484]}, {126: [0.06789070113231943, 0.15896721654301393, 0.48374399569242854, 0.25459740892159954, 0.3965886183302467, 0.43907293401392244, 0.4457038084139717, 0.3259320813787203, 0.3818544087465926, 0.3708097620115126, 0.2949293943322232, 0.33136455572770673, 0.05200536880151907, 0.3074179555836837, 0.417574048768962, 0.16346899737951504, 0.16124892700482774, 0.38633880833411394, 0.35185073006240675, 0.3623652033249797, 0.0924788265085218, 0.08900329766068871, 0.34956915065943284]}, {127: [0.18877111448731232, 0.37383381694588114, 0.28280465146831657, 0.4315252942756863, 0.24305921874305259, 0.45279753601380446, 0.42330206112468305, 0.37848383379808437, 0.2505567936254328, 0.03066239248503988, 0.035170975880628896, 0.4461459591047101, 0.152247665909523, 0.36684014572812507, 0.32174584368144565, 0.2454038724427834, 0.1719439222097804]}, {128: [0.17661602937865384, 0.1429405234006914, 0.4450375188698876, 0.4859114844126379, 0.4999848894031991, 0.3431945080893133, 0.2494383597091705, 0.051823317612204045, 0.3514142734137262, 0.46672981861723595, 0.05124520621672912, 0.021396630091986668, 0.030392797694970386, 0.20064775121464107, 0.2630213316408093, 0.20449865142735313, 0.24470439946400424, 0.476622340362835, 0.4190339959197261, 0.13749369661557376, 0.031497716516861396, 0.09626286480019908, 0.37114855852158657, 0.25218829675619503, 0.4110000516772514, 0.4557972121863775, 0.20482651119310535, 0.4618313013023875, 0.4750560386121384, 0.05214817588307663, 0.294812229877797, 0.48170170669043677, 0.4563049391562618, 0.47072630521048253, 0.4851845498761339, 0.0714579536562967, 0.38545508749907076, 0.3159866178648224, 0.30715747376249736, 0.15192690424013322, 0.27951601684630845, 0.3327799466208573, 0.1889299122073359, 0.418652634678771]}, {129: [0.14622424897153286, 0.01878147716159373, 0.33662931580536426, 0.2355532163733297, 0.1975313219277518, 0.3914928760626055, 0.43546733961641937, 0.23140698170821394, 0.08564160818210964, 0.11654700900174964, 0.4740173275062174, 0.2083970806063743, 0.32677644284555796, 0.4839650597777403, 0.13383208505322708, 0.41656028149358737, 0.23260504254279613, 0.44853560989128416, 0.48184715227133, 0.31019724196558385, 0.14186021520522663, 0.4893094611461959, 0.29748010655134294, 0.06772808184281087, 0.2234825369285881, 0.13068066320790572, 0.32770853953512435, 0.011467300114567203, 0.12263442233088773, 0.2631088774342707, 0.47265999932666425, 0.15515132174554047, 0.29373520427025424, 0.3487014947181638, 0.3906830435285852, 0.07325249573473669, 0.47952749396040195, 0.09059420657622197, 0.3855575074855577, 0.26609791706621466, 0.40901282182182197, 0.011981873012494093, 0.20864267840530648, 0.21421016008153326, 0.28696618107608096, 0.4873952127809795, 0.20968412702154504, 0.12273398569683003, 0.24936799937338672, 0.4040213949286888, 0.4332477921265492]}, {130: [0.14370241541059048, 0.25658464360262634, 0.26797805457446, 0.21888775718545017, 0.21470951454972131, 0.27161966802962645, 0.09700950392601082, 0.28083018813020444, 0.2214874459387174, 0.4691448612418275, 0.21821718880691865, 0.32273411731248514, 0.17735448754697591, 0.3208716399827193, 0.010055963944610169, 0.0551663220251144, 0.13696708990836948, 0.2640540817953849, 0.28626068879780087, 0.07418498785537853, 0.2188568596847411, 0.014110542034861395, 0.3916154236105165, 0.14322117762063036, 0.3770672233090949, 0.3910417607778156, 0.13513115078404292, 0.452037744217341, 0.19394362832909018, 0.4386081618126815, 0.32159893269087436, 0.27273897289813764, 0.18272288911663181, 0.2755370869353887, 0.10792520595963095, 0.16300746647934183, 0.13825440637902675, 0.0714579536562967, 0.3368417230416709, 0.046464313054234374, 0.4371646738631847, 0.39059909197118015, 0.32110703864776347]}, {131: [0.46412301814216916, 0.48237686059909635, 0.29313524970510807, 0.190557708059944, 0.13789658054322973, 0.2216109362088985, 0.09604978802974462, 0.09103387189904377, 0.32418506802719926, 0.4780331850856613, 0.06454537185487874, 0.16596411067017125, 0.43406659366648415, 0.4100427912961746]}, {132: [0.15372636866191902, 0.20017849014498446, 0.275850556050352, 0.3352723516227326, 0.08407368379287217, 0.1984380541962394, 0.2547529761409121, 0.14684196143455275, 0.4092196245722526, 0.3305335511633175, 0.3194882380689966, 0.14800225657659705, 0.2593352905095617, 0.2115581169402555, 0.0639244015221837, 0.4410318355202143, 0.462033279994579, 0.21691313665284728, 0.010443796656727455, 0.41130054443482333, 0.19277456909369517, 0.20443652557987368, 0.027978580648670093, 0.013448177897496305, 0.2556197753279599]}, {133: [0.19253546818532252, 0.10102923763398486, 0.1678479627331384, 0.39943853829986076, 0.06370749233860151, 0.4635502183031158, 0.3691680364766551, 0.03859273054677015, 0.3744904665729726, 0.22383336632403938, 0.4116880013919364, 0.019399197907150056, 0.1104666313105167, 0.41415101256943376, 0.43426419200625854, 0.11380958406693364, 0.2207139554858112, 0.37348844119135505, 0.19238124613125485, 0.11550057593275498, 0.18203095340488795, 0.38545508749907076, 0.19277456909369517, 0.14316851113694296, 0.2820125365126296, 0.4327996933461312, 0.07280904843831004, 0.3928624963805054, 0.27398054473167044]}, {134: [0.48101904940622986, 0.1590257375137688, 0.1113975615973698, 0.44943459792019813, 0.3578136610541698, 0.3978162080020773, 0.4525227383675047, 0.38364335026277063, 0.3293794725501995, 0.11360505688357903, 0.12097579644704282, 0.07635145264945997, 0.35783630184835336, 0.16651387124146977, 0.12381099330597145, 0.20344598353349408, 0.13858374374522775, 0.3718413551710078, 0.344793719132215, 0.035610452386464875, 0.03435586256016587, 0.4324703815946719, 0.24916805828793587, 0.3831059019249028, 0.42939540925046327, 0.05654916655370823, 0.00825526641478913, 0.10128311575990989, 0.3159866178648224, 0.20443652557987368, 0.14316851113694296, 0.2653477873954396, 0.07400485171449911, 0.20129094329792785, 0.31326175398508205, 0.3699438070284906]}, {135: [0.1460719877589538, 0.06137200100238771, 0.4493131614968864, 0.2760617141775018, 0.4565697607670497, 0.46682026975251556, 0.11418702375811918, 0.4794549749714473, 0.04226777025258022, 0.4929015177209034, 0.3412345628609883, 0.3048671362919616, 0.22418027825065712, 0.3321790210290101, 0.39399296381479465, 0.2569026506441323, 0.0203320793247862, 0.2837148062486474, 0.2993133736162872, 0.12052113525957275, 0.26945783859381744, 0.056076189498481366, 0.37188753873500824, 0.027978580648670093, 0.2820125365126296, 0.2653477873954396, 0.2761142990748745, 0.0834998484048759, 0.1252135959614573]}, {136: [0.10514652127492408, 0.20755315212980185, 0.05874762681257517, 0.18388506555118467, 0.279836647679072, 0.40993203330994554, 0.2193849514623848, 0.18484715460845613, 0.037246860436740636, 0.08317191171416105, 0.4945747959727699, 0.38028069744896553, 0.039665108742022226, 0.14058012888350513, 0.445728484578769, 0.02555621816505327, 0.07506327221246445, 0.25549007005433555, 0.32174584368144565, 0.13766730261780546, 0.0876170306805969]}, {137: [0.4294485448577695, 0.4288604276103516, 0.3973498262707654, 0.47409977141273196, 0.25120623362681205, 0.01814563065574437, 0.49179621206755764, 0.26235332866189054, 0.2308805891180672, 0.19418859046859505, 0.3691609838439711, 0.009376542023140866, 0.1926246271429901, 0.0738722781903507, 0.2879760338021695, 0.15790434051261526, 0.1279425975542211, 0.04212053244896519, 0.20885965195295708, 0.44460802916712805, 0.23494881729346484, 0.3795291723723926, 0.03716455647450956, 0.40386104105053255, 0.3983478093289482, 0.17096403854986664, 0.04094143341653589, 0.37181149893029897, 0.09885363640973044, 0.19668639115197672, 0.13903613507233914, 0.4912576741474083, 0.1896297090801955, 0.1773205832379574, 0.2134042500057689, 0.30715747376249736, 0.3368417230416709, 0.07400485171449911, 0.23964919884658442, 0.28785863528350963, 0.1696510575283362, 0.2762863048314125, 0.1816397136005209]}, {138: [0.3774089007917596, 0.4241872631358591, 0.12919299940357465, 0.03302086803619808, 0.050890259546219174, 0.009147573774575979, 0.14458505001723365, 0.2665877035066464, 0.011313450798284164, 0.24749606496868626, 0.07352906590772723, 0.2640576779197329, 0.11989319781755614, 0.07711402918477461, 0.4955573733415193, 0.17844694105133707, 0.062303974227245984, 0.16915030233273987, 0.20780597470428985, 0.4370011818471621, 0.021242437724359964, 0.1958552188587448, 0.06778300208722143, 0.3682482903748606, 0.1360081196413674, 0.1647714752032131, 0.1178064741417787, 0.01822041251972184, 0.3253469894380133, 0.03596064194338722, 0.2774151153754537, 0.210612263362443, 0.08714043043826503, 0.14484094929421554, 0.46619091619528885, 0.19004739516503522, 0.3334509171963015, 0.12297501992316029, 0.17677438617597208, 0.4277033867395933, 0.11410697445888895, 0.15192690424013322, 0.20968412702154504, 0.046464313054234374, 0.4327996933461312, 0.20129094329792785, 0.23964919884658442, 0.3423118605018619, 0.26286119321503776, 0.02023360545134134]}, {139: [0.2592098263844753, 0.44866458794718833, 0.3562918497551296, 0.4422450762250062, 0.16250551116207346, 0.4871183410295017, 0.47069508131889226, 0.08946564899305964, 0.1346379070725402, 0.47750921830561854, 0.28644316896578226, 0.0320245433186912, 0.1299919968765323, 0.13185856306498356, 0.19400945733494013, 0.009377973826968367, 0.2713824347021271, 0.377384731290462, 0.06618844286697201, 0.47794657316441036, 0.24191696160226195, 0.2720274147716163, 0.2799862404589124, 0.03827259507087244, 0.17309893972288315, 0.33706287108832, 0.08129902904042952, 0.2871162881433117, 0.16867179705470958, 0.3192974812093362, 0.2454038724427834, 0.27951601684630845, 0.4371646738631847, 0.13766730261780546, 0.28785863528350963, 0.3423118605018619, 0.2389849049477566, 0.44642386565582703]}, {140: [0.23316113661930649, 0.3181602302087252, 0.3356767993644799, 0.37661569795950334, 0.2663217418912992, 0.23453152138241273, 0.35586372187233406, 0.18397492853669473, 0.28512224792248886, 0.26114463903804574, 0.23994381127905873, 0.383844895750877, 0.25919119451100525, 0.28338265052370537, 0.19313840637045854, 0.24388220805996896, 0.23909972535541646, 0.48586053266690976, 0.3909437959431107, 0.4276153634754143, 0.15886679497701683, 0.11846158155717168, 0.04484142741959274, 0.40210108752839113, 0.16392432175792382, 0.2911340455902096, 0.01232010348292345, 0.007619175623352459, 0.04059312507809132, 0.3946864830975403, 0.007058140622781095, 0.044695542284989065, 0.4739712118745826, 0.24716024403416248, 0.1941946353924694, 0.1755199118687727, 0.17524016027297384, 0.423895299378962, 0.06145593789045234, 0.38782822767114644, 0.31512424506947523, 0.08566243362058235, 0.12273398569683003, 0.23892745869121046, 0.22742692342281645, 0.31686913258289895]}, {141: [0.05860739379100888, 0.4497919291418153, 0.3870779441479346, 0.009367649297968517, 0.26180986270064355, 0.19356224854091286, 0.30193431500534607, 0.3420928346095766, 0.12904825469156067, 0.34054601592023315, 0.4301190465427289, 0.1161614130984846, 0.3122140942015609, 0.4901143758866944, 0.2507764192317271, 0.24525940153516257, 0.4903511852059802, 0.36716852390158594, 0.09640971967371481, 0.4086424999388256, 0.2341947905277958, 0.3475474100152902, 0.14288521825117007, 0.17176437405306244, 0.17559995936662465, 0.2251536514898268, 0.43069703388970393, 0.04900773258275237, 0.22973544185676364, 0.4575134625387135, 0.16220711141494903, 0.3006630412551885, 0.15786720811105504, 0.3722125618015081, 0.019423191341987223, 0.03743702228003287, 0.349508784847517, 0.24936799937338672, 0.23892745869121046, 0.1468918966612185, 0.24726628112337934]}, {142: [0.3326176126868259, 0.4187912874049978, 0.43880559473977154, 0.3759742772131148, 0.4508212061543878, 0.039638342947011296, 0.28233348744094955, 0.3636216949214811, 0.1724890318979495, 0.44686419094895435, 0.22962702317763528, 0.260643928024475, 0.3402644390420233, 0.021553171363815626, 0.3893999802659801, 0.4591489263494436, 0.2836009238376811, 0.1972097202315607, 0.1505332221274006, 0.10538634160383675, 0.4947975256175594, 0.462654575098815, 0.3837707808432912, 0.43086777430863576, 0.4274951143561243, 0.04510007201336408, 0.2506351824427864, 0.20217506275885633, 0.2483443958858741, 0.1308997251815598, 0.49262526568963205, 0.21846730250631008, 0.3115254308475288, 0.1719439222097804, 0.3327799466208573, 0.39059909197118015, 0.0876170306805969, 0.1696510575283362, 0.26286119321503776, 0.2389849049477566]}, {143: [0.41311694452046166, 0.03807257765211858, 0.12756769163190473, 0.38584459328648113, 0.24506115512076443, 0.06276958158533796, 0.05174244449848675, 0.12639004568669343, 0.4787611687857969, 0.09013074264165288, 0.08118761699063959, 0.06209109543462854, 0.01641337714681468, 0.167031087831933, 0.09370357916580285, 0.42291252652447575, 0.2521438431041685, 0.3515543672948882, 0.2109643995156386, 0.1666713174602089, 0.025644254189599036, 0.3869150229084706, 0.08532961161328323, 0.10432027996470539, 0.11187156836079548, 0.3504501630217032, 0.16862980450639564, 0.19640160538778462, 0.4591503096688342, 0.30191421010711605, 0.17161485777601915, 0.16351034130490172, 0.493755619276425, 0.09599681370194801, 0.4454495457856421, 0.25878495992379036, 0.03204589272482461, 0.12123097549151274, 0.3940487049827094, 0.2346694108057059, 0.12335995616854512, 0.12004431949897809, 0.4001616265348594, 0.4040213949286888, 0.22742692342281645, 0.1468918966612185]}, {144: [0.05053605830222052, 0.23104574647280463, 0.41834503488815233, 0.13549331753470317, 0.1057079950480373, 0.034623721010272335, 0.14841313902177156, 0.33928679945388285, 0.1731808348027094, 0.04785968263848761, 0.45781470226342047, 0.38128604953237, 0.3102374000400292, 0.3078708326515195, 0.1422729812982182, 0.30556024621606903, 0.20033717868830914, 0.20874043057180103, 0.04783167797911114, 0.2485888840718702, 0.27865235780270037, 0.4688766083686564, 0.247644823428248, 0.3540495424968957, 0.3346648519826153, 0.20303806941655556, 0.1889299122073359, 0.32110703864776347, 0.2762863048314125, 0.44642386565582703, 0.31141340267778295]}, {145: [0.23339564530588264, 0.0356552712692344, 0.04085566199556612, 0.36407066406356925, 0.4302968956479457, 0.4333358838041942, 0.08612014850063765, 0.45092997002508184, 0.029519968172669886, 0.013187001170020918, 0.38194515512830973, 0.18113245817555368, 0.17823081680274266, 0.08900329766068871, 0.013448177897496305, 0.07280904843831004, 0.2761142990748745, 0.015568235286631982]}, {146: [0.1534916278691536, 0.4568734235126203, 0.05466897005986082, 0.4696554344321243, 0.40944407525134363, 0.2692971422957283, 0.19522897787588767, 0.28663199161530273, 0.23413789572669652, 0.439061599468747, 0.05541610466522562, 0.43406659366648415, 0.09138484569835759]}, {147: [0.4821732675281877, 0.11838978569307024, 0.27685701301192467, 0.07973735900973622, 0.22240515387285176, 0.025179644284534897, 0.169156546603214, 0.3199433980065849, 0.35731080228440815, 0.3210172062283795, 0.2669107438034656, 0.4512554373012867, 0.29030557129554935, 0.4486177233654456, 0.3388153490605671, 0.25333248362008565, 0.09153881640124906, 0.41225142613604615, 0.10539824726388702, 0.4559737863428964, 0.3882192720475113, 0.16184063763868595, 0.15698831054690277, 0.32188508579279806, 0.2768374188970272, 0.10401156174562487, 0.41968726193937633, 0.33606610689853533, 0.30494142943432423, 0.13212487074717216, 0.2895313745897621, 0.3033706788562167, 0.46853809811414326, 0.1172749441867803, 0.3934901163886654, 0.2351244981487789, 0.4984773106441788, 0.39570391557193985, 0.2716402040029058, 0.4084969845373849, 0.418652634678771, 0.4332477921265492, 0.3928624963805054, 0.31326175398508205, 0.0834998484048759, 0.1816397136005209, 0.02023360545134134, 0.31686913258289895]}, {148: [0.10400013699167643, 0.39966181198990847, 0.4883046339925521, 0.2638411051895765, 0.3089271687301164, 0.011229136722734512, 0.0959352246459031, 0.2771505675490378, 0.32207775139949435, 0.1878328899771412, 0.07585977928646426, 0.28146994672730763, 0.47353969785810923, 0.20054522517270934, 0.4856787514488321, 0.4100427912961746, 0.09138484569835759]}, {149: [0.3354069759305418, 0.20830902007541852, 0.1719748745617381, 0.1823504240324546, 0.18222208791163275, 0.025108515698675005, 0.24897531721830501, 0.1804179683069329, 0.36202091862774866, 0.2827368611107888, 0.13392783630693494, 0.24105405327335394, 0.3119891606601892, 0.46474037155654735, 0.16307032086648665, 0.058328378052035834, 0.368001086431923, 0.3293243150427708, 0.3618231752048561, 0.402380557786164, 0.31089930560216317, 0.12961683201403607, 0.1081441918363737, 0.13002520088295066, 0.019153993830215987, 0.21908856751319084, 0.34956915065943284, 0.2556197753279599, 0.27398054473167044, 0.3699438070284906, 0.1252135959614573, 0.015568235286631982]}, {150: [0.21034408497365298, 0.46768999672039613, 0.31007704172404693, 0.3020929065939134, 0.28167420847604496, 0.042411008368220315, 0.06164337027887534, 0.2771229227156673, 0.2503402501842329, 0.1900353849121761, 0.08895510727862499, 0.013069986657597732, 0.17074344414016418, 0.20081976833693027, 0.027892012895625484, 0.24726628112337934]}, {151: [0.032432109298240364, 0.38464409305515435, 0.010940845265898669, 0.010072990461122977, 0.17550483445099163, 0.24978089198353226, 0.17576215537633688, 0.2636671301088048, 0.024732991830771822, 0.31141340267778295]}]\n"
     ]
    }
   ],
   "source": [
    "%run ACO(2).ipynb"
   ]
  },
  {
   "cell_type": "markdown",
   "id": "a68415e8-6461-4db5-bcc3-a6b421fbc109",
   "metadata": {},
   "source": [
    "## Conclusion"
   ]
  },
  {
   "cell_type": "code",
   "execution_count": null,
   "id": "01393b81-fd0a-46b6-a55a-70ef84cd4e16",
   "metadata": {},
   "outputs": [],
   "source": []
  },
  {
   "cell_type": "markdown",
   "id": "eacdd679-79a9-4e51-884d-a2babf0add40",
   "metadata": {},
   "source": [
    "## References"
   ]
  },
  {
   "cell_type": "markdown",
   "id": "4aec8a61-5383-468c-8030-860b9cc6bbba",
   "metadata": {},
   "source": [
    "Rosenberg, M., 2024. The Distance Between Degrees of Latitude and Longitude. Available from: https://www.thoughtco.com/degree-of-latitude-and-longitude-distance-4070616 [Accessed 6th January 2024] <br>\n",
    "Scripts, M. T., 2024. Calculate distance, bearing and more between Latitude/Longitude points. Available from: https://www.movable-type.co.uk/scripts/latlong.html [Accessed 6th January 2024] <br>\n",
    "Story, R., 2013. Folium. Available from: https://python-visualization.github.io/folium/latest/ [Accessed 6th January 2024] <br>\n"
   ]
  },
  {
   "cell_type": "markdown",
   "id": "a242f909-878e-4fd9-97b9-86ec61cd51be",
   "metadata": {},
   "source": [
    "## Appendix"
   ]
  },
  {
   "cell_type": "markdown",
   "id": "7ac6ed65-ea29-47ad-841f-2497a35a76d0",
   "metadata": {},
   "source": [
    "![Alt](https://github.com/samariwa/search-and-optimization-projects/blob/main/assessment/images/appendix%20a.png?raw=true)<br>\n",
    "*APPENDIX A: Map with the best path layer toggled*"
   ]
  },
  {
   "cell_type": "markdown",
   "id": "1ef82287-2615-4c95-b0fe-985adb358e1b",
   "metadata": {},
   "source": [
    "![Alt](https://github.com/samariwa/search-and-optimization-projects/blob/main/assessment/images/appendix%20b.png?raw=true)<br>\n",
    "*APPENDIX B: Map with possible routes only toggled*"
   ]
  },
  {
   "cell_type": "code",
   "execution_count": null,
   "id": "a8217f5d-d1dd-4cd2-acf9-cfead1d5cfd4",
   "metadata": {},
   "outputs": [],
   "source": []
  }
 ],
 "metadata": {
  "kernelspec": {
   "display_name": "base",
   "language": "python",
   "name": "base"
  },
  "language_info": {
   "codemirror_mode": {
    "name": "ipython",
    "version": 3
   },
   "file_extension": ".py",
   "mimetype": "text/x-python",
   "name": "python",
   "nbconvert_exporter": "python",
   "pygments_lexer": "ipython3",
   "version": "3.9.12"
  }
 },
 "nbformat": 4,
 "nbformat_minor": 5
}
